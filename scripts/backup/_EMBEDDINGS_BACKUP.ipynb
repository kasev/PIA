{
 "cells": [
  {
   "cell_type": "code",
   "execution_count": 147,
   "metadata": {
    "colab": {
     "base_uri": "https://localhost:8080/",
     "height": 390
    },
    "colab_type": "code",
    "id": "YLcAu3mXJOpL",
    "outputId": "257224dd-3225-4e02-903e-95ae1671b033"
   },
   "outputs": [],
   "source": [
    "### PREREQUISTIES\n",
    "### (many used only in one notebook...)\n",
    "\n",
    "import os\n",
    "import pandas as pd\n",
    "import numpy as np\n",
    "import logging ### to monitor the code\n",
    "from bs4 import BeautifulSoup\n",
    "import pickle\n",
    "import math\n",
    "import random\n",
    "import sys\n",
    "import csv\n",
    "import unicodedata\n",
    "import requests\n",
    "import re\n",
    "\n",
    "import nltk\n",
    "from nltk.collocations import *\n",
    "\n",
    "import matplotlib.pyplot as plt\n",
    "import seaborn as sns\n",
    "\n",
    "from scipy import stats\n",
    "\n",
    "import xml.etree.cElementTree as ET\n",
    "from urllib.request import urlopen\n",
    "\n",
    "import gspread\n",
    "from gspread_dataframe import get_as_dataframe, set_with_dataframe\n",
    "#from google.colab import auth\n",
    "#from oauth2client.client import GoogleCredentials\n",
    "from google.oauth2 import service_account # based on google-auth library\n",
    "import sddk"
   ]
  },
  {
   "cell_type": "code",
   "execution_count": 148,
   "metadata": {},
   "outputs": [],
   "source": [
    "# gensim parts\n",
    "from gensim import corpora\n",
    "from gensim import models\n",
    "from gensim.models import CoherenceModel, LdaModel, LsiModel, HdpModel\n",
    "from gensim.models.wrappers import LdaMallet"
   ]
  },
  {
   "cell_type": "code",
   "execution_count": 3,
   "metadata": {
    "colab": {
     "base_uri": "https://localhost:8080/",
     "height": 127
    },
    "colab_type": "code",
    "id": "W2TxLXhwp_zD",
    "outputId": "a39f89e7-c18c-4fc1-aae8-6cf288fef849"
   },
   "outputs": [],
   "source": [
    "#!pip install anda\n",
    "#from anda import gr ### the import takes substantial time, since it import a +600MB file containing ancient Greek dictionary"
   ]
  },
  {
   "cell_type": "code",
   "execution_count": 149,
   "metadata": {
    "colab": {
     "base_uri": "https://localhost:8080/",
     "height": 67
    },
    "colab_type": "code",
    "id": "Vk65k519TvBW",
    "outputId": "c0784c15-d327-49c5-9807-f0c957b4aef5"
   },
   "outputs": [
    {
     "name": "stdout",
     "output_type": "stream",
     "text": [
      "sciencedata.dk username (format '123456@au.dk'): 648597@au.dk\n",
      "sciencedata.dk password: ········\n",
      "endpoint variable has been configured to: https://sciencedata.dk/files/\n"
     ]
    }
   ],
   "source": [
    "### not neccessary for reading the data, just for exporting them to sciencedata.dk\n",
    "conf = sddk.configure()"
   ]
  },
  {
   "cell_type": "code",
   "execution_count": 150,
   "metadata": {},
   "outputs": [],
   "source": [
    "# to access gsheet, you need Google Service Account key json file\n",
    "# I have mine located in my personal space on sciencedata.dk, so I read it from there:\n",
    "\n",
    "# (1) read the file and parse its content\n",
    "file_data = conf[0].get(conf[1] + \"ServiceAccountsKey.json\").json()\n",
    "# (2) transform the content into crendentials object\n",
    "credentials = service_account.Credentials.from_service_account_info(file_data)\n",
    "# (3) specify your usage of the credentials\n",
    "scoped_credentials = credentials.with_scopes(['https://spreadsheets.google.com/feeds', 'https://www.googleapis.com/auth/drive'])\n",
    "# (4) use the constrained credentials for authentication of gspread package\n",
    "gc = gspread.Client(auth=scoped_credentials)\n",
    "# (5) establish connection with spreadsheets specified by their url\n",
    "PIA_data = gc.open_by_url(\"https://docs.google.com/spreadsheets/d/1KxOx7Be9fj3lDcEPgQhQ-Iqcn9p367-MMD6RMXe8rks/edit?usp=sharing\")\n",
    "PIA_overview = gc.open_by_url(\"https://docs.google.com/spreadsheets/d/1e94wyelg6dftQ4zxbq1xvwxWAI-BhcYXtclDW-YTnrw/edit?usp=sharing\")"
   ]
  },
  {
   "cell_type": "code",
   "execution_count": 151,
   "metadata": {},
   "outputs": [
    {
     "name": "stdout",
     "output_type": "stream",
     "text": [
      "reading file located in a public folder\n"
     ]
    }
   ],
   "source": [
    "publicfolder = \"31b393e2afe1ee96ce81869c7efe18cb\"\n",
    "c_hippocraticum = sddk.read_file(\"c_hippocraticum_enriched.json\", \"df\", publicfolder)"
   ]
  },
  {
   "cell_type": "code",
   "execution_count": 152,
   "metadata": {},
   "outputs": [],
   "source": [
    "words_to_remove = [\"ἢν\", \"ὁκόταν\"]\n",
    "\n",
    "c_hippocraticum[\"lemmatized_sentences_repl\"] = c_hippocraticum[\"lemmatized_sentences_repl\"].apply(lambda sentences_list:  [[word for word in sentence if word not in words_to_remove] for sentence in sentences_list])\n",
    "\n",
    "words_to_replace = {\n",
    "    \"ἔχις\" : \"ἔχω\"}\n",
    "\n",
    "for key in words_to_replace.keys():\n",
    "    c_hippocraticum[\"lemmatized_sentences_repl\"] = c_hippocraticum[\"lemmatized_sentences_repl\"].apply(lambda sentences_list: [[corrections[key] if x == key else x for x in sentence] for sentence in sentences_list])"
   ]
  },
  {
   "cell_type": "markdown",
   "metadata": {},
   "source": [
    "# Corpora"
   ]
  },
  {
   "cell_type": "code",
   "execution_count": 153,
   "metadata": {},
   "outputs": [
    {
     "data": {
      "text/plain": [
       "Index(['filename', 'author', 'title', 'string', 'wordcount', 'author_id',\n",
       "       'doc_id', 'raw_date', 'date_avr', 'date_probs', 'date_manual',\n",
       "       'provenience', 'sentences', 'lemmata', 'lemmata_wordcount',\n",
       "       'lemmatized_sentences', 'n_sentences', 'lemmata_repl',\n",
       "       'lemmatized_sentences_repl', 'λύπ*', 'ἄλγ*', 'ὀδύν*', 'πόνο*',\n",
       "       'terms_sum', 'λύπ*_TF', 'ἄλγ*_TF', 'ὀδύν*_TF', 'πόνο*_TF', 'TF_sum',\n",
       "       'work_cat_jouanna', 'work_cat_craik', 'work_cat_linka'],\n",
       "      dtype='object')"
      ]
     },
     "execution_count": 153,
     "metadata": {},
     "output_type": "execute_result"
    }
   ],
   "source": [
    "c_hippocraticum.columns"
   ]
  },
  {
   "cell_type": "code",
   "execution_count": 154,
   "metadata": {},
   "outputs": [],
   "source": [
    "def get_flat_sentences(series):\n",
    "    sentences_list = [sent for doc in series.tolist() for sent in doc]\n",
    "    return sentences_list"
   ]
  },
  {
   "cell_type": "code",
   "execution_count": 155,
   "metadata": {},
   "outputs": [],
   "source": [
    "sentences_list = get_flat_sentences(c_hippocraticum[\"lemmatized_sentences_repl\"])"
   ]
  },
  {
   "cell_type": "code",
   "execution_count": 156,
   "metadata": {},
   "outputs": [],
   "source": [
    "flat_sentences = []\n",
    "for sentence in sentences_list:\n",
    "    flat_sentences.extend(sentence)"
   ]
  },
  {
   "cell_type": "code",
   "execution_count": 157,
   "metadata": {},
   "outputs": [
    {
     "name": "stdout",
     "output_type": "stream",
     "text": [
      "[['ὁπόσος', 'ἐπιχειρέω', 'ἰητρικῆς', 'λέγω', 'γράφω', 'ὑπόθεσις', 'λόγος', 'θερμός', 'ψυχρός', 'ὑγρός', 'ξηρός', 'ἐθέλω', 'βραχὺ', 'ἀρχην', 'αἰτία', 'ἄνθρωπος', 'νόσος', 'θάνατος', 'πᾶς', 'ἵημι', 'πολύς', 'λέγω', 'καταφανής', 'εἶμι', 'ἄξιος', 'μέμφομαι', 'τέχνη', 'χρέονταί', 'πᾶς', 'μέγας', 'τιμάω', 'ἀγαθοὺς', 'χειροτέχνης', 'δημιουργός'], ['εἶμι', 'δημιουργός', 'φαῦλος', 'πολύς'], ['ἰητρικη', 'ὅλοξ', 'μηδʼ', 'ἔσκεπτο', 'μηδʼ', 'εὑρίσκω', 'μηδείς', 'πᾶς', 'ὅμοιος', 'ἄπειροί', 'ἀνεπιστήμων', 'τύχη', 'πᾶς', 'κάμνω', 'διοικεῖτο'], ['ἔχω', 'τέχνη', 'πᾶς', 'δημιουργός', 'πολύς', 'ἀλλήλων', 'διαφέρω', 'χείρ', 'γνώμη', 'ἰητρικῆς'], ['ἀξιόω', 'αὐτην', 'κενός', 'ὑπόθεσις', 'δέω', 'ἀφανέα', 'ἀπορεόμενα', 'ἀνάγκη', 'ἐπιχειρέω', 'λέγω', 'ὑπόθεσις', 'χράομαι', 'οἷος', 'μετέωρος', 'γῆ'], ['εἶμι', 'λέγω', 'γιγνώσκω', 'ἔχω', 'οὔτʼ', 'λέγω', 'ἀκούω', 'δῆλος', 'ἐάω', 'ἀληθής'], ['χρῆ', 'ἀνενέγκαντα', 'οἶδα', 'σαφής'], ['ἰατρικός', 'πάλη', 'πᾶς', 'ὑπάρχω', 'ἀρχη', 'ὁδός', 'ἣν', 'πολύς', 'καλός', 'εὑρίσκω', 'πολύς', 'χρόνος', 'λοιπός', 'εὑρίσκω', 'ἱκανός', 'ἐὼν', 'εἰδὼς', 'ζητέω'], ['ἀποβαλὼν', 'ἀποδοκιμάζω', 'πᾶς', 'ἕτερος', 'ὁδός', 'ἕτερος', 'σχῆμα', 'ἐπιχειρέω', 'ζητέω', 'φημί', 'ἐξευρίσκω', 'ἐξαπατάω', 'ἐξαπατάω'], ['ἀδύνατος']]\n"
     ]
    }
   ],
   "source": [
    "print(sentences_list[:10])"
   ]
  },
  {
   "cell_type": "code",
   "execution_count": 158,
   "metadata": {},
   "outputs": [
    {
     "data": {
      "text/plain": [
       "171233"
      ]
     },
     "execution_count": 158,
     "metadata": {},
     "output_type": "execute_result"
    }
   ],
   "source": [
    "c_hippocraticum[\"lemmata_repl\"].apply(lambda x: len(x)).sum()"
   ]
  },
  {
   "cell_type": "code",
   "execution_count": 159,
   "metadata": {},
   "outputs": [],
   "source": [
    "subcorpora = {}\n",
    "for cat in c_hippocraticum[\"work_cat_linka\"].unique():\n",
    "    subcorpora[cat] = get_flat_sentences(c_hippocraticum[c_hippocraticum[\"work_cat_linka\"]==cat][\"lemmatized_sentences_repl\"])"
   ]
  },
  {
   "cell_type": "code",
   "execution_count": 160,
   "metadata": {},
   "outputs": [
    {
     "name": "stdout",
     "output_type": "stream",
     "text": [
      "Theoretical 2504\n",
      "Other 16911\n",
      "Practical 5044\n"
     ]
    }
   ],
   "source": [
    "for key in subcorpora.keys():\n",
    "    print(key, len(subcorpora[key]))"
   ]
  },
  {
   "cell_type": "code",
   "execution_count": 161,
   "metadata": {},
   "outputs": [],
   "source": [
    "#create dictionary for our list of sentences\n",
    "dictionary = corpora.Dictionary(sentences_list)"
   ]
  },
  {
   "cell_type": "markdown",
   "metadata": {},
   "source": [
    "there is a number of methods to be applied upon a dictionary object:\n",
    "see: https://radimrehurek.com/gensim/corpora/dictionary.html\n",
    "\n",
    "First of all, you can inspect it as a standard dictionary object\n"
   ]
  },
  {
   "cell_type": "code",
   "execution_count": 162,
   "metadata": {},
   "outputs": [],
   "source": [
    "# uncomment below to print the whole dictionary\n",
    "# dictionary"
   ]
  },
  {
   "cell_type": "code",
   "execution_count": 163,
   "metadata": {},
   "outputs": [
    {
     "data": {
      "text/plain": [
       "{0: 'αἰτία',\n",
       " 1: 'βραχὺ',\n",
       " 2: 'γράφω',\n",
       " 3: 'δημιουργός',\n",
       " 4: 'εἶμι',\n",
       " 5: 'θάνατος',\n",
       " 6: 'θερμός',\n",
       " 7: 'καταφανής',\n",
       " 8: 'λέγω',\n",
       " 9: 'λόγος'}"
      ]
     },
     "execution_count": 163,
     "metadata": {},
     "output_type": "execute_result"
    }
   ],
   "source": [
    "# as such, it is organized by ids\n",
    "dict(list(dictionary.items())[:10])"
   ]
  },
  {
   "cell_type": "code",
   "execution_count": 164,
   "metadata": {},
   "outputs": [
    {
     "data": {
      "text/plain": [
       "{'αἰτία': 0,\n",
       " 'βραχὺ': 1,\n",
       " 'γράφω': 2,\n",
       " 'δημιουργός': 3,\n",
       " 'εἶμι': 4,\n",
       " 'θάνατος': 5,\n",
       " 'θερμός': 6,\n",
       " 'καταφανής': 7,\n",
       " 'λέγω': 8,\n",
       " 'λόγος': 9}"
      ]
     },
     "execution_count": 164,
     "metadata": {},
     "output_type": "execute_result"
    }
   ],
   "source": [
    "# but you can access it reveresly by applying token2id method\n",
    "dict(list(dictionary.token2id.items())[:10])"
   ]
  },
  {
   "cell_type": "code",
   "execution_count": 165,
   "metadata": {},
   "outputs": [
    {
     "data": {
      "text/plain": [
       "80"
      ]
     },
     "execution_count": 165,
     "metadata": {},
     "output_type": "execute_result"
    }
   ],
   "source": [
    "# collection_frequencies\n",
    "dictionary.cfs[5] # how many instances of word with id 5 (= \"θάνατος\")"
   ]
  },
  {
   "cell_type": "code",
   "execution_count": 166,
   "metadata": {},
   "outputs": [
    {
     "data": {
      "text/plain": [
       "80"
      ]
     },
     "execution_count": 166,
     "metadata": {},
     "output_type": "execute_result"
    }
   ],
   "source": [
    "dictionary.dfs[5] # how many documents contain the word with id 5 (= \"θάνατος\")"
   ]
  },
  {
   "cell_type": "code",
   "execution_count": 167,
   "metadata": {},
   "outputs": [
    {
     "data": {
      "text/plain": [
       "167358"
      ]
     },
     "execution_count": 167,
     "metadata": {},
     "output_type": "execute_result"
    }
   ],
   "source": [
    "dictionary.num_pos"
   ]
  },
  {
   "cell_type": "code",
   "execution_count": 168,
   "metadata": {},
   "outputs": [
    {
     "data": {
      "text/plain": [
       "25059"
      ]
     },
     "execution_count": 168,
     "metadata": {},
     "output_type": "execute_result"
    }
   ],
   "source": [
    "len(dictionary.keys())"
   ]
  },
  {
   "cell_type": "code",
   "execution_count": 169,
   "metadata": {},
   "outputs": [
    {
     "data": {
      "text/plain": [
       "['αὐτη',\n",
       " 'ἀνάγκη',\n",
       " 'ἰητρικην',\n",
       " 'ποιέω',\n",
       " 'ζητηθῆναί',\n",
       " 'εὑρίσκω',\n",
       " 'ἄνθρωπος',\n",
       " 'κάμνω',\n",
       " 'ταὐτάζω',\n",
       " 'προσφερομένοισι',\n",
       " 'συμφέρω',\n",
       " 'συμφέρω']"
      ]
     },
     "execution_count": 169,
     "metadata": {},
     "output_type": "execute_result"
    }
   ],
   "source": [
    "sent = sentences_list[20]\n",
    "sent"
   ]
  },
  {
   "cell_type": "code",
   "execution_count": 170,
   "metadata": {},
   "outputs": [
    {
     "data": {
      "text/plain": [
       "[(23, 1),\n",
       " (34, 1),\n",
       " (35, 1),\n",
       " (57, 1),\n",
       " (127, 1),\n",
       " (128, 2),\n",
       " (131, 1),\n",
       " (132, 1),\n",
       " (133, 1),\n",
       " (134, 1),\n",
       " (135, 1)]"
      ]
     },
     "execution_count": 170,
     "metadata": {},
     "output_type": "execute_result"
    }
   ],
   "source": [
    "# doc2bow = document to (term, tf) tuples, i.e. bag-of-words\n",
    "dictionary.doc2bow(sent)"
   ]
  },
  {
   "cell_type": "code",
   "execution_count": 171,
   "metadata": {},
   "outputs": [],
   "source": [
    "# build bag-of-word corpus for all sentences \n",
    "corpus = [dictionary.doc2bow(sent) for sent in sentences_list]"
   ]
  },
  {
   "cell_type": "code",
   "execution_count": 172,
   "metadata": {},
   "outputs": [
    {
     "name": "stdout",
     "output_type": "stream",
     "text": [
      "[[(0, 1), (1, 1), (2, 1), (3, 1), (4, 1), (5, 1), (6, 1), (7, 1), (8, 2), (9, 1), (10, 1), (11, 1), (12, 1), (13, 1), (14, 1), (15, 2), (16, 1), (17, 1), (18, 1), (19, 1), (20, 1), (21, 1), (22, 1), (23, 1), (24, 1), (25, 1), (26, 1), (27, 1), (28, 1), (29, 1), (30, 1), (31, 1)], [(3, 1), (4, 1), (14, 1), (32, 1)], [(15, 2), (33, 1), (34, 1), (35, 1), (36, 2), (37, 1), (38, 1), (39, 1), (40, 1), (41, 1), (42, 1), (43, 1), (44, 1)], [(3, 1), (14, 1), (15, 1), (16, 1), (27, 1), (45, 1), (46, 1), (47, 1), (48, 1), (49, 1)], [(8, 1), (26, 1), (31, 2), (50, 1), (51, 1), (52, 1), (53, 1), (54, 1), (55, 1), (56, 1), (57, 1), (58, 1), (59, 1), (60, 1)]]\n"
     ]
    }
   ],
   "source": [
    "# look at first five sentences:\n",
    "print(corpus[:5])"
   ]
  },
  {
   "cell_type": "markdown",
   "metadata": {},
   "source": [
    "# TfIdf with Gensim"
   ]
  },
  {
   "cell_type": "code",
   "execution_count": 173,
   "metadata": {},
   "outputs": [],
   "source": [
    "# tfidf\n",
    "from gensim import models\n",
    "tfidf = models.TfidfModel(corpus)"
   ]
  },
  {
   "cell_type": "code",
   "execution_count": 174,
   "metadata": {},
   "outputs": [
    {
     "name": "stdout",
     "output_type": "stream",
     "text": [
      "[(0, 0.1555546501952692), (1, 0.2125392102552277), (2, 0.14848529441051223), (3, 0.22225540794565096), (4, 0.10264228523388086), (5, 0.15589305260387784), (6, 0.10264228523388086), (7, 0.20149391757656823), (8, 0.2906112067353352), (9, 0.11787475240586262), (10, 0.10397620207248393), (11, 0.2154093406534881), (12, 0.09303236591175755), (13, 0.14045464728907694), (14, 0.08429582005066466), (15, 0.16718400676771392), (16, 0.1396926103665917), (17, 0.275264031111707), (18, 0.23749992601080708), (19, 0.275264031111707), (20, 0.11380838096450957), (21, 0.24533668588259758), (22, 0.1698084756807977), (23, 0.10077892357008249), (24, 0.17410245261873983), (25, 0.14084381167298515), (26, 0.19808434294520663), (27, 0.18757849449964836), (28, 0.12665539088532585), (29, 0.10428171230540707), (30, 0.1088417514909795), (31, 0.22645463333214763)]\n",
      "[(3, 0.6890894435164647), (4, 0.31823619441633133), (14, 0.2613540892722885), (32, 0.5963015205567)]\n",
      "[(15, 0.2042900925021272), (33, 0.3363582167069986), (34, 0.18477273700953217), (35, 0.21527342322476026), (36, 0.5264378450872446), (37, 0.1633151843747559), (38, 0.18548100047978427), (39, 0.31328533828555394), (40, 0.3363582167069986), (41, 0.3363582167069986), (42, 0.23663889522743647), (43, 0.15563089772162744), (44, 0.14762416877461385)]\n",
      "[(3, 0.4884821665869858), (14, 0.18526885439226087), (15, 0.18372197689011108), (16, 0.3070222209609887), (27, 0.41226780596816603), (45, 0.32692008449968174), (46, 0.34042411808743206), (47, 0.26369262999953635), (48, 0.3280826743684897), (49, 0.17071059007247233)]\n",
      "[(8, 0.18701699622885426), (26, 0.25494638857004887), (31, 0.5829212958942016), (50, 0.18416494886506307), (51, 0.17768141426445921), (52, 0.17745448239623912), (53, 0.22674439293958815), (54, 0.21783072763396413), (55, 0.1462916941256862), (56, 0.14317905619803462), (57, 0.16256641698157262), (58, 0.2978529969274153), (59, 0.3542812601527801), (60, 0.2860559938933721)]\n"
     ]
    }
   ],
   "source": [
    "for sentence in tfidf[corpus][:5]:\n",
    "    print(sentence)"
   ]
  },
  {
   "cell_type": "markdown",
   "metadata": {},
   "source": [
    "# LSI model"
   ]
  },
  {
   "cell_type": "code",
   "execution_count": 175,
   "metadata": {},
   "outputs": [],
   "source": [
    "num_topics = 10\n",
    "lsimodel = LsiModel(corpus=corpus, num_topics=num_topics, id2word=dictionary)"
   ]
  },
  {
   "cell_type": "code",
   "execution_count": 104,
   "metadata": {},
   "outputs": [
    {
     "data": {
      "text/plain": [
       "[('γίγνομαι', 0.7277635755289887),\n",
       " ('ἔχω', 0.22411008311265845),\n",
       " ('σῶμα', 0.2101362852726716),\n",
       " ('πολύς', 0.16565138939592172),\n",
       " ('πᾶς', 0.1480166012949689),\n",
       " ('κοιλία', 0.11949590913050812),\n",
       " ('νόσος', 0.1056036564894304),\n",
       " ('κεφαλή', 0.10433806028914698),\n",
       " ('πυρετός', 0.098731644461411),\n",
       " ('ὀδύν*', 0.09764629337273882)]"
      ]
     },
     "execution_count": 104,
     "metadata": {},
     "output_type": "execute_result"
    }
   ],
   "source": [
    "lsimodel.show_topic(0)"
   ]
  },
  {
   "cell_type": "code",
   "execution_count": 143,
   "metadata": {},
   "outputs": [
    {
     "data": {
      "text/html": [
       "<div>\n",
       "<style scoped>\n",
       "    .dataframe tbody tr th:only-of-type {\n",
       "        vertical-align: middle;\n",
       "    }\n",
       "\n",
       "    .dataframe tbody tr th {\n",
       "        vertical-align: top;\n",
       "    }\n",
       "\n",
       "    .dataframe thead th {\n",
       "        text-align: right;\n",
       "    }\n",
       "</style>\n",
       "<table border=\"1\" class=\"dataframe\">\n",
       "  <thead>\n",
       "    <tr style=\"text-align: right;\">\n",
       "      <th></th>\n",
       "      <th>topic 0</th>\n",
       "      <th>topic 1</th>\n",
       "      <th>topic 2</th>\n",
       "      <th>topic 3</th>\n",
       "      <th>topic 4</th>\n",
       "      <th>topic 5</th>\n",
       "      <th>topic 6</th>\n",
       "      <th>topic 7</th>\n",
       "      <th>topic 8</th>\n",
       "      <th>topic 9</th>\n",
       "    </tr>\n",
       "  </thead>\n",
       "  <tbody>\n",
       "    <tr>\n",
       "      <th>0</th>\n",
       "      <td>γίγνομαι</td>\n",
       "      <td>γίγνομαι</td>\n",
       "      <td>οἶνος</td>\n",
       "      <td>ἔχω</td>\n",
       "      <td>πολύς</td>\n",
       "      <td>πᾶς</td>\n",
       "      <td>χρῆ</td>\n",
       "      <td>κοιλία</td>\n",
       "      <td>ὀστέον</td>\n",
       "      <td>κοιλία</td>\n",
       "    </tr>\n",
       "    <tr>\n",
       "      <th>1</th>\n",
       "      <td>ἔχω</td>\n",
       "      <td>ἔχω</td>\n",
       "      <td>σῶμα</td>\n",
       "      <td>πᾶς</td>\n",
       "      <td>πᾶς</td>\n",
       "      <td>σῶμα</td>\n",
       "      <td>ὀστέον</td>\n",
       "      <td>σῶμα</td>\n",
       "      <td>ἡμέρα</td>\n",
       "      <td>κεφαλή</td>\n",
       "    </tr>\n",
       "    <tr>\n",
       "      <th>2</th>\n",
       "      <td>σῶμα</td>\n",
       "      <td>οἶνος</td>\n",
       "      <td>πίνω</td>\n",
       "      <td>σῶμα</td>\n",
       "      <td>σῶμα</td>\n",
       "      <td>κοιλία</td>\n",
       "      <td>πᾶς</td>\n",
       "      <td>πυρετός</td>\n",
       "      <td>κεφαλή</td>\n",
       "      <td>πυρετός</td>\n",
       "    </tr>\n",
       "    <tr>\n",
       "      <th>3</th>\n",
       "      <td>πολύς</td>\n",
       "      <td>σῶμα</td>\n",
       "      <td>ὕδωρ</td>\n",
       "      <td>πολύς</td>\n",
       "      <td>θερμός</td>\n",
       "      <td>ὀστέον</td>\n",
       "      <td>ποιέω</td>\n",
       "      <td>κεφαλή</td>\n",
       "      <td>ποιέω</td>\n",
       "      <td>ἡμέρα</td>\n",
       "    </tr>\n",
       "    <tr>\n",
       "      <th>4</th>\n",
       "      <td>πᾶς</td>\n",
       "      <td>ὕδωρ</td>\n",
       "      <td>ἔχω</td>\n",
       "      <td>ὀδύν*</td>\n",
       "      <td>ὅσος</td>\n",
       "      <td>χρῆ</td>\n",
       "      <td>ἔχω</td>\n",
       "      <td>ὀδύν*</td>\n",
       "      <td>χρῆ</td>\n",
       "      <td>ποιέω</td>\n",
       "    </tr>\n",
       "    <tr>\n",
       "      <th>5</th>\n",
       "      <td>κοιλία</td>\n",
       "      <td>χρῆ</td>\n",
       "      <td>δίδωμι</td>\n",
       "      <td>κοιλία</td>\n",
       "      <td>οἶνος</td>\n",
       "      <td>πολύς</td>\n",
       "      <td>ὕδωρ</td>\n",
       "      <td>ὕδωρ</td>\n",
       "      <td>ὕδωρ</td>\n",
       "      <td>ὕδωρ</td>\n",
       "    </tr>\n",
       "    <tr>\n",
       "      <th>6</th>\n",
       "      <td>νόσος</td>\n",
       "      <td>πίνω</td>\n",
       "      <td>πᾶς</td>\n",
       "      <td>ποιέω</td>\n",
       "      <td>χρόνος</td>\n",
       "      <td>αἷμα</td>\n",
       "      <td>ἡμέρα</td>\n",
       "      <td>ἡμέρα</td>\n",
       "      <td>κοιλία</td>\n",
       "      <td>ὀδύν*</td>\n",
       "    </tr>\n",
       "    <tr>\n",
       "      <th>7</th>\n",
       "      <td>κεφαλή</td>\n",
       "      <td>πᾶς</td>\n",
       "      <td>ὅσος</td>\n",
       "      <td>γίγνομαι</td>\n",
       "      <td>ποιέω</td>\n",
       "      <td>μέγας</td>\n",
       "      <td>ἕλκος</td>\n",
       "      <td>ἔχω</td>\n",
       "      <td>ἕλκος</td>\n",
       "      <td>σῶμα</td>\n",
       "    </tr>\n",
       "    <tr>\n",
       "      <th>8</th>\n",
       "      <td>πυρετός</td>\n",
       "      <td>πολύς</td>\n",
       "      <td>τρίβω</td>\n",
       "      <td>ἄνθρωπος</td>\n",
       "      <td>πυρετός</td>\n",
       "      <td>ὑγρός</td>\n",
       "      <td>πολύς</td>\n",
       "      <td>ὀστέον</td>\n",
       "      <td>σάρξ</td>\n",
       "      <td>ἔχω</td>\n",
       "    </tr>\n",
       "    <tr>\n",
       "      <th>9</th>\n",
       "      <td>ὀδύν*</td>\n",
       "      <td>ποιέω</td>\n",
       "      <td>ἡμέρα</td>\n",
       "      <td>νόσος</td>\n",
       "      <td>ἔχω</td>\n",
       "      <td>εἶμι</td>\n",
       "      <td>σῶμα</td>\n",
       "      <td>πολύς</td>\n",
       "      <td>νόσος</td>\n",
       "      <td>αἷμα</td>\n",
       "    </tr>\n",
       "  </tbody>\n",
       "</table>\n",
       "</div>"
      ],
      "text/plain": [
       "    topic 0   topic 1 topic 2   topic 3  topic 4 topic 5 topic 6  topic 7  \\\n",
       "0  γίγνομαι  γίγνομαι   οἶνος       ἔχω    πολύς     πᾶς     χρῆ   κοιλία   \n",
       "1       ἔχω       ἔχω    σῶμα       πᾶς      πᾶς    σῶμα  ὀστέον     σῶμα   \n",
       "2      σῶμα     οἶνος    πίνω      σῶμα     σῶμα  κοιλία     πᾶς  πυρετός   \n",
       "3     πολύς      σῶμα    ὕδωρ     πολύς   θερμός  ὀστέον   ποιέω   κεφαλή   \n",
       "4       πᾶς      ὕδωρ     ἔχω     ὀδύν*     ὅσος     χρῆ     ἔχω    ὀδύν*   \n",
       "5    κοιλία       χρῆ  δίδωμι    κοιλία    οἶνος   πολύς    ὕδωρ     ὕδωρ   \n",
       "6     νόσος      πίνω     πᾶς     ποιέω   χρόνος    αἷμα   ἡμέρα    ἡμέρα   \n",
       "7    κεφαλή       πᾶς    ὅσος  γίγνομαι    ποιέω   μέγας   ἕλκος      ἔχω   \n",
       "8   πυρετός     πολύς   τρίβω  ἄνθρωπος  πυρετός   ὑγρός   πολύς   ὀστέον   \n",
       "9     ὀδύν*     ποιέω   ἡμέρα     νόσος      ἔχω    εἶμι    σῶμα    πολύς   \n",
       "\n",
       "  topic 8  topic 9  \n",
       "0  ὀστέον   κοιλία  \n",
       "1   ἡμέρα   κεφαλή  \n",
       "2  κεφαλή  πυρετός  \n",
       "3   ποιέω    ἡμέρα  \n",
       "4     χρῆ    ποιέω  \n",
       "5    ὕδωρ     ὕδωρ  \n",
       "6  κοιλία    ὀδύν*  \n",
       "7   ἕλκος     σῶμα  \n",
       "8    σάρξ      ἔχω  \n",
       "9   νόσος     αἷμα  "
      ]
     },
     "execution_count": 143,
     "metadata": {},
     "output_type": "execute_result"
    }
   ],
   "source": [
    "topics_dict = {} \n",
    "for n in range(num_topics):\n",
    "    topics_dict[\"topic \" + str(n)] = [tup[0] for tup in lsimodel.show_topic(n, topn=10)]\n",
    "lsi_topics = pd.DataFrame(topics_dict)\n",
    "lsi_topics"
   ]
  },
  {
   "cell_type": "code",
   "execution_count": 145,
   "metadata": {},
   "outputs": [
    {
     "data": {
      "text/plain": [
       "'0.872*\"πολύς\" + -0.324*\"πᾶς\" + -0.201*\"σῶμα\" + 0.101*\"θερμός\" + -0.089*\"ὅσος\" + -0.085*\"οἶνος\" + 0.073*\"χρόνος\" + -0.069*\"ποιέω\" + 0.065*\"πυρετός\" + -0.058*\"ἔχω\"'"
      ]
     },
     "execution_count": 145,
     "metadata": {},
     "output_type": "execute_result"
    }
   ],
   "source": [
    "lsimodel.print_topic(4)"
   ]
  },
  {
   "cell_type": "code",
   "execution_count": 146,
   "metadata": {},
   "outputs": [],
   "source": [
    "lsimodel_df = pd.DataFrame(lsimodel.get_topics(), columns=dictionary.values()).T"
   ]
  },
  {
   "cell_type": "code",
   "execution_count": 141,
   "metadata": {},
   "outputs": [
    {
     "data": {
      "text/html": [
       "<div>\n",
       "<style scoped>\n",
       "    .dataframe tbody tr th:only-of-type {\n",
       "        vertical-align: middle;\n",
       "    }\n",
       "\n",
       "    .dataframe tbody tr th {\n",
       "        vertical-align: top;\n",
       "    }\n",
       "\n",
       "    .dataframe thead th {\n",
       "        text-align: right;\n",
       "    }\n",
       "</style>\n",
       "<table border=\"1\" class=\"dataframe\">\n",
       "  <thead>\n",
       "    <tr style=\"text-align: right;\">\n",
       "      <th></th>\n",
       "      <th>0</th>\n",
       "      <th>1</th>\n",
       "      <th>2</th>\n",
       "      <th>3</th>\n",
       "      <th>4</th>\n",
       "      <th>5</th>\n",
       "      <th>6</th>\n",
       "      <th>7</th>\n",
       "      <th>8</th>\n",
       "      <th>9</th>\n",
       "    </tr>\n",
       "  </thead>\n",
       "  <tbody>\n",
       "    <tr>\n",
       "      <th>πολύς</th>\n",
       "      <td>0.165651</td>\n",
       "      <td>0.151776</td>\n",
       "      <td>0.019103</td>\n",
       "      <td>0.179733</td>\n",
       "      <td>0.871728</td>\n",
       "      <td>0.121368</td>\n",
       "      <td>0.125617</td>\n",
       "      <td>0.144609</td>\n",
       "      <td>-0.010803</td>\n",
       "      <td>0.038796</td>\n",
       "    </tr>\n",
       "    <tr>\n",
       "      <th>θερμός</th>\n",
       "      <td>0.072826</td>\n",
       "      <td>0.126653</td>\n",
       "      <td>-0.089586</td>\n",
       "      <td>0.013539</td>\n",
       "      <td>0.101332</td>\n",
       "      <td>-0.036864</td>\n",
       "      <td>0.079609</td>\n",
       "      <td>0.098633</td>\n",
       "      <td>-0.068343</td>\n",
       "      <td>0.030392</td>\n",
       "    </tr>\n",
       "    <tr>\n",
       "      <th>χρόνος</th>\n",
       "      <td>0.097100</td>\n",
       "      <td>0.042586</td>\n",
       "      <td>0.012096</td>\n",
       "      <td>0.048816</td>\n",
       "      <td>0.073308</td>\n",
       "      <td>0.049114</td>\n",
       "      <td>-0.027840</td>\n",
       "      <td>-0.041085</td>\n",
       "      <td>0.082053</td>\n",
       "      <td>-0.044126</td>\n",
       "    </tr>\n",
       "    <tr>\n",
       "      <th>πυρετός</th>\n",
       "      <td>0.098732</td>\n",
       "      <td>0.038761</td>\n",
       "      <td>0.045069</td>\n",
       "      <td>-0.065405</td>\n",
       "      <td>0.064801</td>\n",
       "      <td>-0.015696</td>\n",
       "      <td>0.099943</td>\n",
       "      <td>-0.302882</td>\n",
       "      <td>0.033145</td>\n",
       "      <td>-0.321265</td>\n",
       "    </tr>\n",
       "    <tr>\n",
       "      <th>νόσος</th>\n",
       "      <td>0.105604</td>\n",
       "      <td>0.018105</td>\n",
       "      <td>0.045883</td>\n",
       "      <td>0.077487</td>\n",
       "      <td>0.047291</td>\n",
       "      <td>-0.006255</td>\n",
       "      <td>-0.031741</td>\n",
       "      <td>-0.006536</td>\n",
       "      <td>0.132005</td>\n",
       "      <td>-0.042320</td>\n",
       "    </tr>\n",
       "    <tr>\n",
       "      <th>ὀλίγος</th>\n",
       "      <td>0.070111</td>\n",
       "      <td>0.074377</td>\n",
       "      <td>-0.079759</td>\n",
       "      <td>0.042655</td>\n",
       "      <td>0.045550</td>\n",
       "      <td>-0.002944</td>\n",
       "      <td>-0.042544</td>\n",
       "      <td>-0.041860</td>\n",
       "      <td>0.069752</td>\n",
       "      <td>-0.031475</td>\n",
       "    </tr>\n",
       "    <tr>\n",
       "      <th>λούω</th>\n",
       "      <td>0.018422</td>\n",
       "      <td>0.044423</td>\n",
       "      <td>-0.028645</td>\n",
       "      <td>-0.015445</td>\n",
       "      <td>0.042583</td>\n",
       "      <td>-0.005675</td>\n",
       "      <td>0.004637</td>\n",
       "      <td>0.012272</td>\n",
       "      <td>0.006214</td>\n",
       "      <td>-0.006389</td>\n",
       "    </tr>\n",
       "    <tr>\n",
       "      <th>ὀδύν*</th>\n",
       "      <td>0.097646</td>\n",
       "      <td>0.074928</td>\n",
       "      <td>0.029191</td>\n",
       "      <td>-0.139421</td>\n",
       "      <td>0.042545</td>\n",
       "      <td>-0.024515</td>\n",
       "      <td>0.089411</td>\n",
       "      <td>-0.185741</td>\n",
       "      <td>-0.049531</td>\n",
       "      <td>-0.204421</td>\n",
       "    </tr>\n",
       "    <tr>\n",
       "      <th>ἦδος</th>\n",
       "      <td>0.025168</td>\n",
       "      <td>0.010906</td>\n",
       "      <td>-0.000517</td>\n",
       "      <td>0.014777</td>\n",
       "      <td>0.031535</td>\n",
       "      <td>0.012882</td>\n",
       "      <td>-0.012989</td>\n",
       "      <td>-0.005639</td>\n",
       "      <td>-0.000760</td>\n",
       "      <td>-0.005194</td>\n",
       "    </tr>\n",
       "    <tr>\n",
       "      <th>κοιλία</th>\n",
       "      <td>0.119496</td>\n",
       "      <td>0.099960</td>\n",
       "      <td>0.124116</td>\n",
       "      <td>0.112295</td>\n",
       "      <td>0.024656</td>\n",
       "      <td>-0.261902</td>\n",
       "      <td>0.017895</td>\n",
       "      <td>-0.589007</td>\n",
       "      <td>-0.148471</td>\n",
       "      <td>0.598850</td>\n",
       "    </tr>\n",
       "    <tr>\n",
       "      <th>λεπτόν</th>\n",
       "      <td>0.020391</td>\n",
       "      <td>0.022769</td>\n",
       "      <td>-0.011937</td>\n",
       "      <td>0.006882</td>\n",
       "      <td>0.023924</td>\n",
       "      <td>-0.005133</td>\n",
       "      <td>-0.005309</td>\n",
       "      <td>-0.045943</td>\n",
       "      <td>-0.006640</td>\n",
       "      <td>0.003504</td>\n",
       "    </tr>\n",
       "    <tr>\n",
       "      <th>πόνο*</th>\n",
       "      <td>0.079177</td>\n",
       "      <td>0.055790</td>\n",
       "      <td>0.066693</td>\n",
       "      <td>0.062252</td>\n",
       "      <td>0.023639</td>\n",
       "      <td>-0.051384</td>\n",
       "      <td>0.025254</td>\n",
       "      <td>-0.094450</td>\n",
       "      <td>0.062434</td>\n",
       "      <td>-0.080868</td>\n",
       "    </tr>\n",
       "    <tr>\n",
       "      <th>εἶμι</th>\n",
       "      <td>0.057825</td>\n",
       "      <td>0.066984</td>\n",
       "      <td>0.050810</td>\n",
       "      <td>0.039229</td>\n",
       "      <td>0.022705</td>\n",
       "      <td>0.056910</td>\n",
       "      <td>-0.016470</td>\n",
       "      <td>0.034319</td>\n",
       "      <td>-0.033403</td>\n",
       "      <td>0.015405</td>\n",
       "    </tr>\n",
       "    <tr>\n",
       "      <th>ἥσσων</th>\n",
       "      <td>0.024919</td>\n",
       "      <td>0.010279</td>\n",
       "      <td>0.008015</td>\n",
       "      <td>0.018183</td>\n",
       "      <td>0.021366</td>\n",
       "      <td>0.030071</td>\n",
       "      <td>-0.026326</td>\n",
       "      <td>0.002105</td>\n",
       "      <td>-0.011031</td>\n",
       "      <td>-0.010551</td>\n",
       "    </tr>\n",
       "    <tr>\n",
       "      <th>ὀρεύς</th>\n",
       "      <td>0.010880</td>\n",
       "      <td>0.009391</td>\n",
       "      <td>0.000160</td>\n",
       "      <td>0.007644</td>\n",
       "      <td>0.021100</td>\n",
       "      <td>-0.000769</td>\n",
       "      <td>0.006642</td>\n",
       "      <td>-0.030240</td>\n",
       "      <td>-0.002138</td>\n",
       "      <td>0.001778</td>\n",
       "    </tr>\n",
       "    <tr>\n",
       "      <th>πρότερος</th>\n",
       "      <td>0.068586</td>\n",
       "      <td>0.056448</td>\n",
       "      <td>-0.006243</td>\n",
       "      <td>0.021748</td>\n",
       "      <td>0.020576</td>\n",
       "      <td>0.024357</td>\n",
       "      <td>-0.081108</td>\n",
       "      <td>-0.051404</td>\n",
       "      <td>0.124782</td>\n",
       "      <td>-0.038643</td>\n",
       "    </tr>\n",
       "    <tr>\n",
       "      <th>δύναμαι</th>\n",
       "      <td>0.025194</td>\n",
       "      <td>0.018220</td>\n",
       "      <td>0.002072</td>\n",
       "      <td>0.015046</td>\n",
       "      <td>0.016159</td>\n",
       "      <td>0.015219</td>\n",
       "      <td>-0.008835</td>\n",
       "      <td>-0.004666</td>\n",
       "      <td>-0.007784</td>\n",
       "      <td>-0.007217</td>\n",
       "    </tr>\n",
       "    <tr>\n",
       "      <th>ἔρχομαι</th>\n",
       "      <td>0.027362</td>\n",
       "      <td>0.020321</td>\n",
       "      <td>0.015795</td>\n",
       "      <td>0.014046</td>\n",
       "      <td>0.015929</td>\n",
       "      <td>-0.003981</td>\n",
       "      <td>-0.029602</td>\n",
       "      <td>-0.019009</td>\n",
       "      <td>-0.009201</td>\n",
       "      <td>0.008060</td>\n",
       "    </tr>\n",
       "    <tr>\n",
       "      <th>ἀπόλλυμι</th>\n",
       "      <td>0.013393</td>\n",
       "      <td>0.001338</td>\n",
       "      <td>0.002626</td>\n",
       "      <td>0.007682</td>\n",
       "      <td>0.015836</td>\n",
       "      <td>0.008940</td>\n",
       "      <td>0.002031</td>\n",
       "      <td>-0.003439</td>\n",
       "      <td>0.007082</td>\n",
       "      <td>-0.004606</td>\n",
       "    </tr>\n",
       "    <tr>\n",
       "      <th>ἰσχυρός</th>\n",
       "      <td>0.053687</td>\n",
       "      <td>0.025782</td>\n",
       "      <td>0.021138</td>\n",
       "      <td>0.014262</td>\n",
       "      <td>0.015032</td>\n",
       "      <td>0.000520</td>\n",
       "      <td>-0.002974</td>\n",
       "      <td>-0.006612</td>\n",
       "      <td>-0.011836</td>\n",
       "      <td>-0.021299</td>\n",
       "    </tr>\n",
       "  </tbody>\n",
       "</table>\n",
       "</div>"
      ],
      "text/plain": [
       "                 0         1         2         3         4         5  \\\n",
       "πολύς     0.165651  0.151776  0.019103  0.179733  0.871728  0.121368   \n",
       "θερμός    0.072826  0.126653 -0.089586  0.013539  0.101332 -0.036864   \n",
       "χρόνος    0.097100  0.042586  0.012096  0.048816  0.073308  0.049114   \n",
       "πυρετός   0.098732  0.038761  0.045069 -0.065405  0.064801 -0.015696   \n",
       "νόσος     0.105604  0.018105  0.045883  0.077487  0.047291 -0.006255   \n",
       "ὀλίγος    0.070111  0.074377 -0.079759  0.042655  0.045550 -0.002944   \n",
       "λούω      0.018422  0.044423 -0.028645 -0.015445  0.042583 -0.005675   \n",
       "ὀδύν*     0.097646  0.074928  0.029191 -0.139421  0.042545 -0.024515   \n",
       "ἦδος      0.025168  0.010906 -0.000517  0.014777  0.031535  0.012882   \n",
       "κοιλία    0.119496  0.099960  0.124116  0.112295  0.024656 -0.261902   \n",
       "λεπτόν    0.020391  0.022769 -0.011937  0.006882  0.023924 -0.005133   \n",
       "πόνο*     0.079177  0.055790  0.066693  0.062252  0.023639 -0.051384   \n",
       "εἶμι      0.057825  0.066984  0.050810  0.039229  0.022705  0.056910   \n",
       "ἥσσων     0.024919  0.010279  0.008015  0.018183  0.021366  0.030071   \n",
       "ὀρεύς     0.010880  0.009391  0.000160  0.007644  0.021100 -0.000769   \n",
       "πρότερος  0.068586  0.056448 -0.006243  0.021748  0.020576  0.024357   \n",
       "δύναμαι   0.025194  0.018220  0.002072  0.015046  0.016159  0.015219   \n",
       "ἔρχομαι   0.027362  0.020321  0.015795  0.014046  0.015929 -0.003981   \n",
       "ἀπόλλυμι  0.013393  0.001338  0.002626  0.007682  0.015836  0.008940   \n",
       "ἰσχυρός   0.053687  0.025782  0.021138  0.014262  0.015032  0.000520   \n",
       "\n",
       "                 6         7         8         9  \n",
       "πολύς     0.125617  0.144609 -0.010803  0.038796  \n",
       "θερμός    0.079609  0.098633 -0.068343  0.030392  \n",
       "χρόνος   -0.027840 -0.041085  0.082053 -0.044126  \n",
       "πυρετός   0.099943 -0.302882  0.033145 -0.321265  \n",
       "νόσος    -0.031741 -0.006536  0.132005 -0.042320  \n",
       "ὀλίγος   -0.042544 -0.041860  0.069752 -0.031475  \n",
       "λούω      0.004637  0.012272  0.006214 -0.006389  \n",
       "ὀδύν*     0.089411 -0.185741 -0.049531 -0.204421  \n",
       "ἦδος     -0.012989 -0.005639 -0.000760 -0.005194  \n",
       "κοιλία    0.017895 -0.589007 -0.148471  0.598850  \n",
       "λεπτόν   -0.005309 -0.045943 -0.006640  0.003504  \n",
       "πόνο*     0.025254 -0.094450  0.062434 -0.080868  \n",
       "εἶμι     -0.016470  0.034319 -0.033403  0.015405  \n",
       "ἥσσων    -0.026326  0.002105 -0.011031 -0.010551  \n",
       "ὀρεύς     0.006642 -0.030240 -0.002138  0.001778  \n",
       "πρότερος -0.081108 -0.051404  0.124782 -0.038643  \n",
       "δύναμαι  -0.008835 -0.004666 -0.007784 -0.007217  \n",
       "ἔρχομαι  -0.029602 -0.019009 -0.009201  0.008060  \n",
       "ἀπόλλυμι  0.002031 -0.003439  0.007082 -0.004606  \n",
       "ἰσχυρός  -0.002974 -0.006612 -0.011836 -0.021299  "
      ]
     },
     "execution_count": 141,
     "metadata": {},
     "output_type": "execute_result"
    }
   ],
   "source": [
    " # get first topic, i.e. sort words by largest \n",
    "lsimodel_df.sort_values(4, ascending=False).head(20)"
   ]
  },
  {
   "cell_type": "code",
   "execution_count": 144,
   "metadata": {},
   "outputs": [
    {
     "data": {
      "text/plain": [
       "3"
      ]
     },
     "execution_count": 144,
     "metadata": {},
     "output_type": "execute_result"
    }
   ],
   "source": [
    "lsimodel_df_sorted = lsimodel_df.sort_values(4, ascending=False)  \n",
    "len(lsimodel_df_sorted.loc[:\"χρόνος\"])"
   ]
  },
  {
   "cell_type": "code",
   "execution_count": 111,
   "metadata": {},
   "outputs": [],
   "source": [
    "words = ['λύπ*', 'ἄλγ*', 'ὀδύν*', 'πόνο*']"
   ]
  },
  {
   "cell_type": "code",
   "execution_count": 127,
   "metadata": {},
   "outputs": [
    {
     "data": {
      "text/plain": [
       "25059"
      ]
     },
     "execution_count": 127,
     "metadata": {},
     "output_type": "execute_result"
    }
   ],
   "source": [
    "len(lsimodel_df)"
   ]
  },
  {
   "cell_type": "code",
   "execution_count": 140,
   "metadata": {},
   "outputs": [
    {
     "data": {
      "text/plain": [
       "{'λύπ*': [360, 628, 166, 226, 424, 24759, 19586, 1833, 217, 902],\n",
       " 'ἄλγ*': [59, 66, 37, 25050, 24950, 25022, 18, 25051, 25028, 25051],\n",
       " 'ὀδύν*': [10, 18, 20, 25058, 8, 25040, 8, 25056, 25046, 25056],\n",
       " 'πόνο*': [20, 28, 6, 9, 12, 25054, 16, 25052, 11, 25053]}"
      ]
     },
     "execution_count": 140,
     "metadata": {},
     "output_type": "execute_result"
    }
   ],
   "source": [
    "word_positions = {}\n",
    "for word in words:\n",
    "    positions = []\n",
    "    for n in range(num_topics):\n",
    "        lsimodel_df_sorted = lsimodel_df.sort_values(n, ascending=False)  \n",
    "        pos = len(lsimodel_df_sorted.loc[:word])\n",
    "        positions.append(pos)\n",
    "    word_positions[word] = positions\n",
    "word_positions"
   ]
  },
  {
   "cell_type": "code",
   "execution_count": 126,
   "metadata": {},
   "outputs": [
    {
     "data": {
      "text/plain": [
       "{'λύπ*': [360, 628, 166, 226, 424, 24759, 19586, 1833, 217, 902],\n",
       " 'ἄλγ*': [59, 66, 37, 25050, 24950, 25022, 18, 25051, 25028, 25051],\n",
       " 'ὀδύν*': [10, 18, 20, 25058, 8, 25040, 8, 25056, 25046, 25056],\n",
       " 'πόνο*': [20, 28, 6, 9, 12, 25054, 16, 25052, 11, 25053]}"
      ]
     },
     "execution_count": 126,
     "metadata": {},
     "output_type": "execute_result"
    }
   ],
   "source": [
    "word_positions = {}\n",
    "for word in words:\n",
    "    positions = []\n",
    "    for n in range(num_topics):\n",
    "        lsimodel_df_sorted = lsimodel_df.sort_values(n, ascending=False)  \n",
    "        pos = len(lsimodel_df_sorted.loc[:word])\n",
    "        positions.append(len(lsimodel_df.loc[:word]))\n",
    "    word_positions[word] = positions\n",
    "word_positions"
   ]
  },
  {
   "cell_type": "code",
   "execution_count": 133,
   "metadata": {},
   "outputs": [
    {
     "data": {
      "text/html": [
       "<div>\n",
       "<style scoped>\n",
       "    .dataframe tbody tr th:only-of-type {\n",
       "        vertical-align: middle;\n",
       "    }\n",
       "\n",
       "    .dataframe tbody tr th {\n",
       "        vertical-align: top;\n",
       "    }\n",
       "\n",
       "    .dataframe thead th {\n",
       "        text-align: right;\n",
       "    }\n",
       "</style>\n",
       "<table border=\"1\" class=\"dataframe\">\n",
       "  <thead>\n",
       "    <tr style=\"text-align: right;\">\n",
       "      <th></th>\n",
       "      <th>pos in top 0</th>\n",
       "      <th>pos in top 1</th>\n",
       "      <th>pos in top 2</th>\n",
       "      <th>pos in top 3</th>\n",
       "      <th>pos in top 4</th>\n",
       "      <th>pos in top 5</th>\n",
       "      <th>pos in top 6</th>\n",
       "      <th>pos in top 7</th>\n",
       "      <th>pos in top 8</th>\n",
       "      <th>pos in top 9</th>\n",
       "    </tr>\n",
       "  </thead>\n",
       "  <tbody>\n",
       "    <tr>\n",
       "      <th>λύπ*</th>\n",
       "      <td>360</td>\n",
       "      <td>628</td>\n",
       "      <td>166</td>\n",
       "      <td>226</td>\n",
       "      <td>424</td>\n",
       "      <td>24759</td>\n",
       "      <td>19586</td>\n",
       "      <td>1833</td>\n",
       "      <td>217</td>\n",
       "      <td>902</td>\n",
       "    </tr>\n",
       "    <tr>\n",
       "      <th>ἄλγ*</th>\n",
       "      <td>59</td>\n",
       "      <td>66</td>\n",
       "      <td>37</td>\n",
       "      <td>25050</td>\n",
       "      <td>24950</td>\n",
       "      <td>25022</td>\n",
       "      <td>18</td>\n",
       "      <td>25051</td>\n",
       "      <td>25028</td>\n",
       "      <td>25051</td>\n",
       "    </tr>\n",
       "    <tr>\n",
       "      <th>ὀδύν*</th>\n",
       "      <td>10</td>\n",
       "      <td>18</td>\n",
       "      <td>20</td>\n",
       "      <td>25058</td>\n",
       "      <td>8</td>\n",
       "      <td>25040</td>\n",
       "      <td>8</td>\n",
       "      <td>25056</td>\n",
       "      <td>25046</td>\n",
       "      <td>25056</td>\n",
       "    </tr>\n",
       "    <tr>\n",
       "      <th>πόνο*</th>\n",
       "      <td>20</td>\n",
       "      <td>28</td>\n",
       "      <td>6</td>\n",
       "      <td>9</td>\n",
       "      <td>12</td>\n",
       "      <td>25054</td>\n",
       "      <td>16</td>\n",
       "      <td>25052</td>\n",
       "      <td>11</td>\n",
       "      <td>25053</td>\n",
       "    </tr>\n",
       "  </tbody>\n",
       "</table>\n",
       "</div>"
      ],
      "text/plain": [
       "       pos in top 0  pos in top 1  pos in top 2  pos in top 3  pos in top 4  \\\n",
       "λύπ*            360           628           166           226           424   \n",
       "ἄλγ*             59            66            37         25050         24950   \n",
       "ὀδύν*            10            18            20         25058             8   \n",
       "πόνο*            20            28             6             9            12   \n",
       "\n",
       "       pos in top 5  pos in top 6  pos in top 7  pos in top 8  pos in top 9  \n",
       "λύπ*          24759         19586          1833           217           902  \n",
       "ἄλγ*          25022            18         25051         25028         25051  \n",
       "ὀδύν*         25040             8         25056         25046         25056  \n",
       "πόνο*         25054            16         25052            11         25053  "
      ]
     },
     "execution_count": 133,
     "metadata": {},
     "output_type": "execute_result"
    }
   ],
   "source": [
    "columns = [\"pos in top \" + str(n) for n in range(num_topics)]\n",
    "\n",
    "word_positions_df = pd.DataFrame(word_positions).T\n",
    "word_positions_df.columns = columns\n",
    "word_positions_df"
   ]
  },
  {
   "cell_type": "code",
   "execution_count": 131,
   "metadata": {},
   "outputs": [
    {
     "data": {
      "text/plain": [
       "Index(['κοιλία', 'ποιέω', 'ὕδωρ', 'ἔχω', 'γίγνομαι', 'ἄνθρωπος', 'ὅσος',\n",
       "       'ὑγρός', 'καθίημι', 'ἄνοος',\n",
       "       ...\n",
       "       'ὀξύς', 'ἄλγ*', 'οἶνος', 'πόνο*', 'αἷμα', 'σῶμα', 'ὀδύν*', 'ἡμέρα',\n",
       "       'πυρετός', 'κεφαλή'],\n",
       "      dtype='object', length=25059)"
      ]
     },
     "execution_count": 131,
     "metadata": {},
     "output_type": "execute_result"
    }
   ],
   "source": [
    "lsimodel_df[0].index"
   ]
  },
  {
   "cell_type": "markdown",
   "metadata": {},
   "source": [
    "# HDP model"
   ]
  },
  {
   "cell_type": "code",
   "execution_count": 69,
   "metadata": {},
   "outputs": [],
   "source": [
    "hdpmodel = HdpModel(corpus=corpus, id2word=dictionary)"
   ]
  },
  {
   "cell_type": "code",
   "execution_count": 70,
   "metadata": {},
   "outputs": [],
   "source": [
    "hdpmodel_df = pd.DataFrame(hdpmodel.get_topics(), columns=dictionary.values()).T"
   ]
  },
  {
   "cell_type": "code",
   "execution_count": 72,
   "metadata": {},
   "outputs": [
    {
     "data": {
      "text/html": [
       "<div>\n",
       "<style scoped>\n",
       "    .dataframe tbody tr th:only-of-type {\n",
       "        vertical-align: middle;\n",
       "    }\n",
       "\n",
       "    .dataframe tbody tr th {\n",
       "        vertical-align: top;\n",
       "    }\n",
       "\n",
       "    .dataframe thead th {\n",
       "        text-align: right;\n",
       "    }\n",
       "</style>\n",
       "<table border=\"1\" class=\"dataframe\">\n",
       "  <thead>\n",
       "    <tr style=\"text-align: right;\">\n",
       "      <th></th>\n",
       "      <th>0</th>\n",
       "      <th>1</th>\n",
       "      <th>2</th>\n",
       "      <th>3</th>\n",
       "      <th>4</th>\n",
       "      <th>5</th>\n",
       "      <th>6</th>\n",
       "      <th>7</th>\n",
       "      <th>8</th>\n",
       "      <th>9</th>\n",
       "      <th>...</th>\n",
       "      <th>140</th>\n",
       "      <th>141</th>\n",
       "      <th>142</th>\n",
       "      <th>143</th>\n",
       "      <th>144</th>\n",
       "      <th>145</th>\n",
       "      <th>146</th>\n",
       "      <th>147</th>\n",
       "      <th>148</th>\n",
       "      <th>149</th>\n",
       "    </tr>\n",
       "  </thead>\n",
       "  <tbody>\n",
       "    <tr>\n",
       "      <th>αἰτία</th>\n",
       "      <td>0.000043</td>\n",
       "      <td>0.000052</td>\n",
       "      <td>0.000006</td>\n",
       "      <td>0.000141</td>\n",
       "      <td>0.000038</td>\n",
       "      <td>0.000148</td>\n",
       "      <td>0.000093</td>\n",
       "      <td>0.000172</td>\n",
       "      <td>0.000126</td>\n",
       "      <td>0.000093</td>\n",
       "      <td>...</td>\n",
       "      <td>0.000051</td>\n",
       "      <td>0.000177</td>\n",
       "      <td>0.000096</td>\n",
       "      <td>0.000047</td>\n",
       "      <td>0.000002</td>\n",
       "      <td>0.000058</td>\n",
       "      <td>4.999596e-05</td>\n",
       "      <td>0.000058</td>\n",
       "      <td>0.000056</td>\n",
       "      <td>0.000212</td>\n",
       "    </tr>\n",
       "    <tr>\n",
       "      <th>βραχὺ</th>\n",
       "      <td>0.000024</td>\n",
       "      <td>0.000062</td>\n",
       "      <td>0.000030</td>\n",
       "      <td>0.000056</td>\n",
       "      <td>0.000100</td>\n",
       "      <td>0.000099</td>\n",
       "      <td>0.000007</td>\n",
       "      <td>0.000017</td>\n",
       "      <td>0.000037</td>\n",
       "      <td>0.000039</td>\n",
       "      <td>...</td>\n",
       "      <td>0.000061</td>\n",
       "      <td>0.000035</td>\n",
       "      <td>0.000050</td>\n",
       "      <td>0.000115</td>\n",
       "      <td>0.000037</td>\n",
       "      <td>0.000041</td>\n",
       "      <td>1.651723e-05</td>\n",
       "      <td>0.000122</td>\n",
       "      <td>0.000012</td>\n",
       "      <td>0.000029</td>\n",
       "    </tr>\n",
       "    <tr>\n",
       "      <th>γράφω</th>\n",
       "      <td>0.000125</td>\n",
       "      <td>0.000280</td>\n",
       "      <td>0.000039</td>\n",
       "      <td>0.000060</td>\n",
       "      <td>0.000369</td>\n",
       "      <td>0.000073</td>\n",
       "      <td>0.000084</td>\n",
       "      <td>0.000113</td>\n",
       "      <td>0.000085</td>\n",
       "      <td>0.000125</td>\n",
       "      <td>...</td>\n",
       "      <td>0.000075</td>\n",
       "      <td>0.000083</td>\n",
       "      <td>0.000065</td>\n",
       "      <td>0.000020</td>\n",
       "      <td>0.000089</td>\n",
       "      <td>0.000120</td>\n",
       "      <td>6.933962e-05</td>\n",
       "      <td>0.000070</td>\n",
       "      <td>0.000001</td>\n",
       "      <td>0.000058</td>\n",
       "    </tr>\n",
       "    <tr>\n",
       "      <th>δημιουργός</th>\n",
       "      <td>0.000003</td>\n",
       "      <td>0.000030</td>\n",
       "      <td>0.000037</td>\n",
       "      <td>0.000016</td>\n",
       "      <td>0.000102</td>\n",
       "      <td>0.000083</td>\n",
       "      <td>0.000014</td>\n",
       "      <td>0.000061</td>\n",
       "      <td>0.000098</td>\n",
       "      <td>0.000089</td>\n",
       "      <td>...</td>\n",
       "      <td>0.000012</td>\n",
       "      <td>0.000012</td>\n",
       "      <td>0.000068</td>\n",
       "      <td>0.000071</td>\n",
       "      <td>0.000030</td>\n",
       "      <td>0.000005</td>\n",
       "      <td>1.055637e-05</td>\n",
       "      <td>0.000073</td>\n",
       "      <td>0.000010</td>\n",
       "      <td>0.000107</td>\n",
       "    </tr>\n",
       "    <tr>\n",
       "      <th>εἶμι</th>\n",
       "      <td>0.000519</td>\n",
       "      <td>0.000608</td>\n",
       "      <td>0.000737</td>\n",
       "      <td>0.000799</td>\n",
       "      <td>0.000635</td>\n",
       "      <td>0.000597</td>\n",
       "      <td>0.000464</td>\n",
       "      <td>0.000806</td>\n",
       "      <td>0.000671</td>\n",
       "      <td>0.000605</td>\n",
       "      <td>...</td>\n",
       "      <td>0.000262</td>\n",
       "      <td>0.000231</td>\n",
       "      <td>0.000252</td>\n",
       "      <td>0.000266</td>\n",
       "      <td>0.000199</td>\n",
       "      <td>0.000251</td>\n",
       "      <td>2.404315e-04</td>\n",
       "      <td>0.000203</td>\n",
       "      <td>0.000192</td>\n",
       "      <td>0.000254</td>\n",
       "    </tr>\n",
       "    <tr>\n",
       "      <th>...</th>\n",
       "      <td>...</td>\n",
       "      <td>...</td>\n",
       "      <td>...</td>\n",
       "      <td>...</td>\n",
       "      <td>...</td>\n",
       "      <td>...</td>\n",
       "      <td>...</td>\n",
       "      <td>...</td>\n",
       "      <td>...</td>\n",
       "      <td>...</td>\n",
       "      <td>...</td>\n",
       "      <td>...</td>\n",
       "      <td>...</td>\n",
       "      <td>...</td>\n",
       "      <td>...</td>\n",
       "      <td>...</td>\n",
       "      <td>...</td>\n",
       "      <td>...</td>\n",
       "      <td>...</td>\n",
       "      <td>...</td>\n",
       "      <td>...</td>\n",
       "    </tr>\n",
       "    <tr>\n",
       "      <th>χρηστοὺς</th>\n",
       "      <td>0.000045</td>\n",
       "      <td>0.000090</td>\n",
       "      <td>0.000019</td>\n",
       "      <td>0.000021</td>\n",
       "      <td>0.000016</td>\n",
       "      <td>0.000023</td>\n",
       "      <td>0.000001</td>\n",
       "      <td>0.000057</td>\n",
       "      <td>0.000020</td>\n",
       "      <td>0.000018</td>\n",
       "      <td>...</td>\n",
       "      <td>0.000008</td>\n",
       "      <td>0.000061</td>\n",
       "      <td>0.000009</td>\n",
       "      <td>0.000033</td>\n",
       "      <td>0.000029</td>\n",
       "      <td>0.000039</td>\n",
       "      <td>2.835586e-06</td>\n",
       "      <td>0.000041</td>\n",
       "      <td>0.000036</td>\n",
       "      <td>0.000014</td>\n",
       "    </tr>\n",
       "    <tr>\n",
       "      <th>ἡρμοσμένῳ</th>\n",
       "      <td>0.000001</td>\n",
       "      <td>0.000002</td>\n",
       "      <td>0.000010</td>\n",
       "      <td>0.000002</td>\n",
       "      <td>0.000095</td>\n",
       "      <td>0.000020</td>\n",
       "      <td>0.000031</td>\n",
       "      <td>0.000081</td>\n",
       "      <td>0.000027</td>\n",
       "      <td>0.000152</td>\n",
       "      <td>...</td>\n",
       "      <td>0.000019</td>\n",
       "      <td>0.000092</td>\n",
       "      <td>0.000059</td>\n",
       "      <td>0.000079</td>\n",
       "      <td>0.000073</td>\n",
       "      <td>0.000057</td>\n",
       "      <td>8.874343e-07</td>\n",
       "      <td>0.000047</td>\n",
       "      <td>0.000037</td>\n",
       "      <td>0.000016</td>\n",
       "    </tr>\n",
       "    <tr>\n",
       "      <th>σύμβουλος</th>\n",
       "      <td>0.000030</td>\n",
       "      <td>0.000027</td>\n",
       "      <td>0.000029</td>\n",
       "      <td>0.000018</td>\n",
       "      <td>0.000023</td>\n",
       "      <td>0.000025</td>\n",
       "      <td>0.000003</td>\n",
       "      <td>0.000094</td>\n",
       "      <td>0.000084</td>\n",
       "      <td>0.000023</td>\n",
       "      <td>...</td>\n",
       "      <td>0.000006</td>\n",
       "      <td>0.000052</td>\n",
       "      <td>0.000016</td>\n",
       "      <td>0.000003</td>\n",
       "      <td>0.000022</td>\n",
       "      <td>0.000013</td>\n",
       "      <td>2.127276e-06</td>\n",
       "      <td>0.000043</td>\n",
       "      <td>0.000027</td>\n",
       "      <td>0.000030</td>\n",
       "    </tr>\n",
       "    <tr>\n",
       "      <th>εὐμοιρήσομεν</th>\n",
       "      <td>0.000002</td>\n",
       "      <td>0.000067</td>\n",
       "      <td>0.000007</td>\n",
       "      <td>0.000022</td>\n",
       "      <td>0.000003</td>\n",
       "      <td>0.000024</td>\n",
       "      <td>0.000016</td>\n",
       "      <td>0.000013</td>\n",
       "      <td>0.000031</td>\n",
       "      <td>0.000020</td>\n",
       "      <td>...</td>\n",
       "      <td>0.000014</td>\n",
       "      <td>0.000045</td>\n",
       "      <td>0.000028</td>\n",
       "      <td>0.000050</td>\n",
       "      <td>0.000185</td>\n",
       "      <td>0.000007</td>\n",
       "      <td>1.342345e-04</td>\n",
       "      <td>0.000004</td>\n",
       "      <td>0.000051</td>\n",
       "      <td>0.000085</td>\n",
       "    </tr>\n",
       "    <tr>\n",
       "      <th>ἱμείρομεν</th>\n",
       "      <td>0.000013</td>\n",
       "      <td>0.000031</td>\n",
       "      <td>0.000016</td>\n",
       "      <td>0.000034</td>\n",
       "      <td>0.000077</td>\n",
       "      <td>0.000147</td>\n",
       "      <td>0.000076</td>\n",
       "      <td>0.000080</td>\n",
       "      <td>0.000035</td>\n",
       "      <td>0.000016</td>\n",
       "      <td>...</td>\n",
       "      <td>0.000032</td>\n",
       "      <td>0.000033</td>\n",
       "      <td>0.000016</td>\n",
       "      <td>0.000008</td>\n",
       "      <td>0.000001</td>\n",
       "      <td>0.000028</td>\n",
       "      <td>3.593623e-05</td>\n",
       "      <td>0.000004</td>\n",
       "      <td>0.000023</td>\n",
       "      <td>0.000114</td>\n",
       "    </tr>\n",
       "  </tbody>\n",
       "</table>\n",
       "<p>25059 rows × 150 columns</p>\n",
       "</div>"
      ],
      "text/plain": [
       "                   0         1         2         3         4         5    \\\n",
       "αἰτία         0.000043  0.000052  0.000006  0.000141  0.000038  0.000148   \n",
       "βραχὺ         0.000024  0.000062  0.000030  0.000056  0.000100  0.000099   \n",
       "γράφω         0.000125  0.000280  0.000039  0.000060  0.000369  0.000073   \n",
       "δημιουργός    0.000003  0.000030  0.000037  0.000016  0.000102  0.000083   \n",
       "εἶμι          0.000519  0.000608  0.000737  0.000799  0.000635  0.000597   \n",
       "...                ...       ...       ...       ...       ...       ...   \n",
       "χρηστοὺς      0.000045  0.000090  0.000019  0.000021  0.000016  0.000023   \n",
       "ἡρμοσμένῳ     0.000001  0.000002  0.000010  0.000002  0.000095  0.000020   \n",
       "σύμβουλος     0.000030  0.000027  0.000029  0.000018  0.000023  0.000025   \n",
       "εὐμοιρήσομεν  0.000002  0.000067  0.000007  0.000022  0.000003  0.000024   \n",
       "ἱμείρομεν     0.000013  0.000031  0.000016  0.000034  0.000077  0.000147   \n",
       "\n",
       "                   6         7         8         9    ...       140       141  \\\n",
       "αἰτία         0.000093  0.000172  0.000126  0.000093  ...  0.000051  0.000177   \n",
       "βραχὺ         0.000007  0.000017  0.000037  0.000039  ...  0.000061  0.000035   \n",
       "γράφω         0.000084  0.000113  0.000085  0.000125  ...  0.000075  0.000083   \n",
       "δημιουργός    0.000014  0.000061  0.000098  0.000089  ...  0.000012  0.000012   \n",
       "εἶμι          0.000464  0.000806  0.000671  0.000605  ...  0.000262  0.000231   \n",
       "...                ...       ...       ...       ...  ...       ...       ...   \n",
       "χρηστοὺς      0.000001  0.000057  0.000020  0.000018  ...  0.000008  0.000061   \n",
       "ἡρμοσμένῳ     0.000031  0.000081  0.000027  0.000152  ...  0.000019  0.000092   \n",
       "σύμβουλος     0.000003  0.000094  0.000084  0.000023  ...  0.000006  0.000052   \n",
       "εὐμοιρήσομεν  0.000016  0.000013  0.000031  0.000020  ...  0.000014  0.000045   \n",
       "ἱμείρομεν     0.000076  0.000080  0.000035  0.000016  ...  0.000032  0.000033   \n",
       "\n",
       "                   142       143       144       145           146       147  \\\n",
       "αἰτία         0.000096  0.000047  0.000002  0.000058  4.999596e-05  0.000058   \n",
       "βραχὺ         0.000050  0.000115  0.000037  0.000041  1.651723e-05  0.000122   \n",
       "γράφω         0.000065  0.000020  0.000089  0.000120  6.933962e-05  0.000070   \n",
       "δημιουργός    0.000068  0.000071  0.000030  0.000005  1.055637e-05  0.000073   \n",
       "εἶμι          0.000252  0.000266  0.000199  0.000251  2.404315e-04  0.000203   \n",
       "...                ...       ...       ...       ...           ...       ...   \n",
       "χρηστοὺς      0.000009  0.000033  0.000029  0.000039  2.835586e-06  0.000041   \n",
       "ἡρμοσμένῳ     0.000059  0.000079  0.000073  0.000057  8.874343e-07  0.000047   \n",
       "σύμβουλος     0.000016  0.000003  0.000022  0.000013  2.127276e-06  0.000043   \n",
       "εὐμοιρήσομεν  0.000028  0.000050  0.000185  0.000007  1.342345e-04  0.000004   \n",
       "ἱμείρομεν     0.000016  0.000008  0.000001  0.000028  3.593623e-05  0.000004   \n",
       "\n",
       "                   148       149  \n",
       "αἰτία         0.000056  0.000212  \n",
       "βραχὺ         0.000012  0.000029  \n",
       "γράφω         0.000001  0.000058  \n",
       "δημιουργός    0.000010  0.000107  \n",
       "εἶμι          0.000192  0.000254  \n",
       "...                ...       ...  \n",
       "χρηστοὺς      0.000036  0.000014  \n",
       "ἡρμοσμένῳ     0.000037  0.000016  \n",
       "σύμβουλος     0.000027  0.000030  \n",
       "εὐμοιρήσομεν  0.000051  0.000085  \n",
       "ἱμείρομεν     0.000023  0.000114  \n",
       "\n",
       "[25059 rows x 150 columns]"
      ]
     },
     "execution_count": 72,
     "metadata": {},
     "output_type": "execute_result"
    }
   ],
   "source": [
    "hdpmodel"
   ]
  },
  {
   "cell_type": "markdown",
   "metadata": {},
   "source": [
    "# LSA with  sklearn"
   ]
  },
  {
   "cell_type": "code",
   "execution_count": 177,
   "metadata": {},
   "outputs": [],
   "source": [
    "# we can use our gensim dictionary\n",
    "\n",
    "# as a corpus, we cannot use the Gensim default BoW model,\n",
    "\n",
    "# we just need the words replaced by values\n",
    "\n",
    "corpus_bow = [dictionary.doc2bow(sent) for sent in sentences_list]\n",
    "corpus_idx = [dictionary.doc2idx(sent) for sent in sentences_list]"
   ]
  },
  {
   "cell_type": "code",
   "execution_count": 180,
   "metadata": {},
   "outputs": [
    {
     "data": {
      "text/plain": [
       "24459"
      ]
     },
     "execution_count": 180,
     "metadata": {},
     "output_type": "execute_result"
    }
   ],
   "source": [
    "len(corpus_idx)"
   ]
  },
  {
   "cell_type": "code",
   "execution_count": null,
   "metadata": {},
   "outputs": [],
   "source": [
    "### lsa alternative\n",
    "from sklearn.feature_extraction.text import CountVectorizer\n",
    "from sklearn.feature_extraction.text import TfidfVectorizer\n",
    "\n",
    "from sklearn.decomposition import TruncatedSVD \n",
    "from sklearn.metrics.pairwise import cosine_similarity\n",
    "from sklearn.metrics.pairwise import euclidean_distances"
   ]
  },
  {
   "cell_type": "code",
   "execution_count": null,
   "metadata": {},
   "outputs": [],
   "source": [
    "vec =  TfidfVectorizer(vocabulary=vocabulary) ### initiaze the model\n",
    "X = vec.fit_transform([\" \".join(sentence) for sentence in list_of_lists]) ### run the model\n",
    "Xc = (X.T * X)\n",
    "svd = TruncatedSVD(n_components=25, n_iter=5, random_state=42)\n",
    "svd.fit(Xc)\n",
    "cooc = pd.DataFrame(Xc.toarray(), columns=vec.get_feature_names(), index=vec.get_feature_names())\n",
    "lsa_model_data = pd.DataFrame(svd.components_, columns=vec.get_feature_names())\n",
    "\n",
    "\n",
    "def get_most_similar(model_df, target_term, number):\n",
    "  all_similar = []\n",
    "  for term in model_df.columns:\n",
    "    similarity = (term, cosine_similarity([model_df[target_term],  model_df[term]])[0][1])\n",
    "    all_similar.append(similarity)\n",
    "  return sorted(all_similar, key=lambda number: number[1], reverse=True)[1:number]\n",
    "\n",
    "model_john_lsa, cooc_john = lsa_model(sentences_john, words_john)\n",
    "\n"
   ]
  },
  {
   "cell_type": "code",
   "execution_count": null,
   "metadata": {},
   "outputs": [],
   "source": [
    "lsamodel, cooc = lsa_model( vocabulary=)\n",
    "\n"
   ]
  },
  {
   "cell_type": "code",
   "execution_count": null,
   "metadata": {},
   "outputs": [],
   "source": []
  },
  {
   "cell_type": "code",
   "execution_count": null,
   "metadata": {},
   "outputs": [],
   "source": []
  },
  {
   "cell_type": "code",
   "execution_count": null,
   "metadata": {},
   "outputs": [],
   "source": []
  }
 ],
 "metadata": {
  "colab": {
   "authorship_tag": "ABX9TyPzJG8Ttu74+AUFBxNNmOYH",
   "include_colab_link": true,
   "name": "OVERVIEW.ipynb",
   "provenance": []
  },
  "kernelspec": {
   "display_name": "Python 3",
   "language": "python",
   "name": "python3"
  },
  "language_info": {
   "codemirror_mode": {
    "name": "ipython",
    "version": 3
   },
   "file_extension": ".py",
   "mimetype": "text/x-python",
   "name": "python",
   "nbconvert_exporter": "python",
   "pygments_lexer": "ipython3",
   "version": "3.6.9"
  }
 },
 "nbformat": 4,
 "nbformat_minor": 1
}
