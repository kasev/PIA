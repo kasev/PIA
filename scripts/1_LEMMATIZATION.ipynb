{
 "cells": [
  {
   "cell_type": "markdown",
   "metadata": {},
   "source": [
    "# Requirements"
   ]
  },
  {
   "cell_type": "code",
   "execution_count": 1,
   "metadata": {
    "colab": {},
    "colab_type": "code",
    "id": "HaAV477_eKPj"
   },
   "outputs": [],
   "source": [
    "from anda import gr"
   ]
  },
  {
   "cell_type": "code",
   "execution_count": 163,
   "metadata": {},
   "outputs": [
    {
     "data": {
      "text/plain": [
       "<module 'anda.gr' from '/Users/au648597/Documents/projects/anda/anda_REPO/anda/gr.py'>"
      ]
     },
     "execution_count": 163,
     "metadata": {},
     "output_type": "execute_result"
    }
   ],
   "source": [
    "# to use the latest version (for development)\n",
    "from importlib import reload\n",
    "reload(gr)"
   ]
  },
  {
   "cell_type": "code",
   "execution_count": 175,
   "metadata": {},
   "outputs": [],
   "source": [
    "import sddk"
   ]
  },
  {
   "cell_type": "markdown",
   "metadata": {},
   "source": [
    "# Usage"
   ]
  },
  {
   "cell_type": "markdown",
   "metadata": {
    "colab_type": "text",
    "id": "yt9T3Oo0gMfK"
   },
   "source": [
    "If you have only one word, you can either return all possible lemmata associated with it separated by `/` (`return_all_unique_lemmata()`), or you can return only the first of them (`return_first_lemma()`). In  case of all lemmatization functions, there is a set of optional additional arguments:\n",
    "* `all_lemmata=False`\n",
    "* `filter_by_postag=None` (try `filter_by_postag=[\"n\",\"a\",\"v\"]` to get nouns, adjectives and verbs\n",
    "* `involve_unknown=False`, i.e. return (True) or omit (False) words in cases where no lemma was found)"
   ]
  },
  {
   "cell_type": "code",
   "execution_count": 25,
   "metadata": {},
   "outputs": [
    {
     "data": {
      "text/plain": [
       "'ἐπιστήμη'"
      ]
     },
     "execution_count": 25,
     "metadata": {},
     "output_type": "execute_result"
    }
   ],
   "source": [
    "gr.return_first_lemma(\"ἐπιστήμην\")"
   ]
  },
  {
   "cell_type": "code",
   "execution_count": 23,
   "metadata": {
    "colab": {
     "base_uri": "https://localhost:8080/",
     "height": 34
    },
    "colab_type": "code",
    "executionInfo": {
     "elapsed": 544,
     "status": "ok",
     "timestamp": 1586177132873,
     "user": {
      "displayName": "Vojtěch Kaše",
      "photoUrl": "https://lh3.googleusercontent.com/a-/AOh14Ggz3jS9e7I3GdIEbyBKFtqr9tPdNCwyLBEJwbK8cw=s64",
      "userId": "01399835024022498543"
     },
     "user_tz": -120
    },
    "id": "uXbHWjligNnF",
    "outputId": "046c8ba6-e4e4-4d28-b24a-786209051284"
   },
   "outputs": [
    {
     "data": {
      "text/plain": [
       "'ἐπιστήμη'"
      ]
     },
     "execution_count": 23,
     "metadata": {},
     "output_type": "execute_result"
    }
   ],
   "source": [
    "gr.return_all_unique_lemmata(\"ἐπιστήμην\")"
   ]
  },
  {
   "cell_type": "markdown",
   "metadata": {
    "colab_type": "text",
    "id": "zng0pa1AiQxr"
   },
   "source": [
    "You can also lemmatize an extensive string, consisting from a number of words, like this one:"
   ]
  },
  {
   "cell_type": "code",
   "execution_count": 40,
   "metadata": {
    "colab": {},
    "colab_type": "code",
    "id": "qmF74g3ueSb7"
   },
   "outputs": [],
   "source": [
    "string = \"Πρότασις μὲν οὖν ἐστὶ λόγος καταφατικὸς ἢ ἀποφατικὸς τινὸς κατά τινος. Οὗτος δὲ ἢ καθόλου ἢ ἐν μέρει ἢ ἀδιόριστος. Λέγω δὲ καθόλου μὲν τὸ παντὶ ἢ μηδενὶ ὑπάρχειν, ἐν μέρει δὲ τὸ τινὶ ἢ μὴ τινὶ ἢ μὴ παντὶ ὑπάρχειν, ἀδιόριστον δὲ τὸ ὑπάρχειν ἢ μὴ ὑπάρχειν ἄνευ τοῦ καθόλου, ἢ κατὰ μέρος, οἷον τὸ τῶν ἐναντίων εἶναι τὴν αὐτὴν ἐπιστήμην ἢ τὸ τὴν ἡδονὴν μὴ εἶναι ἀγαθόν.\""
   ]
  },
  {
   "cell_type": "markdown",
   "metadata": {
    "colab_type": "text",
    "id": "xJHhsoA2iPHU"
   },
   "source": [
    "Then you run:"
   ]
  },
  {
   "cell_type": "code",
   "execution_count": 5,
   "metadata": {
    "colab": {
     "base_uri": "https://localhost:8080/",
     "height": 54
    },
    "colab_type": "code",
    "executionInfo": {
     "elapsed": 553,
     "status": "ok",
     "timestamp": 1586177475558,
     "user": {
      "displayName": "Vojtěch Kaše",
      "photoUrl": "https://lh3.googleusercontent.com/a-/AOh14Ggz3jS9e7I3GdIEbyBKFtqr9tPdNCwyLBEJwbK8cw=s64",
      "userId": "01399835024022498543"
     },
     "user_tz": -120
    },
    "id": "jXgZfGRmgGXP",
    "outputId": "9129245c-757e-42e7-96f4-db4a5c9e60a1"
   },
   "outputs": [
    {
     "name": "stdout",
     "output_type": "stream",
     "text": [
      "['πρότασις', 'λόγος', 'καταφατικός', 'ἀποφατικός', 'καθόλου', 'μέρος', 'ἀδιόριστος', 'λέγω', 'καθόλου', 'πᾶς', 'μηδείς', 'ὑπάρχω', 'μέρος', 'πᾶς', 'ὑπάρχω', 'ἀδιόριστον', 'ὑπάρχω', 'ὑπάρχω', 'ἄνευ', 'καθόλου', 'μέρος', 'οἷος', 'ἐναντίος', 'αὐτην', 'ἐπιστήμη', 'ἡδονην', 'ἀγαθός']\n"
     ]
    }
   ],
   "source": [
    "lemmatized_string = gr.lemmatize_string(string)\n",
    "print(lemmatized_string)"
   ]
  },
  {
   "cell_type": "markdown",
   "metadata": {
    "colab_type": "text",
    "id": "XTtqgHi9kobt"
   },
   "source": [
    "The results above are still quite poor. Perhaps there is a problem with encoding..."
   ]
  },
  {
   "cell_type": "markdown",
   "metadata": {
    "colab_type": "text",
    "id": "j2Jbjst2gQol"
   },
   "source": [
    "You can also lemmatize the string and at the same time split it into sentences:"
   ]
  },
  {
   "cell_type": "code",
   "execution_count": 26,
   "metadata": {},
   "outputs": [
    {
     "name": "stdout",
     "output_type": "stream",
     "text": [
      "[['πρότασις', 'λόγος', 'καταφατικός', 'ἀποφατικός'], ['καθόλου', 'μέρος', 'ἀδιόριστος'], ['λέγω', 'καθόλου', 'πᾶς', 'μηδείς', 'ὑπάρχω', 'μέρος', 'πᾶς', 'ὑπάρχω', 'ἀδιόριστον', 'ὑπάρχω', 'ὑπάρχω', 'ἄνευ', 'καθόλου', 'μέρος', 'οἷος', 'ἐναντίος', 'αὐτην', 'ἐπιστήμη', 'ἡδονην', 'ἀγαθός']]\n"
     ]
    }
   ],
   "source": [
    "lemmatized_sentences = gr.get_lemmatized_sentences(string)\n",
    "print(lemmatized_sentences)"
   ]
  },
  {
   "cell_type": "code",
   "execution_count": 46,
   "metadata": {
    "colab": {
     "base_uri": "https://localhost:8080/",
     "height": 54
    },
    "colab_type": "code",
    "executionInfo": {
     "elapsed": 580,
     "status": "ok",
     "timestamp": 1586176616146,
     "user": {
      "displayName": "Vojtěch Kaše",
      "photoUrl": "https://lh3.googleusercontent.com/a-/AOh14Ggz3jS9e7I3GdIEbyBKFtqr9tPdNCwyLBEJwbK8cw=s64",
      "userId": "01399835024022498543"
     },
     "user_tz": -120
    },
    "id": "r3ZBn24ZfM8U",
    "outputId": "52da26a2-cb25-4748-cb95-a08f1ec56b5e"
   },
   "outputs": [
    {
     "name": "stdout",
     "output_type": "stream",
     "text": [
      "[['λόγος'], ['μέρος'], ['πᾶς', 'μηδείς', 'ὑπάρχω', 'μέρος', 'πᾶς', 'ὑπάρχω', 'ὑπάρχω', 'ὑπάρχω', 'ἄνω/ἀνίημι', 'μέρος', 'οἷος', 'ἐναντίος', 'ἐπιστήμη', 'ἀγαθός']]\n"
     ]
    }
   ],
   "source": [
    "lemmatized_sentences = gr.get_lemmatized_sentences(string, all_lemmata=True, filter_by_postag=[\"n\",\"a\",\"v\"], involve_unknown=False)\n",
    "print(lemmatized_sentences)"
   ]
  },
  {
   "cell_type": "code",
   "execution_count": 33,
   "metadata": {},
   "outputs": [
    {
     "data": {
      "text/plain": [
       "'to begin, make a beginning'"
      ]
     },
     "execution_count": 33,
     "metadata": {},
     "output_type": "execute_result"
    }
   ],
   "source": [
    "gr.return_all_unique_translations(\"ὑπάρχειν\", filter_by_postag=None, involve_unknown=False)"
   ]
  },
  {
   "cell_type": "code",
   "execution_count": 45,
   "metadata": {},
   "outputs": [
    {
     "data": {
      "text/plain": [
       "'the word'"
      ]
     },
     "execution_count": 45,
     "metadata": {},
     "output_type": "execute_result"
    }
   ],
   "source": [
    "gr.lemma_translator(\"λόγος\")"
   ]
  },
  {
   "cell_type": "code",
   "execution_count": 51,
   "metadata": {},
   "outputs": [],
   "source": [
    "string_tokenized = gr.tokenize_string(string)"
   ]
  },
  {
   "cell_type": "code",
   "execution_count": 60,
   "metadata": {},
   "outputs": [
    {
     "data": {
      "text/plain": [
       "[{'i': '564347',\n",
       "  'f': 'μέν',\n",
       "  'b': 'μεν',\n",
       "  'l': 'μέν',\n",
       "  'e': 'μεν',\n",
       "  'p': 'g--------',\n",
       "  'd': '20753',\n",
       "  's': 'on the one hand, on the other hand',\n",
       "  'a': None},\n",
       " {'i': '642363',\n",
       "  'f': 'οὖν',\n",
       "  'b': 'ουν',\n",
       "  'l': 'οὖν',\n",
       "  'e': 'ουν',\n",
       "  'p': 'g--------',\n",
       "  'd': '23870',\n",
       "  's': 'really, at all events',\n",
       "  'a': None},\n",
       " {'i': '264221',\n",
       "  'f': 'ἐστί',\n",
       "  'b': 'εστι',\n",
       "  'l': 'εἰμί',\n",
       "  'e': 'ειμι',\n",
       "  'p': 'v3spia---',\n",
       "  'd': '9722',\n",
       "  's': 'I have',\n",
       "  'a': None}]"
      ]
     },
     "execution_count": 60,
     "metadata": {},
     "output_type": "execute_result"
    }
   ],
   "source": [
    "gr.morphological_analysis(string)[1:4]"
   ]
  },
  {
   "cell_type": "markdown",
   "metadata": {},
   "source": [
    "# Import corpora"
   ]
  },
  {
   "cell_type": "code",
   "execution_count": 4,
   "metadata": {},
   "outputs": [
    {
     "name": "stdout",
     "output_type": "stream",
     "text": [
      "this file is located in a public folder\n",
      "this file is located in a public folder\n"
     ]
    }
   ],
   "source": [
    "c_aristotelicum = sddk.read_file(\"c_aristotelicum.json\", \"df\", \"31b393e2afe1ee96ce81869c7efe18cb\")\n",
    "c_hippocraticum = sddk.read_file(\"c_hippocraticum.json\", \"df\", \"31b393e2afe1ee96ce81869c7efe18cb\")"
   ]
  },
  {
   "cell_type": "markdown",
   "metadata": {},
   "source": [
    "# Testing lemmatization with Nicomachean Ethics\n",
    "\n",
    "This two corpora already contain one version of lemmatization, but here we will improve it"
   ]
  },
  {
   "cell_type": "code",
   "execution_count": 6,
   "metadata": {},
   "outputs": [
    {
     "data": {
      "text/html": [
       "<div>\n",
       "<style scoped>\n",
       "    .dataframe tbody tr th:only-of-type {\n",
       "        vertical-align: middle;\n",
       "    }\n",
       "\n",
       "    .dataframe tbody tr th {\n",
       "        vertical-align: top;\n",
       "    }\n",
       "\n",
       "    .dataframe thead th {\n",
       "        text-align: right;\n",
       "    }\n",
       "</style>\n",
       "<table border=\"1\" class=\"dataframe\">\n",
       "  <thead>\n",
       "    <tr style=\"text-align: right;\">\n",
       "      <th></th>\n",
       "      <th>filename</th>\n",
       "      <th>author</th>\n",
       "      <th>title</th>\n",
       "      <th>string</th>\n",
       "      <th>author_id</th>\n",
       "      <th>doc_id</th>\n",
       "      <th>raw_date</th>\n",
       "      <th>date_avr</th>\n",
       "      <th>date_probs</th>\n",
       "      <th>date_manual</th>\n",
       "      <th>provenience</th>\n",
       "      <th>wordcount</th>\n",
       "      <th>lemmata</th>\n",
       "      <th>lemmatized_sentences</th>\n",
       "      <th>lemmata_wordcount</th>\n",
       "      <th>num_of_sents</th>\n",
       "    </tr>\n",
       "  </thead>\n",
       "  <tbody>\n",
       "    <tr>\n",
       "      <th>685</th>\n",
       "      <td>tlg0086.tlg010.perseus-grc1.xml</td>\n",
       "      <td>Aristotle</td>\n",
       "      <td>Nicomachean Ethics; Machine readable text; ed....</td>\n",
       "      <td>βοοκ 1 πᾶσα τέχνη καὶ πᾶσα μέθοδος, ὁμοίως δὲ ...</td>\n",
       "      <td>tlg0086</td>\n",
       "      <td>tlg0086.tlg010</td>\n",
       "      <td>4 B.C.</td>\n",
       "      <td>-3.5</td>\n",
       "      <td>{'-3.5': 1}</td>\n",
       "      <td>-3.5</td>\n",
       "      <td>pagan</td>\n",
       "      <td>56638</td>\n",
       "      <td>[βοοκ, πᾶς, τέχνη, πᾶς, μέθοδος, ὅμοιος, πρᾶξί...</td>\n",
       "      <td>[[βοοκ, πᾶς, τέχνη, πᾶς, μέθοδος, ὅμοιος, πρᾶξ...</td>\n",
       "      <td>23811</td>\n",
       "      <td>3897</td>\n",
       "    </tr>\n",
       "  </tbody>\n",
       "</table>\n",
       "</div>"
      ],
      "text/plain": [
       "                            filename     author  \\\n",
       "685  tlg0086.tlg010.perseus-grc1.xml  Aristotle   \n",
       "\n",
       "                                                 title  \\\n",
       "685  Nicomachean Ethics; Machine readable text; ed....   \n",
       "\n",
       "                                                string author_id  \\\n",
       "685  βοοκ 1 πᾶσα τέχνη καὶ πᾶσα μέθοδος, ὁμοίως δὲ ...   tlg0086   \n",
       "\n",
       "             doc_id raw_date  date_avr   date_probs  date_manual provenience  \\\n",
       "685  tlg0086.tlg010   4 B.C.      -3.5  {'-3.5': 1}         -3.5       pagan   \n",
       "\n",
       "     wordcount                                            lemmata  \\\n",
       "685      56638  [βοοκ, πᾶς, τέχνη, πᾶς, μέθοδος, ὅμοιος, πρᾶξί...   \n",
       "\n",
       "                                  lemmatized_sentences  lemmata_wordcount  \\\n",
       "685  [[βοοκ, πᾶς, τέχνη, πᾶς, μέθοδος, ὅμοιος, πρᾶξ...              23811   \n",
       "\n",
       "     num_of_sents  \n",
       "685          3897  "
      ]
     },
     "execution_count": 6,
     "metadata": {},
     "output_type": "execute_result"
    }
   ],
   "source": [
    "EN_df = c_aristotelicum[c_aristotelicum[\"doc_id\"]==\"tlg0086.tlg010\"]\n",
    "EN_df"
   ]
  },
  {
   "cell_type": "code",
   "execution_count": 35,
   "metadata": {},
   "outputs": [
    {
     "data": {
      "text/plain": [
       "'βοοκ 1 πᾶσα τέχνη καὶ πᾶσα μέθοδος, ὁμοίως δὲ πρᾶξίς τε καὶ προαίρεσις, ἀγαθοῦ τινὸς ἐφίεσθαι δοκεῖ· διὸ καλῶς ἀπεφήναντο τἀγαθόν, οὗ πάντʼ ἐφίεται. διαφορὰ δέ τις φαίνεται τῶν τελῶν· τὰ μὲν γάρ εἰσιν ἐνέργειαι, τὰ δὲ παρʼ αὐτὰς ἔργα τινά. ὧν δʼ εἰσὶ τέλη τινὰ παρὰ τὰς πράξεις, ἐν τούτοις βελτίω πέφυκε τῶν ἐνεργειῶν τὰ ἔργα. πολλῶν δὲ πράξεων οὐσῶν καὶ τεχνῶν καὶ ἐπιστημῶν πολλὰ γίνεται καὶ τὰ τέλη· ἰατρικῆς μὲν γὰρ ὑγίεια, ναυπηγικῆς δὲ πλοῖον, στρατηγικῆς δὲ νίκη, οἰκονομικῆς δὲ πλοῦτος. ὅσαι '"
      ]
     },
     "execution_count": 35,
     "metadata": {},
     "output_type": "execute_result"
    }
   ],
   "source": [
    "# Nicomachean ethics as a string\"\n",
    "EN_df_string = EN_df[\"string\"].tolist()[0]\n",
    "EN_df_string[:500]"
   ]
  },
  {
   "cell_type": "code",
   "execution_count": 129,
   "metadata": {},
   "outputs": [
    {
     "name": "stdout",
     "output_type": "stream",
     "text": [
      "['βοοκ', 'πᾶς', 'τέχνη', 'πᾶς', 'μέθοδος', 'ὅμοιος', 'πρᾶξίς', 'προαίρεσις', 'ἀγαθός', 'ἐφίημι', 'δοκέω', 'διό', 'καλός', 'ἀποφαίνω', 'ἀγαθός', 'ἕ', 'πάντʼ', 'ἐφίημι', 'διαφορά', 'φαίνω', 'τελέω', 'εἶμι', 'ἐνέργεια', 'παρʼ', 'ἔργον', 'εἶμι', 'τελέω', 'πρᾶξις', 'βελτίων', 'φύω', 'ἐνέργεια', 'ἔργον', 'πολύς', 'πρᾶξις', 'τεχνάζω', 'ἐπιστήμη', 'πολύς', 'γίγνομαι', 'τελέω', 'ἰατρικός', 'ὑγίεια', 'ναυπηγικός', 'πλοῖον', 'στρατηγικός', 'νικάω', 'οἰκονομικός', 'πλοῦτος', 'ὅσος']\n"
     ]
    }
   ],
   "source": [
    "# lemmatization without any parametrization  \n",
    "print(gr.lemmatize_string(EN_df_string[:500]))"
   ]
  },
  {
   "cell_type": "code",
   "execution_count": 113,
   "metadata": {},
   "outputs": [
    {
     "name": "stdout",
     "output_type": "stream",
     "text": [
      "['βοοκ', 'πᾶς/πάσσω', 'τέχνη', 'πᾶς/πάσσω', 'μέθοδος', 'ὅμοιος/ὁμοιόω', 'πρᾶξίς', 'προαίρεσις', 'ἀγαθός', 'τίς/τις', 'ἐφίημι', 'δοκέω', 'διό', 'κάλως/καλός', 'ἀποφαίνω', 'ἀγαθός', 'ὅς/ἵημι/οὗ/ἕ', 'πάντʼ', 'ἐφίημι', 'διαφορά/διάφορος', 'φαίνω', 'τέλος/τέλλω/τελέω', 'εἶμι/εἴσειμι/εἰμί', 'ἐνεργέω/ἐνέργεια', 'παρʼ', 'ἔργον', 'τίς/τις', 'εἶμι/εἰμί', 'τέλος/τελέω', 'τίς/τις', 'πρᾶξις/πράσσω', 'βελτίων', 'φύω', 'ἐνέργεια', 'ἔργον', 'πολύς', 'πρᾶξις/πράσσω', 'τέχνη/τεχνάζω', 'ἐπιστήμων/ἐπιστήμη', 'πολύς', 'γίγνομαι', 'τέλος/τελέω', 'ἰατρικός', 'ὑγίεια', 'ναυπηγικός', 'πλοῖον', 'στρατηγικός', 'νίκη/νῖκος/νικάω', 'οἰκονομικός', 'πλοῦτος', 'ὅσος']\n"
     ]
    }
   ],
   "source": [
    "# lemmatization with all lemmata\n",
    "print(gr.lemmatize_string(EN_df_string[:500], all_lemmata=True))"
   ]
  },
  {
   "cell_type": "code",
   "execution_count": 164,
   "metadata": {},
   "outputs": [
    {
     "name": "stdout",
     "output_type": "stream",
     "text": [
      "['βοοκ', 'πᾶς/πάσσω', 'τέχνη', 'πᾶς/πάσσω', 'μέθοδος', 'ὅμοιος/ὁμοιόω', 'πρᾶξίς', 'προαίρεσις', 'ἀγαθός', 'ἐφίημι', 'δοκέω', 'κάλως', 'ἀποφαίνω', 'ἀγαθός', 'ἵημι', 'πάντʼ', 'ἐφίημι', 'διαφορά', 'φαίνω', 'τέλος', 'εἶμι/εἴσειμι/εἰμί', 'ἐνέργεια', 'παρʼ', 'ἔργον', 'εἶμι/εἰμί', 'τέλος', 'πρᾶξις', 'βελτίων', 'φύω', 'ἐνέργεια', 'ἔργον', 'πολύς', 'πρᾶξις', 'τέχνη', 'ἐπιστήμη', 'πολύς', 'γίγνομαι', 'τέλος', 'ἰατρικός', 'ὑγίεια', 'ναυπηγικός', 'πλοῖον', 'στρατηγικός', 'νίκη/νῖκος', 'οἰκονομικός', 'πλοῦτος', 'ὅσος']\n"
     ]
    }
   ],
   "source": [
    "# lemmatization with all lemmata, but only nouns, adjectives and verbs\n",
    "# prefer noun and adjective where noun, adjective and verb is available\n",
    "# prefer noun where noun and adjective is available\n",
    "print(gr.lemmatize_string(EN_df_string[:500], all_lemmata=True, filter_by_postag=[\"n\",\"a\",\"v\"], involve_unknown=True))"
   ]
  },
  {
   "cell_type": "code",
   "execution_count": 165,
   "metadata": {},
   "outputs": [
    {
     "name": "stdout",
     "output_type": "stream",
     "text": [
      "['βοοκ', 'πᾶς', 'τέχνη', 'πᾶς', 'μέθοδος', 'ὅμοιος', 'πρᾶξίς', 'προαίρεσις', 'ἀγαθός', 'ἐφίημι', 'δοκέω', 'κάλως', 'ἀποφαίνω', 'ἀγαθός', 'ἵημι', 'πάντʼ', 'ἐφίημι', 'διαφορά', 'φαίνω', 'τέλος', 'εἶμι', 'ἐνέργεια', 'παρʼ', 'ἔργον', 'εἶμι', 'τέλος', 'πρᾶξις', 'βελτίων', 'φύω', 'ἐνέργεια', 'ἔργον', 'πολύς', 'πρᾶξις', 'τέχνη', 'ἐπιστήμη', 'πολύς', 'γίγνομαι', 'τέλος', 'ἰατρικός', 'ὑγίεια', 'ναυπηγικός', 'πλοῖον', 'στρατηγικός', 'νίκη', 'οἰκονομικός', 'πλοῦτος', 'ὅσος']\n"
     ]
    }
   ],
   "source": [
    "print(gr.lemmatize_string(EN_df_string[:500], all_lemmata=False, filter_by_postag=[\"n\",\"a\",\"v\"], involve_unknown=True))"
   ]
  },
  {
   "cell_type": "code",
   "execution_count": 166,
   "metadata": {},
   "outputs": [
    {
     "name": "stdout",
     "output_type": "stream",
     "text": [
      "[['βοοκ', 'πᾶς', 'τέχνη', 'πᾶς', 'μέθοδος', 'ὅμοιος', 'πρᾶξίς', 'προαίρεσις', 'ἀγαθός', 'ἐφίημι', 'δοκέω'], ['κάλως', 'ἀποφαίνω', 'ἀγαθός', 'ἵημι', 'πάντʼ', 'ἐφίημι'], ['διαφορά', 'φαίνω', 'τέλος'], ['εἶμι', 'ἐνέργεια', 'παρʼ', 'ἔργον'], ['εἶμι', 'τέλος', 'πρᾶξις', 'βελτίων', 'φύω', 'ἐνέργεια', 'ἔργον'], ['πολύς', 'πρᾶξις', 'τέχνη', 'ἐπιστήμη', 'πολύς', 'γίγνομαι', 'τέλος'], ['ἰατρικός', 'ὑγίεια', 'ναυπηγικός', 'πλοῖον', 'στρατηγικός', 'νίκη', 'οἰκονομικός', 'πλοῦτος'], ['ὅσος', 'εἶμι', 'μίαν', 'δύναμις', 'ἱππικην', 'χαλινοποιική', 'ὅσος', 'ἱππικός', 'ὄργανον', 'εἶμι', 'πᾶς', 'πολεμικός', 'πρᾶξις', 'στρατηγικός', 'τρόπος', 'ὑφʼ', 'ἕτερος'], ['ἅπας', 'ἀρχιτεκτονικῶν', 'τέλος', 'πᾶς', 'αἱρετός', 'ὑπʼ'], ['χάρις', 'ἐκεῖνος', 'διώκω'], ['διαφέρω', 'ἐνέργεια', 'τέλος', 'πρᾶξις', 'ἐπιστήμη'], ['τέλος', 'πρακτός', 'διʼ']]\n"
     ]
    }
   ],
   "source": [
    "print(gr.get_lemmatized_sentences(EN_df_string[:1000], all_lemmata=False, filter_by_postag=[\"n\",\"a\",\"v\"], involve_unknown=True))"
   ]
  },
  {
   "cell_type": "code",
   "execution_count": 167,
   "metadata": {},
   "outputs": [
    {
     "name": "stdout",
     "output_type": "stream",
     "text": [
      "[['πᾶς', 'τέχνη', 'πᾶς', 'μέθοδος', 'ὅμοιος', 'προαίρεσις', 'ἀγαθός', 'ἐφίημι', 'δοκέω'], ['κάλως', 'ἀποφαίνω', 'ἀγαθός', 'ἵημι', 'ἐφίημι'], ['διαφορά', 'φαίνω', 'τέλος'], ['εἶμι', 'ἐνέργεια', 'ἔργον'], ['εἶμι', 'τέλος', 'πρᾶξις', 'βελτίων', 'φύω', 'ἐνέργεια', 'ἔργον'], ['πολύς', 'πρᾶξις', 'τέχνη', 'ἐπιστήμη', 'πολύς', 'γίγνομαι', 'τέλος'], ['ἰατρικός', 'ὑγίεια', 'ναυπηγικός', 'πλοῖον', 'στρατηγικός', 'νίκη', 'οἰκονομικός', 'πλοῦτος'], ['ὅσος', 'εἶμι', 'δύναμις', 'χαλινοποιική', 'ὅσος', 'ἱππικός', 'ὄργανον', 'εἶμι', 'πᾶς', 'πολεμικός', 'πρᾶξις', 'στρατηγικός', 'τρόπος', 'ἕτερος'], ['ἅπας', 'τέλος', 'πᾶς', 'αἱρετός'], ['χάρις', 'ἐκεῖνος', 'διώκω'], ['διαφέρω', 'ἐνέργεια', 'τέλος', 'πρᾶξις', 'ἐπιστήμη'], ['τέλος', 'πρακτός']]\n"
     ]
    }
   ],
   "source": [
    "print(gr.get_lemmatized_sentences(EN_df_string[:1000], all_lemmata=False, filter_by_postag=[\"n\",\"a\",\"v\"], involve_unknown=False))"
   ]
  },
  {
   "cell_type": "code",
   "execution_count": 169,
   "metadata": {},
   "outputs": [
    {
     "data": {
      "text/plain": [
       "[{'i': '390384',\n",
       "  'f': 'ἐφίημι',\n",
       "  'b': 'εφιημι',\n",
       "  'l': 'ἐφίημι',\n",
       "  'e': 'εφιημι',\n",
       "  'p': 'v1spia---',\n",
       "  'd': '14291',\n",
       "  's': 'to send to',\n",
       "  'a': None}]"
      ]
     },
     "execution_count": 169,
     "metadata": {},
     "output_type": "execute_result"
    }
   ],
   "source": [
    "### simple test of how preference works\n",
    "list_of_tokens = gr.return_list_of_tokens(\"ἐφίημι\")\n",
    "token_letters = set([token[\"p\"][0] for token in list_of_tokens])\n",
    "if ((\"n\" or \"a\") in token_letters) and (\"v\" in token_letters):\n",
    "    print(\"met\")\n",
    "    list_of_tokens = [token for token in list_of_tokens if token[\"p\"][0] in [\"a\", \"n\"]]\n",
    "# prefer nouns over adjectives\n",
    "if \"a\" and \"n\" in token_letters:\n",
    "    list_of_tokens = [token for token in list_of_tokens if token[\"p\"][0] == \"n\"]\n",
    "list_of_tokens"
   ]
  },
  {
   "cell_type": "markdown",
   "metadata": {},
   "source": [
    "# Main Lemmatization"
   ]
  },
  {
   "cell_type": "code",
   "execution_count": 170,
   "metadata": {},
   "outputs": [
    {
     "name": "stdout",
     "output_type": "stream",
     "text": [
      "CPU times: user 7.66 s, sys: 220 ms, total: 7.88 s\n",
      "Wall time: 8 s\n"
     ]
    }
   ],
   "source": [
    "%%time\n",
    "c_aristotelicum[\"lemmata\"] = c_aristotelicum.apply(lambda row: gr.lemmatize_string(row[\"string\"], all_lemmata=False, filter_by_postag=[\"n\",\"a\",\"v\"], involve_unknown=True), axis=1)\n",
    "c_hippocraticum[\"lemmata\"] = c_hippocraticum.apply(lambda row: gr.lemmatize_string(row[\"string\"], all_lemmata=False, filter_by_postag=[\"n\",\"a\",\"v\"], involve_unknown=True), axis=1)"
   ]
  },
  {
   "cell_type": "code",
   "execution_count": 171,
   "metadata": {},
   "outputs": [],
   "source": [
    "c_aristotelicum[\"lemmatized_sentences\"] = c_aristotelicum.apply(lambda row: gr.get_lemmatized_sentences(row[\"string\"], all_lemmata=False, filter_by_postag=[\"n\",\"a\",\"v\"], involve_unknown=True), axis=1)\n",
    "c_hippocraticum[\"lemmatized_sentences\"] = c_hippocraticum.apply(lambda row: gr.get_lemmatized_sentences(row[\"string\"], all_lemmata=False, filter_by_postag=[\"n\",\"a\",\"v\"], involve_unknown=True), axis=1)"
   ]
  },
  {
   "cell_type": "code",
   "execution_count": 172,
   "metadata": {},
   "outputs": [
    {
     "data": {
      "text/html": [
       "<div>\n",
       "<style scoped>\n",
       "    .dataframe tbody tr th:only-of-type {\n",
       "        vertical-align: middle;\n",
       "    }\n",
       "\n",
       "    .dataframe tbody tr th {\n",
       "        vertical-align: top;\n",
       "    }\n",
       "\n",
       "    .dataframe thead th {\n",
       "        text-align: right;\n",
       "    }\n",
       "</style>\n",
       "<table border=\"1\" class=\"dataframe\">\n",
       "  <thead>\n",
       "    <tr style=\"text-align: right;\">\n",
       "      <th></th>\n",
       "      <th>filename</th>\n",
       "      <th>author</th>\n",
       "      <th>title</th>\n",
       "      <th>string</th>\n",
       "      <th>author_id</th>\n",
       "      <th>doc_id</th>\n",
       "      <th>raw_date</th>\n",
       "      <th>date_avr</th>\n",
       "      <th>date_probs</th>\n",
       "      <th>date_manual</th>\n",
       "      <th>provenience</th>\n",
       "      <th>wordcount</th>\n",
       "      <th>lemmata</th>\n",
       "      <th>lemmatized_sentences</th>\n",
       "      <th>lemmata_wordcount</th>\n",
       "      <th>num_of_sents</th>\n",
       "    </tr>\n",
       "  </thead>\n",
       "  <tbody>\n",
       "    <tr>\n",
       "      <th>678</th>\n",
       "      <td>tlg0086.tlg001.1st1K-grc2.xml</td>\n",
       "      <td>Aristotle</td>\n",
       "      <td>Aristotelis Analytica Priora et Posteriora; Ar...</td>\n",
       "      <td>ΑΝΑΛΥΤΙΚΩΝ ΠΡΟΤΕΡΩΝ Α. Πρῶτον εἰπεῖν περὶ τί κ...</td>\n",
       "      <td>tlg0086</td>\n",
       "      <td>tlg0086.tlg001</td>\n",
       "      <td>4 B.C.</td>\n",
       "      <td>-3.5</td>\n",
       "      <td>{'-3.5': 1}</td>\n",
       "      <td>-3.5</td>\n",
       "      <td>pagan</td>\n",
       "      <td>59772</td>\n",
       "      <td>[αναλυτικων, προτερων, πρῶτον, εἶπον, σκέψις, ...</td>\n",
       "      <td>[[αναλυτικων, προτερων], [πρῶτον, εἶπον, σκέψι...</td>\n",
       "      <td>21150</td>\n",
       "      <td>3645</td>\n",
       "    </tr>\n",
       "    <tr>\n",
       "      <th>679</th>\n",
       "      <td>tlg0086.tlg002.1st1K-grc2.xml</td>\n",
       "      <td>Aristotle</td>\n",
       "      <td>De anima; Aritoteles De anima</td>\n",
       "      <td>ΠEP1 ΨΥΧΗΣ Α Τῶν καλῶν καὶ τιμίων τὴν εἴδησιν ...</td>\n",
       "      <td>tlg0086</td>\n",
       "      <td>tlg0086.tlg002</td>\n",
       "      <td>4 B.C.</td>\n",
       "      <td>-3.5</td>\n",
       "      <td>{'-3.5': 1}</td>\n",
       "      <td>-3.5</td>\n",
       "      <td>pagan</td>\n",
       "      <td>20988</td>\n",
       "      <td>[ψυχης, κᾶλον, τίμιος, εἶδος, μαλλός, ἕτερος, ...</td>\n",
       "      <td>[[ψυχης, κᾶλον, τίμιος, εἶδος, μαλλός, ἕτερος,...</td>\n",
       "      <td>8893</td>\n",
       "      <td>1306</td>\n",
       "    </tr>\n",
       "    <tr>\n",
       "      <th>681</th>\n",
       "      <td>tlg0086.tlg005.1st1K-grc1.xml</td>\n",
       "      <td>Aristotle</td>\n",
       "      <td>De caelo; Aristoteles De coelo et De generatio...</td>\n",
       "      <td>ΠEPI ΟΥΡΑΝΟΥ A. Ἡ περὶ φύσεως ἐπιστήμη σχεδὸν ...</td>\n",
       "      <td>tlg0086</td>\n",
       "      <td>tlg0086.tlg005</td>\n",
       "      <td>4 B.C.</td>\n",
       "      <td>-3.5</td>\n",
       "      <td>{'-3.5': 1}</td>\n",
       "      <td>-3.5</td>\n",
       "      <td>pagan</td>\n",
       "      <td>31395</td>\n",
       "      <td>[ουρανου, φύσις, ἐπιστήμη, πλεῖστος, φαίνω, σῶ...</td>\n",
       "      <td>[[ουρανου], [φύσις, ἐπιστήμη, πλεῖστος, φαίνω,...</td>\n",
       "      <td>12915</td>\n",
       "      <td>1986</td>\n",
       "    </tr>\n",
       "    <tr>\n",
       "      <th>682</th>\n",
       "      <td>tlg0086.tlg006.1st1K-grc1.xml</td>\n",
       "      <td>Aristotle</td>\n",
       "      <td>Categoriae; Aristotelis Opera</td>\n",
       "      <td>ΚΑΤΗΓΟΡΙΑΙ. ὉΜΩΝΥΜΑ λέγεται ὧν ὄνομα μόνον κοι...</td>\n",
       "      <td>tlg0086</td>\n",
       "      <td>tlg0086.tlg006</td>\n",
       "      <td>4 B.C.</td>\n",
       "      <td>-3.5</td>\n",
       "      <td>{'-3.5': 1}</td>\n",
       "      <td>-3.5</td>\n",
       "      <td>pagan</td>\n",
       "      <td>10317</td>\n",
       "      <td>[κατηγοριαι, ὁμωνυμα, λέγω, ὄνομα, μόνος, κοιν...</td>\n",
       "      <td>[[κατηγοριαι], [ὁμωνυμα, λέγω, ὄνομα, μόνος, κ...</td>\n",
       "      <td>4372</td>\n",
       "      <td>659</td>\n",
       "    </tr>\n",
       "    <tr>\n",
       "      <th>683</th>\n",
       "      <td>tlg0086.tlg008.1st1K-grc1.xml</td>\n",
       "      <td>Aristotle</td>\n",
       "      <td>De divinatione per somnum; Aristotelis Opera</td>\n",
       "      <td>ΠΕΡΙ ΕΝΥΠΝΙΩΝ ΚΑΙ ΤΗΣ ΚΑΘ’ ΥΠΝΟΝ ΜΑΝΤΙΚΗΣ. Περ...</td>\n",
       "      <td>tlg0086</td>\n",
       "      <td>tlg0086.tlg008</td>\n",
       "      <td>4 B.C.</td>\n",
       "      <td>-3.5</td>\n",
       "      <td>{'-3.5': 1}</td>\n",
       "      <td>-3.5</td>\n",
       "      <td>pagan</td>\n",
       "      <td>1207</td>\n",
       "      <td>[περι, ενυπνιων, και, της, καθ, υπνον, μαντικη...</td>\n",
       "      <td>[[περι, ενυπνιων, και, της, καθ, υπνον, μαντικ...</td>\n",
       "      <td>533</td>\n",
       "      <td>69</td>\n",
       "    </tr>\n",
       "  </tbody>\n",
       "</table>\n",
       "</div>"
      ],
      "text/plain": [
       "                          filename     author  \\\n",
       "678  tlg0086.tlg001.1st1K-grc2.xml  Aristotle   \n",
       "679  tlg0086.tlg002.1st1K-grc2.xml  Aristotle   \n",
       "681  tlg0086.tlg005.1st1K-grc1.xml  Aristotle   \n",
       "682  tlg0086.tlg006.1st1K-grc1.xml  Aristotle   \n",
       "683  tlg0086.tlg008.1st1K-grc1.xml  Aristotle   \n",
       "\n",
       "                                                 title  \\\n",
       "678  Aristotelis Analytica Priora et Posteriora; Ar...   \n",
       "679                      De anima; Aritoteles De anima   \n",
       "681  De caelo; Aristoteles De coelo et De generatio...   \n",
       "682                      Categoriae; Aristotelis Opera   \n",
       "683       De divinatione per somnum; Aristotelis Opera   \n",
       "\n",
       "                                                string author_id  \\\n",
       "678  ΑΝΑΛΥΤΙΚΩΝ ΠΡΟΤΕΡΩΝ Α. Πρῶτον εἰπεῖν περὶ τί κ...   tlg0086   \n",
       "679  ΠEP1 ΨΥΧΗΣ Α Τῶν καλῶν καὶ τιμίων τὴν εἴδησιν ...   tlg0086   \n",
       "681  ΠEPI ΟΥΡΑΝΟΥ A. Ἡ περὶ φύσεως ἐπιστήμη σχεδὸν ...   tlg0086   \n",
       "682  ΚΑΤΗΓΟΡΙΑΙ. ὉΜΩΝΥΜΑ λέγεται ὧν ὄνομα μόνον κοι...   tlg0086   \n",
       "683  ΠΕΡΙ ΕΝΥΠΝΙΩΝ ΚΑΙ ΤΗΣ ΚΑΘ’ ΥΠΝΟΝ ΜΑΝΤΙΚΗΣ. Περ...   tlg0086   \n",
       "\n",
       "             doc_id raw_date  date_avr   date_probs  date_manual provenience  \\\n",
       "678  tlg0086.tlg001   4 B.C.      -3.5  {'-3.5': 1}         -3.5       pagan   \n",
       "679  tlg0086.tlg002   4 B.C.      -3.5  {'-3.5': 1}         -3.5       pagan   \n",
       "681  tlg0086.tlg005   4 B.C.      -3.5  {'-3.5': 1}         -3.5       pagan   \n",
       "682  tlg0086.tlg006   4 B.C.      -3.5  {'-3.5': 1}         -3.5       pagan   \n",
       "683  tlg0086.tlg008   4 B.C.      -3.5  {'-3.5': 1}         -3.5       pagan   \n",
       "\n",
       "     wordcount                                            lemmata  \\\n",
       "678      59772  [αναλυτικων, προτερων, πρῶτον, εἶπον, σκέψις, ...   \n",
       "679      20988  [ψυχης, κᾶλον, τίμιος, εἶδος, μαλλός, ἕτερος, ...   \n",
       "681      31395  [ουρανου, φύσις, ἐπιστήμη, πλεῖστος, φαίνω, σῶ...   \n",
       "682      10317  [κατηγοριαι, ὁμωνυμα, λέγω, ὄνομα, μόνος, κοιν...   \n",
       "683       1207  [περι, ενυπνιων, και, της, καθ, υπνον, μαντικη...   \n",
       "\n",
       "                                  lemmatized_sentences  lemmata_wordcount  \\\n",
       "678  [[αναλυτικων, προτερων], [πρῶτον, εἶπον, σκέψι...              21150   \n",
       "679  [[ψυχης, κᾶλον, τίμιος, εἶδος, μαλλός, ἕτερος,...               8893   \n",
       "681  [[ουρανου], [φύσις, ἐπιστήμη, πλεῖστος, φαίνω,...              12915   \n",
       "682  [[κατηγοριαι], [ὁμωνυμα, λέγω, ὄνομα, μόνος, κ...               4372   \n",
       "683  [[περι, ενυπνιων, και, της, καθ, υπνον, μαντικ...                533   \n",
       "\n",
       "     num_of_sents  \n",
       "678          3645  \n",
       "679          1306  \n",
       "681          1986  \n",
       "682           659  \n",
       "683            69  "
      ]
     },
     "execution_count": 172,
     "metadata": {},
     "output_type": "execute_result"
    }
   ],
   "source": [
    "c_aristotelicum.head(5)"
   ]
  },
  {
   "cell_type": "code",
   "execution_count": 177,
   "metadata": {},
   "outputs": [
    {
     "name": "stdin",
     "output_type": "stream",
     "text": [
      "sciencedata.dk username (format '123456@au.dk'):  648597@au.dk\n",
      "sciencedata.dk password:  ········\n"
     ]
    },
    {
     "name": "stdout",
     "output_type": "stream",
     "text": [
      "endpoint variable has been configured to: https://sciencedata.dk/files/\n",
      "A file with the same name (\"c_aristotelicum.json\") already exists in this location.\n"
     ]
    },
    {
     "name": "stdin",
     "output_type": "stream",
     "text": [
      "Press Enter to overwrite it or choose different path and filename:  \n"
     ]
    },
    {
     "name": "stdout",
     "output_type": "stream",
     "text": [
      "Your <class 'pandas.core.frame.DataFrame'> object has been succefully written as \"https://sciencedata.dk/files/public_data/PIA/c_aristotelicum.json\"\n",
      "A file with the same name (\"c_hippocraticum.json\") already exists in this location.\n"
     ]
    },
    {
     "name": "stdin",
     "output_type": "stream",
     "text": [
      "Press Enter to overwrite it or choose different path and filename:  \n"
     ]
    },
    {
     "name": "stdout",
     "output_type": "stream",
     "text": [
      "Your <class 'pandas.core.frame.DataFrame'> object has been succefully written as \"https://sciencedata.dk/files/public_data/PIA/c_hippocraticum.json\"\n"
     ]
    }
   ],
   "source": [
    "conf = sddk.configure()\n",
    "sddk.write_file(\"public_data/PIA/c_aristotelicum.json\", c_aristotelicum, conf)\n",
    "sddk.write_file(\"public_data/PIA/c_hippocraticum.json\", c_hippocraticum, conf)"
   ]
  },
  {
   "cell_type": "code",
   "execution_count": null,
   "metadata": {},
   "outputs": [],
   "source": []
  }
 ],
 "metadata": {
  "colab": {
   "authorship_tag": "ABX9TyPYZDTpBuQbzMs+xLIRQQTd",
   "collapsed_sections": [],
   "name": "anda_gr_example.ipynb",
   "provenance": []
  },
  "kernelspec": {
   "display_name": "Python 3",
   "language": "python",
   "name": "python3"
  },
  "language_info": {
   "codemirror_mode": {
    "name": "ipython",
    "version": 3
   },
   "file_extension": ".py",
   "mimetype": "text/x-python",
   "name": "python",
   "nbconvert_exporter": "python",
   "pygments_lexer": "ipython3",
   "version": "3.6.8"
  }
 },
 "nbformat": 4,
 "nbformat_minor": 4
}
