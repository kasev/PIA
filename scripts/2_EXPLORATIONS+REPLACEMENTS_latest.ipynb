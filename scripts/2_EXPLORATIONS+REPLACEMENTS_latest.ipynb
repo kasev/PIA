{
  "nbformat": 4,
  "nbformat_minor": 0,
  "metadata": {
    "colab": {
      "name": "2_EXPLORATIONS+REPLACEMENTS.ipynb",
      "provenance": [],
      "collapsed_sections": []
    },
    "kernelspec": {
      "name": "python3",
      "display_name": "Python 3"
    }
  },
  "cells": [
    {
      "cell_type": "code",
      "metadata": {
        "id": "YLcAu3mXJOpL",
        "colab_type": "code",
        "colab": {
          "base_uri": "https://localhost:8080/",
          "height": 390
        },
        "outputId": "492c69c1-ad85-46ca-c5bf-da3578995676"
      },
      "source": [
        "### PREREQUISTIES\n",
        "### (many used only in one notebook...)\n",
        "\n",
        "import os\n",
        "import pandas as pd\n",
        "import numpy as np\n",
        "import logging ### to monitor the code\n",
        "from bs4 import BeautifulSoup\n",
        "import pickle\n",
        "import math\n",
        "import random\n",
        "import sys\n",
        "import csv\n",
        "import unicodedata\n",
        "import requests\n",
        "import re\n",
        "\n",
        "import nltk\n",
        "from nltk.collocations import *\n",
        "\n",
        "import networkx as nx\n",
        "\n",
        "import matplotlib.pyplot as plt\n",
        "import seaborn as sns\n",
        "\n",
        "from scipy import stats\n",
        "\n",
        "import xml.etree.cElementTree as ET\n",
        "from urllib.request import urlopen\n",
        "\n",
        "import gspread\n",
        "from gspread_dataframe import get_as_dataframe, set_with_dataframe\n",
        "from google.colab import auth\n",
        "from oauth2client.client import GoogleCredentials\n",
        "\n",
        "!pip install sddk\n",
        "import sddk"
      ],
      "execution_count": 1,
      "outputs": [
        {
          "output_type": "stream",
          "text": [
            "/usr/local/lib/python3.6/dist-packages/statsmodels/tools/_testing.py:19: FutureWarning: pandas.util.testing is deprecated. Use the functions in the public API at pandas.testing instead.\n",
            "  import pandas.util.testing as tm\n"
          ],
          "name": "stderr"
        },
        {
          "output_type": "stream",
          "text": [
            "Collecting sddk\n",
            "  Downloading https://files.pythonhosted.org/packages/bf/96/3ae43f2d8ac06fc16ba111916970e5a1f3b96a3e41732fa3f099e2e5cd1c/sddk-2.6-py3-none-any.whl\n",
            "Requirement already satisfied: pandas in /usr/local/lib/python3.6/dist-packages (from sddk) (1.0.5)\n",
            "Requirement already satisfied: pyarrow in /usr/local/lib/python3.6/dist-packages (from sddk) (0.14.1)\n",
            "Requirement already satisfied: matplotlib in /usr/local/lib/python3.6/dist-packages (from sddk) (3.2.2)\n",
            "Requirement already satisfied: requests in /usr/local/lib/python3.6/dist-packages (from sddk) (2.23.0)\n",
            "Requirement already satisfied: numpy in /usr/local/lib/python3.6/dist-packages (from sddk) (1.18.5)\n",
            "Requirement already satisfied: pytz>=2017.2 in /usr/local/lib/python3.6/dist-packages (from pandas->sddk) (2018.9)\n",
            "Requirement already satisfied: python-dateutil>=2.6.1 in /usr/local/lib/python3.6/dist-packages (from pandas->sddk) (2.8.1)\n",
            "Requirement already satisfied: six>=1.0.0 in /usr/local/lib/python3.6/dist-packages (from pyarrow->sddk) (1.12.0)\n",
            "Requirement already satisfied: cycler>=0.10 in /usr/local/lib/python3.6/dist-packages (from matplotlib->sddk) (0.10.0)\n",
            "Requirement already satisfied: kiwisolver>=1.0.1 in /usr/local/lib/python3.6/dist-packages (from matplotlib->sddk) (1.2.0)\n",
            "Requirement already satisfied: pyparsing!=2.0.4,!=2.1.2,!=2.1.6,>=2.0.1 in /usr/local/lib/python3.6/dist-packages (from matplotlib->sddk) (2.4.7)\n",
            "Requirement already satisfied: urllib3!=1.25.0,!=1.25.1,<1.26,>=1.21.1 in /usr/local/lib/python3.6/dist-packages (from requests->sddk) (1.24.3)\n",
            "Requirement already satisfied: chardet<4,>=3.0.2 in /usr/local/lib/python3.6/dist-packages (from requests->sddk) (3.0.4)\n",
            "Requirement already satisfied: idna<3,>=2.5 in /usr/local/lib/python3.6/dist-packages (from requests->sddk) (2.9)\n",
            "Requirement already satisfied: certifi>=2017.4.17 in /usr/local/lib/python3.6/dist-packages (from requests->sddk) (2020.6.20)\n",
            "Installing collected packages: sddk\n",
            "Successfully installed sddk-2.6\n"
          ],
          "name": "stdout"
        }
      ]
    },
    {
      "cell_type": "code",
      "metadata": {
        "id": "W2TxLXhwp_zD",
        "colab_type": "code",
        "colab": {
          "base_uri": "https://localhost:8080/",
          "height": 121
        },
        "outputId": "9533ee1c-cb45-4850-cf8c-deac01ebb324"
      },
      "source": [
        "!pip install anda\n",
        "from anda import gr ### the import takes substantial time, since it import a +600MB file containing ancient Greek dictionary"
      ],
      "execution_count": 20,
      "outputs": [
        {
          "output_type": "stream",
          "text": [
            "Collecting anda\n",
            "\u001b[?25l  Downloading https://files.pythonhosted.org/packages/a4/52/a0bf69e5d1f865b505ac42a4701ea0fbdf2c7f97b0c11acf60d40f286760/anda-0.0.8-py3-none-any.whl (21.3MB)\n",
            "\u001b[K     |████████████████████████████████| 21.3MB 1.8MB/s \n",
            "\u001b[?25hInstalling collected packages: anda\n",
            "Successfully installed anda-0.0.8\n"
          ],
          "name": "stdout"
        }
      ]
    },
    {
      "cell_type": "code",
      "metadata": {
        "id": "Vk65k519TvBW",
        "colab_type": "code",
        "colab": {
          "base_uri": "https://localhost:8080/",
          "height": 68
        },
        "outputId": "34be74fc-cceb-4dc8-e958-ccc35d1d6f2b"
      },
      "source": [
        "### not neccessary for reading the data, just for exporting them to sciencedata.dk\n",
        "#conf = sddk.configurel()"
      ],
      "execution_count": null,
      "outputs": [
        {
          "output_type": "stream",
          "text": [
            "sciencedata.dk username (format '123456@au.dk'): 648597@au.dk\n",
            "sciencedata.dk password: ··········\n",
            "endpoint variable has been configured to: https://sciencedata.dk/files/\n"
          ],
          "name": "stdout"
        }
      ]
    },
    {
      "cell_type": "code",
      "metadata": {
        "id": "R52NxzfHf8kS",
        "colab_type": "code",
        "colab": {}
      },
      "source": [
        "### authorize google sheets\n",
        "auth.authenticate_user()\n",
        "gc = gspread.authorize(GoogleCredentials.get_application_default())\n",
        "# establish connection with particular sheet by its url:\n",
        "\n",
        "PIA_data = gc.open_by_url(\"https://docs.google.com/spreadsheets/d/1KxOx7Be9fj3lDcEPgQhQ-Iqcn9p367-MMD6RMXe8rks/edit?usp=sharing\")\n",
        "PIA_overview = gc.open_by_url(\"https://docs.google.com/spreadsheets/d/1e94wyelg6dftQ4zxbq1xvwxWAI-BhcYXtclDW-YTnrw/edit?usp=sharing\")"
      ],
      "execution_count": 41,
      "outputs": []
    },
    {
      "cell_type": "code",
      "metadata": {
        "id": "WgcTdGdG3sdE",
        "colab_type": "code",
        "colab": {
          "base_uri": "https://localhost:8080/",
          "height": 50
        },
        "outputId": "61f1f1e3-92f8-4b28-e53f-7b9551fa5d69"
      },
      "source": [
        "### our data are located within a publicly available folder on sciencedata.dk\n",
        "publicfolder = \"31b393e2afe1ee96ce81869c7efe18cb\"\n",
        "c_aristotelicum = sddk.read_file(\"c_aristotelicum.json\", \"df\", publicfolder)\n",
        "c_hippocraticum = sddk.read_file(\"c_hippocraticum.json\", \"df\", publicfolder)"
      ],
      "execution_count": 3,
      "outputs": [
        {
          "output_type": "stream",
          "text": [
            "this file is located in a public folder\n",
            "this file is located in a public folder\n"
          ],
          "name": "stdout"
        }
      ]
    },
    {
      "cell_type": "code",
      "metadata": {
        "id": "O24rUTeB7q8M",
        "colab_type": "code",
        "colab": {
          "base_uri": "https://localhost:8080/",
          "height": 618
        },
        "outputId": "d1dbf6bf-94c7-48c2-9e00-e31c328d7190"
      },
      "source": [
        "c_aristotelicum.head(5)"
      ],
      "execution_count": 4,
      "outputs": [
        {
          "output_type": "execute_result",
          "data": {
            "text/html": [
              "<div>\n",
              "<style scoped>\n",
              "    .dataframe tbody tr th:only-of-type {\n",
              "        vertical-align: middle;\n",
              "    }\n",
              "\n",
              "    .dataframe tbody tr th {\n",
              "        vertical-align: top;\n",
              "    }\n",
              "\n",
              "    .dataframe thead th {\n",
              "        text-align: right;\n",
              "    }\n",
              "</style>\n",
              "<table border=\"1\" class=\"dataframe\">\n",
              "  <thead>\n",
              "    <tr style=\"text-align: right;\">\n",
              "      <th></th>\n",
              "      <th>filename</th>\n",
              "      <th>author</th>\n",
              "      <th>title</th>\n",
              "      <th>string</th>\n",
              "      <th>author_id</th>\n",
              "      <th>doc_id</th>\n",
              "      <th>raw_date</th>\n",
              "      <th>date_avr</th>\n",
              "      <th>date_probs</th>\n",
              "      <th>date_manual</th>\n",
              "      <th>provenience</th>\n",
              "      <th>wordcount</th>\n",
              "      <th>lemmata</th>\n",
              "      <th>lemmatized_sentences</th>\n",
              "      <th>lemmata_wordcount</th>\n",
              "      <th>num_of_sents</th>\n",
              "    </tr>\n",
              "  </thead>\n",
              "  <tbody>\n",
              "    <tr>\n",
              "      <th>678</th>\n",
              "      <td>tlg0086.tlg001.1st1K-grc2.xml</td>\n",
              "      <td>Aristotle</td>\n",
              "      <td>Aristotelis Analytica Priora et Posteriora; Ar...</td>\n",
              "      <td>ΑΝΑΛΥΤΙΚΩΝ ΠΡΟΤΕΡΩΝ Α. Πρῶτον εἰπεῖν περὶ τί κ...</td>\n",
              "      <td>tlg0086</td>\n",
              "      <td>tlg0086.tlg001</td>\n",
              "      <td>4 B.C.</td>\n",
              "      <td>-3.5</td>\n",
              "      <td>{'-3.5': 1}</td>\n",
              "      <td>-3.5</td>\n",
              "      <td>pagan</td>\n",
              "      <td>59772</td>\n",
              "      <td>[αναλυτικων, πρότερος, πρότερος, εἶπον, σκέψις...</td>\n",
              "      <td>[[αναλυτικων, πρότερος], [πρότερος, εἶπον, σκέ...</td>\n",
              "      <td>21150</td>\n",
              "      <td>3645</td>\n",
              "    </tr>\n",
              "    <tr>\n",
              "      <th>679</th>\n",
              "      <td>tlg0086.tlg002.1st1K-grc2.xml</td>\n",
              "      <td>Aristotle</td>\n",
              "      <td>De anima; Aritoteles De anima</td>\n",
              "      <td>ΠEP1 ΨΥΧΗΣ Α Τῶν καλῶν καὶ τιμίων τὴν εἴδησιν ...</td>\n",
              "      <td>tlg0086</td>\n",
              "      <td>tlg0086.tlg002</td>\n",
              "      <td>4 B.C.</td>\n",
              "      <td>-3.5</td>\n",
              "      <td>{'-3.5': 1}</td>\n",
              "      <td>-3.5</td>\n",
              "      <td>pagan</td>\n",
              "      <td>20988</td>\n",
              "      <td>[ψυχή, κᾶλον, τίμιος, εἶδος, μαλλός, ἕτερος, ἕ...</td>\n",
              "      <td>[[ψυχή, κᾶλον, τίμιος, εἶδος, μαλλός, ἕτερος, ...</td>\n",
              "      <td>8893</td>\n",
              "      <td>1306</td>\n",
              "    </tr>\n",
              "    <tr>\n",
              "      <th>681</th>\n",
              "      <td>tlg0086.tlg005.1st1K-grc1.xml</td>\n",
              "      <td>Aristotle</td>\n",
              "      <td>De caelo; Aristoteles De coelo et De generatio...</td>\n",
              "      <td>ΠEPI ΟΥΡΑΝΟΥ A. Ἡ περὶ φύσεως ἐπιστήμη σχεδὸν ...</td>\n",
              "      <td>tlg0086</td>\n",
              "      <td>tlg0086.tlg005</td>\n",
              "      <td>4 B.C.</td>\n",
              "      <td>-3.5</td>\n",
              "      <td>{'-3.5': 1}</td>\n",
              "      <td>-3.5</td>\n",
              "      <td>pagan</td>\n",
              "      <td>31395</td>\n",
              "      <td>[οὐρανός, φύσις, ἐπιστήμη, πλεῖστος, φαίνω, σῶ...</td>\n",
              "      <td>[[οὐρανός], [φύσις, ἐπιστήμη, πλεῖστος, φαίνω,...</td>\n",
              "      <td>12915</td>\n",
              "      <td>1986</td>\n",
              "    </tr>\n",
              "    <tr>\n",
              "      <th>682</th>\n",
              "      <td>tlg0086.tlg006.1st1K-grc1.xml</td>\n",
              "      <td>Aristotle</td>\n",
              "      <td>Categoriae; Aristotelis Opera</td>\n",
              "      <td>ΚΑΤΗΓΟΡΙΑΙ. ὉΜΩΝΥΜΑ λέγεται ὧν ὄνομα μόνον κοι...</td>\n",
              "      <td>tlg0086</td>\n",
              "      <td>tlg0086.tlg006</td>\n",
              "      <td>4 B.C.</td>\n",
              "      <td>-3.5</td>\n",
              "      <td>{'-3.5': 1}</td>\n",
              "      <td>-3.5</td>\n",
              "      <td>pagan</td>\n",
              "      <td>10317</td>\n",
              "      <td>[κατηγορία, ὁμωνυμα, λέγω, ὄνομα, μόνος, κοινό...</td>\n",
              "      <td>[[κατηγορία], [ὁμωνυμα, λέγω, ὄνομα, μόνος, κο...</td>\n",
              "      <td>4372</td>\n",
              "      <td>659</td>\n",
              "    </tr>\n",
              "    <tr>\n",
              "      <th>683</th>\n",
              "      <td>tlg0086.tlg008.1st1K-grc1.xml</td>\n",
              "      <td>Aristotle</td>\n",
              "      <td>De divinatione per somnum; Aristotelis Opera</td>\n",
              "      <td>ΠΕΡΙ ΕΝΥΠΝΙΩΝ ΚΑΙ ΤΗΣ ΚΑΘ’ ΥΠΝΟΝ ΜΑΝΤΙΚΗΣ. Περ...</td>\n",
              "      <td>tlg0086</td>\n",
              "      <td>tlg0086.tlg008</td>\n",
              "      <td>4 B.C.</td>\n",
              "      <td>-3.5</td>\n",
              "      <td>{'-3.5': 1}</td>\n",
              "      <td>-3.5</td>\n",
              "      <td>pagan</td>\n",
              "      <td>1207</td>\n",
              "      <td>[ἐνύπνιον, ἀκή, ἄατος, ὕπνος, μαντικός, μαντικ...</td>\n",
              "      <td>[[ἐνύπνιον, ἀκή, ἄατος, ὕπνος, μαντικός], [μαν...</td>\n",
              "      <td>533</td>\n",
              "      <td>69</td>\n",
              "    </tr>\n",
              "  </tbody>\n",
              "</table>\n",
              "</div>"
            ],
            "text/plain": [
              "                          filename     author  ... lemmata_wordcount num_of_sents\n",
              "678  tlg0086.tlg001.1st1K-grc2.xml  Aristotle  ...             21150         3645\n",
              "679  tlg0086.tlg002.1st1K-grc2.xml  Aristotle  ...              8893         1306\n",
              "681  tlg0086.tlg005.1st1K-grc1.xml  Aristotle  ...             12915         1986\n",
              "682  tlg0086.tlg006.1st1K-grc1.xml  Aristotle  ...              4372          659\n",
              "683  tlg0086.tlg008.1st1K-grc1.xml  Aristotle  ...               533           69\n",
              "\n",
              "[5 rows x 16 columns]"
            ]
          },
          "metadata": {
            "tags": []
          },
          "execution_count": 4
        }
      ]
    },
    {
      "cell_type": "markdown",
      "metadata": {
        "id": "75BYeQ0g8sac",
        "colab_type": "text"
      },
      "source": [
        "# Exploring Nicomachean Ethics\n",
        "feel free to skip this section"
      ]
    },
    {
      "cell_type": "code",
      "metadata": {
        "id": "ooP_2VzEoOdB",
        "colab_type": "code",
        "colab": {
          "base_uri": "https://localhost:8080/",
          "height": 198
        },
        "outputId": "10693c9d-b6df-494f-9dea-4da29a510bb6"
      },
      "source": [
        "EN_df = c_aristotelicum[c_aristotelicum[\"doc_id\"]==\"tlg0086.tlg010\"]\n",
        "EN_df"
      ],
      "execution_count": 5,
      "outputs": [
        {
          "output_type": "execute_result",
          "data": {
            "text/html": [
              "<div>\n",
              "<style scoped>\n",
              "    .dataframe tbody tr th:only-of-type {\n",
              "        vertical-align: middle;\n",
              "    }\n",
              "\n",
              "    .dataframe tbody tr th {\n",
              "        vertical-align: top;\n",
              "    }\n",
              "\n",
              "    .dataframe thead th {\n",
              "        text-align: right;\n",
              "    }\n",
              "</style>\n",
              "<table border=\"1\" class=\"dataframe\">\n",
              "  <thead>\n",
              "    <tr style=\"text-align: right;\">\n",
              "      <th></th>\n",
              "      <th>filename</th>\n",
              "      <th>author</th>\n",
              "      <th>title</th>\n",
              "      <th>string</th>\n",
              "      <th>author_id</th>\n",
              "      <th>doc_id</th>\n",
              "      <th>raw_date</th>\n",
              "      <th>date_avr</th>\n",
              "      <th>date_probs</th>\n",
              "      <th>date_manual</th>\n",
              "      <th>provenience</th>\n",
              "      <th>wordcount</th>\n",
              "      <th>lemmata</th>\n",
              "      <th>lemmatized_sentences</th>\n",
              "      <th>lemmata_wordcount</th>\n",
              "      <th>num_of_sents</th>\n",
              "    </tr>\n",
              "  </thead>\n",
              "  <tbody>\n",
              "    <tr>\n",
              "      <th>685</th>\n",
              "      <td>tlg0086.tlg010.perseus-grc1.xml</td>\n",
              "      <td>Aristotle</td>\n",
              "      <td>Nicomachean Ethics; Machine readable text; ed....</td>\n",
              "      <td>βοοκ 1 πᾶσα τέχνη καὶ πᾶσα μέθοδος, ὁμοίως δὲ ...</td>\n",
              "      <td>tlg0086</td>\n",
              "      <td>tlg0086.tlg010</td>\n",
              "      <td>4 B.C.</td>\n",
              "      <td>-3.5</td>\n",
              "      <td>{'-3.5': 1}</td>\n",
              "      <td>-3.5</td>\n",
              "      <td>pagan</td>\n",
              "      <td>56638</td>\n",
              "      <td>[βοοκ, πᾶς, τέχνη, πᾶς, μέθοδος, ὅμοιος, πρᾶξί...</td>\n",
              "      <td>[[βοοκ, πᾶς, τέχνη, πᾶς, μέθοδος, ὅμοιος, πρᾶξ...</td>\n",
              "      <td>23811</td>\n",
              "      <td>3897</td>\n",
              "    </tr>\n",
              "  </tbody>\n",
              "</table>\n",
              "</div>"
            ],
            "text/plain": [
              "                            filename  ... num_of_sents\n",
              "685  tlg0086.tlg010.perseus-grc1.xml  ...         3897\n",
              "\n",
              "[1 rows x 16 columns]"
            ]
          },
          "metadata": {
            "tags": []
          },
          "execution_count": 5
        }
      ]
    },
    {
      "cell_type": "code",
      "metadata": {
        "id": "fWm9Jl4OoPBB",
        "colab_type": "code",
        "colab": {
          "base_uri": "https://localhost:8080/",
          "height": 153
        },
        "outputId": "5a4a2f28-1172-4a1e-d772-e0ba830b9038"
      },
      "source": [
        "EN_df[\"string\"].tolist()[0][:1000]"
      ],
      "execution_count": 6,
      "outputs": [
        {
          "output_type": "execute_result",
          "data": {
            "application/vnd.google.colaboratory.intrinsic": {
              "type": "string"
            },
            "text/plain": [
              "'βοοκ 1 πᾶσα τέχνη καὶ πᾶσα μέθοδος, ὁμοίως δὲ πρᾶξίς τε καὶ προαίρεσις, ἀγαθοῦ τινὸς ἐφίεσθαι δοκεῖ· διὸ καλῶς ἀπεφήναντο τἀγαθόν, οὗ πάντʼ ἐφίεται. διαφορὰ δέ τις φαίνεται τῶν τελῶν· τὰ μὲν γάρ εἰσιν ἐνέργειαι, τὰ δὲ παρʼ αὐτὰς ἔργα τινά. ὧν δʼ εἰσὶ τέλη τινὰ παρὰ τὰς πράξεις, ἐν τούτοις βελτίω πέφυκε τῶν ἐνεργειῶν τὰ ἔργα. πολλῶν δὲ πράξεων οὐσῶν καὶ τεχνῶν καὶ ἐπιστημῶν πολλὰ γίνεται καὶ τὰ τέλη· ἰατρικῆς μὲν γὰρ ὑγίεια, ναυπηγικῆς δὲ πλοῖον, στρατηγικῆς δὲ νίκη, οἰκονομικῆς δὲ πλοῦτος. ὅσαι δʼ εἰσὶ τῶν τοιούτων ὑπὸ μίαν τινὰ δύναμιν, καθάπερ ὑπὸ τὴν ἱππικὴν χαλινοποιικὴ καὶ ὅσαι ἄλλαι τῶν ἱππικῶν ὀργάνων εἰσίν, αὕτη δὲ καὶ πᾶσα πολεμικὴ πρᾶξις ὑπὸ τὴν στρατηγικήν, κατὰ τὸν αὐτὸν δὴ τρόπον ἄλλαι ὑφʼ ἑτέρας· ἐν ἁπάσαις δὲ τὰ τῶν ἀρχιτεκτονικῶν τέλη πάντων ἐστὶν αἱρετώτερα τῶν ὑπʼ αὐτά· τούτων γὰρ χάριν κἀκεῖνα διώκεται. διαφέρει δʼ οὐδὲν τὰς ἐνεργείας αὐτὰς εἶναι τὰ τέλη τῶν πράξεων ἢ παρὰ ταύτας ἄλλο τι, καθάπερ ἐπὶ τῶν λεχθεισῶν ἐπιστημῶν. εἰ δή τι τέλος ἐστὶ τῶν πρακτῶν ὃ διʼ αὑτὸ'"
            ]
          },
          "metadata": {
            "tags": []
          },
          "execution_count": 6
        }
      ]
    },
    {
      "cell_type": "code",
      "metadata": {
        "id": "k4kJcoTvoO-F",
        "colab_type": "code",
        "colab": {
          "base_uri": "https://localhost:8080/",
          "height": 54
        },
        "outputId": "fa603c0f-3102-4818-dc32-6ffb04bb666b"
      },
      "source": [
        "print(EN_df[\"lemmatized_sentences\"].tolist()[0][:10])"
      ],
      "execution_count": 7,
      "outputs": [
        {
          "output_type": "stream",
          "text": [
            "[['βοοκ', 'πᾶς', 'τέχνη', 'πᾶς', 'μέθοδος', 'ὅμοιος', 'πρᾶξίς', 'προαίρεσις', 'ἀγαθός', 'ἐφίημι', 'δοκέω'], ['καλός', 'ἀποφαίνω', 'ἀγαθός', 'ἵημι', 'πάντʼ', 'ἐφίημι'], ['διαφορά', 'φαίνω', 'τέλος'], ['εἶμι', 'ἐνέργεια', 'παρʼ', 'ἔργον'], ['εἶμι', 'τέλος', 'πρᾶξις', 'βελτίων', 'φύω', 'ἐνέργεια', 'ἔργον'], ['πολύς', 'πρᾶξις', 'τέχνη', 'ἐπιστήμη', 'πολύς', 'γίγνομαι', 'τέλος'], ['ἰατρικός', 'ὑγίεια', 'ναυπηγικός', 'πλοῖον', 'στρατηγικός', 'νίκη', 'οἰκονομικός', 'πλοῦτος'], ['ὅσος', 'εἶμι', 'μίαν', 'δύναμις', 'ἱππικην', 'χαλινοποιική', 'ὅσος', 'ἱππικός', 'ὄργανον', 'εἶμι', 'πᾶς', 'πολεμικός', 'πρᾶξις', 'στρατηγικός', 'τρόπος', 'ὑφʼ', 'ἕτερος'], ['ἅπας', 'ἀρχιτεκτονικῶν', 'τέλος', 'πᾶς', 'αἱρετός', 'ὑπʼ'], ['χάρις', 'ἐκεῖνος', 'διώκω']]\n"
          ],
          "name": "stdout"
        }
      ]
    },
    {
      "cell_type": "code",
      "metadata": {
        "id": "RjW2CTnpRH8D",
        "colab_type": "code",
        "colab": {
          "base_uri": "https://localhost:8080/",
          "height": 269
        },
        "outputId": "788541a6-e41a-4be2-e478-81fb2c49fec5"
      },
      "source": [
        "EN_df[\"lemmatized_sentences\"].tolist()[0][:5]"
      ],
      "execution_count": 8,
      "outputs": [
        {
          "output_type": "execute_result",
          "data": {
            "text/plain": [
              "[['βοοκ',\n",
              "  'πᾶς',\n",
              "  'τέχνη',\n",
              "  'πᾶς',\n",
              "  'μέθοδος',\n",
              "  'ὅμοιος',\n",
              "  'πρᾶξίς',\n",
              "  'προαίρεσις',\n",
              "  'ἀγαθός',\n",
              "  'ἐφίημι',\n",
              "  'δοκέω'],\n",
              " ['καλός', 'ἀποφαίνω', 'ἀγαθός', 'ἵημι', 'πάντʼ', 'ἐφίημι'],\n",
              " ['διαφορά', 'φαίνω', 'τέλος'],\n",
              " ['εἶμι', 'ἐνέργεια', 'παρʼ', 'ἔργον'],\n",
              " ['εἶμι', 'τέλος', 'πρᾶξις', 'βελτίων', 'φύω', 'ἐνέργεια', 'ἔργον']]"
            ]
          },
          "metadata": {
            "tags": []
          },
          "execution_count": 8
        }
      ]
    },
    {
      "cell_type": "code",
      "metadata": {
        "id": "JM6yDODbRWrg",
        "colab_type": "code",
        "colab": {
          "base_uri": "https://localhost:8080/",
          "height": 35
        },
        "outputId": "83cdf49f-1c6f-478f-b1c6-f26c8a542119"
      },
      "source": [
        "\" \".join(EN_df[\"lemmatized_sentences\"].tolist()[0][0])"
      ],
      "execution_count": 9,
      "outputs": [
        {
          "output_type": "execute_result",
          "data": {
            "application/vnd.google.colaboratory.intrinsic": {
              "type": "string"
            },
            "text/plain": [
              "'βοοκ πᾶς τέχνη πᾶς μέθοδος ὅμοιος πρᾶξίς προαίρεσις ἀγαθός ἐφίημι δοκέω'"
            ]
          },
          "metadata": {
            "tags": []
          },
          "execution_count": 9
        }
      ]
    },
    {
      "cell_type": "code",
      "metadata": {
        "id": "HjZiVw_4P6Vr",
        "colab_type": "code",
        "colab": {}
      },
      "source": [
        "EN_sentences = \"\"\n",
        "for sentence in EN_df[\"lemmatized_sentences\"].tolist()[0]:\n",
        "  EN_sentences = EN_sentences + \" \".join(sentence) + \". \""
      ],
      "execution_count": 10,
      "outputs": []
    },
    {
      "cell_type": "code",
      "metadata": {
        "id": "mRKTLDfXRDDh",
        "colab_type": "code",
        "colab": {
          "base_uri": "https://localhost:8080/",
          "height": 153
        },
        "outputId": "f3a6326c-aa25-4d63-d3b2-072ba130d4ae"
      },
      "source": [
        "EN_sentences[:1000]"
      ],
      "execution_count": 11,
      "outputs": [
        {
          "output_type": "execute_result",
          "data": {
            "application/vnd.google.colaboratory.intrinsic": {
              "type": "string"
            },
            "text/plain": [
              "'βοοκ πᾶς τέχνη πᾶς μέθοδος ὅμοιος πρᾶξίς προαίρεσις ἀγαθός ἐφίημι δοκέω. καλός ἀποφαίνω ἀγαθός ἵημι πάντʼ ἐφίημι. διαφορά φαίνω τέλος. εἶμι ἐνέργεια παρʼ ἔργον. εἶμι τέλος πρᾶξις βελτίων φύω ἐνέργεια ἔργον. πολύς πρᾶξις τέχνη ἐπιστήμη πολύς γίγνομαι τέλος. ἰατρικός ὑγίεια ναυπηγικός πλοῖον στρατηγικός νίκη οἰκονομικός πλοῦτος. ὅσος εἶμι μίαν δύναμις ἱππικην χαλινοποιική ὅσος ἱππικός ὄργανον εἶμι πᾶς πολεμικός πρᾶξις στρατηγικός τρόπος ὑφʼ ἕτερος. ἅπας ἀρχιτεκτονικῶν τέλος πᾶς αἱρετός ὑπʼ. χάρις ἐκεῖνος διώκω. διαφέρω ἐνέργεια τέλος πρᾶξις ἐπιστήμη. τέλος πρακτός διʼ βούλομαι πᾶς διʼ ἕτερος αἱρέω ʽπρόεισι γʼ ἄπειρος ὥστʼ κενός μάταιος ὄρεξις δῆλος τοῦτʼ ἐάω ἀγαθός ἄριστον. ἆρʼ βιός γνῶσις μέγας ἔχις ῥοπή τοξότης σκοπός μαλλός τυγχάνω δέον. πειρατέος τύπος περιλαμβάνω ποτʼ ἐπιστήμη δύναμις. δοκέω κύριος ἀρχιτεκτονικῆς. πολιτικός φαίνω. χρεὼν ἐπιστήμη πόλις πόα ἕκαστος μανθάνω διατάσσω. ὁράω ἔντιμος δύναμις οἷος στρατηγικός οἰκονομικην ῥητορικός. λοιπός πρακτικός ἐπιστήμη δεῖ πράσσω ἀπέχω'"
            ]
          },
          "metadata": {
            "tags": []
          },
          "execution_count": 11
        }
      ]
    },
    {
      "cell_type": "code",
      "metadata": {
        "id": "RSFKvJAaRjZd",
        "colab_type": "code",
        "colab": {
          "base_uri": "https://localhost:8080/",
          "height": 34
        },
        "outputId": "4963a887-977b-46b5-a179-ef02edbc016f"
      },
      "source": [
        "file_object = open(\"EN_sentences.txt\",\"w\") \n",
        "file_object.write(EN_sentences)"
      ],
      "execution_count": 12,
      "outputs": [
        {
          "output_type": "execute_result",
          "data": {
            "text/plain": [
              "172302"
            ]
          },
          "metadata": {
            "tags": []
          },
          "execution_count": 12
        }
      ]
    },
    {
      "cell_type": "code",
      "metadata": {
        "id": "9vdLFwR7QbsV",
        "colab_type": "code",
        "colab": {}
      },
      "source": [
        "# from google.colab import files\n",
        "#files.download(\"EN_sentences.txt\")"
      ],
      "execution_count": null,
      "outputs": []
    },
    {
      "cell_type": "code",
      "metadata": {
        "id": "AiSioSHNaRni",
        "colab_type": "code",
        "colab": {
          "base_uri": "https://localhost:8080/",
          "height": 54
        },
        "outputId": "53d5fad5-0681-46f6-ce6e-da31774845aa"
      },
      "source": [
        "print(EN_df[\"lemmata\"].tolist()[0])"
      ],
      "execution_count": 14,
      "outputs": [
        {
          "output_type": "stream",
          "text": [
            "['βοοκ', 'πᾶς', 'τέχνη', 'πᾶς', 'μέθοδος', 'ὅμοιος', 'πρᾶξίς', 'προαίρεσις', 'ἀγαθός', 'ἐφίημι', 'δοκέω', 'καλός', 'ἀποφαίνω', 'ἀγαθός', 'ἵημι', 'πάντʼ', 'ἐφίημι', 'διαφορά', 'φαίνω', 'τέλος', 'εἶμι', 'ἐνέργεια', 'παρʼ', 'ἔργον', 'εἶμι', 'τέλος', 'πρᾶξις', 'βελτίων', 'φύω', 'ἐνέργεια', 'ἔργον', 'πολύς', 'πρᾶξις', 'τέχνη', 'ἐπιστήμη', 'πολύς', 'γίγνομαι', 'τέλος', 'ἰατρικός', 'ὑγίεια', 'ναυπηγικός', 'πλοῖον', 'στρατηγικός', 'νίκη', 'οἰκονομικός', 'πλοῦτος', 'ὅσος', 'εἶμι', 'μίαν', 'δύναμις', 'ἱππικην', 'χαλινοποιική', 'ὅσος', 'ἱππικός', 'ὄργανον', 'εἶμι', 'πᾶς', 'πολεμικός', 'πρᾶξις', 'στρατηγικός', 'τρόπος', 'ὑφʼ', 'ἕτερος', 'ἅπας', 'ἀρχιτεκτονικῶν', 'τέλος', 'πᾶς', 'αἱρετός', 'ὑπʼ', 'χάρις', 'ἐκεῖνος', 'διώκω', 'διαφέρω', 'ἐνέργεια', 'τέλος', 'πρᾶξις', 'ἐπιστήμη', 'τέλος', 'πρακτός', 'διʼ', 'βούλομαι', 'πᾶς', 'διʼ', 'ἕτερος', 'αἱρέω', 'ʽπρόεισι', 'γʼ', 'ἄπειρος', 'ὥστʼ', 'κενός', 'μάταιος', 'ὄρεξις', 'δῆλος', 'τοῦτʼ', 'ἐάω', 'ἀγαθός', 'ἄριστον', 'ἆρʼ', 'βιός', 'γνῶσις', 'μέγας', 'ἔχις', 'ῥοπή', 'τοξότης', 'σκοπός', 'μαλλός', 'τυγχάνω', 'δέον', 'πειρατέος', 'τύπος', 'περιλαμβάνω', 'ποτʼ', 'ἐπιστήμη', 'δύναμις', 'δοκέω', 'κύριος', 'ἀρχιτεκτονικῆς', 'πολιτικός', 'φαίνω', 'χρεὼν', 'ἐπιστήμη', 'πόλις', 'πόα', 'ἕκαστος', 'μανθάνω', 'διατάσσω', 'ὁράω', 'ἔντιμος', 'δύναμις', 'οἷος', 'στρατηγικός', 'οἰκονομικην', 'ῥητορικός', 'λοιπός', 'πρακτικός', 'ἐπιστήμη', 'δεῖ', 'πράσσω', 'ἀπέχω', 'τέλος', 'περιέχω', 'τοῦτʼ', 'ἐάω', 'ἀνθρώπινος', 'ἀγαθός', 'ταὐτόν', 'ἑνί', 'πόλις', 'μεῖζόν', 'τέλειος', 'πόλις', 'φαίνω', 'λαμβάνω', 'σώζω', 'ἀγαπητός', 'ἑνί', 'μόνος', 'καλός', 'θεῖος', 'ἔθνος', 'πόλις', 'μέθοδος', 'ἐφίημι', 'πολιτικός', 'λέγω', 'ἱκανός', 'ὕλη', 'διασαφέω', 'ἀκριβής', 'ὅμοιος', 'ἅπας', 'λόγος', 'ἐπιζητητέον', 'κᾶλον', 'δίκαιος', 'πολιτικός', 'σκοπέω', 'πολύς', 'ἔχις', 'διαφορά', 'πλάνη', 'δοκέω', 'νόμος', 'μόνος', 'φύσις', 'πλάνη', 'ἔχις', 'ἀγαθός', 'πολύς', 'συμβαίνω', 'βλάβη', 'ἀπʼ', 'ἦδος', 'τίνω', 'ἀπόλλυμι', 'πλοῦτος', 'ἕτερος', 'διʼ', 'ἀνδρεία', 'ἀγαπητός', 'παχυλός', 'τύπος', 'ἀληθής', 'ἐνδείκνυμι', 'πολὺ', 'συμπεραίνω', 'τρόπος', 'ἀποδέχομαι', 'χρεὼν', 'ἕκαστος', 'τοσοῦτος', 'ἀκριβής', 'ἐπιζητέω', 'ἕκαστος', 'γένος', 'ἐφʼ', 'ὅσος', 'πρᾶγμα', 'φύσις', 'ἐπιδέχομαι', 'παραπλήσιος', 'φαίνω', 'μαθηματικός', 'ἀποδέχομαι', 'ῥητορικός', 'ἀπόδειξις', 'ἀπαιτέω', 'ἕκαστος', 'κρίνον', 'καλός', 'γιγνώσκω', 'ἀγαθός', 'κριτής', 'ἕκαστος', 'ἁπλόω', 'πᾶς', 'πολιτικός', 'οἰκεῖος', 'ἀκροατης', 'ναῦς', 'ἄπειρος', 'βιός', 'πρᾶξις', 'λόγος', 'πάθος', 'ἀκολουθητικός', 'ὢν', 'μάταιος', 'ἀκούω', 'ἐπειδη', 'τέλος', 'γνῶσις', 'πρᾶξις', 'διαφέρω', 'ναῦς', 'ἡλικία', 'ἦθος', 'νεαρός', 'χρόνος', 'ἔλλειψις', 'πάθος', 'ζάω', 'διώκω', 'ἕκαστος', 'ἀνόνητος', 'γνῶσις', 'γίγνομαι', 'ἀκρατής', 'λόγος', 'ὄρεξις', 'πράσσω', 'πολυωφελής', 'ἐάω', 'οἶδα', 'ἀκροατής', 'ἀποδεκτέος', 'προστίθημι', 'φροιμιάζομαι', 'λέγω', 'ἐπειδη', 'πᾶς', 'γνῶσις', 'προαίρεσις', 'ἀγαθός', 'ὀρέγω', 'ἵημι', 'λέγω', 'πολιτικός', 'ἐφίημι', 'πᾶς', 'ἄκρος', 'πρακτός', 'ἀγαθός', 'ὄνομα', 'πλεῖστος', 'ὁμολογέω', 'εὐδαιμονία', 'πολύς', 'χαρίεις', 'λέγω', 'ζάω', 'πράσσω', 'ταὐτόν', 'ὑπολαμβάνω', 'εὐδαιμονέω', 'εὐδαιμονία', 'ἀμφισβητέω', 'ὅμοιος', 'πολύς', 'σοφός', 'ἀποδίδωμι', 'οἳ', 'ἐναργής', 'φανερός', 'οἷος', 'ἡδονην', 'πλοῦτος', 'τιμή', 'ἄλλοπολλάκις', 'ἕτερος', 'νοσέω', 'ὑγίεια', 'πλοῦτος', 'ἄγνοια', 'μέγας', 'αὐτοὺς', 'θαυμάζω', 'ἔνιοι', 'οἴομαι', 'πολύς', 'ἀγαθός', 'πᾶς', 'αἴτιόν', 'ἀγαθός', 'ἅπας', 'ἐξετάζω', 'δόξα', 'μάταιος', 'ἴσος', 'ἱκανός', 'ἔχω', 'λόγος', 'λανθάνω', 'ἡμός', 'διαφέρω', 'ἀρχή', 'λόγος', 'ἀρχή', 'πλάτη', 'ἀπορέω', 'ζητέω', 'πότερος', 'ἀρχή', 'ἀρχή', 'ὁδός', 'στάδιον', 'ἀθλοθέτης', 'πέρα', 'ἀρκτέος', 'γνώριμος', 'δισσός', 'ἁπλόω', 'ἴσος', 'ἀρκτέος', 'γνώριμος', 'δεῖ', 'ἔθος', 'ἄγω', 'καλός', 'κᾶλον', 'δίκαιος', 'ὅλοξ', 'πολιτικός', 'ἱκανός', 'ἀρχη', 'φαίνω', 'προσδεήσει', 'ἔχις', 'λαμβάνω', 'ἀρχή', 'ῥᾴδιος', 'μηδέτερος', 'ὑπάρχω', 'ἀκούω', 'ἡσιόδου', 'πανάριστος', 'πᾶς', 'νόησις', 'ἐσθλός', 'ἐκεῖνος', 'πείθω', 'μήτʼ', 'νοέω', 'μήτʼ', 'ἀκοή', 'θύμον', 'βάλλω', 'αὖτʼ', 'ἀχρεῖος', 'ἀνήρ', 'ηες', 'ἀοιδή', 'φφ', 'λέγω', 'παρεκβαίνω', 'ἀγαθός', 'εὐδαιμονία', 'ἄλογος', 'ἔοικα', 'βία', 'ὑπολαμβάνω', 'πολύς', 'φορτικός', 'ἡδονή', 'βιός', 'ἀγαπάζω', 'ἀπολαυστικός', 'τρέω', 'εἶμι', 'πολιτικός', 'τρίτος', 'θεωρητικός', 'πολύς', 'ἀνδραποδώδης', 'φαίνω', 'βόσκημα', 'βιός', 'τυγχάνω', 'λόγος', 'πολλοὺς', 'ἐξουσία', 'ὁμοιοπαθέω', 'σαρδαναπάλλῳ', 'χαρίεις', 'πρακτικός', 'τιμή', 'πολιτικός', 'βιός', 'τέλος', 'φαίνω', 'ἐπιπόλαιος', 'δοκέω', 'τιμάω', 'μαλλός', 'ἀγαθός', 'οἰκεῖόν', 'δυσαφαίρετος', 'μαντεύομαι', 'ἔοικα', 'τιμή', 'διώκω', 'πιστεύω', 'ἑαυτοὺς', 'ἀγαθοὺς', 'ζητέω', 'φρόνιμος', 'τιμάω', 'παρʼ', 'γιγνώσκω', 'ἀρετή', 'δῆλος', 'ἀρετη', 'κρείσσων', 'τάχος', 'μαλλός', 'τέλος', 'πολιτικός', 'βιός', 'ὑπολαμβάνω', 'φαίνω', 'ἀτελής', 'δοκέω', 'ἐνδέχομαι', 'καθεύδω', 'ἀρετην', 'ἀπρακτέω', 'βιός', 'κακοπαθέω', 'ἀτυχέω', 'μέγας', 'εὐδαιμονίζω', 'θέσις', 'ἱκανός', 'ἐγκύκλιος', 'εἴρω', 'τρίτος', 'θεωρητικός', 'ἵημι', 'ἐπίσκεψις', 'ἑπομένοις', 'ποιέω', 'χρηματιστής', 'βίαιός', 'πλοῦτος', 'δῆλος', 'ἀγαθός', 'χρήσιμος', 'χάρις', 'μαλλός', 'πρότερος', 'τέλος', 'ὑπολαμβάνω', 'διʼ', 'ἀγαπητός', 'φαίνω', 'ἐκεῖνος', 'πολύς', 'λόγος', 'καταβάλλω', 'ἀφίημι', 'βελτίων', 'ἴσος', 'ἐπισκέπτομαι', 'διαπορέω', 'λέγω', 'προσάντης', 'ζήτησις', 'φίλος', 'ἀνήρ', 'εἰσάγω', 'εἶδος', 'δοκέω', 'ἴσος', 'βελτίων', 'δεῖ', 'σωτηρία', 'ἀλήθεια', 'οἰκεῖος', 'ἀναιρέω', 'φιλόσοφος', 'ἄμφω', 'φίλος', 'ὅσιος', 'προτιμάω', 'ἀλήθεια', 'δόξα', 'ποιέω', 'ἰδέα', 'πρότερος', 'ὕστερος', 'ἔλεγος', 'ἀριθμός', 'ἰδέα', 'κατασκευάζω', 'ἀγαθός', 'λέγω', 'ποιός', 'οὐσία', 'πρότερος', 'φύσις', 'ʽπαραφυάδι', 'τοῦτʼ', 'ἔοικα', 'ὄντοσ', 'ὥστʼ', 'ἐάω', 'κοινός', 'ἰδέα', 'ἔπος', 'ἀγαθός', 'ἰσαχῶς', 'λέγω', 'ʽκαί', 'λέγω', 'οἷος', 'θεός', 'νόος', 'ποιός', 'ἀρετή', 'ποσός', 'μέτριος', 'χρήσιμος', 'χρόνος', 'καῖρος', 'τόπος', 'δίαιτα', 'ἕτερος', 'τοιαῦτἀ', 'δῆλος', 'ἐάω', 'κοινός', 'ἵημι', 'ἐλέγετʼ', 'πᾶς', 'κατηγορία', 'μιᾷ', 'μονή', 'ἔπος', 'μίαν', 'ἰδέα', 'μία', 'ἐπιστήμη', 'ἀγαθός', 'ἅπας', 'μία', 'ἐπιστήμη', 'εἶμι', 'πολύς', 'μίαν', 'κατηγορία', 'οἷος', 'καῖρος', 'πόλεμος', 'στρατηγικός', 'νόσος', 'ἰατρικός', 'μέτριος', 'τροφεύς', 'ἰατρικη', 'πόνος', 'γυμναστικός', 'ἀπορέω', 'ποτός', 'βούλομαι', 'λέγω', 'αὐτοέκαστος', 'αὐτοάνθρωπος', 'ἄνθρωπος', 'λόγος', 'ἄνθρωπος', 'ἄνθρωπος', 'διαφέρω', 'ἀγαθός', 'ἀίδιος', 'μαλλός', 'ἀγαθός', 'λευκός', 'πολυχρόνιος', 'ἐφήμερος', 'πιθανός', 'ἔοικα', 'Πυθαγόρειος', 'λέγω', 'ἀγαθός', 'συστοιχία', 'ἵημι', 'σπεύσιππος', 'ἐπακολουθέω', 'δοκέω', 'λόγος', 'ἀμφισβήτησίς', 'ὑποφαίνω', 'πᾶς', 'ἀγαθός', 'λόγος', 'ἐρῶ', 'λέγω', 'ἵημι', 'εἶδος', 'ποιητικός', 'φυλακτικός', 'ἐναντίος', 'κωλυτικός', 'λέγω', 'τρόπος', 'δῆλος', 'δισσός', 'λέγοιτʼ', 'ἀγαθός', 'ἕτερος', 'ὠφέλιμος', 'σκέπτομαι', 'λέγω', 'μίαν', 'ἰδέα', 'πόα', 'θεῖος', 'ὅσος', 'διώκω', 'οἷος', 'φρονέω', 'ὁράω', 'ἡδονή', 'τίνω', 'τιμή', 'διʼ', 'διώκω', 'ὁμός', 'ἀγαθός', 'θεῖος', 'πλέω', 'ἰδέα', 'μάταιος', 'εἶδος', 'ταῦτʼ', 'ἀγαθός', 'λόγος', 'ἅπας', 'ἐμφαίνω', 'δέησις', 'χιών', 'ψιμύθιον', 'λευκότητος', 'τιμή', 'φρόνησις', 'ἡδονή', 'ἕτερος', 'λόγος', 'ἀγαθός', 'ἀγαθός', 'κοινός', 'μίαν', 'ἰδέα', 'λέγω', 'ἔοικα', 'τύχη', 'ὁμώνυμος', 'ἆρά', 'ἀφʼ', 'ἕνος', 'ἵημι', 'ἅπας', 'συντελέω', 'μαλλός', 'κατʼ', 'ἀναλογία', 'σῶμα', 'ὄψις', 'ψυχή', 'νόος', 'ἴσος', 'ἀφετέος', 'ἐξακριβόω', 'ἐάω', 'φιλοσοφία', 'οἰκεῖος', 'ὅμοιος', 'ἰδέα', 'ἵημι', 'κοινός', 'ἀγαθός', 'χωριστός', 'δῆλος', 'ἐάω', 'πρακτός', 'κτητός', 'ἄνθρωπος', 'τοιοῦτόν', 'ζητέω', 'τάχος', 'δοκέω', 'βελτίων', 'γνωρίζω', 'κτητός', 'πρακτός', 'ἀγαθός', 'οἷος', 'παράδειγμα', 'τοῦτʼ', 'μαλλός', 'εἶμι', 'ἀγαθός', 'κἂν', 'οἶδα', 'ἐπιτυγχάνω', 'πιθανότης', 'ἔχις', 'λόγος', 'ἔοικα', 'ἐπιστήμη', 'διαφωνέω', 'πᾶς', 'ἀγαθός', 'ἐφίημι', 'ἐνδεής', 'παραλείπω', 'γνῶσις', 'βοήθημα', 'τηλικοῦτος', 'τεχνίτης', 'ἅπας', 'ἀγνοέω', 'μηδʼ', 'ἐπιζητέω', 'εὔλογος', 'ἄπορος', 'ὠφελέω', 'ὑφάντης', 'τέκτων', 'τέχνη', 'εἰδὼς', 'ἀγαθός', 'ἰατρικός', 'στρατηγικός', 'ἰδέα', 'αὐτην', 'φαίνω', 'ὑγίεια', 'ἐπισκοπέω', 'ἰατρός', 'ἄνθρωπος', 'μαλλός', 'ἴσος', 'ἕκαστος', 'ἰατρεύω', 'τοσοῦτος', 'ἐρῶ', 'ἐπανέρχομαι', 'ἀγαθός', 'ποτʼ', 'ἐάω', 'φαίνω', 'πρᾶξις', 'τέχνη', 'ἰατρικός', 'στρατηγικός', 'λοιπός', 'ὅμοιος', 'ἕκαστος', 'ἀγαθός', 'ἵημι', 'χάρις', 'λοιπός', 'πράσσω', 'ἰατρικός', 'ὑγίεια', 'στρατηγικός', 'νίκη', 'οἰκοδομικός', 'οἰκία', 'ἅπας', 'πρᾶξις', 'προαίρεσις', 'τέλος', 'λοιπός', 'πράσσω', 'πᾶς', 'ὥστʼ', 'εἶμι', 'πρακτός', 'ἅπας', 'τέλος', 'τοῦτʼ', 'ἐάω', 'πρακτός', 'ἀγαθός', 'πλείων', 'λόγος', 'ταὐτόν', 'ἀφικνέομαι', 'μαλλός', 'διασαφέω', 'πειρατέος', 'ἔπος', 'πλείων', 'φαίνω', 'τέλος', 'αἱρούμεθά', 'διʼ', 'ἕτερος', 'οἷος', 'πλοῦτος', 'αὐλοὺς', 'ὅλοξ', 'ὄργανον', 'δῆλος', 'πᾶς', 'τέλειος', 'ἄριστον', 'τέλειόν', 'φαίνω', 'ὥστʼ', 'ἵημι', 'μόνος', 'τέλειος', 'τοῦτʼ', 'ἐάω', 'πλείων', 'τέλειος', 'τέλειος', 'λέγω', 'διωκτόν', 'διʼ', 'ἕτερος', 'διʼ', 'αἱρετός', 'διʼ', 'αἱρετός', 'ἁπλόω', 'τέλειος', 'αἱρετός', 'διʼ', 'εὐδαιμονία', 'μάλιστʼ', 'δοκέω', 'αἱρέω', 'διʼ', 'αὐτην', 'διʼ', 'τιμή', 'ἡδονην', 'νόος', 'πᾶς', 'ἀρετην', 'αἱρέω', 'διʼ', 'ʽμηθενός', 'ἑλοίμεθʼ', 'ἕκαστος', 'αἱρέω', 'εὐδαιμονία', 'χάρις', 'εὐδαιμονέω', 'εὐδαιμονία', 'αἱρέω', 'χάρις', 'ὅλοξ', 'διʼ', 'φαίνω', 'αὐτάρκεια', 'συμβαίνω', 'τέλειος', 'ἀγαθός', 'αὐτάρκης', 'δοκέω', 'αὐτάρκης', 'λέγω', 'μόνος', 'ζάω', 'βιός', 'μονώτης', 'γονεύς', 'τέκνον', 'γυνή', 'ὅλοξ', 'φίλος', 'πολίτης', 'ἐπειδη', 'φύσις', 'πολιτικός', 'ἄνθρωπος', 'ληπτέος', 'ὅρος', 'ἐπεκτείνω', 'γονεύς', 'ἀπόγονος', 'φίλος', 'φίλος', 'ἄπειρος', 'πρόειμι', 'ἐπισκεπτέος', 'αὐτάρκης', 'τίθημι', 'αἱρετός', 'ποιέω', 'βιός', 'μηδείς', 'ἐνδεής', 'εὐδαιμονία', 'οἴομαι', 'πᾶς', 'αἱρετός', 'συναριθμουμένηνσυναριθμουμένην', 'δῆλος', 'αἱρετός', 'ἐλάχιστος', 'ἀγαθός', 'ὑπεροχη', 'ἀγαθός', 'γίγνομαι', 'ἀγαθός', 'μέγας', 'αἱρετός', 'τέλειος', 'φαίνω', 'αὐτάρκης', 'εὐδαιμονία', 'πρακτός', 'τέλος', 'ἴσος', 'εὐδαιμονία', 'ἄριστον', 'λέγω', 'ὁμολογούμενόν', 'φαίνω', 'ποθέω', 'ἐναργής', 'λέγω', 'τάχος', 'γένοιτʼ', 'τοῦτʼ', 'λαμβάνω', 'ἔργον', 'ἄνθρωπος', 'αὐλητής', 'ἀγαλματοποιός', 'πᾶς', 'τεχνίτης', 'ὅλοξ', 'ἔργον', 'πρᾶξις', 'ἔργον', 'δοκέω', 'ἀγαθός', 'δοκέω', 'ἄνθρωπος', 'ἔργον', 'πότερος', 'τέκτων', 'σκυτεύς', 'ἔργον', 'πρᾶξις', 'ἄνθρωπος', 'ἀργός', 'φύω', 'ὀφθαλμός', 'χείρ', 'πούς', 'ὅλοξ', 'ἕκαστος', 'μορία', 'φαίνεταί', 'ἔργον', 'ἄνθρωπος', 'πᾶς', 'θεῖος', 'ἔργον', 'τοῦτʼ', 'ἐάω', 'ζάω', 'κοινός', 'φαίνω', 'φυτόν', 'ζητέω', 'ἴδιος', 'ἀφοριστέος', 'θρεπτικός', 'αὐξητικην', 'ζωή', 'ἑπομένη', 'αἰσθητικός', 'ἐάω', 'φαίνω', 'αὐτη', 'κοινός', 'ἵππος', 'βοῒ', 'πᾶς', 'ζῷον', 'λείπω', 'πρακτικός', 'λόγος', 'ἐπιπείθομαι', 'λόγος', 'ἔχω', 'δισσός', 'κατʼ', 'ἐνέργεια', 'θετέος', 'κύριος', 'δοκέω', 'λέγω', 'ἔργον', 'ἄνθρωπος', 'ψυχή', 'ἐνέργεια', 'λόγος', 'ἀνίημι', 'λόγος', 'φημί', 'ἔργον', 'γένος', 'σπουδαῖος', 'κιθαριστής', 'σπουδαῖος', 'κιθαριστής', 'ἁπλόω', 'τοῦτʼ', 'πᾶς', 'ἀρετην', 'ὑπεροχή', 'ἔργον', 'κιθαριστής', 'κιθαρίζω', 'σπουδαῖος', 'ἄνθρωπος', 'τίθημι', 'ἔργον', 'ζωή', 'ψυχή', 'ἐνέργεια', 'πρᾶξις', 'λόγος', 'σπουδαῖος', 'ἀνήρ', 'καλός', 'ἕκαστος', 'οἰκεῖος', 'ἀρετην', 'ἀποτελέω', 'ἀνθρώπινος', 'ἀγαθός', 'ψυχή', 'ἐνέργεια', 'γίγνομαι', 'κατʼ', 'ἀρετή', 'πλείων', 'ἀρετή', 'ἄριστος', 'τέλειος', 'βιός', 'τέλειος', 'μία', 'χελιδὼν', 'ἔαρ', 'ποιέω', 'μία', 'ἡμέρα', 'μακάριος', 'εὐδαίμων', 'μία', 'ἡμέρα', 'ὀλίγος', 'χρόνος', 'περιγράφω', 'ἀγαθός', 'δεῖ', 'ἴσος', 'ὑποτυπόω', 'πρότερος', 'εἶθʼ', 'ὕστερος', 'ἀναγράφω', 'δοκέω', 'πᾶς', 'προάγω', 'διαρθρόω', 'καλός', 'περιγραφή', 'χρόνος', 'εὑρετης', 'συνεργός', 'ἀγαθός', 'τέχνη', 'γίγνομαι', 'ἐπίδοσις', 'πᾶς', 'προστίθημι', 'ἐλλείπω', 'μιμνήσκω', 'χρῆ', 'ἀκρίβεια', 'ὅμοιος', 'ἅπας', 'ἐπιζητέω', 'ἕκαστος', 'ὕλη', 'τοσοῦτος', 'ἐφʼ', 'ὅσος', 'οἰκεῖος', 'μέθοδος', 'τέκτων', 'γεωμέτρης', 'ἐπιζητέω', 'ὀρθός', 'ἐφʼ', 'ὅσος', 'χρήσιμος', 'ἔργον', 'ποῖόν', 'θεατής', 'ἀληθής', 'τρόπος', 'ποιητέος', 'πάρεργον', 'ἔργον', 'πλείων', 'γίγνομαι', 'ἀπαιτητέον', 'αἰτία', 'ἅπας', 'ὅμοιος', 'ἱκανός', 'τίσις', 'δείκνυμι', 'καλός', 'οἷος', 'ἀρχή', 'πρότερος', 'ἀρχή', 'ἀρχή', 'αἳ', 'ἐπαγωγή', 'θεωρέω', 'αἳ', 'αἴσθησις', 'αἳ', 'ἐθισμῷ', 'μεθίημι', 'πειρατέος', 'ἕκαστος', 'φύω', 'σπουδαστέος', 'διορίζω', 'καλός', 'μέγας', 'ἔχω', 'ῥοπην', 'ἑπόμενα', 'δοκέω', 'πλείων', 'ἥμισυς', 'πᾶς', 'ἀρχή', 'πολύς', 'συμφανής', 'γίγνομαι', 'διʼ', 'σκεπτέος', 'μόνος', 'συμπέρασμα', 'λόγος', 'ἀληθής', 'πᾶς', 'συνᾴδω', 'ψευδής', 'ταχὺ', 'διαφωνέω', 'ἀληθής', 'ἀγαθός', 'ψυχή', 'σῶμα', 'ψυχή', 'κύριος', 'λέγω', 'ἀγαθός', 'πρᾶξις', 'ἐνέργεια', 'ψυχικός', 'ψυχή', 'τίθημι', 'καλός', 'λέγω', 'δόξα', 'παλαιός', 'φιλοσοφέω', 'ὀρθός', 'πρᾶξις', 'τίνω', 'λέγω', 'ἐνέργεια', 'τέλος', 'ψυχή', 'ἀγαθός', 'γίγνομαι', 'συνᾴδω', 'λόγος', 'ζάω', 'πράσσω', 'εὐδαίμων', 'εὐζωία', 'εἴρω', 'εὐπραξία', 'φαίνω', 'εὐδαιμονία', 'ἅπανθʼ', 'ὑπάρχω', 'ἀρετη', 'φρόνησις', 'σοφία', 'δοκέω', 'μεθʼ', 'ἡδονή', 'ἀνίημι', 'ἡδονή', 'ἕτερος', 'εὐετηρία', 'συμπαραλαμβάνω', 'πολύς', 'παλαιός', 'λέγω', 'ὀλίγος', 'ἔνδοξος', 'ἀνήρ', 'οὐδέτερος', 'εὔλογος', 'διαμαρτάνω', 'ὅλοξ', 'ἵημι', 'πλεῖστος', 'κατορθόω', 'λέγω', 'ἀρετην', 'ἀρετή', 'συνῳδός', 'λόγος', 'κατʼ', 'αὐτην', 'ἐνέργεια', 'διαφέρω', 'ἴσος', 'μικρός', 'κτῆσις', 'χρῆσις', 'ἄριστον', 'ὑπολαμβάνω', 'ἕξις', 'ἐνέργεια', 'ἕξις', 'ἐνδέχομαι', 'μηδείς', 'ἀγαθός', 'ἀποτελέω', 'οἷος', 'καθεύδω', 'ἐνέργεια', 'οἷόν', 'πρᾶξις', 'ἀνάγκη', 'πρᾶξις', 'Ὀλυμπιάς', 'καλός', 'ἰσχυρός', 'στεφανόω', 'ʽτούτων', 'τίνω', 'νικάω', 'βιός', 'κᾶλον', 'ἀγαθός', 'ὀρθός', 'ἐπήβολος', 'γίγνομαι', 'βιός', 'ἡδύς', 'ἥδομαι', 'ψυχικός', 'ἕκαστος', 'ἡδὺ', 'λέγω', 'φιλοτοιοῦτος', 'οἷος', 'ἵππος', 'φίλιππος', 'θέαμα', 'φιλοθέωρος', 'τρόπος', 'δίκαιος', 'φιλοδίκαιος', 'ὅλοξ', 'κατʼ', 'ἀρετην', 'φιλάρετος', 'πολύς', 'ἡδύς', 'μάχομαι', 'φύσις', 'τοιαῦτʼ', 'φιλόκαλος', 'ἡδύς', 'φύσις', 'ἡδύς', 'κατʼ', 'ἀρετην', 'πρᾶξις', 'εἶμι', 'ἡδύς', 'προσδέω', 'ἡδονή', 'βιός', 'περίαπτος', 'ἔχις', 'ἡδονην', 'ἀγαθός', 'κάλαις', 'πρᾶξις', 'δίκαιος', 'εἶπον', 'δικαιοπραγέω', 'οὔτʼ', 'ἐλευθέριος', 'ἐλευθέριος', 'πρᾶξις', 'ὅμοιος', 'κατʼ', 'ἀρετην', 'πρᾶξις', 'ἡδύς', 'ἀγαθός', 'κάλαις', 'ἕκαστος', 'καλός', 'κρίνον', 'σπουδαῖος', 'κρίνον', 'εἶπον', 'ἄριστον', 'καλός', 'ἡδύς', 'εὐδαιμονία', 'ὁρίζω', 'δηλιακόν', 'ἐπίγραμμα', 'καλός', 'δίκαιος', 'λωίων', 'ὑγιαίνω', 'ἡδύς', 'πέφυχʼ', 'ἵημι', 'ἐράω', 'τυγχάνω', 'ἅπας', 'ὑπάρχω', 'ἄριστος', 'ἐνέργεια', 'μίαν', 'ἄριστος', 'φημί', 'εὐδαιμονία', 'φαίνω', 'ὁμός', 'ἀγαθός', 'εἶπον', 'ἀδύνατος', 'ῥᾴδιος', 'κᾶλον', 'πράσσω', 'ἀχορήγητον', 'ὄντα', 'πολύς', 'πράσσω', 'διʼ', 'ὄργανον', 'φίλος', 'πλοῦτος', 'πολιτικός', 'δύναμις', 'ἔνιοι', 'ῥυπαίνω', 'μακάριος', 'οἷος', 'εὐγένεια', 'εὐτεκνία', 'κάλλος', 'εὐδαιμονικός', 'ἰδέα', 'παναισχής', 'δυσγενής', 'μονώτης', 'ἄτεκνος', 'ἴσος', 'ἥσσων', 'εἶμι', 'πάγκακος', 'παῖς', 'φίλος', 'ἀγαθός', 'θνήσκω', 'εἶπον', 'ἔοικα', 'προσδέω', 'εὐημερία', 'τάσσω', 'ἔνιοι', 'εὐτυχία', 'εὐδαιμονία', 'ἕτερος', 'ἀρετή', 'ἀπορέω', 'πότερόν', 'μαθητός', 'ἐθιστός', 'ἀσκητός', 'θεῖος', 'μοῖρα', 'τύχη', 'παραγίγνομαι', 'θεά', 'δώρημα', 'ἄνθρωπος', 'εὔλογος', 'εὐδαιμονία', 'θεόσδοτος', 'ἀνθρώπινος', 'ὅσος', 'βέλτιστος', 'ἴσος', 'ἐάω', 'σκέψις', 'οἰκεῖος', 'φαίνω', 'κἂν', 'θεόπεμπτός', 'διʼ', 'ἀρετην', 'μάθησις', 'ἄσκησις', 'παραγίγνομαι', 'θεῖος', 'ἀρετή', 'ἆθλον', 'τέλος', 'ἄριστον', 'φαίνω', 'θεῖόν', 'μακάριος', 'ἐάω', 'πολύκοινος', 'δυνατός', 'ὑπάρχω', 'πᾶς', 'ἀρετην', 'μάθησις', 'ἐπιμέλεια', 'βελτίων', 'τύχη', 'εὐδαιμονέω', 'εὔλογος', 'ἔχω', 'φύσις', 'οἷόν', 'καλός', 'ἔχω', 'φύω', 'ὅμοιος', 'τέχνη', 'πᾶς', 'αἰτία', 'ἄριστος', 'μέγας', 'καλός', 'ἐπιτρέπω', 'τύχη', 'πλημμελής', 'ἐάω', 'συμφανής', 'λόγος', 'εἴρω', 'ψυχή', 'ἐνέργεια', 'κατʼ', 'ἀρετην', 'πόα', 'λοιπός', 'ἀγαθός', 'ὑπάρχω', 'ἀναγκαῖον', 'συνεργός', 'χρήσιμος', 'φύω', 'ὀργανικός', 'ταῦτʼ', 'ἐάω', 'ἀρχή', 'πολιτικός', 'τέλος', 'ἄριστον', 'τίθημι', 'πλεῖστος', 'ἐπιμέλεια', 'ποιέω', 'ποιός', 'ἀγαθοὺς', 'πολίτης', 'ποιέω', 'πρακτικοὺς', 'κᾶλον', 'βοῦς', 'ἵππος', 'ζωή', 'εὐδαίμων', 'λέγω', 'οἷόν', 'κοινωνέω', 'ἐνέργεια', 'αἰτία', 'παῖς', 'εὐδαίμων', 'πρακτικός', 'ἡλικία', 'ἐλπίς', 'μακαρίζω', 'δεῖ', 'εἶπον', 'ἀρετή', 'τέλειος', 'βιός', 'τέλειος', 'πολύς', 'μεταβολή', 'γίγνομαι', 'παντοῖος', 'τύχη', 'βιός', 'ἐνδέχομαι', 'μάλιστʼ', 'μέγας', 'συμφορά', 'περιπίπτω', 'γῆρας', 'Τρωικός', 'Πρίαμος', 'μυθεύω', 'τύχη', 'ἄθλιος', 'εὐδαιμονίζω', 'πότερος', 'ἄνθρωπος', 'εὐδαιμονιστέον', 'ἑός', 'ζάω', 'σόλωνα', 'χρεὼν', 'τέλος', 'ὁράω', 'θετέος', 'ἆρά', 'εὐδαίμων', 'ἀποθνήσκω', 'τοῦτό', 'ἄτοπος', 'λέγω', 'ἐνέργειάν', 'εὐδαιμονία', 'λέγω', 'εὐδαίμων', 'σόλος', 'βούλομαι', 'μακαρίζω', 'ἄνθρωπος', 'ἦδος', 'κάκη', 'ὄντα', 'δυστύχημα', 'ἔχις', 'τοῦτʼ', 'ἀμφισβήτησίν', 'δοκέω', 'εἶναί', 'κακός', 'ἀγαθός', 'ζάω', 'οἷος', 'τιμή', 'ἀτιμία', 'τέκνον', 'ὅλοξ', 'ἀπόγονος', 'εὐπραξία', 'δυστυχία', 'ἀπορία', 'παραχέω', 'μακάριος', 'γῆρας', 'λόγος', 'ἐνδέχομαι', 'πολύς', 'μεταβολή', 'συμβαίνω', 'ἔκγονος', 'ἀγαθοὺς', 'τυγχάνω', 'βιός', 'κατʼ', 'ἀξία', 'ἐναντίος', 'δῆλος', 'ἀπόστημα', 'γονεύς', 'παντοδαπός', 'ἔχω', 'αὐτοὺς', 'ἐνδέχομαι', 'ἄτοπος', 'γίνοιτʼ', 'συμμεταβάλλω', 'τεθνεὼς', 'γίγνομαι', 'εὐδαίμων', 'ἄθλιος', 'ἄτοπος', 'μηδείς', 'μηδʼ', 'χρόνος', 'συνικνέομαι', 'ἔκγονος', 'γονεύς', 'ἐπανιτέος', 'πρότερος', 'ἀπορέω', 'τάχος', 'θεωρέω', 'ἐκεῖνος', 'τέλος', 'ὁράω', 'δεῖ', 'μακαρίζω', 'ἕκαστος', 'ὄντα', 'μακάριος', 'πρότερος', 'ἄτοπος', 'ὅτʼ', 'εὐδαίμων', 'ἀληθεύω', 'κατʼ', 'ὕπαρχος', 'βούλομαι', 'εὐδαιμονίζω', 'μεταβολή', 'μόνιμόν', 'εὐδαιμονία', 'ὑπολαμβάνω', 'μηδαμός', 'εὐμετάβολος', 'τύχη', 'ἀνακυκλέω', 'δῆλος', 'συνακολουθέω', 'τύχη', 'εὐδαίμων', 'ἄθλιος', 'ἐρέω', 'χαμαιλέοντά', 'εὐδαίμων', 'σαθρός', 'τύχη', 'ἐπακολουθέω', 'οὐδαμός', 'ὀρθός', 'κακός', 'προσδέω', 'ἀνθρώπινος', 'βιός', 'εἶπον', 'κυρία', 'εἶμι', 'κατʼ', 'ἀρετην', 'ἐνέργεια', 'εὐδαιμονία', 'ἐναντίος', 'ἐναντίος', 'μαρτυρέω', 'λόγος', 'διαπορέω', 'ὑπάρχω', 'ἀνθρώπινος', 'ἔργον', 'βεβαιότης', 'ἐνέργεια', 'κατʼ', 'ἀρετή', 'μόνιμος', 'ἐπιστήμη', 'δοκέω', 'τίμιος', 'μόνιμος', 'συνεχής', 'καταζάω', 'μακάριος', 'ἔοικα', 'αἴτιος', 'γίγνομαι', 'λήθη', 'ὑπάρχω', 'εὐδαίμων', 'βιός', 'πᾶς', 'πρᾶξις', 'θεωρέω', 'κατʼ', 'ἀρετή', 'τύχη', 'φέρω', 'καλός', 'γʼ', 'ἀγαθός', 'τετράγωνος', 'ἀνίημι', 'ψόγος', 'πολύς', 'τύχη', 'διαφέρω', 'μέγεθος', 'μικρότης', 'μικρός', 'εὐτύχημα', 'ὅμοιος', 'δῆλος', 'ποιέω', 'ῥοπην', 'ζωή', 'μέγας', 'πολύς', 'μακάριος', 'βιός', 'ποίησις', 'ʽκαί', 'συνεπικοσμέω', 'φύω', 'χρῆσις', 'καλός', 'σπουδαῖος', 'γίνεταἰ', 'θλίβω', 'λυμαίνομαι', 'μακάριος', 'λύπη', 'ἐπιφέρω', 'ἐμποδίζω', 'πολύς', 'ἐνέργεια', 'ὁμός', 'διαλάμπω', 'κᾶλον', 'φέρω', 'εὔκολος', 'πολύς', 'μέγας', 'ἀτυχία', 'διʼ', 'ἀναλγησία', 'γεννάδας', 'ὢν', 'μεγαλόψυχος', 'εἶμι', 'ἐνέργεια', 'κυρία', 'ζωή', 'εἶπον', 'γίγνομαι', 'μακαρία', 'ἄθλιος', 'πρᾶξις', 'μισητός', 'φαῦλος', 'ἀγαθός', 'ἔμφρων', 'πᾶς', 'οἴομαι', 'τύχη', 'φέρω', 'ὑπάρχω', 'καλός', 'πράσσω', 'στρατηγός', 'ἀγαθός', 'στρατόπεδον', 'χράομαι', 'πολεμικός', 'σκυτοτόμος', 'σκῦτος', 'καλός', 'ὑπόδημα', 'ποιέω', 'τρόπος', 'τεχνίτης', 'ἅπας', 'ἄθλιος', 'γένοιτʼ', 'εὐδαίμων', 'μακάριός', 'Πριαμικός', 'τύχη', 'περιπίπτω', 'ποικίλος', 'εὐμετάβολος', 'εὐδαιμονία', 'κινέω', 'ῥᾴδιος', 'τυγχάνω', 'ἀτύχημα', 'μέγας', 'πολύς', 'γίγνομαι', 'εὐδαίμων', 'ὀλίγος', 'χρόνος', 'πολύς', 'τέλειος', 'μέγας', 'κᾶλον', 'ἐπήβολος', 'κωλύω', 'λέγω', 'εὐδαίμων', 'κατʼ', 'ἀρετην', 'τέλειος', 'ἀγαθός', 'ἱκανός', 'χρόνος', 'τέλειος', 'βιός', 'προσθετέος', 'λόγος', 'ἐπειδη', 'μέλλω', 'ἀφανής', 'εὐδαιμονία', 'τέλος', 'τέλειος', 'τίθημι', 'μακάριος', 'ἐρέω', 'ζάω', 'ὑπάρχω', 'ὑπάρχω', 'μακάριος', 'ἄνθρωπος', 'τοσοῦτος', 'ὁρίζω', 'ἀπόγονος', 'τύχη', 'φίλος', 'ἅπας', 'μηδοτιοῦν', 'συμβάλλω', 'ἄφιλος', 'φαίνω', 'δόξα', 'ἐναντίος', 'πολύς', 'παντοῖος', 'ἔχω', 'διαφορά', 'συμβαίνω', 'μαλλός', 'ἥσσων', 'ἕκαστος', 'διαιρέω', 'μακρός', 'ἀπέραντος', 'φαίνω', 'λέγω', 'τύπος', 'τάχʼ', 'ἱκανός', 'ἔχω', 'ἀτύχημα', 'ἔχις', 'βρῖθος', 'ῥοπην', 'βιός', 'ἐλαφρός', 'ἔοικα', 'φίλος', 'ὅμοιος', 'ἅπας', 'διαφέρω', 'πάθη', 'ἕκαστος', 'συμβαίνω', 'πολὺ', 'μαλλός', 'παράνομος', 'δεῖνα', 'προυπάρχω', 'τραγῳδία', 'πράσσω', 'συλλογιστέος', 'διαφορά', 'μαλλός', 'ἴσος', 'διαπορέω', 'εἶμι', 'ἀγαθός', 'κοινωνέω', 'ἔοικα', 'διικνέομαι', 'αὐτοὺς', 'εἴτʼ', 'ἀγαθός', 'ἐναντίος', 'ἀφαυρός', 'μικρός', 'ἁπλόω', 'ἐκεῖνος', 'τοσοῦτόν', 'ποιέω', 'εὐδαίμων', 'ἀφαιρέω', 'μακάριος', 'συμβάλλω', 'φαίνω', 'εὐπραξία', 'φίλος', 'ὅμοιος', 'δυσπραξία', 'τηλικοῦτος', 'εὐδαίμων', 'εὐδαίμων', 'ποιέω', 'μήτʼ', 'μηδείς', 'ἐπισκέπτομαι', 'εὐδαιμονία', 'πότερος', 'ἐπαινέτης', 'μαλλός', 'τίμιος', 'δῆλος', 'δύναμις', 'φαίνω', 'πᾶς', 'ἐπαινετός', 'ποιός', 'ἔχω', 'ἐπαινέω', 'δίκαιος', 'ἀνδρεῖος', 'ὅλοξ', 'ἀγαθός', 'ἀρετην', 'ἐπαινέω', 'πρᾶξις', 'ἔργον', 'ἰσχυρός', 'δρομικός', 'ἕκαστος', 'ποιός', 'φύω', 'ἔχω', 'ἀγαθός', 'σπουδαῖος', 'δῆλος', 'θεοὺς', 'ἔπαινος', 'γέλοιος', 'φαίνω', 'ἡμός', 'συμβαίνω', 'γίγνομαι', 'ἔπαινος', 'διʼ', 'ἀναφορᾶς', 'εἶπον', 'ἔπαινος', 'δῆλος', 'ἄριστον', 'ἔπαινος', 'μεῖζόν', 'βελτίων', 'φαίνω', 'θεοὺς', 'μακαρίζω', 'εὐδαιμονίζω', 'ἀνδρών', 'θεῖος', 'μακαρίζω', 'ὅμοιος', 'ἀγαθός', 'εὐδαιμονία', 'ἐπαινέω', 'δίκαιος', 'θειότερόν', 'βελτίων', 'μακαρίζω', 'δοκέω', 'εὔδοξος', 'καλός', 'συνηγορέω', 'ἀριστεία', 'ἡδονή', 'ἐπαινέω', 'ἀγαθός', 'μηνύω', 'οἴομαι', 'κρεῖττόν', 'ἐπαινέτης', 'θεός', 'ἀγαθός', 'ἀναφέρω', 'ἔπαινος', 'ἀρετή', 'πρακτικός', 'κᾶλον', 'ἐγκώμιος', 'ἔργον', 'ὅμοιος', 'σωματικός', 'ψυχικός', 'ἴσος', 'οἰκεῖος', 'ἐξακριβόω', 'ἐγκώμιος', 'δῆλος', 'εὐδαιμονία', 'τίμιος', 'τέλειος', 'ἔοικα', 'ἔχω', 'ἀρχή', 'χάρις', 'λοιπός', 'πᾶς', 'πᾶς', 'πράσσω', 'ἀρχην', 'αἴτιος', 'ἀγαθός', 'τίμιόν', 'θεῖος', 'τίθημι', 'ἔπος', 'εὐδαιμονία', 'ψυχή', 'ἐνέργειά', 'κατʼ', 'ἀρετην', 'τέλειος', 'ἀρετή', 'ἐπισκεπτέος', 'ἐάω', 'τάχος', 'βελτίων', 'εὐδαιμονία', 'θεωρέω', 'δοκέω', 'κατʼ', 'ἀλήθεια', 'πολιτικός', 'πονέω', 'βούλομαι', 'πολίτης', 'ἀγαθοὺς', 'ποιέω', 'νομή', 'ὑπήκους', 'παράδειγμα', 'ἔχω', 'Κρής', 'λακεδαιμονίων', 'νομοθέτης', 'εἶμι', 'τίνω', 'ἕτερος', 'γίγνομαι', 'πολιτικός', 'σκέψις', 'δῆλος', 'γίνοιτʼ', 'ζήτησις', 'ἀρχή', 'προαίρεσις', 'ἀρετή', 'ἐπισκεπτέος', 'ἀνθρώπινος', 'δῆλος', 'ἀγαθός', 'ἀνθρώπινος', 'ζητέω', 'εὐδαιμονία', 'ἀνθρώπινος', 'ἀρετην', 'λέγω', 'ἀνθρώπινος', 'σῶμα', 'ψυχή', 'εὐδαιμονία', 'ψυχή', 'ἐνέργεια', 'λέγω', 'ταῦθʼ', 'ἔχις', 'δῆλος', 'δεῖ', 'πολιτικός', 'οἶδα', 'ψυχή', 'ὀφθαλμοὺς', 'πᾶς', 'σῶμα', 'μαλλός', 'ὅσος', 'τίμιος', 'βελτίων', 'πολιτικός', 'ἰατρικός', 'ἰατρός', 'χαρίεις', 'πολύς', 'πραγματεύομαι', 'σῶμα', 'γνῶσις', 'θεωρητέον', 'πολιτικός', 'ψυχή', 'θεωρητέον', 'χάρις', 'ἐφʼ', 'ὅσος', 'ἱκανός', 'ἔχις', 'πλείων', 'ἐξακριβόω', 'ἐργώδης', 'ἴσος', 'λέγω', 'ἐξωτερικοῖς', 'λόγος', 'ἔνιοι', 'χρηστέος', 'οἷος', 'ἄλογος', 'λόγος', 'ἔχω', 'πότερος', 'ὁρίζω', 'σῶμα', 'μορία', 'πᾶς', 'μεριστός', 'λόγος', 'ἀχώριστος', 'περιφέρεια', 'κυρτός', 'κοῖλος', 'διαφέρω', 'πηρός', 'ἄλογος', 'ἔοικα', 'κοινός', 'φυτικός', 'λέγω', 'αἴτιος', 'τρέφω', 'αὐξάνω', 'δύναμις', 'ψυχή', 'ἅπας', 'θεῖος', 'ἔμβρυον', 'αὐτην', 'τέλειος', 'εὔλογος', 'κοινός', 'ἀρετη', 'ἀνθρώπινος', 'φαίνω', 'δοκέω', 'ὕπνος', 'ἐνεργέω', 'μόριον', 'δύναμις', 'ἀγαθός', 'κακός', 'ἥκιστος', 'διάδηλος', 'ὕπνος', 'ʽὅθεν', 'φάσις', 'διαφέρω', 'ἥμισυς', 'βιός', 'εὐδαίμων', 'ἄθλιος', 'συμβαίνω', 'ἀργία', 'ὕπνος', 'ψυχή', 'λέγω', 'σπουδαῖος', 'φαύλἠ', 'πλέω', 'μικρός', 'διικνοῦνταί', 'τίνω', 'κίνησις', 'βελτίων', 'γίγνομαι', 'φάντασμα', 'ἐπιεικής', 'τυγχάνω', 'θρεπτικός', 'ἐατέος', 'ἐπειδη', 'ἀνθρωπικός', 'ἀρετή', 'ἄμοιρος', 'φύω', 'ἔοικα', 'φύσις', 'ψυχή', 'ἄλογος', 'λόγος', 'ἐγκρατής', 'ἀκρατής', 'λόγος', 'ψυχή', 'λόγος', 'ἔχω', 'ἐπαινέω', 'ὀρθός', 'βέλτιστος', 'παρακαλέω', 'φαίνω', 'λόγος', 'μάχομαι', 'ἀντιτείνω', 'λόγος', 'ἄτεχνος', 'σῶμα', 'μορία', 'δεξιά', 'κινέω', 'ἐναντίος', 'ἀριστερός', 'παραφέρω', 'ψυχή', 'ἐναντίος', 'ὁρμή', 'ἀκρατής', 'σῶμα', 'ὁράω', 'ψυχή', 'ὁράω', 'ἴσος', 'ἥσσων', 'ψυχή', 'νομιστέος', 'εἶναί', 'λόγος', 'ἀντιβαίνω', 'ἕτερος', 'διαφέρω', 'λόγος', 'φαίνω', 'μετέχω', 'εἶπον', 'πειθαρχέω', 'λόγος', 'ἐγκρατοῦςἔτι', 'ἴσος', 'εὐηκοώτερόν', 'σώφρων', 'ἀνδρεῖος', 'πᾶς', 'ὁμοφωνέω', 'λόγος', 'φαίνω', 'ἄλογος', 'δισσός', 'φυτικός', 'οὐδαμός', 'κοινωνέω', 'λόγος', 'ἐπιθυμητικός', 'ὅλοξ', 'ὀρεκτικός', 'μετέχω', 'κατήκοόν', 'πειθαρχικός', 'πατήρ', 'φίλος', 'φημί', 'ἔχω', 'λόγος', 'οὐχὥσπερ', 'μαθηματικός', 'πείθεταί', 'λόγος', 'ἄλογος', 'μηνύω', 'νουθέτησις', 'πᾶς', 'ἐπιτίμησίς', 'παράκλησις', 'χρῆ', 'φανή', 'λόγος', 'ἔχω', 'δισσός', 'λόγος', 'ἔχω', 'κύριος', 'πατήρ', 'ἀκουστικόν', 'διορίζω', 'ἀρετη', 'διαφορά', 'λέγω', 'διανοητικός', 'ἠθικός', 'σοφία', 'σύνεσις', 'φρόνησις', 'διανοητικός', 'ἐλευθεριότης', 'σωφροσύνη', 'ἠθικός', 'ἦθος', 'λέγω', 'σοφός', 'συνετός', 'πρᾶος', 'σώφρων', 'ἐπαινέω', 'σοφός', 'ἕξις', 'ἕξις', 'ἐπαινέτης', 'ἀρετή', 'λέγω', 'βοοκ', 'δισσός', 'ἀρετή', 'διανοητικός', 'ἠθικός', 'διανοητικός', 'πλείων', 'διδασκαλία', 'ἔχις', 'γένεσις', 'αὔξησις', 'ἐμπειρία', 'δέω', 'χρόνος', 'ἠθικη', 'ἔθος', 'περιγίγνομαι', 'ὄνομα', 'ἔχω', 'μικρός', 'παρεκκλίνω', 'ἔθος', 'ἵημι', 'δῆλος', 'ἠθικός', 'ἀρετή', 'φύσις', 'ἐγγίγνομαι', 'φύσις', 'ὄντα', 'ἐθίζω', 'οἷος', 'λίθος', 'φύσις', 'καθίημι', 'ἐθίζω', 'ἄνοος', 'φέρω', 'ἐθίζω', 'ἄνοος', 'ῥιπτός', 'πῦρ', 'καθίημι', 'ἐθίζω', 'οὔτʼ', 'φύσις', 'φύσις', 'ἐγγίγνομαι', 'ἀρετή', 'δείκνυμι', 'ἔθος', 'ὅσος', 'φύσις', 'παραγίγνομαι', 'δύναμις', 'πρότερος', 'κομίζω', 'ὕστερος', 'ἐνέργεια', 'ἀποδίδωμι', 'ʽὅπερ', 'αἴσθησις', 'δῆλος', 'εἶδον', 'ἀέκων', 'αἴσθησις', 'λαμβάνω', 'χράω', 'ἔχω', 'ἀρετή', 'λαμβάνω', 'πρότερος', 'τέχνη', 'δεῖ', 'ποιέω', 'μανθάνω', 'οἷος', 'οἰκοδόμος', 'γίγνομαι', 'κιθαριστής', 'δίκαιος', 'δίκαιος', 'γίγνομαι', 'σώφρων', 'σώφρων', 'ἀνδρεῖα', 'ἀνδρεῖος', 'μαρτυρέω', 'πόλις', 'νομοθέτης', 'πολίτης', 'ποιέω', 'ἀγαθός', 'βούλημα', 'πᾶς', 'νομοθέτης', 'τοῦτʼ', 'ὅσος', 'ποιέω', 'ἁμαρτάνω', 'διαφέρω', 'πολιτεία', 'πολιτεία', 'ἀγαθη', 'φαῦλος', 'γίγνομαι', 'πᾶς', 'ἀρετη', 'φθείρω', 'ὅμοιος', 'τέχνη', 'κιθαρίζω', 'ἀγαθός', 'κακός', 'γίγνομαι', 'κιθαριστής', 'ἀνάλογος', 'οἰκοδόμος', 'λοιπός', 'πᾶς', 'οἰκοδομέω', 'ἀγαθός', 'οἰκοδόμος', 'κακός', 'κακός', 'ἔχω', 'δεῖ', 'πᾶς', 'γίγνομαι', 'ἀγαθός', 'κακός', 'ἀρετή', 'ἔχις', 'συνάλλαγμα', 'ἄνθρωπος', 'γίγνομαι', 'οἳ', 'δίκαιος', 'οἳ', 'ἄδικος', 'δεινός', 'φοβέω', 'θαρσέω', 'οἳ', 'ἀνδρεῖος', 'οἳ', 'δειλός', 'ὅμοιος', 'ἐπιθυμία', 'ἔχις', 'ὀργάς', 'οἳ', 'σώφρων', 'πρᾶος', 'γίγνομαι', 'οἳ', 'ἀκόλαστος', 'ὀργίλος', 'οἳ', 'ἀναστρέφω', 'οἳ', 'ἑνί', 'λόγος', 'ὅμοιος', 'ἐνέργεια', 'ἕξις', 'γίγνομαι', 'δεῖ', 'ἐνέργεια', 'πόα', 'ἀποδίδωμι', 'διαφορά', 'ἀκολουθέω', 'ἕξις', 'μικρός', 'διαφέρω', 'εὐθὺς', 'ναός', 'ἐθίζω', 'πάμπολυ', 'μαλλός', 'πᾶς', 'ἔπος', 'πραγματεία', 'θεωρία', 'ἕνεκά', 'ʽοὐ', 'οἶδα', 'ἀρετη', 'σκέπτομαι', 'ἵνʼ', 'ἀγαθός', 'γίγνομαι', 'ἔπος', 'ὄφελος', 'αὐτῆσ', 'ἀναγκαῖον', 'ἐπισκέπτομαι', 'πρᾶξις', 'πρακτέος', 'εἶμι', 'κυρία', 'πόα', 'γίγνομαι', 'ἕξις', 'ἐρῶ', 'ὀρθός', 'λόγος', 'πράσσω', 'κοινός', 'ὑποκείσθωῥηθήσεται', 'ὕστερος', 'ὀρθός', 'λόγος', 'ἔχις', 'ἀλλᾶς', 'ἀρετή', 'ἐκεῖνος', 'προδιομολογέομαι', 'πᾶς', 'πρακτός', 'λόγος', 'τύπος', 'ἀκριβόω', 'ὀφείλω', 'λέγω', 'κατʼ', 'ἀρχή', 'εἶπον', 'ὕλη', 'λόγος', 'ἀπαιτητέοι', 'πρᾶξις', 'ἔχις', 'ὑγιεινός', 'λόγος', 'μαλλός', 'ἕκαστος', 'λόγος', 'ἔχις', 'ἀκριβής', 'τέχνη', 'οὔθʼ', 'παραγγελία', 'πίπτω', 'δεῖ', 'αὐτοὺς', 'καῖρος', 'σκοπέω', 'ἰατρικός', 'ἔχις', 'κυβερνητικός', 'λόγος', 'πειρατέος', 'βοηθέω', 'πρότερος', 'θεωρητέον', 'φύω', 'ὑπʼ', 'ἔνδεια', 'ὑπερβολή', 'φθείρω', 'ʽδεῖ', 'ἀφανής', 'φανερός', 'μαρτύριον', 'χρῆσθαἰ', 'ἰσχύς', 'ὑγίεια', 'ὁράω', 'γυμνασία', 'φθείρω', 'ἰσχύς', 'ὅμοιος', 'ποτή', 'σιτίον', 'πλείων', 'ἐλάσσων', 'φθείρω', 'ὑγίεια', 'σύμμετρος', 'ποιέω', 'αὐξάνω', 'σώζω', 'σωφροσύνη', 'ἀνδρεία', 'ἔχις', 'ἀρετή', 'πᾶς', 'μηδείς', 'δειλός', 'γίγνομαι', 'μηδείς', 'ὅλοξ', 'πᾶς', 'θρασύς', 'ὅμοιος', 'πᾶς', 'ἡδονή', 'μηδείς', 'ἀκόλαστος', 'πᾶς', 'ἄγροικος', 'ἀναίσθητός', 'φθείρω', 'σωφροσύνη', 'ἀνδρεῖα', 'ὑπερβολή', 'ἐλλείψεως', 'μεσότης', 'σώζω', 'μόνος', 'γένεσις', 'αὔξησις', 'φθορά', 'γίγνομαι', 'ἐνέργεια', 'φανερός', 'ἔχις', 'οἷος', 'ἰσχύς', 'γίγνομαι', 'πολύς', 'τροφή', 'λαμβάνω', 'πολλοὺς', 'πόνος', 'ὑπομένω', 'δύναιτʼ', 'ποιέω', 'ἰσχυρός', 'ἔχις', 'ἀρετή', 'ἀπέχω', 'ἡδονή', 'γίγνομαι', 'σώφρων', 'δύναμαι', 'ἀπέχω', 'ὅμοιος', 'ἀνδρεία', 'καταφρονέω', 'φοβερός', 'ὑπομένω', 'γίγνομαι', 'ἀνδρεῖος', 'δύναμαι', 'ὑπομένω', 'φοβερός', 'σημεῖον', 'δεῖ', 'ποιέω', 'ἕξις', 'ἡδονην', 'λύπη', 'ἔργον', 'σωματικός', 'ἡδονή', 'σώφρων', 'ἀκόλαστος', 'δεῖνα', 'λυπούμενός', 'ἀνδρεῖος', 'δειλός', 'ἡδονή', 'λύπη', 'ἠθικη', 'ἀρετή', 'ἡδονην', 'φαῦλος', 'πράσσω', 'λύπη', 'κᾶλον', 'ἀπέχω', 'δεῖ', 'ἦχθαί', 'εὐθὺς', 'ναός', 'πλάτη', 'φημί', 'χαίρω', 'λυπέω', 'δεῖ', 'ὀρθη', 'παιδεία', 'ἀρετή', 'εἶμι', 'πρᾶξις', 'πάθη', 'πᾶς', 'πάθος', 'πᾶς', 'πρᾶξις', 'ἕπεται', 'ἡδονη', 'λύπη', 'τοῦτʼ', 'ἐάω', 'ἀρετη', 'ἡδονή', 'λύπη', 'μηνύω', 'κόλασις', 'ἰατρεία', 'τίνω', 'εἶμι', 'ἰατρεία', 'ἐναντίος', 'φύω', 'γίγνομαι', 'πρώιος', 'εἶπον', 'πᾶς', 'ψυχή', 'ἕξις', 'ὑφʼ', 'οἷος', 'φύω', 'γίγνομαι', 'χείρ', 'βελτίων', 'φύσις', 'ἔχις', 'διʼ', 'ἡδονή', 'λύπη', 'φαῦλος', 'γίγνομαι', 'διώκω', 'φεύγω', 'ἃς', 'δεῖ', 'δεῖ', 'δεῖ', 'ὁσαχῶς', 'λόγος', 'διορίζω', 'ὁρίζω', 'ἀρετή', 'ἀπάθεια', 'ἠρεμία', 'ἁπλόω', 'λέγω', 'δεῖ', 'δεῖ', 'ὅσος', 'προστίθημι', 'ὑπόκειμαι', 'ἀρετη', 'ἡδονή', 'λύπη', 'βέλτιστος', 'πρακτικός', 'κακία', 'ἐναντίος', 'γίγνομαι', 'φανερός', 'ὄντα', 'αἵρεσις', 'φυγάς', 'κᾶλον', 'ἡδύς', 'ἐναντίος', 'αἰσχρός', 'βλαβερός', 'λυπηρός', 'πᾶς', 'ἀγαθός', 'κατορθωτικός', 'κακός', 'ἁμαρτητικός', 'ἡδονή', 'κοινός', 'ζῷον', 'πᾶς', 'αἵρεσις', 'παρακολουθέω', 'κᾶλον', 'συμφέρω', 'ἡδὺ', 'φαίνω', 'νήπιος', 'πᾶς', 'συντρέφω', 'χαλεπός', 'ἀποτρίβω', 'πάθος', 'βιός', 'κανονίζω', 'πρᾶξις', 'οἳ', 'μαλλός', 'οἳ', 'ἥσσων', 'ἡδονή', 'λύπη', 'τοῦτʼ', 'ἀναγκαῖον', 'πᾶς', 'πραγματεία', 'μικρός', 'πρᾶξις', 'κακός', 'χαίρω', 'λυπέω', 'χαλεπός', 'ἡδονή', 'μάχομαι', 'θύμον', 'φημί', 'ἡράκλειτος', 'χαλεπός', 'τέχνη', 'γίγνομαι', 'ἀρετή', 'βελτίων', 'ἡδονή', 'λύπη', 'πᾶς', 'πραγματεία', 'ἀρετή', 'πολιτικός', 'ἀγαθός', 'κακός', 'κακός', 'ἀρετη', 'ἡδονή', 'λύπη', 'γίγνομαι', 'αὐξάνω', 'φθείρω', 'γίγνομαι', 'ἐνεργής', 'ἐρῶ', 'ἀπορέω', 'λέγω', 'δεῖ', 'δίκαιος', 'δίκαιος', 'γίγνομαι', 'σώφρων', 'σώφρων', 'πράσσω', 'δίκαιος', 'σώφρων', 'ἦδος', 'εἶμι', 'δίκαιος', 'σώφρων', 'γραμματικός', 'μουσική', 'γραμματικός', 'μουσικός', 'τέχνη', 'ἔχις', 'ἐνδέχομαι', 'γραμματικός', 'ποιέω', 'τύχη', 'γραμματικός', 'γραμματικός', 'ποίησις', 'γραμματικός', 'γραμματικός', 'ὅμοιόν', 'τέχνη', 'ἀρετή', 'τέχνη', 'ἔχις', 'ἀρκέω', 'ταῦτά', 'γίγνομαι', 'ἀρετή', 'ἔχις', 'δίκαιος', 'πράσσω', 'χόω', 'πράσσω', 'πρότερος', 'εἰδοί', 'ἔπειτʼ', 'διʼ', 'τρίτος', 'βέβαιος', 'ἀμετακίνητος', 'χόω', 'πράσσω', 'ἀλλᾶς', 'τέχνη', 'ἔχω', 'συναριθμέω', 'πλέω', 'οἶδα', 'ἀρετή', 'οἶδα', 'μικρός', 'ἰσχύω', 'μικρός', 'πᾶς', 'δυνατός', 'πράσσω', 'δίκαιος', 'σώφρων', 'περιγίγνομαι', 'πρᾶγμα', 'δίκαιος', 'σώφρων', 'λέγω', 'οἷος', 'δίκαιος', 'σώφρων', 'πράσσω', 'δίκαιος', 'σώφρων', 'δίκαιος', 'σώφρων', 'πράσσω', 'λέγω', 'δίκαιος', 'πράσσω', 'δίκαιος', 'γίγνομαι', 'σώφρων', 'σώφρων', 'πράσσω', 'μέλλω', 'γίγνομαι', 'ἀγαθός', 'πολύς', 'πράσσω', 'λόγος', 'οἴομαι', 'φιλοσοφέω', 'σπουδαῖος', 'ὅμοιόν', 'κάμνω', 'οἳ', 'ἰατρός', 'ἀκούω', 'ποιέω', 'ἐκεῖνος', 'ἔχω', 'σῶμα', 'ψυχή', 'ἀρετη', 'σκεπτέος', 'ἔπος', 'ψυχή', 'τριάς', 'πάθη', 'δύναμις', 'ἕξις', 'ἐάω', 'ἀρετή', 'λέγω', 'πάθη', 'ἐπιθυμία', 'ὀργην', 'φόβος', 'θάρσος', 'φθόνος', 'χαρά', 'φιλία', 'μῖσος', 'πόθος', 'ζῆλος', 'ἐλεός', 'ὅλοξ', 'ἕπεται', 'ἡδονη', 'λύπη', 'δύναμις', 'ἃς', 'παθητικός', 'λέγω', 'οἷος', 'ἃς', 'δυνατός', 'ὀργίζω', 'λυπέω', 'ἐλεέω', 'ἕξις', 'ἃς', 'πάθη', 'ἔχω', 'κακός', 'οἷος', 'ὀργίζω', 'σφοδρός', 'κακός', 'ἔχω', 'μέσος', 'ὅμοιος', 'πάθη', 'εἶμι', 'οὔθʼ', 'ἀρετή', 'οὔθʼ', 'κακία', 'λέγω', 'πάθη', 'σπουδαῖος', 'φαῦλος', 'ἀρετή', 'κακία', 'λέγω', 'πάθη', 'οὔτʼ', 'ἐπαινέω', 'ψέγω', 'ʽοὐ', 'ἐπαινέω', 'ψέγω', 'ἁπλόω', 'πῶσ', 'ἀρετή', 'κακία', 'ἐπαινέω', 'ψέγω', 'ὀργίζω', 'φοβέω', 'ἀπροαίρετος', 'ἀρετή', 'προαίρεσις', 'τίνω', 'ἀνίημι', 'προαίρεσις', 'πάθη', 'κινέω', 'λέγω', 'ἀρετή', 'κακία', 'κινέω', 'διακεῖσθαί', 'δύναμις', 'εἶμι', 'ἀγαθός', 'λέγω', 'δύναμαι', 'πάσχω', 'ἁπλόω', 'κακός', 'οὔτʼ', 'ἐπαινέω', 'ψέγω', 'δυνατός', 'φύσις', 'ἀγαθός', 'κακός', 'γίγνομαι', 'φύσις', 'εἶπον', 'πρότερος', 'πάθη', 'εἶμι', 'ἀρετή', 'δύναμις', 'λείπω', 'ἕξις', 'γένος', 'ἀρετή', 'εἴρω', 'δεῖ', 'μόνος', 'εἶπον', 'ἕξις', 'πόα', 'ῥητέος', 'πᾶς', 'ἀρετή', 'ἵημι', 'ἀρετή', 'ἔχω', 'ἀποτελέω', 'ἔργον', 'ἀποδίδωμι', 'οἷος', 'ὀφθαλμός', 'ἀρετη', 'ὀφθαλμός', 'σπουδαῖος', 'ποιέω', 'ἔργον', 'ὀφθαλμός', 'ἀρετή', 'ὁράω', 'ὅμοιος', 'ἵππος', 'ἀρετη', 'ἵππος', 'σπουδαῖος', 'ποιέω', 'ἀγαθός', 'τρέχω', 'φέρω', 'ἐπιβάτης', 'μένω', 'πολέμιος', 'τοῦτʼ', 'πᾶς', 'ἔχις', 'ἄνθρωπος', 'ἀρετη', 'ἐάω', 'ἕξις', 'ἀφʼ', 'ἀγαθός', 'ἄνθρωπος', 'γίγνομαι', 'ἀφʼ', 'ἔργον', 'ἀποδίδωμι', 'τοῦτʼ', 'ἦδος', 'ἐρῶ', 'ὧδʼ', 'φανερός', 'θεωρέω', 'πόα', 'φύσις', 'πᾶς', 'συνεχής', 'διαιρετός', 'λαμβάνω', 'πλείων', 'ἐλάσσων', 'ἴσος', 'κατʼ', 'πρᾶγμα', 'ἡμός', 'ἴσος', 'μέσος', 'ὑπερβολή', 'ἐλλείψεως', 'λέγω', 'πρᾶγμα', 'μέσος', 'ἴσος', 'ἀπέχω', 'ἀφʼ', 'ἑκάτερος', 'ἄκρα', 'ἵημι', 'πᾶς', 'ἡμός', 'πλεονάζω', 'ἐλλείπω', 'ἵημι', 'ταὐτόν', 'πᾶς', 'οἷος', 'δεκάς', 'πολύς', 'ὀλίγος', 'μέσος', 'λαμβάνω', 'πρᾶγμα', 'ἴσος', 'ὑπερέχω', 'ὑπερέχω', 'μέσος', 'ἀριθμητικην', 'ἀναλογία', 'ἡμός', 'ληπτέος', 'εἶμι', 'δεκάς', 'μνᾶ', 'ἐσθίω', 'πολὺ', 'ὀλίγος', 'ἀλείπτης', 'μνᾶ', 'πρόσταξις', 'ἴσος', 'πολὺ', 'ὀλίγος', 'μίλωνι', 'ὀλίγος', 'γυμνασία', 'πολύς', 'ὅμοιος', 'δρόμος', 'πάλη', 'πᾶς', 'ἐπιστήμη', 'ὑπερβολην', 'ἔλλειψιν', 'φεύγω', 'μέσος', 'ζητέω', 'τοῦθʼ', 'αἱρέω', 'μέσος', 'πρᾶγμα', 'ἡμός', 'πᾶς', 'ἐπιστήμη', 'ἔργον', 'ἐπιτελής', 'μέσος', 'ἔργον', 'ʽὅθεν', 'ἔθω', 'ἐπιλέγω', 'ἔχω', 'ἔργον', 'οὔτʼ', 'ἀφαιρέω', 'προστίθημι', 'ὑπερβολή', 'ἐλλείψεως', 'μεσότης', 'ἀγαθός', 'τεχνίτης', 'λέγω', 'ἐργάζονταἰ', 'ἀρετη', 'πᾶς', 'τέχνη', 'ἀκριβής', 'ἀμείνων', 'φύσις', 'μέσος', 'ἐάω', 'στοχαστικός', 'λέγω', 'ἠθικός', 'πάθη', 'πρᾶξις', 'ὑπερβολη', 'ἔλλειψις', 'μέσος', 'οἷος', 'φοβέω', 'θαρσέω', 'ἐπιθυμέω', 'ὀργίζω', 'ἐλεέω', 'ὅλοξ', 'ἥδομαι', 'λυπέω', 'μαλλός', 'ἥσσων', 'ἀμφότερος', 'δεῖ', 'ἐφʼ', 'οὓς', 'ἵημι', 'δεῖ', 'μέσος', 'ἄριστον', 'ἀρετή', 'ὅμοιος', 'πρᾶξις', 'ὑπερβολη', 'ἔλλειψις', 'μέσος', 'ἀρετη', 'πάθη', 'πρᾶξις', 'ὑπερβολη', 'ἁμαρτάνω', 'ἔλλειψις', 'ψέγω', 'μέσος', 'ἐπαινέω', 'κατορθόω', 'ἄμφω', 'ἀρετή', 'μεσότης', 'ἀρετή', 'στοχαστικός', 'μέσος', 'ἁμαρτάνω', 'ʽτό', 'κακός', 'ἄπειρος', 'Πυθαγόρειος', 'εἰκάζω', 'ἀγαθός', 'πεπερασμένοὐ', 'κατορθόω', 'μοναχός', 'ʽδιό', 'ῥᾴδιος', 'χαλεπός', 'ῥᾴδιος', 'ἀποτυγχάνω', 'σκοπός', 'χαλεπός', 'ἐπιτυγχάνω', 'ταῦτʼ', 'κακία', 'ὑπερβολη', 'ἔλλειψις', 'ἀρετή', 'μεσότης', 'ἐσθλός', 'ἁπλόω', 'παντοδαπός', 'κακός', 'ανον', 'ἀρετη', 'ἕξις', 'προαιρετικός', 'μεσότης', 'ἡμός', 'λόγος', 'φρόνιμος', 'ὁρίζω', 'μεσότης', 'κακία', 'ὑπερβολην', 'κατʼ', 'ἔλλειψιν', 'ἐλλείπω', 'ὑπερβάλλω', 'δέον', 'πάθος', 'πρᾶξις', 'ἀρετην', 'μέσος', 'εὑρίσκω', 'αἱρέω', 'οὐσία', 'λόγος', 'μεσότης', 'ἀρετή', 'ἄριστον', 'ἀκρότης', 'πᾶς', 'ἐπιδέχομαι', 'πρᾶξις', 'πᾶς', 'πάθος', 'μεσότης', 'ἔνιοι', 'εὐθὺς', 'ὀνομάζω', 'φαυλότης', 'οἷος', 'ἐπιχαιρεκακία', 'ἀναισχυντία', 'φθόνος', 'πρᾶξις', 'μοιχεία', 'κλοπεύς', 'ἀνδροφονία', 'πᾶς', 'λέγω', 'φαῦλος', 'ὑπερβολή', 'ἐλλείπω', 'κατορθόω', 'ἁμαρτάνω', 'ἣν', 'δεῖ', 'μοιχεύω', 'ἁπλόω', 'ποιέω', 'ἁμαρτάνω', 'ὅμοιος', 'ἀξιόω', 'ἀδικέω', 'δειλαίνω', 'ἀκολασταίνω', 'μεσότης', 'ὑπερβολην', 'ἔλλειψιν', 'ὑπερβολή', 'ἐλλείψεως', 'μεσότης', 'ὑπερβολή', 'ὑπερβολη', 'ἔλλειψις', 'ἐλλείψεως', 'σωφροσύνη', 'ἀνδρεία', 'ὑπερβολη', 'ἔλλειψις', 'μέσος', 'εἶναί', 'ἄκρον', 'ἐκεῖνος', 'μεσότης', 'ὑπερβολη', 'ἔλλειψις', 'πράσσω', 'ἁμαρτάνω', 'ὅλοξ', 'οὔθʼ', 'ὑπερβολή', 'ἐλλείψεως', 'μεσότης', 'μεσότης', 'ὑπερβολη', 'ἔλλειψις', 'δεῖ', 'μόνος', 'λέγω', 'ἕκαστος', 'ἐφαρμόζω', 'πρᾶξις', 'λόγος', 'κοινότεροί', 'εἶμι', 'μέρος', 'ἀληθινός', 'ἕκαστος', 'πρᾶξις', 'δέον', 'συμφωνέω', 'ληπτέος', 'διαγραφή', 'φόβος', 'θάρσος', 'ἀνδρεῖα', 'μεσότης', 'ὑπερβάλλω', 'ἀφοβία', 'ἀνώνυμος', 'ʽπολλά', 'ἀνώνυμἀ', 'θαρσέω', 'θρασύς', 'φοβέω', 'θαρσέω', 'δειλός', 'ἡδονή', 'λύπαςοὐ', 'πᾶς', 'ἥσσων', 'λύπαςμεσότης', 'σωφροσύνη', 'ὑπερβολη', 'ἀκολασία', 'ἡδονή', 'γίγνομαι', 'ὄνομα', 'τυγχάνω', 'ἀναίσθητος', 'δόσις', 'χρῆμα', 'λῆψις', 'μεσότης', 'ἐλευθεριότης', 'ὑπερβολη', 'ἔλλειψις', 'ἀσωτία', 'ἀνελευθερία', 'ἐναντίος', 'ὑπερβάλλω', 'ἐλλείπω', 'ἄσωτος', 'πρόεσις', 'ὑπερβάλλω', 'λῆψις', 'ἐλλείπω', 'ἀνελεύθερος', 'λῆψις', 'ὑπερβάλλω', 'πρόεσις', 'ἐλλείπω', 'τύπος', 'κεφάλαιος', 'λέγω', 'ὕστερος', 'ἀκριβής', 'διορίζω', 'χρῆμα', 'διάθεσις', 'εἶμι', 'μεσότης', 'μεγαλοπρέπεια', 'ʽὁ', 'μεγαλοπρεπής', 'διαφέρω', 'ἐλευθέριος', 'μέγας', 'μικρἄ', 'ὑπερβολη', 'ἀπειροκαλία', 'βαναυσία', 'ἔλλειψις', 'μικροπρέπεια', 'διαφέρω', 'ἐλευθεριότης', 'διαφέρω', 'ὕστερος', 'ἐρῶ', 'τιμή', 'ἀτιμία', 'μεσότης', 'μεγαλοψυχία', 'ὑπερβολη', 'χαυνότης', 'ἔλλειψις', 'μικροψυχία', 'λέγω', 'ἔχω', 'μεγαλοπρέπεια', 'ἐλευθεριότης', 'μικρός', 'ἔχις', 'μεγαλοψυχία', 'τιμή', 'μέγας', 'αὐτη', 'μικρός', 'δεῖ', 'ὀρέγω', 'τιμή', 'μαλλός', 'δεῖ', 'ἥσσων', 'λέγω', 'ὄρεξις', 'φιλότιμος', 'ἀφιλότιμος', 'μέσος', 'ἀνώνυμος', 'ἀνώνυμος', 'διάθεσις', 'πλέω', 'φιλότιμος', 'φιλοτιμία', 'ἐπιδικάζω', 'ἄκρος', 'μέσος', 'χώρα', 'μέσος', 'φιλότιμος', 'καλέω', 'ἀφιλότιμος', 'ἐπαινέω', 'φιλότιμος', 'ἀφιλότιμος', 'αἰτία', 'ποιέω', 'ἕξις', 'ἐρῶ', 'λοιπός', 'λέγω', 'τρόπος', 'ὀργην', 'ὑπερβολη', 'ἔλλειψις', 'μεσότης', 'ἀνώνυμος', 'ὄντα', 'μέσος', 'πρᾶος', 'μεσότης', 'πραότης', 'καλέω', 'ἄκρα', 'ὀργίλος', 'κακία', 'ὀργιλότης', 'ἀόργητός', 'ἔλλειψις', 'ἀοργησία', 'εἶμι', 'τρέω', 'μεσότης', 'ὁμοιότης', 'ἀλλήλων', 'ἀλλήλων', 'πᾶς', 'εἶμι', 'λόγος', 'πρᾶξις', 'κοινωνία', 'διαφέρω', 'ἀληθής', 'αἳ', 'ἡδύς', 'παιδιή', 'πᾶς', 'βιός', 'ῥητέος', 'μαλλός', 'κατεῖδον', 'πᾶς', 'μεσότης', 'ἐπαινετός', 'ἄκρα', 'οὔτʼ', 'ἐπαινέτης', 'οὔτʼ', 'ὀρθός', 'ψέκτης', 'εἶμι', 'πλείων', 'ἀνώνυμος', 'πειρατέος', 'αὐτοὺς', 'ὀνοματοποιέω', 'σαφήνεια', 'εὐπαρακολούθητος', 'ἀληθής', 'μέσος', 'ἀληθής', 'μεσότης', 'ἀλήθεια', 'λέγω', 'προσποίησις', 'μέγας', 'ἀλαζονεία', 'χόω', 'αὐτην', 'ἀλαζών', 'ἐλάσσων', 'εἰρωνεία', 'εἴρη', 'χόω', 'ἡδὺ', 'παιδιή', 'μέσος', 'εὐτράπελος', 'διάθεσις', 'εὐτραπελία', 'ὑπερβολη', 'βωμολοχία', 'χόω', 'αὐτην', 'βωμολόχος', 'ἄγροικός', 'ἕξις', 'ἀγροικία', 'λοιπός', 'ἡδὺ', 'βιός', 'δεῖ', 'ἡδὺς', 'ὢν', 'φίλος', 'μεσότης', 'φιλία', 'ἄρεσκος', 'ὠφέλεια', 'κόλαξ', 'πᾶς', 'ἀηδης', 'δύσερίς', 'δύσκολος', 'εἶμι', 'πάθημα', 'πάθη', 'μεσότης', 'αἰδὼς', 'ἀρετη', 'ἐπαινέω', 'αἰδήμων', 'λέγω', 'μέσος', 'καταπλήξ', 'πᾶς', 'μηδείς', 'ὅλοξ', 'ἀναίσχυντος', 'μέσος', 'αἰδήμων', 'νέμεσις', 'μεσότης', 'φθόνος', 'ἐπιχαιρεκακίας', 'εἶμι', 'λύπη', 'ἡδονην', 'συμβαίνω', 'πελός', 'νεμεσητικός', 'λυπέω', 'ἀνάξιος', 'πράσσω', 'φθονερός', 'πᾶς', 'λυπέω', 'ἐπιχαιρέκακος', 'τοσοῦτος', 'ἐλλείπω', 'λυπέω', 'χαίρω', 'καῖρος', 'δικαιοσύνη', 'ἔπος', 'ἁπλόω', 'λέγω', 'ἑκάτερος', 'ἐρέω', 'μεσότητές', 'εἶμι', 'ὅμοιος', 'λογικῶν', 'ἀρετή', 'διάθεσις', 'κακία', 'ὑπερβολην', 'κατʼ', 'ἔλλειψιν', 'μιᾶς', 'ἀρετή', 'μεσότης', 'πᾶς', 'πᾶς', 'ἀντίκεινταί', 'ἄκρα', 'μέσος', 'ἀλλήλων', 'ἐναντίος', 'εἶμι', 'μέσος', 'ἄκρα', 'ἴσος', 'ἐλάσσων', 'μέγας', 'μέγας', 'ἐλάσσων', 'μέσος', 'ἕξις', 'ἐλλείπω', 'ὑπερβάλλω', 'ὑπερβολή', 'ἐλλείπω', 'πάθος', 'πρᾶξις', 'ἀνδρεῖος', 'δειλός', 'θρασὺς', 'φαίνω', 'θρασὺν', 'δειλός', 'ὅμοιος', 'σώφρων', 'ἀναίσθητος', 'ἀκόλαστος', 'ἀκόλαστος', 'ἀναίσθητος', 'ἐλευθέριος', 'ἀνελεύθερος', 'ἄσωτος', 'ἄσωτος', 'ἀνελεύθερος', 'ἀπωθέω', 'μέσος', 'ἄκρος', 'ἑκάτερος', 'ἑκάτερος', 'καλέω', 'ἀνδρεῖος', 'δειλός', 'θρασὺν', 'θρασὺς', 'δειλός', 'ἀνάλογος', 'ἀλλήλων', 'πλεῖστος', 'ἐναντιότης', 'ἄκρον', 'ἀλλήλων', 'μέσος', 'ἀφεστήξω', 'ἀλλήλων', 'μέσος', 'μέγας', 'μικρός', 'μικρός', 'μέγας', 'ἄμφω', 'ἴσος', 'μέσος', 'ἔνιοι', 'ἄκρον', 'ὁμοιότης', 'φαίνω', 'θρασύτης', 'ἀνδρεία', 'ἀσωτία', 'ἐλευθεριότης', 'ἄκρον', 'ἀλλήλων', 'πλεῖστος', 'ἀνομοιότης', 'πλεῖστος', 'ἀπʼ', 'ἀλλήλων', 'ἐναντίος', 'ὁρίζω', 'μαλλός', 'ἐναντίος', 'πλείων', 'μέσος', 'ἀντίκειμαι', 'μαλλός', 'ἐφʼ', 'ἔλλειψις', 'ἐφʼ', 'ὑπερβολή', 'οἷος', 'ἀνδρεία', 'θρασύτης', 'ὑπερβολη', 'δειλία', 'ἔλλειψις', 'σωφροσύνη', 'ἀναισθησία', 'ἔνδεια', 'ἀκολασία', 'ὑπερβολη', 'αἰτία', 'συμβαίνω', 'μίαν', 'πρᾶγμα', 'ἐγγύτερον', 'ὅμοιος', 'ἕτερος', 'ἄκρον', 'μέσος', 'ἐναντίος', 'ἀντιτίθημι', 'μαλλός', 'οἷος', 'ἔπος', 'ὅμοιος', 'δοκέω', 'ἀνδρεία', 'θρασύτης', 'ἐγγύτερον', 'ἀνόμοιος', 'δειλία', 'μαλλός', 'ἀντιτίθημι', 'πλείων', 'μέσος', 'ἐναντίος', 'δοκέω', 'μία', 'αἰτία', 'πρᾶγμα', 'ἕτερος', 'ἡμός', 'μαλλός', 'πεφύκαμέν', 'μαλλός', 'ἐναντίος', 'μέσος', 'φαίνω', 'οἷος', 'μαλλός', 'φύω', 'ἡδονή', 'εὐκαταφορώτεροί', 'ἀκολασία', 'κοσμιότης', 'ταῦτʼ', 'μαλλός', 'ἐναντίος', 'λέγω', 'ἐπίδοσις', 'μαλλός', 'γίγνομαι', 'ἀκολασία', 'ὑπερβολη', 'ἐναντίος', 'σωφροσύνη', 'ἀρετη', 'ἠθικη', 'μεσότης', 'μεσότης', 'κακία', 'ὑπερβολην', 'κατʼ', 'ἔλλειψιν', 'στοχαστικός', 'μέσος', 'πάθος', 'πρᾶξις', 'ἱκανός', 'εἴρω', 'ἔργον', 'σπουδαῖος', 'ἕκαστος', 'μέσος', 'λαμβάνω', 'ἔργον', 'οἷος', 'κύκλος', 'μέσος', 'πᾶς', 'ὀργίζω', 'πᾶς', 'ῥᾴδιος', 'δίδωμι', 'ἀργύριον', 'δαπανάω', 'ὅσος', 'ἵημι', 'πᾶς', 'ῥᾴδιος', 'σπάνιος', 'ἐπαινετός', 'κᾶλον', 'δεῖ', 'μέσος', 'πρότερος', 'ἀποχωρέω', 'μαλλός', 'ἐναντίος', 'καλυψὼ', 'παραινέω', 'καπνός', 'κῦμα', 'ἔργω', 'ναῦς', 'ηομ', 'ὁδός', 'ἄκρα', 'ἁμαρτωλός', 'ἥσσων', 'ἔπος', 'μέσος', 'τυγχάνω', 'ἄκρος', 'χαλεπός', 'δεύτερος', 'φάσις', 'πλόος', 'ἐλάχιστος', 'ληπτέος', 'κάκη', 'τρόπος', 'ὃν', 'λέγω', 'σκοπέω', 'δεῖ', 'εὐκατάφοροί', 'φύω', 'γνώριμος', 'ἡδονή', 'λύπη', 'ἡμός', 'ἐναντίος', 'ἑαυτοὺς', 'ἀφέλκω', 'δεῖ', 'πολὺ', 'ἁμαρτάνω', 'μέσος', 'ἥκω', 'ξύλον', 'ποιέω', 'πᾶς', 'φυλακτέος', 'ἡδὺ', 'ἡδονή', 'ἀδέκαστος', 'κρίνω', 'δημογέρων', 'πάσχω', 'ἑλένην', 'δεῖ', 'πάσχω', 'ἡμός', 'ἡδονή', 'πᾶς', 'ἐκεῖνος', 'ἐπιλέγω', 'φωνή', 'αὐτην', 'ἥσσων', 'ἁμαρτάνω', 'ταῦτʼ', 'κεφάλαιος', 'εἶπον', 'δύναμαι', 'μέσος', 'τυγχάνω', 'χαλεπός', 'ἴσος', 'μάλιστʼ', 'ἕκαστος', 'ῥᾴδιος', 'διορίζω', 'τίσις', 'ποιός', 'ποσός', 'χρόνος', 'ὀργιστέος', 'ἐπαινέω', 'πρᾶος', 'φημί', 'ἀνδρώδης', 'μικρός', 'ψέγω', 'οὔτʼ', 'μαλλός', 'οὔτʼ', 'ἥσσων', 'πλείων', 'λανθάνω', 'ποσός', 'ψεκτός', 'ῥᾴδιος', 'λόγος', 'ἀφορίζω', 'αἰσθητός', 'ἕκαστος', 'αἴσθησις', 'κρίσις', 'τοσοῦτος', 'δῆλος', 'μέσος', 'ἕξις', 'πᾶς', 'ἐπαινέτης', 'ἀποκλίνω', 'δεῖ', 'ὑπερβολην', 'ἔλλειψιν', 'ῥᾴδιος', 'μέσος', 'τεύχω', 'βοοκ', 'ἀρετή', 'πάθη', 'πρᾶξις', 'ἑκούσιος', 'ἔπαινος', 'ψόγος', 'ἀεκούσιος', 'συγγνώμη', 'ἐλεᾶς', 'ἑκούσιος', 'ἀεκούσιος', 'ἀναγκαῖον', 'ἴσος', 'διορίζω', 'ἀρετή', 'ἐπισκοπέω', 'χρήσιμος', 'νομοθετέω', 'τιμή', 'κόλασις', 'δοκέω', 'ἀεκούσιος', 'βία', 'διʼ', 'ἄγνοια', 'βίαιος', 'ἵημι', 'ἀρχη', 'μηδείς', 'συμβάλλω', 'οἷος', 'πνεῦμα', 'κομίζω', 'πόα', 'ἄνθρωπος', 'κύριος', 'ὅσος', 'φόβος', 'μέγας', 'κάκη', 'πράσσω', 'κᾶλον', 'οἷος', 'τύραννος', 'προστάσσω', 'αἰσχρός', 'πράσσω', 'κύριος', 'ὢν', 'γονεύς', 'τέκνον', 'σώζω', 'ἀποθνήσκω', 'ἀμφισβήτησις', 'ἔχις', 'πότερος', 'ἀκούσιά', 'ἑκούσιος', 'συμβαίνω', 'χειμών', 'ἐκβολή', 'ἁπλόω', 'ἀποβάλλω', 'ἑκών', 'σωτηρία', 'λοιπός', 'ἅπας', 'νόος', 'μικτός', 'εἶμι', 'πρᾶξις', 'ἔοικα', 'μαλλός', 'ἑκούσιος', 'αἱρετός', 'εἶμι', 'πράσσω', 'τέλος', 'πρᾶξις', 'καῖρος', 'ἑκούσιος', 'ἀεκούσιος', 'πράσσω', 'λεκτέος', 'πράσσω', 'ἑκών', 'ἀρχη', 'κινέω', 'ὀργανικός', 'μέρος', 'πρᾶξις', 'ἀρχή', 'πράσσω', 'ἑκούσιος', 'ἁπλόω', 'ἴσος', 'ἀεκούσιος', 'αἱρέω', 'πρᾶξις', 'ἐπαινέω', 'αἰσχρός', 'λυπηρός', 'ὑπομένω', 'μέγας', 'κᾶλον', 'ψέγω', 'αἴσχισθʼ', 'ὑπομένω', 'μηδείς', 'κᾶλον', 'μέτριος', 'φαῦλος', 'ἔνιοι', 'ἔπαινος', 'γίγνομαι', 'συγγνώμη', 'πρᾶξις', 'δεῖ', 'ἀνθρώπινος', 'φύσις', 'τείνω', 'μηδείς', 'ὑπομένω', 'ἔνιοι', 'ἴσος', 'ἀναγκάζω', 'μαλλός', 'ἀποθανετέον', 'δεινός', 'εὐριπίδου', 'ἀλκμαίωνα', 'γέλοιος', 'φαίνω', 'μητροκτονέω', 'χαλεπός', 'διακρίνω', 'ποιός', 'ποιός', 'αἱρετέος', 'ὑπομενετέος', 'χαλεπός', 'ἐμμένω', 'πολύς', 'λυπηρός', 'ἀναγκάζω', 'αἰσχρός', 'ἔπαινος', 'ψόγος', 'γίγνομαι', 'πόα', 'φατέος', 'βίαιος', 'ἁπλόω', 'ὁπότʼ', 'αἰτία', 'μηδείς', 'συμβάλλω', 'ἀκούσιά', 'αἱρετός', 'ἀρχη', 'πράσσω', 'ἀκούσιά', 'ἑκούσιος', 'μαλλός', 'ἔοικα', 'ἑκούσιος', 'πρᾶξις', 'ἕκαστος', 'ἑκούσιος', 'πόα', 'πόα', 'αἱρετέος', 'ῥᾴδιος', 'ἀποδίδωμι', 'πολύς', 'διαφορά', 'εἶμι', 'ἕκαστος', 'ἡδύς', 'κᾶλον', 'φαιός', 'βίαιος', 'ʽἀναγκάζειν', 'ἔξεστι', 'ὄντἀ', 'πᾶς', 'ἐάω', 'βίαιος', 'χάρις', 'πᾶς', 'πᾶς', 'πράσσω', 'βία', 'ἀέκων', 'λυπηρός', 'ἡδὺ', 'κᾶλον', 'μεθʼ', 'ἡδονή', 'γέλοιος', 'αἰτιάομαι', 'εὐθήρατος', 'ὄντα', 'κᾶλον', 'αἰσχρός', 'ἡδύς', 'ἔοικα', 'βίαιος', 'ἵημι', 'ἀρχή', 'μηδείς', 'διʼ', 'ἄγνοια', 'ἑκούσιος', 'ἅπας', 'ἀεκούσιος', 'ἐπίλυπον', 'μεταμέλεια', 'διʼ', 'ἄγνοια', 'πράσσω', 'μηδείς', 'πρᾶξις', 'ἑκὼν', 'πράσσω', 'οἶδα', 'ἀέκων', 'λυπούμενός', 'διʼ', 'ἄγνοια', 'μεταμέλεια', 'ἀέκων', 'δοκέω', 'μεταμελόμενος', 'ἔπος', 'ἕτερος', 'ἑκών', 'ἔπος', 'διαφέρω', 'βελτίων', 'ὄνομα', 'ἔχω', 'ἴδιος', 'ἕτερος', 'ἔοικα', 'διʼ', 'ἄγνοια', 'πράσσω', 'δοκέω', 'διʼ', 'ἄγνοια', 'πράσσω', 'εἰδὼς', 'ἀγνοέω', 'πᾶς', 'μοχθηρός', 'δεῖ', 'πράσσω', 'ἀφεκτέος', 'ἁμαρτία', 'ἄδικος', 'ὅλοξ', 'κακός', 'γίγνομαι', 'ἀεκούσιος', 'βούλομαι', 'λέγω', 'εἶμι', 'ἀγνοέω', 'προαίρεσις', 'ἄγνοια', 'αἰτία', 'ἀεκούσιος', 'μοχθηρία', 'ʽψέγονται', 'ἕκαστος', 'πρᾶξις', 'ἐλεός', 'συγγνώμη', 'ἀεκούσιος', 'πράσσω', 'ἴσος', 'χείρων', 'διορίζω', 'ποσός', 'πράσσω', 'οἷος', 'ὄργανον', 'οἷος', 'σωτηρία', 'οἷος', 'ἤρεμος', 'σφοδρός', 'ἅπας', 'ἀγνοέω', 'δῆλος', 'πράσσω', 'ἀγνοέω', 'οἷος', 'λέγοντές', 'φάσις', 'ἐκπεσεῖν', 'οἶδα', 'ἀπόρρητος', 'αἰσχύλος', 'μυστικός', 'δείκνυμι', 'ἀφίημι', 'καταπέλτην', 'οἴομαι', 'υἱός', 'πολέμιος', 'μερόπη', 'σφαιρόω', 'δόρυ', 'λίθος', 'κίσηρις', 'σωτηρία', 'πιπίσκω', 'ἀποκτείνω', 'θῖξαι', 'πατάσσω', 'πᾶς', 'ἄγνοια', 'πρᾶξις', 'ἀγνοέω', 'ἀέκων', 'δοκέω', 'πράσσω', 'κύριος', 'κύριος', 'δοκέω', 'πρᾶξις', 'ἵημι', 'ἄγνοια', 'ἀεκούσιος', 'δεῖ', 'πρᾶξις', 'λυπηρός', 'μεταμέλεια', 'ἀεκούσιος', 'βία', 'διʼ', 'ἄγνοια', 'ἑκούσιος', 'δοκέω', 'ἵημι', 'ἀρχη', 'ἕκαστος', 'πρᾶξις', 'ἴσος', 'καλός', 'λέγω', 'ἀεκούσιος', 'θύμον', 'ἐπιθυμία', 'πρότερος', 'ζωή', 'ἑκούσιος', 'πρᾶξις', 'παῖς', 'πότερος', 'ἑκούσιος', 'πράσσω', 'διʼ', 'ἐπιθυμία', 'θύμον', 'κᾶλον', 'ἑκούσιος', 'αἰσχρός', 'ἀεκούσιος', 'γέλοιος', 'ἕνος', 'αἴτιος', 'ἄτοπος', 'ἴσος', 'ἀεκούσιος', 'φανή', 'δεῖ', 'ὀρέγω', 'δεῖ', 'ὀργίζω', 'τίσις', 'ἐπιθυμέω', 'οἷος', 'ὑγίεια', 'μάθησις', 'δοκέω', 'ἀεκούσιος', 'λυπηρός', 'κατʼ', 'ἐπιθυμία', 'ἡδύς', 'διαφέρω', 'ἀεκούσιος', 'λογισμός', 'θύμον', 'φευκτός', 'ἄμφω', 'δοκέω', 'ἥσσων', 'ἀνθρωπικός', 'ἄλογος', 'πάθη', 'πρᾶξις', 'ἄνθρωπος', 'θύμον', 'ἐπιθυμία', 'ἄτοπος', 'τίθημι', 'ἀεκούσιος', 'ἑκούσιος', 'ἀεκούσιος', 'προαίρεσις', 'ἕπεται', 'διέρχομαι', 'οἰκεῖος', 'δοκέω', 'ἀρετή', 'μαλλός', 'ἦθος', 'κρίνω', 'πρᾶξις', 'προαίρεσις', 'ἑκούσιος', 'φαίνω', 'ταὐτόν', 'πλείων', 'ἑκούσιος', 'ἑκούσιος', 'παῖς', 'ζωή', 'κοινωνέω', 'προαίρεσις', 'ἑκούσιος', 'λέγω', 'προαίρεσις', 'αὐτην', 'ἐπιθυμία', 'θύμον', 'βούλησις', 'δόξα', 'ἔοικα', 'ὀρθός', 'λέγω', 'κοινός', 'προαίρεσις', 'ἄλογος', 'ἐπιθυμία', 'θύμον', 'ἀκρατης', 'πράσσω', 'ἐγκρατης', 'προαίρεσις', 'ἐπιθυμία', 'ἐναντιόομαι', 'ἐπιθυμία', 'ἐπιθυμία', 'ἐπιθυμία', 'ἡδύς', 'ἐπιλύπου', 'προαίρεσις', 'λυπηρός', 'οὔθʼ', 'ἡδύς', 'θύμον', 'ἥσσων', 'ἥκιστος', 'θύμον', 'προαίρεσις', 'δοκέω', 'βούλησίς', 'προαίρεσις', 'ἀδύνατος', 'εἶμι', 'φαιός', 'προαιρέω', 'δοκέω', 'ἠλίθιος', 'βούλησις', 'ἀδύνατος', 'οἷος', 'ἀθανασία', 'βούλησίς', 'μηδαμός', 'διʼ', 'οἷος', 'ὑποκριτής', 'νίκη', 'ἀθλητής', 'προαιρέω', 'ὅσος', 'οἴομαι', 'γίγνομαι', 'διʼ', 'βούλησις', 'τέλος', 'μαλλός', 'προαίρεσις', 'τέλος', 'οἷος', 'ὑγιαίνω', 'βούλομαι', 'προαιρέω', 'διʼ', 'ὑγιαίνω', 'εὐδαιμονέω', 'βούλομαι', 'φημί', 'προαιρέω', 'λέγω', 'ἁρμόζω', 'ὅλοξ', 'ἔοικα', 'προαίρεσις', 'ἐφʼ', 'δόξα', 'ἐάω', 'δόξα', 'δοκέω', 'πᾶς', 'ἥσσων', 'ἀίδιος', 'ἀδύνατος', 'ἐφʼ', 'ψευδής', 'ἀληθής', 'διαιρέω', 'κακός', 'ἀγαθός', 'προαίρεσις', 'μαλλός', 'ὅλοξ', 'δόξα', 'ταὐτόν', 'ἴσος', 'λέγω', 'προαιρέω', 'ἀγαθός', 'κάκη', 'ποιός', 'τίνω', 'δοξάζω', 'προαιρέω', 'λαμβάνω', 'φεύγω', 'δοξάζω', 'συμφέρω', 'λαμβάνω', 'φεύγω', 'δοξάζω', 'προαίρεσις', 'ἐπαινέω', 'ἵημι', 'δεῖ', 'μαλλός', 'ὀρθός', 'δόξα', 'προαιρέω', 'οἶδα', 'ἀγαθός', 'ὄντα', 'δοξάζω', 'οἶδα', 'δοκέω', 'προαιρεῖσθαί', 'ἄριστον', 'δοξάζω', 'ἔνιοι', 'δοξάζω', 'ἀμείνων', 'κακία', 'αἱρέω', 'δεῖ', 'προγίγνομαι', 'δόξα', 'προαίρεσις', 'παρακολουθέω', 'διαφέρω', 'σκοπέω', 'ταὐτόν', 'δόξα', 'ποῖόν', 'ἐπειδη', 'ἑκούσιος', 'φαίνω', 'ἑκούσιος', 'πᾶς', 'προαιρετός', 'ἆρά', 'προαίρεσις', 'λόγος', 'διάνοια', 'ὑποσημαίνω', 'ἔοικα', 'ὄνομα', 'ὂν', 'ἕτερος', 'αἱρετός', 'βουλεύω', 'πότερος', 'πᾶς', 'πᾶς', 'βουλευτός', 'ἔνιοι', 'βουλή', 'λεκτέος', 'ἴσος', 'βουλευτός', 'ἵημι', 'βουλεύσαιτʼ', 'ἠλίθιος', 'νόος', 'χόω', 'ἀιδής', 'βουλεύω', 'οἷος', 'κόσμος', 'διάμετρον', 'πλευρά', 'ἀσύμμετρος', 'κίνησις', 'ταὐτάζω', 'εἴτʼ', 'ἀνάγκη', 'φύσις', 'αἰτία', 'οἷος', 'τροπή', 'ἀνατολή', 'οἷος', 'αὐχμός', 'ό̓μβρος', 'τύχη', 'οἷος', 'θησαυρός', 'εὕρεσις', 'ἀνθρώπινος', 'ἅπας', 'οἷος', 'Σκύθης', 'ἄριστον', 'πολιτεύω', 'λακεδαιμονίων', 'βουλεύω', 'γένοιτʼ', 'διʼ', 'ἡμός', 'βουλεύω', 'ἐφʼ', 'πρακτός', 'λοιπός', 'αἰτία', 'δοκέω', 'φύσις', 'ἀνάγκη', 'τύχη', 'νόος', 'πᾶς', 'διʼ', 'ἄνθρωπος', 'ἄνθρωπος', 'ἕκαστος', 'βουλεύω', 'διʼ', 'πρακτός', 'ἀκριβής', 'αὐτάρκης', 'ἐπιστήμη', 'βουλή', 'οἷος', 'γράμμα', 'ʽοὐ', 'διστάζω', 'γραπτέος', 'ὅσος', 'γίγνομαι', 'διʼ', 'ἡμός', 'βουλεύω', 'οἷος', 'κατʼ', 'ἰατρικην', 'χρηματιστικός', 'κυβερνητικός', 'μαλλός', 'γυμναστικός', 'ὅσος', 'ἥσσων', 'διακριβόω', 'λοιπός', 'ὅμοιος', 'μαλλός', 'τέχνη', 'ἐπιστήμη', 'μαλλός', 'διστάζω', 'βουλεύω', 'πολύς', 'ἄδηλος', 'ἀποβαίνω', 'ἀδιόριστον', 'σύμβουλος', 'παραλαμβάνω', 'μέγας', 'ἱκανός', 'διαγιγνώσκω', 'βουλεύω', 'τέλος', 'τέλος', 'ἰατρός', 'βουλεύω', 'ὑγιάζομαι', 'ῥήτωρ', 'πεῖσος', 'πολιτικός', 'εὐνομία', 'ποίησις', 'λοιπός', 'τέλος', 'τέλος', 'σκοπέω', 'πλείων', 'γίγνομαι', 'ῥᾴδιος', 'καλός', 'ἐπισκοπέω', 'διʼ', 'ἕνος', 'ἐκεῖνος', 'ἑός', 'ἔρχομαι', 'πρότερος', 'αἴτιος', 'εὕρεσις', 'ἔσχατόν', 'ἔοικα', 'ζητέω', 'ἀναλύω', 'τρόπος', 'διάγραμμα', 'ʽφαίνεται', 'ζήτησις', 'πᾶς', 'βούλευσις', 'οἷος', 'μαθηματικός', 'βούλευσις', 'πᾶς', 'ζήτησισ', 'ἔσχατος', 'ἀνάλυσις', 'πρότερος', 'γένεσις', 'κἂν', 'ἀδύνατος', 'ἐντυγχάνω', 'ἀφεστήξω', 'οἷος', 'χρῆμα', 'δεῖ', 'οἷόν', 'πορίζω', 'δυνατός', 'φαίνω', 'ἐγχειρέω', 'πράσσω', 'δυνατός', 'διʼ', 'ἡμός', 'γένοιτʼ', 'φίλος', 'διʼ', 'ἡμός', 'ἀρχη', 'ζητέω', 'ὄργανον', 'χρεία', 'ὅμοιος', 'λοιπός', 'διʼ', 'ἵημι', 'ἔοικα', 'εἴρω', 'ἄνθρωπος', 'ἀρχη', 'πρᾶξις', 'βουλή', 'πρακτός', 'πρᾶξις', 'ἐάω', 'βουλευτός', 'τέλος', 'τέλος', 'ἕκαστος', 'οἷος', 'ἄρτος', 'πέσσω', 'δεῖ', 'αἴσθησις', 'βουλεύω', 'ἄπειρος', 'ἥκω', 'βουλευτός', 'προαιρετός', 'πλέω', 'ἦδος', 'προαιρετός', 'βουλή', 'κρίνω', 'προαιρετός', 'παύω', 'ἕκαστος', 'ζάω', 'πρᾶξις', 'ἀνάγω', 'ἀρχή', 'δῆλος', 'ἀρχαῖος', 'πολιτεία', 'ἃς', 'Ὅμηρος', 'μιμέομαι', 'βασιλεύς', 'προαιρέω', 'ἀναγγέλλω', 'δημός', 'προαιρετός', 'βουλευτής', 'ὀρεκτός', 'ἐφʼ', 'προαίρεσις', 'ἐάω', 'βουλευτικός', 'ὄρεξις', 'ἐφʼ', 'βουλεύω', 'ὀρέγω', 'βούλευσις', 'προαίρεσις', 'τύπος', 'ἐρῶ', 'ποῖά', 'τέλος', 'βούλησις', 'τέλος', 'εἴρω', 'δοκέω', 'ἀγαθός', 'ἀγαθός', 'συμβαίνω', 'βουλητός', 'ἀγαθός', 'λέγω', 'βουλητός', 'βούλομαι', 'ὀρθός', 'ʽεἰ', 'βουλητός', 'ἀγαθός', 'τυγχάνω', 'κακός', 'ἀγαθός', 'βουλητός', 'λέγω', 'φύσις', 'βουλητός', 'ἕκαστος', 'δοκέω', 'φαίνω', 'τυγχάνω', 'ἐναντίος', 'ἀρέσκω', 'ἀρά', 'φατέος', 'ἁπλόω', 'κατʼ', 'ἀλήθεια', 'βουλητός', 'ἀγαθός', 'ἕκαστος', 'σπουδαῖος', 'κατʼ', 'ἀλήθεια', 'φαῦλος', 'τύχος', 'σῶμα', 'ὑγιεινός', 'κατʼ', 'ἀλήθεια', 'ὄντα', 'ἐπινόσοις', 'ἕτερος', 'ὅμοιος', 'πικρός', 'γλυκύς', 'θέρμη', 'βᾶρις', 'ἕκαστος', 'σπουδαῖος', 'ἕκαστος', 'κρίνον', 'ὀρθός', 'ἕκαστος', 'ἀληθής', 'φαίνω', 'ἕκαστος', 'ἕξις', 'ἴδιά', 'κᾶλον', 'ἡδύς', 'διαφέρω', 'πλεῖστος', 'ἴσος', 'σπουδαῖος', 'ἀληθής', 'ἕκαστος', 'ὁράω', 'κανὼν', 'μέτρον', 'πολύς', 'ἀπάτη', 'ἡδονην', 'ἔοικα', 'γίγνομαι', 'ἀγαθός', 'φαίνω', 'αἱρέω', 'ἡδὺ', 'ἀγαθός', 'λύπη', 'κακός', 'φεύγω', 'βουλητός', 'τέλος', 'βουλευτής', 'προαιρετός', 'τέλος', 'πρᾶξις', 'προαίρεσις', 'ἑκούσιος', 'ἀρετή', 'ἐνέργεια', 'ἐφʼ', 'ἀρετή', 'ὅμοιος', 'κακία', 'ἐφʼ', 'πράσσω', 'πράσσω', 'ναῦς', 'ὥστʼ', 'πράσσω', 'κᾶλον', 'ὂν', 'ἐφʼ', 'πράσσω', 'ἐφʼ', 'αἰσχρός', 'πράσσω', 'κᾶλον', 'ὂν', 'ἐφʼ', 'πράσσω', 'αἰσχρός', 'ὂν', 'ἐφʼ', 'ἐφʼ', 'κᾶλον', 'πράσσω', 'αἰσχρός', 'ὅμοιος', 'πράσσω', 'ἀγαθός', 'κακός', 'ἐφʼ', 'ἐπιεικής', 'φαῦλος', 'λέγω', 'ἑκὼν', 'πονηρός', 'ἀέκων', 'μακάριος', 'ἔοικα', 'ψευδής', 'ἀληθής', 'μακάριος', 'ἀέκων', 'μοχθηρία', 'ἑκούσιος', 'ἀμφισβητητέον', 'ἄνθρωπος', 'φατέος', 'ἀρχην', 'γενέτης', 'πρᾶξις', 'τέκνον', 'φαίνω', 'ἔχω', 'ἀλλᾶς', 'ἀρχή', 'ἀνάγω', 'ἀρχή', 'ἐφʼ', 'ἑκούσιος', 'ἔοικα', 'μαρτυρέω', 'ἴδιος', 'ὑφʼ', 'ἕκαστος', 'ὑπʼ', 'νομοθέτης', 'κολάζω', 'τιμωρέω', 'μοχθηρός', 'ὅσος', 'βία', 'διʼ', 'ἄγνοια', 'αἴτιος', 'κᾶλον', 'τιμάω', 'ὅσος', 'μήτʼ', 'ἐφʼ', 'μήθʼ', 'ἑκούσιος', 'προτρέπω', 'πράσσω', 'ἔργον', 'ὂν', 'πείθω', 'θερμαίνω', 'ἀλγέω', 'πεῖνα', 'ἄλλʼ', 'ἥσσων', 'πάσχω', 'ἀγνοέω', 'κολάζω', 'αἴτιος', 'δοκή', 'ἄγνοια', 'οἷος', 'μεθύω', 'διπλόος', 'ἐπιτιμία', 'ἀρχη', 'κύριος', 'μεθύσκω', 'αἴτιος', 'ἄγνοια', 'ἀγνοοῦντάς', 'νόμος', 'δεῖ', 'ἐπίσταμαι', 'χαλεπός', 'κολάζω', 'ὅμοιος', 'ὅσος', 'διʼ', 'ἀμέλεια', 'ἀγνοέω', 'δοκέω', 'ὂν', 'ἀγνοέω', 'ἐπιμελέομαι', 'κύριος', 'ἴσος', 'τοιοῦτός', 'ἐπιμελέομαι', 'γίγνομαι', 'αἴτιος', 'ἄδικος', 'ἀκόλαστος', 'οἳ', 'οἳ', 'ποτός', 'ἕκαστος', 'ἐνέργεια', 'ποιέω', 'δῆλος', 'μελετάω', 'ἀγωνία', 'πρᾶξις', 'διατελέω', 'ἀγνοέω', 'ἐνεργέω', 'ἕκαστος', 'ἕξις', 'γίγνομαι', 'κομιδή', 'ἀναίσθητος', 'ἄλογος', 'βούλομαι', 'ἄδικος', 'τὂν', 'ἀκόλαστος', 'πράσσω', 'ἄδικος', 'ἑκὼν', 'ἄδικος', 'ἐάω', 'βουλητός', 'ἄδικος', 'ὢν', 'παύω', 'δίκαιος', 'νόσος', 'ὑγιής', 'τυγχάνω', 'ἑκὼν', 'νοσέω', 'ἄκρατος', 'ἀπειθής', 'ἰατρός', 'ἔξεστι', 'νοσέω', 'λίθος', 'ἔτʼ', 'δυνατός', 'ἀναλαμβάνω', 'ὁμός', 'βάλλω', 'ῥίπτω', 'ἀρχη', 'ἄδικος', 'ἀκόλαστος', 'ἀρχή', 'ἔξεστι', 'γίγνομαι', 'ἑκών', 'εἶμι', 'μόνος', 'ψυχή', 'κακία', 'ἑκούσιοί', 'εἶμι', 'ἔνιοι', 'σῶμα', 'ἐπιτιμάω', 'φύσις', 'αἰσχρός', 'ἐπιτιμάω', 'διʼ', 'ἀγυμνασία', 'ἀμέλεια', 'ὅμοιος', 'ἀσθένεια', 'πήρωσις', 'ὀνειδίζω', 'τυφλός', 'φύσις', 'νόσος', 'πληγή', 'μαλλός', 'ἐλεέω', 'οἰνοφλυγία', 'ἀκολασία', 'πᾶς', 'ἐπιτιμάω', 'σῶμα', 'κακία', 'ἐφʼ', 'ἐπιτιμάω', 'ἐφʼ', 'κακία', 'ἐφʼ', 'λέγω', 'πᾶς', 'ἐφίημι', 'ἀγαθός', 'φαντασία', 'κύριος', 'ὁποῖός', 'ποθʼ', 'ἕκαστός', 'τέλος', 'φαίνω', 'ἕκαστος', 'ἕξεώς', 'αἴτιος', 'φαντασία', 'αἴτιος', 'αἴτιος', 'κακοποιέω', 'διʼ', 'ἄγνοια', 'τέλος', 'πράσσω', 'ἄριστον', 'τέλος', 'ἔφεσις', 'αὐθαίρετος', 'φύω', 'δεῖ', 'ὄψις', 'κρίνον', 'καλός', 'κατʼ', 'ἀλήθεια', 'ἀγαθός', 'αἱρέω', 'εὐφυης', 'καλός', 'φύω', 'μέγας', 'καλός', 'παρʼ', 'ἕτερος', 'οἷόν', 'λαμβάνω', 'μανθάνω', 'οἷος', 'φύω', 'ἕξις', 'καλός', 'φύω', 'τέλειος', 'ἀληθινη', 'ἐάω', 'εὐφυΐα', 'ταῦτʼ', 'ἀληθής', 'μαλλός', 'ἀρετη', 'κακία', 'ἑκούσιος', 'ἄμφω', 'ὅμοιος', 'ἀγαθός', 'κακός', 'τέλος', 'φύσις', 'φαίνω', 'κεῖμαι', 'λοιπός', 'πράσσω', 'τέλος', 'φύσις', 'ἕκαστος', 'φαίνω', 'οἱονδήποτε', 'παρʼ', 'τέλος', 'φυσικός', 'λοιπός', 'πράσσω', 'ἑκούσιος', 'σπουδαῖος', 'ἀρετη', 'ἑκούσιόν', 'ἥσσων', 'κακία', 'ἑκούσιος', 'ἐάω', 'ὅμοιος', 'κακός', 'ὑπάρχω', 'διʼ', 'πρᾶξις', 'τέλος', 'λέγω', 'ἑκούσιοί', 'εἶμι', 'ἀρετή', 'ʽκαί', 'ἕξις', 'συναίτιοί', 'ποιός', 'τίνω', 'τέλος', 'τιθέμεθἀ', 'κακία', 'ἑκούσιος', 'ὅμοιος', 'κοινός', 'ἀρετή', 'εἴρω', 'γένος', 'τύπος', 'μεσότητές', 'εἶμι', 'ἕξις', 'ὑφʼ', 'γίγνομαι', 'πρακτικός', 'ἐφʼ', 'ἑκούσιος', 'ὀρθός', 'λόγος', 'πρόσταξις', 'ὅμοιος', 'πρᾶξις', 'ἑκούσιοί', 'εἶμι', 'ἕξις', 'πρᾶξις', 'ἀπʼ', 'ἀρχή', 'τέλος', 'κύριοί', 'ἕκαστος', 'ἕξις', 'ἀρχή', 'ἕκαστος', 'πρόσθεσις', 'γνώριμος', 'ἀρρωστία', 'ἐφʼ', 'χράω', 'ἑκούσιος', 'ἕκαστος', 'εἶπον', 'τίνω', 'εἶμι', 'πόα', 'ἁμός', 'δῆλος', 'ποσός', 'εἶμι', 'πρότερος', 'ἀνδρεία', 'μεσότης', 'φόβος', 'θάρσος', 'ἦδος', 'φανερός', 'γίγνομαι', 'φοβέω', 'δῆλος', 'φοβερός', 'ἁπλόω', 'εἶπον', 'κάκη', 'φόβος', 'ὁρίζω', 'προσδοκία', 'κακός', 'φοβέω', 'πᾶς', 'κάκη', 'οἷος', 'ἀδοξία', 'πενία', 'νόσος', 'ἀφιλίαν', 'θάνατος', 'πᾶς', 'δοκέω', 'ἀνδρεῖος', 'ἔνιοι', 'δεῖ', 'φοβέω', 'κᾶλον', 'αἰσχρός', 'οἷος', 'ἀδοξία', 'ἐπιεικης', 'αἰδήμων', 'ἀναίσχυντος', 'λέγω', 'ἀνδρεῖος', 'μεταφοράν', 'ἔχις', 'ὅμοιος', 'ἀνδρεῖος', 'ἄφοβος', 'ἀνδρεῖος', 'πενία', 'ἴσος', 'δεῖ', 'φοβέω', 'νόσος', 'ὅλοξ', 'ὅσος', 'κακία', 'διʼ', 'ἄφοβος', 'ἀνδρεῖος', 'λέγω', 'ὁμοιότης', 'ἔνιοι', 'πολεμικός', 'κίνδυνος', 'δειλός', 'ἐλευθέριοί', 'εἶμι', 'χρῆμα', 'ἀποβολην', 'ἔχω', 'εἶμι', 'ὕβρις', 'παῖς', 'γυνή', 'φοβέω', 'φθόνος', 'δειλός', 'θάρσος', 'μέλλησις', 'μαστιγόω', 'ἀνδρεῖος', 'πόα', 'φοβερός', 'ἀνδρεῖος', 'μέγας', 'ὑπομενετικός', 'δεινός', 'φοβερός', 'θάνατος', 'πέρα', 'δοκέω', 'οὔτʼ', 'ἀγαθός', 'κακός', 'δοκέω', 'θάνατος', 'πᾶς', 'ἀνδρεῖος', 'οἷος', 'θάλασσα', 'νόσος', 'τίσις', 'καλός', 'πόλεμος', 'μέγας', 'καλός', 'κίνδυνος', 'ὁμόλογος', 'εἶμι', 'τιμή', 'πόλις', 'μόναρχος', 'κύριος', 'λέγοιτʼ', 'ἀνδρεῖος', 'κᾶλον', 'θάνατος', 'ἀδεής', 'ὅσος', 'θάνατος', 'ἐπιφέρω', 'ὑπόγυιος', 'ὄντα', 'πόλεμος', 'θάλασσα', 'νόσος', 'ἀδεης', 'ἀνδρεῖος', 'θαλάσσιος', 'οἳ', 'ἀπογιγνώσκω', 'σωτηρία', 'θάνατος', 'δυσχεραίνω', 'οἳ', 'εὐέλπιδές', 'εἶμι', 'ἐμπειρία', 'ἁμός', 'ἀνδρίζω', 'ἀλκη', 'κᾶλον', 'ἀποθνήσκω', 'φθορά', 'οὐδέτερος', 'ὑπάρχω', 'φοβερός', 'πᾶς', 'λέγω', 'ἄνθρωπος', 'πᾶς', 'φοβερός', 'νόος', 'ἔχω', 'κατʼ', 'ἄνθρωπος', 'διαφέρω', 'μέγεθος', 'μαλλός', 'ἥσσων', 'ὅμοιος', 'θαρσαλέος', 'ἀνδρεῖος', 'ἀνέκπληκτος', 'ἄνθρωπος', 'φοβέω', 'δεῖ', 'λόγος', 'ὑπομένω', 'κᾶλον', 'τέλος', 'ἀρετή', 'μαλλός', 'ἥσσων', 'φοβέω', 'φοβερός', 'φοβέω', 'γίγνομαι', 'ἁμάρτημα', 'δεῖ', 'δεῖ', 'ὅμοιος', 'θαρσαλέος', 'δεῖ', 'ἵημι', 'δεῖ', 'ὅμοιος', 'θάρσος', 'ἀνδρεῖος', 'κατʼ', 'ἀξία', 'λόγος', 'πάσχω', 'πράσσω', 'ἀνδρεῖος', 'τέλος', 'πᾶς', 'ἐνέργεια', 'ἕξις', 'ἀνδρεῖος', 'ἀνδρεῖα', 'κᾶλον', 'τέλος', 'ὁρίζω', 'ἕκαστος', 'τέλος', 'κᾶλον', 'ἀνδρεῖος', 'ὑπομένω', 'πράσσω', 'ἀνδρεία', 'ὑπερβάλλω', 'ἀφοβία', 'ἀνώνυμος', 'ʽεἴρηται', 'πρότερος', 'πολύς', 'ἀνώνυμἀ', 'ἐάω', 'ἀνάλγητος', 'μηδείς', 'φοβέω', 'σεισμός', 'κῦμα', 'φάσις', 'Κελτοί', 'θαρσέω', 'φοβερός', 'θρασύς', 'δοκέω', 'ἀλαζὼν', 'θρασὺς', 'προσποιητικός', 'ἀνδρεία', 'ἐκεῖνος', 'φοβερός', 'ἔχις', 'βούλομαι', 'φαίνω', 'δυνατός', 'μιμέομαι', 'εἶμι', 'πολύς', 'θρασύδειλος', 'φοβερός', 'ὑπομένω', 'φοβέω', 'δειλός', 'δεῖ', 'δεῖ', 'πᾶς', 'ἀκολουθέω', 'ἐλλείπω', 'θαρσέω', 'λύπη', 'μαλλός', 'καταφανής', 'δύσελπις', 'δειλός', 'πᾶς', 'φοβέω', 'ἀνδρεῖος', 'ἐναντίος', 'θαρσέω', 'εὔελπις', 'ταὐτάζω', 'δειλός', 'θρασὺς', 'ἀνδρεῖος', 'διάφορος', 'ἔχω', 'οἳ', 'ὑπερβάλλω', 'ἐλλείπω', 'μέσος', 'ἔχις', 'δεῖ', 'θρασύς', 'προπετής', 'κίνδυνος', 'ἀφεστήξω', 'ἀνδρεῖος', 'ἔργον', 'ὀξύς', 'πρότερος', 'ἡσύχιος', 'εἴρω', 'ἀνδρεῖα', 'μεσότης', 'θαρσαλέος', 'φοβερός', 'εἴρω', 'κᾶλον', 'αἱρέω', 'ὑπομένω', 'αἰσχρός', 'ἀποθνήσκω', 'πενία', 'ἔρως', 'λυπηρός', 'ἀνδρεῖος', 'μαλλός', 'δειλός', 'μαλακία', 'φεύγω', 'ἐπίπονος', 'κᾶλον', 'ὑπομένω', 'κακός', 'ἀνδρεῖα', 'τοιοῦτόν', 'λέγω', 'ἕτερος', 'τρόπος', 'πρότερος', 'πολιτικός', 'ἔοικα', 'δοκέω', 'ὑπομένω', 'κίνδυνος', 'πολίτης', 'νομή', 'ἐπιτιμία', 'ὄνειδος', 'τιμή', 'ἀνδρεῖος', 'δοκέω', 'παρʼ', 'δειλός', 'ἄτιμος', 'ἀνδρεῖος', 'ἔντιμος', 'Ὅμηρος', 'ποιέω', 'οἷος', 'Διομήδης', 'ἕκτορα', 'πουλυδάμας', 'ἁμός', 'πρότερος', 'ἐλεγχείη', 'ἀνατίθημι', 'ηομ', 'ιλ', 'Διομήδης', 'ἕκτωρ', 'ποτός', 'φημί', 'τρώεσσʼ', 'τυδείδης', 'ὑπʼ', 'ἐμέω', 'ηομ', 'ιλ', 'ὁμοιόω', 'πρότερος', 'διʼ', 'ἀρετην', 'γίγνομαι', 'διʼ', 'αἰδώς', 'κᾶλον', 'ὄρεξις', 'ʽτιμῆς', 'φυγή', 'ὄνειδος', 'αἰσχρός', 'τάσσω', 'ἄρχων', 'χείρων', 'ὅσος', 'διʼ', 'αἰδώς', 'φόβος', 'δράω', 'αἰσχρός', 'λυπηρός', 'ἀναγκάζω', 'κύριος', 'ἕκτωρ', 'ὃν', 'κʼ', 'ἐγὼν', 'μάχη', 'νοέω', 'ἄρκιος', 'φεύγω', 'κυνάς', 'ηομ', 'ιλ', 'κἂν', 'ἀναχωρέω', 'δράω', 'τάφρη', 'πᾶς', 'ἀναγκάζω', 'δεῖ', 'διʼ', 'ἀνάγκη', 'ἀνδρεῖος', 'κᾶλον', 'δοκέω', 'ἐμπειρία', 'ἕκαστος', 'ἀνδρεῖα', 'Σωκράτης', 'οἴομαι', 'ἐπιστήμη', 'ἀνδρεία', 'πολεμικός', 'στρατιώτης', 'δοκέω', 'πολύς', 'κενός', 'πόλεμος', 'συνοράω', 'φαίνω', 'ἀνδρεῖος', 'οἶδα', 'οἷά', 'ποιέω', 'πάσχω', 'δύναμαι', 'ἐμπειρία', 'χράομαι', 'ὅπλον', 'ὁποῖος', 'ἐάω', 'ποιέω', 'πάσχω', 'κράτιστος', 'ἄνοπλος', 'μάχομαι', 'ἀθλητής', 'ἰδιώτης', 'ἀγών', 'ἀνδρεῖος', 'μαχιμώτατοί', 'εἶμι', 'σῶμα', 'ἄριστον', 'στρατιώτης', 'δειλός', 'γίγνομαι', 'τείνω', 'κίνδυνος', 'λείπω', 'πλῆθος', 'παρασκευή', 'πρότερος', 'φεύγω', 'πολιτικός', 'ἀποθνήσκω', 'ἕρμαιον', 'συμβαίνω', 'αἰσχρός', 'φεύγω', 'θάνατος', 'σωτηρία', 'αἱρετός', 'οἳ', 'ἀρχή', 'κινδυνεύω', 'κρείσσων', 'φεύγω', 'θάνατος', 'μαλλός', 'αἰσχρός', 'ἀνδρεῖος', 'θύμον', 'ἀνδρεία', 'φέρω', 'ἀνδρεῖος', 'δοκέω', 'θύμον', 'θηρίον', 'ἀνδρεῖος', 'θυμοειδής', 'ἰτητικώτατον', 'θύμον', 'κίνδυνος', 'Ὅμηρος', 'σθένος', 'ἐμβάλλω', 'θύμον', 'μένος', 'θύμον', 'ἐγείρω', 'δριμὺ', 'ἄναξ', 'ῥίνη', 'μένος', 'ζέω', 'αἷμα', 'πᾶς', 'ἔοικα', 'σημαίνω', 'θύμον', 'ἔγερσις', 'ὁρμή', 'ἀνδρεῖος', 'κᾶλον', 'πράσσω', 'θύμον', 'συνεργέω', 'θηρίον', 'λύπη', 'πλήσσω', 'φοβέω', 'ἔπος', 'ὕλη', 'ἕλος', 'προσέρχομαι', 'ἀνδρεῖα', 'ὑπʼ', 'ἀλγηδών', 'θύμον', 'κίνδυνος', 'ὁρμή', 'δεινός', 'ἔπος', 'κἂν', 'ὄνος', 'ἀνδρεῖος', 'ἀφεστήξω', 'νομεύς', 'μοιχός', 'ἐπιθυμία', 'τολμηρός', 'πολύς', 'δράω', 'ἀνδρεῖα', 'διʼ', 'ἀλγηδών', 'θύμον', 'κίνδυνος', 'φυσικός', 'ἔοικα', 'θύμον', 'προαίρεσις', 'ἵημι', 'ἀνδρεῖα', 'ἄνθρωπος', 'ἀλγέω', 'ἥδομαι', 'μάχιμος', 'ἀνδρεῖος', 'κᾶλον', 'λόγος', 'πάθος', 'παραπλήσιος', 'ἔχουσί', 'εὔελπις', 'ἀνδρεῖος', 'πολλοὺς', 'νικάω', 'θαρσέω', 'κίνδυνος', 'παρόμοιος', 'ἄμφω', 'θαρσαλέος', 'ἀνδρεῖος', 'πρότερος', 'θαρσαλέος', 'οἳ', 'οἴομαι', 'κράτιστος', 'μηδείς', 'πάσχω', 'ποιέω', 'εὔελπις', 'γίγνομαι', 'συμβαίνω', 'φεύγω', 'ἀνδρεῖος', 'φοβερός', 'ἄνθρωπος', 'ὄντα', 'ὑπομένω', 'κᾶλον', 'αἰσχρός', 'ἀνδρεῖος', 'δοκέω', 'αἰφνίδιος', 'φόβος', 'ἄφοβος', 'ἀτάρακτος', 'πρόδηλος', 'ἕξις', 'μαλλός', 'ἥσσων', 'παρασκευή', 'προφανής', 'κἂν', 'λογισμός', 'λόγος', 'προαιρέω', 'ἕξις', 'ἀνδρεῖος', 'φαίνω', 'εἶμι', 'εὔελπις', 'χείρων', 'ὅσος', 'ἀξίωμα', 'ἔχω', 'ἐκεῖνος', 'μένουσί', 'χρόνος', 'γνῶσις', 'ἕτερος', 'ὑποπτεύω', 'φεύγω', 'Ἀργεῖος', 'πάσχω', 'Λάκων', 'Σικυώνια', 'ἀνδρεῖος', 'ἐρῶ', 'ποῖοί', 'τίνω', 'ἀνδρεῖος', 'θάρσος', 'φόβος', 'ἀνδρεῖα', 'ὅμοιος', 'ἄμφω', 'μαλλός', 'φοβερός', 'ἀτάρακτος', 'ταῦθʼ', 'δεῖ', 'χόω', 'ἀνδρεῖος', 'μαλλός', 'θαρσαλέος', 'λυπηρός', 'ὑπομένω', 'εἴρω', 'ἀνδρεῖος', 'λέγω', 'ἐπίλυπον', 'ἀνδρεῖα', 'δίκαιος', 'ἐπαινέω', 'χαλεπός', 'λυπηρός', 'ὑπομένω', 'ἡδύς', 'ἀπέχω', 'δοκέω', 'ἀνδρεία', 'τέλος', 'ἡδύς', 'κύκλος', 'ἀφανίζω', 'οἷος', 'γυμνικός', 'ἀγών', 'γίγνομαι', 'πύκτης', 'τέλος', 'ἡδύς', 'ἵημι', 'στέφανος', 'τιμή', 'τύπτω', 'ἀλγεινός', 'σάρκινος', 'λυπηρός', 'πᾶς', 'πόνος', 'πολύς', 'ταῦτʼ', 'μικρός', 'ὂν', 'ἵημι', 'ἡδὺ', 'φαίνω', 'ἔχω', 'τοιοῦτόν', 'ἀνδρεία', 'θάνατος', 'τραῦμα', 'λυπηρός', 'ἀνδρεῖος', 'ἀέκων', 'ὑπομένω', 'κᾶλον', 'αἰσχρός', 'ὅσος', 'μαλλός', 'ἀρετην', 'ἔχις', 'πᾶς', 'εὐδαίμων', 'μαλλός', 'θάνατος', 'λυπέω', 'ζάω', 'ἄξιος', 'μέγας', 'ἀγαθός', 'ἀποστερέω', 'εἰδοί', 'λυπηρός', 'ἥσσων', 'ἀνδρεῖος', 'ἴσος', 'μαλλός', 'πόλεμος', 'κᾶλον', 'ἀντʼ', 'ἐκεῖνος', 'αἱρέω', 'ἅπας', 'ἀρετή', 'ἐνεργέω', 'ὑπάρχω', 'πλέω', 'ἐφʼ', 'ὅσος', 'τέλος', 'ἐφάπτω', 'στρατιώτης', 'ἴσος', 'κωλύω', 'κράτιστος', 'ἥσσων', 'ἀνδρεῖος', 'ἀγαθός', 'μηδείς', 'ἑτοῖμος', 'κίνδυνος', 'βιός', 'μικρός', 'κέρδος', 'καταλλάσσω', 'ἀνδρεία', 'τοσοῦτος', 'ἐρῶ', 'χαλεπός', 'τύπος', 'περιλαμβάνω', 'σωφροσύνη', 'λέγω', 'δοκέω', 'ἄλογος', 'μέρος', 'ἀρετή', 'μεσότης', 'ἡδονή', 'σωφροσύνη', 'εἴρω', 'ἥσσων', 'ὅμοιος', 'λύπη', 'ἀκολασία', 'φαίνω', 'πόα', 'ἡδονή', 'ἀφορίζω', 'διαιρέω', 'ψυχικός', 'σωματικός', 'οἷος', 'φιλοτιμία', 'φιλομάθεια', 'ἑκάτερος', 'χαίρω', 'ἵημι', 'φιλητικός', 'σῶμα', 'μαλλός', 'διάνοια', 'ἡδονή', 'σώφρων', 'ἀκόλαστος', 'λέγω', 'ὅμοιος', 'ἀλλᾶς', 'ὅσος', 'σωματικός', 'εἶμι', 'φιλόμυθος', 'διηγητικοὺς', 'τυγχάνω', 'ἡμέρα', 'ἀδολέσχης', 'ἀκόλαστος', 'λέγω', 'χρῆμα', 'φίλος', 'σωματικός', 'ἐάω', 'σωφροσύνη', 'πᾶς', 'ὄψις', 'οἷος', 'χρῶμα', 'σχῆμα', 'γραφεύς', 'σώφρων', 'ἀκόλαστος', 'λέγω', 'δοκέω', 'δεῖ', 'χαίρω', 'ὑπερβολην', 'ἔλλειψιν', 'ὅμοιος', 'ἀκοή', 'μέλος', 'ὑπόκρισις', 'ἀκόλαστος', 'λέγω', 'δεῖ', 'σώφρων', 'ὀσμή', 'πλέω', 'μήλη', 'ῥόδον', 'θυμίαμα', 'ὀσμή', 'λέγω', 'ἀκόλαστος', 'μαλλός', 'μύρον', 'ὄψον', 'χαίρω', 'ἀκόλαστος', 'ἀνάμνησις', 'γίγνομαι', 'ἐπιθύμημα', 'εἶδον', 'πεινάω', 'βρῶμα', 'ὀσμή', 'χαίρω', 'ἀκόλαστος', 'ἐπιθύμημα', 'ζῷον', 'αἴσθησις', 'ἡδονη', 'πλέω', 'ὀσμή', 'λαγωός', 'κύων', 'χαίρω', 'βρῶσις', 'αἴσθησις', 'ὀσμη', 'ποιέω', 'λαός', 'φωνή', 'βοῦς', 'ἐδωδή', 'φωνή', 'αἰσθάνομαι', 'χαίρω', 'φαίνω', 'ὅμοιος', 'ἰδὼν', 'εὑρὼν', 'ἔλαφος', 'ἄγριος', 'αἴξ', 'βορά', 'ἕξις', 'ἡδονή', 'σωφροσύνη', 'ἀκολασία', 'λοιπός', 'ζωή', 'κοινωνέω', 'ἀνδραποδώδης', 'θηριώδης', 'φαίνω', 'εἶμι', 'ἁφη', 'γεῦσις', 'φαίνω', 'γεύω', 'μικρός', 'χράομαι', 'γεύσεώς', 'κρίσις', 'χυμός', 'ποιέω', 'οἶνος', 'ὄψον', 'χαίρω', 'ἀκόλαστος', 'ἀπόλαυσις', 'γίγνομαι', 'πᾶς', 'διʼ', 'ἁφή', 'σιτίον', 'ποτός', 'ηὔξατό', 'ὀψοφάγος', 'ὢν', 'φάρυγξ', 'μακρός', 'γέρανος', 'γίγνομαι', 'ἁφή', 'κοινός', 'αἴσθησις', 'ἣν', 'ἀκολασία', 'δοκέω', 'δίκαιος', 'ἐπονείδιστος', 'ἄνθρωποί', 'ὑπάρχω', 'ζωή', 'χαίρω', 'ἀγάπη', 'θηριώδης', 'ἐλευθέριος', 'ἁφή', 'ἡδονή', 'ἀφαιρέω', 'οἷος', 'γυμνάσιον', 'τρῖψις', 'θερμασία', 'πᾶς', 'σῶμα', 'ἀκόλαστος', 'ἁφή', 'μέρος', 'ἐπιθυμία', 'αἳ', 'κοινός', 'δοκέω', 'αἳ', 'ἴδιος', 'ἐπίθετος', 'οἷος', 'τροφεύς', 'φυσικός', 'πᾶς', 'ἐπιθυμέω', 'ἐνδεης', 'ξηρά', 'ὑγρός', 'τροφεύς', 'ἄμφω', 'εὐνή', 'φημί', 'Ὅμηρος', 'ναῦς', 'πᾶς', 'φαίνω', 'ἡμέτερος', 'ἔχις', 'φυσικός', 'ἕτερος', 'ἕτερος', 'ἡδύς', 'ἔνιοι', 'πᾶς', 'ἡδύς', 'τυγχάνω', 'φυσικός', 'ἐπιθυμία', 'ὀλίγος', 'ἁμαρτάνω', 'ἐφʼ', 'ἵημι', 'πλείων', 'ἐσθίω', 'πίνω', 'ἑός', 'ὑπερπίμπλημι', 'ὑπερβάλλω', 'φύσις', 'πλῆθος', 'ἀναπλήρωσις', 'ἔνδεια', 'φυσικός', 'ἐπιθυμία', 'λέγω', 'γαστρίμαργος', 'δέον', 'γίγνομαι', 'ἀνδραποδώδης', 'ἴδιος', 'ἡδονή', 'πολύς', 'ἁμαρτάνω', 'φιλοτοιοῦτος', 'χαίρω', 'δεῖ', 'μαλλός', 'πολύς', 'δεῖ', 'πᾶς', 'ἀκόλαστος', 'ὑπερβάλλω', 'χαίρω', 'ἔνιοι', 'δεῖ', 'ʽμισητά', 'γάῤ', 'εἶμι', 'τίσις', 'δεῖ', 'χαίρω', 'μαλλός', 'δεῖ', 'πολύς', 'χαίρω', 'ἡδονή', 'ὑπερβολη', 'ἀκολασία', 'ψεκτός', 'δῆλος', 'λύπη', 'ἀνδρεία', 'ὑπομένω', 'λέγω', 'σώφρων', 'ἀκόλαστος', 'ἀκόλαστος', 'λυπέω', 'μαλλός', 'δεῖ', 'ἡδύς', 'τυγχάνω', 'ʽκαί', 'λύπη', 'ποιέω', 'ἡδονἤ', 'σώφρων', 'λυπέω', 'ἀπουσία', 'ἀπέχω', 'ἡδύς', 'ἀκόλαστος', 'ἐπιθυμέω', 'ἡδύς', 'πᾶς', 'ἄγω', 'ἐπιθυμία', 'ταῦθʼ', 'αἱρέω', 'λυπέω', 'λύπη', 'ἐπιθυμία', 'ἄτοπος', 'ἔοικα', 'διʼ', 'ἡδονην', 'λυπέω', 'ἡδονή', 'ἥσσων', 'δεῖ', 'γίγνομαι', 'ἀνθρωπικός', 'ἀναισθησία', 'λοιπός', 'ζωή', 'διακρίνω', 'βρῶμα', 'χαίρω', 'μηδείς', 'ἡδὺ', 'διαφέρω', 'ἕτερος', 'ἕτερος', 'ἐάω', 'ἄνθρωπος', 'τεύχω', 'ὄνομα', 'γίγνομαι', 'σώφρων', 'μέσος', 'ταῦτʼ', 'ἔχις', 'ἥδομαι', 'ἀκόλαστος', 'μαλλός', 'δυσχεραίνω', 'ὅλοξ', 'δεῖ', 'σφοδρός', 'οὔτʼ', 'ἄπειμι', 'λυπέω', 'ἐπιθυμέω', 'μέτριος', 'μαλλός', 'δεῖ', 'δεῖ', 'ὅλοξ', 'ὅσος', 'ὑγίειάν', 'εὐεξία', 'ἡδύς', 'ὄντα', 'ὀρέγω', 'μέτριος', 'δεῖ', 'ἡδύς', 'ἐμπόδιος', 'ὄντα', 'κᾶλον', 'οὐσία', 'χόω', 'μαλλός', 'ἀγάπη', 'ἡδονή', 'ἀξία', 'σώφρων', 'ὀρθός', 'λόγος', 'ἑκούσιος', 'μαλλός', 'ἔοικα', 'ἀκολασία', 'δειλία', 'διʼ', 'ἡδονή', 'λύπη', 'αἱρετός', 'φευκτός', 'λύπη', 'ἐξίστημι', 'φθείρω', 'φύσις', 'ἡδονη', 'ποιέω', 'μαλλός', 'ἑκούσιος', 'ἐπονείδιστος', 'ἐθίζω', 'ῥᾴδιος', 'πολύς', 'βιός', 'ἐθισμοί', 'ἀκίνδυνος', 'φοβερός', 'δοκέω', 'ὅμοιος', 'ἑκούσιος', 'δειλία', 'ἕκαστος', 'αὐτη', 'ἄλυπος', 'λύπη', 'ἐξίστημι', 'ὁπλή', 'ῥίπτω', 'ἀσχημονέω', 'δοκέω', 'βίαιος', 'ἀκόλαστος', 'ἕκαστος', 'ἑκούσιος', 'ʽἐπιθυμοῦντι', 'ὀρεγομένᾠ', 'ὅλοξ', 'ἥσσων', 'ἐπιθυμέω', 'ἀκόλαστος', 'ὄνομα', 'ἀκολασία', 'παιδικός', 'ἁμαρτία', 'φέρω', 'ἔχω', 'ὁμοιότης', 'πότερος', 'πότερος', 'καλέω', 'διαφέρω', 'δῆλος', 'ὕστερος', 'πρότερος', 'κακός', 'ἔοικα', 'μεταφέρω', 'κολάζω', 'δεῖ', 'αἰσχρός', 'πολύς', 'αὔξησις', 'ἔχω', 'ἐπιθυμία', 'παῖς', 'κατʼ', 'ἐπιθυμία', 'ζάω', 'παιδιή', 'ἡδύς', 'ὄρεξις', 'εὐπειθής', 'ἀρχός', 'πολὺ', 'ἥκω', 'ἄπληστος', 'ἡδύς', 'ὄρεξις', 'ἀνόητος', 'ἐπιθυμία', 'ἐνέργεια', 'αὐξάνω', 'συγγενής', 'κἂν', 'μέγας', 'σφοδρός', 'οὖς', 'λογισμός', 'ἐκκρούω', 'δεῖ', 'μέτριος', 'ὀλίγος', 'λόγος', 'μηδείς', 'ἐναντιοῦσθαιτό', 'εὐπειθής', 'λέγω', 'κεκολασμένονὥσπερ', 'παῖς', 'δεῖ', 'πρόσταγμα', 'παιδαγωγός', 'ζάω', 'ἐπιθυμητικός', 'λόγος', 'δεῖ', 'σώφρων', 'ἐπιθυμητικός', 'συμφωνέω', 'λόγος', 'σκοπός', 'ἄμφω', 'κᾶλον', 'ἐπιθυμέω', 'σώφρων', 'δεῖ', 'δεῖ', 'τάσσω', 'λόγος', 'ταῦτʼ', 'ἐρῶ', 'σωφροσύνη', 'βοοκ', 'λέγω', 'ἕξις', 'ἐλευθεριότης', 'δοκέω', 'χρῆμα', 'μεσότης', 'ἐπαινέω', 'ἐλευθέριος', 'πολεμικός', 'σώφρων', 'κρίσις', 'δόσις', 'χρῆμα', 'λῆψις', 'μαλλός', 'δόσις', 'χρῆμα', 'λέγω', 'πᾶς', 'ὅσος', 'ἀξία', 'νόμισμα', 'μετρέω', 'ἀσωτία', 'ἀνελευθερία', 'χρῆμα', 'ὑπερβολή', 'ἐλλείπω', 'ἀνελευθερία', 'προσάπτω', 'μαλλός', 'δεῖ', 'χρῆμα', 'σπουδάζω', 'ἀσωτία', 'ἐπιφέρω', 'ἀκρατής', 'ἀκολασία', 'δαπανηροὺς', 'ἄσωτος', 'καλέω', 'φαῦλος', 'δοκέω', 'πολύς', 'ἁμός', 'κακία', 'ἔχω', 'οἰκεῖος', 'προσαγορεύω', 'βούλομαι', 'ἄσωτος', 'ἵημι', 'κακός', 'χόω', 'φθείρω', 'οὐσία', 'ἄσωτος', 'διʼ', 'δοκέω', 'ἀπώλειά', 'οὐσία', 'φθορά', 'ζάω', 'ἀσωτία', 'ἐκδέχομαι', 'χρεία', 'χράομαι', 'κακός', 'πλοῦτος', 'χρήσιμος', 'ἕκαστος', 'ἄριστον', 'χράομαι', 'χόω', 'ἀρετή', 'πλοῦτος', 'χράω', 'ἄριστον', 'χόω', 'χρῆμα', 'ἀρετή', 'ἐλευθέριος', 'χρῆσις', 'δοκέω', 'χρῆμα', 'δαπάνη', 'δόσις', 'λῆψις', 'φυλακή', 'κτῆσις', 'μαλλός', 'μᾶλλόν', 'ἐλευθέριος', 'δίδωμι', 'δεῖ', 'λαμβάνω', 'δεῖ', 'λαμβάνω', 'δεῖ', 'ἀρετή', 'μαλλός', 'ποιέω', 'πάσχω', 'κᾶλον', 'πράσσω', 'μαλλός', 'αἰσχρός', 'πράσσω', 'ἄδηλος', 'δόσις', 'ἕπεται', 'ποιέω', 'κᾶλον', 'πράσσω', 'λῆψις', 'πάσχω', 'αἰσχροπραγέω', 'χάρις', 'δίδωμι', 'λαμβάνω', 'ἔπαινος', 'μαλλός', 'ῥᾴδιος', 'λαμβάνω', 'δίδωμι', 'οἰκεῖος', 'ἥσσων', 'προΐενται', 'μαλλός', 'λαμβάνω', 'ἀλλότριος', 'ἐλευθέριος', 'λέγω', 'ἐλευθεριότης', 'ἐπαινέω', 'ἥσσων', 'δικαιοσύνη', 'ἐπαινέω', 'φιλέω', 'ἐλευθέριος', 'ἀπʼ', 'ἀρετή', 'ὠφέλιμος', 'δόσις', 'κατʼ', 'ἀρετην', 'πρᾶξις', 'κάλαις', 'κᾶλον', 'ἐλευθέριος', 'δίδωμι', 'κᾶλον', 'ὀρθός', 'δεῖ', 'ὅσος', 'ὅσος', 'ἕπεται', 'ὀρθός', 'δόσις', 'ἄλυπος', 'κατʼ', 'ἀρετην', 'ἡδὺ', 'ἄλυπος', 'ἥκιστος', 'λυπηρός', 'διδοὺς', 'δεῖ', 'κᾶλον', 'τινʼ', 'αἰτία', 'ἐλευθέριος', 'ἐρῶ', 'λυπηρός', 'μαλλός', 'ἕλοιτʼ', 'χρῆμα', 'καλός', 'πρᾶξις', 'ἐλευθέριος', 'λαμβάνω', 'δεῖ', 'χρῆμα', 'λῆψις', 'ἐάω', 'αἰτητικός', 'εὐεργετέω', 'δεῖ', 'λαμβάνω', 'οἷος', 'ἴδιος', 'κτῆμα', 'κᾶλον', 'ἀναγκαῖον', 'ἔχις', 'δίδωμι', 'ἀμελέω', 'ἴδιος', 'βουλόμενός', 'τίσις', 'ἐπαρκέω', 'δίδωμι', 'ἔχις', 'δίδωμι', 'δεῖ', 'ἵημι', 'κᾶλον', 'ἐλευθέριος', 'σφοδρός', 'ὑπερβάλλω', 'δόσις', 'καταλιμπάνω', 'ἐλάσσων', 'βλέπω', 'ἐφʼ', 'ἐλευθέριος', 'οὐσία', 'ἐλευθεριότης', 'λέγω', 'πλῆθος', 'ἐλευθέριος', 'ἕξις', 'οὐσία', 'δίδημι', 'κωλύω', 'ἐλευθέριος', 'ἐλάσσων', 'ἀπʼ', 'ἐλάσσων', 'δίδωμι', 'ἐλευθέριος', 'δοκέω', 'οὐσία', 'ἄπειροί', 'ἔνδεια', 'πᾶς', 'ἀγαπάζω', 'μαλλός', 'ἔργον', 'γονεύς', 'ποιητής', 'πλουτέω', 'ῥᾴδιος', 'ἐλευθέριος', 'ληπτικός', 'ὄντα', 'φυλακτικός', 'προετικός', 'διʼ', 'χρῆμα', 'δόσις', 'ἐγκαλέω', 'τύχη', 'ἄξιος', 'ἥκιστος', 'πλουτέω', 'συμβαίνω', 'ἄλογος', 'οἷόν', 'χρήματʼ', 'ἔχω', 'ἔχις', 'δίδωμι', 'δεῖ', 'δεῖ', 'ὅσος', 'πράσσω', 'ἐλευθεριότης', 'ἀναλίσκω', 'ἔχω', 'δεῖ', 'ἀναλίσκω', 'εἴρω', 'ἐλευθέριός', 'οὐσία', 'δαπάνη', 'δεῖ', 'ἄσωτος', 'τύραννος', 'λέγω', 'ἄσωτος', 'πλῆθος', 'κτῆσις', 'δοκέω', 'ῥᾴδιος', 'δόσις', 'δαπάνη', 'ὑπερβάλλω', 'ἐλευθεριότης', 'μεσότης', 'χρῆμα', 'δόσις', 'λῆψις', 'ἐλευθέριος', 'δίδωμι', 'δαπανάω', 'δεῖ', 'ὅσος', 'δεῖ', 'ὅμοιος', 'μικρός', 'μέγας', 'λαμβάνω', 'δεῖ', 'ὅσος', 'δεῖ', 'ἀρετή', 'ἄμφω', 'μεσότης', 'ποίησις', 'ἀμφότερος', 'δεῖ', 'ἕπεται', 'ἐπιεικής', 'δόσις', 'λῆψις', 'ἐναντίος', 'ἑπόμεναι', 'γίγνομαι', 'ἁμός', 'ἐναντίος', 'δῆλος', 'δέον', 'καλός', 'ἔχω', 'συμβαίνω', 'ἀναλίσκω', 'λυπέω', 'μέτριος', 'δεῖ', 'ἀρετή', 'ἥδομαι', 'λυπέω', 'ἐφʼ', 'δεῖ', 'δεῖ', 'εὐκοινώνητος', 'ἐλευθέριος', 'χρῆμα', 'δυνατός', 'ἀδικέω', 'τιμή', 'χρῆμα', 'μαλλός', 'εἶμι', 'δέον', 'ἀναλίσκω', 'δέον', 'ἀναλίσκω', 'σιμωνίδῃ', 'ἄσωτος', 'διαμαρτάνω', 'ἥδομαι', 'ἐφʼ', 'δεῖ', 'δεῖ', 'λυπέω', 'φανερός', 'εἴρω', 'ὑπερβολή', 'ἐλλείπω', 'εἶμι', 'ἀσωτία', 'ἀνελευθερία', 'δύσις', 'δόσις', 'λῆψις', 'δαπάνη', 'δόσις', 'τίθημι', 'ἀσωτία', 'δίδωμι', 'λαμβάνω', 'ὑπερβάλλω', 'λαμβάνω', 'ἐλλείπω', 'ἀνελευθερία', 'δίδωμι', 'ἐλλείπω', 'λαμβάνω', 'ὑπερβάλλω', 'πλέω', 'μικρός', 'ἀσωτία', 'συνδυάζω', 'ῥᾴδιος', 'πᾶς', 'δίδωμι', 'ἐπιλείπω', 'οὐσία', 'ἰδιώτης', 'δοκέω', 'ἄσωτος', 'ἔπος', 'δοκέω', 'μικρός', 'βελτίων', 'ἀνελεύθερος', 'εὐίατός', 'ἡλικία', 'ἀπορία', 'μέσος', 'δυνατός', 'ἔρχομαι', 'ἔχις', 'ἐλευθέριος', 'δίδημι', 'λαμβάνω', 'οὐδέτερος', 'δεῖ', 'ἐθίζω', 'μεταβάλλω', 'ἐάω', 'ἐλευθέριος', 'δίδωμι', 'δεῖ', 'λαμβάνω', 'δεῖ', 'δοκέω', 'φαῦλος', 'ἦθος', 'μοχθηρός', 'ἀγεννής', 'ὑπερβάλλω', 'ἠλίθιος', 'τρόπος', 'ἄσωτος', 'πολὺ', 'δοκέω', 'βελτίων', 'ἀνελεύθερος', 'ὠφελέω', 'πολύς', 'πολύς', 'ἄσωτος', 'εἴρω', 'λαμβάνω', 'δεῖ', 'εἶμι', 'ἀνελεύθερος', 'ληπτικός', 'γίγνομαι', 'βούλομαι', 'ἀναλίσκω', 'ποιέω', 'δύναμαι', 'ταχὺ', 'ἐπιλείπω', 'αὐτοὺς', 'ἀναγκάζω', 'πορίζω', 'ἁμός', 'μηδείς', 'κᾶλον', 'φροντίζω', 'ὀλίγωρος', 'λαμβάνω', 'δίδωμι', 'ἐπιθυμέω', 'πίνω', 'διαφέρω', 'ἐλευθέριος', 'δόσις', 'εἶμι', 'κάλαις', 'δεῖ', 'οὓς', 'δεῖ', 'πένομαι', 'πλούσιος', 'ποιέω', 'μέτριος', 'ἦθος', 'δίδωμι', 'κόλαξ', 'τινʼ', 'ἡδονην', 'πορίζω', 'πολύς', 'ἀκόλαστος', 'εἶμι', 'πολύς', 'ἀκολασία', 'δαπανηρός', 'εἶμι', 'κᾶλον', 'ζάω', 'ἡδονή', 'ἀποκλίνω', 'ἄσωτος', 'ἀπαιδαγώγητος', 'μεταβαίνω', 'τυχὼν', 'ἐπιμέλεια', 'μέσος', 'δέον', 'ἀφίκοιτʼ', 'ἀνελευθερία', 'ἀνίατός', 'τʼ', 'ʽδοκεῖ', 'γῆρας', 'πᾶς', 'ἀδυναμία', 'ἀνελεύθερος', 'ποιέω', 'συμφυής', 'ἄνθρωπος', 'ἀσωτία', 'πολύς', 'φιλοχρήματος', 'μαλλός', 'δοτικοί', 'διατείνω', 'πολύς', 'πολυειδής', 'πολύς', 'τρόπος', 'δοκέω', 'ἀνελευθερία', 'δύσις', 'τʼ', 'ἐλλείπω', 'δόσις', 'ὑπερβολή', 'λῆψις', 'πᾶς', 'ὁλόκληρος', 'παραγίγνομαι', 'χωρίζω', 'οἳ', 'λῆψις', 'ὑπερβάλλω', 'οἳ', 'δόσις', 'ἐλλείπω', 'προσηγορία', 'οἷος', 'φειδωλός', 'γλίσχρος', 'κίμβιξ', 'πᾶς', 'δόσις', 'ἐλλείπω', 'ἀλλότριος', 'ἐφίημι', 'βούλομαι', 'λαμβάνω', 'οἳ', 'ἐπιείκεια', 'εὐλάβεια', 'αἰσχρός', 'ʽδοκοῦσι', 'ἔνιοι', 'φάσις', 'φυλάσσω', 'ποτʼ', 'ἀναγκάζω', 'αἰσχρός', 'πράσσω', 'κυμινοπρίστης', 'πᾶς', 'ὀνομάζω', 'ὑπερβολή', 'μηδείς', 'δοῦναἰ', 'οἳ', 'φόβος', 'ἀπέχω', 'ἀλλότριος', 'ῥᾴδιος', 'ἕτερος', 'λαμβάνω', 'ἕτερος', 'ἀρέσκω', 'λαμβάνω', 'δίδωμι', 'οἳ', 'λῆψις', 'ὑπερβάλλω', 'λαμβάνω', 'πᾶς', 'οἷος', 'ἀνελεύθερος', 'ἐργασία', 'πορνοβοσκός', 'πᾶς', 'τοκιστής', 'μικρός', 'πολύς', 'πᾶς', 'δεῖ', 'λαμβάνω', 'ὁπόσος', 'δεῖ', 'κοινός', 'αἰσχροκέρδεια', 'φαίνω', 'πᾶς', 'κέρδος', 'μικρός', 'ὄνειδος', 'ὑπομένω', 'μέγας', 'δεῖ', 'δεῖ', 'λέγω', 'ἀνελεύθερος', 'οἷος', 'τύραννος', 'πόλις', 'ἱερεύς', 'πονηροὺς', 'μαλλός', 'ἀσεβής', 'ἄδικος', 'κυβευτής', 'λωποδύτης', 'λῃστης', 'ἀνελεύθερος', 'εἶμι', 'αἰσχροκερδής', 'κέρδος', 'ἀμφότερος', 'πραγματεύομαι', 'ὄνειδος', 'ὑπομένω', 'οἳ', 'κίνδυνος', 'μέγας', 'λῆμμα', 'οἳ', 'φίλος', 'κερδαίνω', 'δεῖ', 'δίδωμι', 'ἀμφότερος', 'δεῖ', 'κερδαίνω', 'αἰσχροκερδής', 'πᾶς', 'λῆψις', 'ἀνελεύθερος', 'ἐλευθεριότης', 'ἀνελευθερία', 'ἐναντίος', 'λέγω', 'μεῖζόν', 'κακός', 'ἀσωτία', 'μαλλός', 'ἁμαρτάνω', 'ἀσωτία', 'ἐλευθεριότης', 'κακία', 'τοσαῦτʼ', 'ἐρῶ', 'δόξα', 'ἀκόλουθος', 'μεγαλοπρέπεια', 'διέρχομαι', 'δοκέω', 'αὐτη', 'χρήματά', 'ἀρετη', 'ἐλευθεριότης', 'διατείνω', 'πᾶς', 'χρῆμα', 'πρᾶξις', 'δαπανηρός', 'μόνος', 'ὑπερέχω', 'ἐλευθεριότης', 'μέγεθος', 'ὄνομα', 'ὑποσημαίνω', 'μέγεθος', 'δαπάνη', 'μέγεθος', 'δαπάνημα', 'τριήραρχος', 'ἀρχιθεωρῷ', 'πρέπω', 'μικρός', 'μέτριος', 'κατʼ', 'ἀξία', 'δαπάνη', 'λέγω', 'μεγαλοπρεπής', 'οἷος', 'δίδωμι', 'ἀλήτης', 'ηομ', 'ὁδός', 'μέγας', 'μεγαλοπρεπής', 'ἐλευθέριος', 'ἐλευθέριος', 'μαλλός', 'μεγαλοπρεπής', 'ἕξις', 'ἔλλειψις', 'μικροπρέπεια', 'καλέω', 'ὑπερβολη', 'βαναυσία', 'ἀπειροκαλία', 'ὅσος', 'μέγεθος', 'δεῖ', 'δεῖ', 'δεῖ', 'ὕστερος', 'ἐρέω', 'μεγαλοπρεπής', 'ἐπιστήμων', 'ἔοικα', 'πρέπω', 'δυνατός', 'θεωρέω', 'δαπανάω', 'μέγας', 'ἀρχή', 'εἶπον', 'ἕξις', 'ἐνέργεια', 'ὁρίζω', 'μεγαλοπρεπής', 'δαπάνη', 'μέγας', 'ἔργον', 'μέγας', 'δαπάνημα', 'πρέπω', 'ἔργον', 'ἔργον', 'δαπάνη', 'ἄξιος', 'δεῖ', 'δαπάνη', 'ἔργον', 'ὑπερβάλλω', 'δαπανάω', 'μεγαλοπρεπής', 'κᾶλον', 'κοινός', 'ἀρετή', 'προετικός', 'ἀκριβολογία', 'μικροπρεπής', 'καλός', 'πρεπώδης', 'σκέψαιτʼ', 'μαλλός', 'ποσός', 'ἐλάχιστος', 'ἀναγκαῖον', 'ἐλευθέριος', 'μεγαλοπρεπής', 'ἐλευθέριος', 'δαπανάω', 'δεῖ', 'δεῖ', 'μέγας', 'μεγαλοπρεπής', 'οἷος', 'μέγεθος', 'ἐλευθεριότης', 'ἴσος', 'δαπάνη', 'ἔργον', 'ποίησις', 'μεγαλοπρεπής', 'αὐτη', 'ἀρετη', 'κτῆμα', 'ἔργον', 'κτῆμα', 'πλεῖστος', 'ἄξιος', 'τίμιος', 'οἷος', 'χρυσός', 'ἔργον', 'μέγας', 'κᾶλον', 'ʽτοῦ', 'θεωρία', 'θαυμαστής', 'μεγαλοπρεπής', 'θαυμαστός', 'ἔργον', 'ἀρετή', 'μεγαλοπρέπεια', 'μέγεθος', 'δαπάνημα', 'οἷος', 'λέγω', 'τίμιος', 'οἷος', 'θεός', 'ἀνάθημα', 'κατασκευή', 'θυσία', 'ὅμοιος', 'πᾶς', 'δαιμόνιον', 'ὅσος', 'κοινός', 'εὐφιλοτίμητά', 'οἷος', 'εἶμι', 'χορηγέω', 'οἴομαι', 'δεῖ', 'λαμπρός', 'τριηραρχέω', 'ἑστία', 'πόλις', 'ἅπας', 'εἴρω', 'ἀναφέρω', 'ὢν', 'ὑπάρχω', 'ἀξία', 'δεῖ', 'μόνος', 'ἔργον', 'ποιέω', 'πρέπω', 'πένης', 'ἐάω', 'μεγαλοπρεπής', 'ἀφʼ', 'πολύς', 'δαπανάω', 'ἐπίχειρον', 'ἠλίθιος', 'ἀξία', 'δέον', 'κατʼ', 'ἀρετην', 'ὀρθός', 'πρέπω', 'προυπάρχω', 'διʼ', 'πρόγονος', 'μέτειμι', 'εὐγενής', 'ἔνδοξος', 'ὅσος', 'πᾶς', 'μέγεθος', 'ἔχις', 'ἀξίωμα', 'μεγαλοπρεπής', 'δαπάνημα', 'μεγαλοπρέπεια', 'εἴρω', 'μέγας', 'ἔντιμος', 'ἴδιος', 'ὅσος', 'γίγνομαι', 'οἷος', 'γάμος', 'εἶμι', 'πᾶς', 'πόλις', 'σπουδάζω', 'ἀξίωμα', 'ξένη', 'ὑποδοχή', 'ἀποστολεύς', 'δωρεά', 'ἀντιδωρεάς', 'δαπανηρός', 'μεγαλοπρεπής', 'κοινός', 'δῶρον', 'ἀνάθημα', 'ἔχις', 'ὅμοιος', 'μεγαλοπρεπής', 'οἶκος', 'κατασκευάζω', 'πλοῦτος', 'ʽκόσμος', 'οὗτοσ', 'μαλλός', 'δαπάνη', 'ὅσος', 'πολυχρόνιος', 'ἔργον', 'ʽκάλλιστα', 'ταῦτἀ', 'ἕκαστος', 'πρέπω', 'ταὐτάζω', 'ἁρμόζω', 'θεός', 'ἄνθρωπος', 'ἱερός', 'τάφος', 'ἔπος', 'δαπάνημα', 'ἕκαστος', 'μέγας', 'γένος', 'μεγαλοπρεπής', 'ἁπλόω', 'μέγας', 'μέγας', 'μέγας', 'διαφέρω', 'ἔργον', 'μέγας', 'δαπάνημα', 'σφαῖρα', 'καλός', 'λήκυθος', 'μεγαλοπρέπεια', 'ἔχις', 'παιδικός', 'δῶρον', 'τιμή', 'μικρός', 'ἀνελεύθερος', 'τοῦτό', 'μεγαλοπρεπής', 'πόα', 'γένος', 'ποιέω', 'ʽτό', 'εὐυπέρβλητον', 'ἔχω', 'κατʼ', 'ἀξία', 'δαπάνημα', 'μεγαλοπρεπής', 'βάναυσος', 'δέον', 'ἀναλίσκω', 'ὑπερβάλλω', 'εἴρω', 'μικρός', 'δαπάνημα', 'πολύς', 'ἀναλίσκω', 'λαμπρύνω', 'μέλος', 'οἷος', 'ἐρανιστάς', 'γαμικός', 'ἑστία', 'κωμῳδός', 'χορηγός', 'πάροδος', 'πορφύρα', 'πᾶς', 'ποίησις', 'κᾶλον', 'πλοῦτος', 'θαυμάζω', 'ἵημι', 'δεῖ', 'πολύς', 'ἀναλίσκω', 'ὀλίγος', 'δαπάνη', 'ἵημι', 'ὀλίγος', 'πολύς', 'μικροπρεπής', 'πᾶς', 'ἐλλείπω', 'μέγας', 'ἀναλίσκω', 'μικρός', 'κᾶλον', 'ἄπολις', 'πόα', 'μέλλησις', 'σκοπή', 'ἐλάχιστος', 'ἀναλίσκω', 'ταῦτʼ', 'πάντʼ', 'μέγας', 'ποιέω', 'δεῖ', 'εἶμι', 'ἕξις', 'κακία', 'ὄνειδος', 'γʼ', 'ἐπιφέρω', 'βλαβερός', 'πελός', 'ἀσχήμων', 'μεγαλοψυχία', 'μέγας', 'ὄνομα', 'ἔοικα', 'πόα', 'πρότερος', 'λαμβάνω', 'διαφέρω', 'ἕξις', 'ἕξις', 'σκοπέω', 'δοκέω', 'μεγαλόψυχος', 'μέγας', 'ἀξία', 'ἄξιος', 'κατʼ', 'ἀξία', 'πόα', 'ἠλίθιος', 'κατʼ', 'ἀρετην', 'ἠλίθιος', 'ἀνόητος', 'μεγαλόψυχος', 'μικρός', 'ἄξιος', 'ἀξία', 'σώφρων', 'μεγαλόψυχος', 'μέγεθος', 'μεγαλοψυχία', 'κάλλος', 'μέγας', 'σῶμα', 'μικρός', 'ἀστεῖος', 'σύμμετρος', 'καλός', 'μέγας', 'ἀξία', 'ἀνάξιος', 'ὢν', 'χαῦνος', 'μέγας', 'ἄξιος', 'πᾶς', 'χαῦνος', 'ἐλάσσων', 'ἄξιος', 'μικρόψυχος', 'μέγας', 'μέτριος', 'μικρός', 'ἄξιος', 'ὢν', 'ἐλάσσων', 'ἄξιος', 'μάλιστʼ', 'δοκέω', 'μέγας', 'ἄξιος', 'ποιέω', 'τοσοῦτος', 'ἄξιος', 'μεγαλόψυχος', 'μέγεθος', 'ἄκρος', 'δεῖ', 'μέσος', 'κατʼ', 'ἀξία', 'ἄξιος', 'οἳ', 'ὑπερβάλλω', 'ἐλλείπω', 'μέγας', 'ἄξιος', 'ἄξιος', 'μέγας', 'ἵημι', 'μάλιστʼ', 'ἐάω', 'ἀξία', 'λέγω', 'ἀγαθός', 'μέγας', 'τοῦτʼ', 'τίθημι', 'θεός', 'ἀπονέμω', 'ἵημι', 'μάλιστʼ', 'ἐφίημι', 'ἀξίωμα', 'καλός', 'ἆθλον', 'τιμή', 'μέγας', 'ἀγαθός', 'τιμή', 'ἀτιμία', 'μεγαλόψυχός', 'δεῖ', 'ἀνίημι', 'λόγος', 'φαίνω', 'μεγαλόψυχος', 'τιμή', 'τιμή', 'μέγας', 'ἀξιόω', 'κατʼ', 'ἀξία', 'μικρόψυχος', 'ἐλλείπω', 'μεγαλόψυχος', 'ἀξίωμα', 'χαῦνος', 'ὑπερβάλλω', 'μεγαλόψυχος', 'μεγαλόψυχος', 'μέγας', 'ἄξιος', 'ἄριστος', 'ἐάω', 'μέγας', 'βελτίων', 'ἄξιος', 'μέγας', 'ἄριστος', 'μεγαλόψυχος', 'δεῖ', 'ἀγαθός', 'δοκέω', 'μεγαλόψυχος', 'ἕκαστος', 'ἀρετή', 'μέγας', 'οὐδαμός', 'τʼ', 'ἁρμόζω', 'μεγαλόψυχος', 'φεύγω', 'ἀδικέω', 'πρᾶξις', 'αἰσχρός', 'γʼ', 'μέγας', 'ἕκαστος', 'ἐπισκοπέω', 'γέλοιος', 'φαίνοιτʼ', 'μεγαλόψυχος', 'ἀγαθός', 'ἐάω', 'τιμή', 'ἄξιος', 'φαῦλος', 'ἀρετή', 'ἆθλον', 'τιμή', 'ἀπονέμω', 'ἀγαθός', 'ἔοικα', 'μεγαλοψυχία', 'οἷος', 'κόσμος', 'ἀρετή', 'μέγας', 'ποιέω', 'γίγνομαι', 'ἀνίημι', 'ἐκεῖνος', 'χαλεπός', 'ἀλήθεια', 'μεγαλόψυχος', 'οἷόν', 'ἀνίημι', 'καλοκαγαθίας', 'τιμή', 'ἀτιμία', 'μεγαλόψυχός', 'μέγας', 'σπουδαῖος', 'μέτριος', 'ἥδομαι', 'οἰκεῖος', 'ἐλάσσων', 'ἀρετή', 'παντελής', 'γίγνομαι', 'ἀξία', 'τιμή', 'ἀποδέξεταί', 'ἔχω', 'αὐτοὺς', 'μέγας', 'ἀπονέμω', 'τυγχάνω', 'μικρός', 'ὀλιγωρέω', 'ἄξιος', 'ὅμοιος', 'ἀτιμία', 'δίκαιος', 'εἴρω', 'μεγαλόψυχος', 'τιμή', 'πλοῦτος', 'δυναστεία', 'πᾶς', 'εὐτυχία', 'ἀτυχία', 'μέτριος', 'ἕξις', 'γίγνομαι', 'οὔτʼ', 'εὐτυχής', 'περιχαρής', 'οὔτʼ', 'ἀτυχής', 'περίλυπος', 'τιμή', 'ἔχις', 'μέγας', 'δυναστεία', 'πλοῦτος', 'τιμή', 'αἱρετός', 'τιμάω', 'διʼ', 'βούλομαι', 'τιμή', 'μικρός', 'ὑπερόπτης', 'δοκέω', 'δοκέω', 'εὐτύχημα', 'συμβάλλω', 'μεγαλοψυχία', 'εὐγενής', 'ἀξιόω', 'τιμή', 'ὑπεροχή', 'ἀγαθός', 'ὑπερέχω', 'πᾶς', 'ἔντιμος', 'μεγαλόψυχος', 'ποιέω', 'τιμάω', 'κατʼ', 'ἀλήθεια', 'ἀγαθός', 'μόνος', 'τιμητός', 'ἄμφω', 'ὑπάρχω', 'μαλλός', 'ἀξιόω', 'τιμή', 'ἀνίημι', 'ἀρετή', 'ἀγαθός', 'δίκαιος', 'ἑαυτοὺς', 'μέγας', 'ἀξιόω', 'ὀρθός', 'μεγαλόψυχος', 'λέγω', 'ἀνίημι', 'ἀρετή', 'παντελής', 'ὑπερόπτης', 'ὑβριστής', 'ἀγαθός', 'γίγνομαι', 'ἀνίημι', 'ἀρετή', 'ῥᾴδιος', 'φέρω', 'εὐτύχημα', 'δέφέρειν', 'ὑπερέχω', 'ἐκεῖνος', 'καταφρονέω', 'τυγχάνω', 'πράσσω', 'μιμέομαι', 'μεγαλόψυχος', 'ὅμοιος', 'δράω', 'δύναμαι', 'κατʼ', 'ἀρετην', 'πράσσω', 'καταφρονέω', 'μεγαλόψυχος', 'δίκαιος', 'καταφρονέω', 'ʽδοξάζει', 'ἀληθῶσ', 'πολύς', 'μικροκίνδυνος', 'φιλοκίνδυνος', 'ὀλίγος', 'τιμή', 'μεγαλοκίνδυνος', 'κινδυνεύω', 'ἀφειδης', 'βιός', 'ἄξιος', 'ὂν', 'ζάω', 'οἷος', 'ποιέω', 'αἰσχύνω', 'ἀντευεργετικός', 'πλείων', 'προσοφλισκάνω', 'ὑπάρχω', 'δοκέω', 'μνημονεύω', 'ἵημι', 'ποιέω', 'πάσχω', 'ʽἐλάττων', 'παθὼν', 'βούλομαι', 'ὑπερέχω', 'ἀκούω', 'Θέτις', 'λέγω', 'εὐεργεσία', 'Ζεύς', 'Λάκων', 'Ἀθηναῖος', 'πάσχω', 'μεγαλόψυχος', 'μηδείς', 'δέω', 'ὑπηρετέω', 'πρόθυμος', 'ἀξίωμα', 'εὐτυχία', 'μέγας', 'μέσος', 'μέτριος', 'ὑπερέχω', 'χαλεπός', 'σεμνός', 'ῥᾴδιος', 'ἐκεῖνος', 'σεμνύνω', 'ἀγεννής', 'ταπεινός', 'φορτικός', 'ἀσθενής', 'ἰσχυρίζομαι', 'ἔντιμος', 'εἶμι', 'ἵημι', 'πρωτεύω', 'ἀργός', 'μελλητής', 'τιμή', 'μέγας', 'ἔργον', 'ὀλίγος', 'πρακτικός', 'μέγας', 'ὀνομαστός', 'ἀναγκαῖον', 'φανερομισῆ', 'φανερόφιλος', 'ʽτό', 'λανθάνω', 'ἀμελέω', 'ἀλήθεια', 'μαλλός', 'δόξησ', 'λέγω', 'πράσσω', 'φανερός', 'ʽπαρρησιαστης', 'καταφρονητικός', 'ἀληθευτικός', 'πλέω', 'ὅσος', 'διʼ', 'εἰρωνεία', 'εἰρωνεία', 'πολλούσ', 'δύναμαι', 'ζάω', 'φίλος', 'δουλικός', 'πᾶς', 'κόλαξ', 'θητικός', 'ταπεινός', 'κόλαξ', 'θαυμαστικός', 'μέγας', 'μνησίκακος', 'μεγαλόψυχος', 'ἀπομνημονεύω', 'κάκη', 'μαλλός', 'παροράω', 'ἀνθρωπολόγος', 'ἔρος', 'ἕτερος', 'ἐπαινέω', 'μέλος', 'οὔθʼ', 'ψέγω', 'ἐπαινετικός', 'κακολόγος', 'ἔχθρη', 'διʼ', 'ὕβρις', 'ἀναγκαῖον', 'μικρός', 'ἥκιστος', 'ὀλοφυρτικός', 'δεητικός', 'ἔχω', 'οἷος', 'κτάομαι', 'μαλλός', 'κᾶλον', 'ἄκαρπος', 'κάρπιμος', 'ὠφέλιμος', 'αὐτάρκης', 'μαλλός', 'κίνησις', 'βραδύς', 'μεγαλόψυχος', 'δοκέω', 'φωνή', 'βαρύς', 'λέξις', 'στάσιμος', 'σπευστικός', 'ὀλίγος', 'σύντονος', 'μηδείς', 'μέγας', 'ὀξυφωνία', 'ταχυτής', 'μεγαλόψυχος', 'μικρόψυχος', 'χαῦνος', 'κακός', 'δοκέω', 'ʽοὐ', 'κακοποιός', 'εἶμι', 'μικρόψυχος', 'ἄξιος', 'ὢν', 'ἀγαθός', 'ἀποστερέω', 'ἄξιός', 'ἔοικα', 'κακός', 'ἔχω', 'ἀξιόω', 'ἀγαθός', 'ἀγνοέω', 'ὀρέγω', 'ἄξιος', 'ἀγαθός', 'ὄντα', 'ἠλίθιοί', 'δοκέω', 'μαλλός', 'ὀκνηρός', 'δόξα', 'δοκέω', 'χείρων', 'ποιέω', 'ἕκαστος', 'ἐφίημι', 'κατʼ', 'ἀξία', 'ἀφεστήξω', 'πρᾶξις', 'κᾶλον', 'ἐπιτήδευμα', 'ἀνάξιος', 'ὅμοιος', 'ἀγαθός', 'χαῦνος', 'ἠλίθιος', 'ἑαυτοὺς', 'ταῦτʼ', 'ἄξιος', 'ἔντιμος', 'ἐπιχειρέω', 'ἐξελέγχω', 'ἐσθής', 'κοσμέω', 'σχῆμα', 'βούλομαι', 'εὐτύχημα', 'φανερός', 'λέγω', 'ἀντιτίθημι', 'μεγαλοψυχία', 'μικροψυχία', 'μαλλός', 'χαυνότης', 'γίγνομαι', 'μαλλός', 'χεῖρόν', 'μεγαλοψυχία', 'τιμή', 'μέγας', 'εἴρω', 'ἔοικα', 'ἀρετή', 'πρότερος', 'λέγω', 'δοκέω', 'παραπλήσιος', 'ἔχω', 'μεγαλοψυχία', 'ἐλευθεριότης', 'μεγαλοπρέπεια', 'ἄμφω', 'μέγας', 'ἀφεστήξω', 'μέτριος', 'μικρός', 'διατίθημι', 'ἡμός', 'δεῖ', 'λῆψις', 'δόσις', 'χρῆμα', 'μεσότης', 'ὑπερβολή', 'ἔλλειψις', 'τιμή', 'ὄρεξις', 'μαλλός', 'δεῖ', 'ἥσσων', 'δεῖ', 'δεῖ', 'φιλότιμος', 'ψέγω', 'μαλλός', 'δεῖ', 'δεῖ', 'τιμή', 'ἀφιλότιμος', 'κᾶλον', 'τιμάω', 'φιλότιμος', 'ἐπαινέω', 'ἀνδρώδης', 'φιλόκαλος', 'ἀφιλότιμος', 'μέτριος', 'σώφρων', 'πρότερος', 'εἶπον', 'δῆλος', 'φιλοτοιοῦτος', 'φέρω', 'φιλότιμος', 'μαλλός', 'πολύς', 'μαλλός', 'δεῖ', 'ἀνώνυμος', 'μεσότης', 'ἐρῆμος', 'ἔοικα', 'ἀμφισβητέω', 'ἄκρα', 'ὑπερβολη', 'ἔλλειψις', 'μέσος', 'ὀρέγω', 'τιμή', 'μαλλός', 'δεῖ', 'ἥσσων', 'δεῖ', 'ἐπαινέω', 'ἕξις', 'μεσότης', 'τιμή', 'ἀνώνυμος', 'φαίνω', 'φιλοτιμία', 'ἀφιλοτιμία', 'ἀφιλοτιμία', 'φιλοτιμία', 'ἀμφότερος', 'ἀμφότερά', 'ἔοικα', 'τοῦτʼ', 'ἀλλᾶς', 'ἀρετή', 'ἀντίκειμαι', 'ἐνταῦθʼ', 'ἄκρος', 'φαίνω', 'ὀνομάζω', 'μέσος', 'πραότης', 'μεσότης', 'ὀργάς', 'ἀνώνυμος', 'μέσος', 'ἄκρα', 'μέσος', 'πραότης', 'φέρω', 'ἔλλειψιν', 'ἀνώνυμος', 'ὑπερβολη', 'ὀργιλότης', 'λέγοιτʼ', 'πάθος', 'ὀργή', 'πολύς', 'ἐφʼ', 'δεῖ', 'δεῖ', 'δεῖ', 'ὅσος', 'χρόνος', 'ἐπαινέω', 'πρᾶος', 'ἐάω', 'πραότης', 'ἐπαινέω', 'βούλομαι', 'πρᾶος', 'ἀτάρακτος', 'ἄγω', 'πάθος', 'λόγος', 'τάξις', 'τοσοῦτος', 'χρόνος', 'χαλεπαίνω', 'ἁμαρτάνω', 'δοκέω', 'μαλλός', 'ἔλλειψιν', 'τιμωρητικός', 'πρᾶος', 'μαλλός', 'συγγνωμονικός', 'ἔλλειψις', 'εἴτʼ', 'ἀοργησία', 'εἴθʼ', 'ποτός', 'ψέγω', 'ἐφʼ', 'δεῖ', 'ἠλίθιος', 'δοκέω', 'δεῖ', 'μηδʼ', 'μηδʼ', 'δεῖ', 'δοκέω', 'αἰσθάνομαι', 'λυπέω', 'ὀργιζόμενός', 'ἀμυντικός', 'ἀνέχω', 'οἰκεῖος', 'περιοράω', 'ἀνδραποδώδης', 'ὑπερβολη', 'πᾶς', 'γίγνομαι', 'ʽκαί', 'δεῖ', 'ἐφʼ', 'δεῖ', 'μαλλός', 'δεῖ', 'θάσσων', 'πλείων', 'χρόνος', 'ἅπαντά', 'ὑπάρχω', 'δύναιτʼ', 'κακός', 'ἀπόλλυμι', 'κἂν', 'ὁλόκληρος', 'ἀφόρητος', 'γίγνομαι', 'ὀργίλος', 'ὀργίζω', 'δεῖ', 'ἐφʼ', 'δεῖ', 'μαλλός', 'δεῖ', 'παύω', 'βέλτιστος', 'ἔχω', 'συμβαίνω', 'κατέχω', 'ὀργην', 'ἀνταποδίδωμι', 'φανερός', 'εἶμι', 'ὀξύτης', 'εἶτʼ', 'ἀποπαύω', 'ὑπερβολή', 'εἶμι', 'ἀκράχολος', 'ὀξύς', 'πᾶς', 'ὀργίλος', 'πᾶς', 'ὄνομα', 'πικρός', 'δυσδιάλυτος', 'πολὺν', 'χρόνος', 'ὀργίζω', 'κατέχω', 'θύμον', 'παῦλα', 'γίγνομαι', 'ἀνταποδίδωμι', 'τιμωρία', 'παύω', 'ὀργή', 'ἡδονην', 'λύπη', 'βάρος', 'ἔχω', 'ἐπιφανής', 'συμπείθω', 'αὐτοὺς', 'πέσσω', 'ὀργην', 'χρόνος', 'δεῖ', 'εἶμι', 'ὀχληρός', 'φίλος', 'χαλεποὺς', 'λέγω', 'ἐφʼ', 'δεῖ', 'μαλλός', 'δεῖ', 'πλείων', 'χρόνος', 'ἀνίημι', 'τιμωρία', 'κόλασις', 'πραότης', 'μαλλός', 'ὑπερβολην', 'ἀντιτίθημι', 'μαλλός', 'γίγνομαι', 'ἀνθρωπικός', 'τιμωρέω', 'συμβιόω', 'χαλεπός', 'χείρων', 'πρότερος', 'εἴρω', 'δῆλος', 'ῥᾴδιος', 'διορίζω', 'τίσις', 'ποιός', 'ποσός', 'χρόνος', 'ὀργιστέος', 'ὀρθός', 'ποιέω', 'ἁμαρτάνω', 'μικρός', 'ψέγω', 'οὔτʼ', 'μαλλός', 'οὔτʼ', 'ἥσσων', 'ἐπαινέω', 'πρᾶος', 'φημί', 'ἀνδρώδης', 'ἄρχω', 'ποσός', 'ψεκτός', 'ῥᾴδιος', 'λόγος', 'ἀποδίδωμι', 'ἕκαστος', 'αἴσθησις', 'κρίσις', 'τοσοῦτος', 'δῆλος', 'μέσος', 'ἕξις', 'ἐπαινέτης', 'ἣν', 'δεῖ', 'ὀργίζω', 'ἐφʼ', 'δεῖ', 'δεῖ', 'πᾶς', 'ὑπερβολή', 'ἐλλείπω', 'ψέκτης', 'μικρός', 'ἤρεμος', 'πλείων', 'μαλλός', 'πολὺ', 'σφοδρός', 'δῆλος', 'μέσος', 'ἕξις', 'ἀνθεκτέον', 'ὀργην', 'ἕξις', 'ἐρῶ', 'ὁμιλία', 'συζάω', 'λόγος', 'πρᾶγμα', 'κοινωνέω', 'οἳ', 'ἄρεσκος', 'δοκέω', 'πᾶς', 'ἡδονην', 'δεῖ', 'ἄλυπος', 'ἐντυγχάνω', 'ἐναντίος', 'πᾶς', 'λυπέω', 'δύσκολος', 'δύσερις', 'καλέω', 'ἕξις', 'ψέκτης', 'εἶμι', 'ἄδηλος', 'μέσος', 'ἐπαινέτης', 'ἣν', 'ἀποδείκνυμι', 'δεῖ', 'δεῖ', 'ὅμοιος', 'δυσχεραίνω', 'ὄνομα', 'ἀποδίδωμι', 'ἔοικα', 'φιλία', 'μέσος', 'ἕξις', 'οἷος', 'βούλομαι', 'λέγω', 'ἐπιεικής', 'φίλος', 'στέργω', 'διαφέρω', 'φιλία', 'ἀνίημι', 'πάθος', 'στέργω', 'ὁμιλέω', 'φιλέω', 'ἐχθαίρω', 'ἀποδέχομαι', 'ἕκαστος', 'δεῖ', 'ὅμοιος', 'ἀγνώς', 'γνώριμος', 'συνήθης', 'ἀσυνήθης', 'ποίησις', 'πλέω', 'ἕκαστος', 'ἁρμόζω', 'ὅμοιος', 'προσήκω', 'συνήθης', 'ὀθνεῖος', 'φροντίζω', 'λυπέω', 'εἴρω', 'δεῖ', 'ὁμιλέω', 'κᾶλον', 'συμφέρω', 'στοχάζομαι', 'λυπέω', 'συνηδύνω', 'ἔοικα', 'ἡδονή', 'λύπη', 'ὁμιλία', 'ὅσος', 'κᾶλον', 'βλαβερός', 'συνηδύνω', 'δυσχεραίνω', 'προαιρέω', 'λυπέω', 'κἂν', 'ποιέω', 'ἀσχημοσύνη', 'φέρω', 'μικρός', 'βλάβη', 'ἐναντίωσις', 'μικρός', 'λύπη', 'ἀποδείκνυμι', 'δυσχεραίνω', 'ὁμιλέω', 'ἀξίωμα', 'μαλλός', 'ἥσσων', 'γνώριμος', 'ὅμοιος', 'ἀλλᾶς', 'διαφορά', 'ἕκαστος', 'πρέπω', 'συνηδύνω', 'λυπέω', 'ἀποβαίνω', 'μέγας', 'λέγω', 'κᾶλον', 'συμφέρω', 'ἡδονή', 'μέγας', 'μικρός', 'λυπέω', 'μέσος', 'τοιοῦτός', 'ὀνομάζω', 'ἡδὺς', 'ἄρεσκος', 'ὠφέλειά', 'γίγνομαι', 'χρῆμα', 'ὅσος', 'χρῆμα', 'κόλαξ', 'πᾶς', 'εἴρω', 'δύσκολος', 'δύσερις', 'ἀντίκειμαι', 'φαίνω', 'ἄκρα', 'ἀνώνυμος', 'μέσος', 'ἀλαζονεία', 'εἰρωνεία', 'μεσότης', 'ἀνώνυμος', 'χείρων', 'ἐπέρχομαι', 'μᾶλλόν', 'οἶδα', 'ἦθος', 'ἕκαστος', 'μεσότης', 'ἀρετή', 'πιστεύω', 'πᾶς', 'ἔχω', 'συζάω', 'ἡδονην', 'λύπη', 'ἐρῶ', 'ἀληθεύω', 'εἶπον', 'ὅμοιος', 'λόγος', 'πρᾶξις', 'προσποίημα', 'δοκέω', 'ἀλαζὼν', 'προσποιητικός', 'ἔνδοξος', 'ὑπάρχω', 'μέγας', 'ὑπάρχω', 'εἴρη', 'ἀρνέομαι', 'ἐλάσσων', 'ποιέω', 'μέσος', 'αὐθέκαστός', 'ὢν', 'ἀληθευτικός', 'βιός', 'λόγος', 'ὁμόλογος', 'μέγας', 'ἐλάσσων', 'ἕκαστος', 'ἕνεκά', 'ποιέω', 'μηδείς', 'ἕκαστος', 'οἷός', 'λέγω', 'πράσσω', 'ζάω', 'πράσσω', 'ψεῦδος', 'φαῦλος', 'ψεκτός', 'ἀληθής', 'κᾶλον', 'ἐπαινετός', 'ἀληθευτικός', 'μέσος', 'ὢν', 'ἐπαινετός', 'ἀμφότερος', 'ψεκτός', 'μαλλός', 'ἀλαζών', 'ἑκάτερος', 'εἶπον', 'πρότερος', 'ἀληθευτικοῦ', 'ὁμολογία', 'λέγω', 'ὅσος', 'ἀδικία', 'δικαιοσύνη', 'συντείνω', 'ʽἁλλης', 'ἐάω', 'ταῦτʼ', 'ἀρετῆσ', 'μηδείς', 'λόγος', 'βιός', 'ἀληθεύω', 'ἕξις', 'δοκέω', 'ἐπιεικης', 'φιλαλήθης', 'διαφέρω', 'ἀληθεύω', 'διαφέρω', 'μαλλός', 'αἰσχρός', 'ψεῦδος', 'εὐλαβέομαι', 'εὐλαβέομαι', 'ἐπαινετός', 'ἐλάσσων', 'μαλλός', 'ἀληθής', 'ἀποκλίνω', 'ἐμμελής', 'φαίνω', 'ἐπαχθής', 'ὑπερβολή', 'μέγας', 'ὑπάρχω', 'μηδείς', 'φαῦλος', 'ἔοικα', 'ʽοὐ', 'χαίρω', 'ψεύδεἰ', 'μάταιος', 'φαίνω', 'μαλλός', 'κακός', 'ἕνεκά', 'δόξα', 'τιμή', 'ψεκτός', 'ἀλαζών', 'ἀργύριον', 'ὅσος', 'ἀργύριον', 'ἀσχήμων', 'ʽοὐκ', 'δύναμις', 'ἀλαζών', 'προαίρεσις', 'ἕξις', 'ἀλαζών', 'ψεύστης', 'ψευδής', 'δόξα', 'κέρδος', 'δόξα', 'χάρις', 'προσποιέω', 'ἐφʼ', 'ἔπαινος', 'εὐδαιμονισμός', 'κέρδος', 'ἀπόλαυσίς', 'πελός', 'διαλανθάνω', 'ὄντα', 'οἷος', 'μάντις', 'σοφός', 'ἰατρός', 'πλεῖστος', 'προσποιέω', 'ἀλαζονεύομαι', 'εἴρων', 'ἐλάσσων', 'χαρίεις', 'ἦθος', 'φαίνω', 'κέρδος', 'δοκέω', 'λέγω', 'ὀγκηρός', 'ἔνδοξος', 'ἀπαρνέομαι', 'οἷος', 'Σωκράτης', 'ποιέω', 'μικρός', 'φανερός', 'βαυκοπανοῦργος', 'λέγω', 'εὐκαταφρονητότεροί', 'εἶμι', 'ἀλαζονεία', 'φαίνω', 'οἷος', 'Λάκων', 'ἐσθής', 'ὑπερβολη', 'ἔλλειψις', 'ἀλαζονικός', 'μέτριος', 'εἰρωνεία', 'ἐμποδὼν', 'φανερός', 'χαρίεις', 'φαίνω', 'ἀντίκειμαι', 'ἀλαζὼν', 'φαίνω', 'ἀληθευτικῷ', 'χείρ', 'ἀνάπαυσις', 'βιός', 'διαγωγή', 'παιδιή', 'δοκέω', 'ὁμιλία', 'ἐμμελής', 'οἷος', 'δεῖ', 'λέγω', 'ὅμοιος', 'ἀκούω', 'διαφέρω', 'λέγω', 'ἀκούω', 'δῆλος', 'ταῦτʼ', 'ὑπερβολή', 'ἔλλειψις', 'μέσος', 'γέλοιος', 'βωμολόχος', 'δοκέω', 'φορτικός', 'γέλοιος', 'μαλλός', 'γέλως', 'ποιέω', 'λέγω', 'εὐσχήμων', 'λυπέω', 'μήτʼ', 'μηδείς', 'γέλοιος', 'λέγω', 'ἄγροικος', 'σκληρός', 'δοκέω', 'εὐτράπελος', 'προσαγορεύω', 'οἷος', 'εὔτροπος', 'ἦθος', 'δοκέω', 'κίνησις', 'σῶμα', 'κίνησις', 'κρίνω', 'ἦθος', 'γέλοιος', 'πλεῖστος', 'χαίρω', 'παιδιή', 'σκώπτω', 'μαλλός', 'δεῖ', 'βωμολόχος', 'εὐτράπελος', 'προσαγορεύω', 'χαρίεις', 'διαφέρω', 'μικρός', 'δῆλος', 'μέσος', 'ἕξις', 'οἰκεῖος', 'ἐπιδεξιότης', 'ἐπιδέξιος', 'λέγω', 'ἀκούω', 'οἷος', 'ἐπιεικής', 'ἐλευθέριος', 'ἁρμόζω', 'λέγω', 'παιδιή', 'μέρος', 'ἀκούω', 'ἐλευθέριος', 'παιδιή', 'διαφέρω', 'ἀνδραποδώδης', 'ἀπαίδευτος', 'εἶδον', 'κωμῳδία', 'παλαιός', 'καινός', 'γέλοιος', 'αἰσχρολογία', 'μαλλός', 'ὑπόνοια', 'διαφέρω', 'μικρός', 'εὐσχημοσύνη', 'πότερος', 'ὁριστέος', 'λέγω', 'ἀπρεπής', 'ἐλευθέριος', 'λυπέω', 'τέρπω', 'ἀόριστος', 'μισητός', 'ἡδύς', 'ἀκούω', 'ὑπομένω', 'ἀκοή', 'ποιέω', 'δοκέω', 'πᾶς', 'ποίησις', 'σκῶμμα', 'λοιδόρημά', 'νομοθέτης', 'ἔνιοι', 'λοιδορέω', 'κωλύω', 'δεῖ', 'ἴσος', 'σκώπτω', 'χαρίεις', 'ἐλευθέριος', 'ἕξις', 'οἷος', 'νόμος', 'ὢν', 'μέσος', 'εἴτʼ', 'ἐπίδειξις', 'εἴτʼ', 'εὐτράπελος', 'λέγω', 'βωμολόχος', 'ἧσσα', 'γέλοιος', 'γέλως', 'ποίησις', 'εἶπον', 'χαρίεις', 'ἔνιοι', 'ἀέκων', 'ἄγροικος', 'ὁμιλία', 'ἀχρεῖος', 'πᾶς', 'δυσχεραίνω', 'δοκέω', 'ἀνάπαυσις', 'παιδιή', 'βιός', 'ἀναγκαῖον', 'τρέω', 'βιός', 'μεσότης', 'εἶμι', 'πᾶς', 'λόγος', 'πρᾶξις', 'κοινωνία', 'διαφέρω', 'ἀλήθειάν', 'αἳ', 'ἡδύς', 'ἡδονην', 'παιδιή', 'βιός', 'ὁμιλία', 'αἰδώς', 'ἀρετή', 'προσήκω', 'λέγω', 'πάθος', 'μαλλός', 'ἔοικα', 'ἕξις', 'ὁρίζω', 'φόβος', 'ἀδοξία', 'ἀποτελέω', 'δεῖνα', 'φόβος', 'παραπλήσιος', 'ἐρυθραίνομαι', 'θάνατος', 'ὠχράω', 'σωματικός', 'φαίνεταί', 'ἀμφότερος', 'δοκέω', 'πάθος', 'μαλλός', 'ἕξις', 'πᾶς', 'ἡλικία', 'πάθος', 'ἁρμόζω', 'νέος', 'οἴομαι', 'δεῖ', 'τηλικοῦτος', 'αἰδήμων', 'πάθος', 'πολύς', 'ἁμαρτάνω', 'αἰδώς', 'κωλύω', 'ἐπαινέω', 'ναός', 'αἰδήμων', 'πρέσβυς', 'ἐπαινέω', 'αἰσχυντηλός', 'οἴομαι', 'δεῖ', 'πράσσω', 'ἐφʼ', 'αἰσχύνη', 'ἐπιεικής', 'αἰσχύνη', 'γίγνομαι', 'φαῦλος', 'ʽοὐ', 'πρακτέος', 'κατʼ', 'ἀλήθεια', 'αἰσχρός', 'δόξα', 'διαφέρω', 'οὐδέτερος', 'πρακτέος', 'ὥστʼ', 'αἰσχυντέος', 'φαῦλος', 'οἷος', 'πράσσω', 'αἰσχρός', 'ἔχω', 'ὥστʼ', 'πράσσω', 'αἰσχύνω', 'τοῦτʼ', 'οἴομαι', 'ἐπιεικής', 'ἄτοπος', 'ἑκούσιος', 'αἰδώς', 'ἑκὼν', 'ἐπιεικης', 'πρᾶξις', 'φαῦλος', 'ἐάω', 'αἰδὼς', 'ὑπόθεσις', 'ἐπιεικής', 'πράσσω', 'αἰσχύνοιτʼ', 'ἀρετή', 'ἀναισχυντία', 'φαῦλος', 'αἰδέομαι', 'αἰσχρός', 'πράσσω', 'μαλλός', 'αἰσχύνω', 'ἐπιεικής', 'ἐγκράτεια', 'ἀρετή', 'μικτός', 'δείκνυμι', 'ὕστερος', 'δικαιοσύνη', 'εἶπον', 'βοοκ', 'δικαιοσύνη', 'ἀδικία', 'σκεπτέος', 'πόα', 'τυγχάνω', 'πρᾶξις', 'πόα', 'μεσότης', 'δικαιοσύνη', 'δίκαιος', 'μέσος', 'σκέψις', 'αὐτην', 'μέθοδος', 'ὁράω', 'πᾶς', 'ἕξις', 'λέγω', 'δικαιοσύνη', 'ἀφʼ', 'πρακτικός', 'δίκαιος', 'εἶμι', 'ἀφʼ', 'δικαιοπραγέω', 'βούλομαι', 'δίκαιος', 'τρόπος', 'ἀδικία', 'ἀφʼ', 'ἀδικέω', 'βούλομαι', 'ἄδικος', 'πρότερος', 'τύπος', 'ὑπόκειμαι', 'ἔχις', 'τρόπος', 'ἐπιστήμη', 'δύναμις', 'ἕξις', 'δύναμις', 'ἐπιστήμη', 'δοκέω', 'ἐναντίος', 'αὐτη', 'ἕξις', 'ἐναντίος', 'ἐναντίος', 'οἷος', 'ὑγίεια', 'πράσσω', 'ἐναντίος', 'ὑγιεινός', 'μόνος', 'λέγω', 'ὑγιεινός', 'βαδίζω', 'βαδίζω', 'γνωρίζω', 'ἐναντίος', 'ἕξις', 'ἐναντίος', 'ἕξις', 'εὐεξία', 'φανερός', 'καχεξία', 'φανερός', 'γίγνομαι', 'εὐεκτικῶν', 'εὐεξία', 'εὐεκτικά', 'εὐεξία', 'πυκνότης', 'σάρξ', 'ἀνάγκη', 'καχεξία', 'μανότης', 'σάρξ', 'εὐεκτικόν', 'ποιητικός', 'πυκνότης', 'σάρξ', 'ἀκολουθέω', 'πολύς', 'ἕτερος', 'λέγω', 'ἕτερος', 'λέγω', 'οἷος', 'δίκαιος', 'ἄδικος', 'ἔοικα', 'λέγω', 'δικαιοσύνη', 'ἀδικία', 'ὁμωνυμία', 'λανθάνω', 'δῆλος', 'μαλλός', 'ʽἡ', 'διαφορά', 'πολύς', 'ἰδέα', 'οἷος', 'καλέω', 'κλείς', 'ὁμώνυμος', 'αὐχήν', 'ζωή', 'θύρα', 'κλείω', 'λαμβάνω', 'ἄδικος', 'λέγω', 'δοκέω', 'παράνομος', 'ἄδικος', 'πλεονέκτης', 'ἄνισος', 'δῆλος', 'δίκαιος', 'νόμιμος', 'ἴσος', 'δίκαιος', 'νόμιμος', 'ἴσος', 'ἄδικος', 'παράνομος', 'ἄνισος', 'ἔπος', 'πλεονέκτης', 'ἄδικος', 'ἀγαθός', 'πᾶς', 'ὅσος', 'εὐτυχία', 'ἀτυχία', 'ἁπλόω', 'ἀγαθός', 'ἄνθρωπος', 'εὔχομαι', 'διώκω', 'δεῖ', 'εὔχομαι', 'ἁπλόω', 'ἀγαθός', 'ἀγαθός', 'αἱρέω', 'ἀγαθός', 'ἄδικος', 'πλείων', 'αἱρέω', 'ἐλάσσων', 'ἁπλόω', 'κάκη', 'δοκέω', 'μείων', 'κακός', 'ἀγαθός', 'ἀγαθός', 'πλεονεξία', 'δοκέω', 'πλεονέκτης', 'ἄνισος', 'περιέχω', 'κοινός', 'ἔπος', 'παράνομος', 'ἄδικος', 'νόμιμος', 'δίκαιος', 'δῆλος', 'πᾶς', 'νόμιμά', 'δίκαιος', 'νομοθετικός', 'νόμιμά', 'ἕκαστος', 'δίκαιος', 'εἶναί', 'φημί', 'νόμος', 'ἀγορεύω', 'ἅπας', 'κοινός', 'πᾶς', 'ἄριστον', 'κύριος', 'κατʼ', 'ἀρετην', 'κατʼ', 'τρόπος', 'ἕνος', 'τρόπος', 'δίκαιος', 'λέγω', 'ποιητικός', 'φυλακτικός', 'εὐδαιμονία', 'μορία', 'πολιτικός', 'κοινωνία', 'προστάσσω', 'νόμος', 'ἀνδρεῖος', 'ἔργον', 'ποιέω', 'οἷος', 'λείπω', 'τάξις', 'φεύγω', 'ῥίπτω', 'ὁπλή', 'σώφρων', 'οἷος', 'μοιχεύω', 'μηδʼ', 'ὑβρίζω', 'πρᾶος', 'οἷος', 'τύπτω', 'κακηγορέω', 'ὅμοιος', 'ἀλλᾶς', 'ἀρετή', 'μοχθηρία', 'ὀρθός', 'ὀρθός', 'χείρων', 'δικαιοσύνη', 'ἀρετη', 'τέλειος', 'ἁπλόω', 'ἕτερος', 'κράτιστος', 'ἀρετή', 'δοκέω', 'δικαιοσύνη', 'οὔθʼ', 'ἕσπερος', 'οὔθʼ', 'ἑῷος', 'θαυμαστός', 'παροιμιαζόμενοί', 'φημί', 'δικαιοσύνη', 'πᾶσʼ', 'ἀρετη', 'τηεογ', 'τέλειος', 'ἀρετή', 'τέλειος', 'ἀρετή', 'χρῆσίς', 'τέλειος', 'χόω', 'αὐτην', 'ἕτερος', 'δυνατός', 'ἀρετή', 'χράομαι', 'μόνος', 'πολύς', 'οἰκεῖος', 'ἀρετή', 'δύναμαι', 'χράομαι', 'ἕτερος', 'ἀδυνατέω', 'δοκέω', 'ἔχω', 'ἀρχη', 'ἀνήρ', 'δείκνυμι', 'ἕτερος', 'κοινωνία', 'ἦδος', 'ἀρχή', 'ἀλλότριος', 'ἀγαθός', 'δοκέω', 'δικαιοσύνη', 'μονή', 'ἀρετή', 'ἕτερόν', 'πράσσω', 'ἄρχων', 'κοινωνός', 'κακός', 'φίλος', 'μοχθηρία', 'ἄριστος', 'ἀρετή', 'ἕτερος', 'ἔργον', 'χαλεπός', 'δικαιοσύνη', 'μέρος', 'ἀρετή', 'ὅλοξ', 'ἀρετή', 'ἐναντίος', 'ἀδικία', 'μέρος', 'κακία', 'ὅλοξ', 'κακία', 'διαφέρω', 'ἀρετη', 'δικαιοσύνη', 'δῆλος', 'ἕτερος', 'δικαιοσύνη', 'ἕξις', 'ἁπλόω', 'ἀρετή', 'ζητέω', 'μέρος', 'ἀρετή', 'δικαιοσύνη', 'φημί', 'ὅμοιος', 'ἀδικία', 'μέρος', 'σημεῖον', 'ἀλλᾶς', 'μοχθηρία', 'ἐνεργής', 'ἀδικέω', 'πλεονεκτέω', 'οἷος', 'ῥίπτω', 'ἀσπίς', 'δειλία', 'κακός', 'εἰπὼν', 'χαλεπότης', 'βοηθέω', 'χρῆμα', 'διʼ', 'ἀνελευθερία', 'πλεονέκτης', 'κατʼ', 'πᾶς', 'πονηρία', 'ʽψέγομεν', 'κατʼ', 'ἀδικία', 'ἄρʼ', 'ἀδικία', 'μέρος', 'ὅλοξ', 'ἄδικόν', 'μέρος', 'ὅλοξ', 'ἄδικος', 'νόμος', 'κερδαίνω', 'μοιχεύω', 'προστίθημι', 'διʼ', 'ἐπιθυμία', 'ἀκόλαστος', 'δοκέω', 'μαλλός', 'πλεονέκτης', 'ἐκεῖνος', 'ἄδικος', 'ἀκόλαστος', 'δῆλος', 'κερδαίνω', 'πᾶς', 'ἀδίκημα', 'γίγνομαι', 'ἐπαναφορά', 'μοχθηρία', 'οἷος', 'μοιχεύω', 'ἀκολασία', 'ἐγκαταλείπω', 'παραστάτης', 'δειλία', 'πατάσσω', 'ὀργή', 'κερδαίνω', 'μοχθηρία', 'ἀδικία', 'φανερός', 'ἀδικία', 'ὅλοξ', 'μέρος', 'συνώνυμος', 'ὁρισμός', 'γένος', 'ἄμφω', 'ἕτερος', 'ἔχω', 'δύναμις', 'τιμή', 'χρῆμα', 'σωτηρία', 'εἶμι', 'ἔχω', 'ἑνί', 'ὄνομα', 'περιλαμβάνω', 'πᾶς', 'διʼ', 'ἡδονην', 'κέρδος', 'ἅπας', 'ὅσος', 'σπουδαῖος', 'εἶμι', 'δικαιοσύνη', 'πλείων', 'ἕτερος', 'ὅλοξ', 'ἀρετή', 'δῆλος', 'πόα', 'ληπτέος', 'ὁρίζω', 'ἄδικος', 'παράνομος', 'ἄνισος', 'δίκαιος', 'νόμιμος', 'ἴσος', 'παράνομος', 'πρότερος', 'ἀδικία', 'ἔπος', 'ἄνισος', 'παράνομος', 'ταὐτόν', 'ἕτερος', 'μέρος', 'ὅλοξ', 'ʽτό', 'ἄνισος', 'ἅπας', 'παράνομος', 'παράνομος', 'ἅπας', 'ἄνισος', 'ἄδικος', 'ἀδικία', 'ταὐτάζω', 'ἕτερος', 'ἐκεῖνος', 'μέρος', 'ὅλοξ', 'μέρος', 'ἀδικία', 'ὅλοξ', 'ἀδικία', 'ὅμοιος', 'δικαιοσύνη', 'δικαιοσύνη', 'μέρος', 'δικαιοσύνη', 'μέρος', 'ἀδικία', 'λεκτέος', 'δίκαιος', 'ἄδικος', 'ὅλοξ', 'ἀρετην', 'δικαιοσύνη', 'ἀδικία', 'ὅλοξ', 'ἀρετή', 'χρῆσις', 'κακία', 'ἀφίημι', 'δίκαιος', 'ἄδικος', 'φανερός', 'διοριστέον', 'πολύς', 'νόμιμος', 'ὅλοξ', 'ἀρετή', 'προσταττόμενά', 'ἕκαστος', 'ἀρετην', 'προστάσσω', 'ζάω', 'ἕκαστος', 'μοχθηρία', 'κωλύω', 'νόμος', 'ποιητικός', 'ὅλοξ', 'ἀρετή', 'νόμιμος', 'ὅσος', 'νομοθετέω', 'παιδεία', 'κοινός', 'ἕκαστος', 'παιδεία', 'ἣν', 'ἁπλόω', 'ἀνηρ', 'ἀγαθός', 'πότερος', 'πολιτικός', 'ἕτερος', 'ὕστερος', 'διοριστέον', 'ἴσος', 'ταὐτόν', 'ἀνήρ', 'τʼ', 'ἀγαθός', 'πολίτης', 'πᾶς', 'μέρος', 'δικαιοσύνη', 'κατʼ', 'αὐτην', 'δίκαιος', 'ἵημι', 'εἶδος', 'διανομή', 'τιμή', 'χρῆμα', 'ὅσος', 'μεριστής', 'κοινωνέω', 'πολιτεία', 'ʽἐν', 'ἄνισος', 'ἔχω', 'ἴσος', 'ἕτερος', 'ἑτέροὐ', 'ἵημι', 'συνάλλαγμα', 'διορθωτικόν', 'μέρος', 'συνάλλαγμα', 'ἑκούσιά', 'ἀεκούσιος', 'ἑκούσιος', 'οἷος', 'πρᾶσις', 'ὠνη', 'δανεισμός', 'ἐγγύη', 'χρῆσις', 'παρακαταθήκη', 'μίσθωσις', 'ʽἑκούσια', 'λέγω', 'ἀρχη', 'συνάλλαγμα', 'ἑκούσιοσ', 'ἀεκούσιος', 'λαθραῖος', 'οἷος', 'κλοπεύς', 'μοιχεία', 'φαρμακεία', 'προαγωγεία', 'δουλαπατία', 'δολοφονία', 'ψευδομαρτυρία', 'βίαιος', 'οἷος', 'αἰκία', 'δεσμός', 'θάνατος', 'ἁρπαγη', 'πήρωσις', 'κακηγορία', 'προπηλάκισις', 'ἔπος', 'τʼ', 'ἄδικος', 'ἄνισος', 'ἄδικος', 'ἄνισος', 'δῆλος', 'μέσος', 'ἄνισος', 'ἴσος', 'ὁποῖος', 'πρᾶξις', 'πλείων', 'ἐλάσσων', 'ἴσος', 'ἄδικος', 'ἄνισος', 'δίκαιος', 'ἴσος', 'ἀνίημι', 'λόγος', 'δοκέω', 'πᾶς', 'ἔπος', 'ἴσος', 'μέσος', 'δίκαιος', 'μέσος', 'ἐάω', 'ἴσος', 'ἐλάχιστος', 'δύσις', 'ἀνάγκη', 'δίκαιος', 'μέσος', 'ἴσος', 'τίσις', 'μέσος', 'ʽταῦτα', 'πλείων', 'ἐλάσσων', 'ἴσος', 'δίκαιος', 'τίσις', 'ἀνάγκη', 'δίκαιος', 'ἐλάχιστος', 'τέσσαρες', 'δίκαιος', 'τυγχάνω', 'πρᾶγμα', 'αὐτη', 'ἰσότης', 'ἐκεῖνος', 'ἔχις', 'ἐκεῖνος', 'ἔχις', 'ἴσος', 'ἴσος', 'ἔχω', 'μάχη', 'ἔγκλημα', 'ἴσος', 'ἴσος', 'ἴσος', 'ἴσος', 'ἔχω', 'νέμω', 'κατʼ', 'ἀξία', 'δῆλος', 'δίκαιος', 'νομή', 'ὁμολογέω', 'πᾶς', 'κατʼ', 'ἀξία', 'δεῖ', 'ἀξία', 'αὐτην', 'λέγω', 'πᾶς', 'ὑπάρχω', 'δημοκρατικός', 'ἐλευθερία', 'ὀλιγαρχικός', 'πλοῦτος', 'οἳ', 'εὐγένεια', 'ἀριστοκρατικός', 'ἀρετή', 'δίκαιος', 'ἀνάλογόν', 'ἀνάλογος', 'μόνος', 'μοναδικός', 'ἀριθμός', 'ἴδιος', 'ὅλοξ', 'ἀριθμός', 'ἀναλογία', 'ἰσότης', 'λόγος', 'τέσσαρες', 'ἐλάχιστος', 'τέσσαρες', 'δῆλος', 'συνεχής', 'ἑνί', 'δύσις', 'χράομαι', 'λέγω', 'οἷος', 'εἴρω', 'ὥστʼ', 'τίθημι', 'τέσσαρες', 'ἀνάλογος', 'δίκαιος', 'τέσσαρες', 'ἐλάχιστος', 'λόγος', 'διαιρέω', 'ὅμοιος', 'ὅρος', 'ὅλοξ', 'ὅλοξ', 'νομεύς', 'συνδυάζω', 'κἂν', 'συντίθημι', 'δίκαιος', 'συνδυάζω', 'ὅρος', 'σύζευξις', 'διανομεύς', 'δίκαιόν', 'μέσος', 'δίκαιος', 'τοῦτʼ', 'ἄδικος', 'ἀνάλογος', 'ἀνάλογος', 'μέσος', 'δίκαιος', 'ἀνάλογος', 'καλέω', 'ἀναλογία', 'γεωμετρικός', 'μαθηματικός', 'γεωμετρικός', 'συμβαίνω', 'ὅλοξ', 'ὅλοξ', 'ἑκάτερος', 'ἑκάτερος', 'συνεχής', 'ἀναλογία', 'γίγνομαι', 'ἀριθμός', 'ὅρος', 'δίκαιος', 'ἀνάλογος', 'ἄδικος', 'ἀνάλογος', 'γίγνομαι', 'πλείων', 'ἐλάσσων', 'ἔργον', 'συμβαίνω', 'ἄδικος', 'πλείων', 'ἔχις', 'ἐλάσσων', 'ἀγαθός', 'κακός', 'ἀγαθός', 'λόγος', 'γίγνομαι', 'ἐλάσσων', 'κακός', 'μέγας', 'κακός', 'ἐλάσσων', 'κακός', 'μαλλός', 'αἱρετός', 'μέγας', 'αἱρετός', 'ἀγαθός', 'μαλλός', 'μέγας', 'ἵημι', 'εἶδος', 'δίκαιος', 'τοῦτʼ', 'λοιπός', 'ἵημι', 'διορθωτικόν', 'γίγνομαι', 'συνάλλαγμα', 'ἑκούσιος', 'ἀεκούσιος', 'δίκαιος', 'εἶδος', 'ἔχις', 'πρότερος', 'διανεμητικός', 'δίκαιος', 'κοινός', 'ἀναλογία', 'χρῆμα', 'κοινός', 'γίγνομαι', 'διανομεύς', 'λόγος', 'ἔχω', 'ἀλλήλων', 'ἄδικος', 'δίκαιος', 'ἀνάλογόν', 'συνάλλαγμα', 'δίκαιος', 'ἴσος', 'ἄδικος', 'ἄνισος', 'ἀναλογία', 'ἐκεῖνος', 'ἀριθμητικός', 'διαφέρω', 'ἐπιεικης', 'φαῦλος', 'ἀποστερέω', 'φαῦλος', 'ἐπιεικής', 'μοιχεύω', 'ἐπιεικης', 'φαῦλος', 'βλάβος', 'διαφορά', 'μόνος', 'βλέπος', 'νόμος', 'χράομαι', 'ἴσος', 'ἀδικέω', 'ἀδικέω', 'βλάπτω', 'βλάπτω', 'ἄδικος', 'ἄνισος', 'ὂν', 'ἰσάζω', 'πειρατής', 'δικαστής', 'πληγή', 'πατάσσω', 'κτείνω', 'ἀποθνήσκω', 'διαιρέω', 'πάθος', 'πρᾶξις', 'ἄνισος', 'πειρατής', 'ζημία', 'ἰσάζω', 'κέρδος', 'λέγω', 'ἁπλόω', 'εἶπον', 'κἂν', 'τίσις', 'οἰκεῖος', 'ὄνομα', 'ἐάω', 'κέρδος', 'οἷος', 'ζημία', 'μετρέω', 'πάθος', 'καλέω', 'ζημία', 'κέρδος', 'πλείων', 'ἐλάσσων', 'ἴσος', 'μέσος', 'κέρδος', 'ζημία', 'πλείων', 'ἐλάσσων', 'ἐναντίος', 'ἀγαθός', 'πλείων', 'κακός', 'ἐλάσσων', 'κέρδος', 'ἐναντίος', 'ζημία', 'μέσος', 'ἴσος', 'λέγω', 'δίκαιος', 'ἐπανορθωτικόν', 'δίκαιος', 'ἐάω', 'μέσος', 'ζημία', 'κέρδος', 'ἀμφισβητέω', 'δικαστής', 'καταφεύγω', 'δικαστής', 'εἶμι', 'εἶμι', 'δίκαιος', 'δικαστής', 'βούλομαι', 'οἷος', 'δίκαιος', 'ἔμψυχος', 'ζητέω', 'δικαστής', 'μέσος', 'καλέω', 'ἔνιοι', 'μεσίδιος', 'μέσος', 'τυγχάνω', 'δίκαιος', 'μέσος', 'δίκαιος', 'δικαστής', 'δικαστής', 'ἐπανισόω', 'γραμμή', 'ἄνισος', 'μέγας', 'τμῆμα', 'ἡμίσεια', 'ὑπερέχω', 'τοῦτʼ', 'ἀφαιρέω', 'ἐλάσσων', 'τμῆμα', 'προστίθημι', 'διχάζω', 'διαιρέω', 'ὅλοξ', 'φάσις', 'ἔχω', 'λαμβάνω', 'ἴσος', 'ἴσος', 'μέσος', 'μέγας', 'ἐλάσσων', 'ἀριθμητικην', 'ἀναλογία', 'ὀνομάζω', 'δίκαιος', 'διχάζω', 'εἶμι', 'εἶπον', 'δίχαιον', 'δικαστής', 'διχαστής', 'ἴσος', 'ἀφαιρέω', 'ἕτερος', 'ἕτερος', 'προστίθημι', 'δύσις', 'ὑπερέχω', 'ἕτερος', 'ἀφαιρέω', 'προστίθημι', 'ἑνί', 'μόνος', 'ὑπερέχω', 'μέσος', 'ἑνί', 'μέσος', 'ἀφʼ', 'ἵημι', 'ἀφαιρέω', 'ἑνί', 'γνωρίζω', 'ἀφαιρέω', 'δεῖ', 'πλείων', 'προστίθημι', 'ἐλάσσων', 'ἔχω', 'μέσος', 'ὑπερέχω', 'προστίθημι', 'δεῖ', 'ἐλάσσων', 'ἔχω', 'ὑπερέχω', 'ἀφαιρέω', 'μέγας', 'ἴσος', 'ἐφʼ', 'ἀάω', 'ββ', 'γγ', 'ἀλλήλων', 'ἀάω', 'ἀφαιρέω', 'ἄω', 'πρόσκειμαι', 'γγ', 'ἐφʼ', 'γδ', 'ὅλοξ', 'δγγ', 'ἑός', 'ὑπερέχω', 'γδ', 'γζ', 'ββ', 'γδ', 'τέχνη', 'ἀναιρέω', 'ποιέω', 'ποιέω', 'ὅσος', 'οἷος', 'πάσχω', 'πάσχω', 'τοσοῦτος', 'ἔρχομαι', 'ὄνομα', 'ζημία', 'κέρδος', 'ἑκούσιος', 'ἀλλαγή', 'πλείων', 'ἔχω', 'κερδαίνω', 'λέγω', 'ἐλάσσων', 'ἀρχή', 'ζημιόω', 'οἷος', 'ὠνέομαι', 'πωλέω', 'ὅσος', 'ἄδεια', 'δίδωμι', 'νόμος', 'πλείων', 'μήτʼ', 'ἐλάσσων', 'διʼ', 'γίγνομαι', 'φάσις', 'ἔχω', 'ζημιόω', 'κερδαίνω', 'κέρδος', 'ζημία', 'μέσος', 'δίκαιόν', 'ἑκούσιος', 'ἴσος', 'ἔχω', 'πρότερος', 'ὕστερος', 'δοκέω', 'τίσις', 'ἁπλόω', 'δίκαιος', 'Πυθαγόρειος', 'φημί', 'ὁρίζω', 'ἁπλόω', 'δίκαιος', 'ἐφαρμόζω', 'οὔτʼ', 'νεμητικόν', 'δίκαιος', 'οὔτʼ', 'διορθωτικόνκαίτοι', 'βούλονταί', 'λέγω', 'ῥαδαμάνθυος', 'δίκαιος', 'εἶμι', 'πάσχω', 'τʼ', 'ἐρέσσω', 'δίκη', 'κʼ', 'εὐθύς', 'γίγνομαι', 'διαφωνέω', 'οἷος', 'ἀρχην', 'χόω', 'πατάσσω', 'δεῖ', 'ἀντιπλήσσω', 'ἄρχων', 'πατάσσω', 'πλήσσω', 'μόνος', 'δεῖ', 'κολάζω', 'ἑκούσιος', 'ἀεκούσιος', 'διαφέρω', 'πολύς', 'κοινωνία', 'ἀλλακτικαῖς', 'συνεχής', 'δίκαιος', 'κατʼ', 'ἀναλογία', 'κατʼ', 'ἰσότης', 'ἀντιποιέω', 'ἀνάλογος', 'συμμένω', 'πόλις', 'κακός', 'ζητέω', 'δουλεία', 'δοκέω', 'ἀντιποιέω', 'μετάδοσις', 'γίγνομαι', 'μετάδοσις', 'συμμένω', 'χάρις', 'ἱερός', 'ἐμποδὼν', 'ποιέω', 'ἵνʼ', 'ἀνταπόδοσις', 'ἴδιος', 'χάρις', 'ἀνθυπηρετέω', 'δεῖ', 'ἄρχω', 'ποιέω', 'ἀντίδοσις', 'κατʼ', 'ἀναλογία', 'διάμετρον', 'σύζευξις', 'οἰκοδόμος', 'ἐφʼ', 'σκυτοτόμος', 'ἐφʼ', 'οἰκία', 'ἐφʼ', 'ὑπόδημα', 'ἐφʼ', 'δεῖ', 'λαμβάνω', 'οἰκοδόμος', 'σκυτοτόμος', 'ἐκεῖνος', 'ἔργον', 'ἐκεῖνος', 'μεταδίδωμι', 'πρότερος', 'ἀναλογία', 'ἴσος', 'γίγνομαι', 'ἴσος', 'συμμένω', 'κωλύω', 'κρείσσων', 'ἕτερος', 'ἔργον', 'ἕτερος', 'δεῖ', 'ἰσάζω', 'τέχνη', 'ἀναιρέω', 'ποιέω', 'ποιέω', 'ὅσος', 'οἷος', 'πάσχω', 'πάσχω', 'τοσοῦτος', 'ἰατρός', 'γίγνομαι', 'κοινωνία', 'ἰατρός', 'γεωργός', 'ὅλοξ', 'ἕτερος', 'ἴσος', 'δεῖ', 'ἰσάζω', 'πᾶς', 'συμβλητός', 'δεῖ', 'ἀλλαγή', 'ἐφʼ', 'νόμισμʼ', 'ἔρχομαι', 'γίνεταί', 'μέσος', 'πᾶς', 'μετρέω', 'ὑπεροχην', 'ἔλλειψιν', 'ποσός', 'ὑποδήματʼ', 'ἴσος', 'οἰκία', 'τροφεύς', 'δεῖ', 'οἰκοδόμος', 'σκυτοτόμος', 'τοσαδί', 'ὑπόδημα', 'οἰκία', 'τροφή', 'ἀλλαγη', 'κοινωνία', 'ἴσος', 'ἐάω', 'δεῖ', 'ἑνί', 'πᾶς', 'μετρέω', 'λέγω', 'πρότερος', 'ἀλήθεια', 'χρεία', 'πᾶς', 'συνεχής', 'μηδείς', 'δέω', 'ὅμοιος', 'ἀλλαγη', 'οἷος', 'ὑπάλλαγμα', 'χρεία', 'νόμισμα', 'γίγνομαι', 'συνθήκη', 'ὄνομα', 'ἔχις', 'νόμισμα', 'φύσις', 'νόμος', 'ἐφʼ', 'μεταβάλλω', 'ποιέω', 'ἄχρηστος', 'ἰσάζω', 'γεωργός', 'σκυτοτόμος', 'ἔργον', 'σκυτοτόμος', 'γεωργός', 'σχῆμα', 'ἀναλογία', 'δεῖ', 'ἄγω', 'ἀλλάσσω', 'ʽεἰ', 'ἀμφότερος', 'ἕξις', 'ὑπεροχή', 'ἕτερος', 'ἄκρον', 'ἔχω', 'ἴσος', 'κοινωνός', 'ἰσότης', 'δυνατός', 'γίγνομαι', 'γεωργός', 'τροφεύς', 'σκυτοτόμος', 'ἔργον', 'ἀντιπάσχω', 'κοινωνία', 'χρεία', 'συνεχής', 'ἵημι', 'δῆλος', 'χρεία', 'οὖς', 'ἀλλήλων', 'ἀμφότερος', 'ἅτερος', 'ἀλλάσσω', 'ἵημι', 'ἔχις', 'δέηταί', 'οἷος', 'οἶνος', 'σῖτος', 'ἐξαγωγή', 'δεῖ', 'ἰσάζω', 'ἀλλαγή', 'μηδείς', 'δέω', 'δέω', 'νόμισμα', 'οἷος', 'ἐγγυητής', 'ἐσθʼ', 'δεῖ', 'φέρω', 'λαμβάνω', 'πάσχω', 'ἴσος', 'δυνατός', 'ὁμός', 'βούλομαι', 'μένω', 'μαλλός', 'δεῖ', 'πᾶς', 'τιμάω', 'ἀλλαγή', 'κοινωνία', 'νόμισμα', 'μέτρον', 'σύμμετρος', 'ποιέω', 'ἰσάζω', 'ἀλλαγή', 'κοινωνία', 'οὔτʼ', 'ἀλλαγη', 'ἰσότης', 'οὔτʼ', 'ἰσότης', 'συμμετρία', 'ἀλήθεια', 'ἀδύνατος', 'τοσοῦτος', 'σύμμετρος', 'γίγνομαι', 'χρεία', 'ἐνδέχομαι', 'ἱκανός', 'ἵημι', 'δεῖ', 'ὑπόθεσις', 'νόμισμα', 'καλέω', 'πᾶς', 'ποιέω', 'σύμμετρος', 'μετρέω', 'πᾶς', 'νόμισμα', 'οἰκία', 'μνᾶ', 'δεκάς', 'κλίνη', 'ἥμισυς', 'μνᾶ', 'ἀξία', 'οἰκία', 'ἴσος', 'κλίνη', 'δέκατος', 'μέρος', 'δῆλος', 'ποσός', 'κλίνη', 'ἴσος', 'οἰκία', 'ἀλλαγη', 'νόμισμα', 'δῆλος', 'διαφέρω', 'κλίνη', 'οἰκία', 'ὅσος', 'κλίνη', 'ἄδικος', 'δίκαιόν', 'εἴρω', 'δῆλος', 'δικαιοπραγία', 'μέσος', 'ἀδικέω', 'ἀδικέω', 'πλείων', 'ἔχω', 'ἔλαττόν', 'δικαιοσύνη', 'μεσότης', 'τρόπος', 'ἀρετή', 'μέσος', 'ἀδικία', 'ἄκρα', 'δικαιοσύνη', 'ἣν', 'δίκαιος', 'λέγω', 'πρακτικός', 'προαίρεσις', 'δίκαιος', 'διανεμητικός', 'ἕτερος', 'ἕτερος', 'αἱρετός', 'πλείων', 'ἐλάσσων', 'πλησίος', 'βλαβερός', 'ἴσος', 'κατʼ', 'ἀναλογία', 'ὅμοιος', 'ἀδικία', 'ἐναντίος', 'ἄδικος', 'ὑπερβολη', 'ἔλλειψις', 'ὠφέλιμος', 'βλαβερός', 'ἀνάλογος', 'ὑπερβολη', 'ἔλλειψις', 'ἀδικία', 'ὑπερβολή', 'ἐλλείψεώς', 'ἐφʼ', 'ὑπερβολή', 'ἁπλόω', 'ὠφέλιμος', 'ἐλλείψεως', 'βλαβερός', 'ὅλοξ', 'ὅμοιος', 'ἀνάλογος', 'ὁπότερος', 'τυγχάνω', 'ἀδίκημα', 'ἐλάσσων', 'ἀδικεῖσθαί', 'μέγας', 'ἀδικέω', 'δικαιοσύνη', 'ἀδικία', 'ἑκάτερος', 'φύσις', 'ἐρῶ', 'τρόπος', 'ὅμοιος', 'δίκαιος', 'ἄδικος', 'ἔπος', 'ἄδικος', 'πόα', 'ἀδίκημα', 'ἄδικος', 'ἦδος', 'ἄδικός', 'ἕκαστος', 'ἀδικία', 'οἷος', 'κλέπτης', 'μοιχός', 'ληιστής', 'διαφέρω', 'συγγίγνομαι', 'γυνή', 'εἰδὼς', 'προαίρεσις', 'ἀρχην', 'πάθος', 'ἀδικέω', 'ἄδικος', 'οἷος', 'κλέπτης', 'ἐκλέπω', 'μοιχός', 'μοιχεύω', 'ὅμοιος', 'ἔχις', 'δίκαιος', 'εἴρω', 'πρότερος', 'δεῖ', 'λανθάνω', 'ζητούμενόν', 'ἁπλόω', 'δίκαιος', 'πολιτικός', 'δίκαιος', 'κοινωνός', 'βιός', 'αὐτάρκεια', 'ἐλεύθερος', 'ἴσος', 'κατʼ', 'ἀναλογία', 'κατʼ', 'ἀριθμός', 'ὅσος', 'ἀλλήλων', 'πολιτικός', 'δίκαιος', 'δίκαιος', 'ὁμοιότης', 'δίκαιος', 'νόμος', 'νόμος', 'ἀδικία', 'δίκη', 'κρίσις', 'δίκαιος', 'ἄδικος', 'ἀδικία', 'ἀδικέω', 'ʽἐν', 'ἀδικέω', 'πᾶς', 'ἀδικίἀ', 'πλείων', 'νέμω', 'ἁπλόω', 'ἀγαθός', 'ἐλάσσων', 'ἁπλόω', 'κάκη', 'ἐάω', 'ἄρχω', 'ἄνθρωπος', 'λόγος', 'ποιέω', 'γίγνομαι', 'τύραννος', 'ἀρχή', 'φύλαξ', 'δίκαιος', 'δίκαιος', 'ἴσος', 'ἔπος', 'πλείων', 'δοκέω', 'δίκαιος', 'ʽοὐ', 'νέμος', 'πλείων', 'ἁπλόω', 'ἀγαθός', 'ἀνάλογόν', 'ἕτερος', 'πονέω', 'ἀλλότριος', 'εἶναί', 'φάσις', 'ἀγαθός', 'δικαιοσύνη', 'λέγω', 'πρότερος', 'μισθός', 'δοτέος', 'τιμή', 'γέρας', 'ἱκανός', 'γίγνομαι', 'τύραννος', 'δεσποτικός', 'δίκαιος', 'πατρικός', 'ταὐτόν', 'ὅμοιος', 'ἀδικία', 'ἁπλόω', 'κτῆμα', 'τέκνον', 'ἑός', 'πηλίκος', 'χωρίζω', 'μέρος', 'προαιρέω', 'βλάπτω', 'ἀδικία', 'ἄδικος', 'δίκαιος', 'πολιτικός', 'νόμος', 'φύω', 'νόμος', 'ὑπάρχω', 'ἰσότης', 'ἄρχω', 'ἄρχω', 'μαλλός', 'γυναῖκά', 'δίκαιος', 'τέκνον', 'κτῆμα', 'οἰκονομικός', 'δίκαιος', 'ἕτερος', 'πολιτικός', 'πολιτικός', 'δίκαιος', 'φυσικός', 'νομικός', 'φυσικός', 'αὐτην', 'ἔχω', 'δύναμις', 'δοκέω', 'νομικός', 'ἀρχή', 'διαφέρω', 'θάομαι', 'διαφέρω', 'οἷος', 'μνᾶ', 'λυτρόω', 'αἴξ', 'θύω', 'πρόβατον', 'ὅσος', 'ἕκαστος', 'νομοθετέω', 'οἷος', 'θύω', 'βρασίδᾳ', 'ψηφισματώδης', 'δοκέω', 'ἔνιοι', 'πᾶς', 'φύσις', 'ἀκίνητος', 'αὐτην', 'ἔχις', 'δύναμις', 'πῦρ', 'Πέρσης', 'καίω', 'δίκαιος', 'ὁράω', 'ἔχω', 'θεός', 'ἴσος', 'οὐδαμός', 'παρʼ', 'φύσις', 'κινέω', 'πᾶς', 'ὁμός', 'φύσις', 'φύσις', 'ποιός', 'φύσις', 'ἔχω', 'ποιός', 'οὒ', 'νομικός', 'συνθήκη', 'ἄμφω', 'κινητής', 'ὅμοιος', 'δῆλος', 'ἁρμόζω', 'διόρισις', 'φύσις', 'δεξιά', 'κρείσσων', 'ἐνδέχομαι', 'πᾶς', 'ἀμφιδέξιος', 'γίγνομαι', 'συνθήκη', 'συμφέρω', 'δίκαιος', 'ὅμοιά', 'μέτρον', 'ἴσος', 'οἰνηρός', 'σιτηρός', 'μέτρον', 'ἵημι', 'ὠνέομαι', 'μέγας', 'ἵημι', 'πωλέω', 'ἐλάσσων', 'ὅμοιος', 'φυσικός', 'ἀνθρώπινος', 'δίκαιος', 'ταὐτάζω', 'ἔπος', 'πολιτεία', 'μία', 'μόνος', 'φύσις', 'ἀριστεύς', 'δίκαιος', 'νόμιμος', 'ἕκαστος', 'ἕκαστος', 'ἔχις', 'πολύς', 'ἐκεῖνος', 'ἕκαστος', 'ἵημι', 'διαφέρω', 'ἀδίκημα', 'ἄδικος', 'δικαίωμα', 'δίκαιος', 'ἄδικος', 'φύσις', 'τάξις', 'πράσσω', 'ἀδίκημά', 'πράσσω', 'ἄδικος', 'ὅμοιος', 'δικαίωμα', 'καλέω', 'μαλλός', 'δικαιοπράγημα', 'κοινός', 'δικαίωμα', 'ἐπανόρθωμα', 'ἀδίκημα', 'ἕκαστος', 'ποῖά', 'εἶδος', 'ποσός', 'πόα', 'τυγχάνω', 'ὄντα', 'ὕστερος', 'ἐπισκεπτέος', 'ὄντα', 'δίκαιος', 'ἄδικος', 'ἀδικέω', 'δικαιοπραγέω', 'ἑκών', 'πράσσω', 'ἀέκων', 'οὔτʼ', 'ἀδικέω', 'δικαιοπραγέω', 'συμβαίνω', 'δίκαιος', 'ἄδικος', 'πράσσω', 'ἀδίκημα', 'δικαιοπράγημα', 'ὁρίζω', 'ἑκούσιος', 'ἀεκούσιος', 'ἑκούσιος', 'ψέγω', 'ἁμός', 'ἀδίκημα', 'τότʼ', 'ὥστʼ', 'ἄδικος', 'ἀδίκημα', 'ἑκούσιος', 'πρόσειμι', 'λέγω', 'ἑκούσιος', 'πρότερος', 'εἴρω', 'ἐφʼ', 'ὄντα', 'εἰδὼς', 'πράσσω', 'ὃν', 'ἵημι', 'οἷος', 'τύπτω', 'ἐκεῖνος', 'ἕκαστος', 'βία', 'ʽὥσπερ', 'εἶμι', 'λαβὼν', 'χείρ', 'τύπτω', 'ἕτερος', 'ἑκών', 'αὐτᾦ', 'ἐνδέχομαι', 'πατήρ', 'ἄνθρωπος', 'πάρειμι', 'γιγνώσκω', 'πατήρ', 'ἀγνοέω', 'ὅμοιος', 'ὁρίζω', 'ἵημι', 'πρᾶξις', 'ὅλοξ', 'βία', 'ἀεκούσιος', 'πολύς', 'φύσις', 'ὑπάρχω', 'πράσσω', 'πάσχω', 'οὔθʼ', 'ἑκούσιος', 'οὔτʼ', 'ἀκούσιόν', 'οἷος', 'γῆρας', 'ἀποθνήσκω', 'ὅμοιος', 'ἄδικος', 'δίκαιος', 'παρακαταθήκη', 'ἀποδέω', 'ἀέκων', 'φόβος', 'ὃν', 'δίκαιος', 'πράσσω', 'δικαιοπραγέω', 'φατέος', 'ὅμοιος', 'ἀέκων', 'παρακαταθήκη', 'φατέος', 'ἀδικέω', 'ἄδικος', 'πράσσω', 'ἑκούσιος', 'πράσσω', 'ὅσος', 'ἀπροαίρετος', 'ἀπροβούλευτος', 'βλάβη', 'κοινωνία', 'μετʼ', 'ἄγνοια', 'ἁμαρτήματά', 'ὃν', 'ἵημι', 'ὑπολαμβάνω', 'πρᾶξις', 'βάλλω', 'οἴομαι', 'συμβαίνω', 'ἵημι', 'οἴομαι', 'οἷος', 'τιτρώσκω', 'κεντέω', 'παράλογος', 'βλάβη', 'γίγνομαι', 'ἀτύχημα', 'παράλογος', 'ἀνίημι', 'κακία', 'ἁμάρτημα', 'ʽἁμαρτάνει', 'ἀρχη', 'αἰτία', 'ἀτυχής', 'εἰδὼς', 'προβουλεύω', 'ἀδίκημα', 'οἷος', 'ὅσος', 'θύμον', 'πάθη', 'ὅσος', 'ἀναγκαῖον', 'φυσικός', 'συμβαίνω', 'ἄνθρωπος', 'ἀδικέω', 'ἀδικήματά', 'ἄδικος', 'πονηρός', 'μοχθηρία', 'βλάβη', 'προαίρεσις', 'ἄδικος', 'μοχθηρός', 'καλός', 'θύμον', 'πρόνοια', 'κρίνω', 'ἄρχω', 'θύμον', 'πόα', 'ὀργίζω', 'γίγνομαι', 'ἀμφισβητέω', 'δίκαιος', 'ἀδικία', 'ὀργή', 'συνάλλαγμα', 'γίγνομαι', 'ἀμφισβητέω', 'ἀνάγκη', 'ἕτερος', 'μοχθηρός', 'λήθη', 'δράω', 'πρᾶγμα', 'πότερος', 'δίκαιος', 'ἀμφισβητέω', 'ʽὁ', 'ἐπιβουλεύω', 'ἀγνοεἶ', 'οἴομαι', 'ἀδικέω', 'προαίρεσις', 'βλάψις', 'ἀδικέω', 'ταῦτʼ', 'ἦδος', 'ἀδίκημα', 'ἄδικος', 'ἄδικος', 'ἀνάλογος', 'ἴσος', 'ὅμοιος', 'δίκαιος', 'δικαιοπραγέω', 'δικαιοπραγέω', 'μόνος', 'ἑκὼν', 'πράσσω', 'ἀεκούσιος', 'συγγνωμονικός', 'συγγνωμονικός', 'ὅσος', 'μόνος', 'διʼ', 'ἄγνοια', 'ἁμαρτάνω', 'συγγνωμονικός', 'ὅσος', 'διʼ', 'ἄγνοια', 'πάθος', 'φυσικός', 'μήτʼ', 'ἀνθρώπινος', 'συγγνωμονικός', 'ἀπορέω', 'ἱκανός', 'ὁρίζω', 'ἀδικέω', 'ἀδικέω', 'πρότερος', 'εὐριπίδης', 'ἐρῶ', 'ἄτοπος', 'μήτηρ', 'κατακτείνω', 'βραχὺς', 'λόγος', 'ἑκὼν', 'ἑκών', 'ἑκών', 'ἑκών', 'πότερος', 'ἑκών', 'ἀδικέω', 'οὒ', 'ἀεκούσιος', 'ἅπας', 'ἀδικέω', 'πᾶς', 'ἑκούσιος', 'ἀρά', 'πᾶς', 'ἐκεῖνος', 'ἀδικέω', 'πᾶς', 'ἑκούσιος', 'ἑκούσιος', 'ἀεκούσιος', 'ὅμοιος', 'δικαιόω', 'δικαιοπραγέω', 'πᾶς', 'ἑκούσιος', 'ὥστʼ', 'εὔλογος', 'ἀντίκειμαι', 'ὅμοιος', 'ἑκάτερος', 'τʼ', 'ἀδικέω', 'δικαιόω', 'ἑκούσιος', 'ἀεκούσιος', 'ἄτοπος', 'δοκέω', 'δικαιόω', 'πᾶς', 'ἑκούσιος', 'ἔνιοι', 'δικαιόω', 'ἑκών', 'διαπορέω', 'πότερος', 'ἄδικος', 'πεπονθὼς', 'ἀδικέω', 'πᾶς', 'πράσσω', 'πάσχω', 'ἐνδέχομαι', 'ἀμφότερος', 'μεταλαμβάνω', 'δίκαιος', 'ὅμοιος', 'δῆλος', 'ἄδικος', 'ταὐτόν', 'ἄδικος', 'πράσσω', 'ἀδικέω', 'ἄδικος', 'πάσχω', 'ἀδικέω', 'ὅμοιος', 'δικαιοπραγέω', 'δικαιόω', 'ἀδύνατος', 'ἀδικέω', 'δικαιόω', 'ἁπλόω', 'ἀδικέω', 'βλάπτω', 'ἑκών', 'ἑκών', 'ὃν', 'ἀκρατης', 'ἑκὼν', 'βλάπτω', 'ἑκών', 'τʼ', 'ἀδικέω', 'κἂν', 'ἐνδέχομαι', 'ἀδικέω', 'ἵημι', 'ἐνδέχομαι', 'ἀδικέω', 'ἑκὼν', 'διʼ', 'ἀκρασία', 'ὑπʼ', 'βλάπτω', 'ἑκών', 'ὥστʼ', 'ἐάω', 'ἑκόντʼ', 'ἀδικέω', 'ὀρθός', 'διόρισις', 'προσθετέος', 'βλάπτω', 'ὃν', 'ὣς', 'ἐκεῖνος', 'βούλησις', 'βλάπτω', 'ἑκὼν', 'ἄδικος', 'πάσχω', 'ἀδικέω', 'ἑκών', 'βούλομαι', 'ἀκρατής', 'βούλησις', 'πράσσω', 'βούλομαι', 'οἴομαι', 'σπουδαῖος', 'ἀκρατης', 'οἴομαι', 'δεῖ', 'πράσσω', 'πράσσω', 'δίδωμι', 'ὅμηρός', 'φημί', 'δίδωμι', 'γλαυκός', 'Διομήδης', 'χρύσεος', 'χαλκεία', 'ἑκατόμβοιʼ', 'ἐννεάβοιος', 'ηομ', 'ιλ', 'ἀδικέω', 'δίδωμι', 'ἀδικέω', 'δεῖ', 'ὑπάρχω', 'ἀδικέω', 'ἑκούσιος', 'δῆλος', 'προαιρέω', 'δύʼ', 'εἶπον', 'πότερόν', 'ποτʼ', 'ἀδικέω', 'νέμω', 'ἀξία', 'πλείων', 'χόω', 'ἀδικέω', 'ἐνδέχομαι', 'πρότερος', 'λέγω', 'διανεμόομαι', 'ἀδικέω', 'χόω', 'πλείων', 'εἶμι', 'πλείων', 'ἕτερος', 'νέμος', 'εἰδὼς', 'ἑκών', 'ἀδικέω', 'δοκέω', 'μέτριος', 'ποιέω', 'ἐπιεικης', 'ἐλαττωτικός', 'ἁπλόος', 'ἕτερος', 'ἀγαθός', 'τυγχάνω', 'πλεονεκτέω', 'οἷος', 'δόξα', 'ἁπλόω', 'κᾶλον', 'λύω', 'διόρισις', 'ἀδικέω', 'πάσχω', 'βούλησις', 'ἀδικέω', 'βλάπτω', 'μόνος', 'φανερός', 'διανεμόομαι', 'ἀδικέω', 'πλείων', 'χόω', 'ἄδικος', 'ὑπάρχω', 'ἀδικέω', 'ἑκών', 'ποιέω', 'ἀρχη', 'πρᾶξις', 'διανέμω', 'λαμβάνω', 'ἔπος', 'ποιέω', 'λέγω', 'ἄψυχος', 'κτείνω', 'χείρ', 'οἰκέτης', 'ἀδικέω', 'ποιέω', 'ἄδικος', 'κρίνω', 'ἀδικέω', 'νομικός', 'δίκαιος', 'ἄδικος', 'κρίσις', 'ἄδικος', 'ἕτερος', 'νομικός', 'δίκαιος', 'πρότερος', 'κρίνω', 'ἄδικος', 'πλεονεκτέω', 'χάρις', 'τιμωρία', 'κἂν', 'εἶμι', 'μερίζω', 'ἀδίκημα', 'κρίνω', 'ἄδικος', 'πλείων', 'ἔχις', 'ἐκεῖνος', 'ἀγρός', 'κρίνω', 'ἀγρός', 'ἀργύριον', 'λαμβάνω', 'ἄνθρωπος', 'ἐφʼ', 'οἴομαι', 'ἀδικέω', 'δίκαιος', 'ῥᾴδιος', 'συγγίγνομαι', 'γείτων', 'πατάσσω', 'πλησίος', 'δίδωμι', 'χειρίς', 'ἀργύριον', 'ῥᾴδιος', 'ποιέω', 'ῥᾴδιος', 'οὔτʼ', 'ὅμοιος', 'γιγνώσκω', 'δίκαιος', 'ἄδικος', 'οἴομαι', 'σοφός', 'νόμος', 'λέγω', 'χαλεπός', 'σύνειμι', 'ʽἀλλʼ', 'ταῦτʼ', 'δίκαιος', 'συμβεβηκόσ', 'δίκαιος', 'πλείων', 'ἔργον', 'ὑγιεινός', 'οἶδα', 'ἔπος', 'ἄκος', 'μέλι', 'οἶνος', 'ἑλλέβορος', 'καῦσις', 'τομή', 'οἶδα', 'ῥᾴδιος', 'δεῖ', 'νέμω', 'ὑγίεια', 'ποτός', 'τοσοῦτος', 'ἔργον', 'ὅσος', 'ἰατρός', 'διʼ', 'δίκαιος', 'οἴομαι', 'ἥσσων', 'ἀδικέω', 'ἥσσων', 'δίκαιος', 'μαλλός', 'δύναιτʼ', 'ἕκαστος', 'πράσσω', 'συγγίγνομαι', 'γυνή', 'πατάσσω', 'ἀνδρεῖος', 'ἀσπίς', 'ἀφίημι', 'στράπτω', 'ἐφʼ', 'ὁποτεραοῦν', 'τρέχω', 'δειλαίνω', 'ἀδικέω', 'ποιέω', 'πλέω', 'ποιέω', 'ἰατρεύω', 'ὑγιάζειν', 'τέμνω', 'τέμνω', 'φαρμακεύω', 'φαρμακεύω', 'δίκαιος', 'μέτειμι', 'ἁπλόω', 'ἀγαθός', 'ἔχω', 'ὑπερβολην', 'ἔλλειψιν', 'ὑπερβολη', 'οἷος', 'ἴσος', 'θεός', 'μόριον', 'ὠφέλιμος', 'ἀνίατος', 'κακός', 'πᾶς', 'βλάπτω', 'τοῦτʼ', 'ἀνθρώπινόν', 'ἐπιείκεια', 'ἐπιεικής', 'ἔχις', 'ἐπιείκεια', 'δικαιοσύνη', 'ἐπιεικής', 'δίκαιος', 'ἐχόμενόν', 'εἶπον', 'ταὐτόν', 'ἁπλόω', 'οὔθʼ', 'ἕτερος', 'γένος', 'φαίνω', 'ἐπιεικής', 'ἐπαινέω', 'ἀνήρ', 'μεταφέρω', 'ἀγαθός', 'ἐπιεικής', 'βελτίων', 'λόγος', 'ἀκολουθέω', 'φαίνω', 'ἄτοπος', 'ἐπιεικής', 'δίκαιόν', 'ὂν', 'ἐπαινετός', 'δίκαιος', 'σπουδαῖος', 'ἐπιεικής', 'δίκαιος', 'ἄμφω', 'σπουδαῖος', 'ταὐτόν', 'ἀπορία', 'συμβαίνω', 'ἐπιεικής', 'ἔχις', 'ἅπας', 'τρόπος', 'ὀρθός', 'ὑπεναντίος', 'ἐπιεικής', 'δίκαιος', 'ὂν', 'βέλτιόν', 'δίκαιος', 'γένος', 'ὂν', 'βέλτιόν', 'δίκαιος', 'ταὐτόν', 'δίκαιος', 'ἐπιεικής', 'ἄμφω', 'σπουδαῖος', 'κρείσσων', 'ἐπιεικής', 'ποιέω', 'ἀπορία', 'ἐπιεικής', 'δίκαιος', 'νόμος', 'ἐπανόρθωμα', 'νόμιμος', 'δίκαιος', 'αἴτιος', 'νόμος', 'πᾶς', 'ἔνιοι', 'οἷόν', 'ὀρθός', 'εἶπον', 'ἀνάγκη', 'εἶπον', 'οἷόν', 'ὀρθός', 'πλείων', 'λαμβάνω', 'νόμος', 'ἥσσων', 'ὀρθός', 'ἁμάρτημα', 'νόμος', 'νομοθέτης', 'φύσις', 'πράγματός', 'εὐθὺς', 'πρακτός', 'ὕλη', 'λέγω', 'νόμος', 'συμβαίνω', 'ὀρθός', 'ἔχις', 'παραλείπω', 'νομοθέτης', 'ἁμαρτάνω', 'ἁπλόω', 'ἐπανορθόω', 'ἐλλείπω', 'κἂν', 'νομοθέτης', 'εἶπον', 'πηρός', 'οἶδα', 'νομοθετέω', 'δίκαιος', 'βέλτιόν', 'δίκαιος', 'ἁπλόω', 'ἁπλόω', 'ἁμάρτημα', 'φύσις', 'ἐπιεικής', 'ἐπανόρθωμα', 'νόμος', 'ἐλλείπω', 'αἴτιος', 'πᾶς', 'νόμος', 'ἔνιοι', 'ἀδύνατος', 'τίθημι', 'νόμος', 'ψήφισμα', 'δεῖ', 'ἀόριστος', 'ἀόριστος', 'κάνεον', 'λέσβιος', 'οἰκοδομία', 'μολίβδινος', 'κάνεον', 'σχῆμα', 'λίθος', 'μετακινέω', 'μένος', 'κάνεον', 'ψήφισμα', 'πρᾶγμα', 'ἐπιεικής', 'δίκαιος', 'βελτίων', 'δίκαιος', 'δῆλος', 'φανερός', 'ἐπιεικης', 'προαιρετικός', 'πρακτικός', 'ἀκριβοδίκαιος', 'χείρων', 'ἐλαττωτικός', 'χόω', 'νόμος', 'βοηθός', 'ἐπιεικής', 'ἕξις', 'ἐπιείκεια', 'δικαιοσύνη', 'ἕτερος', 'ἕξις', 'πότερος', 'ἐνδέχομαι', 'ἀδικέω', 'φανερός', 'δίκαιος', 'πᾶς', 'ἀρετην', 'νόμος', 'οἷος', 'κελεύω', 'ἀποκτείνω', 'νόμος', 'κελεύω', 'ἀπαγορεύω', 'νόμος', 'βλάπτω', 'ἑκών', 'ἀδικέω', 'ἑκὼν', 'εἰδὼς', 'ὃν', 'διʼ', 'ὀργην', 'ἑκὼν', 'δράω', 'ὀρθός', 'λόγος', 'ἐάω', 'νόμος', 'ἀδικέω', 'πόλις', 'ἑκὼν', 'πάσχω', 'ἀδικέω', 'ἑκών', 'πόλις', 'ζημιόω', 'ἀτιμία', 'πρόσειμι', 'πόλις', 'ἀδικέω', 'ἄδικος', 'μόνος', 'ἄδικος', 'ὅλοξ', 'φαῦλος', 'ἀδικέω', 'ʽτοῦτο', 'ἐκεῖνος', 'ἄδικος', 'πονηρός', 'δειλός', 'ὅλοξ', 'χόω', 'πονηρία', 'ὥστʼ', 'ἀδικεἶ', 'ἁμός', 'ἐάω', 'ἀφαιρέω', 'πρόσκειμαι', 'ἀδύνατος', 'πλείων', 'ἀνάγκη', 'δίκαιος', 'ἄδικος', 'ἑκούσιόν', 'προαίρεσις', 'πρότερος', 'πάσχω', 'δοκέω', 'ἀδικέω', 'ταὐτάζω', 'ἁμός', 'πάσχω', 'ποιέω', 'ἐάω', 'ἑκών', 'ἀδικέω', 'ἀνίημι', 'μέρος', 'ἀδίκημα', 'ἀδικέω', 'μοιχεύω', 'τοιχωρυχέω', 'τοῖχος', 'κλέπτω', 'ὅλοξ', 'λύω', 'ἀδικέω', 'διόρισις', 'ἑκούσιος', 'ἀδικέω', 'φανερός', 'ἄμφω', 'φαῦλος', 'ἀδικέω', 'ἀδικέω', 'ʽτό', 'ἐλάσσων', 'πλείων', 'ἔχω', 'μέσος', 'ὑγιεινός', 'ἰατρικός', 'εὐεκτικόν', 'γυμναστικᾖ', 'ὁμός', 'χείρων', 'ἀδικέω', 'ἀδικέω', 'κακία', 'ψεκτός', 'κακία', 'τέλειος', 'ἁπλόω', 'ʽοὐ', 'ἅπας', 'ἑκούσιος', 'ἀδικίασ', 'ἀδικέω', 'ἀνίημι', 'κακία', 'ἀδικία', 'ἀδικέω', 'ἥσσων', 'φαῦλος', 'κωλύω', 'μέγας', 'κακός', 'μέλος', 'τέχνη', 'πλευρῖτιν', 'λέγω', 'μέγας', 'νόσος', 'πρόσπταισμα', 'γένοιτʼ', 'ποτός', 'ἕτερος', 'πίπτω', 'συμβαίνω', 'πολέμιος', 'λαμβάνω', 'ἀποθνήσκω', 'μεταφοράν', 'ὁμοιότης', 'δίκαιος', 'τίσις', 'πᾶς', 'δίκαιος', 'δεσποτικός', 'οἰκονομικός', 'λόγος', 'διίστημι', 'λόγος', 'ἔχω', 'μέρος', 'ψυχή', 'ἄλογος', 'βλέπω', 'δοκέω', 'ἀδικία', 'πάσχω', 'ὄρεξις', 'ἄρχων', 'ἀλλήλων', 'δίκαιόν', 'δικαιοσύνη', 'ἠθικός', 'ἀρετή', 'ὁρίζω', 'τρόπος', 'βοοκ', 'ἔπος', 'τυγχάνω', 'πρότερος', 'δεῖ', 'μέσος', 'αἱρέω', 'ὑπερβολην', 'ἔλλειψιν', 'μέσος', 'λόγος', 'ὀρθός', 'λέγω', 'διαιρέω', 'πᾶς', 'ἕξις', 'σκοπός', 'ὃν', 'λόγος', 'χόω', 'ἐπιτείνω', 'ἄνειμι', 'ὅρος', 'μεσότης', 'ἃς', 'φημί', 'ὑπερβολή', 'ἐλλείψεως', 'ὀρθός', 'λόγος', 'εἶπον', 'ἀληθής', 'σαφής', 'ἐπιμέλεια', 'ὅσος', 'ἐπιστήμη', 'τοῦτʼ', 'ἀληθής', 'εἶπον', 'πλείων', 'ἐλάσσων', 'δεῖ', 'πονέω', 'ῥᾳθυμέω', 'μέσος', 'ὀρθός', 'λόγος', 'μόνος', 'χόω', 'οἶδα', 'πλείων', 'οἷος', 'πόα', 'δεῖ', 'προσφέρω', 'σῶμα', 'εἶμι', 'εἶπον', 'ὅσος', 'ἰατρικη', 'κελεύω', 'χόω', 'δεῖ', 'ψυχή', 'ἕξις', 'μόνος', 'τοῦτʼ', 'ὀρθός', 'λόγος', 'ὅρος', 'ψυχή', 'ἀρετή', 'ἦθος', 'φημί', 'διάνοια', 'ἠθικός', 'διέρχομαι', 'λοιπός', 'ψυχή', 'πρότερος', 'λέγω', 'πρότερος', 'λέγω', 'δύʼ', 'μέρος', 'ψυχή', 'λόγος', 'ἔχω', 'ἄλογος', 'λόγος', 'τρόπος', 'διαιρετέος', 'ὑπόκειμαι', 'λόγος', 'ἵημι', 'θεωρέω', 'ὄντα', 'ὅσος', 'ἀρχή', 'ἐνδέχομαι', 'ἔχω', 'ἵημι', 'γένος', 'ἕτερος', 'ψυχή', 'μορία', 'ἕτερος', 'γένος', 'ἑκάτερος', 'ὁμοιότητά', 'οἰκειότης', 'γνῶσις', 'ὑπάρχω', 'λέγω', 'ἐπιστημονικόν', 'λογιστικός', 'βουλεύω', 'λογίζομαι', 'ταὐτόν', 'βουλεύω', 'ἔχω', 'λογιστικός', 'ἵημι', 'μέρος', 'λόγος', 'ληπτέος', 'ἄρʼ', 'ἑκάτερος', 'βέλτιστος', 'ἕξις', 'ἀρετη', 'ἑκάτερος', 'ἀρετη', 'ἔργον', 'οἰκεῖος', 'τριάς', 'ψυχή', 'κυρία', 'πρᾶξις', 'ἀλήθεια', 'αἴσθησις', 'νόος', 'ὄρεξις', 'αἴσθησις', 'ἀρχη', 'πρᾶξις', 'δῆλος', 'θηρίον', 'αἴσθησις', 'ἔχω', 'πρᾶξις', 'κοινωνέω', 'διάνοια', 'κατάφασις', 'ἀπόφασις', 'τοῦτʼ', 'ὄρεξις', 'δίωξις', 'φυγή', 'ὥστʼ', 'ἐπειδη', 'ἠθικη', 'ἀρετη', 'ἕξις', 'προαιρετικός', 'προαίρεσις', 'ὄρεξις', 'βουλευτικός', 'δεῖ', 'λόγος', 'ἀληθής', 'ὄρεξις', 'ὀρθός', 'προαίρεσις', 'σπουδαῖος', 'φανή', 'διώκω', 'διάνοια', 'ἀλήθεια', 'πρακτικός', 'θεωρητικός', 'διάνοια', 'πρακτικός', 'ποιητικός', 'κακός', 'ἀληθής', 'ψεῦδος', 'ʽτοῦτο', 'πᾶς', 'διανοητικός', 'ἔργον', 'πρακτικός', 'διανοητικός', 'ἀλήθεια', 'ὁμόλογος', 'ὄρεξις', 'ὀρθός', 'πρᾶξις', 'ἀρχη', 'προαίρεσιςὅθεν', 'κίνησις', 'ἵημι', 'ἕνεκαπροαιρέσεως', 'ὄρεξις', 'λόγος', 'ἕνεκά', 'οὔτʼ', 'ἀνίημι', 'νόος', 'διάνοια', 'οὔτʼ', 'ἀνίημι', 'ἠθικός', 'ἕξις', 'προαίρεσις', 'εὐπραξία', 'ἐναντίος', 'πρᾶξις', 'ἀνίημι', 'διάνοια', 'ἦθος', 'διάνοια', 'αὐτη', 'κινέω', 'ἕνεκά', 'πρακτικός', 'ποιητικός', 'ἄρχω', 'ποιέω', 'πᾶς', 'πόα', 'τέλος', 'ἁπλόω', 'ʽἀλλά', 'τινόσ', 'ποιητός', 'πρακτός', 'εὐπραξία', 'τέλος', 'ὄρεξις', 'ὀρεκτικός', 'νόος', 'προαίρεσις', 'ὄρεξις', 'διανοητικός', 'ἀρχη', 'ἄνθρωπος', 'προαιρετός', 'οἷος', 'προαιρέω', 'Ἴλιος', 'πορθέω', 'βουλεύω', 'ἐνδέχομαι', 'γίγνομαι', 'ὀρθός', 'ἀγαθός', 'μόνος', 'θεός', 'στερίσκω', 'ἀγένητος', 'ποιέω', 'ἅσσʼ', 'ἀμφότερος', 'νοητικός', 'μορία', 'ἀλήθεια', 'ἔργον', 'ἃς', 'ἕξις', 'ἀληθεύω', 'ἑκάτερος', 'ἀρετή', 'ἄμφω', 'λέγω', 'ἀληθεύω', 'ψυχή', 'καταφαίνω', 'ἀποφαίνω', 'ἀριθμός', 'τέχνη', 'ἐπιστήμη', 'φρόνησις', 'σοφία', 'νόος', 'ὑπόληψις', 'δόξα', 'ἐνδέχομαι', 'διαψεύδω', 'ἐπιστήμη', 'φανερός', 'δεῖ', 'ἀκριβολογέομαι', 'ἀκολουθέω', 'ὁμοιότης', 'πᾶς', 'ὑπολαμβάνω', 'ἐπίσταμαι', 'μηδʼ', 'ἐνδέχομαι', 'ἔχω', 'ἔξεστι', 'θεωρέω', 'γίγνομαι', 'λανθάνω', 'ἀνάγκη', 'ἐφίστημι', 'ἀίδιος', 'ἀνάγκη', 'ὄντα', 'ἁπλόω', 'πᾶς', 'ἀίδιος', 'ἀίδιος', 'ἀγένητος', 'ἄφθαρτος', 'διδακτός', 'ἅπας', 'ἐπιστήμη', 'δοκέω', 'ἐφίστημι', 'μαθητός', 'πᾶς', 'διδασκαλία', 'ἀναλυτικοῖς', 'λέγω', 'διʼ', 'ἐπαγωγή', 'συλλογισμός', 'ἐπαγωγη', 'ἀρχή', 'συλλογισμός', 'εἶμι', 'ἀρχή', 'συλλογισμός', 'συλλογισμός', 'ἐπαγωγη', 'ἐπιστήμη', 'ἕξις', 'ἀποδεικτική', 'ὅσος', 'προσδιορίζω', 'ἀναλυτικοῖς', 'πιστεύω', 'γνώριμος', 'οὖς', 'ἀρχή', 'ἐπιστάτης', 'μαλλός', 'συμπέρασμα', 'ἕξις', 'ἐπιστήμη', 'ἐπιστήμη', 'ὁρίζω', 'τρόπος', 'ἔχω', 'ποιητός', 'πρακτός', 'ἕτερος', 'ποίησις', 'πρᾶξις', 'ʽπιστεύομεν', 'ἐξωτερικοῖς', 'λόγοισ', 'λόγος', 'ἕξις', 'πρακτικός', 'ἕτερόν', 'λόγος', 'ποιητικός', 'ἕξις', 'περιέχω', 'ὑπʼ', 'ἀλλήλων', 'πρᾶξις', 'ποίησις', 'ποίησις', 'πρᾶξίς', 'ἔπος', 'οἰκοδομικη', 'τέχνη', 'ἕξις', 'λόγος', 'ποιητικός', 'τέχνη', 'λόγος', 'ποιητικός', 'ἕξις', 'τέχνη', 'ταὐτόν', 'ἐάω', 'τέχνη', 'ἕξις', 'λόγος', 'ἀληθής', 'ποιητικός', 'τέχνη', 'πᾶς', 'γένεσις', 'τεχνάζω', 'θεωρέω', 'γένηταί', 'ἀρχη', 'ποιέω', 'ἀνάγκη', 'ὄντα', 'τέχνη', 'φύσις', 'ἔχω', 'ἀρχή', 'ἔπος', 'ποίησις', 'πρᾶξις', 'ἕτερος', 'ἀνάγκη', 'τέχνη', 'ποίησις', 'πρᾶξις', 'τρόπος', 'τύχη', 'τέχνη', 'ἀγαθός', 'φημί', 'τέχνη', 'τύχη', 'στέργω', 'τύχη', 'τέχνη', 'τέχνη', 'εἴρω', 'ἕξις', 'λόγος', 'ἀληθής', 'ποιητικός', 'ἀτεχνία', 'ἐναντίος', 'λόγος', 'ψευδής', 'ποιητικός', 'ἕξις', 'ἔχω', 'φρόνησις', 'λαμβάνω', 'λέγω', 'φρόνιμος', 'δοκέω', 'φρόνιμος', 'δύναμαι', 'καλός', 'βουλεύω', 'ἀγαθός', 'μέρος', 'οἷος', 'πόα', 'ὑγίεια', 'ἰσχύς', 'πόα', 'ζάω', 'ὅλοξ', 'σημεῖον', 'φρόνιμος', 'λέγω', 'τέλος', 'σπουδαῖος', 'λογίζομαι', 'τέχνη', 'ὅλοξ', 'ἐάω', 'φρόνιμος', 'βουλευτικός', 'βουλεύω', 'ἀδύνατος', 'ἔχω', 'πράσσω', 'ὥστʼ', 'ἐπιστήμη', 'μετʼ', 'ἀπόδειξις', 'ἀρχή', 'ἐνδέχομαι', 'ἔχω', 'ἀπόδειξις', 'ʽπάντα', 'ἐνδέχομαι', 'ἔχω', 'βουλεύω', 'ἀνάγκη', 'ὄντα', 'ἐάω', 'φρόνησις', 'ἐπιστήμη', 'τέχνη', 'ἐπιστήμη', 'ἐνδέχομαι', 'πρακτός', 'ἔχω', 'τέχνη', 'γένος', 'πρᾶξις', 'ποίησις', 'λείπω', 'αὐτην', 'ἕξις', 'ἀληθής', 'λόγος', 'πρακτικός', 'ἄνθρωπος', 'ἀγαθός', 'κάκη', 'ποίησις', 'ἕτερος', 'τέλος', 'πρᾶξις', 'ἐάω', 'αὐτη', 'εὐπραξία', 'τέλος', 'περικλέα', 'φρόνιμος', 'οἴομαι', 'ἀγαθός', 'ἄνθρωπος', 'δύναμαι', 'θεωρέω', 'ἡγέομαι', 'οἰκονομικοὺς', 'πολιτικός', 'ἔρχομαι', 'σωφροσύνη', 'προσαγορεύω', 'ὄνομα', 'φρόνησις', 'σώζω', 'ὑπόληψις', 'ἅπας', 'ὑπόληψις', 'διαφθείρω', 'διαστρέφω', 'ἡδὺ', 'λυπηρός', 'οἷος', 'τρίγωνος', 'ὀρθός', 'ἔχις', 'ἔχις', 'πρακτός', 'ἀρχή', 'πρακτός', 'ἵημι', 'πρακτός', 'διʼ', 'ἡδονην', 'λύπη', 'εὐθὺς', 'φαίνω', 'ἀρχή', 'δεῖ', 'τοῦθʼ', 'αἱρέω', 'πᾶς', 'πράσσω', 'κακία', 'φθαρτικός', 'ἀρχή', 'ὥστʼ', 'ἀνάγκη', 'φρόνησις', 'ἕξις', 'λόγος', 'ἀληθής', 'ἀνθρώπινος', 'ἀγαθός', 'πρακτικός', 'τέχνη', 'ἀρετή', 'φρόνησις', 'τέχνη', 'ἑκὼν', 'αἱρετός', 'φρόνησις', 'ἥσσων', 'ἀρετή', 'δῆλος', 'ἀρετή', 'τέχνη', 'μέρος', 'ψυχή', 'λόγος', 'ἔχω', 'ἕτερος', 'ἐάω', 'ἀρετή', 'δοξαστικοῦ', 'δόξα', 'ἔχω', 'φρόνησις', 'ἕξις', 'λόγος', 'μόνος', 'σημεῖον', 'λήθη', 'ἕξις', 'φρόνησις', 'ἔπος', 'ἐπιστήμη', 'ὑπόληψις', 'ἀνάγκη', 'ὄντα', 'εἶμι', 'ἀρχή', 'ἀποδεικτῶν', 'πᾶς', 'ἐπιστήμη', 'ʽμετά', 'λόγος', 'ἐπιστήμἠ', 'ἀρχή', 'ἐπιστητοῦ', 'οὔτʼ', 'ἐπιστήμη', 'ἐάω', 'τέχνη', 'φρόνησις', 'ἐφίστημι', 'ἀποδεικτόν', 'αἳ', 'τυγχάνω', 'ἔχω', 'σοφία', 'σοφός', 'ἔνιοι', 'ἔχω', 'ἀπόδειξίν', 'ἀληθεύω', 'διαψεύδω', 'ἔχω', 'ἐπιστήμη', 'φρόνησίς', 'σοφία', 'νόος', 'μηδείς', 'ἐνδέχομαι', 'ʽλέγω', 'τριάς', 'φρόνησις', 'ἐπιστήμη', 'σοφία', 'λείπω', 'νόος', 'ἀρχή', 'σοφία', 'τέχνη', 'ἀκριβής', 'τέχνη', 'ἀποδίδωμι', 'οἷος', 'φειδίαν', 'λιθουργός', 'σοφός', 'πολύκλειτος', 'ἀνδριαντοποιός', 'σοφία', 'ἀρετη', 'τέχνη', 'σοφοὺς', 'οἴομαι', 'ὅλοξ', 'μέρος', 'σοφός', 'ὅμηρός', 'φημί', 'Μαργίτης', 'οὔτʼ', 'ἂρ', 'σκαπτήρ', 'θεός', 'θέσαν', 'οὔτʼ', 'ἀροτήρ', 'οὔτʼ', 'σοφός', 'δῆλος', 'ἀκριβής', 'ἐπιστήμη', 'ἐάω', 'σοφία', 'δεῖ', 'σοφός', 'μόνος', 'ἀρχή', 'οἶδα', 'ἀρχή', 'ἀληθεύω', 'ὥστʼ', 'ἐάω', 'σοφία', 'νόος', 'ἐπιστήμη', 'κεφαλή', 'ἐπιστήμη', 'τίμιος', 'ἄτοπος', 'εἶμι', 'πολιτικός', 'φρόνησις', 'σπουδαῖος', 'οἴομαι', 'ἄριστον', 'κόσμος', 'ἄνθρωπός', 'ὑγιεινός', 'ἀγαθός', 'ἕτερος', 'ἄνθρωπος', 'ἰχθύς', 'λευκόν', 'εὐθὺ', 'ταὐτόν', 'σοφός', 'πᾶς', 'εἶπον', 'φρόνιμος', 'ἕτερος', 'ἕκαστος', 'θεωρέω', 'φημί', 'φρόνιμος', 'ἐπιτρέπω', 'θηρίον', 'ἔνιοι', 'φρόνιμά', 'φάσις', 'ὅσος', 'βιός', 'φαίνω', 'δύναμις', 'προνοητικός', 'φανερός', 'ἐάω', 'σοφία', 'πολιτικός', 'ὠφέλιμος', 'ἐρέω', 'σοφία', 'πολύς', 'σοφία', 'μία', 'ἅπας', 'ἀγαθός', 'ζωή', 'ἕτερος', 'ἕκαστος', 'ἰατρικη', 'μία', 'πᾶς', 'ὄντα', 'βέλτιστος', 'ἄνθρωπος', 'ζωή', 'διαφέρω', 'ἄνθρωπος', 'πολὺ', 'θεῖος', 'φύσις', 'οἷος', 'φανερώτατά', 'κόσμος', 'συνίστημι', 'δῆλος', 'σοφία', 'ἐπιστήμη', 'νόος', 'τίμιος', 'φύσις', 'ἀναξαγόραν', 'Θαλῆς', 'σοφοὺς', 'φρόνιμος', 'φάσις', 'εἶδον', 'περισσός', 'θαυμαστής', 'χαλεπός', 'δαιμόνιον', 'οἶδα', 'φάσις', 'ἄχρηστος', 'ἀνθρώπινος', 'ἀγαθός', 'ζητέω', 'φρόνησις', 'ἀνθρώπινος', 'βουλεύω', 'φρόνιμος', 'τοῦτʼ', 'ἔργον', 'εἶναί', 'φημί', 'βουλεύω', 'βουλεύω', 'ἀδύνατος', 'ἔχω', 'ὅσος', 'τέλος', 'πρακτός', 'ἀγαθός', 'ἁπλόω', 'εὔβουλος', 'ἄριστον', 'ἄνθρωπος', 'πρακτός', 'στοχαστικός', 'λογισμός', 'φρόνησις', 'μόνος', 'δεῖ', 'ἕκαστος', 'γνωρίζω', 'πρακτικός', 'πρᾶξις', 'ἕκαστος', 'ἔνιοι', 'ἕτερος', 'πρακτικός', 'ἔμπειρος', 'οἶδα', 'κοῦφος', 'εὔπεπτος', 'κρέας', 'ὑγιεινός', 'πόα', 'κοῦφος', 'ἀγνοέω', 'ποίησις', 'ὑγίεια', 'εἰδὼς', 'ὀρνίθειος', 'κοῦφος', 'ὑγιεινός', 'ποίησις', 'μαλλός', 'φρόνησις', 'πρακτικός', 'δεῖ', 'ἄμφω', 'ἔχω', 'μαλλός', 'ἐάω', 'ἀρχιτεκτονική', 'πολιτικός', 'φρόνησις', 'αὐτη', 'ἕξις', 'ταὐτόν', 'πόλις', 'ἀρχιτεκτονικη', 'φρόνησις', 'νομοθετικός', 'ἕκαστος', 'κοινός', 'ἔχις', 'ὄνομα', 'πολιτικός', 'πρακτικός', 'βουλευτικός', 'ψήφισμα', 'πρακτός', 'ἔσχατος', 'πολιτεύω', 'μόνος', 'λέγω', 'μόνος', 'πράσσω', 'χειροτέχνης', 'δοκέω', 'φρόνησις', 'μάλιστʼ', 'ἕνος', 'ἔχις', 'κοινός', 'ὄνομα', 'φρόνησις', 'ἐκεῖνος', 'οἰκονομία', 'νομοθεσία', 'πολιτικός', 'βουλευτικός', 'δικαστικός', 'εἶδος', 'ἐάω', 'γνῶσις', 'οἶδα', 'ἔχις', 'διαφορά', 'πολύς', 'δοκέω', 'εἰδὼς', 'διατριβή', 'φρόνιμος', 'πολιτικός', 'πολυπράγμων', 'εὐριπίδης', 'φρονέω', 'πηρός', 'πολύς', 'στρατός', 'ἴσος', 'μετέχω', 'περισσοὺς', 'πλείων', 'εὑρίσκω', 'φρ', 'ʽδινδορφ', 'ζητέω', 'ἀγαθός', 'οἴομαι', 'δεῖ', 'πράσσω', 'δόξα', 'ἔρχομαι', 'φρόνιμος', 'ἴσος', 'ἀνίημι', 'οἰκονομία', 'ἀνίημι', 'πολιτεία', 'δεῖ', 'διοικέω', 'ἄδηλος', 'σκεπτέος', 'σημεῖον', 'γεωμετρικός', 'νέος', 'μαθηματικός', 'γίγνομαι', 'σοφός', 'φρόνιμος', 'δοκέω', 'γίγνομαι', 'αἴτιος', 'ἕκαστά', 'φρόνησις', 'γίγνομαι', 'γνώριμος', 'ἐμπειρία', 'ναῦς', 'ἔμπειρος', 'πλῆθος', 'χρόνος', 'ποιέω', 'ἐμπειρία', 'ἔπος', 'τοῦτʼ', 'σκέπτομαι', 'μαθηματικός', 'παῖς', 'γένοιτʼ', 'σοφός', 'φυσικός', 'διʼ', 'ἀφαιρέσεώς', 'ἀρχή', 'ἐμπειρία', 'πιστεύω', 'νέος', 'λέγω', 'ἄδηλος', 'ἁμάρτημα', 'βουλεύω', 'ἕκαστος', 'πᾶς', 'βαρύσταθμος', 'ὕδωρ', 'φαῦλος', 'βαρύσταθμος', 'φρόνησις', 'ἐπιστήμη', 'φανερός', 'ἔσχατος', 'εἴρω', 'πρακτός', 'ἀντίκειμαι', 'νόος', 'νόος', 'ὅρος', 'λόγος', 'ἔσχατος', 'ἵημι', 'ἐπιστήμη', 'αἴσθησις', 'ἴδιος', 'οἷος', 'αἰσθάνομαι', 'μαθηματικός', 'ἔσχατος', 'τρίγωνος', 'ἵστημι', 'ἄκος', 'μαλλός', 'αἴσθησις', 'φρόνησις', 'ἐκεῖνος', 'εἶδος', 'ζητέω', 'βουλεύω', 'διαφέρω', 'βουλεύω', 'ζητέω', 'δεῖ', 'λαμβάνω', 'εὐβουλία', 'πότερος', 'ἐπιστήμη', 'δόξα', 'εὐστοχία', 'γένος', 'ἐπιστήμη', 'ζητέω', 'οἶδα', 'εὐβουλία', 'βουλή', 'ζητέω', 'λογίζομαι', 'εὐστοχία', 'ἀνίημι', 'λόγος', 'ταχύς', 'εὐστοχία', 'βουλεύω', 'πολὺν', 'χρόνος', 'φάσις', 'πράσσω', 'δεῖ', 'ταχὺ', 'βουλεύω', 'ἀγχίνοια', 'ἕτερος', 'εὐβουλία', 'εὐστοχία', 'ἀγχίνοια', 'δόξα', 'εὐβουλία', 'ἔπος', 'κακός', 'ἁμαρτάνω', 'ὀρθός', 'βουλεύω', 'δῆλος', 'ὀρθότης', 'εὐβουλία', 'οὔτʼ', 'ἐπιστήμη', 'δόξα', 'ἐπιστήμη', 'ὀρθότης', 'ʽοὐδέ', 'ἁμαρτίἀ', 'δόξα', 'ὀρθότης', 'ἀλήθεια', 'ἁμός', 'ὁρίζω', 'ἦδος', 'πᾶς', 'ἵημι', 'δόξα', 'ἀνίημι', 'λόγος', 'εὐβουλία', 'διάνοια', 'λείπω', 'φάσις', 'δόξα', 'ζήτησις', 'φάσις', 'ἦδος', 'κακός', 'βουλεύω', 'ζητέω', 'λογίζομαι', 'ὀρθότης', 'εὐβουλία', 'βουλή', 'βουλή', 'ζητητέος', 'πρότερος', 'ἔπος', 'ὀρθότης', 'δῆλος', 'πᾶς', 'ἀκρατης', 'φαῦλος', 'προστίθημι', 'εἶδον', 'λογισμός', 'τεύχω', 'ὀρθός', 'κακός', 'μέγας', 'δοκέω', 'ἀγαθός', 'βουλεύω', 'ὀρθότης', 'βουλή', 'εὐβουλία', 'ἀγαθός', 'τευκτικός', 'ψευδής', 'συλλογισμός', 'τυγχάνω', 'δεῖ', 'ποιέω', 'τυγχάνω', 'διʼ', 'ἵημι', 'ψευδής', 'μέσος', 'ὅρος', 'ὥστʼ', 'εὐβουλία', 'ἣν', 'ἵημι', 'δεῖ', 'τυγχάνω', 'διʼ', 'ἵημι', 'δεῖ', 'πολὺν', 'χρόνος', 'τυγχάνω', 'ταχύς', 'ἐκεῖνος', 'εὐβουλία', 'ὀρθότης', 'ὠφέλιμος', 'ἵημι', 'δεῖ', 'ὣς', 'ἁπλόω', 'βουλεύω', 'τέλος', 'ἁπλόω', 'τέλος', 'ἁπλόω', 'τέλος', 'φρόνιμος', 'βουλεύω', 'εὐβουλία', 'ἐάω', 'ὀρθότης', 'συμφέρω', 'τέλος', 'ἵημι', 'φρόνησις', 'ἀληθης', 'ὑπόληψίς', 'σύνεσις', 'εὐσυνεσία', 'ἃς', 'λέγω', 'συνετοὺς', 'εὐσύνετος', 'οὔθʼ', 'ὅλοξ', 'ἐπιστήμη', 'δόξα', 'ʽπάντες', 'συνετοἴ', 'μία', 'μέρος', 'ἐπιστήμη', 'οἷος', 'ἰατρικη', 'ὑγιεινός', 'γεωμετρία', 'μέγεθος', 'ὄντα', 'ἀκίνητος', 'σύνεσίς', 'ἀπορέω', 'βουλεύω', 'φρόνησις', 'σύνεσις', 'φρόνησις', 'φρόνησις', 'ἐπιτακτική', 'δεῖ', 'πράσσω', 'τέλος', 'σύνεσις', 'κριτικός', 'μόνος', 'σύνεσις', 'εὐσυνεσία', 'συνετός', 'εὐσύνετος', 'ἔχω', 'φρόνησις', 'λαμβάνω', 'σύνεσις', 'μανθάνω', 'λέγω', 'σύνειμι', 'χράομαι', 'ἐπιστήμη', 'χράομαι', 'δόξα', 'κρίνω', 'φρόνησίς', 'κρίνω', 'καλός', 'καλός', 'ἔρχομαι', 'ὄνομα', 'σύνεσις', 'ἣν', 'εὐσύνετος', 'μανθάνω', 'λέγω', 'μανθάνω', 'σύνειμι', 'γνώμη', 'ἣν', 'συγγνώμων', 'ἔχω', 'φημί', 'γνώμη', 'ἐπιεικής', 'κρίσις', 'ὀρθός', 'σημεῖον', 'ἐπιεικής', 'μάλιστά', 'φημί', 'συγγνωμονικός', 'ἐπιεικής', 'ἔχω', 'ἔνιοι', 'συγγνώμη', 'συγγνώμη', 'γνώμη', 'κριτικός', 'ἐπιεικής', 'ὀρθός', 'ὀρθη', 'ἀληθής', 'εἶμι', 'πᾶς', 'ἕξις', 'εὔλογος', 'λέγω', 'γνώμη', 'σύνεσις', 'φρόνησις', 'νόος', 'αὐτοὺς', 'γνώμη', 'ἔχω', 'νόος', 'ἦδος', 'φρόνιμος', 'συνετός', 'πᾶς', 'δύναμις', 'ἔσχατος', 'εἶμι', 'ἕκαστος', 'κριτικός', 'φρόνιμος', 'συνετός', 'εὐγνώμων', 'συγγνώμη', 'ἐπιεικής', 'κοινός', 'ἀγαθός', 'ἅπας', 'ἕκαστος', 'ἔσχατος', 'ἅπας', 'πρακτός', 'φρόνιμος', 'δεῖ', 'γιγνώσκω', 'σύνεσις', 'γνώμη', 'πρακτός', 'ἔσχατος', 'νόος', 'ἔσχατος', 'ἀμφότερος', 'πρότερος', 'ὅρος', 'ἔσχατος', 'νόος', 'λόγος', 'ἀπόδειξις', 'ἀκίνητος', 'ὅρος', 'πρότερος', 'πρακτικός', 'ἔσχατος', 'ἕτερος', 'πρότασις', 'ἀρχή', 'ἵημι', 'ἕκαστος', 'ἔχω', 'δεῖ', 'αἴσθησις', 'νόος', 'φυσικός', 'δοκέω', 'φύσις', 'σοφός', 'γνώμη', 'ἔχω', 'σύνεσις', 'νόος', 'σημεῖον', 'ἡλικία', 'οἴομαι', 'ἀκολουθέω', 'ἡλικία', 'νόος', 'ἔχις', 'γνώμη', 'φύσις', 'αἰτία', 'ἀρχη', 'τέλος', 'νόος', 'ἀπόδειξις', 'δεῖ', 'προσέχω', 'ἔμπειρος', 'πρέσβυς', 'φρόνιμος', 'ἀναποδείκτοις', 'φάσις', 'δόξα', 'ἥσσων', 'ἀπόδειξις', 'ἔχω', 'ἐμπειρία', 'ὄμμα', 'ὁράω', 'ὀρθός', 'φρόνησις', 'σοφία', 'ἑκάτερος', 'τυγχάνω', 'ψυχή', 'μόριον', 'ἀρετη', 'ἑκάτερος', 'εἴρω', 'διαπορέω', 'χρήσιμοί', 'εἶμι', 'σοφία', 'θεωρέω', 'εὐδαίμων', 'ἄνθρωπος', 'ʽοὐδεμιᾶς', 'γενέσεωσ', 'φρόνησις', 'ἔχις', 'δεῖ', 'φρόνησίς', 'δίκαιος', 'κᾶλον', 'ἀγαθός', 'ἄνθρωπος', 'ἀγαθός', 'ἀνήρ', 'πράσσω', 'πρακτικός', 'οἶδα', 'ἕξις', 'ἀρετή', 'εἶμι', 'ὑγιεινός', 'εὐεκτικά', 'ὅσος', 'ποιέω', 'ἕξις', 'λέγω', 'πρακτικός', 'ἔχω', 'ἰατρικην', 'γυμναστικός', 'χάρις', 'φρόνιμος', 'ῥητέος', 'γίγνομαι', 'ὄντα', 'σπουδαῖος', 'ἐάω', 'χρήσιμος', 'ἔχω', 'διαφέρω', 'αὐτοὺς', 'ἔχω', 'ἔχω', 'πείθω', 'ἱκανός', 'τʼ', 'ἔχω', 'ὑγίεια', 'ὑγιαίνω', 'ὁμός', 'μανθάνω', 'ἰατρικός', 'ἄτοπος', 'δοκέω', 'χείρ', 'σοφία', 'κύριος', 'ἄρχω', 'ἐπιτάσσω', 'ἕκαστος', 'λεκτέος', 'ἀπορέω', 'μόνος', 'πρότερος', 'λέγω', 'ἀναγκαῖον', 'αἱρετός', 'ἀρετή', 'γʼ', 'ἑκάτερος', 'ἑκάτερος', 'μόριον', 'ποιέω', 'μηδείς', 'μηδέτερος', 'ποιέω', 'ἰατρικη', 'ὑγίεια', 'ὑγίεια', 'σοφία', 'εὐδαιμονία', 'μέρος', 'ὅλοξ', 'ἀρετή', 'ἔχω', 'ποιέω', 'ἐνεργέω', 'εὐδαίμων', 'ἔργον', 'ἀποτελέω', 'φρόνησις', 'ἠθικην', 'ἀρετή', 'ἀρετη', 'σκοπός', 'ποιέω', 'ὀρθός', 'φρόνησις', 'τέταρτος', 'μόριον', 'ψυχή', 'ἀρετη', 'θρεπτικός', 'πράσσω', 'πράσσω', 'μηδείς', 'πρακτικός', 'φρόνησις', 'κᾶλον', 'δίκαιος', 'μικρός', 'ἀρκτέος', 'ἀρχην', 'δίκαιος', 'λέγω', 'πράττοντάς', 'δίκαιος', 'οἷος', 'νομή', 'ἀέκων', 'διʼ', 'ἄγνοια', 'διʼ', 'ἕτερόν', 'διʼ', 'ʽκαίτοι', 'πράττουσί', 'δεῖ', 'ὅσος', 'χρῆ', 'σπουδαῖος', 'ἔοικα', 'πράσσω', 'ἕκαστος', 'ὥστʼ', 'ἀγαθός', 'λέγω', 'οἷος', 'προαίρεσις', 'προαίρεσις', 'ὀρθην', 'ποιέω', 'ἀρετή', 'ὅσος', 'ἐκεῖνος', 'φύω', 'πράσσω', 'ἀρετή', 'ἕτερος', 'δύναμις', 'λεκτέος', 'σαφής', 'δύναμις', 'ἣν', 'καλέω', 'δεινότης', 'σκοπός', 'δύναμαι', 'πράσσω', 'τυγχάνω', 'σκοπός', 'καλός', 'ἐπαινέτης', 'φαῦλος', 'πανουργία', 'φρόνιμος', 'δεινοὺς', 'πανοῦργος', 'φημί', 'φρόνησις', 'δύναμις', 'ἀνίημι', 'δύναμις', 'ἕξις', 'ὄμμα', 'γίγνομαι', 'ψυχή', 'ἀνίημι', 'ἀρετή', 'εἴρηταί', 'δῆλος', 'συλλογισμός', 'πρακτός', 'ἀρχην', 'ἔχοντές', 'εἶμι', 'ἐπειδη', 'τέλος', 'ἄριστον', 'ʽἔστω', 'λόγος', 'χάρις', 'τύχος', 'ἀγαθός', 'φαίνω', 'διαστρέφω', 'μοχθηρία', 'διαψεύδω', 'ποιέω', 'πρακτικός', 'ἀρχή', 'φανερός', 'ἀδύνατος', 'φρόνιμος', 'ὄντα', 'ἀγαθός', 'σκεπτέος', 'ἀρετή', 'ἀρετη', 'παραπλήσιος', 'ἔχις', 'φρόνησις', 'δεινότης', 'ὅμοιος', 'δέοὕτω', 'φυσικός', 'ἀρετη', 'κυρία', 'πᾶς', 'δοκέω', 'ἕκαστος', 'ἦθος', 'ὑπάρχω', 'φύσις', 'δίκαιος', 'σωφρονικός', 'ἀνδρεῖος', 'ἔχω', 'εὐθὺς', 'γενετή', 'ὁμός', 'ζητέω', 'ἕτερόν', 'κύριος', 'ἀγαθός', 'τρόπος', 'ὑπάρχω', 'παῖς', 'θηρίον', 'φυσικός', 'ὑπάρχω', 'ἕξις', 'ἀνίημι', 'νόος', 'βλαβερός', 'φαίνω', 'πλέω', 'τοσοῦτος', 'ἔοικα', 'ὁράω', 'σῶμα', 'ἰσχυρός', 'ἀνίημι', 'ὄψις', 'συμβαίνω', 'σφάλλω', 'ἰσχυρός', 'ἔχω', 'ὄψις', 'λαβή', 'νόος', 'πράσσω', 'διαφέρω', 'ἕξις', 'ὅμοιος', 'τότʼ', 'κύριος', 'ἀρετή', 'δοξαστικοῦ', 'εἶδος', 'δεινότης', 'φρόνησις', 'ἠθικός', 'ἀρετη', 'φυσικός', 'κυρία', 'κυρία', 'γίγνομαι', 'ἀνίημι', 'φρόνησις', 'τίνω', 'φάσις', 'πᾶς', 'ἀρετή', 'φρόνησις', 'Σωκράτης', 'ὀρθός', 'ζητέω', 'ἁμαρτάνω', 'φρόνησις', 'οἴομαι', 'πᾶς', 'ἀρετή', 'ἁμαρτάνω', 'ἀνίημι', 'φρόνησις', 'καλός', 'λέγω', 'σημεῖον', 'πᾶς', 'ὁρίζω', 'ἀρετή', 'προστίθημι', 'ἕξις', 'ὀρθός', 'λόγος', 'ὀρθός', 'φρόνησις', 'ἔοικα', 'μαντεύεσθαί', 'ἅπας', 'ἕξις', 'ἀρετή', 'φρόνησις', 'δεῖ', 'μικρός', 'μεταβαίνω', 'μόνος', 'ὀρθός', 'λόγος', 'ὀρθός', 'λόγος', 'ἕξις', 'ἀρετή', 'ὀρθός', 'λόγος', 'φρόνησίς', 'Σωκράτης', 'λόγος', 'ἀρετή', 'οἴομαι', 'ʽἐπιστήμας', 'πάσασ', 'λόγος', 'δῆλος', 'οἷόν', 'ἀγαθός', 'κύριος', 'ἀνίημι', 'φρόνησις', 'φρόνιμος', 'ἀνίημι', 'ἠθικός', 'ἀρετή', 'λόγος', 'λύοιτʼ', 'διαλέγω', 'χωρίζω', 'ἀλλήλων', 'ἀρετή', 'εὐφυής', 'ἅπας', 'ἦδος', 'εἰληφὼς', 'φυσικός', 'ἀρετή', 'ἐνδέχομαι', 'ἃς', 'ἁπλόω', 'λέγω', 'ἀγαθός', 'ἐνδέχομαι', 'ἁμός', 'φρόνησις', 'μιᾷ', 'πᾶς', 'ὑπάρχω', 'δῆλος', 'κἂν', 'πρακτικός', 'δεῖ', 'μόριον', 'ἀρετην', 'προαίρεσις', 'ὀρθη', 'ἀνίημι', 'φρόνησις', 'ἀνίημι', 'ἀρετή', 'τέλος', 'τέλος', 'ποιέω', 'πράσσω', 'κυρία', 'γʼ', 'σοφία', 'βελτίων', 'μόριον', 'ὑγίεια', 'ἰατρικός', 'χράομαι', 'ὁράω', 'γίγνομαι', 'ἐκεῖνος', 'ἐπιτάσσω', 'ἐκεῖνος', 'ὅμοιος', 'κἂν', 'εἶμι', 'πολιτικός', 'φαιός', 'ἄρχω', 'θεά', 'ἐπιτάσσω', 'πᾶς', 'πόλις', 'βοοκ', 'λεκτέος', 'ἀρχή', 'ἦθος', 'φευκτός', 'τριάς', 'εἶδος', 'κακία', 'ἀκρασία', 'θηριότης', 'ἐναντίος', 'δύσις', 'δῆλος', 'ἀρετην', 'ἐγκράτεια', 'καλέω', 'θηριότης', 'μάλιστʼ', 'ἁρμόζω', 'λέγω', 'ἡμός', 'ἀρετή', 'ἡρωικός', 'θεῖος', 'Ὅμηρος', 'ἕκτορος', 'ποιέω', 'Πρίαμος', 'σφοδρός', 'ἀγαθός', 'ἔοικα', 'ἀνήρ', 'θνητός', 'παῖς', 'θεός', 'ηομ', 'ιλ', 'ὥστʼ', 'φάσις', 'ἄνθρωπος', 'γίγνομαι', 'θεός', 'διʼ', 'ἀρετή', 'ὑπερβολή', 'ἐάω', 'δῆλος', 'θηριώδης', 'ἕξις', 'θηρίον', 'κακία', 'ἀρετή', 'θεός', 'τίμιος', 'ἀρετή', 'ἕτερόν', 'γένος', 'κακία', 'ἔπος', 'σπάνιος', 'θεῖος', 'ἀνήρ', 'Λάκων', 'ἔθω', 'προσαγορεύω', 'οἳ', 'ἄγαμαι', 'σφοδρός', 'θεῖος', 'ἀνήρ', 'φάσις', 'θηριώδης', 'ἄνθρωπος', 'σπάνιος', 'βάρβαρος', 'γίγνομαι', 'ἔνιοι', 'νόσος', 'πήρωσις', 'κακία', 'ἄνθρωπος', 'ἐπιδυσφημοῦμεν', 'διάθεσις', 'ὕστερος', 'ποιητέος', 'μνεία', 'κακία', 'εἴρω', 'πρότερος', 'ἀκρασία', 'μαλακία', 'τρυφή', 'λεκτέος', 'ἐγκράτεια', 'καρτερία', 'ἕξις', 'ἀρετή', 'μοχθηρία', 'ἑκάτερος', 'ὑποληπτέος', 'οὔθʼ', 'ἕτερος', 'γένος', 'δεῖ', 'πρότερος', 'δείκνυμι', 'πᾶς', 'ἔνδοξος', 'πάθη', 'πλεῖστος', 'κύριος', 'λύηταί', 'δυσχερής', 'καταλιμπάνω', 'ἔνδοξος', 'ἐάω', 'ἱκανός', 'δοκέω', 'ἐγκράτεια', 'καρτερία', 'σπουδαῖος', 'ἐπαινέτης', 'ἀκρασία', 'μαλακία', 'φαῦλος', 'ψέκτης', 'ἐγκρατης', 'ἐμμενετικός', 'λογισμός', 'ἀκρατης', 'ἐκστατικός', 'λογισμός', 'ἀκρατης', 'εἰδὼς', 'φαῦλος', 'πράσσω', 'πάθος', 'ἐγκρατης', 'εἰδὼς', 'φαῦλος', 'ἐπιθυμία', 'ἀκολουθέω', 'λόγος', 'σώφρων', 'ἐγκρατής', 'καρτερικός', 'οἳ', 'πᾶς', 'σώφρων', 'οἳ', 'ἀκόλαστος', 'ἀκρατής', 'ἀκρατής', 'ἀκόλαστος', 'οἳ', 'ἕτερος', 'εἶναί', 'φάσις', 'φρόνιμος', 'φάσις', 'ἐνδέχομαι', 'ἀκρατής', 'ἔνιοι', 'φρόνιμος', 'δεινοὺς', 'ἀκρατής', 'ἀκρατής', 'λέγω', 'θύμον', 'τιμή', 'κέρδος', 'ταῦτʼ', 'ἀπορέω', 'ὀρθός', 'ἀκρατεύεταί', 'φάσις', 'τίνω', 'οἷόν', 'δεινός', 'ἐπιστήμη', 'ἐνούσης', 'οἴομαι', 'Σωκράτης', 'κρατέω', 'περιέλκω', 'αὐτην', 'ἀνδράποδον', 'Σωκράτης', 'ὅλοξ', 'μάχομαι', 'λόγος', 'ἀκρασία', 'πράσσω', 'βέλτιστος', 'διʼ', 'ἄγνοια', 'λόγος', 'ἀμφισβητέω', 'δέον', 'ζητέω', 'πάθος', 'διʼ', 'ἄγνοια', 'τρόπος', 'γίγνομαι', 'ἄγνοια', 'οἴεταί', 'ἀκρατευόμενος', 'πάθος', 'γίγνομαι', 'φανερός', 'εἶμι', 'τίνω', 'οἳ', 'συγχωρέω', 'ἐπιστήμη', 'μηδείς', 'κρείσσων', 'ὁμολογέω', 'μηδείς', 'πράσσω', 'δόξα', 'βελτίων', 'ὁμολογέω', 'ἀκρατής', 'φάσις', 'ἐπιστήμη', 'κρατέω', 'ἡδονή', 'δόξα', 'δόξα', 'ἐπιστήμη', 'μηδʼ', 'ἰσχυρός', 'ὑπόληψις', 'ἠρεμαῖος', 'διστάζω', 'συγγνώμη', 'μένω', 'ἐπιθυμία', 'ἰσχυρός', 'μοχθηρία', 'συγγνώμη', 'ψέκτης', 'φρόνησις', 'ἰσχυρός', 'ἄτοπος', 'ἁμός', 'φρόνιμος', 'ἀκρατής', 'φημί', 'φρόνιμος', 'πράσσω', 'ἑκών', 'φαῦλος', 'δείκνυμι', 'πρότερος', 'πρακτικός', 'φρόνιμος', 'ʽτῶν', 'ἔσχατος', 'τισ', 'ἀλλᾶς', 'χόω', 'ἀρετή', 'ἐπιθυμία', 'ἔχω', 'ἰσχυρός', 'φαῦλος', 'ἐγκρατής', 'σώφρων', 'ἐγκρατης', 'ἐγκρατης', 'σώφρων', 'ἄγη', 'σώφρων', 'φαῦλος', 'ἔχω', 'δεῖ', 'χρήστης', 'ἐπιθυμία', 'φαῦλος', 'ἕξις', 'ἀκολουθέω', 'ὥσθʼ', 'ἐγκράτεια', 'πᾶς', 'σπουδαῖος', 'ἀσθενής', 'φαῦλος', 'σεμνός', 'φαῦλος', 'ἀσθενής', 'μέγας', 'πᾶς', 'δόξα', 'ἐμμενετικόν', 'ποιέω', 'ἐγκράτεια', 'φαῦλος', 'οἷος', 'ψευδής', 'πᾶς', 'δόξα', 'ἀκρασία', 'ἐκστατικός', 'σπουδαῖος', 'ἀκρασία', 'οἷος', 'Σοφοκλέης', 'Νεοπτόλεμος', 'φιλοκτήτῃ', 'ἐπαινετός', 'ἐμμενής', 'πείθω', 'Ὀδυσσεύς', 'λυπέω', 'σοφιστικός', 'λόγος', 'ἀπορία', 'παράδοξος', 'βούλομαι', 'ἐλέγχω', 'δεινός', 'οὖς', 'ἐπιτυγχάνω', 'συλλογισμός', 'ἀπορία', 'γίγνομαι', 'δέω', 'διάνοια', 'μένω', 'βουλητός', 'ἀρέσκω', 'συμπεραίνω', 'πρόειμι', 'δύναμαι', 'λύω', 'ἔχω', 'λόγος', 'συμβαίνω', 'λόγος', 'ἀφροσύνη', 'μετʼ', 'ἀκρασία', 'ἀρετή', 'ἐναντίος', 'πράσσω', 'ὑπολαμβάνω', 'ἀκρασία', 'ὑπολαμβάνω', 'ἀγαθός', 'κάκη', 'δεῖ', 'πράσσω', 'ἀγαθός', 'κάκη', 'πρᾶξις', 'πείθω', 'ἡδύς', 'βελτίων', 'δοκέω', 'λογισμός', 'διʼ', 'ἀκρασία', 'εὐίατος', 'μεταπείθω', 'ἀκρατης', 'ἔνοχος', 'παροιμία', 'φημί', 'ὕδωρ', 'πνιγεύς', 'δεῖ', 'ἐπιπίνω', 'πείθω', 'πράσσω', 'ἐπαύω', 'ἥσσων', 'πράσσω', 'πᾶς', 'ἀκρασία', 'ἐγκράτεια', 'ἁπλόω', 'ἀκρατής', 'ἅπας', 'ἔχις', 'ἀκρασία', 'φημί', 'εἶναί', 'ἁπλόω', 'ἀπορία', 'τοιαῦταί', 'τίνω', 'συμβαίνω', 'ἀναιρέω', 'δεῖ', 'καταλιμπάνω', 'λύσις', 'ἀπορία', 'εὕρεσίς', 'πρότερος', 'σκεπτέος', 'πότερος', 'πόα', 'ἀκρατής', 'ἐγκρατής', 'θετέος', 'λέγω', 'πότερος', 'πᾶς', 'ἡδονην', 'λύπη', 'ἐγκρατής', 'καρτερικός', 'πότερος', 'ἕτερός', 'ὅμοιος', 'ὅσος', 'συγγενής', 'θεωρία', 'ἀρχη', 'σκέψις', 'πότερος', 'ἐγκρατης', 'ἀκρατής', 'εἶμι', 'ὣς', 'διαφορά', 'λέγω', 'πότερος', 'μόνος', 'ἀκρατης', 'ἀκρατής', 'οὒ', 'οὒ', 'ἄμφω', 'ἔπειτʼ', 'πάντʼ', 'ἀκρασία', 'ἐγκράτεια', 'ἅπαντʼ', 'ἁπλόω', 'ἀκρατής', 'ἀκόλαστος', 'ἁπλόω', 'ἔχω', 'ʽταὐτόν', 'ἀκολασίᾀ', 'ἔχω', 'ἄγω', 'δεῖ', 'πηρός', 'ἡδὺ', 'διώκω', 'οἴομαι', 'διώκω', 'δόξα', 'ἀληθής', 'ἐπιστήμη', 'παρʼ', 'ἣν', 'ἀκρατεύονται', 'διαφέρω', 'λόγος', 'ἔνιοι', 'δοξάζω', 'διστάζω', 'οἴομαι', 'ἀκριβόω', 'οἶδα', 'ἤρεμος', 'πιστεύω', 'μαλλός', 'ὑπόληψις', 'πράσσω', 'διαφέρω', 'ἐπιστήμη', 'δόξα', 'ἔνιοι', 'πιστεύω', 'ἥσσων', 'δοξάζω', 'ἕτερος', 'ἐπίσταμαι', 'δῆλος', 'ἡράκλειτος', 'ἔπος', 'λέγω', 'ἐπίσταμαι', 'ʽκαί', 'χόω', 'ἐπιστήμη', 'λέγω', 'ἐπίστασθαἰ', 'διαφέρω', 'δεῖ', 'πράσσω', 'δοκέω', 'δεινός', 'θεωρός', 'ἔπος', 'τρόπος', 'πρότασις', 'ἀμφότερος', 'κωλύω', 'πράσσω', 'ἐπιστήμη', 'μέρος', 'πρακτός', 'ἕκαστος', 'διαφέρω', 'ἐφʼ', 'πράγματός', 'οἷος', 'πᾶς', 'ἄνθρωπος', 'συμφέρω', 'ξηρά', 'ἄνθρωπος', 'ξηρός', 'ἔχις', 'ἐνεργής', 'διαφέρω', 'τρόπος', 'ἀμήχανος', 'ὅσος', 'δοκέω', 'οἶδα', 'μηδείς', 'ἄτοπος', 'θαυμαστός', 'ἔχω', 'ἐπιστήμη', 'τρόπος', 'ὑπάρχω', 'ἄνθρωπος', 'ἔχω', 'χράομαι', 'ὁράω', 'ἕξις', 'ἔχω', 'ἔχω', 'οἷος', 'διατίθημι', 'πάθος', 'θυμός', 'ἐπιθυμία', 'ἔνιοι', 'ἐπίδηλος', 'σῶμα', 'μεθίστημι', 'ἔνιοι', 'μανία', 'ποιέω', 'δῆλος', 'ὅμοιος', 'ἔχω', 'λεκτέος', 'ἀκρατής', 'λέγω', 'λόγος', 'ἐπιστήμη', 'σημεῖον', 'πάθος', 'ἀπόδειξις', 'ἔπος', 'λέγω', 'ἐμπεδοκλέους', 'πρότερος', 'συνείρω', 'λόγος', 'οἶδα', 'δεῖ', 'συμφύω', 'χρόνος', 'δέω', 'ὑποληπτέος', 'λέγω', 'ἀκρατευομένους', 'φυσικός', 'ἐπιβλέπω', 'αἰτία', 'δόξα', 'ἕτερος', 'ἕκαστά', 'αἴσθησις', 'ἦδος', 'κυρία', 'μία', 'γίγνομαι', 'ἀνάγκη', 'συμπεραίνω', 'φανή', 'ψυχή', 'ποιητικός', 'πράσσω', 'εὐθύς', 'οἷος', 'πᾶς', 'γλυκύς', 'γεύω', 'δεῖ', 'γλυκὺ', 'ἵημι', 'ἕκαστος', 'ἀνάγκη', 'ἁμός', 'πράσσω', 'ἐνίημι', 'γεύω', 'πᾶς', 'γλυκὺ', 'ἡδύς', 'γλυκύς', 'ʽαὕτη', 'ἐνεργεἶ', 'τύχη', 'ἐπιθυμία', 'λέγω', 'φεύγω', 'ἐπιθυμία', 'ἄγος', 'κινέω', 'ἕκαστος', 'δυνατός', 'μορία', 'συμβαίνω', 'λόγος', 'δόξα', 'ἀκρατεύεσθαι', 'ἐναντίος', 'συμβεβηκόςἡ', 'ἐπιθυμία', 'ἐναντίος', 'δόξατῷ', 'ὀρθός', 'λόγος', 'θηρίον', 'ἀκρατής', 'ἔχις', 'ὑπόληψις', 'ἕκαστος', 'φαντασία', 'μνήμη', 'λύω', 'ἄγνοια', 'γίγνομαι', 'ἐπιστήμη', 'ἀκρατής', 'λόγος', 'ἴδιος', 'πάθος', 'ὃν', 'δεῖ', 'φυσιολόγων', 'ἀκούω', 'ἔπος', 'τελευταῖος', 'πρότασις', 'δόξα', 'αἰσθητός', 'κυρία', 'πρᾶξις', 'ἔχις', 'πάθος', 'ἔχις', 'ἔχω', 'ἐπίσταμαι', 'λέγω', 'ἐμπεδοκλέους', 'μηδʼ', 'ἐπιστημονικόν', 'ὅμοιος', 'δοκέω', 'ἔσχατος', 'ὅρος', 'ἔοικα', 'ζητέω', 'Σωκράτης', 'συμβαίνω', 'κύριος', 'ἐπιστήμη', 'γίγνομαι', 'πάθος', 'περιέλκω', 'πάθος', 'αἰσθητικός', 'ἐνδέχομαι', 'ἀκρατεύεσθαι', 'τοσοῦτος', 'ἐρῶ', 'πότερος', 'ἁπλόω', 'ἀκρατης', 'πᾶς', 'μέρος', 'ποῖά', 'λεκτέος', 'ἔφεξις', 'ἡδονή', 'λύπη', 'εἶμι', 'τʼ', 'ἐγκρατής', 'καρτερικός', 'ἀκρατής', 'μαλακός', 'φανερός', 'ἔπος', 'ἀναγκαῖον', 'ποιέω', 'ἡδονή', 'αἱρετός', 'ὑπερβολή', 'ἀναγκαῖον', 'σωματικός', 'ʽλέγω', 'τροφή', 'χρεία', 'σωματικός', 'ἀκολασία', 'ἔθεμεν', 'σωφροσύνη', 'ἀναγκαῖον', 'αἱρετός', 'ʽλέγω', 'οἷος', 'νίκη', 'τιμή', 'πλοῦτος', 'ἀγαθός', 'ἡδύς', 'ὀρθός', 'λόγος', 'ἁπλόω', 'λέγω', 'ἀκρατής', 'χρῆμα', 'ἀκρατής', 'κέρδος', 'τιμή', 'θύμον', 'ἁπλόω', 'ἕτερος', 'ὁμοιότης', 'ἄνθρωπος', 'Ὀλυμπία', 'νίκη', 'ἐκεῖνος', 'κοινός', 'λόγος', 'ἴδιος', 'μικρός', 'διαφέρω', 'ὁμός', 'ἕτερος', 'σημεῖον', 'ἀκρασία', 'ψέγω', 'ἁμάρτημα', 'μόνος', 'κακία', 'ἁπλόω', 'μέρος', 'σωματικός', 'ἀπόλαυσις', 'ἃς', 'λέγω', 'σώφρων', 'ἀκόλαστος', 'προαιρέω', 'ἡδύς', 'ὑπερβολάςκαί', 'λυπηρός', 'πεῖνα', 'δίψα', 'ἀλέα', 'ψῦχος', 'πᾶς', 'ἁφην', 'γεῦσινἀλλά', 'προαίρεσις', 'διάνοια', 'ἀκρατης', 'λέγω', 'πρόσθεσις', 'ὀργή', 'ἁπλόω', 'μόνος', 'σημεῖον', 'μαλακός', 'λέγω', 'ἐκεῖνος', 'τοῦτʼ', 'ἀκρατής', 'ἀκόλαστος', 'τίθημι', 'ἐγκρατής', 'σώφρων', 'ἐκεῖνος', 'ἡδονή', 'λύπη', 'οἳ', 'εἶμι', 'ταὐτάζω', 'εἶμι', 'οἳ', 'προαιρέω', 'οἳ', 'προαιρέω', 'μαλλός', 'ἀκόλαστος', 'εἶπον', 'ἤρεμος', 'διώκω', 'ὑπερβολή', 'φεύγω', 'μέτριος', 'λύπη', 'ἐπιθυμέω', 'σφοδρός', 'ἐκεῖνος', 'ποιέω', 'προσγίγνομαι', 'ἐπιθυμία', 'νεανικός', 'ἀναγκαῖον', 'ἔνδεια', 'λύπη', 'ἰσχυρός', 'ἔπος', 'ἐπιθυμία', 'ἡδονή', 'αἳ', 'εἶμι', 'γένος', 'κᾶλον', 'σπουδαῖος', 'ʽτῶν', 'ἡδύς', 'ἔνιοι', 'φύσις', 'αἱρετἄ', 'ἐναντίος', 'διαιρέω', 'πρότερος', 'οἷος', 'χρῆμα', 'κέρδος', 'νίκη', 'τιμή', 'ἅπας', 'μεταξὺ', 'πάσχω', 'ἐπιθυμέω', 'φιλέω', 'ψέγω', 'ὑπερβάλλω', 'ʽδιό', 'ὅσος', 'λόγος', 'κρατέω', 'διώκω', 'φύσις', 'κᾶλον', 'ἀγαθός', 'οἷος', 'τιμή', 'μαλλός', 'δεῖ', 'τέκνον', 'γονεύς', 'ἀγαθός', 'ἐπαινέω', 'ὁμός', 'ὑπερβολη', 'εἶμι', 'νιόβη', 'μάχομαι', 'θεός', 'Σάτυρος', 'φιλοπάτωρ', 'πατήρ', 'δοκέω', 'μωραίνω', 'μοχθηρία', 'ταῦτʼ', 'φύσις', 'αἱρετός', 'ἕκαστόν', 'διʼ', 'φαῦλος', 'φευκτός', 'εἶμι', 'ὑπερβολή', 'ὅμοιος', 'ἀκρασία', 'ἀκρασία', 'μόνος', 'φευκτός', 'ψέκτης', 'διʼ', 'ὁμοιότης', 'πάθος', 'ἀκρασία', 'ἕκαστος', 'λέγω', 'οἷος', 'κακός', 'ἰατρός', 'κακός', 'ὑποκριτής', 'ὃν', 'ἁπλόω', 'εἶπον', 'κακός', 'κακία', 'ἕκαστος', 'ἀνάλογος', 'ὅμοιος', 'δῆλος', 'ἄκος', 'ὑποληπτέος', 'μονή', 'ἀκρασία', 'ἐγκράτεια', 'ταὐτάζω', 'σωφροσύνη', 'ἀκολασία', 'θύμον', 'ὁμοιότης', 'λέγω', 'ἀκρατής', 'θύμον', 'τιμή', 'κέρδος', 'φημί', 'ἔπος', 'ἔνιοι', 'ἡδύς', 'φύσις', 'ἁπλόω', 'γένος', 'ζωή', 'ἄνθρωπος', 'πήρωσις', 'διʼ', 'ἔθος', 'γίγνομαι', 'μοχθηρός', 'φύσις', 'ἕκαστος', 'παραπλήσιος', 'εἶδον', 'ἕξις', 'λέγω', 'θηριώδης', 'οἷος', 'ἄνθρωπος', 'ἣν', 'λέγω', 'παιδιή', 'κατεσθίω', 'οἷος', 'χαίρω', 'φάσις', 'ἔνιοι', 'πόντος', 'ὠμός', 'ἄνθρωπος', 'κρέας', 'παιδιή', 'δανείζω', 'ἀλλήλων', 'εὐωχία', 'φαλαρίς', 'θηριώδης', 'αἳ', 'νόσος', 'γίγνομαι', 'ʽκαί', 'μανία', 'ἔνιοι', 'μήτηρ', 'καθιερεύω', 'φαγός', 'σύνδουλος', 'ἧπαρ', 'αἳ', 'νοσηματώδης', 'ἔθος', 'οἷος', 'θρίξ', 'τίλσις', 'ὄνυξ', 'τρῶξις', 'ἄνθραξ', 'γῆ', 'ἄρσην', 'φύσις', 'ἔθος', 'συμβαίνω', 'οἷος', 'παῖς', 'ὅσος', 'φύσις', 'αἰτία', 'εἶπον', 'ἀκρατής', 'γυνή', 'ὀπυίω', 'ὀπυίω', 'ὅσος', 'νοσηματώδως', 'ἔχω', 'διʼ', 'ἔθος', 'ἔχω', 'ἕκαστος', 'ἔξεστι', 'ὅρος', 'κακία', 'θηριότης', 'κρατέω', 'κρατέω', 'ἁπλόος', 'ἀκρασία', 'ὁμοιότης', 'θυμοὺς', 'τρόπος', 'πάθος', 'ἀκρατής', 'λεκτέος', 'πᾶς', 'ἀφροσύνη', 'δειλία', 'ἀκολασία', 'χαλεπότης', 'αἳ', 'θηριώδης', 'αἳ', 'νοσηματώδης', 'εἶμι', 'φύσις', 'οἷος', 'δείδω', 'πᾶς', 'κἂν', 'ψοφέω', 'μῦς', 'θηριώδης', 'δειλία', 'δειλός', 'γαλέη', 'δείδω', 'νόσος', 'ἄφρων', 'φύσις', 'ἀλόγιστος', 'μόνος', 'αἴσθησις', 'θηριώδης', 'ἔνιοι', 'γένος', 'βάρβαρος', 'νόσος', 'οἷος', 'ἐπιληπτικάς', 'μανία', 'νοσηματώδης', 'ἔχω', 'μόνος', 'κρατέω', 'λέγω', 'οἷος', 'φαλαρίς', 'κατέχω', 'παιδίον', 'ἐσθίω', 'ἄτοπος', 'ἡδονή', 'κρατέω', 'μόνος', 'ἔχω', 'μοχθηρία', 'κατʼ', 'ἄνθρωπος', 'ἁπλόω', 'λέγω', 'μοχθηρία', 'πρόσθεσις', 'θηριώδης', 'νοσηματώδης', 'ἁπλόω', 'τρόπος', 'δῆλος', 'ἀκρασία', 'θηριώδης', 'νοσηματώδης', 'ἁπλόω', 'ἀνθρώπινος', 'ἀκολασία', 'μονή', 'ἀκρασία', 'ἐγκράτειά', 'μόνος', 'ἀκολασία', 'σωφροσύνη', 'εἶδος', 'ἀκρασία', 'μεταφοράν', 'ἁπλόω', 'δῆλος', 'ἥσσων', 'αἰσχρός', 'ἀκρασία', 'θύμον', 'ἐπιθυμία', 'θεωρέω', 'ἔοικα', 'θύμον', 'ἀκούω', 'λόγος', 'παρακούω', 'ταχύς', 'διάκονος', 'οἳ', 'ἀέκων', 'πᾶς', 'ἐκθέω', 'ἁμαρτάνω', 'πρόσταξις', 'κύων', 'σκέπτομαι', 'φίλος', 'μόνος', 'ψοφέω', 'ὑλακτέω', 'θύμον', 'θερμότης', 'ταχυτής', 'φύσις', 'ἀέκων', 'ἐπίταγμα', 'ἀέκων', 'ὁρμή', 'τιμωρία', 'λόγος', 'φαντασία', 'ὕβρις', 'ὀλιγωρία', 'δηλόω', 'δεῖ', 'πολεμέω', 'χαλεπαίνω', 'εὐθύς', 'ἐπιθυμία', 'μόνος', 'εἶπον', 'ἡδὺ', 'λόγος', 'αἴσθησις', 'ὁρμή', 'ἀπόλαυσις', 'ὥσθʼ', 'θύμον', 'ἀκολουθέω', 'λόγος', 'ἐπιθυμία', 'αἶσχος', 'θύμον', 'ἀκρατης', 'λόγος', 'ἡσσάομαι', 'ἐπιθυμία', 'λόγος', 'φυσικός', 'μαλλός', 'συγγνώμη', 'ἀκολουθέω', 'ὄρεξις', 'ἔπος', 'ἐπιθυμία', 'μαλλός', 'ὅσος', 'κοινός', 'πᾶς', 'ἐφʼ', 'ὅσος', 'κοινός', 'θύμον', 'φυσικός', 'χαλεπότης', 'ἐπιθυμία', 'ὑπερβολή', 'ἀναγκαῖον', 'πατήρ', 'τύπτω', 'φημί', 'ἐκεῖνος', 'παιδίον', 'δείκνυμι', 'φημί', 'ἀνηρ', 'γίγνομαι', 'συγγενής', 'υἱός', 'παύω', 'κελεύω', 'θύρα', 'ἕλκω', 'πατήρ', 'ἄδικος', 'ἐπίβουλος', 'θυμώδης', 'ἐπίβουλος', 'θύμον', 'φανερός', 'ἐπιθυμία', 'Ἀφροδίτη', 'φάσις', 'δολοπλόκος', 'κεστός', 'ἱμάς', 'Ὅμηρος', 'παράφασις', 'τʼ', 'ἐκλέπω', 'νόος', 'πυκάζω', 'πέρα', 'ηομ', 'ιλ', 'ὥστʼ', 'ἄδικος', 'αἶσχος', 'ἀκρασία', 'θύμον', 'ἁπλόω', 'ἀκρασία', 'κακία', 'ὑβρίζω', 'ὀργή', 'πόα', 'πᾶς', 'ποιέω', 'μεθʼ', 'ἡδονή', 'ὀργίζω', 'δίκαιος', 'ἄδικος', 'ἀκρασία', 'διʼ', 'ἐπιθυμία', 'θύμον', 'ὕβρις', 'αἶσχος', 'ἐπιθυμία', 'ἀκρασία', 'θύμον', 'ἐγκράτεια', 'ἀκρασία', 'ἐπιθυμία', 'ἡδονή', 'σωματικός', 'δῆλος', 'διαφορά', 'ληπτέος', 'εἴρω', 'κατʼ', 'ἀρχή', 'αἳ', 'ἀνθρώπιναί', 'εἶμι', 'φυσικός', 'γένος', 'μέγεθος', 'αἳ', 'θηριώδης', 'αἳ', 'πήρωσις', 'νόσημα', 'πρότερος', 'σωφροσύνη', 'ἀκολασία', 'μόνος', 'θηρίον', 'σώφρων', 'οὔτʼ', 'ἀκόλαστος', 'λέγω', 'μεταφοράν', 'εἶμι', 'ὅλοξ', 'διαφέρω', 'γένος', 'ζωή', 'ὕβρις', 'σιναμωρία', 'παμφάγος', 'ἔχις', 'προαίρεσις', 'λογισμός', 'ἐξίστημι', 'φύσις', 'ἄνθρωπος', 'ἐλάσσων', 'θηριότης', 'κακία', 'φοβερός', 'διαφθείρω', 'βελτίων', 'ἄνθρωπος', 'ἔχις', 'ὅμοιος', 'ἄψυχος', 'συμβάλλω', 'ἔμψυχος', 'πότερος', 'κακός', 'ἀσινής', 'φαυλότης', 'ἀρχή', 'νόος', 'ἀρχή', 'παραπλήσιος', 'συμβάλλω', 'ἀδικία', 'ἄνθρωπος', 'ἄδικος', 'ἑκάτερος', 'κακός', 'μυριοπλάσιος', 'κάκη', 'ποιέω', 'ἄνθρωπος', 'κακός', 'θηρίον', 'διʼ', 'ἁφή', 'γεύσεως', 'ἡδονή', 'λύπη', 'ἐπιθυμία', 'φυγάς', 'ἃς', 'ἀκολασία', 'σωφροσύνη', 'ὁρίζω', 'πρότερος', 'ἔχω', 'ἡσσάομαι', 'πολύς', 'κρείσσων', 'κρατέω', 'πολύς', 'ἥσσων', 'ἡδονή', 'ἀκρατης', 'ἐγκρατής', 'λύπη', 'μαλακός', 'καρτερικός', 'μεταξὺ', 'πλεῖστος', 'ἕξις', 'κἂν', 'ῥέπω', 'μαλλός', 'χείρων', 'ἔπος', 'ἔνιοι', 'ἡδονή', 'ἀναγκαῖαί', 'εἶμι', 'αἳ', 'ὑπερβολή', 'ἐλλείπω', 'ὅμοιος', 'ἐπιθυμία', 'ἔχις', 'λύπη', 'ὑπερβολή', 'ἡδύς', 'ὑπερβολάσ', 'προαίρεσις', 'διʼ', 'μηδείς', 'διʼ', 'ἕτερος', 'ἀποβαίνω', 'ἀκόλαστος', 'ἀνάγκη', 'μεταμελητικός', 'ὥστʼ', 'ἀνίατος', 'ἀμεταμέλητος', 'ἀνίατος', 'μέσος', 'σώφρων', 'ὅμοιος', 'σωματικός', 'λύπη', 'διʼ', 'ἧσσα', 'προαίρεσις', 'ἄγω', 'ἡδονή', 'φεύγω', 'λύπη', 'ἐπιθυμία', 'διαφέρω', 'ἀλλήλων', 'πᾶς', 'δοκέω', 'χείρ', 'εἶμι', 'ἤρεμος', 'πράσσω', 'αἰσχρός', 'σφοδρός', 'τύπτω', 'ποιέω', 'πάθος', 'ἀκόλαστος', 'χείρ', 'ἀκρατής', 'μαλακία', 'εἶδος', 'μαλλός', 'ἀκόλαστος', 'ἀντίκειμαι', 'ἀκρατής', 'ἐγκρατής', 'μαλακός', 'καρτερικός', 'καρτερέω', 'ἀντέχω', 'ἐγκράτεια', 'κρατέω', 'ἕτερος', 'ἀντέχω', 'κρατέω', 'ἡσσάομαι', 'νίκη', 'αἱρετός', 'ἐγκράτεια', 'καρτερία', 'πολύς', 'ἀντιτείνω', 'δύναμαι', 'μαλακός', 'τρυφή', 'τρυφή', 'μαλακία', 'ἕλκος', 'ἱμάτιον', 'πονέω', 'αἴρω', 'λύπη', 'οἴομαι', 'ἄθλιος', 'ἄθλιος', 'ὅμοιος', 'ὅμοιος', 'ἔχις', 'ἐγκράτεια', 'ἀκρασία', 'εἶμι', 'ἰσχυρός', 'ἡδονή', 'ἡσσάομαι', 'λύπη', 'θαυμαστός', 'συγγνωμονικός', 'θεοδέκτου', 'φιλοκτήτης', 'ἔχις', 'καρκίνος', 'ἀλόπῃ', 'κερκύων', 'κατέχω', 'γέλως', 'ἀθρόος', 'ἐκκαγχάζω', 'οἷος', 'συνέπεσε', 'ξενοφάντῳ', 'εἶμι', 'ἃς', 'πολύς', 'δύναμαι', 'ἀντέχω', 'ἡσσάομαι', 'δυνατός', 'ἀντιτείνω', 'φύσις', 'γένος', 'νόσος', 'οἷος', 'Σκύθης', 'βασιλεύς', 'μαλακία', 'γένος', 'θῆλυς', 'ἄρσην', 'διίστημι', 'δοκέω', 'παιδιώδης', 'ἀκόλαστος', 'μαλακός', 'παιδιή', 'ἄνεσίς', 'ἀνάπαυσις', 'ὑπερβάλλω', 'παιδιώδης', 'ἀκρασία', 'προπέτεια', 'ἀσθένεια', 'οἳ', 'ἐμμένω', 'βουλεύω', 'πάθος', 'οἳ', 'βουλεύω', 'ἄγω', 'πάθος', 'ἔνιοι', 'γαργαλίζω', 'ἑαυτοὺς', 'λογισμός', 'ἡσσάομαι', 'πάθος', 'οὔτʼ', 'ἡδὺ', 'οὔτʼ', 'λυπηρός', 'ὀξύς', 'μελαγχολικός', 'προπετής', 'ἀκρασία', 'εἶμι', 'ἀκρατής', 'οἳ', 'ταχυτής', 'οἳ', 'σφοδρότης', 'ἀναμένω', 'λόγος', 'ἀκολουθητικοί', 'φαντασία', 'ἀκόλαστος', 'λέγω', 'μεταμελητικός', 'ἐμμενής', 'προαίρεσις', 'ἀκρατης', 'μεταμελητικός', 'πᾶς', 'ἀπορέω', 'ἔχις', 'ἀνίατος', 'ἰατός', 'ἔοικα', 'μοχθηρία', 'νόσημα', 'οἷος', 'ὕδερος', 'φθίσις', 'ἀκρασία', 'ἐπιληπτικοῖς', 'συνεχής', 'συνεχής', 'πονηρία', 'ὅλοξ', 'ἕτερος', 'γένος', 'ἀκρασία', 'κακία', 'κακία', 'λανθάνω', 'ἀκρασία', 'λανθάνω', 'βελτίων', 'ἐκστατικός', 'λόγος', 'ὑπʼ', 'ἐλάσσων', 'πάθος', 'ἡσσάομαι', 'ἀπροβούλευτος', 'ἅτερος', 'ὅμοιος', 'ἀκρατής', 'ταχὺ', 'ὑπʼ', 'ὀλίγος', 'οἶνος', 'ἐλάσσων', 'πολύς', 'κακία', 'ἀκρασία', 'φανερός', 'ʽἀλλά', 'ἴσωσ', 'προαίρεσις', 'προαίρεσίν', 'ὅμοιόν', 'πρᾶξις', 'δημοδόκου', 'Μιλήσιος', 'Μιλήσιος', 'ἀσύνετος', 'εἶμι', 'δράω', 'οἷάπερ', 'ἀσύνετος', 'ἀκρατής', 'ἄδικος', 'εἶμι', 'ἀδικέω', 'ἔπος', 'οἷος', 'πείθω', 'διώκω', 'ὑπερβολην', 'ὀρθός', 'λόγος', 'σωματικός', 'ἡδονή', 'πείθω', 'οἷος', 'διώκω', 'ἐκεῖνος', 'εὐμετάπειστος', 'ἀρετη', 'μοχθηρία', 'ἀρχην', 'φθείρω', 'σώζω', 'πρᾶξις', 'ἵημι', 'ἀρχή', 'μαθηματικός', 'ὑπόθεσις', 'λόγος', 'διδασκαλικός', 'ἀρχή', 'ἀρετη', 'φυσικός', 'ἐθιστη', 'ὀρθοδοξέω', 'ἀρχή', 'σώφρων', 'ἀκόλαστος', 'ἐναντίος', 'πάθος', 'ἐκστατικός', 'ὀρθός', 'λόγος', 'ὃν', 'πράσσω', 'ὀρθός', 'λόγος', 'κράτος', 'πάθος', 'οἷος', 'πείθω', 'διώκω', 'δεῖ', 'ἡδονή', 'κράτος', 'οὗτός', 'ἀκρατής', 'βελτίων', 'ὢν', 'ἀκόλαστος', 'φαῦλος', 'ἁπλόω', 'σώζω', 'βέλτιστος', 'ἀρχή', 'ἐναντίος', 'ἐμμενετικός', 'ἐκστατικός', 'πάθος', 'φανερός', 'σπουδαῖος', 'ἕξις', 'φαῦλος', 'πότερος', 'ἐγκρατής', 'ὁποῖος', 'λόγος', 'ὁποιᾳοῦν', 'προαίρεσις', 'ἐμμενής', 'ὀρθός', 'ἀκρατης', 'ὁποιᾳοῦν', 'ἐμμενής', 'προαίρεσις', 'ὁποῖος', 'λόγος', 'ψευδής', 'λόγος', 'προαίρεσις', 'ὀρθός', 'ἀπορέω', 'πρότερος', 'ὁποιᾳοῦν', 'ἀληθής', 'λόγος', 'ὀρθός', 'προαίρεσις', 'ἐμμενής', 'ἐμμενής', 'αἱρέω', 'διώκω', 'διώκω', 'αἱρέω', 'πρότερος', 'ἁπλόω', 'λέγω', 'ὁποιᾳοῦν', 'δόξα', 'ἐμμενής', 'ἐξίστημι', 'ἁπλόω', 'ἀληθής', 'εἶμι', 'τίνω', 'οἳ', 'ἐμμενετικοί', 'δόξα', 'εἶμι', 'οὓς', 'καλέω', 'ἰσχυρογνώμονας', 'δύσπειστος', 'εὐμετάπειστος', 'οἳ', 'ὅμοιος', 'ἔχω', 'ἐγκρατής', 'ἄσωτος', 'ἐλευθέριος', 'θρασὺς', 'θαρσαλέος', 'εἶμι', 'ἕτερος', 'πολύς', 'πάθος', 'ἐπιθυμία', 'μεταβάλλω', 'ἐγκρατής', 'ἔπος', 'εὔπειστος', 'τύχη', 'ἐγκρατής', 'οἳ', 'λόγος', 'ἔπος', 'ἐπιθυμία', 'λαμβάνω', 'ἄγω', 'πολύς', 'ἡδονή', 'εἶμι', 'ἰσχυρογνώμονες', 'ἰδιογνώμων', 'ἀμαθής', 'ἄγροικος', 'ἰδιογνώμων', 'διʼ', 'ἡδονην', 'λύπη', 'χαίρω', 'μεταπείθω', 'λυπέω', 'ἄκυρος', 'ψήφισμα', 'μαλλός', 'ἀκρατής', 'ἔοικα', 'ἐγκρατής', 'εἶμι', 'τίνω', 'οἳ', 'ἐμμένω', 'διʼ', 'ἀκρασία', 'οἷος', 'φιλοκτήτῃ', 'Σοφοκλέης', 'Νεοπτόλεμος', 'διʼ', 'ἡδονην', 'ἐμμένω', 'καλός', 'ἀληθεύω', 'κᾶλον', 'πείθω', 'Ὀδυσσεύς', 'ψεύδω', 'πᾶς', 'διʼ', 'ἡδονή', 'οὔτʼ', 'ἀκόλαστος', 'φαῦλος', 'οὔτʼ', 'ἀκρατής', 'διʼ', 'αἰσχρός', 'ἔπος', 'οἷος', 'ἥσσων', 'δεῖ', 'σωματικός', 'χαίρω', 'ἐμμενής', 'λόγος', 'ἀκρατής', 'μέσος', 'ἐγκρατής', 'ἀκρατης', 'ἐμμενής', 'λόγος', 'μᾶλλόν', 'ἧττόν', 'ἐγκρατης', 'ἐμμενής', 'διʼ', 'ἕτερος', 'μεταβάλλω', 'δεῖ', 'ἐγκράτεια', 'σπουδαῖος', 'ἀμφότερος', 'ἐναντίος', 'ἕξις', 'φαῦλος', 'φαίνω', 'ἕτερος', 'ὀλίγος', 'φανερός', 'σωφροσύνη', 'ἀκολασία', 'δοκέω', 'ἐναντίος', 'μόνος', 'ἐγκράτεια', 'ἀκρασία', 'ἔπος', 'ὁμοιότης', 'πολύς', 'λέγω', 'ἐγκράτεια', 'σώφρων', 'ὁμοιότης', 'ἀκολουθέω', 'ἐγκρατης', 'οἷος', 'μηδείς', 'λόγος', 'σωματικός', 'ἡδονή', 'ποιέω', 'σώφρων', 'χόω', 'χόω', 'φαῦλος', 'ἐπιθυμία', 'οἷος', 'ἥδομαι', 'λόγος', 'οἷος', 'ἥδομαι', 'ἄγω', 'ὅμοιος', 'ἀκρατης', 'ἀκόλαστος', 'ἕτερος', 'ἀμφότερος', 'σωματικός', 'ἡδύς', 'διώκω', 'δεῖ', 'ἁμός', 'φρόνιμος', 'ἀκρατής', 'ἐνδέχομαι', 'ἁμός', 'φρόνιμος', 'σπουδαῖος', 'ἦθος', 'δείκνυμι', 'οἶδα', 'μόνος', 'φρόνιμος', 'πρακτικός', 'ἀκρατης', 'πρακτικός', 'δεινός', 'κωλύω', 'ἀκρατής', 'δοκέω', 'φρόνιμος', 'εἶναί', 'τίνω', 'ἀκρατής', 'δεινότης', 'διαφέρω', 'φρόνησις', 'τρόπος', 'πρότερος', 'λόγος', 'λόγος', 'ἐγγὺς', 'διαφέρω', 'προαίρεσινοὐδέ', 'εἰδὼς', 'θεωρός', 'ἑκὼν', 'ʽτρόπον', 'εἰδὼς', 'ποιέω', 'ἵημι', 'ἕνεκἀ', 'πονηρός', 'προαίρεσις', 'ἐπιεικής', 'ὥσθʼ', 'ἡμιπόνηρος', 'ἄδικος', 'ἐπίβουλος', 'ἐμμενετικός', 'βουλεύω', 'μελαγχολικός', 'βουλευτικός', 'ὅλοξ', 'ἔοικα', 'ἀκρατης', 'πόλις', 'ψηφίζω', 'ἅπας', 'δέον', 'νόμος', 'ἔχις', 'σπουδαῖος', 'χράομαι', 'ἀναξανδρίδης', 'σκώπτω', 'πόλις', 'ἐβούλεθʼ', 'νομή', 'μέλος', 'πονηρός', 'νόμος', 'πονηρός', 'ἀκρασία', 'ἐγκράτεια', 'ὑπερβάλλω', 'πολύς', 'ἕξις', 'ἐμμενής', 'μαλλός', 'ἥσσων', 'πλεῖστος', 'δύναμις', 'εὐίατος', 'ἀκρασία', 'ἣν', 'μελαγχολικός', 'ἀκρατεύονται', 'ἐμμένω', 'διʼ', 'ἐθισμοῦ', 'ἀκρατής', 'φυσικός', 'ῥᾴδιος', 'ἔθος', 'μετακινέω', 'φύσις', 'ἔθος', 'χαλεπός', 'φύσις', 'ἔοικα', 'εὔηνος', 'λέγω', 'φῆμις', 'πολυχρόνιος', 'μελέτη', 'φίλος', 'ἄνθρωπος', 'φύσις', 'ἐγκράτεια', 'ἀκρασία', 'καρτερία', 'μαλακία', 'ἔχω', 'ἕξις', 'ἀλλήλων', 'εἴρω', 'ἡδονή', 'λύπη', 'θεωρέω', 'πολιτικός', 'τέλος', 'ἀρχιτέκτων', 'ἕκαστος', 'κακός', 'ἀγαθός', 'ἁπλόω', 'λέγω', 'ἀναγκαῖον', 'ἐπισκέπτομαι', 'ἀρετην', 'κακία', 'ἠθικην', 'λύπη', 'ἡδονή', 'ἔθεμεν', 'εὐδαιμονία', 'πλεῖστος', 'μεθʼ', 'ἡδονή', 'εἶναί', 'φάσις', 'μακάριος', 'ὀνομάζω', 'χαίρω', 'δοκέω', 'ἡδονη', 'ἀγαθός', 'ἀγαθός', 'ἡδονή', 'ἔνιοι', 'πολύς', 'φαῦλος', 'τρίτος', 'πᾶς', 'ἀγαθός', 'ὁμός', 'ἐνδέχομαι', 'ἄριστον', 'ἡδονή', 'ὅλοξ', 'ἀγαθός', 'πᾶς', 'ἡδονη', 'γένεσίς', 'φύσις', 'αἰσθητός', 'γένεσις', 'συγγενής', 'τέλος', 'οἷος', 'οἰκοδόμησις', 'οἰκία', 'σώφρων', 'φεύγω', 'ἡδονή', 'φρόνιμος', 'ἄλυπος', 'διώκω', 'ἡδύς', 'ἐμπόδιος', 'φρονέω', 'ἡδονή', 'ὅσος', 'μαλλός', 'χαίρω', 'μαλλός', 'οἷος', 'δύναμαι', 'νοῆσαί', 'τέχνη', 'ἡδονή', 'πᾶς', 'ἀγαθός', 'τέχνη', 'ἔργον', 'παιδιή', 'θηρίον', 'διώκω', 'ἡδονή', 'πᾶς', 'σπουδαῖος', 'εἶμι', 'αἰσχρός', 'βλαβερός', 'νοσώδης', 'ἔνιοι', 'ἡδύς', 'ἄριστον', 'ἡδονή', 'τέλος', 'γένεσις', 'ταῦτʼ', 'συμβαίνω', 'ἀγαθός', 'ἄριστον', 'δῆλος', 'πρότερος', 'ἔπος', 'ἀγαθός', 'ʽτό', 'ἁπλόω', 'τινἴ', 'φύσις', 'ἕξις', 'ἀκολουθέω', 'κίνησις', 'γένεσις', 'φαῦλος', 'αἳ', 'ἁπλόω', 'φαῦλος', 'οὒ', 'αἱρετός', 'ἔνιοι', 'ὀλίγος', 'χρόνος', 'αἱρετός', 'ἁπλόω', 'αἳ', 'ἡδονή', 'φαίνω', 'ὅσος', 'λύπη', 'ἰατρεία', 'οἷος', 'κάμνω', 'ἔπος', 'ἀγαθός', 'ἐνέργεια', 'ἕξις', 'καθιστάω', 'φυσικός', 'ἕξις', 'ἡδεῖαί', 'εἶμι', 'ἐνέργεια', 'ἐπιθυμία', 'ὑπόλοιπος', 'ἕξις', 'φύσις', 'ἔπος', 'ἀνίημι', 'λύπη', 'ἐπιθυμία', 'εἶμι', 'ἡδονή', 'οἷος', 'θεωρέω', 'ἐνέργεια', 'φύσις', 'ἐνδεής', 'σημεῖον', 'ἡδύς', 'χαίρω', 'φύσις', 'ἁπλόω', 'ἡδύς', 'ἐναντίος', 'ὄξος', 'πικρός', 'χαίρω', 'φύσις', 'ἡδὺ', 'οὔθʼ', 'ἁπλόω', 'ἡδύς', 'ὥστʼ', 'ἡδονή', 'ἡδύς', 'ἀλλήλων', 'διίστημι', 'ἡδονή', 'ἀνάγκη', 'ἕτερόν', 'βελτίων', 'ἡδονή', 'τίνω', 'φάσις', 'τέλος', 'γένεσις', 'γένεσις', 'εἶμι', 'γένεσις', 'πᾶς', 'ἐνέργεια', 'τέλος', 'συμβαίνω', 'τέλος', 'πᾶς', 'ἕτερόν', 'τελείωσις', 'φύσις', 'καλός', 'ἔχις', 'αἰσθητην', 'γένεσις', 'φανή', 'ἡδονή', 'μαλλός', 'λεκτέος', 'ἐνέργεια', 'φύσις', 'ἕξις', 'αἰσθητην', 'ἀνεμπόδιστος', 'δοκέω', 'γένεσίς', 'τίσις', 'κύριος', 'ἀγαθός', 'ἐνέργεια', 'γένεσις', 'οἴομαι', 'ἕτερος', 'φαῦλος', 'νοσώδης', 'ἔνιοι', 'ἡδύς', 'ὑγιεινός', 'ἔνιοι', 'φαῦλος', 'χρηματισμός', 'φαῦλος', 'ἄμφω', 'φαῦλος', 'ἔπος', 'θεωρέω', 'βλάπτω', 'ὑγίεια', 'ἐμποδίζω', 'φρόνησις', 'οὔθʼ', 'ἕξις', 'ἀφʼ', 'ἕκαστος', 'ἡδονή', 'ἀλλότριος', 'ἔπος', 'θεωρέω', 'μανθάνω', 'μαλλός', 'ποιέω', 'θεωρέω', 'μανθάνω', 'τέχνη', 'ἔργον', 'ἡδονην', 'μηδείς', 'εὔλογος', 'συμβαίνω', 'ἐνέργεια', 'τέχνη', 'δύναμις', 'μυρεψικη', 'τέχνη', 'ὀψοποιητικη', 'δοκέω', 'ἡδονή', 'σώφρων', 'φεύγω', 'φρόνιμος', 'διώκω', 'ἄλυπος', 'βιός', 'παιδιή', 'θηρίον', 'διώκω', 'λύω', 'πᾶς', 'ἔπος', 'εἴρω', 'ἀγαθός', 'ἁπλόω', 'ἀγαθός', 'πᾶς', 'ἡδονή', 'θηρίον', 'παιδιή', 'διώκω', 'ἀλυπίαν', 'φρόνιμος', 'μετʼ', 'ἐπιθυμία', 'λύπη', 'σωματικός', 'ʽτοιαῦται', 'αὗταἰ', 'ὑπερβολή', 'ἃς', 'ἀκόλαστος', 'ἀκόλαστος', 'σώφρων', 'φεύγω', 'ἔπος', 'εἶμι', 'ἡδονή', 'σώφρων', 'λύπη', 'κακός', 'ὁμολογέω', 'φευκτός', 'ἁπλόω', 'κακός', 'ἐμποδιστική', 'φευκτός', 'ἐναντίος', 'φευκτός', 'κακός', 'ἀγαθός', 'ἀνάγκη', 'ἡδονην', 'ἀγαθός', 'σπεύσιππος', 'ἐλύω', 'συμβαίνω', 'λύσις', 'μέγας', 'ἐλάσσων', 'ἴσος', 'ἐναντίος', 'φαιός', 'κακός', 'ἡδονή', 'τἄριστόν', 'τʼ', 'κωλύω', 'ἡδονή', 'ἔνιοι', 'φαῦλος', 'ἡδονή', 'ἐπιστήμη', 'ἔνιοι', 'φαῦλος', 'ἴσος', 'ἀναγκαῖον', 'ἕκαστος', 'ἕξεώς', 'εἶμι', 'ἐνέργεια', 'ἀνεμπόδιστος', 'εἴθʼ', 'πᾶς', 'ἐνέργειά', 'εὐδαιμονία', 'ἀνεμπόδιστος', 'αἱρετός', 'ἡδονή', 'ἐάω', 'ἡδονη', 'ἄριστον', 'πολύς', 'ἡδονή', 'φαῦλος', 'τυγχάνω', 'ἁπλόω', 'πᾶς', 'εὐδαίμων', 'ἡδὺν', 'οἴομαι', 'βιός', 'ἐμπλέκω', 'ἡδονην', 'εὐδαιμονία', 'εὔλογος', 'ἐνέργεια', 'τέλειος', 'εὐδαιμονία', 'τέλειος', 'προσδέω', 'εὐδαίμων', 'σῶμα', 'ἀγαθός', 'τύχη', 'ἐμποδίζω', 'δυστυχία', 'μέγας', 'εὐδαίμων', 'ἀγαθός', 'ἑκών', 'ἀέκων', 'λέγω', 'προσδέω', 'τύχη', 'δοκέω', 'τίσις', 'ταὐτόν', 'εὐτυχία', 'εὐδαιμονία', 'ἔπος', 'αὐτη', 'ἐμπόδιός', 'ἴσος', 'εὐτυχία', 'καλέω', 'δίκαιος', 'εὐδαιμονία', 'ὅρος', 'διώκω', 'ἅπας', 'θηρίον', 'ἄνθρωπος', 'ἡδονην', 'σημεῖόν', 'εἶναί', 'ἄριστον', 'φήμη', 'οὔτις', 'ἀπόλλυμι', 'λαός', 'πολύς', 'ηες', 'ἀοιδή', 'ἔπος', 'αὐτη', 'φύσις', 'οὔθʼ', 'ἕξις', 'ἀριστεύς', 'οὔτʼ', 'δοκέω', 'ἡδονην', 'διώκω', 'αὐτην', 'πᾶς', 'ἡδονην', 'πᾶς', 'ἴσος', 'διώκω', 'ἣν', 'οἴομαι', 'ἣν', 'φημί', 'πᾶς', 'φύσις', 'ἔχις', 'θεῖος', 'λαμβάνω', 'ὄνομα', 'κληρονομία', 'σωματικός', 'ἡδονή', 'παραβάλλω', 'πᾶς', 'μετέχω', 'μονάς', 'γνώριμος', 'μονάς', 'οἴομαι', 'φανερός', 'ἡδονη', 'ἀγαθός', 'ἐνέργεια', 'ζάω', 'εὐδαίμων', 'δεῖ', 'ἀγαθός', 'λυπηρός', 'ἐνδέχομαι', 'ζάω', 'κακός', 'οὔτʼ', 'ἀγαθός', 'λύπη', 'μηδʼ', 'ἡδονή', 'φεύγω', 'ἡδύς', 'βιός', 'σπουδαῖος', 'ἐνέργεια', 'σωματικός', 'ἡδονή', 'ἐπισκεπτέος', 'λέγω', 'ἔνιαί', 'ἡδονή', 'αἱρετός', 'σφοδρός', 'οἷος', 'κάλαις', 'σωματικός', 'ἃς', 'ἀκόλαστος', 'ἐναντίος', 'λύπη', 'μοχθηρός', 'κακός', 'ἀγαθός', 'ἐναντίος', 'ἀγαθός', 'ἀναγκαῖος', 'κακός', 'ἀγαθός', 'ἀγαθός', 'ἕξις', 'κίνησις', 'ὅσος', 'βελτίων', 'ὑπερβολή', 'ἡδονή', 'ὅσος', 'ἡδονή', 'σωματικός', 'ἀγαθός', 'ὑπερβολή', 'φαῦλος', 'διώκω', 'ὑπερβολή', 'ἀναγκαῖος', 'πᾶς', 'χαίρουσί', 'ὄψον', 'οἶνος', 'δεῖ', 'ἐναντίος', 'λύπη', 'ὑπερβολην', 'φεύγω', 'ὅλοξ', 'ὑπερβολή', 'λύπη', 'ἐναντίος', 'διώκω', 'ὑπερβολή', 'ἔπος', 'μόνος', 'δεῖ', 'ἀληθής', 'εἶπον', 'αἴτιος', 'ψευδής', 'συμβάλλω', 'πίστις', 'εὔλογος', 'φανή', 'φαίνω', 'ἀληθής', 'ὂν', 'ἀληθής', 'πιστεύω', 'ποιέω', 'ἀληθής', 'μαλλός', 'λεκτέος', 'φαίνω', 'σωματικός', 'ἡδονή', 'αἱρετός', 'πρότερος', 'ἐκκρούω', 'λύπη', 'ὑπερβολή', 'λύπη', 'ἰατρεία', 'ἡδονην', 'διώκω', 'ὅλοξ', 'σωματικός', 'σφοδρός', 'γίγνομαι', 'ἰατρεία', 'διώκω', 'ἐναντίος', 'φαίνω', 'σπουδαῖος', 'δοκέω', 'ἡδονη', 'εἴρω', 'αἳ', 'φαῦλος', 'φύσεώς', 'εἶμι', 'πρᾶξις', 'ʽἢ', 'γενετή', 'θηρίον', 'διʼ', 'ἔθος', 'οἷος', 'φαῦλος', 'ἄνθρωπος', 'αἳ', 'ἰατρεία', 'ἐνδεής', 'ἔχω', 'βελτίων', 'γίγνομαι', 'αἳ', 'συμβαίνω', 'σπουδαῖος', 'διώκω', 'σφοδρός', 'χαίρω', 'δίψα', 'παρασκευάζω', 'ἀβλαβής', 'ἀνεπιτίμητος', 'βλαβερός', 'φαῦλος', 'ἔχω', 'ἕτερος', 'ἐφʼ', 'χαίρω', 'μηδέτερος', 'πολύς', 'λυπηρός', 'φύσις', 'πονέω', 'ζῷον', 'φυσιολόγοι', 'μαρτυρέω', 'ὁράω', 'ἀκούω', 'λυπηρός', 'ἦδος', 'συνήθης', 'φάσις', 'ὅμοιος', 'νεότης', 'αὔξησις', 'διάκειμαι', 'ἡδὺ', 'νεότης', 'μελαγχολικός', 'φύσις', 'δέω', 'ἰατρεία', 'σῶμα', 'διατελής', 'κρᾶσις', 'ὄρεξις', 'σφοδρός', 'εἶμι', 'ἐξελαύνω', 'ἡδονη', 'λύπη', 'τʼ', 'ἐναντίος', 'ἰσχυρός', 'ἀκόλαστος', 'φαῦλος', 'γίγνομαι', 'ἀνίημι', 'λύπη', 'ἔχω', 'ὑπερβολή', 'φύσις', 'ἡδύς', 'λέγω', 'ἡδύς', 'συμβαίνω', 'ἰατρεύω', 'ὑγιής', 'πράττοντός', 'ἡδὺ', 'δοκέω', 'φύσις', 'ἡδύς', 'ποιέω', 'πρᾶξις', 'φύσις', 'ἡδὺ', 'ἁπλόος', 'ἡμός', 'φύσις', 'ἐνεῖναί', 'ἕτερος', 'φθαρτός', 'ἕτερος', 'πράσσω', 'ἕτερος', 'φύσις', 'φύσις', 'ἰσάζω', 'λυπηρός', 'δοκέω', 'οὔθʼ', 'ἡδὺ', 'ἔπος', 'εἶμι', 'φύσις', 'ἁπλόος', 'ἐάω', 'αὐτη', 'πρᾶξις', 'ἡδύς', 'θεός', 'μίαν', 'ἁπλόος', 'χαίρω', 'ἡδονή', 'μόνος', 'κινήσεώς', 'ἐνέργεια', 'ἀκινησίας', 'ἡδονη', 'μαλλός', 'ἠρεμία', 'κίνησις', 'μεταβολή', 'πᾶς', 'γλυκύς', 'ποιητής', 'πονηρία', 'ἄνθρωπος', 'εὐμετάβολος', 'πονηρός', 'φύσις', 'μεταβολή', 'ἁπλόος', 'ἐπιεικής', 'ἐγκράτεια', 'ἀκρασία', 'ἡδονή', 'λύπη', 'εἴρω', 'ἕκαστος', 'ἀγαθός', 'κάκη', 'λοιπός', 'φιλία', 'ἐρέω', 'βοοκ', 'φιλία', 'ἕποιτʼ', 'διέρχομαι', 'ἀρετή', 'μετʼ', 'ἀρετή', 'ἀναγκαῖος', 'βιός', 'ἀνίημι', 'φίλος', 'ἕλοιτʼ', 'ζάω', 'χόω', 'λοιπός', 'ἀγαθός', 'πᾶς', 'πλουτέω', 'ἀρχή', 'δυναστεία', 'δοκέω', 'φίλος', 'μάλιστʼ', 'χρεία', 'ὄφελος', 'εὐετηρία', 'εὐεργεσία', 'γίγνομαι', 'ἐπαινετός', 'φίλος', 'τηρέω', 'σῴζοιτʼ', 'ἀνίημι', 'φίλος', 'ὅσος', 'πλείων', 'τοσοῦτος', 'ἐπισφαλής', 'πενία', 'λοιπός', 'δυστυχία', 'μονή', 'οἴομαι', 'καταφυγή', 'φίλος', 'νέος', 'ἀναμάρτητος', 'πρέσβυς', 'θεραπεία', 'ἐλλείπω', 'πρᾶξις', 'διʼ', 'ἀσθένεια', 'βοήθεια', 'τʼ', 'ἀκμή', 'καλός', 'πρᾶξις', 'δύʼ', 'ηομ', 'ιλ', 'νοέω', 'πράσσω', 'δυνατός', 'φύσις', 'τʼ', 'ὑπάρχω', 'ἔοικα', 'γεννάω', 'μόνος', 'ἄνθρωπος', 'ὄρνις', 'πλεῖστος', 'ζωή', 'ὁμοεθνής', 'ἀλλήλων', 'ἄνθρωπος', 'φιλάνθρωπος', 'ἐπαινέω', 'εἶδον', 'πλάνη', 'οἰκεῖος', 'ἅπας', 'ἄνθρωπος', 'ἄνθρωπος', 'φίλος', 'ἔοικα', 'πόλις', 'συνόχωκα', 'φιλία', 'νομοθέτης', 'μαλλός', 'αὐτην', 'σπουδάζω', 'δικαιοσύνη', 'ὁμόνοια', 'ὅμοιόν', 'φιλία', 'ἔοικα', 'μάλιστʼ', 'ἐφίημι', 'στάσις', 'ἔχθρη', 'ἐξελαύνω', 'φίλος', 'ὄντα', 'δεῖ', 'δικαιοσύνη', 'δίκαιος', 'προσδέω', 'φιλία', 'δίκαιος', 'φιλικός', 'δοκέω', 'μόνος', 'ἀναγκαῖόν', 'κᾶλον', 'φιλόφιλος', 'ἐπαινέω', 'πολυφιλία', 'δοκέω', 'κᾶλον', 'ἵημι', 'αὐτοὺς', 'οἴομαι', 'ἀνήρ', 'ἀγαθοὺς', 'φίλος', 'διαμφισβητέω', 'ὀλίγος', 'οἳ', 'ὁμοιότητά', 'τίθημι', 'αὐτην', 'ὅμοιος', 'φίλος', 'ὅμοιόν', 'φάσις', 'ὅμοιος', 'κολοιός', 'πότης', 'κολοιός', 'οἳ', 'ἐναντίος', 'κεραμεύς', 'πᾶς', 'ἀλλήλων', 'φάσις', 'ἀνώτερος', 'ἐπιζητέω', 'φυσικός', 'εὐριπίδης', 'ἐράω', 'ό̓μβρος', 'γαῖα', 'ἐράω', 'σεμνός', 'οὐρανός', 'ό̓μβρος', 'πίπτω', 'γαῖα', 'ἡράκλειτος', 'ἀντίξοος', 'συμφέρω', 'διαφέρω', 'καλός', 'ἁρμονία', 'πᾶς', 'κατʼ', 'ἔρις', 'γίγνομαι', 'ἐναντίος', 'ἐμπεδοκλῆς', 'ὅμοιος', 'ὅμοιος', 'ἐφίημι', 'φυσικός', 'ἀπορημάτων', 'ἀφίημι', 'ʽοὐ', 'οἰκεῖος', 'σκέψεωσ', 'ὅσος', 'ἀνθρωπικός', 'ἀνήκω', 'ἦθος', 'πάθη', 'ταῦτʼ', 'ἐπισκέπτομαι', 'οἷος', 'πότερος', 'πᾶς', 'γίγνομαι', 'φιλία', 'οἷόν', 'μοχθηροὺς', 'φίλος', 'πότερος', 'ἵημι', 'εἶδος', 'φιλία', 'πλείων', 'ἵημι', 'ἐπιδέχομαι', 'μαλλός', 'ἥσσων', 'ἱκανός', 'πιστεύω', 'σημεῖον', 'δέχομαι', 'μαλλός', 'ἥσσων', 'ἕτερος', 'εἶδος', 'εἴρω', 'τάχος', 'γίγνομαι', 'φανερός', 'φιλητός', 'δοκέω', 'πᾶς', 'φιλέω', 'φιλητός', 'ἀγαθός', 'ἡδὺ', 'χρήσιμος', 'δοκέω', 'χρήσιμος', 'διʼ', 'ἵημι', 'γίγνομαι', 'ἀγαθός', 'ἡδονή', 'φιλητός', 'ἐάω', 'ἀγαθός', 'ἡδὺ', 'τέλος', 'πότερος', 'ἀγαθός', 'φιλέω', 'ἀγαθός', 'διαφωνέω', 'ὅμοιος', 'ἡδύς', 'δοκέω', 'ἀγαθός', 'φιλέω', 'ἕκαστος', 'ἁπλόω', 'ἀγαθός', 'φιλητός', 'ἕκαστος', 'ἕκαστος', 'φιλέω', 'ἕκαστος', 'ὂν', 'ἀγαθός', 'διαφέρω', 'φιλητός', 'ὄντα', 'διʼ', 'φιλέω', 'ἄψυχος', 'φίλησις', 'λέγω', 'φιλία', 'ἀντιφίλησις', 'βούλησις', 'ἐκεῖνος', 'ἀγαθός', 'ʽγελοῖον', 'ἴσος', 'οἶνος', 'βούλομαι', 'ἀγαθός', 'σώζω', 'βούλομαι', 'ἔχᾐ', 'φίλος', 'φάσις', 'δεῖ', 'βούλομαι', 'ἀγαθός', 'ἐκεῖνος', 'ἀγαθός', 'εὔνους', 'λέγω', 'παρʼ', 'ἐκεῖνος', 'γίγνομαι', 'εὔνοια', 'φιλία', 'προσθετέος', 'πολύς', 'εἶμι', 'εὔνους', 'ὁράω', 'ὑπολαμβάνω', 'ἐπιεικής', 'χρήσιμος', 'κἂν', 'ἐκεῖνος', 'πάσχω', 'εὔνους', 'φαίνω', 'ἀλλήλων', 'φίλος', 'εἶπον', 'ἔχω', 'δεῖ', 'εὐνοέω', 'ἀλλήλων', 'βούλομαι', 'ἀγαθός', 'διʼ', 'ἵημι', 'διαφέρω', 'ἀλλήλων', 'εἶδος', 'φίλησις', 'φιλία', 'τριάς', 'φιλία', 'εἶδος', 'ἰσάριθμος', 'φιλητός', 'ἕκαστος', 'ἀντιφίλησις', 'ἀλλήλων', 'βούλομαι', 'ἀγαθός', 'ἀλλήλων', 'φιλέω', 'χρήσιμος', 'ἀλλήλων', 'αὑτοὺς', 'φιλέω', 'γίνεταί', 'παρʼ', 'ἀλλήλων', 'ἀγαθός', 'ὅμοιος', 'διʼ', 'ἡδονή', 'ποιός', 'ἀγαπάζω', 'εὐτράπελος', 'ἡδύς', 'χρήσιμος', 'ἀγαθός', 'στέργω', 'διʼ', 'ἡδονην', 'ἡδύς', 'φιλούμενός', 'χρήσιμος', 'ἡδύς', 'φιλία', 'αὗταί', 'εἶμι', 'φιλέω', 'πορίζω', 'οἳ', 'ἀγαθός', 'οἳ', 'ἡδονή', 'εὐδιάλυτοι', 'τοιαῦταί', 'εἶμι', 'διαμένω', 'ὅμοιος', 'ἡδύς', 'χρήσιμος', 'οὖς', 'παύω', 'χρήσιμος', 'διαμένω', 'γίγνομαι', 'διʼ', 'φίλος', 'διαλύω', 'φιλία', 'φιλία', 'ἐκεῖνος', 'πρεσβύτης', 'δοκέω', 'φιλία', 'γίγνομαι', 'ʽοὐ', 'ἡδὺ', 'τηλικοῦτος', 'διώκω', 'ὠφέλιμος', 'ἀκμή', 'ναός', 'ὅσος', 'συμφέρω', 'διώκω', 'συζάω', 'μετʼ', 'ἀλλήλων', 'εἶμι', 'ἡδύς', 'προσδέω', 'ὁμιλία', 'ὠφέλιμος', 'οὖς', 'τοσοῦτος', 'εἶμι', 'ἡδύς', 'ἐφʼ', 'ὅσος', 'ἐλπίς', 'ἔχω', 'ἀγαθός', 'ξενικός', 'τίθημι', 'ναός', 'φιλία', 'διʼ', 'ἡδονην', 'δοκέω', 'πάθος', 'ζάω', 'διώκω', 'ἡδὺ', 'πηρός', 'ἡλικία', 'ἡδύς', 'γίγνομαι', 'ἕτερος', 'γίγνομαι', 'φίλος', 'παύω', 'ἁμός', 'ἡδύς', 'φιλία', 'μεταπίπτω', 'ἡδονή', 'ταχύς', 'μεταβολή', 'ἐρωτικός', 'νέος', 'πάθος', 'διʼ', 'ἡδονην', 'πολὺ', 'ἐρωτικός', 'φιλέω', 'παύω', 'ἡμέρα', 'συνημερεύω', 'συζάω', 'βούλομαι', 'γίγνομαι', 'φιλία', 'τέλειος', 'ἀγαθός', 'φιλία', 'κατʼ', 'ἀρετην', 'ὅμοιος', 'ἀγαθός', 'ὅμοιος', 'βούλομαι', 'ἀλλήλων', 'ἀγαθός', 'ἀγαθός', 'εἶμι', 'ἀγαθός', 'φίλος', 'ἐκεῖνος', 'φίλος', 'διʼ', 'αὑτοὺς', 'ἔχω', 'διαμένω', 'φιλία', 'ἑός', 'ἀγαθός', 'οὖς', 'ἀρετη', 'μόνιμος', 'ἑκάτερος', 'ἁπλόω', 'ἀγαθός', 'φίλος', 'ἀγαθός', 'ἁπλόω', 'ἀγαθός', 'ἀλλήλων', 'ὠφέλιμος', 'ὅμοιος', 'ἡδύς', 'ἁπλόω', 'ἀγαθός', 'ἡδύς', 'ἀλλήλων', 'ἕκαστος', 'ἡδονή', 'εἶμι', 'οἰκεῖος', 'πρᾶξις', 'ἀγαθός', 'ὅμοιος', 'φιλία', 'μόνιμος', 'εὔλογος', 'συνάπτω', 'πάνθʼ', 'ὅσος', 'φίλος', 'δεῖ', 'ὑπάρχω', 'πᾶς', 'φιλία', 'διʼ', 'ἀγαθός', 'διʼ', 'ἡδονή', 'ἁπλόω', 'φιλέω', 'ὁμοιότητά', 'πάνθʼ', 'ὑπάρχω', 'ὅμοιος', 'λοιπός', 'ἁπλόω', 'ἀγαθός', 'ἡδὺ', 'ἁπλόω', 'φιλητός', 'φιλέω', 'φιλία', 'ἀριστεύς', 'σπάνιος', 'ὀλίγος', 'προσδέω', 'χρόνος', 'συνήθεια', 'παροιμία', 'εἰδῆσαι', 'ἀλλήλων', 'ἅλας', 'συναναλίσκω', 'ἀποδείκνυμι', 'πρότερος', 'φίλος', 'ἑκάτερος', 'ἑκάτερος', 'φανή', 'φιλητός', 'πιστεύω', 'φιλικός', 'ἀλλήλων', 'βούλομαι', 'φίλος', 'εἶμι', 'φιλητός', 'τοῦτʼ', 'οἶδα', 'βούλησις', 'ταχύς', 'φιλία', 'γίγνομαι', 'φιλία', 'χρόνος', 'λοιπός', 'τέλειος', 'πᾶς', 'ταὐτάζω', 'γίγνομαι', 'ὅμοιος', 'ἑκάτερος', 'παρʼ', 'ἑκάτερος', 'δεῖ', 'φίλος', 'ὑπάρχω', 'ἡδὺ', 'ὁμοίωμα', 'ἔχις', 'ἀγαθός', 'ἡδύς', 'ἀλλήλων', 'ὅμοιος', 'χρήσιμος', 'ἀλλήλων', 'ἀγαθός', 'φιλία', 'μένω', 'γίγνομαι', 'παρʼ', 'ἀλλήλων', 'οἷος', 'ἡδονή', 'μόνος', 'οἷος', 'εὐτράπελος', 'ἐραστής', 'ἐρώμενος', 'ἥδομαι', 'ὅρος', 'ἐκεῖνος', 'ἐραστής', 'ὥρα', 'φιλία', 'λήγω', 'ʽτῷ', 'ἡδύς', 'ὄψις', 'γίγνομαι', 'θεραπείἀ', 'πολύς', 'διαμένω', 'συνήθεια', 'ἦθος', 'στέργω', 'ὁμοήθης', 'ἡδὺ', 'χρήσιμος', 'ἐρωτικός', 'εἶμι', 'ἥσσων', 'φίλος', 'διαμένω', 'χρήσιμος', 'φίλος', 'ἁμός', 'συμφέρω', 'διαλύω', 'ἀλλήλων', 'φίλος', 'λυσιτελής', 'διʼ', 'ἡδονην', 'χρήσιμος', 'φαῦλος', 'ἐνδέχομαι', 'φίλος', 'ἀλλήλων', 'ἐπιεικής', 'φαῦλος', 'μηδέτερος', 'ὁποῖος', 'διʼ', 'αὑτοὺς', 'δῆλος', 'μόνος', 'ἀγαθός', 'κακός', 'χαίρω', 'ὠφέλεια', 'γίγνομαι', 'μονή', 'ἀγαθός', 'φιλία', 'ἀδιάβλητός', 'ῥᾴδιος', 'πιστεύω', 'πολύς', 'χρόνος', 'ὑφʼ', 'πιστεύω', 'μηδέποτʼ', 'ἀδικέω', 'ὅσος', 'φιλία', 'ἀξιόω', 'ἕτερος', 'κωλύω', 'γίγνομαι', 'ἔπος', 'ἄνθρωπος', 'λέγω', 'φίλος', 'χρήσιμος', 'πόλις', 'ʽδοκοῦσι', 'συμμαχία', 'πόλις', 'γίγνομαι', 'συμφέροντοσ', 'διʼ', 'ἡδονην', 'ἀλλήλων', 'παῖς', 'ἴσος', 'λέγω', 'δεῖ', 'ἡμός', 'φίλος', 'εἶδος', 'φιλία', 'πλείων', 'πρότερος', 'κύριος', 'ἀγαθός', 'ἀγαθός', 'λοιπός', 'ὁμοιότης', 'ἀγαθός', 'ὅμοιόν', 'φίλος', 'ἡδὺ', 'ἀγαθός', 'φιληδής', 'συνάπτω', 'γίγνομαι', 'φίλος', 'χρήσιμος', 'ἡδύς', 'συνδυάζω', 'εἶδος', 'φιλία', 'φαῦλος', 'φίλος', 'διʼ', 'ἡδονην', 'χρήσιμος', 'ὅμοιος', 'ἀγαθός', 'διʼ', 'αὑτοὺς', 'φίλος', 'ἀγαθός', 'ἁπλόω', 'φίλος', 'ἐκεῖνος', 'ὁμοιόω', 'ἀρετή', 'οἳ', 'ἕξις', 'οἳ', 'κατʼ', 'ἐνέργεια', 'ἀγαθός', 'λέγω', 'φιλία', 'χαίρω', 'ἀλλήλων', 'πορίζω', 'ἀγαθός', 'τόπος', 'ἐνεργέω', 'ἔχω', 'ὥστʼ', 'ἐνεργέω', 'φιλικός', 'τόπος', 'διαλύω', 'φιλία', 'ἁπλόω', 'ἐνέργεια', 'χρόνιος', 'ἀπουσία', 'γίγνομαι', 'φιλία', 'δοκέω', 'λήθη', 'ποιέω', 'εἴρω', 'πολύς', 'φιλία', 'ἀπροσηγορία', 'διαλύω', 'φαίνω', 'οὔθʼ', 'πρεσβύτης', 'οὔθʼ', 'στρυφνός', 'φιλικός', 'βραχὺ', 'ἡδονή', 'δυνατός', 'συνημερεύω', 'λυπηρός', 'ἡδύς', 'φύσις', 'φαίνω', 'λυπηρός', 'φεύγω', 'ἐφίημι', 'ἡδύς', 'ἀλλήλων', 'εὔνους', 'ἔοικα', 'μαλλός', 'φίλος', 'φίλος', 'συζάω', 'ʽὡφελείας', 'ἐνδεής', 'ὀρέγω', 'συνημερεύω', 'μακάριος', 'μονώτης', 'ἥκιστος', 'προσήκεἰ', 'συνδιάγω', 'μετʼ', 'ἀλλήλων', 'ἡδύς', 'ἑταιρικη', 'δοκέω', 'ἔχω', 'φιλία', 'ἀγαθός', 'εἴρω', 'δοκέω', 'φιλητός', 'αἱρετός', 'ἁπλόω', 'ἀγαθός', 'ἡδύς', 'ἕκαστος', 'ἀγαθός', 'ἀγαθός', 'διʼ', 'ἄμφω', 'ἔοικα', 'φίλησις', 'πάθος', 'φιλία', 'ἕξις', 'φίλησις', 'ἥσσων', 'ἄψυχά', 'ἀντιφιλέω', 'προαίρεσις', 'προαίρεσις', 'ἀφʼ', 'ἕξις', 'ἀγαθός', 'βούλομαι', 'ἐκεῖνος', 'πάθος', 'ἕξις', 'φίλος', 'ἀγαθός', 'φιλέω', 'ἀγαθός', 'φίλος', 'ἀγαθός', 'γίγνομαι', 'φίλος', 'ἑκάτερος', 'φιλέω', 'ἀγαθός', 'ἴσος', 'ἀνταποδίδωμι', 'βούλησις', 'ἡδύς', 'λέγω', 'φιλότης', 'ἰσότης', 'ἀγαθός', 'ταῦθʼ', 'ὑπάρχω', 'στρυφνός', 'πρεσβυτικός', 'ἥσσων', 'γίγνομαι', 'φιλία', 'ὅσος', 'δυσκολώτεροί', 'εἶμι', 'ἥσσων', 'ὁμιλία', 'χαίρω', 'δοκέω', 'μάλιστʼ', 'φιλικός', 'ποιητικός', 'φιλία', 'νέος', 'γίγνομαι', 'φίλος', 'ταχύς', 'πρεσβύτης', 'γίγνομαι', 'φίλος', 'χαίρω', 'ὅμοιος', 'στρυφνός', 'εὔνους', 'εἶμι', 'ἀλλήλων', 'βούλομαι', 'ἀγαθός', 'ἀπαντάω', 'χρεία', 'φίλος', 'εἶμι', 'συνημερεύω', 'χαίρω', 'ἀλλήλων', 'μάλιστʼ', 'δοκέω', 'φιλικός', 'πολύς', 'φίλος', 'τέλειος', 'φιλία', 'ἐνδέχομαι', 'ἐράω', 'πολύς', 'ἁμός', 'ʽἔοικε', 'ὑπερβολή', 'ἕνος', 'φύω', 'γίνεσθαἰ', 'πολλοὺς', 'ἁμός', 'ἀρέσκω', 'σφοδρός', 'ῥᾴδιος', 'ἴσος', 'ἀγαθοὺς', 'δεῖ', 'ἐμπειρία', 'λαμβάνω', 'συνήθεια', 'γίγνομαι', 'παγχάλεπος', 'χρήσιμος', 'ἡδὺ', 'πολύς', 'ἀρέσκω', 'ἐνδέχομαι', 'πολύς', 'ὀλίγος', 'χρόνος', 'ὑπηρεσία', 'μαλλός', 'ἔοικα', 'φιλία', 'ἡδύς', 'ταὐτάζω', 'ἀπʼ', 'ἄμφω', 'γίγνομαι', 'χαίρω', 'ἀλλήλων', 'οἷος', 'ναός', 'εἶμι', 'φιλία', 'μαλλός', 'ἐλευθέριος', 'χρήσιμος', 'ἀγοραῖος', 'μακάριος', 'χρήσιμος', 'δέω', 'ἡδύς', 'συζάω', 'βούλονταί', 'τίσις', 'λυπηρός', 'ὀλίγος', 'χρόνος', 'φέρω', 'συγχώννυμι', 'ὑπομένω', 'ἀγαθός', 'λυπηρός', 'ἐάω', 'φίλος', 'ἡδύς', 'ζητέω', 'δεῖ', 'ἴσος', 'ἀγαθοὺς', 'ὑπάρχω', 'ὅσος', 'δεῖ', 'φίλος', 'ἐξουσία', 'φαίνω', 'χράομαι', 'φίλος', 'εἶμι', 'χρήσιμος', 'ἕτερος', 'ἡδύς', 'ἄμφω', 'ἡδύς', 'μετʼ', 'ἀρετή', 'ζητέω', 'χρήσιμος', 'κᾶλον', 'εὐτράπελος', 'ἡδύς', 'δεινοὺς', 'πράσσω', 'ἐπιτάσσω', 'γίγνομαι', 'ἡδὺς', 'χρήσιμος', 'ἁμός', 'εἴρω', 'σπουδαῖος', 'ὑπερέχω', 'γίγνομαι', 'φίλος', 'ἀρετή', 'ὑπερέχω', 'ἰσάζω', 'ἀνάλογος', 'ἔθω', 'γίγνομαι', 'εἶμι', 'φιλία', 'ἰσότης', 'γίγνομαι', 'ἀπʼ', 'ἄμφω', 'βούλομαι', 'ἀλλήλων', 'ἕτερος', 'ἀνθʼ', 'ἕτερος', 'καταλλάσσω', 'οἷος', 'ἡδονην', 'ἀντʼ', 'ὠφέλεια', 'ἧττόν', 'εἶμι', 'φιλία', 'μένω', 'εἴρω', 'δοκέω', 'διʼ', 'ὁμοιότης', 'ἀνομοιότης', 'ταὐτοῦ', 'εἶναί', 'φιλία', 'ὁμοιότης', 'κατʼ', 'ἀρετην', 'φαίνω', 'φιλία', 'ʽἣ', 'ἡδὺ', 'ἔχις', 'χρήσιμος', 'ὑπάρχω', 'κἀκείνᾐ', 'ἀδιάβλητος', 'μόνιμος', 'μεταπίπτω', 'διαφέρω', 'πολύς', 'φαίνω', 'φιλία', 'διʼ', 'ἀνομοιότης', 'ἐκεῖνος', 'ἕτερος', 'φιλία', 'εἶδος', 'ὑπεροχή', 'οἷος', 'πατήρ', 'υἱός', 'ὅλοξ', 'πρέσβυς', 'νέος', 'ἀνήρ', 'γυνή', 'πᾶς', 'ἄρχων', 'διαφέρω', 'ἀλλήλων', 'αὐτη', 'γονεύς', 'τέκνον', 'ἄρχων', 'πατήρ', 'υἱός', 'υἱός', 'πατήρ', 'ἀνήρ', 'γυνή', 'γυνή', 'ἀνήρ', 'ἕτερος', 'ἕκαστος', 'ἀρετη', 'ἔργον', 'ἕτερος', 'διʼ', 'φιλέω', 'ἕτερος', 'φίλησις', 'φιλία', 'ταὐτάζω', 'γίγνομαι', 'ἑκάτερος', 'ἕτερος', 'δεῖ', 'ζητέω', 'γονεύς', 'τέκνον', 'ἀπονέμω', 'δεῖ', 'γονεύς', 'υἱός', 'δεῖ', 'τέκνον', 'μόνιμος', 'ἐπιεικης', 'φιλία', 'ἀνάλογος', 'πᾶς', 'ὑπεροχην', 'φιλία', 'φίλησις', 'δεῖ', 'γίγνομαι', 'οἷος', 'ἀμείνων', 'μαλλός', 'φιλέω', 'φιλέω', 'ὠφέλιμος', 'ἕκαστος', 'ὅμοιος', 'κατʼ', 'ἀξία', 'φίλησις', 'γίγνομαι', 'γίνεταί', 'ἰσότης', 'φιλία', 'δοκέω', 'ὅμοιος', 'ἴσος', 'δίκαιος', 'φιλία', 'φαίνω', 'ἔχω', 'δίκαιος', 'ἴσος', 'πρότερος', 'κατʼ', 'ἀξία', 'ποσός', 'δεύτερος', 'φιλία', 'ποσός', 'πρότερος', 'κατʼ', 'ἀξία', 'δεύτερος', 'δῆλος', 'πολὺ', 'διάστημα', 'γίγνομαι', 'ἀρετή', 'κακία', 'εὐπορία', 'φίλος', 'εἶμι', 'ἀξιόω', 'ἐμφανής', 'τοῦτʼ', 'θεά', 'πλεῖστος', 'πᾶς', 'ἀγαθός', 'ὑπερέχω', 'δῆλος', 'βασιλεύς', 'ἀξιόω', 'φίλος', 'πολὺ', 'καταδεής', 'ἄριστον', 'σοφός', 'μηδείς', 'ἄξιος', 'ἀκριβης', 'ὁρισμός', 'ἑός', 'φίλος', 'πολύς', 'μένος', 'πολὺ', 'οἷος', 'θεός', 'ἀπορέω', 'ποτʼ', 'βούλομαι', 'φίλος', 'φίλος', 'μέγας', 'ἀγαθός', 'οἷος', 'θεοὺς', 'φίλος', 'ἀγαθός', 'φίλος', 'ἀγαθός', 'καλός', 'εἴρω', 'φίλος', 'φίλος', 'βούλομαι', 'ἀγαθός', 'ἐκεῖνος', 'μένω', 'δεῖ', 'οἷός', 'ποτʼ', 'ἐκεῖνος', 'ἄνθρωπος', 'βούλομαι', 'μέγας', 'ἀγαθός', 'ἴσος', 'πᾶς', 'μάλισθʼ', 'ἕκαστος', 'βούλομαι', 'ἀγαθός', 'πολύς', 'δοκέω', 'φιλοτιμία', 'βούλομαι', 'φιλέω', 'μαλλός', 'φιλέω', 'φιλοκόλαξ', 'πολύς', 'φίλος', 'κόλαξ', 'προσποιέω', 'μαλλός', 'φιλέω', 'φιλέω', 'φιλέω', 'ἐγγὺς', 'δοκέω', 'τιμάω', 'ἵημι', 'πολύς', 'ἐφίημι', 'διʼ', 'ἔοικα', 'αἱρέω', 'τιμή', 'χαίρω', 'πολύς', 'ἐξουσία', 'ἐλπίς', 'ʽοἴονται', 'τεύχω', 'παρʼ', 'δέω', 'σημεῖον', 'εὐπάθεια', 'χαίρω', 'τιμᾖ', 'ἐπιεικής', 'τιμή', 'βεβαιόω', 'οἰκεῖος', 'δόξα', 'ἐφίημι', 'χαίρω', 'εἶμι', 'ἀγαθός', 'λέγω', 'κρίσις', 'φιλέω', 'χαίρω', 'δοκέω', 'κρείσσων', 'τιμάω', 'φιλία', 'αὑτην', 'αἱρετη', 'δοκέω', 'φιλέω', 'μαλλός', 'φιλέω', 'σημεῖον', 'μήτηρ', 'φιλέω', 'ἔνιοι', 'δίδωμι', 'τρέφω', 'φιλέω', 'ἀντιφιλέω', 'ζητέω', 'ἀμφότερος', 'ἐνδέχομαι', 'ἱκανός', 'ἔοικα', 'ὁράω', 'φιλέω', 'αὐτοὺς', 'κἂν', 'ἐκεῖνος', 'μηδείς', 'μήτηρ', 'προσήκω', 'ἀπονέμω', 'ἄγνοια', 'μαλλός', 'φιλία', 'φιλέω', 'φιλόφιλος', 'φίλος', 'ἀρετη', 'φιλέω', 'ἔοικα', 'ὥστʼ', 'γίγνομαι', 'κατʼ', 'ἀξία', 'μόνιμος', 'φίλος', 'φιλία', 'ἄνισος', 'μάλιστʼ', 'φίλος', 'ἰσάζω', 'ἰσότης', 'ὁμοιότης', 'φιλότης', 'κατʼ', 'ἀρετην', 'ὁμοιότης', 'μόνιμος', 'αὑτοὺς', 'ἀλλήλων', 'μένω', 'δέω', 'φαῦλος', 'οὔθʼ', 'ὑπηρετέω', 'εἶπον', 'διακωλύω', 'ἀγαθός', 'μήτʼ', 'αὐτοὺς', 'ἁμαρτάνω', 'φίλος', 'ἐπιτρέπω', 'μοχθηρός', 'βέβαιος', 'ἔχω', 'διαμένω', 'ὅμοιος', 'ὀλίγος', 'χρόνος', 'γίγνομαι', 'φίλος', 'ἀλλήλων', 'μοχθηρία', 'χρήσιμος', 'ἡδύς', 'πλείων', 'διαμένω', 'ἑός', 'πορίζω', 'ἡδονή', 'ὠφέλεια', 'ἀλλήλων', 'ἐναντίος', 'δοκέω', 'χρήσιμος', 'γίγνομαι', 'φιλία', 'οἷος', 'πένης', 'πλούσιος', 'ἀμαθης', 'ἵημι', 'τυγχάνω', 'ἐνδεης', 'ἀντιδωρέομαι', 'ἑλκέω', 'ἐραστην', 'ἐρώμενος', 'κᾶλον', 'αἰσχρός', 'φαίνω', 'ἐραστής', 'γέλοιος', 'φιλέω', 'φιλέω', 'ὅμοιος', 'φιλητοὺς', 'ἴσος', 'ἀξιωτέον', 'μηδείς', 'γέλοιος', 'ἴσος', 'ἐφίημι', 'ἐναντίος', 'ἐναντίος', 'ὄρεξις', 'μέσος', 'ἀγαθός', 'οἷος', 'ξηρός', 'ὑγρός', 'γίγνομαι', 'μέσος', 'ἔρχομαι', 'θερμός', 'ὅμοιος', 'ἀφίημι', 'ἀλλότριος', 'ἔοικα', 'ἀρχή', 'εἴρω', 'ταὐτάζω', 'φιλία', 'δίκαιος', 'ἅπας', 'κοινωνία', 'δοκέω', 'δίκαιος', 'φιλία', 'προσαγορεύω', 'φίλος', 'σύμπλους', 'συστρατιώτης', 'ὅμοιος', 'κοινωνία', 'ὅσος', 'κοινωνέω', 'τοσοῦτόν', 'φιλία', 'δίκαιος', 'παροιμία', 'κοινός', 'φίλος', 'ὀρθός', 'κοινωνία', 'φιλία', 'ἀδελφός', 'ἑταῖρος', 'πᾶς', 'κοινός', 'πλείων', 'ἐλάσσων', 'φιλία', 'αἳ', 'μαλλός', 'αἳ', 'ἥσσων', 'διαφέρω', 'δίκαιος', 'ταὐτάζω', 'γονεύς', 'τέκνον', 'ἀδελφός', 'ἀλλήλων', 'ἑταῖρος', 'πολίτης', 'ὅμοιος', 'φιλία', 'ἕτερος', 'ἄδικος', 'ἕκαστος', 'αὔξησις', 'λαμβάνω', 'μαλλός', 'φίλος', 'οἷος', 'χρῆμα', 'ἀποστερέω', 'ἑταῖρος', 'δεινός', 'πολίτης', 'βοηθέω', 'ἀδελφός', 'ὀθνεῖος', 'πατάσσω', 'πατήρ', 'αὐξάνω', 'φύω', 'ἁμός', 'φιλία', 'δίκαιος', 'ὄντα', 'ἴσος', 'κοινωνία', 'πᾶς', 'μόριον', 'ἔοικα', 'πολιτικός', 'συμπορεύομαι', 'συμφέρω', 'ποριζόμενοί', 'βιός', 'πολιτικός', 'κοινωνία', 'χάρις', 'δοκέω', 'ἀρχή', 'συνέρχομαι', 'διαμένω', 'νομοθέτης', 'στοχάζομαι', 'δίκαιόν', 'φάσις', 'κοινός', 'συμφέρω', 'κοινωνία', 'μέρος', 'ἐφίημι', 'οἷος', 'πλωτήρ', 'πλόος', 'ἐργασία', 'χρῆμα', 'συστρατιώτης', 'πόλεμος', 'χρῆμα', 'νίκη', 'πόλις', 'ὅμοιος', 'φυλέτης', 'δημότης', 'ἔνιοι', 'κοινωνία', 'διʼ', 'ἡδονην', 'δοκέω', 'γίγνομαι', 'θιασώτης', 'ἐρανιστῶν', 'θυσία', 'συνουσία', 'πᾶς', 'πολιτικός', 'ἔοικα', 'πολιτικός', 'ἐφίημι', 'ἅπας', 'βιός', 'θυσία', 'σύνοδος', 'τιμή', 'θεός', 'ἀνάπαυσις', 'μεθʼ', 'ἡδονή', 'ἀρχαῖος', 'θυσία', 'σύνοδος', 'φαίνω', 'γίγνομαι', 'καρπός', 'συγκομιδή', 'οἷος', 'ἀπαρχή', 'σχολάζω', 'καῖρος', 'πᾶς', 'φαίνω', 'κοινωνία', 'μορία', 'πολιτικός', 'ἀκολουθέω', 'φιλία', 'κοινωνία', 'πολιτεία', 'εἶδος', 'τριάς', 'ἴσος', 'παρέκβασις', 'οἷος', 'φθορά', 'εἶμι', 'πολιτεία', 'βασίλεια', 'ἀριστοκρατία', 'τρίτος', 'τίμημα', 'ἣν', 'τιμοκρατικός', 'λέγω', 'οἰκεῖος', 'φαίνω', 'πολιτεία', 'αὐτην', 'ἔθω', 'πλεῖστος', 'καλέω', 'βέλτιστος', 'βασίλεια', 'χείρων', 'τιμοκρατία', 'παρέκβασις', 'βασίλεια', 'τυραννίς', 'ἄμφω', 'μοναρχία', 'διαφέρω', 'πλεῖστος', 'τύραννος', 'συμφέρω', 'σκοπέω', 'βασιλεὺς', 'βασιλεὺς', 'αὐτάρκης', 'πᾶς', 'ἀγαθός', 'προσδέω', 'ὠφέλιμος', 'σκοπέω', 'κληρωτός', 'ἐάω', 'βασιλεύς', 'τυραννίς', 'ἐναντίος', 'ἀγαθός', 'διώκω', 'φανερός', 'χείρων', 'κακός', 'ἐναντίος', 'βέλτιστος', 'μεταβαίνω', 'βασίλεια', 'τυραννίς', 'φαυλότης', 'μοναρχία', 'τυραννίς', 'μοχθηρός', 'βασιλεὺς', 'τύραννος', 'γίγνομαι', 'ἀριστοκρατία', 'ὀλιγαρχία', 'κακία', 'ἄρχων', 'οἳ', 'νέμω', 'πόλις', 'ἀξία', 'πᾶς', 'πλεῖστος', 'ἀγαθός', 'ἀρχή', 'πλεῖστος', 'πλουτέω', 'ὀλίγος', 'ἄρχων', 'μοχθηρός', 'ἐπιεικής', 'τιμοκρατία', 'δημοκρατία', 'σύνορος', 'εἶμι', 'πλῆθος', 'βούλομαι', 'τιμοκρατία', 'ἴσος', 'πᾶς', 'τίμημα', 'ἥκιστος', 'μοχθηρός', 'δημοκρατία', 'μικρός', 'παρεκβαίνω', 'πολιτεία', 'εἶδος', 'μεταβάλλω', 'μάλισθʼ', 'πολιτεία', 'ἐλάχιστος', 'ῥᾴδιος', 'μεταβαίνω', 'ὁμοίωμα', 'οἷος', 'παράδειγμα', 'λαμβάνω', 'οἰκία', 'πατήρ', 'υἱός', 'κοινωνία', 'βασίλεια', 'ἔχις', 'σχῆμα', 'τέκνον', 'πατήρ', 'μέλος', 'Ὅμηρος', 'δῖος', 'πατήρ', 'προσαγορεύω', 'πατρικός', 'ἀρχη', 'βούλομαι', 'βασίλεια', 'Πέρσης', 'πατήρ', 'τυραννικός', 'χράομαι', 'δοῦλος', 'υἱός', 'τυραννικός', 'δεσπότης', 'δοῦλος', 'δεσπότης', 'συμφέρω', 'πράσσω', 'ὀρθη', 'φαίνω', 'Περσικός', 'διαφέρω', 'ἀρχή', 'διάφορος', 'ἀνήρ', 'γυνή', 'ἀριστοκρατικη', 'φαίνω', 'κατʼ', 'ἀξία', 'ἀνηρ', 'ἄρχω', 'δεῖ', 'ἀνήρ', 'ὅσος', 'γυνή', 'ἁρμόζω', 'ἐκεῖνος', 'ἀποδίδωμι', 'ἅπας', 'ἀνηρ', 'ὀλιγαρχία', 'μεθίστημι', 'ἀξία', 'ποιέω', 'ἀμείνων', 'ἄρχων', 'γυνή', 'ἐπίκληρος', 'γίγνομαι', 'κατʼ', 'ἀρετην', 'ἀρχή', 'πλοῦτος', 'δύναμις', 'ὀλιγαρχία', 'τιμοκρατικός', 'ἔοικα', 'ἀδελφή', 'ἴσος', 'πλέω', 'ἐφʼ', 'ὅσος', 'ἡλικία', 'διαλλάσσω', 'πολὺ', 'ἡλικία', 'διαφέρω', 'ἀδελφικη', 'γίγνομαι', 'φιλία', 'δημοκρατία', 'ἀδέσποτος', 'οἴκησις', 'ʽἐνταῦθα', 'πᾶς', 'ἴσοὐ', 'ἀσθενης', 'ἀρχή', 'ἕκαστος', 'ἐξουσία', 'ἕκαστος', 'πολιτεία', 'φιλία', 'φαίνω', 'ἐφʼ', 'ὅσος', 'δίκαιος', 'βασιλεύς', 'ὑπεροχή', 'εὐεργεσία', 'ποιέω', 'ἀγαθός', 'ὢν', 'ἐπιμελέομαι', 'ἵνʼ', 'πράσσω', 'νομεὺς', 'πρόβατον', 'Ὅμηρος', 'Ἀγαμέμνων', 'ποιμένα', 'λᾶας', 'εἶπον', 'πατρικός', 'διαφέρω', 'μέγεθος', 'εὐεργέτημα', 'αἴτιος', 'μέγας', 'τροφεύς', 'παιδεία', 'πρόγονος', 'προσνέμω', 'φύσις', 'ἀρχικός', 'πατήρ', 'υἱός', 'πρόγονος', 'ἔκγονος', 'βασιλεὺς', 'ὑπεροχή', 'φιλία', 'τιμάω', 'γονεύς', 'δίκαιος', 'κατʼ', 'ἀξία', 'φιλία', 'ἀνήρ', 'γυνή', 'αὐτη', 'φιλία', 'ἀριστοκρατία', 'κατʼ', 'ἀρετην', 'ἀμείνων', 'πλείων', 'ἀγαθός', 'ἁρμόζω', 'ἕκαστος', 'δίκαιος', 'ἀδελφή', 'ἑταιρικός', 'ἔοικα', 'ἴσος', 'ἡλικιώτης', 'ὁμοπαθής', 'ὁμοήθης', 'πολύς', 'ἔοικα', 'τιμοκρατικός', 'ἴσος', 'πολίτης', 'βούλομαι', 'ἐπιεικής', 'μέρος', 'ἄρχω', 'ἴσος', 'φιλία', 'παρέκβασις', 'δίκαιος', 'μικρός', 'φιλία', 'ἥκιστος', 'χείρων', 'τυραννίς', 'μικρός', 'φιλία', 'μηδείς', 'κοινός', 'ἄρχων', 'φιλία', 'δίκαιος', 'οἷος', 'τεχνίτης', 'ὄργανον', 'ψυχή', 'σῶμα', 'δεσπότης', 'δοῦλος', 'ὠφελέω', 'πᾶς', 'φιλία', 'ἄψυχος', 'δίκαιος', 'ἵππος', 'βοῦς', 'δοῦλος', 'δοῦλος', 'κοινός', 'δοῦλος', 'ἔμψυχος', 'ὄργανον', 'ὄργανον', 'ἄψυχος', 'δοῦλος', 'δοῦλος', 'φιλία', 'ἄνθρωπος', 'δοκέω', 'εἶναί', 'δίκαιος', 'πᾶς', 'ἄνθρωπος', 'πᾶς', 'κοινωνέω', 'νόμος', 'συνθήκη', 'φιλία', 'ὅσος', 'ἄνθρωπος', 'μικρός', 'τυραννίς', 'φιλία', 'δίκαιος', 'δημοκρατία', 'πλείων', 'πολύς', 'κοινός', 'ἴσος', 'ὄντα', 'κοινωνία', 'πᾶς', 'φιλία', 'εἴρω', 'ἀφορίζω', 'συγγενικός', 'ἑταιρικός', 'πολιτικός', 'φυλετικός', 'συμπλοικός', 'ὅσος', 'κοινωνικός', 'ἔοικα', 'μαλλός', 'οἷος', 'ὁμολογία', 'φαίνω', 'τάσσω', 'ξενικός', 'συγγενικός', 'φαίνω', 'πολυειδής', 'ἀρτάω', 'πᾶς', 'πατρικός', 'γονεύς', 'στέργω', 'τέκνον', 'ὄντα', 'τέκνον', 'γονεύς', 'ἀπʼ', 'ἐκεῖνος', 'ὄντα', 'μαλλός', 'οἶδα', 'γονεύς', 'μαλλός', 'συνωκείωται', 'ἀφʼ', 'ἵημι', 'οἰκεῖος', 'ἀφʼ', 'ἵημι', 'οἷος', 'ὀδοὺς', 'θρίξ', 'ἔχω', 'ἐκεῖνος', 'ἀφʼ', 'ἵημι', 'ἥσσων', 'πλῆθος', 'χρόνος', 'οἳ', 'εὐθὺς', 'στέργω', 'χρόνος', 'γονεύς', 'σύνεσις', 'αἴσθησις', 'δῆλος', 'διʼ', 'φιλέω', 'μαλλός', 'μήτηρ', 'γονεύς', 'τέκνον', 'φιλέω', 'ʽτά', 'οἷος', 'ἕτερος', 'κεχωρίσθαἰ', 'τέκνον', 'γονεύς', 'ἀπʼ', 'ἐκεῖνος', 'ἀδελφός', 'ἀλλήλων', 'φύω', 'ἐκεῖνος', 'ταυτότης', 'ἀλλήλων', 'ποιέω', 'φάσις', 'ταὐτόν', 'αἷμα', 'ῥίζα', 'εἶμι', 'μέγας', 'φιλία', 'σύντροφος', 'ἡλικία', 'ἧλιξ', 'ἡλίκος', 'συνήθης', 'ἑταῖρος', 'ἀδελφικη', 'ἑταιρικός', 'ὁμοιόω', 'ἀνεψιός', 'λοιπός', 'συγγενής', 'συνοικειόω', 'γίγνομαι', 'οἳ', 'οἰκεῖος', 'οἳ', 'ἀλλότριος', 'ἀρχηγός', 'γονεύς', 'φιλία', 'τέκνον', 'ἄνθρωπος', 'θεός', 'ἀγαθός', 'ὑπερέχω', 'ποιέω', 'μέγας', 'τρέφω', 'αἴτιος', 'παιδεύω', 'ἔχις', 'ἡδὺ', 'χρήσιμος', 'φιλία', 'μαλλός', 'ὀθνεῖος', 'ὅσος', 'κοινός', 'βιός', 'ἀδελφικῇ', 'ἑταιρικός', 'μαλλός', 'ἐπιεικής', 'ὅλοξ', 'ὅμοιος', 'ὅσος', 'οἰκεῖος', 'γενετή', 'ὑπάρχω', 'ἀλλήλων', 'ὅσος', 'ὁμοήθης', 'σύντροφος', 'ὅμοιος', 'χρόνος', 'δοκιμασία', 'πλεῖστος', 'βέβαιος', 'ἀνάλογος', 'λοιπός', 'συγγενής', 'φιλικός', 'ἀνήρ', 'γυνή', 'φιλία', 'δοκέω', 'φύσις', 'ὑπάρχω', 'ἄνθρωπος', 'φύσις', 'συνδυαστικός', 'μαλλός', 'πολιτικός', 'ὅσος', 'πρότερος', 'ἀναγκαῖος', 'οἰκία', 'πόλις', 'τεκνοποιία', 'κοινός', 'ζῷον', 'τοσοῦτος', 'κοινωνία', 'ἄνθρωπος', 'μόνος', 'τεκνοποιία', 'χάρις', 'συνοικέω', 'βιός', 'εὐθὺς', 'διαιρέω', 'ἔργον', 'ἕτερος', 'ἀνήρ', 'γυνή', 'ἐπαρκέω', 'ἀλλήλων', 'κοινός', 'ἴδιος', 'χρήσιμος', 'δοκέω', 'ἡδὺ', 'φιλία', 'ἐάω', 'διʼ', 'ἀρετή', 'ἐπιεικής', 'ἑκάτερος', 'ἀρετή', 'χαίρω', 'σύνδεσμος', 'τέκνον', 'δοκέω', 'θάσσων', 'ἄτεκνος', 'διαλύω', 'τέκνον', 'κοινός', 'ἀγαθός', 'ἄμφω', 'συνεχής', 'κοινός', 'βιωτέος', 'ἀνήρ', 'γυνή', 'ὅλοξ', 'φίλος', 'φίλος', 'ἕτερος', 'φαίνω', 'ζητέω', 'δίκαιος', 'ταὐτόν', 'φαίνω', 'φίλος', 'φίλος', 'ὀθνεῖος', 'ἑταῖρος', 'συμφοιτητής', 'τρισσός', 'φιλία', 'ἀρχή', 'εἴρω', 'ἕκαστος', 'ἰσότης', 'φίλος', 'ὄντα', 'ὑπεροχή', 'ʽκαί', 'ὅμοιος', 'ἀγαθός', 'φίλος', 'γίγνομαι', 'ἀμείνων', 'χείρων', 'ὅμοιος', 'ἡδύς', 'χρήσιμος', 'ὠφέλεια', 'διαφέροντεσ', 'ἴσος', 'κατʼ', 'ἰσότης', 'δεῖ', 'φιλέω', 'λοιπός', 'ἰσάζω', 'ἄνισος', 'ἀνάλογος', 'ὑπεροχή', 'ἀποδίδωμι', 'γίγνομαι', 'ἔγκλημα', 'μέμψις', 'χρήσιμος', 'φιλία', 'μονή', 'εὔλογος', 'διʼ', 'ἀρετην', 'φίλος', 'δράω', 'ἀλλήλων', 'προθυμέομαι', 'ʽτοῦτο', 'ἀρετή', 'φιλίασ', 'ἔγκλημα', 'μάχη', 'δυσχεραίνω', 'χαρίεις', 'ἀμύνω', 'δράω', 'ἵημι', 'ἐφίημι', 'ἐγκαλέω', 'φίλος', 'ἕκαστος', 'ἀγαθός', 'ὀρέγω', 'διʼ', 'ἡδονή', 'ἁμός', 'ἄμφω', 'γίγνομαι', 'ἵημι', 'ὀρέγω', 'συνδιάγω', 'χαίρω', 'γέλοιος', 'φαίνω', 'τέρπω', 'συνημερεύω', 'χρήσιμος', 'ἐγκληματικός', 'ὠφέλεια', 'ἀλλήλων', 'πλείων', 'δέω', 'ἐλάσσων', 'ἔχω', 'οἴομαι', 'μέμφομαι', 'ὅσος', 'δέω', 'τοσοῦτος', 'τυγχάνω', 'ἄξιος', 'δύναμαι', 'ἐπαρκέω', 'τοσοῦτος', 'ὅσος', 'δέω', 'ἔοικα', 'δίκαιόν', 'δισσός', 'ἄγραφος', 'νόμος', 'χρήσιμος', 'φιλία', 'ἠθικη', 'νομικός', 'γίγνομαι', 'ἔγκλημα', 'μάλισθʼ', 'αὐτην', 'συναλλάσσω', 'διαλύω', 'νομικός', 'ῥητός', 'ἀγοραία', 'χείρ', 'χείρ', 'ἐλευθέριος', 'χρόνος', 'ὁμολογία', 'δῆλος', 'ὀφείλημα', 'ἀμφίλογος', 'φιλικός', 'ἀναβολην', 'ἔχις', 'ἔνιοι', 'εἶμι', 'δίκη', 'οἴομαι', 'δεῖ', 'στέργω', 'πίστις', 'ἠθικη', 'ῥητός', 'φίλος', 'δωρέω', 'κομίζω', 'ἄξιος', 'ἴσος', 'πλείων', 'δεδωκὼς', 'χράω', 'ὅμοιος', 'συναλλάσσω', 'ἐγκαλέω', 'συμβαίνω', 'βούλομαι', 'πᾶς', 'πλεῖστος', 'κᾶλον', 'προαιρέω', 'ὠφέλιμος', 'κᾶλον', 'ποιέω', 'ἀντιπάσχω', 'ὠφέλιμος', 'εὐεργετέω', 'ἀνταποδοτέον', 'ἀξία', 'πάσχω', 'ἑκών', 'ʽἄκοντα', 'φίλος', 'ποιητέος', 'ἀρχή', 'ὑφʼ', 'ἵημι', 'ἔδειοὐ', 'φίλος', 'διʼ', 'δρῶντοςκαθάπερ', 'ῥητός', 'διαλυτέος', 'ὁμολογέω', 'ἀποδίδωμι', 'διδοὺς', 'ἀξιόω', 'ὥστʼ', 'δυνατός', 'ἀποδοτέος', 'ἀρχή', 'ἐπισκεπτέος', 'ὑφʼ', 'ἵημι', 'εὐεργετέω', 'ὑπομένω', 'ἀμφισβήτησις', 'ἔχις', 'πότερος', 'δεῖ', 'ὠφέλεια', 'μετρέω', 'ποιέω', 'ἀνταπόδοσις', 'εὐεργεσία', 'τοιαῦτά', 'φάσις', 'λαμβάνω', 'εὐεργέτης', 'μικρός', 'ἐκεῖνος', 'ἔξεστι', 'παρʼ', 'ἕτερος', 'λαμβάνω', 'οἳ', 'μέγας', 'παρʼ', 'παρʼ', 'κίνδυνος', 'χρεία', 'ἆρʼ', 'χρήσιμος', 'φιλία', 'ὠφέλεια', 'μέτρον', 'ἐπαρκέω', 'ἴσος', 'τοσοῦτος', 'γίγνομαι', 'ἐπικουρία', 'ὅσος', 'ὠφελέω', 'ἀποδοτέος', 'ὅσος', 'ἐπαυρέω', 'πλείων', 'καλός', 'κατʼ', 'ἀρετην', 'ἔγκλημα', 'μέτρον', 'ἔοικα', 'προαίρεσις', 'ἀρετή', 'ἦθος', 'προαίρεσις', 'κύριος', 'διαφέρω', 'ὑπεροχην', 'φιλία', 'ἄξιος', 'ἑκάτερος', 'πλείων', 'ἔχω', 'γίγνομαι', 'διαλύω', 'φιλία', 'οἴομαι', 'βελτίων', 'προσήκω', 'πλείων', 'ἔχω', 'ἀγαθός', 'νέμω', 'πλείων', 'ὅμοιος', 'ὠφέλιμος', 'ἀχρεῖος', 'ὄντα', 'φάσις', 'δεῖ', 'ἴσος', 'ἔχω', 'λειτουργία', 'γίγνομαι', 'φιλία', 'κατʼ', 'ἀξία', 'ἔργον', 'φιλία', 'οἴομαι', 'χρῆμα', 'κοινωνία', 'πλείων', 'λαμβάνω', 'πλείων', 'δεῖ', 'φιλία', 'ἐνδεης', 'χείρ', 'φίλος', 'ἀγαθός', 'ἐπαρκέω', 'ἐνδεής', 'φάσις', 'ὄφελος', 'σπουδαῖος', 'δυνάστης', 'φίλος', 'μηδείς', 'ἀπολαύω', 'ἔοικα', 'ἑκάτερος', 'ὀρθός', 'ἀξιόω', 'δεῖ', 'ἑκάτερος', 'πλείων', 'νέμω', 'φιλία', 'ὑπερέχω', 'τιμή', 'ἐνδεής', 'κέρδος', 'ἀρετή', 'εὐεργεσία', 'τιμή', 'γέρας', 'ἔνδεια', 'ἐπικουρία', 'κέρδος', 'ἔχω', 'πολιτεία', 'φαίνω', 'τιμάω', 'μηδείς', 'ἀγαθός', 'κοινός', 'κοινός', 'δίδωμι', 'κοινός', 'εὐεργετέω', 'τιμή', 'κοινός', 'ἁμός', 'χρηματίζω', 'κοινός', 'τιμάω', 'πᾶς', 'ἐλάσσων', 'ὑπομένω', 'χρῆμα', 'τιμή', 'ἀπονέμω', 'δωροδόκος', 'χρῆμα', 'κατʼ', 'ἀξία', 'ἐπανισόω', 'σώζω', 'φιλία', 'εἴρω', 'ἄνισος', 'ὁμιλητέος', 'χρῆμα', 'ἀρετην', 'τιμή', 'ἀνταποδοτέον', 'δυνατός', 'φιλία', 'ἐπιζητέω', 'κατʼ', 'ἀξία', 'πᾶς', 'θεοὺς', 'τιμή', 'γονεύς', 'ἀξία', 'ποτʼ', 'ἀποδέω', 'δύναμις', 'ἐπιεικης', 'δοκέω', 'κἂν', 'δοκέω', 'ἔξεστι', 'υἱός', 'πατήρ', 'ἀπεῖπον', 'πατήρ', 'υἱός', 'ἀποδοτέος', 'ποιέω', 'ἄξιος', 'δράω', 'ὥστʼ', 'ὀφείλω', 'ὀφειλέτης', 'ἐξουσία', 'ἀφίημι', 'πατήρ', 'ἁμός', 'ἴσος', 'ποτʼ', 'ἀφεστήξω', 'δοκέω', 'μοχθηρία', 'φυσικός', 'φιλία', 'ἐπικουρία', 'ἀνθρωπικός', 'διωθέω', 'φευκτός', 'σπουδαστός', 'ἐπαρκέω', 'μοχθηρός', 'πάσχω', 'πολύς', 'βούλομαι', 'ποιέω', 'φεύγω', 'ἀλυσιτελής', 'τοσοῦτος', 'ἐρῶ', 'βοοκ', 'πᾶς', 'ἀνομοιοειδής', 'φιλία', 'ἀνάλογος', 'ἰσάζω', 'σώζω', 'φιλία', 'εἴρω', 'οἷος', 'πολιτικός', 'σκυτοτόμος', 'ὑπόδημα', 'ἀμοιβη', 'γίγνομαι', 'κατʼ', 'ἀξία', 'ὑφάντης', 'λοιπός', 'πορίζω', 'κοινός', 'μέτρον', 'νόμισμα', 'πᾶς', 'ἀναφέρω', 'μετρέω', 'ἐρωτικός', 'ἐραστης', 'ἐγκαλέω', 'ἀντιφιλέω', 'χόω', 'φιλητός', 'τυγχάνω', 'ἐρώμενος', 'πρότερος', 'πᾶς', 'ἐπιτελής', 'συμβαίνω', 'διʼ', 'ἡδονην', 'ἐρώμενος', 'φίλος', 'χρήσιμος', 'ἐραστής', 'ἄμφω', 'ὑπαρχή', 'φιλία', 'διάλυσις', 'γίγνομαι', 'γίγνομαι', 'φιλέω', 'αὐτοὺς', 'στέργω', 'μόνιμος', 'ὄντα', 'φιλία', 'ἦθος', 'αὑτην', 'μένος', 'εἴρω', 'διαφέρω', 'ἕτερος', 'γίγνομαι', 'ὀρέγω', 'ὅμοιος', 'μηδείς', 'γίγνομαι', 'ἵημι', 'ἐφίημι', 'τυγχάνω', 'οἷος', 'κιθαρῳδός', 'ὅσος', 'ἀμείνων', 'ἀείδω', 'τοσοῦτος', 'πλείων', 'ἑός', 'ἀπαιτέω', 'ὑπόσχεσις', 'ἀνθʼ', 'ἡδονή', 'ἡδονην', 'ἀποδίδωμι', 'φημί', 'ἑκάτερος', 'βούλομαι', 'ἱκανός', 'ἔχω', 'τέρψις', 'κέρδος', 'ἔχις', 'ἐάω', 'κοινωνία', 'καλός', 'τυγχάνω', 'προσεχής', 'ἐκεῖνος', 'χάρις', 'δίδωμι', 'ἀξία', 'πότερος', 'τάσσω', 'ἔοικʼ', 'ἐπιτρέπω', 'ἐκεῖνος', 'φάσις', 'πρωταγόραν', 'ποιέω', 'διδάσκω', 'ἁδήποτε', 'τιμάω', 'κελεύω', 'ὅσος', 'δοκέω', 'ἀξία', 'ἐπίσταμαι', 'λαμβάνω', 'τοσοῦτος', 'ἔνιοι', 'ἀρέσκω', 'μισθός', 'ἀνήρ', 'ἀργύριον', 'μηδείς', 'φημί', 'ὑπερβολή', 'ἐπαγγελία', 'ἔγκλημα', 'γίγνομαι', 'ἐπιτελέω', 'ὁμολογέω', 'ἴσος', 'ποιέω', 'σοφιστής', 'ἀναγκάζω', 'μηδείς', 'δίδωμι', 'ἀργύριον', 'ἐπίσταμαι', 'λαμβάνω', 'μισθός', 'ἐγκλήμασίν', 'εἶμι', 'γίγνομαι', 'διομολογία', 'ὑπουργία', 'διʼ', 'αὐτοὺς', 'εἴρω', 'ἀνέγκλητος', 'ʽτοιαύτη', 'κατʼ', 'ἀρετην', 'φιλίἀ', 'ἀμοιβή', 'ποιητέος', 'προαίρεσις', 'ʽαὕτη', 'φίλος', 'ἀρετῆσ', 'ἔοικα', 'φιλοσοφία', 'χρήμαθʼ', 'ἀξία', 'μετρέω', 'τιμή', 'τʼ', 'ἰσόρροπος', 'γίγνομαι', 'ἴσος', 'ἱκανός', 'θεοὺς', 'γονεύς', 'δόσις', 'ἴσος', 'δεῖ', 'ἀνταπόδοσις', 'γίγνομαι', 'ἄμφω', 'κατʼ', 'ἀξία', 'συμβαίνω', 'μόνος', 'ἀναγκαῖον', 'δοκέω', 'τάσσω', 'δίκαιος', 'ὅσος', 'ὠφελέω', 'ἀνθʼ', 'ὅσος', 'ἡδονην', 'εἵλετʼ', 'τοσοῦτος', 'ἀντιλαβὼν', 'ἕξις', 'ἀξία', 'ὤνιος', 'φαίνω', 'τʼ', 'εἶμι', 'νόμος', 'ἑκούσιος', 'συμβόλαιον', 'δίκη', 'δέον', 'πιστεύω', 'διαλύω', 'κοινωνέω', 'ἐπιτρέφω', 'οἴομαι', 'δίκαιος', 'τάσσω', 'πολύς', 'ἴσος', 'τιμάω', 'λαμβάνω', 'οἰκεῖος', 'δίδωμι', 'ἕκαστος', 'φαίνω', 'πολύς', 'ἀξία', 'ὁμός', 'ἀμοιβη', 'γίγνομαι', 'τοσοῦτος', 'ὅσος', 'τάσσω', 'δεῖ', 'ἴσος', 'τοσοῦτος', 'τιμή', 'ὅσος', 'ἔχω', 'φαίνω', 'ἄξιος', 'ὅσος', 'ἔχω', 'τιμάω', 'ἀπορία', 'ἔχις', 'οἷος', 'πότερος', 'δεῖ', 'πᾶς', 'πατήρ', 'ἀπονέμω', 'πείθω', 'ἰατρός', 'πιστεύω', 'στρατηγός', 'χειροτονητέον', 'πολεμικός', 'ὅμοιος', 'φίλος', 'μαλλός', 'σπουδαῖος', 'ὑπηρετητέος', 'εὐεργέτης', 'ἀνταποδοτέον', 'χάρις', 'μαλλός', 'ἑταῖρος', 'προετέον', 'ἄμφω', 'ἐνδέχομαι', 'ἆρʼ', 'πᾶς', 'ἀκριβόω', 'διορίζω', 'ῥᾴδιος', 'πολύς', 'παντοῖος', 'ἔχις', 'διαφορά', 'μέγεθος', 'μικρότης', 'κᾶλον', 'ἀναγκαῖον', 'πᾶς', 'ἀποδοτέος', 'ἄδηλος', 'εὐεργεσία', 'ἀνταποδοτέον', 'πολὺ', 'μαλλός', 'χαριστέος', 'ἑταῖρος', 'δάνειον', 'ὀφείλω', 'ἀποδοτέος', 'μαλλός', 'ἑταῖρος', 'δοτέος', 'ἴσος', 'τοῦτʼ', 'οἷος', 'ληιστής', 'πότερος', 'ἀντιλυτρωτέον', 'κἂν', 'ἀπαιτέω', 'ἀποδοτέος', 'πατήρ', 'λυτρωτέος', 'δοκέω', 'μαλλός', 'πατήρ', 'εἴρω', 'ὀφείλημα', 'ἀποδοτέος', 'τείνω', 'δόσις', 'κᾶλον', 'ἀναγκαῖον', 'ταῦτʼ', 'ἀποκλιτέον', 'ἴσος', 'προϋπαρχην', 'ἀμείβω', 'σπουδαῖος', 'εἰδὼς', 'ποίησις', 'ἀνταπόδοσις', 'γίγνομαι', 'ὃν', 'οἴομαι', 'μοχθηρός', 'ἀντιδανειστέον', 'κομίζω', 'δανείζω', 'ἐπιεικής', 'ἐλπίζω', 'κομίζω', 'πονηρός', 'ἀλήθεια', 'ἔχις', 'ἴσος', 'ἀξίωμα', 'εἴτʼ', 'ἔχις', 'οἴομαι', 'δοκέω', 'ἄτοπος', 'ποιέω', 'εἴρω', 'πάθη', 'πρᾶξις', 'λόγος', 'ὅμοιος', 'ἔχω', 'εἶμι', 'ταὐτάζω', 'πᾶς', 'ἀποδοτέος', 'πατήρ', 'πᾶς', 'Ζεύς', 'θύω', 'ἄδηλος', 'ἔπος', 'ἕτερος', 'γονεύς', 'ἀδελφός', 'ἑταῖρος', 'εὐεργέτης', 'ἕκαστος', 'οἰκεῖος', 'ἀπονεμητέος', 'ποιέω', 'φαίνω', 'γάμος', 'καλέω', 'συγγενής', 'κοινός', 'γένος', 'πρᾶξις', 'κῆδος', 'μάλιστʼ', 'οἴομαι', 'δεῖ', 'συγγενής', 'ἀπαντάω', 'δοκέω', 'τροφεύς', 'γονεύς', 'δεῖ', 'μάλιστʼ', 'ἐπαρκέω', 'αἴτιος', 'καλός', 'ὂν', 'ταῦτʼ', 'ἐπαρκέω', 'τιμή', 'γονεύς', 'θεός', 'πᾶς', 'αὐτην', 'πατήρ', 'μήτηρ', 'σοφός', 'στρατηγός', 'πατρικός', 'ὅμοιος', 'μητρικός', 'πᾶς', 'πρέσβυς', 'τιμή', 'ἡλικία', 'ὑπανάστασις', 'κατάκλισις', 'ἑταῖρος', 'ἀδελφοὺς', 'παρρησία', 'ἅπας', 'κοινότης', 'συγγενής', 'φυλέτης', 'πολίτης', 'λοιπός', 'ἅπας', 'πειρατέος', 'οἰκεῖος', 'ἀπονέμω', 'συγκρίνω', 'ἕκαστος', 'κατʼ', 'οἰκειότης', 'ἀρετην', 'χρῆσις', 'ὁμογενής', 'ῥᾴδιος', 'σύγκρισις', 'διαφέρω', 'ἐργώδης', 'ἀποστατέω', 'ἐνδέχομαι', 'διοριστέον', 'ἔχις', 'ἀπορία', 'διαλύω', 'φιλία', 'χρήσιμος', 'ἡδὺ', 'φίλος', 'ταῦτʼ', 'ἔχω', 'ἄτοπος', 'διαλύω', 'ἐκεῖνος', 'φίλος', 'ἀπολιμπάνω', 'εὔλογος', 'φιλέω', 'ἐγκαλέω', 'χρήσιμος', 'ἡδὺ', 'ἀγάπη', 'προσποιέω', 'ἦθος', 'ἀρχή', 'εἶπον', 'πλεῖστος', 'διαφορά', 'γίγνομαι', 'φίλος', 'ὅμοιος', 'οἴομαι', 'οὖς', 'φίλος', 'διαψεύδω', 'ὑπολαμβάνω', 'φιλέω', 'ἦθος', 'μηδείς', 'ἐκεῖνος', 'αἰτιῷτʼ', 'ἐκεῖνος', 'προσποίησις', 'ἀπατάω', 'δίκαιος', 'ἐγκαλέω', 'μαλλός', 'νόμισμα', 'κιβδηλεύω', 'ὅσος', 'τίμιος', 'κακουργία', 'ἀποδέχομαι', 'ἀγαθός', 'γίγνομαι', 'μοχθηρός', 'δοκή', 'ἆρʼ', 'φιλητέος', 'δυνατός', 'πᾶς', 'φιλητός', 'ἀγαθός', 'φιλητός', 'πονηρός', 'δεῖ', 'φιλοπόνηρος', 'χρῆ', 'ὁμοιόω', 'φαῦλος', 'εἴρω', 'ὅμοιος', 'ὅμοιος', 'φίλος', 'ἆρʼ', 'εὐθὺς', 'διαλυτέος', 'πᾶς', 'ἀνίατος', 'μοχθηρία', 'ἐπανόρθωσις', 'ἔχω', 'μαλλός', 'βοηθητέος', 'ἦθος', 'οὐσία', 'ὅσος', 'βελτίων', 'φιλία', 'οἰκεῖος', 'δοκέω', 'ἄτοπος', 'ποιέω', 'φίλος', 'ἀδύνατος', 'ἀνασῶσαι', 'ἀφεστήξω', 'διαμένω', 'ἐπιεικής', 'γίγνομαι', 'πολὺ', 'διαλλάσσω', 'ἀρετή', 'ἀρά', 'χρηστέος', 'φίλος', 'ἐνδέχομαι', 'μέγας', 'διάστασις', 'δῆλος', 'γίγνομαι', 'οἷος', 'παιδικός', 'φιλία', 'διαμένω', 'διάνοια', 'παῖς', 'ἀνηρ', 'ἐάω', 'οἷος', 'κράτιστος', 'φίλος', 'μήτʼ', 'ἀλλήλων', 'ταῦθʼ', 'ὑπάρχω', 'ἀνίημι', 'φίλος', 'συμβιόω', 'οἷόν', 'εἴρω', 'ἆρʼ', 'ἀλλοῖος', 'ἑκτέος', 'γίγνομαι', 'φίλος', 'δεῖ', 'μνεία', 'ἔχω', 'συνήθεια', 'φίλος', 'μαλλός', 'ὀθνεῖος', 'οἴομαι', 'δεῖ', 'χαρίζομαι', 'ἀπονεμητέος', 'φιλία', 'διʼ', 'ὑπερβολην', 'μοχθηρία', 'διάλυσις', 'γίγνομαι', 'φιλικός', 'πελός', 'φιλία', 'ὁρίζω', 'ἔοικα', 'ἔρχομαι', 'τίθημι', 'φίλος', 'ἀγαθός', 'ἐκεῖνος', 'ζάω', 'φίλος', 'χάρις', 'μήτηρ', 'τέκνον', 'πάσχω', 'φίλος', 'οἳ', 'ταὐτάζω', 'φίλος', 'μήτηρ', 'συμβαίνω', 'φιλία', 'ὁρίζω', 'ἕκαστος', 'ἐπιεικής', 'ὑπάρχω', 'ʽτοῖς', 'λοιπός', 'ὑπολαμβάνω', 'ἔοικα', 'εἴρω', 'μέτρον', 'ἕκαστος', 'ἀρετη', 'σπουδαῖος', 'εἶναἰ', 'ὁμογνωμονέω', 'ὀρέγω', 'πᾶς', 'ψυχή', 'βούλομαι', 'ἀγαθός', 'πράσσω', 'ʽτοῦ', 'ἀγαθός', 'ἀγαθός', 'διαπονέω', 'ʽτοῦ', 'διανοητικός', 'χάρις', 'ἕκαστος', 'δοκεἶ', 'ζάω', 'βούλομαι', 'σώζω', 'φρόνις', 'ἀγαθός', 'σπουδαῖος', 'ἕκαστος', 'βούλομαι', 'ἀγαθός', 'αἱρέω', 'πάντʼ', 'ἔχω', 'ἐκεῖνος', 'ʽἔχει', 'θεός', 'ἀγαθός', 'ὢν', 'ποτʼ', 'δοκέω', 'νοέω', 'ἕκαστος', 'συνδιάγω', 'βούλομαι', 'ποιέω', 'ἐπιτερπής', 'μνήμη', 'μέλλω', 'ἐλπίς', 'ἀγαθός', 'ἡδύς', 'θεώρημα', 'εὐπορέω', 'διάνοια', 'συναλγέω', 'συνήδομαι', 'μάλισθʼ', 'λυπηρός', 'ἡδύς', 'ἄλλοτʼ', 'ἀμεταμέλητος', 'εἶπον', 'ἕκαστος', 'ὑπάρχω', 'ἐπιεικής', 'φίλος', 'ἔχω', 'ʽἔστι', 'φίλος', 'αὐτόσ', 'φιλία', 'εἶναί', 'δοκέω', 'φίλος', 'ταῦθʼ', 'ὑπάρχω', 'πότερος', 'φιλία', 'ἀφίημι', 'δοκέω', 'φιλία', 'πλείων', 'ὑπερβολη', 'φιλία', 'ὁμοιόω', 'φαίνω', 'πολύς', 'ὑπάρχω', 'ὄντα', 'φαῦλος', 'ἆρʼ', 'τʼ', 'ἀρέσκω', 'ὑπολαμβάνω', 'ἐπιεικής', 'μετέχω', 'ἔπος', 'κομιδή', 'φαῦλος', 'ἀνοσιουργῶν', 'ταῦθʼ', 'ὑπάρχω', 'φαίνω', 'φαῦλος', 'διαφέρω', 'ἕτερος', 'ἐπιθυμέω', 'βούλομαι', 'οἷος', 'ἀκρατής', 'αἱρέω', 'δοκέω', 'ἀγαθός', 'ἡδύς', 'βλαβερός', 'ὄντα', 'οἳ', 'δειλία', 'ἀργία', 'ἀφεστήξω', 'πράσσω', 'οἴομαι', 'βέλτιστος', 'πολύς', 'δεῖνα', 'πράσσω', 'μοχθηρία', 'μισέω', 'φεύγω', 'ζάω', 'ἀναιρέω', 'ζητοῦσί', 'μοχθηρός', 'μεθʼ', 'συνημερεύω', 'ἑαυτοὺς', 'φεύγω', 'ἀναμιμνήσκω', 'πολύς', 'δυσχερής', 'τοιαῦθʼ', 'ἕτερος', 'ἐλπίζω', 'ἑαυτοὺς', 'μεθʼ', 'ἕτερος', 'ἐπιλανθάνομαι', 'φιλητός', 'φιλικός', 'πάσχω', 'συγχαίρω', 'συναλγέω', 'στασιάζω', 'ψυχή', 'μοχθηρία', 'ἄλγος', 'ἀπεχόμενόν', 'ἥδομαι', 'ἕλκος', 'οἷόν', 'ἁμός', 'λυπέω', 'ἥδομαι', 'μικρός', 'λυπέω', 'ἕζομαι', 'βούλομαι', 'ἡδύς', 'γίγνομαι', 'μεταμέλεια', 'φαῦλος', 'γέμω', 'φαίνω', 'φαῦλος', 'φιλικός', 'διάκειμαι', 'μηδείς', 'ἔχω', 'φιλητός', 'ἔχω', 'ἄθλιος', 'φευκτέος', 'μοχθηρία', 'πειρατέος', 'ἐπιεικής', 'φιλικός', 'ἔχω', 'ἕτερος', 'φίλος', 'γίγνομαι', 'εὔνοια', 'φιλικός', 'ἔοικα', 'φιλία', 'γίγνομαι', 'εὔνοια', 'ἀγνώς', 'φιλία', 'πρότερος', 'ταῦτʼ', 'εἴρω', 'φίλησίς', 'ἔχις', 'διάτασις', 'ὄρεξις', 'φίλησις', 'ταῦτʼ', 'ἀκολουθέω', 'φίλησις', 'συνήθεια', 'εὔνοια', 'πρόσπαιος', 'οἷος', 'ἀγωνιστής', 'συμβαίνω', 'εὔνους', 'γίγνομαι', 'συνεθέλω', 'συμπράσσω', 'εἶπον', 'πρόσπαιος', 'εὔνους', 'γίγνομαι', 'ἐπιπόλαιος', 'στέργω', 'ἔοικα', 'ἀρχη', 'φιλία', 'ἐράω', 'ὄψις', 'ἡδονή', 'ἰδέα', 'ἐράω', 'εἶδος', 'μαλλός', 'ἐράω', 'ποθή', 'παρουσία', 'ἐπιθυμέω', 'φίλος', 'οἷόν', 'τʼ', 'εὔνους', 'εὔνους', 'μαλλός', 'φιλέω', 'βούλομαι', 'μόνος', 'ἀγαθός', 'εἶμι', 'εὔνους', 'συμπράσσω', 'ὀχλέω', 'φαιός', 'αὐτην', 'ἀργην', 'φιλία', 'συνήθεια', 'γίγνομαι', 'φιλία', 'χρήσιμος', 'ἡδύς', 'εὔνοια', 'γίγνομαι', 'ἀνθʼ', 'πάσχω', 'ἀπονέμω', 'εὔνοια', 'δίκαιος', 'δράω', 'βουλόμενός', 'τινʼ', 'εὐπραγέω', 'ἐλπίς', 'χόω', 'εὐπορία', 'διʼ', 'ἐκεῖνος', 'ἔοικʼ', 'εὔνους', 'ἐκεῖνος', 'μαλλός', 'φίλος', 'θεραπεύω', 'χρῆσις', 'ὅλοξ', 'εὔνοια', 'διʼ', 'ἀρετην', 'ἐπιείκειάν', 'γίγνομαι', 'φανή', 'καλός', 'ἀνδρεῖος', 'ἀγωνιστής', 'εἶπον', 'φιλικός', 'ὁμόνοια', 'φαίνω', 'ὁμοδοξία', 'ἀγνοέω', 'ἀλλήλων', 'ὑπάρχω', 'ὁμονοέω', 'φάσις', 'οἷος', 'οὐράνιος', 'ʽοὐ', 'φιλικός', 'ὁμονοέω', 'πόλις', 'ὁμονοέω', 'φάσις', 'συμφέρω', 'ὁμογνωμονέω', 'ταὐτάζω', 'προαιρέω', 'πράσσω', 'κοινός', 'πρακτός', 'ὁμονοέω', 'μέγεθος', 'ἄμφω', 'ὑπάρχω', 'πᾶς', 'οἷος', 'πόλις', 'πᾶς', 'δοκή', 'ἀρχή', 'αἱρετός', 'συμμαχέω', 'λακεδαιμονίοις', 'ἄρχω', 'πιττακόν', 'ἐθέλω', 'ἑκάτερος', 'βουλητός', 'Φοῖνιξ', 'στασιάζω', 'ὁμονοέω', 'ἑκάτερος', 'ἐννοέω', 'ὁδήποτε', 'οἷος', 'δημός', 'ἐπιεικής', 'ἄριστος', 'ἄρχω', 'πᾶς', 'γίγνομαι', 'ἵημι', 'ἐφίημι', 'πολιτικός', 'φιλία', 'φαίνω', 'ὁμόνοια', 'λέγω', 'βιός', 'ὁμόνοια', 'ἐπιεικής', 'ὁμονοέω', 'ἀλλήλων', 'εἶπον', 'ʽτῶν', 'μένος', 'βουλήματα', 'μεταρρέω', 'εὔριποσ', 'βούλονταί', 'δίκαιος', 'κοινός', 'ἐφίημι', 'φαῦλος', 'οἷόν', 'ὁμονοέω', 'πλέω', 'μικρός', 'φίλος', 'πλεονεξία', 'ὠφέλιμος', 'πόνος', 'λειτουργία', 'ἕκαστος', 'πελός', 'ἐξετάζω', 'κωλύω', 'τηρέω', 'κοινός', 'ἀπόλλυμι', 'συμβαίνω', 'στασιάζω', 'ἀλλήλων', 'αὐτοὺς', 'δίκαιος', 'ποιέω', 'εὐεργέτης', 'δοκέω', 'μαλλός', 'φιλέω', 'λόγος', 'ἐπιζητέω', 'πλεῖστος', 'φαίνω', 'οἳ', 'ὀφείλω', 'ὀφειλέτης', 'δάνειον', 'βούλομαι', 'ὀφείλω', 'ἐπιμελέομαι', 'ὀφείλω', 'σωτηρία', 'βούλομαι', 'χάρις', 'ἐπιμελής', 'ἀνταποδίδωμι', 'ἐπίχαρμος', 'τάχʼ', 'φαιός', 'λέγω', 'αὐτοὺς', 'πονηρός', 'ἔοικα', 'ἀνθρωπικός', 'ἀμνήμων', 'πολύς', 'μαλλός', 'πάσχω', 'ποιέω', 'ἐφίημι', 'δοκέω', 'φυσικός', 'αἴτιος', 'ὅμοιος', 'φίλησις', 'ἐκεῖνος', 'σώζω', 'βούλησις', 'κομιδή', 'φιλέω', 'ἀγαπάζω', 'κἂν', 'μηδείς', 'οὖς', 'χρήσιμος', 'μηδʼ', 'ὕστερος', 'γένοιντʼ', 'τεχνίτης', 'συμβαίνω', 'πᾶς', 'οἰκεῖος', 'ἔργον', 'ἀγάπη', 'μαλλός', 'ἀγαπάω', 'ἔργον', 'ἔμψυχος', 'ἴσος', 'ποιητής', 'συμβαίνω', 'ὑπεραγαπάω', 'οἰκεῖος', 'ποίημα', 'τέκνον', 'ἔοικα', 'εὐεργέτης', 'ἔργον', 'ἀγαπάζω', 'μαλλός', 'ἔργον', 'αἴτιος', 'πᾶς', 'αἱρετός', 'φιλητός', 'ἐνέργεια', 'ʽτῷ', 'ζάω', 'πράσσω', 'ἐνέργεια', 'ποιέω', 'ἔργον', 'στέργω', 'ἔργον', 'φυσικός', 'δύναμις', 'ἐνέργεια', 'ἔργον', 'μηνύω', 'ἁμός', 'εὐεργέτης', 'κᾶλον', 'πρᾶξις', 'χαίρω', 'κᾶλον', 'συμφέρω', 'ἥσσων', 'ἡδὺ', 'φιλητός', 'ἡδύς', 'ἐνέργεια', 'ἐλπίς', 'μνήμη', 'ἡδύς', 'ἐνέργεια', 'φιλητός', 'ὅμοιος', 'μένος', 'ἔργον', 'ʽτό', 'κᾶλον', 'πολυχρόνιος', 'χρήσιμος', 'παροίχομαι', 'μνήμη', 'κᾶλον', 'ἡδύς', 'χρήσιμος', 'ἥσσων', 'προσδοκία', 'ἔχω', 'ἔοικα', 'φίλησις', 'ποίησις', 'ἔοικα', 'φιλέω', 'πάσχω', 'ὑπερέχω', 'πρᾶξις', 'ἕπεται', 'φιλέω', 'φιλικός', 'ἐπίπονος', 'πᾶς', 'μαλλός', 'στέργω', 'οἷος', 'χρῆμα', 'παραλαμβάνω', 'δοκέω', 'πάσχω', 'ἄπονος', 'ποιέω', 'ἐργώδης', 'μήτηρ', 'φιλότεκνος', 'ἐπίπονος', 'γέννησις', 'μαλλός', 'οἶδα', 'δοκέω', 'εὐεργέτης', 'οἰκεῖος', 'ἀπορέω', 'πότερος', 'δεῖ', 'φιλέω', 'ἐπιτιμάω', 'ἑαυτοὺς', 'μάλιστʼ', 'ἀγαπάζω', 'αἰσχρός', 'φίλαυτος', 'ἀποκαλέω', 'δοκέω', 'φαῦλος', 'χάρις', 'πᾶς', 'πράσσω', 'ὅσος', 'μοχθηρός', 'τοσοῦτος', 'μᾶλλονἐγκαλοῦσι', 'οἷος', 'ἀφʼ', 'πράττειὁ', 'ἐπιεικης', 'κᾶλον', 'ὅσος', 'βελτίων', 'μαλλός', 'κᾶλον', 'φίλος', 'πάρειμι', 'λόγος', 'ἔργον', 'διαφωνέω', 'ἄλογος', 'φάσις', 'δεῖ', 'φιλέω', 'φίλος', 'φίλος', 'βούλομαι', 'ἀγαθός', 'ἐκεῖνος', 'μηδείς', 'εἶμι', 'ὑπάρχω', 'μάλιστʼ', 'λοιπός', 'πάνθʼ', 'φίλος', 'ὁρίζω', 'εἴρω', 'ἀπʼ', 'πᾶς', 'φιλικός', 'διήκω', 'παροιμία', 'πᾶς', 'ὁμογνωμονέω', 'οἷος', 'μία', 'ψυχή', 'κοινός', 'φίλος', 'ἰσότης', 'φιλότης', 'γόνυ', 'κνήμη', 'ἐγγίων', 'πᾶς', 'μάλιστʼ', 'ὕπαρχος', 'φίλος', 'φιλητέος', 'μάλισθʼ', 'ἀπορέω', 'πότερος', 'χρεὼν', 'ἕπεσθαι', 'ἄμφω', 'πιστός', 'ἴσος', 'δεῖ', 'λόγος', 'διαιρέω', 'διορίζω', 'ἐφʼ', 'ὅσος', 'ἑκάτερος', 'ἀληθεύω', 'λαμβάνω', 'φίλαυτος', 'ἑκάτερος', 'λέγω', 'τάχʼ', 'γίγνομαι', 'δῆλος', 'ὄνειδος', 'φίλαυτος', 'καλέω', 'πλείων', 'χρῆμα', 'τιμή', 'ἡδονή', 'σωματικός', 'πολύς', 'ὀρέγω', 'σπουδάζω', 'ἄριστον', 'ὄντα', 'περιμάχητά', 'πλεονέκτης', 'χαρίζομαι', 'ἐπιθυμία', 'ὅλοξ', 'πάθος', 'ἄλογος', 'ψυχή', 'εἶμι', 'πολύς', 'προσηγορία', 'γίγνομαι', 'πολύς', 'φαῦλος', 'δίκαιος', 'φίλαυτος', 'ὀνειδίζω', 'τοιαῦθʼ', 'ἔθω', 'λέγω', 'πολύς', 'φίλαυτος', 'ἄδηλος', 'σπουδάζω', 'δίκαιος', 'πράσσω', 'πᾶς', 'σώφρων', 'ὁποιαοῦν', 'ἀρετή', 'ὅλοξ', 'κᾶλον', 'περιποιέω', 'ἔρος', 'φίλαυτος', 'ψέγω', 'δοκέω', 'μαλλός', 'φίλαυτος', 'ἀπονέμω', 'καλός', 'μάλιστʼ', 'ἀγαθός', 'χαρίζομαι', 'κύριος', 'πᾶς', 'πείθω', 'πόλις', 'κύριος', 'μάλιστʼ', 'δοκέω', 'πᾶς', 'σύστημα', 'ἄνθρωπος', 'φίλαυτος', 'ἀγάπη', 'ἐγκρατης', 'ἀκρατης', 'λέγω', 'κρατέω', 'νόος', 'ἕκαστος', 'πράσσω', 'δοκέω', 'ἑκούσιος', 'λόγος', 'τοῦθʼ', 'ἕκαστός', 'ἄδηλος', 'ἐπιεικης', 'τοῦτʼ', 'ἀγάπη', 'φίλαυτος', 'μάλιστʼ', 'ἐάω', 'ἕτερος', 'εἶδος', 'τοσοῦτος', 'ὅσος', 'λόγος', 'ζάω', 'πάθος', 'ὀρέγω', 'κᾶλον', 'συμφέρω', 'καλός', 'πρᾶξις', 'πᾶς', 'ἀποδέχομαι', 'ἐπαινέω', 'πᾶς', 'κᾶλον', 'καλός', 'πράσσω', 'κοινός', 'τʼ', 'πάντʼ', 'ἐάω', 'δέον', 'ἴδιος', 'ἕκαστος', 'μέγας', 'ἀγαθός', 'ἀρετη', 'τοιοῦτόν', 'ἀγαθός', 'δεῖ', 'φίλαυτος', 'ʽκαί', 'ὀνίνημι', 'κᾶλον', 'ὠφελήσεἰ', 'μοχθηρός', 'δεῖ', 'βλάψις', 'πελός', 'φαῦλος', 'πάθος', 'ἑπόμενος', 'μοχθηρός', 'διαφωνέω', 'δεῖ', 'πράσσω', 'πράσσω', 'ἐπιεικής', 'δεῖ', 'πράσσω', 'πᾶς', 'νόος', 'αἱρέω', 'βέλτιστος', 'ἐπιεικης', 'πειθαρχέω', 'νόος', 'ἀληθής', 'σπουδαῖος', 'φίλος', 'πολύς', 'πράσσω', 'πατρίς', 'κἂν', 'δεῖ', 'ὑπεραποθνήσκω', 'προήδομαι', 'χρῆμα', 'τιμή', 'ὅλοξ', 'περιμάχητος', 'ἀγαθός', 'κᾶλον', 'ὀλίγος', 'χρόνος', 'ἥδομαι', 'σφοδρός', 'μαλλός', 'ἕλοιτʼ', 'πολὺν', 'ἤρεμος', 'βιόω', 'καλός', 'ἐνιαυτός', 'πόλλʼ', 'ἔτης', 'μίαν', 'πρᾶξις', 'καλός', 'μέγας', 'πολύς', 'μικρός', 'ὑπεραποθνήσκω', 'τοῦτʼ', 'ἴσος', 'συμβαίνω', 'αἱρέω', 'μέγας', 'κᾶλον', 'χρῆμα', 'προοῖντʼ', 'ἐφʼ', 'πλείων', 'λαμβάνω', 'φίλος', 'γίγνομαι', 'φίλος', 'χρῆμα', 'κᾶλον', 'μέγας', 'ἀγαθός', 'ἀπονέμω', 'τιμή', 'ἀρχή', 'τρόπος', 'πᾶς', 'φίλος', 'προήδομαι', 'κᾶλον', 'ἐπαινετός', 'δοκέω', 'σπουδαῖος', 'πᾶς', 'κᾶλον', 'ἐνδέχομαι', 'πρᾶξις', 'φίλος', 'προίημι', 'καλός', 'πράσσω', 'αἴτιος', 'φίλος', 'γίγνομαι', 'πᾶς', 'ἐπαινετός', 'σπουδαῖος', 'φαίνω', 'κᾶλον', 'πλείων', 'νέμος', 'φίλαυτος', 'δεῖ', 'εἴρω', 'πολύς', 'χρῆ', 'ἀμφισβητέω', 'εὐδαίμων', 'δέω', 'φίλος', 'φάσις', 'δεῖ', 'φίλος', 'μακάριος', 'αὐτάρκης', 'ὑπάρχω', 'ἀγαθός', 'αὐτάρκης', 'προσδέω', 'φίλος', 'ἕτερος', 'ὄντα', 'πορίζω', 'διʼ', 'ἀδυνατέω', 'δαίμων', 'δίδωμι', 'δεῖ', 'φίλος', 'εὑρίσκω', 'ορεστ', 'ἔοικα', 'ἄτοπος', 'πάντʼ', 'ἀγαθός', 'εὐδαίμων', 'φίλος', 'ἀποδίδωμι', 'δοκέω', 'ἀγαθός', 'μέγας', 'εἶμι', 'φίλος', 'μᾶλλόν', 'ποιέω', 'πάσχω', 'ἀγαθός', 'ἀρετή', 'εὐεργετέω', 'καλός', 'ποιέω', 'φίλος', 'ὀθνεῖος', 'δέω', 'σπουδαῖος', 'ἐπιζητέω', 'πότερος', 'εὐτυχία', 'μαλλός', 'δεῖ', 'φίλος', 'ἀτυχία', 'εὐτυχέω', 'οὓς', 'ποιέω', 'ἄτοπος', 'ἴσος', 'μονώτης', 'ποιέω', 'μακάριος', 'ἕλοιτʼ', 'πάντʼ', 'ἔχω', 'ἀγαθός', 'πολιτικός', 'ἄνθρωπος', 'συζάω', 'εὐδαίμων', 'τοῦθʼ', 'ὑπάρχω', 'φύσις', 'ἀγαθός', 'ἔχις', 'δῆλος', 'φίλος', 'ἐπιεικής', 'κρείσσων', 'μετʼ', 'ὀθνεῖος', 'τυγχάνω', 'συνημερεύω', 'δεῖ', 'εὐδαίμων', 'φίλος', 'λέγω', 'πρότερος', 'ἀληθεύω', 'πολύς', 'φίλος', 'οἴομαι', 'χρήσιμος', 'δέω', 'μακάριος', 'ἐπειδη', 'ἀγαθός', 'ὑπάρχω', 'ἡδύς', 'μικρός', 'ʽἡδὺς', 'βιός', 'ὢν', 'δέω', 'ἐπείσακτος', 'ἡδονῆσ', 'φίλος', 'δοκέω', 'δέω', 'φίλος', 'ἴσος', 'ἀληθής', 'ἀρχή', 'εἴρω', 'εὐδαιμονία', 'ἐνέργειά', 'ἐνέργεια', 'δῆλος', 'γίγνομαι', 'ὑπάρχω', 'κτῆμά', 'εὐδαιμονέω', 'ζάω', 'ἐνεργέω', 'ἀγαθός', 'ἐνέργεια', 'σπουδαῖος', 'ἡδύς', 'ἀρχή', 'εἴρω', 'οἰκεῖος', 'ἡδύς', 'θεωρέω', 'μαλλός', 'πελός', 'δύναμαι', 'ἑαυτοὺς', 'ἐκεῖνος', 'πρᾶξις', 'οἰκεῖος', 'σπουδαῖος', 'πρᾶξις', 'φίλος', 'ὄντα', 'ἡδύς', 'ἀγαθός', 'ʽἁμφω', 'ἔχω', 'φύσις', 'ἡδέἀ', 'μακάριος', 'φίλος', 'δέω', 'θεωρέω', 'προαιρέω', 'πρᾶξις', 'ἐπιεικής', 'οἰκεῖος', 'ἀγαθός', 'φίλος', 'οἴονταί', 'δεῖ', 'ζάω', 'εὐδαίμων', 'μονώτης', 'χαλεπός', 'βιός', 'ῥᾴδιος', 'ἐνεργέω', 'συγχώννυμι', 'μεθʼ', 'ἕτερος', 'ῥᾴδιος', 'ἐνέργεια', 'συνεχής', 'ἡδύς', 'δεῖ', 'μακάριος', 'σπουδαῖος', 'σπουδαῖος', 'κατʼ', 'ἀρετην', 'πρᾶξις', 'χαίρω', 'κακία', 'δυσχεραίνω', 'μουσικός', 'κᾶλον', 'μέλος', 'ἥδομαι', 'φαῦλος', 'λυπέω', 'γίγνομαι', 'ἄσκησίς', 'ἀρετή', 'συζάω', 'ἀγαθός', 'θέογνίς', 'φημί', 'φυσικός', 'ἐπισκοπέω', 'ἔοικα', 'σπουδαῖος', 'φίλος', 'σπουδαῖος', 'φύσις', 'αἱρετός', 'φύσις', 'ἀγαθός', 'εἴρω', 'σπουδαῖος', 'ἀγαθός', 'ἡδύς', 'ζάω', 'ὁρίζω', 'ζῷον', 'δύναμις', 'αἴσθησις', 'ἄνθρωπος', 'αἴσθησις', 'νόησις', 'δύναμις', 'ἐνέργεια', 'ἀνάγω', 'κύριος', 'ἐνέργεια', 'ἔοικα', 'ζάω', 'κύριος', 'αἰσθάνομαι', 'νοέω', 'ζάω', 'ἀγαθός', 'ἡδύς', 'ἀγαθός', 'φύσις', 'φύσις', 'ἀγαθός', 'ἐπιεικής', 'ἔοικα', 'πᾶς', 'ἡδὺ', 'δεῖ', 'λαμβάνω', 'μοχθηρός', 'ζωή', 'λύπη', 'ἀόριστος', 'λύπη', 'φανερός', 'ζάω', 'ἀγαθός', 'ἡδύς', 'ʽἔοικε', 'πᾶς', 'ὀρέγω', 'ἐπιεικής', 'μακάριος', 'βιός', 'αἱρετός', 'μακάριος', 'ζωἤ', 'ὅρος', 'ὁράω', 'αἰσθάνομαι', 'ἀκοή', 'ἀκούω', 'βαδίζω', 'ὅμοιος', 'ἐνεργέω', 'αἰσθανώμεθʼ', 'αἰσθάνομαι', 'κἂν', 'νάω', 'νοέω', 'αἰσθάνομαι', 'νοέω', 'ʽτό', 'αἰσθάνομαι', 'νοέω', 'αἰσθάνομαι', 'ζάω', 'ἡδύς', 'ʽφύσει', 'ἀγαθός', 'ζωή', 'ἀγαθός', 'ὕπαρχος', 'αἰσθάνομαι', 'ἡδὔ', 'αἱρετός', 'ζάω', 'ἀγαθός', 'ἀγαθός', 'ἡδύς', 'ʽσυναισθανόμενοι', 'ἀγαθός', 'ἥδονταἰ', 'ἔχις', 'σπουδαῖος', 'φίλος', 'ʽἕτερος', 'φίλος', 'αἱρετός', 'ἕκαστος', 'φίλος', 'παραπλήσιος', 'αἱρετός', 'αἰσθάνομαι', 'ἀγαθός', 'αἴσθησις', 'ἡδύς', 'συναισθάνομαι', 'δεῖ', 'φίλος', 'γίνοιτʼ', 'συζάω', 'κοινωνέω', 'λόγος', 'διάνοια', 'δοκέω', 'συζάω', 'ἄνθρωπος', 'λέγω', 'βόσκημα', 'νέμω', 'μακάριος', 'αἱρετός', 'ἀγαθός', 'φύσις', 'ὂν', 'ἡδύς', 'παραπλήσιος', 'φίλος', 'κἂν', 'φίλος', 'αἱρετός', 'ἐάω', 'αἱρετός', 'δεῖ', 'ὑπάρχω', 'ἐνδεης', 'δέησις', 'εὐδαιμονέω', 'φίλος', 'σπουδαῖος', 'ἆρʼ', 'πλεῖστος', 'φίλος', 'ποιητέος', 'ξενία', 'ἐρῶ', 'δοκέω', 'πολύξενος', 'μήτʼ', 'ἄξενος', 'ηες', 'ἀοιδή', 'φιλία', 'ἁρμόζω', 'μήτʼ', 'ἄφιλος', 'μήτʼ', 'πολύφιλος', 'ὑπερβολή', 'χρῆσις', 'κἂν', 'δοκέω', 'ἁρμόζω', 'λέγω', 'πολύς', 'ἀνθυπηρετέω', 'ἐπίπονος', 'ἱκανός', 'βιός', 'πράσσω', 'πλείων', 'οἰκεῖος', 'βιός', 'ἱκανός', 'περίεργος', 'ἐμπόδιος', 'καλός', 'ζάω', 'δεῖ', 'ἡδονην', 'ἀρκέω', 'ὀλίγος', 'τροφεύς', 'ἥδυσμα', 'σπουδαῖος', 'πότερος', 'πλεῖστος', 'κατʼ', 'ἀριθμός', 'μέτρον', 'φιλικός', 'πλῆθος', 'πόλις', 'δεκάς', 'ἄνθρωπος', 'γένοιτʼ', 'πόλις', 'οὔτʼ', 'δεκάς', 'μυριάς', 'πόλις', 'ποσός', 'ἴσος', 'ἵημι', 'πᾶς', 'μεταξὺ', 'φίλος', 'πλῆθος', 'ἴσος', 'πλεῖστος', 'μεθʼ', 'δύναιτό', 'συζάω', 'ʽτοῦτο', 'δοκέω', 'φιλικός', 'εἶναἰ', 'οἷόν', 'πολύς', 'συζάω', 'διανέμω', 'ἄδηλος', 'ἐκεῖνος', 'δεῖ', 'ἀλλήλων', 'φίλος', 'μέλλησις', 'πᾶς', 'μετʼ', 'ἀλλήλων', 'συνημερεύω', 'ἐργώδης', 'πολύς', 'ὑπάρχω', 'χαλεπός', 'γίγνομαι', 'συγχαίρω', 'συναλγέω', 'οἰκεῖος', 'πολύς', 'συμπίπτειν', 'ἁμός', 'συνήδομαι', 'συνάχθομαι', 'ἴσος', 'ἔχις', 'ζητέω', 'πολύφιλος', 'τοσοῦτος', 'ὅσος', 'συζάω', 'ἱκανός', 'ἐνδέχομαι', 'δοκέω', 'πολύς', 'φίλος', 'σφοδρός', 'ἐράω', 'πλείων', 'ὑπερβολη', 'βούλομαι', 'φιλία', 'ἕνος', 'σφοδρός', 'ὀλίγος', 'ἔχω', 'ἔοικα', 'πρᾶγμα', 'γίγνομαι', 'φίλος', 'πολύς', 'ἑταιρικην', 'φιλία', 'δύσις', 'λέγω', 'πολύφιλος', 'πᾶς', 'οἰκεῖος', 'δοκέω', 'φίλος', 'πλέω', 'πολιτικός', 'οὓς', 'καλέω', 'ἄρεσκος', 'πολιτικός', 'πολύς', 'φίλος', 'ἄρεσκος', 'ὄντα', 'ἐπιεικής', 'διʼ', 'ἀρετην', 'διʼ', 'αὐτοὺς', 'πολύς', 'ἀγαπητός', 'ὀλίγος', 'εὑρίσκω', 'πότερος', 'εὐτυχία', 'μαλλός', 'φίλος', 'δεῖ', 'δυστυχία', 'ἄμφω', 'ἐπιζητέω', 'δέω', 'ἐπικουρία', 'τʼ', 'σύμβιος', 'οὓς', 'ποιέω', 'βούλομαι', 'δράω', 'ἀναγκαῖος', 'ἀτυχία', 'χρήσιμος', 'δεῖ', 'καλός', 'εὐτυχία', 'ἐπιεικής', 'ζητέω', 'αἱρετός', 'εὐεργετέω', 'διάγω', 'παρουσία', 'αὐτη', 'φίλος', 'ἡδύς', 'εὐτυχία', 'δυστυχία', 'κουφίζω', 'συναλγέω', 'φίλος', 'κἂν', 'ἀπορήσειέν', 'πότερος', 'βάρος', 'μεταλαμβάνω', 'παρουσία', 'ἡδύς', 'ἔννοια', 'συναλγέω', 'ἐλάσσων', 'λύπη', 'ποιέω', 'διʼ', 'κουφίζω', 'ἀφίημι', 'συμβαίνω', 'φαίνω', 'λέγω', 'ἔοικα', 'παρουσία', 'μικτός', 'ὁράω', 'φίλος', 'ἡδύς', 'ἀτυχέω', 'γίνεταί', 'ἐπικουρία', 'λυπέω', 'ʽπαραμυθητικόν', 'φίλος', 'ὄψις', 'λόγος', 'ἐπίδειξις', 'οἶδα', 'ἦθος', 'ἐφʼ', 'ἥδομαι', 'λυπεῖταἰ', 'αἰσθάνομαι', 'ἀτυχία', 'λυπηρός', 'πᾶς', 'φεύγω', 'λύπη', 'αἴτιος', 'φίλος', 'ἀνδρώδης', 'φύσις', 'εὐλαβέομαι', 'συλλυπέω', 'φίλος', 'κἂν', 'τείνω', 'ἀλυπίᾳ', 'ἐκεῖνος', 'λύπη', 'ὑπομένω', 'ὅλοξ', 'σύνθρηνος', 'προσίημι', 'μηδʼ', 'θρηνητικός', 'γύναιος', 'ἀνήρ', 'συστένω', 'χαίρω', 'φιλέω', 'φίλος', 'μιμέομαι', 'ἅπας', 'δεῖ', 'δῆλος', 'βελτίων', 'εὐτυχία', 'φίλος', 'παρουσία', 'διαγωγή', 'ἡδύς', 'ἔχις', 'ἔννοια', 'ἥδομαι', 'ἀγαθός', 'δοκέω', 'δεῖ', 'εὐτυχία', 'καλέω', 'φίλος', 'πρόθυμος', 'ʽεὐεργετικόν', 'κᾶλον', 'ἀτυχία', 'μεταδίδωμι', 'ἥκιστος', 'δεῖ', 'κάκη', 'δυστυχής', 'παρακλητέος', 'μέλλησις', 'ὀλίγος', 'μεγάλʼ', 'ὠφελέω', 'εἶμι', 'ἴσος', 'ἁρμόζω', 'ἄκλητος', 'πρόθυμος', 'ʽφίλου', 'ποιέω', 'χρεία', 'ἄμφω', 'καλός', 'ἡδύς', 'εὐτυχία', 'πρόθυμος', 'ʽκαί', 'χρεία', 'φίλος', 'εὐπάθεια', 'σχολαῖος', 'κᾶλον', 'προθυμέομαι', 'ὠφελέω', 'δόξα', 'ἀηδία', 'διωθέω', 'ἴσος', 'εὐλαβητέος', 'συμβαίνω', 'παρουσία', 'φίλος', 'ἅπας', 'αἱρετη', 'φαίνω', 'ἆρʼ', 'ἔρως', 'ὁράω', 'ἀγαπητότατόν', 'μαλλός', 'αἱρέω', 'αἴσθησις', 'λοιπός', 'ἔρως', 'φίλος', 'αἱρετώτατόν', 'συζάω', 'κοινωνία', 'φιλία', 'ἔχις', 'φίλος', 'αἴσθησις', 'αἱρετός', 'φίλος', 'ἐνέργεια', 'γίγνομαι', 'συζάω', 'ὥστʼ', 'ἐφίημι', 'ποτʼ', 'ἕκαστος', 'ἵημι', 'χάρις', 'αἱρέω', 'ζάω', 'φίλος', 'βούλομαι', 'διάγω', 'οἳ', 'συμπίνω', 'οἳ', 'συγκυβεύω', 'συγγυμνάζω', 'συγκυνηγέω', 'συμφιλοσοφέω', 'ἕκαστος', 'πέρα', 'μάλιστʼ', 'ἀγαπάζω', 'βιός', 'συζάω', 'φίλος', 'ποιέω', 'κοινωνέω', 'οἴομαι', 'συζάω', 'γίγνομαι', 'φαῦλος', 'φιλία', 'μοχθηρός', 'ʽκοινωνοῦσι', 'φαῦλος', 'ἀβέβαιος', 'μοχθηρός', 'γίγνομαι', 'ἀλλήλοισ', 'ἐπιεικής', 'ἐπιεικής', 'ὁμιλία', 'δοκέω', 'βελτίων', 'γίγνομαι', 'ἀλλήλων', 'ἀπομάσσω', 'παρʼ', 'ἀλλήλων', 'ἀρέσκω', 'ἐσθλός', 'ἄπʼ', 'ἐσθλός', 'φιλία', 'τοσοῦτος', 'ἐρῶ', 'ἑπόμενον', 'ἐάω', 'διέρχομαι', 'ἡδονή', 'βοοκ', 'ἡδονή', 'ἴσος', 'ἕπεται', 'διέρχομαι', 'δοκέω', 'συνοικειόω', 'γένος', 'ἡμός', 'παιδεύω', 'νέος', 'ἡδονή', 'λύπη', 'δοκέω', 'ἦθος', 'ἀρετην', 'μέγας', 'χαίρω', 'δεῖ', 'μισέω', 'δεῖ', 'διατείνω', 'πᾶς', 'βιός', 'ῥοπην', 'δύναμις', 'ἀρετή', 'εὐδαίμων', 'βιός', 'ἡδύς', 'προαιρέω', 'λυπηρός', 'φεύγω', 'ἥκιστʼ', 'δοκέω', 'παρετέον', 'πολύς', 'ἔχω', 'ἀμφισβήτησις', 'οἳ', 'ἀγαθός', 'ἡδονην', 'λέγω', 'οἳ', 'ἐναντίος', 'κομιδή', 'φαῦλος', 'οἳ', 'ἴσος', 'ἔχω', 'οἳ', 'βελτίων', 'βιός', 'ἡμός', 'ἀποφαίνω', 'ἡδονην', 'φαῦλος', 'ῥέπω', 'πολλοὺς', 'αὐτην', 'δουλεύω', 'ἡδονή', 'δεῖ', 'ἐναντίος', 'ἄγω', 'ἔρχομαι', 'μέσος', 'ποτός', 'καλός', 'λέγω', 'πάθος', 'πρᾶξις', 'λόγος', 'ἧττόν', 'εἶμι', 'πιστός', 'ἔργον', 'διαφωνέω', 'αἴσθησις', 'ἀληθής', 'προσαναιρέω', 'ἡδονή', 'ποτʼ', 'ἀποκλίνω', 'δοκέω', 'αὐτην', 'ἅπας', 'διορίζω', 'πολύς', 'ἔοικα', 'ἀληθής', 'λόγος', 'μόνος', 'οἶδα', 'χρήσιμος', 'βιός', 'συνῳδός', 'ἔργον', 'πιστεύω', 'προτρέπω', 'ζάω', 'κατʼ', 'ἡδονή', 'ἐπέρχομαι', 'εὔδοξος', 'ἡδονην', 'ἀγαθός', 'ᾤετʼ', 'πάνθʼ', 'ὁράω', 'ἔλλογα', 'ἄλογος', 'πᾶς', 'αἱρετός', 'ἐπιεικής', 'κράτιστος', 'πάντʼ', 'φέρω', 'μηνύω', 'πᾶς', 'ἄριστον', 'ʽἕκαστον', 'ἀγαθός', 'εὑρίσκω', 'τροφή', 'πᾶς', 'ἀγαθός', 'ἵημι', 'πάντʼ', 'ἐφίημι', 'ἀγαθός', 'πιστεύω', 'λόγος', 'ἦθος', 'ἀρετην', 'μαλλός', 'διʼ', 'δοκέω', 'σώφρων', 'φίλος', 'ἡδονή', 'δοκέω', 'λέγω', 'ἔχω', 'κατʼ', 'ἀλήθεια', 'ἥσσων', 'ᾤετʼ', 'φανερός', 'ἐναντίος', 'λύπη', 'πᾶς', 'φευκτός', 'ὅμοιος', 'ἐναντίος', 'αἱρετός', 'αἱρετός', 'διʼ', 'ἕτερος', 'μηδʼ', 'ἕτερος', 'χάρις', 'αἱρέω', 'ἡδονή', 'ἐπερωτάω', 'ἥδομαι', 'αὑτην', 'αἱρετην', 'ἡδονή', 'ἀγαθός', 'αἱρετός', 'ποιέω', 'οἷος', 'δικαιοπραγέω', 'σωφρονέω', 'αὐξάνω', 'ἀγαθός', 'ἔοικα', 'οὗτός', 'λόγος', 'ἀγαθός', 'αὐτην', 'ἀποφαίνω', 'μαλλός', 'ἕτερος', 'πᾶς', 'μεθʼ', 'ἕτερος', 'ἀγαθός', 'αἱρετός', 'λόγος', 'πλάτη', 'ἀναιρέω', 'ἡδονη', 'ἀγαθός', 'αἱρετός', 'ἡδὺν', 'βιός', 'φρόνησις', 'μικτός', 'κρείσσων', 'ἡδονην', 'ἀγαθός', 'ἀγαθός', 'αἱρετός', 'γίγνομαι', 'δῆλος', 'ἀγαθός', 'ἐάω', 'ἀγαθός', 'αἱρετός', 'γίγνομαι', 'ἵημι', 'κοινωνέω', 'ἐπιζητέω', 'ἀγαθός', 'ἵημι', 'πάντʼ', 'ἐφίημι', 'λέγω', 'πᾶς', 'δοκέω', 'ταῦτʼ', 'εἶναί', 'φημί', 'ἀνιερόω', 'πίστις', 'πιστός', 'ἔρος', 'ἀνόητος', 'ὀρέγω', 'φρόνιμος', 'λέγω', 'ἴσος', 'φαῦλος', 'φυσικός', 'ἀγαθός', 'κρείσσων', 'ἐφίημι', 'οἰκεῖος', 'ἀγαθός', 'ἔοικα', 'ἐναντίος', 'καλός', 'λέγω', 'φάσις', 'λύπη', 'κακός', 'ἡδονην', 'ἀγαθός', 'ἀντίκειμαι', 'κακός', 'κακός', 'ἄμφω', 'μηδετέρῳλέγοντες', 'κακός', 'ἄμφω', 'κάκη', 'φευκτός', 'δεῖ', 'ἄμφω', 'μηδέτερος', 'μηδέτερος', 'ὅμοιος', 'φαίνω', 'κακός', 'ἀγαθός', 'ἀντίκειμαι', 'ποιότης', 'ἡδονή', 'τοῦτʼ', 'ἀγαθός', 'ἀρετή', 'ἐνέργεια', 'ποιότητές', 'εἶμι', 'εὐδαιμονία', 'λέγω', 'ἀγαθός', 'ὁρίζω', 'ἡδονην', 'ἀόριστος', 'δέχομαι', 'μαλλός', 'ἥσσων', 'ἥδομαι', 'κρίνω', 'δικαιοσύνη', 'ἀλλᾶς', 'ἀρετή', 'ἃς', 'φάσις', 'μαλλός', 'ἥσσων', 'ποιοὺς', 'ὑπάρχω', 'πράσσω', 'ἀρετή', 'ταὐτάζω', 'δίκαιος', 'εἶμι', 'μαλλός', 'ἀνδρεῖος', 'δικαιοπραγέω', 'σωφρονέω', 'μαλλός', 'ἥσσων', 'ἡδονή', 'ποτʼ', 'λέγω', 'αἴτιος', 'οὖς', 'αἳ', 'ἀμιγής', 'αἳ', 'μικτός', 'κωλύω', 'ὑγίεια', 'δέχομαι', 'μαλλός', 'ἥσσων', 'ἡδονή', 'αὐτη', 'συμμετρία', 'πᾶσίν', 'μία', 'διαμένω', 'ἑός', 'διαφέρω', 'μαλλός', 'ἥσσων', 'ἡδονην', 'ἐνδέχομαι', 'τέλειόν', 'ἀγαθός', 'κίνησις', 'γένεσις', 'ἀτελής', 'ἡδονην', 'κίνησις', 'γένεσις', 'ἀποφαίνω', 'πειράζω', 'καλός', 'ἔοικα', 'λέγω', 'κίνησις', 'πᾶς', 'οἰκεῖος', 'δοκέω', 'τάχος', 'βραδυτής', 'οἷος', 'κόσμος', 'ἡδονή', 'οὐδέτερος', 'ὑπάρχω', 'ἥδομαι', 'ὀργίζω', 'ἥδομαι', 'ἕτερος', 'βαδίζω', 'αὐξάνω', 'πᾶς', 'μεταβάλλω', 'ἡδονην', 'ἐνεργέω', 'κατʼ', 'αὐτην', 'λέγω', 'ἥδομαι', 'γένεσίς', 'ἐάω', 'δοκέω', 'τύχος', 'γίγνομαι', 'ἵημι', 'γίγνομαι', 'διαλύω', 'ἵημι', 'γένεσις', 'ἡδονή', 'λύπη', 'φθορά', 'λέγω', 'λύπη', 'ἔνδεια', 'φύσις', 'ἡδονην', 'ἀναπλήρωσις', 'σωματικός', 'πάθη', 'φύσις', 'ἀναπλήρωσις', 'ἡδονή', 'ἀναπλήρωσις', 'τοῦτʼ', 'ἥδομαι', 'σῶμα', 'δοκέω', 'ἀναπλήρωσις', 'ἡδονή', 'ἀναπλήρωσις', 'ἥδοιτʼ', 'τεμνόμενοσ', 'λυπέω', 'δόξα', 'δοκέω', 'γίγνομαι', 'τροφή', 'λύπη', 'ἡδονή', 'ἐνδεής', 'ἥδομαι', 'ἀναπλήρωσις', 'πᾶς', 'συμβαίνω', 'ἡδονή', 'ἄλυπος', 'εἶμι', 'μαθηματικός', 'αἴσθησις', 'ὄσφρησις', 'ἀκρόαμα', 'ὅραμα', 'πολύς', 'μνήμη', 'ἐλπίς', 'γένεσις', 'ἔνδεια', 'γίγνομαι', 'ἵημι', 'γένοιτʼ', 'ἀναπλήρωσις', 'ἐπονείδιστος', 'ἡδονή', 'λέγω', 'ταῦθʼ', 'ἡδύς', 'ʽοὐ', 'κακός', 'ἡδύς', 'οἰητέος', 'ἡδύς', 'πλέω', 'κάμνω', 'ὑγιεινός', 'γλυκύς', 'πικρός', 'λευκάς', 'ὀφθαλμιάω', 'λέγω', 'ἡδονή', 'αἱρετός', 'εἶμι', 'πλουτέω', 'ὑγιαίνω', 'εἶδος', 'διαφέρω', 'ἡδονή', 'ἕτερος', 'κᾶλον', 'αἰσχρός', 'ἥδομαι', 'δίκαιος', 'ὄντα', 'δίκαιος', 'μουσικός', 'ὄντα', 'μουσικός', 'ὅμοιος', 'ἐμφανίζω', 'δοκέω', 'φίλος', 'ἕτερος', 'ὢν', 'κόλαξ', 'ἀγαθός', 'ἡδονην', 'διάφορος', 'εἶδος', 'ἀγαθός', 'ὁμιλέω', 'δοκέω', 'ἡδονή', 'ὀνειδίζω', 'ἐπαινέω', 'ἕτερος', 'τʼ', 'αἱρέω', 'ζάω', 'παιδίον', 'διάνοια', 'χόω', 'βιός', 'ἐφʼ', 'παιδιή', 'οἷόν', 'χαίρω', 'πόα', 'αἰσχρός', 'μέλλησις', 'λυπέω', 'πολύς', 'σπουδή', 'ποιησαίμεθʼ', 'μηδείς', 'ἐπιφέρω', 'ἡδονή', 'οἷος', 'ὁράω', 'μνημονεύω', 'οἶδα', 'ἀρετή', 'ἔχω', 'ἀνάγκη', 'ἕπονται', 'ἡδονή', 'διαφέρω', 'αἱρέω', 'γίνοιτʼ', 'ἀπʼ', 'ἡδονή', 'ἀγαθός', 'ἡδονη', 'πᾶς', 'αἱρετός', 'δῆλος', 'ἔοικα', 'εἶμι', 'τίνω', 'αἱρετός', 'εἶδος', 'ἀφʼ', 'ἡδονή', 'λύπη', 'ἱκανός', 'ἐρῶ', 'ποῖόν', 'καταφανής', 'γένοιτʼ', 'ἀπʼ', 'ἀρχή', 'δοκέω', 'ὅρασις', 'χρόνος', 'τέλειος', 'ἐνδεης', 'ὕστερος', 'τελείωσις', 'εἶδος', 'ἔοικα', 'ἡδονή', 'ὅλοξ', 'κατʼ', 'χρόνος', 'λαμβάνω', 'ἡδονην', 'πλείων', 'χρόνος', 'τελειόω', 'εἶδος', 'κίνησίς', 'χρόνος', 'πᾶς', 'κίνησις', 'τέλος', 'οἷος', 'οἰκοδομικός', 'τέλειος', 'ποίησις', 'ἵημι', 'ἐφίημι', 'ἅπας', 'χρόνος', 'μέρος', 'χρόνος', 'πᾶς', 'ἀτελής', 'ἕτερος', 'εἶδος', 'ὅλοξ', 'ἀλλήλων', 'λίθος', 'σύνθεσις', 'ἕτερος', 'κίων', 'ῥάβδωσις', 'ναός', 'ποίησις', 'ναός', 'τέλειος', 'ʽοὐδενός', 'ἐνδεης', 'κρηπίς', 'τρίγλυφος', 'ἀτελής', 'μέρος', 'ἑκάτερος', 'εἶδος', 'διαφέρω', 'χρόνος', 'λαμβάνω', 'κίνησις', 'τέλειος', 'εἶδος', 'ἅπας', 'ὅμοιος', 'βάδισις', 'λοιπός', 'φορά', 'κίνησις', 'πίνω', 'διαφορά', 'κατʼ', 'εἶδος', 'πτῆσις', 'βάδισις', 'ἅλσις', 'μόνος', 'βάδισις', 'πίνω', 'στάδιον', 'μέρος', 'ἕτερος', 'μέρος', 'ἕτερος', 'διέξειμι', 'γραμμή', 'ἐκεῖνος', 'μόνος', 'γραμμή', 'διαπορεύω', 'τόπος', 'ἕτερος', 'ἐκεῖνος', 'διʼ', 'ἀκρίβεια', 'κίνησις', 'εἴρω', 'ἔοικα', 'ἅπας', 'χρόνος', 'τέλειος', 'πολύς', 'ἀτελής', 'εἶδος', 'πίνω', 'εἰδοποιός', 'ἡδονή', 'χρόνος', 'τέλειος', 'εἶδος', 'δῆλος', 'ἕτεραί', 'τʼ', 'ἀλλήλων', 'ὅλοξ', 'τέλειος', 'ἡδονή', 'δοκέω', 'ἐνδέχομαι', 'κινέω', 'χρόνος', 'ἥδομαι', 'ὅλοξ', 'δῆλος', 'καλός', 'λέγω', 'κίνησις', 'γένεσις', 'ἡδονή', 'πᾶς', 'λέγω', 'μεριστής', 'ὅλοξ', 'ὁράσεώς', 'γένεσις', 'στιγμή', 'μονάς', 'κίνησις', 'γένεσις', 'ἡδονή', 'ὅλοξ', 'αἴσθησις', 'πᾶς', 'αἰσθητός', 'τέλειος', 'καλός', 'αἴσθησις', 'ʽτοιοῦτον', 'μάλιστʼ', 'δοκέω', 'τέλειος', 'ἐνέργεια', 'αὐτην', 'λέγω', 'ἐνεργέω', 'μηδείς', 'διαφερέτὠ', 'ἕκαστος', 'βέλτιστος', 'ἐνέργεια', 'ἄριστον', 'κράτιστος', 'ὑπʼ', 'τέλειος', 'ἐάω', 'ἡδύς', 'πᾶς', 'αἴσθησίν', 'ἡδονή', 'ὅμοιος', 'διάνοια', 'θεωρία', 'ἡδύς', 'τέλειος', 'τέλειος', 'σπουδαῖος', 'ὑπʼ', 'τέλειος', 'ἐνέργεια', 'ἡδονή', 'τρόπος', 'ἡδονη', 'τέλειος', 'αἰσθητός', 'αἴσθησις', 'σπουδαῖος', 'ὄντα', 'ὑγίεια', 'ἰατρός', 'ὅμοιος', 'αἰτία', 'ὑγιαίνω', 'ἕκαστος', 'αἴσθησις', 'γίγνομαι', 'ἡδονή', 'δῆλος', 'ʽφαμέν', 'ὅραμα', 'ἄκουσμα', 'ἡδέἀ', 'δῆλος', 'αἴσθησις', 'κράτιστος', 'ἐνεργάζομαι', 'ὄντα', 'αἰσθητός', 'ἡδονη', 'ὑπάρχοντός', 'τέλειος', 'ἐνέργεια', 'ἡδονη', 'ἕξις', 'ἐπιγινόμενόν', 'τέλος', 'οἷος', 'ἀκμαῖος', 'ὥρα', 'ἑός', 'νοητός', 'αἰσθητός', 'οἷος', 'δεῖ', 'κρίνον', 'θεωρέω', 'ἐνέργεια', 'ἡδονή', 'ὅμοιος', 'ὄντα', 'ἀλλήλων', 'τρόπος', 'ἔχω', 'παθητικός', 'ποιητικός', 'φύω', 'γίγνομαι', 'συγχώννυμι', 'ἥδομαι', 'κάμνω', 'πᾶς', 'ἀνθρώπειος', 'ἀδυνατέω', 'συγχώννυμι', 'ἐνεργέω', 'γίγνομαι', 'ἡδονή', 'ἕπεται', 'ἐνέργεια', 'ἔνιοι', 'τέρπω', 'καινός', 'ὄντα', 'ὕστερος', 'ὅμοιος', 'πρότερος', 'παρακαλέω', 'διάνοια', 'ἐνεργής', 'ὄψις', 'ἐνέργεια', 'ἡδονη', 'ἀμαυρόω', 'ὀρέγω', 'ἡδονή', 'οἴομαι', 'ἅπας', 'ζάω', 'ἅπας', 'ἐφίημι', 'ζωή', 'ἐνέργειά', 'ἕκαστος', 'ἐνεργής', 'μάλιστʼ', 'ἀγάπη', 'οἷος', 'μουσικός', 'ἀκοή', 'μέλος', 'φιλομαθής', 'διάνοια', 'θεώρημα', 'λοιπός', 'ἕκαστος', 'ἡδονη', 'τέλειος', 'ἐνέργεια', 'ζάω', 'ἵημι', 'ὀρέγω', 'εὔλογος', 'ἡδονή', 'ἐφίημι', 'τέλειος', 'ἕκαστος', 'ζάω', 'αἱρετός', 'πότερος', 'ἡδονην', 'ζάω', 'αἱρέω', 'ζάω', 'ἡδονή', 'ἀφίημι', 'συζεύγνυμι', 'φαίνω', 'χωρισμός', 'δέχομαι', 'ἀνίημι', 'ἐνέργεια', 'γίγνομαι', 'ἡδονή', 'πᾶσάν', 'ἐνέργεια', 'τέλειος', 'ἡδονή', 'δοκέω', 'εἶδος', 'διαφέρω', 'ἕτερος', 'εἶδος', 'ὑφʼ', 'ἕτερος', 'οἴομαι', 'τελειόω', 'ʽοὕτω', 'φαίνω', 'φυσικός', 'τέχνη', 'οἷος', 'ζωή', 'δένδρον', 'γραφεύς', 'ἄγαλμα', 'οἰκία', 'σκεῦοσ', 'ὅμοιος', 'ἐνέργεια', 'εἶδος', 'διαφέρω', 'εἶδος', 'τελειόω', 'διαφέρω', 'διάνοια', 'αἴσθησις', 'ἀλλήλων', 'κατʼ', 'εἶδος', 'ἡδονή', 'φαίνω', 'συνοικειόω', 'ἡδονή', 'ἕκαστος', 'ἐνέργεια', 'ἣν', 'τέλειος', 'συναυξάνω', 'ἐνέργεια', 'οἰκεῖος', 'ἡδονή', 'μαλλός', 'ἕκαστος', 'κρίνω', 'ἐξακριβόω', 'μεθʼ', 'ἡδονή', 'οἷος', 'γεωμετρικός', 'γίγνομαι', 'γεωμετρέω', 'κατανοέω', 'ἕκαστος', 'μαλλός', 'ὅμοιος', 'φιλόμουσος', 'φιλοικοδόμος', 'ἕκαστος', 'ἐπιδίδωμι', 'οἰκεῖος', 'ἔργον', 'συναυξάνω', 'ἡδονή', 'οἰκεῖος', 'ἕτερος', 'εἶδος', 'οἰκεῖος', 'ἕτερος', 'εἶδος', 'μαλλός', 'τοῦτʼ', 'φαίνω', 'ἀφʼ', 'ἕτερος', 'ἡδονή', 'ἐμπόδιος', 'ἐνέργεια', 'φίλαυλος', 'ἀδυνατέω', 'λόγος', 'προσέχω', 'κατακούω', 'μαλλός', 'αὐλητικός', 'ἐνέργεια', 'αὐλητικην', 'ἡδονη', 'λόγος', 'ἐνέργεια', 'φθείρω', 'ὅμοιος', 'συμβαίνω', 'ἁμός', 'ἐνεργάζομαι', 'ἡδύς', 'ἕτερος', 'ἐκκρούω', 'κἂν', 'πολὺ', 'διαφέρω', 'ἡδονή', 'μαλλός', 'μηδʼ', 'ἐνεργέω', 'ἕτερος', 'σφοδρός', 'δράω', 'ἕτερος', 'ποιέω', 'ἤρεμος', 'οἷος', 'θέατρον', 'φαῦλος', 'οὖς', 'μάλιστʼ', 'δράω', 'ἔπος', 'οἰκεῖος', 'ἡδονη', 'ἐξακριβόω', 'ἐνέργεια', 'χρόνιος', 'βελτίων', 'ποιέω', 'ἀλλότριος', 'λυμαίνομαι', 'δῆλος', 'πολὺ', 'διίστημι', 'ἀλλότριος', 'ἡδονή', 'ποιέω', 'οἰκεῖος', 'λύπη', 'φθείρω', 'ἐνέργεια', 'οἰκεῖος', 'λύπη', 'οἷος', 'εἶμι', 'γράφω', 'ἀηδής', 'ἐπίλυπον', 'λογίζομαι', 'γραφεύς', 'λογίζομαι', 'λυπηρός', 'ἐνέργεια', 'συμβαίνω', 'ἐνέργεια', 'ἐναντίος', 'οἰκεῖος', 'ἡδονή', 'λύπη', 'οἰκεῖος', 'εἶμι', 'ἐνέργεια', 'αὑτην', 'ἀλλότριος', 'ἡδονή', 'εἴρω', 'παραπλήσιόν', 'λύπη', 'ποιέω', 'φθείρω', 'πλέω', 'ὅμοιος', 'ἐνέργεια', 'ἐπιείκεια', 'φαυλότης', 'αἱρετός', 'φευκτός', 'οὐδέτερος', 'ὅμοιος', 'ἔχω', 'ἡδονή', 'ἕκαστος', 'ἐνέργεια', 'οἰκεῖος', 'ἡδονη', 'σπουδαῖος', 'οἰκεῖος', 'ἐπιεικής', 'φαῦλος', 'μοχθηρός', 'ἐπιθυμία', 'κᾶλον', 'ἐπαινέτης', 'αἰσχρός', 'ψέκτης', 'οἰκεῖος', 'ἐνέργεια', 'ἡδονή', 'ὄρεξις', 'αἳ', 'εἶμι', 'χρόνος', 'φύσις', 'αἳ', 'ἐνέργεια', 'ἀδιόριστοι', 'ὥστʼ', 'ἔχω', 'ἀμφισβήτησις', 'ταὐτόν', 'ἐνέργεια', 'ἡδονή', 'ἔοικέ', 'ἡδονη', 'διάνοια', 'αἴσθησις', 'ʽἄτοπον', 'γάῤ', 'χωρίζω', 'φαίνεταί', 'τίσις', 'ταὐτόν', 'ἐνέργεια', 'ἕτερος', 'ἡδονή', 'διαφέρω', 'ὄψις', 'ἁφή', 'καθαριότης', 'ἀκοη', 'ὄσφρησις', 'γεύσεως', 'ὅμοιος', 'διαφέρω', 'ἡδονή', 'διάνοια', 'ἑκάτερος', 'ἀλλήλων', 'δοκέω', 'ἕκαστος', 'ζῷον', 'ἡδονη', 'οἰκεῖος', 'ἔργον', 'ἐνέργεια', 'ἐφʼ', 'ἕκαστος', 'θεωρέω', 'τοῦτʼ', 'φαίνω', 'ἕτερος', 'ἵππος', 'ἡδονη', 'κύων', 'ἄνθρωπος', 'ἡράκλειτός', 'φημί', 'ὄνος', 'σύρματʼ', 'αἱρέω', 'μαλλός', 'χρυσός', 'ἡδύς', 'χρύσεος', 'τροφεύς', 'ὄνος', 'ἕτερος', 'εἶδος', 'διαφέρω', 'εἶδος', 'ἀδιαφόρους', 'εὔλογος', 'διαλλάσσω', 'μικρός', 'ἄνθρωπος', 'τέρπω', 'λυπέω', 'λυπηρός', 'μισητός', 'ἡδύς', 'φιλητός', 'γλυκύς', 'συμβαίνω', 'δοκέω', 'πυρέσσω', 'ὑγιαίνω', 'θερμός', 'ἀσθενής', 'εὐεκτικῷ', 'ὅμοιος', 'ἐφʼ', 'ἕτερος', 'συμβαίνω', 'δοκέω', 'ἅπας', 'σπουδαῖος', 'καλός', 'λέγω', 'δοκέω', 'ἕκαστος', 'μέτρον', 'ἀρετη', 'ἀγαθός', 'ἡδονή', 'ἡδύς', 'χαίρω', 'δυσχερής', 'εἶμι', 'φαίνω', 'ἡδύς', 'θαυμαστός', 'πολύς', 'φθορά', 'λύμη', 'ἄνθρωπος', 'γίγνομαι', 'ἡδύς', 'αἰσχρός', 'δῆλος', 'φατέος', 'ἡδονή', 'πλέω', 'ἐπιεικής', 'πόα', 'φατέος', 'ἄνθρωπος', 'ἐνέργεια', 'δῆλος', 'ἕπονται', 'ἡδονή', 'εἴτʼ', 'μία', 'πλείων', 'τέλειος', 'μακάριος', 'ἀνήρ', 'ἡδονή', 'κύριος', 'λέγοιντʼ', 'ἄνθρωπος', 'ἡδονή', 'λοιπός', 'δεύτερος', 'πολλοστός', 'ἐνέργεια', 'ἀρετή', 'φιλία', 'ἡδονή', 'λοιπός', 'εὐδαιμονία', 'τύπος', 'διέρχομαι', 'ἐπειδη', 'τέλος', 'αὐτην', 'τίθημι', 'ἀνθρώπινος', 'σύντομος', 'ἐάω', 'λόγος', 'εἶπον', 'ἕξις', 'καθεύδω', 'βιός', 'ὕπαρχος', 'φυτόν', 'ζάω', 'βιός', 'δυστυχέω', 'μέγας', 'ἀρέσκω', 'μαλλός', 'ἐνέργειάν', 'θετέος', 'πρότερος', 'εἴρω', 'ἐνέργεια', 'αἳ', 'εἶμι', 'ἀναγκαῖος', 'διʼ', 'ἕτερος', 'αἱρετός', 'αἳ', 'δῆλος', 'εὐδαιμονία', 'αἱρετός', 'θετέος', 'διʼ', 'ἐνδεης', 'εὐδαιμονία', 'αὐτάρκης', 'εἶμι', 'αἱρετός', 'ἀφʼ', 'μηδείς', 'ἐπιζητέω', 'ἐνέργεια', 'δοκέω', 'κατʼ', 'ἀρετην', 'πρᾶξις', 'κᾶλον', 'σπουδαῖος', 'πράσσω', 'διʼ', 'αἱρετός', 'παιδιή', 'ἡδύς', 'διʼ', 'ἕτερος', 'αἱρέω', 'βλάπτω', 'ἀπʼ', 'μαλλός', 'ὠφελέω', 'σῶμα', 'κτῆσις', 'καταφεύγω', 'διαγωγή', 'πολύς', 'τύραννος', 'εὐδοκιμέω', 'διαγωγή', 'εὐτράπελος', 'ἐφίημι', 'παρέχω', 'σφός', 'αὐτοὺς', 'ἡδύς', 'δέω', 'δοκέω', 'εὐδαιμονικός', 'δυναστεία', 'ἀποσχολάζειν', 'ἴσος', 'σημεῖον', 'τοιοῦτοί', 'εἶμι', 'δυναστεύω', 'ἀρετη', 'νόος', 'ἀφʼ', 'σπουδαῖος', 'ἐνέργεια', 'ἄγευστος', 'ἡδονή', 'εἰλικρινής', 'ἐλευθέριος', 'σωματικός', 'καταφεύγω', 'οἰητέος', 'αἱρετός', 'παῖς', 'παρʼ', 'κράτιστος', 'οἴομαι', 'εὔλογος', 'παῖς', 'ἀνήρ', 'ἕτερος', 'φαίνω', 'τίμιος', 'φαῦλος', 'ἐπιεικής', 'εἴρω', 'τίμιος', 'ἡδύς', 'σπουδαῖος', 'ὄντα', 'ἕκαστος', 'οἰκεῖος', 'ἕξις', 'αἱρετός', 'ἐνέργεια', 'σπουδαῖος', 'ἀρετή', 'παιδιή', 'εὐδαιμονία', 'ἄτοπος', 'τέλος', 'παιδιή', 'πραγματεύομαι', 'κακοπαθέω', 'βιός', 'ἅπας', 'παίζω', 'χάρις', 'ἅπας', 'εἶπον', 'ἕτερος', 'αἱρέω', 'πλέω', 'εὐδαιμονία', 'τέλος', 'σπουδάζω', 'πονέω', 'παιδιή', 'χάρις', 'ἠλίθιος', 'φαίνω', 'παιδικός', 'παίζω', 'σπουδάζω', 'κατʼ', 'ἀνάχαρσιν', 'ὀρθός', 'ἔχω', 'δοκέω', 'ἀνάπαυσις', 'ἔοικα', 'παιδιή', 'συγχώννυμι', 'πονέω', 'ἀνάπαυσις', 'δέω', 'τέλος', 'ἀνάπαυσις', 'γίγνομαι', 'ἐνέργεια', 'δοκέω', 'εὐδαίμων', 'βιός', 'κατʼ', 'ἀρετην', 'σπουδή', 'παιδιή', 'βελτίων', 'λέγω', 'σπουδαῖος', 'γέλοιος', 'παιδιή', 'βελτίων', 'μόριον', 'ἄνθρωπος', 'σπουδαῖος', 'ἐνέργεια', 'βελτίων', 'κρείσσων', 'εὐδαιμονικός', 'ἦδος', 'ἀπολαύσειέ', 'τʼ', 'σωματικός', 'ἡδονή', 'τυχὼν', 'ἀνδράποδον', 'ἥσσων', 'ἄριστον', 'εὐδαιμονία', 'ἀνδράποδον', 'μεταδίδωμι', 'βιός', 'διαγωγή', 'εὐδαιμονία', 'κατʼ', 'ἀρετην', 'ἐνέργεια', 'πρότερος', 'εἴρω', 'εὐδαιμονία', 'κατʼ', 'ἀρετην', 'ἐνέργεια', 'εὔλογος', 'κράτιστος', 'ἐάω', 'ἄριστον', 'νόος', 'φύσις', 'δοκέω', 'ἄρχω', 'ἡγέομαι', 'ἔννοια', 'ἔχω', 'κᾶλον', 'θεῖος', 'θεῖος', 'ὂν', 'θεῖος', 'ἐνέργεια', 'οἰκεῖος', 'ἀρετην', 'ἐάω', 'τέλειος', 'εὐδαιμονία', 'θεωρητικός', 'εἴρω', 'τοῦτʼ', 'δοκέω', 'πρότερος', 'ἀληθής', 'κράτιστος', 'ἐνέργεια', 'ʽκαί', 'νόος', 'γνώστης', 'νοῦσ', 'συνεχής', 'θεωρέω', 'δύναμαι', 'συγχώννυμι', 'μαλλός', 'πράσσω', 'οἰόμεθά', 'δεῖ', 'ἡδονην', 'παραμίγνυμι', 'εὐδαιμονία', 'ἡδύς', 'κατʼ', 'ἀρετην', 'ἐνέργεια', 'σοφία', 'δοκέω', 'φιλοσοφία', 'θαυμαστής', 'ἡδονή', 'ἔχω', 'καθαριότης', 'βέβαιος', 'εὔλογος', 'ζητέω', 'ἡδύς', 'διαγωγή', 'αὐτάρκεια', 'θεωρητικός', 'μάλιστʼ', 'ἐάω', 'ζάω', 'ἀναγκαῖον', 'σοφός', 'δίκαιος', 'λοιπός', 'δέω', 'ἱκανός', 'δίκαιος', 'δέω', 'οὓς', 'δικαιοπραγέω', 'μεθʼ', 'ὅμοιος', 'σώφρων', 'ἀνδρεῖος', 'ἕκαστος', 'σοφός', 'ὢν', 'δυνατός', 'θεωρέω', 'ὅσος', 'σοφός', 'μαλλός', 'βελτίων', 'ἴσος', 'συνεργοὺς', 'χόω', 'ὁμός', 'αὐτάρκης', 'δόξα', 'τʼ', 'αὐτη', 'μονή', 'διʼ', 'αὑτην', 'ἀγαπάζω', 'ἀπʼ', 'γίγνομαι', 'θεωρέω', 'πρακτικός', 'πλείων', 'ἐλάσσων', 'περιποιέω', 'πρᾶξις', 'δοκέω', 'εὐδαιμονία', 'σχολή', 'ἀσχολέω', 'σχολάζω', 'πολεμέω', 'ἵνʼ', 'εἰρήνη', 'ἄγνυμι', 'πρακτικός', 'ἀρετή', 'πολιτικός', 'πολεμικός', 'ἐνέργεια', 'πρᾶξις', 'δοκέω', 'ἄσχολος', 'πολεμικός', 'ʽοὐδείς', 'αἱρέω', 'πολεμέω', 'πολεμέω', 'παρασκευάζω', 'πόλεμος', 'δόξα', 'μιαιφόνος', 'φίλος', 'πολέμιος', 'ποιέω', 'μάχη', 'φόνος', 'γίνοιντὀ', 'πολιτικός', 'ἄσχολος', 'παρʼ', 'πολιτεύω', 'δυναστεία', 'τιμή', 'εὐδαιμονία', 'πολίτης', 'ἕτερος', 'πολιτικός', 'ἣν', 'ζητέω', 'δῆλος', 'ἕτερος', 'ἀρετή', 'πρᾶξις', 'πολιτικός', 'πολεμικός', 'κάλλος', 'μέγεθος', 'προέχω', 'ἄσχολος', 'τέλος', 'ἐφίημι', 'διʼ', 'αἱρετός', 'εἶμι', 'νόος', 'ἐνέργεια', 'σπουδή', 'διαφέρω', 'δοκέω', 'θεωρητικός', 'παρʼ', 'αὑτην', 'ἐφίημι', 'τέλος', 'ἔχω', 'ἡδονην', 'οἰκεῖος', 'ʽαὕτη', 'συναυξάνω', 'ἐνέργεια', 'αὐτάρκης', 'σχολαστικός', 'ἄτρυτος', 'ἄνθρωπος', 'ὅσος', 'μακάριος', 'ἀπονέμω', 'ἐνέργεια', 'φαίνω', 'ὄντα', 'τέλειος', 'εὐδαιμονία', 'ἐάω', 'ἄνθρωπος', 'μῆκος', 'βιός', 'τέλειος', 'ἀτελής', 'εὐδαιμονία', 'ἐάω', 'βιός', 'κρείσσων', 'κατʼ', 'ἄνθρωπος', 'ἄνθρωπός', 'βιόω', 'θεῖόν', 'ὑπάρχω', 'ὅσος', 'διαφέρω', 'σύνθετος', 'τοσοῦτος', 'ἐνέργεια', 'ἀρετή', 'θεῖος', 'νόος', 'ἄνθρωπος', 'βιός', 'θεῖος', 'ἀνθρώπινος', 'βιός', 'χρῆ', 'ἀνθρώπινος', 'φρονέω', 'ἄνθρωπος', 'ὄντα', 'θνητός', 'θνητός', 'ἐφʼ', 'ὅσος', 'ἐνδέχομαι', 'ἀθανατίζω', 'πᾶς', 'ποιέω', 'ζάω', 'κράτιστος', 'ὄγκος', 'μικρός', 'δύναμις', 'τιμιότης', 'πολὺ', 'μαλλός', 'πᾶς', 'ὑπερέχω', 'δοκέω', 'ἕκαστος', 'κύριος', 'ἀμείνων', 'ἄτοπος', 'γίνοιτʼ', 'βιός', 'αἱρέω', 'λέγω', 'πρότερος', 'ἁρμόζω', 'οἰκεῖος', 'ἕκαστος', 'φύσις', 'κράτιστος', 'ἥδιστόν', 'ἕκαστος', 'ἄνθρωπος', 'νόος', 'βιός', 'ἄνθρωπος', 'εὐδαίμων', 'δεύτερος', 'ἀρετή', 'ἐνέργεια', 'ἀνθρωπικός', 'δίκαιος', 'ἀνδρεῖα', 'ἀρετή', 'ἀλλήλων', 'πράσσω', 'συνάλλαγμα', 'χρεία', 'πρᾶξις', 'παντοῖος', 'πάθος', 'πρέπω', 'ἕκαστος', 'φαίνω', 'πᾶς', 'ἀνθρωπικός', 'ἔνιοι', 'συμβαίνω', 'σῶμα', 'δοκέω', 'πολύς', 'συνοικειόω', 'πάθος', 'ἦθος', 'ἀρετή', 'συζεύγνυμι', 'φρόνησις', 'ἦθος', 'ἀρετή', 'φρόνησις', 'φρόνησις', 'ἀρχή', 'ἠθικός', 'εἶμι', 'ἀρετή', 'ὀρθός', 'ἠθικός', 'φρόνησις', 'πάθος', 'σύνθετος', 'σύνθετος', 'ἀρετή', 'ἀνθρωπικός', 'βιός', 'εὐδαιμονία', 'νόος', 'τοσοῦτος', 'ἐρῶ', 'διακριβόω', 'μέγας', 'δοκέω', 'χορηγία', 'μικρός', 'ἐλάσσων', 'δέω', 'ἠθικός', 'ἀναγκαῖον', 'ἄμφω', 'χρεία', 'ἴσος', 'μαλλός', 'διαπονέω', 'σῶμα', 'πολιτικός', 'ὅσος', 'μικρός', 'διαφέρω', 'ἐνέργεια', 'πολὺ', 'διαφέρω', 'ἐλευθέριος', 'δέησις', 'χρῆμα', 'πράσσω', 'ἐλευθερία', 'δίκαιος', 'ἀνταπόδοσις', 'ʽαἱ', 'βούλησις', 'ἄδηλος', 'προσποιέω', 'δίκαιος', 'βούλομαι', 'δικαιοπραγέω', 'ἀνδρεῖος', 'δύναμις', 'ἐπιτελής', 'ἀρετή', 'σώφρων', 'ἐξουσία', 'δῆλος', 'ἀμφισβητεῖταί', 'πότερος', 'κύριος', 'ἀρετή', 'προαίρεσις', 'πρᾶξις', 'ἄμφω', 'τέλειος', 'δῆλος', 'ἄμφω', 'ἐάω', 'πρᾶξις', 'πολύς', 'δέω', 'ὅσος', 'μέγας', 'οὖς', 'καλλίων', 'πλείων', 'θεωρέω', 'ἐνέργεια', 'χρεία', 'εἶπον', 'ἐμπόδιά', 'θεωρία', 'ἄνθρωπός', 'πλείων', 'συζάω', 'αἱρέω', 'ἀρετην', 'πράσσω', 'δέω', 'ἀνθρωπεύομαι', 'τέλειος', 'εὐδαιμονία', 'θεωρητικός', 'ἐνέργεια', 'φαίνω', 'θεοὺς', 'ὑπολαμβάνω', 'μακάριος', 'εὐδαίμων', 'πρᾶξις', 'πόα', 'ἀπονέμω', 'χρεὼν', 'πότερος', 'δίκαιος', 'γέλοιος', 'φαίνω', 'παρακαταθήκη', 'ὅσος', 'ἀνδρεῖος', 'φοβερός', 'κᾶλον', 'ἐλευθέριος', 'δώσων', 'ἄτοπος', 'νόμισμα', 'σώφρων', 'φορτικός', 'ἔπαινος', 'ἔχω', 'φαῦλος', 'ἐπιθυμία', 'πᾶς', 'φαίνοιτʼ', 'πρᾶξις', 'μικρός', 'ἀναξία', 'θεά', 'ζάω', 'πᾶς', 'ὑπολαμβάνω', 'αὐτοὺς', 'ἐνεργέω', 'καθεύδω', 'ἐνδυμίωνα', 'ζάω', 'πράσσω', 'μαλλός', 'ποιέω', 'λείπω', 'πλέω', 'θεωρία', 'θεός', 'ἐνέργεια', 'μακαριότης', 'θεωρητικός', 'ἐάω', 'ἀνθρώπινος', 'συγγενής', 'εὐδαιμονικός', 'σημεῖον', 'μετέχω', 'λοιπός', 'ζωή', 'εὐδαιμονία', 'ἐνέργεια', 'τέλειος', 'θεός', 'ἅπας', 'βιός', 'μακάριος', 'ἄνθρωπος', 'ἐφʼ', 'ὅσος', 'ὁμοίωμά', 'ἐνέργεια', 'ὑπάρχω', 'ζωή', 'εὐδαιμονέω', 'ἐπειδη', 'οὐδαμός', 'κοινωνέω', 'θεωρία', 'ἐφʼ', 'ὅσος', 'διατείνω', 'θεωρία', 'εὐδαιμονία', 'μαλλός', 'ὑπάρχω', 'θεωρέω', 'εὐδαιμονέω', 'θεωρία', 'αὑτην', 'τίμιος', 'ὥστʼ', 'ἐάω', 'εὐδαιμονία', 'θεωρία', 'δέησις', 'εὐημερία', 'ἄνθρωπος', 'αὐτάρκης', 'φύσις', 'θεωρέω', 'δεῖ', 'σῶμα', 'ὑγιαίνω', 'τροφή', 'λοιπός', 'θεραπεία', 'ὑπάρχω', 'οἰητέος', 'πολύς', 'μέγας', 'δέω', 'ἐνδέχομαι', 'ἀνίημι', 'ἀγαθός', 'μακάριος', 'ὑπερβολή', 'αὐτάρκης', 'πρᾶξις', 'δυνατός', 'ἄρχων', 'γῆ', 'θάλασσα', 'πράσσω', 'κᾶλον', 'μέτριος', 'δύναιτʼ', 'πράσσω', 'ἀρετή', 'ʽτοῦτο', 'εἶδον', 'ἰδιώτης', 'δυνάστης', 'ἥσσων', 'δοκέω', 'ἐπιεικής', 'πράσσω', 'μαλλός', 'ἱκανός', 'τοσαῦθʼ', 'ὑπάρχω', 'βιός', 'εὐδαίμων', 'ἀρετην', 'σόλος', 'εὐδαίμων', 'ἴσος', 'ἀποφαίνω', 'καλός', 'εἰπὼν', 'μέτριος', 'κάλλισθʼ', 'οἴομαι', 'ἐνδέχομαι', 'μέτριος', 'πράσσω', 'δεῖ', 'ἔοικα', 'ἀναξαγόρας', 'πλούσιος', 'δυνάστης', 'ὑπολαμβάνω', 'εὐδαίμων', 'εἰπὼν', 'θαυμάζω', 'εἶμι', 'ἄτοπος', 'φαίνω', 'πολύς', 'κρίνω', 'μόνος', 'συμφωνέω', 'λόγος', 'ἔοικα', 'σοφός', 'δόξα', 'πίστις', 'ἔχις', 'ἀληθής', 'πρακτικός', 'ἔργον', 'βιός', 'κρίνω', 'κύριος', 'σκοπέω', 'χρῆ', 'ἔργον', 'βιός', 'συνᾴδω', 'ἔργον', 'ἀποδεκτέος', 'διαφωνέω', 'λόγος', 'ὑποληπτέος', 'νόος', 'ἐνεργής', 'ἄριστον', 'θεοφιλής', 'ἔοικα', 'ἐπιμέλεια', 'ἀνθρώπινος', 'θεά', 'γίγνομαι', 'δοκέω', 'ἐάω', 'εὔλογος', 'χαίρω', 'αὐτοὺς', 'ἄριστον', 'συγγενής', 'ʽτοῦτο', 'ἐάω', 'νοῦσ', 'ἀντευποιεῖν', 'φίλος', 'ὀρθός', 'καλός', 'πᾶς', 'σοφός', 'μάλισθʼ', 'ὑπάρχω', 'ἄδηλος', 'θεοφιλής', 'εὐδαίμων', 'κἂν', 'ἐάω', 'σοφός', 'μάλιστʼ', 'εὐδαίμων', 'ἆρʼ', 'ἀρετή', 'φιλία', 'ἡδονή', 'ἱκανός', 'εἴρω', 'τύπος', 'τέλος', 'ἔχω', 'οἰητέος', 'προαίρεσις', 'λέγω', 'πρακτός', 'τέλος', 'θεωρέω', 'ἕκαστος', 'γιγνώσκω', 'μαλλός', 'πράσσω', 'ἀρετή', 'ἱκανός', 'οἶδα', 'ἔχω', 'χράομαι', 'πειρατέος', 'εἶμι', 'ἀγαθός', 'γίγνομαι', 'λόγος', 'αὐτάρκης', 'ποιέω', 'ἐπιεικής', 'πολλοὺς', 'μισθοὺς', 'μέγας', 'δίκαιος', 'φέρω', 'θέογνιν', 'δεῖ', 'πορίζω', 'φαίνω', 'προτρέπω', 'παρορμάω', 'ναός', 'ἐλευθέριος', 'ἰσχύω', 'ἦθός', 'τʼ', 'εὐγενής', 'φιλόκαλος', 'ποιέω', 'κατοκώχιμος', 'ἀρετή', 'πολλοὺς', 'ἀδυνατέω', 'καλοκαγαθίαν', 'προτρέπω', 'φύω', 'αἰδώς', 'πειθαρχέω', 'φόβος', 'ἀπέχω', 'φαῦλος', 'αἰσχρός', 'τιμωρία', 'πάθος', 'οἰκεῖος', 'ἡδονή', 'διώκω', 'διʼ', 'φεύγω', 'λύπη', 'κᾶλον', 'ἡδύς', 'ἔννοια', 'ἔχω', 'ἄγευστος', 'λόγος', 'μεταρρυθμίζω', 'οἷόν', 'ῥᾴδιος', 'παλαιός', 'ἦθος', 'λόγος', 'μεθίστημι', 'ἀγαπητός', 'ἴσος', 'πᾶς', 'ὑπάρχω', 'διʼ', 'ἐπιεικής', 'δοκέω', 'γίγνομαι', 'μεταλαμβάνω', 'ἀρετή', 'γίγνομαι', 'ἀγαθοὺς', 'οἴομαι', 'οἳ', 'φύσις', 'οἳ', 'ἔθος', 'οἳ', 'διδαχῇ', 'φύσις', 'δῆλος', 'ἐφʼ', 'ὑπάρχω', 'θεῖος', 'αἰτία', 'εὐτυχής', 'ὑπάρχω', 'λόγος', 'διδαχη', 'ποτʼ', 'ἅπας', 'ἰσχύω', 'δεῖ', 'προδιεργάζομαι', 'ἔθος', 'ἀκροατής', 'ψυχή', 'καλός', 'χαίρω', 'μισέω', 'γῆ', 'σπέρμα', 'ἀκούω', 'λόγος', 'σύνειμι', 'πάθος', 'ζώς', 'οἷόν', 'μεταπείθω', 'ὅλοξ', 'τʼ', 'δοκέω', 'λόγος', 'ὑπείκω', 'πάθος', 'βία', 'δεῖ', 'ἦθος', 'προυπάρχω', 'οἰκεῖος', 'ἀρετή', 'στέργω', 'κᾶλον', 'δυσχεραίνω', 'αἰσχρός', 'νέος', 'ἀγωγεύς', 'ὀρθός', 'τυγχάνω', 'ἀρετην', 'χαλεπός', 'νόμος', 'καρτερικός', 'ζάω', 'ἡδὺ', 'πολύς', 'νέος', 'νόμος', 'δεῖ', 'τάσσω', 'τροφή', 'ἐπιτήδευμα', 'λυπηρός', 'συνήθης', 'ἱκανός', 'ἴσος', 'νέος', 'τροφεύς', 'ἐπιμέλεια', 'τυγχάνω', 'ὀρθός', 'ἐπιεδη', 'δεῖ', 'ἐπιτηδεύω', 'ἐθίζω', 'δεοίμεθʼ', 'νομή', 'ὅλοξ', 'πᾶς', 'βιός', 'πολύς', 'ἀνάγκη', 'μαλλός', 'λόγος', 'πειθαρχέω', 'ζημία', 'κᾶλον', 'οἴονταί', 'τίνω', 'δεῖ', 'παρακαλέω', 'ἀρετην', 'προτρέπω', 'κᾶλον', 'χάρις', 'ἔθος', 'ἀπειθέω', 'ἀφυής', 'ὄντα', 'κόλασις', 'τιμωρία', 'ἐπιτίθημι', 'ἀνίατος', 'ὅλοξ', 'ἐξορίζω', 'ἐπιεικής', 'κᾶλον', 'λόγος', 'πειθαρχέω', 'φαῦλος', 'ἡδονή', 'λύπη', 'κολάζω', 'ὑποζύγιον', 'φάσις', 'δεῖ', 'γίγνομαι', 'λύπη', 'αἳ', 'μάλιστʼ', 'ἐναντιόομαι', 'ἡδονή', 'εἴρω', 'ἀγαθός', 'τρέφω', 'καλός', 'δεῖ', 'ἐθίζω', 'εἶθʼ', 'ἐπιτήδευμα', 'ἐπιεικής', 'ζάω', 'μήτʼ', 'ἀέκων', 'μήθʼ', 'ἑκών', 'πράσσω', 'φαῦλος', 'γίνοιτʼ', 'νόος', 'τάξις', 'ὀρθός', 'ἰσχύς', 'πατρικός', 'πρόσταξις', 'ἔχις', 'ἰσχυρός', 'ἀναγκαῖον', 'ὅλοξ', 'ἕνος', 'ἀνήρ', 'βασιλεύς', 'νόμος', 'ἀναγκαστικην', 'ἔχις', 'δύναμις', 'λόγος', 'ὢν', 'φρόνησις', 'νόος', 'ἄνθρωπος', 'ἐχθαίρω', 'ὁρμή', 'κἂν', 'ὀρθός', 'δράω', 'νόμος', 'ἐπαχθης', 'ἐπιεικής', 'μονή', 'λακεδαιμονίων', 'πόλις', 'μετʼ', 'ὀλίγος', 'νομοθέτης', 'ἐπιμέλεια', 'δοκέω', 'ποιέω', 'τροφεύς', 'ἐπιτήδευμα', 'πλεῖστος', 'πόλις', 'ἐξαμελέω', 'ζάω', 'ἕκαστος', 'βούλομαι', 'παῖς', 'ἠδʼ', 'ἄλοχος', 'κράτιστος', 'γίγνομαι', 'κοινός', 'ἐπιμέλεια', 'ὀρθην', 'δράω', 'δύναμαι', 'κοινός', 'ἕκαστος', 'δοκέω', 'προσήκω', 'σφέτερος', 'τέκνον', 'φίλος', 'ἀρετην', 'συμβάλλω', 'προαιρεῖσθαί', 'μαλλός', 'δύναμαι', 'δοκέω', 'νομοθετικός', 'κοινός', 'ἐπιμέλεια', 'δῆλος', 'νομή', 'γίγνομαι', 'ἐπιεικής', 'σπουδαῖος', 'ἄγραφος', 'δοκέω', 'διαφέρω', 'διʼ', 'πολύς', 'παιδεύω', 'μουσική', 'γυμναστικός', 'ἐπιτήδευμα', 'πόλις', 'ἰσχύω', 'νόμιμος', 'ἦθος', 'οἰκία', 'πατρικός', 'λόγος', 'ἔθος', 'μαλλός', 'συγγένεια', 'εὐεργεσία', 'προυπάρχω', 'εὐπειθής', 'φύσις', 'διαφέρω', 'ἕκαστος', 'παιδεία', 'κοινός', 'ἰατρικός', 'πυρέσσω', 'συμφέρω', 'ἡσυχία', 'ἀσιτία', 'ἴσος', 'πυκτικός', 'ἴσος', 'πᾶς', 'αὐτην', 'μάχη', 'περιτίθημι', 'ἐξακριβόω', 'δοκέω', 'μαλλός', 'ἕκαστος', 'ἴδιος', 'ἐπιμέλεια', 'μαλλός', 'πρόσφορος', 'τυγχάνω', 'ἕκαστος', 'ἐπιμελέομαι', 'ἄριστον', 'ἵημι', 'ἰατρός', 'γυμναστής', 'πᾶς', 'εἰδοί', 'πᾶς', 'ʽτοῦ', 'κοινός', 'ἐπιστήμη', 'λέγονταί', 'εἶμι', 'ἕνος', 'ἴσος', 'κωλύω', 'καλός', 'ἐπιμελέομαι', 'ἀνεπιστήμων', 'ὄντα', 'ἀκριβόω', 'ἐφʼ', 'ἕκαστος', 'διʼ', 'ἐμπειρία', 'ἰατρός', 'ἔνιοι', 'δοκέω', 'ἄριστος', 'ἕτερος', 'ἐπαρκέω', 'ἥσσων', 'ἴσος', 'τεχνικός', 'γίγνομαι', 'θεωρητικός', 'βαδιστέος', 'δοκέω', 'ἐκεῖνος', 'γνωριστέος', 'ἐνδέχομαι', 'εἴρω', 'τοῦθʼ', 'ἐπιστήμη', 'τάχος', 'διʼ', 'ἐπιμέλεια', 'βελτίων', 'ποιέω', 'πολλοὺς', 'εἴτʼ', 'ὀλίγος', 'νομοθετικός', 'πειρατέος', 'γίγνομαι', 'νομή', 'ἀγαθός', 'γενοίμεθʼ', 'διατίθημι', 'καλός', 'ἰατρικός', 'λοιπός', 'ἐπιμέλειά', 'φρόνησις', 'ἆρʼ', 'ἐπισκεπτέος', 'πίνω', 'νομοθετικός', 'γένοιτʼ', 'πολιτικός', 'μόριον', 'δοκέω', 'πολιτικός', 'ὅμοιος', 'φαίνω', 'πολιτικός', 'λοιπός', 'ἐπιστήμη', 'δύναμις', 'φαίνω', 'δύναμις', 'ἀπʼ', 'οἷος', 'ἰατρός', 'γραφεύς', 'πολιτικός', 'ἐπαγγέλλω', 'διδάσκω', 'σοφιστής', 'πράσσω', 'οἳ', 'δοκέω', 'δύναμις', 'πράσσω', 'ἐμπειρία', 'μαλλός', 'διάνοια', 'φαίνω', 'ʽκαίτοι', 'καλός', 'ἴσος', 'λόγος', 'δικανικός', 'δημηγορικούσ', 'πολιτικοὺς', 'σφέτερος', 'υἱός', 'φίλος', 'εὔλογος', 'δύναμαι', 'πόλις', 'ἀμείνων', 'καταλιμπάνω', 'οὔθʼ', 'ὑπάρχω', 'προέλοιντʼ', 'μαλλός', 'δύναμις', 'φίλτατος', 'μικρός', 'ἔοικα', 'ἐμπειρία', 'συμβάλλω', 'ἐγίνοντʼ', 'πολιτικός', 'συνήθεια', 'πολιτικός', 'πολιτικός', 'οἶδα', 'προσδέω', 'ἔοικα', 'ἐμπειρία', 'σοφιστής', 'φαίνω', 'διδάσκω', 'ὅλοξ', 'ποῖόν', 'πόα', 'οἶδα', 'αὐτην', 'ῥητορικός', 'χείρων', 'τίθημι', 'οἴομαι', 'ῥᾴδιος', 'νομοθετέω', 'νομή', 'ἐκλέγω', 'ἄριστος', 'ἐκλογην', 'σύνεσις', 'κρίνω', 'ὀρθός', 'μέγας', 'μουσική', 'ἔμπειρος', 'ἕκαστος', 'κρίνω', 'ὀρθός', 'ἔργον', 'διʼ', 'ἐπιτελέω', 'σύνειμι', 'πόα', 'ποιός', 'συνᾴδω', 'ἄπειρος', 'ἀγαπητός', 'διαλανθάνω', 'κακός', 'ποιέω', 'ἔργον', 'γραφικός', 'νόμος', 'πολιτικός', 'ἔργον', 'ἔοικα', 'νομοθετικός', 'γένοιτʼ', 'ἄριστος', 'κρίνω', 'φαίνω', 'ἰατρικός', 'σύγγραμμα', 'γίγνομαι', 'πειρῶνταί', 'λέγω', 'μόνος', 'θεράπευμα', 'ἰάομαι', 'δεῖ', 'θεραπεύω', 'ἕκαστος', 'ἕξις', 'ἔμπειρος', 'ὠφέλιμος', 'δοκέω', 'ἀνεπιστήμων', 'ἀχρεῖος', 'ἴσος', 'νομή', 'πολιτεία', 'συναγωγή', 'θεωρέω', 'κρίνω', 'καλός', 'ἐναντίος', 'πόα', 'ποιός', 'ἁρμόζω', 'εὔχρηστʼ', 'ἐάω', 'ἀνίημι', 'ἕξις', 'κρίνω', 'καλός', 'ὕπαρχος', 'αὐτόματος', 'εὐσύνετος', 'τάχʼ', 'γίγνομαι', 'παραλείπω', 'πρότερος', 'ἀνερεύνητος', 'νομοθεσία', 'αὐτοὺς', 'ἐπισκέπτομαι', 'μαλλός', 'βελτίων', 'ἴσος', 'ὅλοξ', 'πολιτεία', 'δύναμις', 'ἀνθρώπειος', 'φιλοσοφία', 'τελειόω', 'πρότερος', 'εἶμι', 'μέρος', 'εἴρω', 'καλός', 'προγενής', 'πειράω', 'ἐπέρχομαι', 'πολιτεία', 'θεωρέω', 'πόα', 'σώζω', 'φθείρω', 'πόλις', 'πόα', 'ἕκαστος', 'πολιτεία', 'αἰτία', 'αἳ', 'καλός', 'αἳ', 'ἐναντίος', 'πολιτεύω', 'τάχʼ', 'μαλλός', 'εἶδον', 'πόα', 'πολιτεία', 'ἀριστεύς', 'ἕκαστος', 'τίσις', 'νόμος', 'ἔθος', 'λέγω']\n"
          ],
          "name": "stdout"
        }
      ]
    },
    {
      "cell_type": "code",
      "metadata": {
        "id": "QVmSHfNCs2Qd",
        "colab_type": "code",
        "colab": {
          "base_uri": "https://localhost:8080/",
          "height": 34
        },
        "outputId": "f80f9ec4-3483-4f1a-ca8f-ec3da890e400"
      },
      "source": [
        "print(EN_df[\"lemmata\"].tolist()[0][:10])"
      ],
      "execution_count": 15,
      "outputs": [
        {
          "output_type": "stream",
          "text": [
            "['βοοκ', 'πᾶς', 'τέχνη', 'πᾶς', 'μέθοδος', 'ὅμοιος', 'πρᾶξίς', 'προαίρεσις', 'ἀγαθός', 'ἐφίημι']\n"
          ],
          "name": "stdout"
        }
      ]
    },
    {
      "cell_type": "code",
      "metadata": {
        "id": "UO28XhXpqW7l",
        "colab_type": "code",
        "colab": {}
      },
      "source": [
        "# gr.return_all_unique_lemmata(\"πρᾶξίς\")"
      ],
      "execution_count": null,
      "outputs": []
    },
    {
      "cell_type": "markdown",
      "metadata": {
        "id": "oLFpALzA9DJ-",
        "colab_type": "text"
      },
      "source": [
        "# Key term replacement"
      ]
    },
    {
      "cell_type": "code",
      "metadata": {
        "id": "E9p7LC0vn0Hx",
        "colab_type": "code",
        "colab": {}
      },
      "source": [
        "# manually define key terms we are interested in:\n",
        "keyterm_patterns = [(\"^λ[υ|ύ]π.+\", \"λύπ*\"), (\"^[ἀ|ἄ]λγ.+\", \"ἄλγ*\"), (\"^[ὀ|ὠ]δ[ύ|υ]ν.\", \"ὀδύν*\"), (\"^π[ό|ο]ν[ο|ό|έ|ε|η|ή|ῆ](?!ρ).+\", \"πόνο*\")]"
      ],
      "execution_count": 26,
      "outputs": []
    },
    {
      "cell_type": "code",
      "metadata": {
        "id": "RncGvPoshJT1",
        "colab_type": "code",
        "colab": {}
      },
      "source": [
        "### produce a list of all words from the authors\n",
        "aristotle_list = []\n",
        "for list_element in c_aristotelicum[\"lemmata\"].tolist():\n",
        "  aristotle_list.extend(list_element)\n",
        "hippocrates_list = []\n",
        "for list_element in c_hippocraticum[\"lemmata\"].tolist():\n",
        "  hippocrates_list.extend(list_element)\n",
        "one_merged_list = aristotle_list + hippocrates_list"
      ],
      "execution_count": 18,
      "outputs": []
    },
    {
      "cell_type": "code",
      "metadata": {
        "id": "cgQlB5X09qC1",
        "colab_type": "code",
        "colab": {
          "base_uri": "https://localhost:8080/",
          "height": 402
        },
        "outputId": "61695f8f-9e0a-424a-b8db-64e8a2f93c79"
      },
      "source": [
        "# unique word forms\n",
        "matches = []\n",
        "for pattern_tuple in keyterm_patterns:\n",
        "  r = re.compile(pattern_tuple[0])\n",
        "  matches.extend([(pattern_tuple[0], pattern_tuple[1], match, aristotle_list.count(match), hippocrates_list.count(match), gr.lemma_translator(match)) for match in list(filter(r.match, list(set(aristotle_list + hippocrates_list))))])\n",
        "matches_df = pd.DataFrame(matches, columns=[\"pattern\", \"replacement\", \"match\", \"c_aristotelicum\", \"c_hippocraticum\", \"translation\"])\n",
        "matches_df"
      ],
      "execution_count": 27,
      "outputs": [
        {
          "output_type": "execute_result",
          "data": {
            "text/html": [
              "<div>\n",
              "<style scoped>\n",
              "    .dataframe tbody tr th:only-of-type {\n",
              "        vertical-align: middle;\n",
              "    }\n",
              "\n",
              "    .dataframe tbody tr th {\n",
              "        vertical-align: top;\n",
              "    }\n",
              "\n",
              "    .dataframe thead th {\n",
              "        text-align: right;\n",
              "    }\n",
              "</style>\n",
              "<table border=\"1\" class=\"dataframe\">\n",
              "  <thead>\n",
              "    <tr style=\"text-align: right;\">\n",
              "      <th></th>\n",
              "      <th>pattern</th>\n",
              "      <th>replacement</th>\n",
              "      <th>match</th>\n",
              "      <th>c_aristotelicum</th>\n",
              "      <th>c_hippocraticum</th>\n",
              "      <th>translation</th>\n",
              "    </tr>\n",
              "  </thead>\n",
              "  <tbody>\n",
              "    <tr>\n",
              "      <th>0</th>\n",
              "      <td>^λ[υ|ύ]π.+</td>\n",
              "      <td>λύπ*</td>\n",
              "      <td>λυποδίαν</td>\n",
              "      <td>1</td>\n",
              "      <td>0</td>\n",
              "      <td></td>\n",
              "    </tr>\n",
              "    <tr>\n",
              "      <th>1</th>\n",
              "      <td>^λ[υ|ύ]π.+</td>\n",
              "      <td>λύπ*</td>\n",
              "      <td>λύπημα</td>\n",
              "      <td>0</td>\n",
              "      <td>1</td>\n",
              "      <td>pain</td>\n",
              "    </tr>\n",
              "    <tr>\n",
              "      <th>2</th>\n",
              "      <td>^λ[υ|ύ]π.+</td>\n",
              "      <td>λύπ*</td>\n",
              "      <td>λυπεῖταί</td>\n",
              "      <td>2</td>\n",
              "      <td>0</td>\n",
              "      <td></td>\n",
              "    </tr>\n",
              "    <tr>\n",
              "      <th>3</th>\n",
              "      <td>^λ[υ|ύ]π.+</td>\n",
              "      <td>λύπ*</td>\n",
              "      <td>λύπαςοὐ</td>\n",
              "      <td>1</td>\n",
              "      <td>0</td>\n",
              "      <td></td>\n",
              "    </tr>\n",
              "    <tr>\n",
              "      <th>4</th>\n",
              "      <td>^λ[υ|ύ]π.+</td>\n",
              "      <td>λύπ*</td>\n",
              "      <td>λυπηρός</td>\n",
              "      <td>91</td>\n",
              "      <td>2</td>\n",
              "      <td>painful, distressing</td>\n",
              "    </tr>\n",
              "    <tr>\n",
              "      <th>...</th>\n",
              "      <td>...</td>\n",
              "      <td>...</td>\n",
              "      <td>...</td>\n",
              "      <td>...</td>\n",
              "      <td>...</td>\n",
              "      <td>...</td>\n",
              "    </tr>\n",
              "    <tr>\n",
              "      <th>120</th>\n",
              "      <td>^π[ό|ο]ν[ο|ό|έ|ε|η|ή|ῆ](?!ρ).+</td>\n",
              "      <td>πόνο*</td>\n",
              "      <td>πονοῦσί</td>\n",
              "      <td>1</td>\n",
              "      <td>0</td>\n",
              "      <td></td>\n",
              "    </tr>\n",
              "    <tr>\n",
              "      <th>121</th>\n",
              "      <td>^π[ό|ο]ν[ο|ό|έ|ε|η|ή|ῆ](?!ρ).+</td>\n",
              "      <td>πόνο*</td>\n",
              "      <td>πονέοι</td>\n",
              "      <td>0</td>\n",
              "      <td>1</td>\n",
              "      <td></td>\n",
              "    </tr>\n",
              "    <tr>\n",
              "      <th>122</th>\n",
              "      <td>^π[ό|ο]ν[ο|ό|έ|ε|η|ή|ῆ](?!ρ).+</td>\n",
              "      <td>πόνο*</td>\n",
              "      <td>πονεόμενον</td>\n",
              "      <td>0</td>\n",
              "      <td>1</td>\n",
              "      <td></td>\n",
              "    </tr>\n",
              "    <tr>\n",
              "      <th>123</th>\n",
              "      <td>^π[ό|ο]ν[ο|ό|έ|ε|η|ή|ῆ](?!ρ).+</td>\n",
              "      <td>πόνο*</td>\n",
              "      <td>πονέοντι</td>\n",
              "      <td>0</td>\n",
              "      <td>2</td>\n",
              "      <td></td>\n",
              "    </tr>\n",
              "    <tr>\n",
              "      <th>124</th>\n",
              "      <td>^π[ό|ο]ν[ο|ό|έ|ε|η|ή|ῆ](?!ρ).+</td>\n",
              "      <td>πόνο*</td>\n",
              "      <td>πονήσεται</td>\n",
              "      <td>0</td>\n",
              "      <td>1</td>\n",
              "      <td></td>\n",
              "    </tr>\n",
              "  </tbody>\n",
              "</table>\n",
              "<p>125 rows × 6 columns</p>\n",
              "</div>"
            ],
            "text/plain": [
              "                            pattern  ...           translation\n",
              "0                        ^λ[υ|ύ]π.+  ...                      \n",
              "1                        ^λ[υ|ύ]π.+  ...                  pain\n",
              "2                        ^λ[υ|ύ]π.+  ...                      \n",
              "3                        ^λ[υ|ύ]π.+  ...                      \n",
              "4                        ^λ[υ|ύ]π.+  ...  painful, distressing\n",
              "..                              ...  ...                   ...\n",
              "120  ^π[ό|ο]ν[ο|ό|έ|ε|η|ή|ῆ](?!ρ).+  ...                      \n",
              "121  ^π[ό|ο]ν[ο|ό|έ|ε|η|ή|ῆ](?!ρ).+  ...                      \n",
              "122  ^π[ό|ο]ν[ο|ό|έ|ε|η|ή|ῆ](?!ρ).+  ...                      \n",
              "123  ^π[ό|ο]ν[ο|ό|έ|ε|η|ή|ῆ](?!ρ).+  ...                      \n",
              "124  ^π[ό|ο]ν[ο|ό|έ|ε|η|ή|ῆ](?!ρ).+  ...                      \n",
              "\n",
              "[125 rows x 6 columns]"
            ]
          },
          "metadata": {
            "tags": []
          },
          "execution_count": 27
        }
      ]
    },
    {
      "cell_type": "code",
      "metadata": {
        "id": "_1mOLs0xstyM",
        "colab_type": "code",
        "colab": {
          "base_uri": "https://localhost:8080/",
          "height": 1000
        },
        "outputId": "bf152c26-d64d-4c59-f23c-83b70d1e969c"
      },
      "source": [
        "matches_df[\"match\"].tolist()"
      ],
      "execution_count": 37,
      "outputs": [
        {
          "output_type": "execute_result",
          "data": {
            "text/plain": [
              "['λυποδίαν',\n",
              " 'λύπημα',\n",
              " 'λυπεῖταί',\n",
              " 'λύπαςοὐ',\n",
              " 'λυπηρός',\n",
              " 'λυπέοιτο',\n",
              " 'λυπρᾷ',\n",
              " 'λυπέουσιν',\n",
              " 'λυπέοντα',\n",
              " 'λυπέοντος',\n",
              " 'λυπούμενός',\n",
              " 'λυπέον',\n",
              " 'λυπέονταί',\n",
              " 'λυπέω',\n",
              " 'λυπηθῆ',\n",
              " 'λυπέουσαν',\n",
              " 'λυπηθήσοιτʼ',\n",
              " 'λυπέεται',\n",
              " 'λυπέουσα',\n",
              " 'λύπαςμεσότης',\n",
              " 'λύπη',\n",
              " 'λυπηρότερά',\n",
              " 'λυπέῃ',\n",
              " 'λυπεῖταἰ',\n",
              " 'λυπεόντων',\n",
              " 'λυπητικός',\n",
              " 'λυπέωσι',\n",
              " 'λυπή',\n",
              " 'ἀλγεούσης',\n",
              " 'ἀλγήσῃ',\n",
              " 'ἀλγεινην',\n",
              " 'ἄλγησις',\n",
              " 'ἀλγεόντων',\n",
              " 'ἀλγεούσῃσι',\n",
              " 'ἀλγέουσι',\n",
              " 'ἀλγέοντάς',\n",
              " 'ἀλγέουσαν',\n",
              " 'ἀλγέοντος',\n",
              " 'ἀλγηδών',\n",
              " 'ἀλγέῃ',\n",
              " 'ἄλγημά',\n",
              " 'ἀλγέοντι',\n",
              " 'ἀλγέοιεν',\n",
              " 'ἄλγημα',\n",
              " 'ἀλγέωσι',\n",
              " 'ἀλγέω',\n",
              " 'ἀλγήμασι',\n",
              " 'ἀλγήσωσιν',\n",
              " 'ἄλγος',\n",
              " 'ἀλγέοντες',\n",
              " 'ἀλγέοντα',\n",
              " 'ἀλγεῦντα',\n",
              " 'ἀλγέον',\n",
              " 'ἀλγήσαν',\n",
              " 'ἀλγεινός',\n",
              " 'ἀλγέειν',\n",
              " 'ἄλγλος',\n",
              " 'ἀλγέουσιν',\n",
              " 'ἄλγεσκ',\n",
              " 'ἀλγηδὼν',\n",
              " 'ἀλγέοντας',\n",
              " 'ὀδύνη',\n",
              " 'ὀδυνέων',\n",
              " 'ὀδυνηθῇ',\n",
              " 'ὀδυνωμένους',\n",
              " 'ὀδυνέωνται',\n",
              " 'ὠδυναμίη',\n",
              " 'ὀδυνώδης',\n",
              " 'ὀδυνῶνται',\n",
              " 'ὀδύνῃσί',\n",
              " 'ὀδυνωμένῳ',\n",
              " 'ὀδυνῇ',\n",
              " 'ὀδυναίτερον',\n",
              " 'ὀδυνηρός',\n",
              " 'ὀδυνάω',\n",
              " 'ὀδυνημάτων',\n",
              " 'ὀδυνης',\n",
              " 'ὀδυνήματα',\n",
              " 'ὀδυνώδεες',\n",
              " 'ὀδυνήμασι',\n",
              " 'ὀδυνώδεας',\n",
              " 'ὀδυνῶδες',\n",
              " 'ὀδυνώδεα',\n",
              " 'ὀδυνώμενα',\n",
              " 'ὀδύνατον',\n",
              " 'πονέω',\n",
              " 'πονέον',\n",
              " 'πονέεις',\n",
              " 'πονέοντος',\n",
              " 'πονῆται',\n",
              " 'πονέοντές',\n",
              " 'πονέειν',\n",
              " 'πονοῦσαι',\n",
              " 'πονήσειέ',\n",
              " 'πονέετόν',\n",
              " 'πονέοντα',\n",
              " 'πονοῦντιτοῦτό',\n",
              " 'πονητέος',\n",
              " 'πονεῦγται',\n",
              " 'πονέῃ',\n",
              " 'πονέσῃ',\n",
              " 'πονεέτω',\n",
              " 'πόνοισί',\n",
              " 'πονέσωσιν',\n",
              " 'πονητικά',\n",
              " 'πονέεται',\n",
              " 'πονέωσι',\n",
              " 'πονέουσα',\n",
              " 'πονοῦσαί',\n",
              " 'πονέουσιν',\n",
              " 'πονησάσης',\n",
              " 'πονεῖντῆς',\n",
              " 'πονεομένου',\n",
              " 'πόνος',\n",
              " 'πονέουσαι',\n",
              " 'πόνοισίν',\n",
              " 'πονεύμενα',\n",
              " 'πονέοντες',\n",
              " 'πονεούσης',\n",
              " 'πονήματα',\n",
              " 'πονοῦσί',\n",
              " 'πονέοι',\n",
              " 'πονεόμενον',\n",
              " 'πονέοντι',\n",
              " 'πονήσεται']"
            ]
          },
          "metadata": {
            "tags": []
          },
          "execution_count": 37
        }
      ]
    },
    {
      "cell_type": "code",
      "metadata": {
        "id": "J188PT40plan",
        "colab_type": "code",
        "colab": {}
      },
      "source": [
        "# uncomment to export to gsheet: \n",
        "#set_with_dataframe(PIA_overview.add_worksheet(\"matches_20200528\", 1, 1), matches_df)"
      ],
      "execution_count": null,
      "outputs": []
    },
    {
      "cell_type": "code",
      "metadata": {
        "id": "oMML0hINSDA1",
        "colab_type": "code",
        "colab": {}
      },
      "source": [
        "# make \n",
        "def replacer_word_list(pattern, product, word_list):\n",
        "  return [re.sub(pattern, product, word) for word in word_list]\n",
        "\n",
        "def replace_keywords(list_of_words, list_of_tuples):\n",
        "  for pattern in list_of_tuples:\n",
        "    list_of_words = replacer_word_list(pattern[0], pattern[1], list_of_words)\n",
        "  return list_of_words"
      ],
      "execution_count": 29,
      "outputs": []
    },
    {
      "cell_type": "code",
      "metadata": {
        "id": "TPRPyAqtpJ1T",
        "colab_type": "code",
        "colab": {
          "base_uri": "https://localhost:8080/",
          "height": 50
        },
        "outputId": "1fef44ad-f7fe-4892-84ff-f9a5c3c9a0a8"
      },
      "source": [
        "# test 1:\n",
        "testlist = [\"μέλυπρᾷ\", \"λυπρᾷ\"] \n",
        "for word in testlist:\n",
        "  print(re.sub(keyterm_patterns[0][0], keyterm_patterns[0][1], word))"
      ],
      "execution_count": 30,
      "outputs": [
        {
          "output_type": "stream",
          "text": [
            "μέλυπρᾷ\n",
            "λύπ*\n"
          ],
          "name": "stdout"
        }
      ]
    },
    {
      "cell_type": "code",
      "metadata": {
        "id": "us9VazWVSC9R",
        "colab_type": "code",
        "colab": {
          "base_uri": "https://localhost:8080/",
          "height": 235
        },
        "outputId": "d3a41f80-6f93-4717-93dd-2891218b8aca"
      },
      "source": [
        "### test 2:\n",
        "word_list_test = ['βοοκ', 'πᾶς', 'μέλυπρᾷ', \"ἄλγτέχνη\",'τέχνη' ,'πᾶς', 'μέθοδος', 'ὅμοιος', \"λύπη\",'πρᾶξίς', 'προαίρεσις', 'ἀγαθός', 'ἐφίημι']\n",
        "replace_keywords(word_list_test, keyterm_patterns)"
      ],
      "execution_count": 31,
      "outputs": [
        {
          "output_type": "execute_result",
          "data": {
            "text/plain": [
              "['βοοκ',\n",
              " 'πᾶς',\n",
              " 'μέλυπρᾷ',\n",
              " 'ἄλγ*',\n",
              " 'τέχνη',\n",
              " 'πᾶς',\n",
              " 'μέθοδος',\n",
              " 'ὅμοιος',\n",
              " 'λύπ*',\n",
              " 'πρᾶξίς',\n",
              " 'προαίρεσις',\n",
              " 'ἀγαθός',\n",
              " 'ἐφίημι']"
            ]
          },
          "metadata": {
            "tags": []
          },
          "execution_count": 31
        }
      ]
    },
    {
      "cell_type": "code",
      "metadata": {
        "id": "Be_ew0-_xjPU",
        "colab_type": "code",
        "colab": {}
      },
      "source": [
        "# apply the replacement on the level of individual words\n",
        "c_aristotelicum[\"lemmata_repl\"] = c_aristotelicum.apply(lambda row: replace_keywords(row[\"lemmata\"], keyterm_patterns), axis=1)\n",
        "c_hippocraticum[\"lemmata_repl\"] = c_hippocraticum.apply(lambda row: replace_keywords(row[\"lemmata\"], keyterm_patterns), axis=1)"
      ],
      "execution_count": 32,
      "outputs": []
    },
    {
      "cell_type": "code",
      "metadata": {
        "id": "2uoGKms35SKS",
        "colab_type": "code",
        "colab": {}
      },
      "source": [
        "# apply the replacement on the sentences\n",
        "def replace_in_sentences(list_of_sentences):\n",
        "  return [replace_keywords(sentence, keyterm_patterns) for sentence in list_of_sentences]\n",
        "c_aristotelicum[\"lemmatized_sentences_repl\"] = c_aristotelicum.apply(lambda row: replace_in_sentences(row[\"lemmatized_sentences\"]), axis=1)\n",
        "c_hippocraticum[\"lemmatized_sentences_repl\"] = c_hippocraticum.apply(lambda row: replace_in_sentences(row[\"lemmatized_sentences\"]), axis=1)"
      ],
      "execution_count": 33,
      "outputs": []
    },
    {
      "cell_type": "code",
      "metadata": {
        "id": "CaNbwUq_v-gZ",
        "colab_type": "code",
        "colab": {}
      },
      "source": [
        "c_hippocraticum[\"\"]"
      ],
      "execution_count": null,
      "outputs": []
    },
    {
      "cell_type": "code",
      "metadata": {
        "id": "ekR6Y2p5y3Jb",
        "colab_type": "code",
        "colab": {}
      },
      "source": [
        "# make overview columns of individual terms accross documents\n",
        "for pattern_tuple in keyterm_patterns:\n",
        "  term = pattern_tuple[1] # eg. \"λύπ*\"\n",
        "  c_aristotelicum[term] =  c_aristotelicum.apply(lambda row: row[\"lemmata_repl\"].count(term), axis=1)\n",
        "  c_hippocraticum[term] =  c_hippocraticum.apply(lambda row: row[\"lemmata_repl\"].count(term), axis=1)"
      ],
      "execution_count": 38,
      "outputs": []
    },
    {
      "cell_type": "code",
      "metadata": {
        "id": "6aromjeFr2h5",
        "colab_type": "code",
        "colab": {
          "base_uri": "https://localhost:8080/",
          "height": 101
        },
        "outputId": "dc8ed178-b7ee-47ce-f78c-623e308866d0"
      },
      "source": [
        "c_aristotelicum[[\"λύπ*\", \"ἄλγ*\", \"ὀδύν*\", \"πόνο*\"]].sum()"
      ],
      "execution_count": 39,
      "outputs": [
        {
          "output_type": "execute_result",
          "data": {
            "text/plain": [
              "λύπ*     391\n",
              "ἄλγ*      32\n",
              "ὀδύν*      3\n",
              "πόνο*    100\n",
              "dtype: int64"
            ]
          },
          "metadata": {
            "tags": []
          },
          "execution_count": 39
        }
      ]
    },
    {
      "cell_type": "code",
      "metadata": {
        "id": "g2CXzUpgsCIq",
        "colab_type": "code",
        "colab": {
          "base_uri": "https://localhost:8080/",
          "height": 101
        },
        "outputId": "5a530b84-e50d-4253-aaa5-e6844a417aa8"
      },
      "source": [
        "c_hippocraticum[[\"λύπ*\", \"ἄλγ*\", \"ὀδύν*\", \"πόνο*\"]].sum()"
      ],
      "execution_count": 40,
      "outputs": [
        {
          "output_type": "execute_result",
          "data": {
            "text/plain": [
              "λύπ*      58\n",
              "ἄλγ*     315\n",
              "ὀδύν*    642\n",
              "πόνο*    651\n",
              "dtype: int64"
            ]
          },
          "metadata": {
            "tags": []
          },
          "execution_count": 40
        }
      ]
    },
    {
      "cell_type": "code",
      "metadata": {
        "id": "pLwQiKS-2Osy",
        "colab_type": "code",
        "colab": {
          "base_uri": "https://localhost:8080/",
          "height": 54
        },
        "outputId": "52dbeefd-d125-4319-d4a6-bb2452e4a3aa"
      },
      "source": [
        "# what columns we have\n",
        "# (which columns to drop while exporting to gsheet - \"string\" etc. contain large data)\n",
        "print(list(c_aristotelicum.columns))"
      ],
      "execution_count": null,
      "outputs": [
        {
          "output_type": "stream",
          "text": [
            "['filename', 'author', 'title', 'string', 'author_id', 'doc_id', 'raw_date', 'date_avr', 'date_probs', 'date_manual', 'provenience', 'wordcount', 'lemmata', 'lemmatized_sentences', 'lemmata_wordcount', 'num_of_sents', 'lemmata_repl', 'lemmatized_sentences_repl', 'λύπ*', 'ἄλγ*', 'ὀδύν*', 'πόνο*']\n"
          ],
          "name": "stdout"
        }
      ]
    },
    {
      "cell_type": "code",
      "metadata": {
        "id": "K8hQioFT9wqy",
        "colab_type": "code",
        "colab": {}
      },
      "source": [
        "# uncomment to export overview data to gsheet\n",
        "set_with_dataframe(PIA_overview.add_worksheet(\"c_aristotelicum_20200708\",1,1), c_aristotelicum.drop(['string','lemmata', 'lemmatized_sentences', 'lemmatized_sentences_repl', 'lemmata_repl'], axis=1))\n",
        "set_with_dataframe(PIA_overview.add_worksheet(\"c_hippocraticum_20200708\",1,1), c_hippocraticum.drop(['string','lemmata', 'lemmatized_sentences', 'lemmatized_sentences_repl', 'lemmata_repl'], axis=1))"
      ],
      "execution_count": 42,
      "outputs": []
    },
    {
      "cell_type": "code",
      "metadata": {
        "id": "hZmOLf4iwNEA",
        "colab_type": "code",
        "colab": {}
      },
      "source": [
        "hipp_epid = c_hippocraticum[c_hippocraticum[\"doc_id\"]==\"tlg0627.tlg006\"]"
      ],
      "execution_count": 44,
      "outputs": []
    },
    {
      "cell_type": "code",
      "metadata": {
        "id": "0Av6vasHwNKt",
        "colab_type": "code",
        "colab": {
          "base_uri": "https://localhost:8080/",
          "height": 35
        },
        "outputId": "88c3a349-e0ff-4e84-c095-134cbf0e97c0"
      },
      "source": [
        "hipp_epid[\"string\"].tolist()[0][-100:]"
      ],
      "execution_count": 49,
      "outputs": [
        {
          "output_type": "execute_result",
          "data": {
            "application/vnd.google.colaboratory.intrinsic": {
              "type": "string"
            },
            "text/plain": [
              "'εν. εἰκοστῇ ἐξεμάνη, πολὺς βληστρισμός, οὐδὲν οὔρει, σμικρὰ ποτὰ κατείχετο. εἰκοστῇ τετάρτῃ ἀπέθανε.'"
            ]
          },
          "metadata": {
            "tags": []
          },
          "execution_count": 49
        }
      ]
    },
    {
      "cell_type": "code",
      "metadata": {
        "id": "qlLN2nDgwNBc",
        "colab_type": "code",
        "colab": {}
      },
      "source": [
        ""
      ],
      "execution_count": null,
      "outputs": []
    },
    {
      "cell_type": "code",
      "metadata": {
        "id": "G1Xfswrz2s7y",
        "colab_type": "code",
        "colab": {
          "base_uri": "https://localhost:8080/",
          "height": 51
        },
        "outputId": "1ce7f0f0-b4e0-4048-965f-90107f07b039"
      },
      "source": [
        "# export to sciencedata.dk\n",
        "# currently Vojtěch Kaše's personal folder, but publicly shared\n",
        "sddk.write_file(\"public_data/PIA/c_aristotelicum_cleaned.json\", c_aristotelicum, conf)\n",
        "sddk.write_file(\"public_data/PIA/c_hippocraticum_cleaned.json\", c_hippocraticum, conf)"
      ],
      "execution_count": null,
      "outputs": [
        {
          "output_type": "stream",
          "text": [
            "Your <class 'pandas.core.frame.DataFrame'> object has been succefully written as \"https://sciencedata.dk/files/public_data/PIA/c_aristotelicum_cleaned.json\"\n",
            "Your <class 'pandas.core.frame.DataFrame'> object has been succefully written as \"https://sciencedata.dk/files/public_data/PIA/c_hippocraticum_cleaned.json\"\n"
          ],
          "name": "stdout"
        }
      ]
    },
    {
      "cell_type": "code",
      "metadata": {
        "id": "lPzyKdn68v4a",
        "colab_type": "code",
        "colab": {}
      },
      "source": [
        ""
      ],
      "execution_count": null,
      "outputs": []
    }
  ]
}