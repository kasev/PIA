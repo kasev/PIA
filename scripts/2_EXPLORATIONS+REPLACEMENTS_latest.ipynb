{
  "nbformat": 4,
  "nbformat_minor": 0,
  "metadata": {
    "colab": {
      "name": "2_EXPLORATIONS+REPLACEMENTS.ipynb",
      "provenance": [],
      "collapsed_sections": [],
      "include_colab_link": true
    },
    "kernelspec": {
      "name": "python3",
      "display_name": "Python 3"
    }
  },
  "cells": [
    {
      "cell_type": "markdown",
      "metadata": {
        "id": "view-in-github",
        "colab_type": "text"
      },
      "source": [
        "<a href=\"https://colab.research.google.com/github/kasev/PIA/blob/master/scripts/2_EXPLORATIONS%2BREPLACEMENTS_latest.ipynb\" target=\"_parent\"><img src=\"https://colab.research.google.com/assets/colab-badge.svg\" alt=\"Open In Colab\"/></a>"
      ]
    },
    {
      "cell_type": "code",
      "metadata": {
        "id": "YLcAu3mXJOpL",
        "colab_type": "code",
        "colab": {
          "base_uri": "https://localhost:8080/",
          "height": 390
        },
        "outputId": "0f5f6b24-2e7d-42d7-e21c-e14ce87feef6"
      },
      "source": [
        "### PREREQUISTIES\n",
        "### (many used only in one notebook...)\n",
        "\n",
        "import os\n",
        "import pandas as pd\n",
        "import numpy as np\n",
        "import logging ### to monitor the code\n",
        "from bs4 import BeautifulSoup\n",
        "import pickle\n",
        "import math\n",
        "import random\n",
        "import sys\n",
        "import csv\n",
        "import unicodedata\n",
        "import requests\n",
        "import re\n",
        "\n",
        "import nltk\n",
        "from nltk.collocations import *\n",
        "\n",
        "import networkx as nx\n",
        "\n",
        "import matplotlib.pyplot as plt\n",
        "import seaborn as sns\n",
        "\n",
        "from scipy import stats\n",
        "\n",
        "import xml.etree.cElementTree as ET\n",
        "from urllib.request import urlopen\n",
        "\n",
        "import gspread\n",
        "from gspread_dataframe import get_as_dataframe, set_with_dataframe\n",
        "from google.colab import auth\n",
        "from oauth2client.client import GoogleCredentials\n",
        "\n",
        "!pip install sddk\n",
        "import sddk"
      ],
      "execution_count": 1,
      "outputs": [
        {
          "output_type": "stream",
          "text": [
            "/usr/local/lib/python3.6/dist-packages/statsmodels/tools/_testing.py:19: FutureWarning: pandas.util.testing is deprecated. Use the functions in the public API at pandas.testing instead.\n",
            "  import pandas.util.testing as tm\n"
          ],
          "name": "stderr"
        },
        {
          "output_type": "stream",
          "text": [
            "Collecting sddk\n",
            "  Downloading https://files.pythonhosted.org/packages/bf/96/3ae43f2d8ac06fc16ba111916970e5a1f3b96a3e41732fa3f099e2e5cd1c/sddk-2.6-py3-none-any.whl\n",
            "Requirement already satisfied: matplotlib in /usr/local/lib/python3.6/dist-packages (from sddk) (3.2.2)\n",
            "Requirement already satisfied: pyarrow in /usr/local/lib/python3.6/dist-packages (from sddk) (0.14.1)\n",
            "Requirement already satisfied: numpy in /usr/local/lib/python3.6/dist-packages (from sddk) (1.18.5)\n",
            "Requirement already satisfied: requests in /usr/local/lib/python3.6/dist-packages (from sddk) (2.23.0)\n",
            "Requirement already satisfied: pandas in /usr/local/lib/python3.6/dist-packages (from sddk) (1.0.5)\n",
            "Requirement already satisfied: kiwisolver>=1.0.1 in /usr/local/lib/python3.6/dist-packages (from matplotlib->sddk) (1.2.0)\n",
            "Requirement already satisfied: cycler>=0.10 in /usr/local/lib/python3.6/dist-packages (from matplotlib->sddk) (0.10.0)\n",
            "Requirement already satisfied: python-dateutil>=2.1 in /usr/local/lib/python3.6/dist-packages (from matplotlib->sddk) (2.8.1)\n",
            "Requirement already satisfied: pyparsing!=2.0.4,!=2.1.2,!=2.1.6,>=2.0.1 in /usr/local/lib/python3.6/dist-packages (from matplotlib->sddk) (2.4.7)\n",
            "Requirement already satisfied: six>=1.0.0 in /usr/local/lib/python3.6/dist-packages (from pyarrow->sddk) (1.15.0)\n",
            "Requirement already satisfied: urllib3!=1.25.0,!=1.25.1,<1.26,>=1.21.1 in /usr/local/lib/python3.6/dist-packages (from requests->sddk) (1.24.3)\n",
            "Requirement already satisfied: chardet<4,>=3.0.2 in /usr/local/lib/python3.6/dist-packages (from requests->sddk) (3.0.4)\n",
            "Requirement already satisfied: certifi>=2017.4.17 in /usr/local/lib/python3.6/dist-packages (from requests->sddk) (2020.6.20)\n",
            "Requirement already satisfied: idna<3,>=2.5 in /usr/local/lib/python3.6/dist-packages (from requests->sddk) (2.10)\n",
            "Requirement already satisfied: pytz>=2017.2 in /usr/local/lib/python3.6/dist-packages (from pandas->sddk) (2018.9)\n",
            "Installing collected packages: sddk\n",
            "Successfully installed sddk-2.6\n"
          ],
          "name": "stdout"
        }
      ]
    },
    {
      "cell_type": "code",
      "metadata": {
        "id": "W2TxLXhwp_zD",
        "colab_type": "code",
        "colab": {
          "base_uri": "https://localhost:8080/",
          "height": 121
        },
        "outputId": "d079a662-33c0-4f39-83d1-ddc06dcbd6db"
      },
      "source": [
        "!pip install anda\n",
        "from anda import gr ### the import takes substantial time, since it import a +600MB file containing ancient Greek dictionary"
      ],
      "execution_count": 11,
      "outputs": [
        {
          "output_type": "stream",
          "text": [
            "Collecting anda\n",
            "\u001b[?25l  Downloading https://files.pythonhosted.org/packages/a4/52/a0bf69e5d1f865b505ac42a4701ea0fbdf2c7f97b0c11acf60d40f286760/anda-0.0.8-py3-none-any.whl (21.3MB)\n",
            "\u001b[K     |████████████████████████████████| 21.3MB 1.3MB/s \n",
            "\u001b[?25hInstalling collected packages: anda\n",
            "Successfully installed anda-0.0.8\n"
          ],
          "name": "stdout"
        }
      ]
    },
    {
      "cell_type": "code",
      "metadata": {
        "id": "Vk65k519TvBW",
        "colab_type": "code",
        "colab": {
          "base_uri": "https://localhost:8080/",
          "height": 67
        },
        "outputId": "71ae68e3-b00d-4c2f-d7ba-2f95fcd3cd2e"
      },
      "source": [
        "### not neccessary for reading the data, just for exporting them to sciencedata.dk\n",
        "conf = sddk.configure()"
      ],
      "execution_count": 2,
      "outputs": [
        {
          "output_type": "stream",
          "text": [
            "sciencedata.dk username (format '123456@au.dk'): 648597@au.dk\n",
            "sciencedata.dk password: ··········\n",
            "endpoint variable has been configured to: https://sciencedata.dk/files/\n"
          ],
          "name": "stdout"
        }
      ]
    },
    {
      "cell_type": "code",
      "metadata": {
        "id": "R52NxzfHf8kS",
        "colab_type": "code",
        "colab": {}
      },
      "source": [
        "### authorize google sheets\n",
        "auth.authenticate_user()\n",
        "gc = gspread.authorize(GoogleCredentials.get_application_default())\n",
        "# establish connection with particular sheet by its url:\n",
        "\n",
        "PIA_data = gc.open_by_url(\"https://docs.google.com/spreadsheets/d/1KxOx7Be9fj3lDcEPgQhQ-Iqcn9p367-MMD6RMXe8rks/edit?usp=sharing\")\n",
        "PIA_overview = gc.open_by_url(\"https://docs.google.com/spreadsheets/d/1e94wyelg6dftQ4zxbq1xvwxWAI-BhcYXtclDW-YTnrw/edit?usp=sharing\")"
      ],
      "execution_count": 3,
      "outputs": []
    },
    {
      "cell_type": "code",
      "metadata": {
        "id": "WgcTdGdG3sdE",
        "colab_type": "code",
        "colab": {
          "base_uri": "https://localhost:8080/",
          "height": 50
        },
        "outputId": "dd277523-6146-4d44-b595-a29a3f8206fa"
      },
      "source": [
        "### our data are located within a publicly available folder on sciencedata.dk\n",
        "publicfolder = \"31b393e2afe1ee96ce81869c7efe18cb\"\n",
        "c_aristotelicum = sddk.read_file(\"c_aristotelicum.json\", \"df\", publicfolder)\n",
        "c_hippocraticum = sddk.read_file(\"c_hippocraticum.json\", \"df\", publicfolder)"
      ],
      "execution_count": 5,
      "outputs": [
        {
          "output_type": "stream",
          "text": [
            "this file is located in a public folder\n",
            "this file is located in a public folder\n"
          ],
          "name": "stdout"
        }
      ]
    },
    {
      "cell_type": "code",
      "metadata": {
        "id": "O24rUTeB7q8M",
        "colab_type": "code",
        "colab": {
          "base_uri": "https://localhost:8080/",
          "height": 618
        },
        "outputId": "bf903c9a-310e-416a-8c69-be462426fbde"
      },
      "source": [
        "# look at first 5 rows\n",
        "c_aristotelicum.head(5)"
      ],
      "execution_count": 6,
      "outputs": [
        {
          "output_type": "execute_result",
          "data": {
            "text/html": [
              "<div>\n",
              "<style scoped>\n",
              "    .dataframe tbody tr th:only-of-type {\n",
              "        vertical-align: middle;\n",
              "    }\n",
              "\n",
              "    .dataframe tbody tr th {\n",
              "        vertical-align: top;\n",
              "    }\n",
              "\n",
              "    .dataframe thead th {\n",
              "        text-align: right;\n",
              "    }\n",
              "</style>\n",
              "<table border=\"1\" class=\"dataframe\">\n",
              "  <thead>\n",
              "    <tr style=\"text-align: right;\">\n",
              "      <th></th>\n",
              "      <th>filename</th>\n",
              "      <th>author</th>\n",
              "      <th>title</th>\n",
              "      <th>string</th>\n",
              "      <th>author_id</th>\n",
              "      <th>doc_id</th>\n",
              "      <th>raw_date</th>\n",
              "      <th>date_avr</th>\n",
              "      <th>date_probs</th>\n",
              "      <th>date_manual</th>\n",
              "      <th>provenience</th>\n",
              "      <th>wordcount</th>\n",
              "      <th>lemmata</th>\n",
              "      <th>lemmatized_sentences</th>\n",
              "      <th>lemmata_wordcount</th>\n",
              "      <th>num_of_sents</th>\n",
              "    </tr>\n",
              "  </thead>\n",
              "  <tbody>\n",
              "    <tr>\n",
              "      <th>678</th>\n",
              "      <td>tlg0086.tlg001.1st1K-grc2.xml</td>\n",
              "      <td>Aristotle</td>\n",
              "      <td>Aristotelis Analytica Priora et Posteriora; Ar...</td>\n",
              "      <td>ΑΝΑΛΥΤΙΚΩΝ ΠΡΟΤΕΡΩΝ Α. Πρῶτον εἰπεῖν περὶ τί κ...</td>\n",
              "      <td>tlg0086</td>\n",
              "      <td>tlg0086.tlg001</td>\n",
              "      <td>4 B.C.</td>\n",
              "      <td>-3.5</td>\n",
              "      <td>{'-3.5': 1}</td>\n",
              "      <td>-3.5</td>\n",
              "      <td>pagan</td>\n",
              "      <td>59772</td>\n",
              "      <td>[αναλυτικων, πρότερος, πρότερος, εἶπον, σκέψις...</td>\n",
              "      <td>[[αναλυτικων, πρότερος], [πρότερος, εἶπον, σκέ...</td>\n",
              "      <td>21150</td>\n",
              "      <td>3645</td>\n",
              "    </tr>\n",
              "    <tr>\n",
              "      <th>679</th>\n",
              "      <td>tlg0086.tlg002.1st1K-grc2.xml</td>\n",
              "      <td>Aristotle</td>\n",
              "      <td>De anima; Aritoteles De anima</td>\n",
              "      <td>ΠEP1 ΨΥΧΗΣ Α Τῶν καλῶν καὶ τιμίων τὴν εἴδησιν ...</td>\n",
              "      <td>tlg0086</td>\n",
              "      <td>tlg0086.tlg002</td>\n",
              "      <td>4 B.C.</td>\n",
              "      <td>-3.5</td>\n",
              "      <td>{'-3.5': 1}</td>\n",
              "      <td>-3.5</td>\n",
              "      <td>pagan</td>\n",
              "      <td>20988</td>\n",
              "      <td>[ψυχή, κᾶλον, τίμιος, εἶδος, μαλλός, ἕτερος, ἕ...</td>\n",
              "      <td>[[ψυχή, κᾶλον, τίμιος, εἶδος, μαλλός, ἕτερος, ...</td>\n",
              "      <td>8893</td>\n",
              "      <td>1306</td>\n",
              "    </tr>\n",
              "    <tr>\n",
              "      <th>681</th>\n",
              "      <td>tlg0086.tlg005.1st1K-grc1.xml</td>\n",
              "      <td>Aristotle</td>\n",
              "      <td>De caelo; Aristoteles De coelo et De generatio...</td>\n",
              "      <td>ΠEPI ΟΥΡΑΝΟΥ A. Ἡ περὶ φύσεως ἐπιστήμη σχεδὸν ...</td>\n",
              "      <td>tlg0086</td>\n",
              "      <td>tlg0086.tlg005</td>\n",
              "      <td>4 B.C.</td>\n",
              "      <td>-3.5</td>\n",
              "      <td>{'-3.5': 1}</td>\n",
              "      <td>-3.5</td>\n",
              "      <td>pagan</td>\n",
              "      <td>31395</td>\n",
              "      <td>[οὐρανός, φύσις, ἐπιστήμη, πλεῖστος, φαίνω, σῶ...</td>\n",
              "      <td>[[οὐρανός], [φύσις, ἐπιστήμη, πλεῖστος, φαίνω,...</td>\n",
              "      <td>12915</td>\n",
              "      <td>1986</td>\n",
              "    </tr>\n",
              "    <tr>\n",
              "      <th>682</th>\n",
              "      <td>tlg0086.tlg006.1st1K-grc1.xml</td>\n",
              "      <td>Aristotle</td>\n",
              "      <td>Categoriae; Aristotelis Opera</td>\n",
              "      <td>ΚΑΤΗΓΟΡΙΑΙ. ὉΜΩΝΥΜΑ λέγεται ὧν ὄνομα μόνον κοι...</td>\n",
              "      <td>tlg0086</td>\n",
              "      <td>tlg0086.tlg006</td>\n",
              "      <td>4 B.C.</td>\n",
              "      <td>-3.5</td>\n",
              "      <td>{'-3.5': 1}</td>\n",
              "      <td>-3.5</td>\n",
              "      <td>pagan</td>\n",
              "      <td>10317</td>\n",
              "      <td>[κατηγορία, ὁμωνυμα, λέγω, ὄνομα, μόνος, κοινό...</td>\n",
              "      <td>[[κατηγορία], [ὁμωνυμα, λέγω, ὄνομα, μόνος, κο...</td>\n",
              "      <td>4372</td>\n",
              "      <td>659</td>\n",
              "    </tr>\n",
              "    <tr>\n",
              "      <th>683</th>\n",
              "      <td>tlg0086.tlg008.1st1K-grc1.xml</td>\n",
              "      <td>Aristotle</td>\n",
              "      <td>De divinatione per somnum; Aristotelis Opera</td>\n",
              "      <td>ΠΕΡΙ ΕΝΥΠΝΙΩΝ ΚΑΙ ΤΗΣ ΚΑΘ’ ΥΠΝΟΝ ΜΑΝΤΙΚΗΣ. Περ...</td>\n",
              "      <td>tlg0086</td>\n",
              "      <td>tlg0086.tlg008</td>\n",
              "      <td>4 B.C.</td>\n",
              "      <td>-3.5</td>\n",
              "      <td>{'-3.5': 1}</td>\n",
              "      <td>-3.5</td>\n",
              "      <td>pagan</td>\n",
              "      <td>1207</td>\n",
              "      <td>[ἐνύπνιον, ἀκή, ἄατος, ὕπνος, μαντικός, μαντικ...</td>\n",
              "      <td>[[ἐνύπνιον, ἀκή, ἄατος, ὕπνος, μαντικός], [μαν...</td>\n",
              "      <td>533</td>\n",
              "      <td>69</td>\n",
              "    </tr>\n",
              "  </tbody>\n",
              "</table>\n",
              "</div>"
            ],
            "text/plain": [
              "                          filename     author  ... lemmata_wordcount num_of_sents\n",
              "678  tlg0086.tlg001.1st1K-grc2.xml  Aristotle  ...             21150         3645\n",
              "679  tlg0086.tlg002.1st1K-grc2.xml  Aristotle  ...              8893         1306\n",
              "681  tlg0086.tlg005.1st1K-grc1.xml  Aristotle  ...             12915         1986\n",
              "682  tlg0086.tlg006.1st1K-grc1.xml  Aristotle  ...              4372          659\n",
              "683  tlg0086.tlg008.1st1K-grc1.xml  Aristotle  ...               533           69\n",
              "\n",
              "[5 rows x 16 columns]"
            ]
          },
          "metadata": {
            "tags": []
          },
          "execution_count": 6
        }
      ]
    },
    {
      "cell_type": "markdown",
      "metadata": {
        "id": "75BYeQ0g8sac",
        "colab_type": "text"
      },
      "source": [
        "# Exploring Nicomachean Ethics\n",
        "feel free to skip this section"
      ]
    },
    {
      "cell_type": "code",
      "metadata": {
        "id": "ooP_2VzEoOdB",
        "colab_type": "code",
        "colab": {
          "base_uri": "https://localhost:8080/",
          "height": 198
        },
        "outputId": "be8781d8-20ea-4be2-fd93-c846a9667172"
      },
      "source": [
        "EN_df = c_aristotelicum[c_aristotelicum[\"doc_id\"]==\"tlg0086.tlg010\"]\n",
        "EN_df"
      ],
      "execution_count": 12,
      "outputs": [
        {
          "output_type": "execute_result",
          "data": {
            "text/html": [
              "<div>\n",
              "<style scoped>\n",
              "    .dataframe tbody tr th:only-of-type {\n",
              "        vertical-align: middle;\n",
              "    }\n",
              "\n",
              "    .dataframe tbody tr th {\n",
              "        vertical-align: top;\n",
              "    }\n",
              "\n",
              "    .dataframe thead th {\n",
              "        text-align: right;\n",
              "    }\n",
              "</style>\n",
              "<table border=\"1\" class=\"dataframe\">\n",
              "  <thead>\n",
              "    <tr style=\"text-align: right;\">\n",
              "      <th></th>\n",
              "      <th>filename</th>\n",
              "      <th>author</th>\n",
              "      <th>title</th>\n",
              "      <th>string</th>\n",
              "      <th>author_id</th>\n",
              "      <th>doc_id</th>\n",
              "      <th>raw_date</th>\n",
              "      <th>date_avr</th>\n",
              "      <th>date_probs</th>\n",
              "      <th>date_manual</th>\n",
              "      <th>provenience</th>\n",
              "      <th>wordcount</th>\n",
              "      <th>lemmata</th>\n",
              "      <th>lemmatized_sentences</th>\n",
              "      <th>lemmata_wordcount</th>\n",
              "      <th>num_of_sents</th>\n",
              "    </tr>\n",
              "  </thead>\n",
              "  <tbody>\n",
              "    <tr>\n",
              "      <th>685</th>\n",
              "      <td>tlg0086.tlg010.perseus-grc1.xml</td>\n",
              "      <td>Aristotle</td>\n",
              "      <td>Nicomachean Ethics; Machine readable text; ed....</td>\n",
              "      <td>βοοκ 1 πᾶσα τέχνη καὶ πᾶσα μέθοδος, ὁμοίως δὲ ...</td>\n",
              "      <td>tlg0086</td>\n",
              "      <td>tlg0086.tlg010</td>\n",
              "      <td>4 B.C.</td>\n",
              "      <td>-3.5</td>\n",
              "      <td>{'-3.5': 1}</td>\n",
              "      <td>-3.5</td>\n",
              "      <td>pagan</td>\n",
              "      <td>56638</td>\n",
              "      <td>[βοοκ, πᾶς, τέχνη, πᾶς, μέθοδος, ὅμοιος, πρᾶξί...</td>\n",
              "      <td>[[βοοκ, πᾶς, τέχνη, πᾶς, μέθοδος, ὅμοιος, πρᾶξ...</td>\n",
              "      <td>23811</td>\n",
              "      <td>3897</td>\n",
              "    </tr>\n",
              "  </tbody>\n",
              "</table>\n",
              "</div>"
            ],
            "text/plain": [
              "                            filename  ... num_of_sents\n",
              "685  tlg0086.tlg010.perseus-grc1.xml  ...         3897\n",
              "\n",
              "[1 rows x 16 columns]"
            ]
          },
          "metadata": {
            "tags": []
          },
          "execution_count": 12
        }
      ]
    },
    {
      "cell_type": "code",
      "metadata": {
        "id": "fWm9Jl4OoPBB",
        "colab_type": "code",
        "colab": {
          "base_uri": "https://localhost:8080/",
          "height": 153
        },
        "outputId": "ac93f2e2-ba09-4d53-818f-d020d3813bee"
      },
      "source": [
        "EN_df[\"string\"].tolist()[0][:100]"
      ],
      "execution_count": 13,
      "outputs": [
        {
          "output_type": "execute_result",
          "data": {
            "application/vnd.google.colaboratory.intrinsic+json": {
              "type": "string"
            },
            "text/plain": [
              "'βοοκ 1 πᾶσα τέχνη καὶ πᾶσα μέθοδος, ὁμοίως δὲ πρᾶξίς τε καὶ προαίρεσις, ἀγαθοῦ τινὸς ἐφίεσθαι δοκεῖ· διὸ καλῶς ἀπεφήναντο τἀγαθόν, οὗ πάντʼ ἐφίεται. διαφορὰ δέ τις φαίνεται τῶν τελῶν· τὰ μὲν γάρ εἰσιν ἐνέργειαι, τὰ δὲ παρʼ αὐτὰς ἔργα τινά. ὧν δʼ εἰσὶ τέλη τινὰ παρὰ τὰς πράξεις, ἐν τούτοις βελτίω πέφυκε τῶν ἐνεργειῶν τὰ ἔργα. πολλῶν δὲ πράξεων οὐσῶν καὶ τεχνῶν καὶ ἐπιστημῶν πολλὰ γίνεται καὶ τὰ τέλη· ἰατρικῆς μὲν γὰρ ὑγίεια, ναυπηγικῆς δὲ πλοῖον, στρατηγικῆς δὲ νίκη, οἰκονομικῆς δὲ πλοῦτος. ὅσαι δʼ εἰσὶ τῶν τοιούτων ὑπὸ μίαν τινὰ δύναμιν, καθάπερ ὑπὸ τὴν ἱππικὴν χαλινοποιικὴ καὶ ὅσαι ἄλλαι τῶν ἱππικῶν ὀργάνων εἰσίν, αὕτη δὲ καὶ πᾶσα πολεμικὴ πρᾶξις ὑπὸ τὴν στρατηγικήν, κατὰ τὸν αὐτὸν δὴ τρόπον ἄλλαι ὑφʼ ἑτέρας· ἐν ἁπάσαις δὲ τὰ τῶν ἀρχιτεκτονικῶν τέλη πάντων ἐστὶν αἱρετώτερα τῶν ὑπʼ αὐτά· τούτων γὰρ χάριν κἀκεῖνα διώκεται. διαφέρει δʼ οὐδὲν τὰς ἐνεργείας αὐτὰς εἶναι τὰ τέλη τῶν πράξεων ἢ παρὰ ταύτας ἄλλο τι, καθάπερ ἐπὶ τῶν λεχθεισῶν ἐπιστημῶν. εἰ δή τι τέλος ἐστὶ τῶν πρακτῶν ὃ διʼ αὑτὸ'"
            ]
          },
          "metadata": {
            "tags": []
          },
          "execution_count": 13
        }
      ]
    },
    {
      "cell_type": "code",
      "metadata": {
        "id": "k4kJcoTvoO-F",
        "colab_type": "code",
        "colab": {
          "base_uri": "https://localhost:8080/",
          "height": 54
        },
        "outputId": "c0e72f07-ab39-4de8-f911-5f8663a33b11"
      },
      "source": [
        "print(EN_df[\"lemmatized_sentences\"].tolist()[0][:10])"
      ],
      "execution_count": 15,
      "outputs": [
        {
          "output_type": "stream",
          "text": [
            "[['βοοκ', 'πᾶς', 'τέχνη', 'πᾶς', 'μέθοδος', 'ὅμοιος', 'πρᾶξίς', 'προαίρεσις', 'ἀγαθός', 'ἐφίημι', 'δοκέω'], ['καλός', 'ἀποφαίνω', 'ἀγαθός', 'ἵημι', 'πάντʼ', 'ἐφίημι'], ['διαφορά', 'φαίνω', 'τέλος'], ['εἶμι', 'ἐνέργεια', 'παρʼ', 'ἔργον'], ['εἶμι', 'τέλος', 'πρᾶξις', 'βελτίων', 'φύω', 'ἐνέργεια', 'ἔργον'], ['πολύς', 'πρᾶξις', 'τέχνη', 'ἐπιστήμη', 'πολύς', 'γίγνομαι', 'τέλος'], ['ἰατρικός', 'ὑγίεια', 'ναυπηγικός', 'πλοῖον', 'στρατηγικός', 'νίκη', 'οἰκονομικός', 'πλοῦτος'], ['ὅσος', 'εἶμι', 'μίαν', 'δύναμις', 'ἱππικην', 'χαλινοποιική', 'ὅσος', 'ἱππικός', 'ὄργανον', 'εἶμι', 'πᾶς', 'πολεμικός', 'πρᾶξις', 'στρατηγικός', 'τρόπος', 'ὑφʼ', 'ἕτερος'], ['ἅπας', 'ἀρχιτεκτονικῶν', 'τέλος', 'πᾶς', 'αἱρετός', 'ὑπʼ'], ['χάρις', 'ἐκεῖνος', 'διώκω']]\n"
          ],
          "name": "stdout"
        }
      ]
    },
    {
      "cell_type": "code",
      "metadata": {
        "id": "RjW2CTnpRH8D",
        "colab_type": "code",
        "colab": {
          "base_uri": "https://localhost:8080/",
          "height": 269
        },
        "outputId": "0f734a32-06b9-4c69-c228-85890138d841"
      },
      "source": [
        "EN_df[\"lemmatized_sentences\"].tolist()[0][:5]"
      ],
      "execution_count": 16,
      "outputs": [
        {
          "output_type": "execute_result",
          "data": {
            "text/plain": [
              "[['βοοκ',\n",
              "  'πᾶς',\n",
              "  'τέχνη',\n",
              "  'πᾶς',\n",
              "  'μέθοδος',\n",
              "  'ὅμοιος',\n",
              "  'πρᾶξίς',\n",
              "  'προαίρεσις',\n",
              "  'ἀγαθός',\n",
              "  'ἐφίημι',\n",
              "  'δοκέω'],\n",
              " ['καλός', 'ἀποφαίνω', 'ἀγαθός', 'ἵημι', 'πάντʼ', 'ἐφίημι'],\n",
              " ['διαφορά', 'φαίνω', 'τέλος'],\n",
              " ['εἶμι', 'ἐνέργεια', 'παρʼ', 'ἔργον'],\n",
              " ['εἶμι', 'τέλος', 'πρᾶξις', 'βελτίων', 'φύω', 'ἐνέργεια', 'ἔργον']]"
            ]
          },
          "metadata": {
            "tags": []
          },
          "execution_count": 16
        }
      ]
    },
    {
      "cell_type": "code",
      "metadata": {
        "id": "JM6yDODbRWrg",
        "colab_type": "code",
        "colab": {
          "base_uri": "https://localhost:8080/",
          "height": 35
        },
        "outputId": "0f60aab0-d4be-4c3f-9ca0-5bec5b1a4f08"
      },
      "source": [
        "\" \".join(EN_df[\"lemmatized_sentences\"].tolist()[0][0])"
      ],
      "execution_count": 17,
      "outputs": [
        {
          "output_type": "execute_result",
          "data": {
            "application/vnd.google.colaboratory.intrinsic+json": {
              "type": "string"
            },
            "text/plain": [
              "'βοοκ πᾶς τέχνη πᾶς μέθοδος ὅμοιος πρᾶξίς προαίρεσις ἀγαθός ἐφίημι δοκέω'"
            ]
          },
          "metadata": {
            "tags": []
          },
          "execution_count": 17
        }
      ]
    },
    {
      "cell_type": "code",
      "metadata": {
        "id": "HjZiVw_4P6Vr",
        "colab_type": "code",
        "colab": {}
      },
      "source": [
        "EN_sentences = \"\"\n",
        "for sentence in EN_df[\"lemmatized_sentences\"].tolist()[0]:\n",
        "  EN_sentences = EN_sentences + \" \".join(sentence) + \". \""
      ],
      "execution_count": 18,
      "outputs": []
    },
    {
      "cell_type": "code",
      "metadata": {
        "id": "mRKTLDfXRDDh",
        "colab_type": "code",
        "colab": {
          "base_uri": "https://localhost:8080/",
          "height": 153
        },
        "outputId": "fefe726c-8354-40c7-ec42-740ecb92a38f"
      },
      "source": [
        "EN_sentences[:1000]"
      ],
      "execution_count": 20,
      "outputs": [
        {
          "output_type": "execute_result",
          "data": {
            "application/vnd.google.colaboratory.intrinsic+json": {
              "type": "string"
            },
            "text/plain": [
              "'βοοκ πᾶς τέχνη πᾶς μέθοδος ὅμοιος πρᾶξίς προαίρεσις ἀγαθός ἐφίημι δοκέω. καλός ἀποφαίνω ἀγαθός ἵημι πάντʼ ἐφίημι. διαφορά φαίνω τέλος. εἶμι ἐνέργεια παρʼ ἔργον. εἶμι τέλος πρᾶξις βελτίων φύω ἐνέργεια ἔργον. πολύς πρᾶξις τέχνη ἐπιστήμη πολύς γίγνομαι τέλος. ἰατρικός ὑγίεια ναυπηγικός πλοῖον στρατηγικός νίκη οἰκονομικός πλοῦτος. ὅσος εἶμι μίαν δύναμις ἱππικην χαλινοποιική ὅσος ἱππικός ὄργανον εἶμι πᾶς πολεμικός πρᾶξις στρατηγικός τρόπος ὑφʼ ἕτερος. ἅπας ἀρχιτεκτονικῶν τέλος πᾶς αἱρετός ὑπʼ. χάρις ἐκεῖνος διώκω. διαφέρω ἐνέργεια τέλος πρᾶξις ἐπιστήμη. τέλος πρακτός διʼ βούλομαι πᾶς διʼ ἕτερος αἱρέω ʽπρόεισι γʼ ἄπειρος ὥστʼ κενός μάταιος ὄρεξις δῆλος τοῦτʼ ἐάω ἀγαθός ἄριστον. ἆρʼ βιός γνῶσις μέγας ἔχις ῥοπή τοξότης σκοπός μαλλός τυγχάνω δέον. πειρατέος τύπος περιλαμβάνω ποτʼ ἐπιστήμη δύναμις. δοκέω κύριος ἀρχιτεκτονικῆς. πολιτικός φαίνω. χρεὼν ἐπιστήμη πόλις πόα ἕκαστος μανθάνω διατάσσω. ὁράω ἔντιμος δύναμις οἷος στρατηγικός οἰκονομικην ῥητορικός. λοιπός πρακτικός ἐπιστήμη δεῖ πράσσω ἀπέχω'"
            ]
          },
          "metadata": {
            "tags": []
          },
          "execution_count": 20
        }
      ]
    },
    {
      "cell_type": "code",
      "metadata": {
        "id": "RSFKvJAaRjZd",
        "colab_type": "code",
        "colab": {
          "base_uri": "https://localhost:8080/",
          "height": 34
        },
        "outputId": "4963a887-977b-46b5-a179-ef02edbc016f"
      },
      "source": [
        "file_object = open(\"EN_sentences.txt\",\"w\") \n",
        "file_object.write(EN_sentences)"
      ],
      "execution_count": null,
      "outputs": [
        {
          "output_type": "execute_result",
          "data": {
            "text/plain": [
              "172302"
            ]
          },
          "metadata": {
            "tags": []
          },
          "execution_count": 12
        }
      ]
    },
    {
      "cell_type": "code",
      "metadata": {
        "id": "9vdLFwR7QbsV",
        "colab_type": "code",
        "colab": {}
      },
      "source": [
        "# uncomment the rows below to be ready for file download\n",
        "# from google.colab import files\n",
        "#files.download(\"EN_sentences.txt\")"
      ],
      "execution_count": null,
      "outputs": []
    },
    {
      "cell_type": "code",
      "metadata": {
        "id": "AiSioSHNaRni",
        "colab_type": "code",
        "colab": {
          "base_uri": "https://localhost:8080/",
          "height": 54
        },
        "outputId": "35b12ce2-00c0-443e-db6f-f5c30bd6f416"
      },
      "source": [
        "print(EN_df[\"lemmata\"].tolist()[0][:100])"
      ],
      "execution_count": 21,
      "outputs": [
        {
          "output_type": "stream",
          "text": [
            "['βοοκ', 'πᾶς', 'τέχνη', 'πᾶς', 'μέθοδος', 'ὅμοιος', 'πρᾶξίς', 'προαίρεσις', 'ἀγαθός', 'ἐφίημι', 'δοκέω', 'καλός', 'ἀποφαίνω', 'ἀγαθός', 'ἵημι', 'πάντʼ', 'ἐφίημι', 'διαφορά', 'φαίνω', 'τέλος', 'εἶμι', 'ἐνέργεια', 'παρʼ', 'ἔργον', 'εἶμι', 'τέλος', 'πρᾶξις', 'βελτίων', 'φύω', 'ἐνέργεια', 'ἔργον', 'πολύς', 'πρᾶξις', 'τέχνη', 'ἐπιστήμη', 'πολύς', 'γίγνομαι', 'τέλος', 'ἰατρικός', 'ὑγίεια', 'ναυπηγικός', 'πλοῖον', 'στρατηγικός', 'νίκη', 'οἰκονομικός', 'πλοῦτος', 'ὅσος', 'εἶμι', 'μίαν', 'δύναμις', 'ἱππικην', 'χαλινοποιική', 'ὅσος', 'ἱππικός', 'ὄργανον', 'εἶμι', 'πᾶς', 'πολεμικός', 'πρᾶξις', 'στρατηγικός', 'τρόπος', 'ὑφʼ', 'ἕτερος', 'ἅπας', 'ἀρχιτεκτονικῶν', 'τέλος', 'πᾶς', 'αἱρετός', 'ὑπʼ', 'χάρις', 'ἐκεῖνος', 'διώκω', 'διαφέρω', 'ἐνέργεια', 'τέλος', 'πρᾶξις', 'ἐπιστήμη', 'τέλος', 'πρακτός', 'διʼ', 'βούλομαι', 'πᾶς', 'διʼ', 'ἕτερος', 'αἱρέω', 'ʽπρόεισι', 'γʼ', 'ἄπειρος', 'ὥστʼ', 'κενός', 'μάταιος', 'ὄρεξις', 'δῆλος', 'τοῦτʼ', 'ἐάω', 'ἀγαθός', 'ἄριστον', 'ἆρʼ', 'βιός', 'γνῶσις']\n"
          ],
          "name": "stdout"
        }
      ]
    },
    {
      "cell_type": "code",
      "metadata": {
        "id": "UO28XhXpqW7l",
        "colab_type": "code",
        "colab": {}
      },
      "source": [
        "# gr.return_all_unique_lemmata(\"πρᾶξίς\")"
      ],
      "execution_count": null,
      "outputs": []
    },
    {
      "cell_type": "markdown",
      "metadata": {
        "id": "oLFpALzA9DJ-",
        "colab_type": "text"
      },
      "source": [
        "# Key term replacement"
      ]
    },
    {
      "cell_type": "code",
      "metadata": {
        "id": "E9p7LC0vn0Hx",
        "colab_type": "code",
        "colab": {}
      },
      "source": [
        "# manually define key terms we are interested in:\n",
        "keyterm_patterns = [(\"^λ[υ|ύ]π.+\", \"λύπ*\"), (\"^[ἀ|ἄ]λγ.+\", \"ἄλγ*\"), (\"^[ὀ|ὠ]δ[ύ|υ]ν.\", \"ὀδύν*\"), (\"^π[ό|ο]ν[ο|ό|έ|ε|η|ή|ῆ](?!ρ).+\", \"πόνο*\")]"
      ],
      "execution_count": 7,
      "outputs": []
    },
    {
      "cell_type": "code",
      "metadata": {
        "id": "RncGvPoshJT1",
        "colab_type": "code",
        "colab": {}
      },
      "source": [
        "### produce a list of all words from the authors\n",
        "### (useful for a preliminary exploration)\n",
        "aristotle_list = []\n",
        "for list_element in c_aristotelicum[\"lemmata\"].tolist():\n",
        "  aristotle_list.extend(list_element)\n",
        "hippocrates_list = []\n",
        "for list_element in c_hippocraticum[\"lemmata\"].tolist():\n",
        "  hippocrates_list.extend(list_element)\n",
        "one_merged_list = aristotle_list + hippocrates_list"
      ],
      "execution_count": 8,
      "outputs": []
    },
    {
      "cell_type": "code",
      "metadata": {
        "id": "cgQlB5X09qC1",
        "colab_type": "code",
        "colab": {
          "base_uri": "https://localhost:8080/",
          "height": 402
        },
        "outputId": "e88195be-dd03-4cfa-eef7-612a9791034b"
      },
      "source": [
        "# unique word forms\n",
        "matches = []\n",
        "for pattern_tuple in keyterm_patterns:\n",
        "  r = re.compile(pattern_tuple[0])\n",
        "  matches.extend([(pattern_tuple[0], pattern_tuple[1], match, aristotle_list.count(match), hippocrates_list.count(match), gr.lemma_translator(match)) for match in list(filter(r.match, list(set(aristotle_list + hippocrates_list))))])\n",
        "matches_df = pd.DataFrame(matches, columns=[\"pattern\", \"replacement\", \"match\", \"c_aristotelicum\", \"c_hippocraticum\", \"translation\"])\n",
        "matches_df"
      ],
      "execution_count": 22,
      "outputs": [
        {
          "output_type": "execute_result",
          "data": {
            "text/html": [
              "<div>\n",
              "<style scoped>\n",
              "    .dataframe tbody tr th:only-of-type {\n",
              "        vertical-align: middle;\n",
              "    }\n",
              "\n",
              "    .dataframe tbody tr th {\n",
              "        vertical-align: top;\n",
              "    }\n",
              "\n",
              "    .dataframe thead th {\n",
              "        text-align: right;\n",
              "    }\n",
              "</style>\n",
              "<table border=\"1\" class=\"dataframe\">\n",
              "  <thead>\n",
              "    <tr style=\"text-align: right;\">\n",
              "      <th></th>\n",
              "      <th>pattern</th>\n",
              "      <th>replacement</th>\n",
              "      <th>match</th>\n",
              "      <th>c_aristotelicum</th>\n",
              "      <th>c_hippocraticum</th>\n",
              "      <th>translation</th>\n",
              "    </tr>\n",
              "  </thead>\n",
              "  <tbody>\n",
              "    <tr>\n",
              "      <th>0</th>\n",
              "      <td>^λ[υ|ύ]π.+</td>\n",
              "      <td>λύπ*</td>\n",
              "      <td>λυπεῖταί</td>\n",
              "      <td>2</td>\n",
              "      <td>0</td>\n",
              "      <td></td>\n",
              "    </tr>\n",
              "    <tr>\n",
              "      <th>1</th>\n",
              "      <td>^λ[υ|ύ]π.+</td>\n",
              "      <td>λύπ*</td>\n",
              "      <td>λυπητικός</td>\n",
              "      <td>1</td>\n",
              "      <td>0</td>\n",
              "      <td></td>\n",
              "    </tr>\n",
              "    <tr>\n",
              "      <th>2</th>\n",
              "      <td>^λ[υ|ύ]π.+</td>\n",
              "      <td>λύπ*</td>\n",
              "      <td>λυπεόντων</td>\n",
              "      <td>0</td>\n",
              "      <td>1</td>\n",
              "      <td></td>\n",
              "    </tr>\n",
              "    <tr>\n",
              "      <th>3</th>\n",
              "      <td>^λ[υ|ύ]π.+</td>\n",
              "      <td>λύπ*</td>\n",
              "      <td>λυπηρότερά</td>\n",
              "      <td>0</td>\n",
              "      <td>1</td>\n",
              "      <td></td>\n",
              "    </tr>\n",
              "    <tr>\n",
              "      <th>4</th>\n",
              "      <td>^λ[υ|ύ]π.+</td>\n",
              "      <td>λύπ*</td>\n",
              "      <td>λυπέον</td>\n",
              "      <td>0</td>\n",
              "      <td>8</td>\n",
              "      <td></td>\n",
              "    </tr>\n",
              "    <tr>\n",
              "      <th>...</th>\n",
              "      <td>...</td>\n",
              "      <td>...</td>\n",
              "      <td>...</td>\n",
              "      <td>...</td>\n",
              "      <td>...</td>\n",
              "      <td>...</td>\n",
              "    </tr>\n",
              "    <tr>\n",
              "      <th>120</th>\n",
              "      <td>^π[ό|ο]ν[ο|ό|έ|ε|η|ή|ῆ](?!ρ).+</td>\n",
              "      <td>πόνο*</td>\n",
              "      <td>πονητέος</td>\n",
              "      <td>0</td>\n",
              "      <td>1</td>\n",
              "      <td>one must toil</td>\n",
              "    </tr>\n",
              "    <tr>\n",
              "      <th>121</th>\n",
              "      <td>^π[ό|ο]ν[ο|ό|έ|ε|η|ή|ῆ](?!ρ).+</td>\n",
              "      <td>πόνο*</td>\n",
              "      <td>πονεούσης</td>\n",
              "      <td>0</td>\n",
              "      <td>1</td>\n",
              "      <td></td>\n",
              "    </tr>\n",
              "    <tr>\n",
              "      <th>122</th>\n",
              "      <td>^π[ό|ο]ν[ο|ό|έ|ε|η|ή|ῆ](?!ρ).+</td>\n",
              "      <td>πόνο*</td>\n",
              "      <td>πόνοισίν</td>\n",
              "      <td>0</td>\n",
              "      <td>1</td>\n",
              "      <td></td>\n",
              "    </tr>\n",
              "    <tr>\n",
              "      <th>123</th>\n",
              "      <td>^π[ό|ο]ν[ο|ό|έ|ε|η|ή|ῆ](?!ρ).+</td>\n",
              "      <td>πόνο*</td>\n",
              "      <td>πονέῃ</td>\n",
              "      <td>0</td>\n",
              "      <td>11</td>\n",
              "      <td></td>\n",
              "    </tr>\n",
              "    <tr>\n",
              "      <th>124</th>\n",
              "      <td>^π[ό|ο]ν[ο|ό|έ|ε|η|ή|ῆ](?!ρ).+</td>\n",
              "      <td>πόνο*</td>\n",
              "      <td>πονήματα</td>\n",
              "      <td>0</td>\n",
              "      <td>1</td>\n",
              "      <td></td>\n",
              "    </tr>\n",
              "  </tbody>\n",
              "</table>\n",
              "<p>125 rows × 6 columns</p>\n",
              "</div>"
            ],
            "text/plain": [
              "                            pattern replacement  ... c_hippocraticum    translation\n",
              "0                        ^λ[υ|ύ]π.+        λύπ*  ...               0               \n",
              "1                        ^λ[υ|ύ]π.+        λύπ*  ...               0               \n",
              "2                        ^λ[υ|ύ]π.+        λύπ*  ...               1               \n",
              "3                        ^λ[υ|ύ]π.+        λύπ*  ...               1               \n",
              "4                        ^λ[υ|ύ]π.+        λύπ*  ...               8               \n",
              "..                              ...         ...  ...             ...            ...\n",
              "120  ^π[ό|ο]ν[ο|ό|έ|ε|η|ή|ῆ](?!ρ).+       πόνο*  ...               1  one must toil\n",
              "121  ^π[ό|ο]ν[ο|ό|έ|ε|η|ή|ῆ](?!ρ).+       πόνο*  ...               1               \n",
              "122  ^π[ό|ο]ν[ο|ό|έ|ε|η|ή|ῆ](?!ρ).+       πόνο*  ...               1               \n",
              "123  ^π[ό|ο]ν[ο|ό|έ|ε|η|ή|ῆ](?!ρ).+       πόνο*  ...              11               \n",
              "124  ^π[ό|ο]ν[ο|ό|έ|ε|η|ή|ῆ](?!ρ).+       πόνο*  ...               1               \n",
              "\n",
              "[125 rows x 6 columns]"
            ]
          },
          "metadata": {
            "tags": []
          },
          "execution_count": 22
        }
      ]
    },
    {
      "cell_type": "code",
      "metadata": {
        "id": "_1mOLs0xstyM",
        "colab_type": "code",
        "colab": {
          "base_uri": "https://localhost:8080/",
          "height": 54
        },
        "outputId": "96dca3c1-f00d-4387-b856-03834e91455a"
      },
      "source": [
        "### look at all unique matched words\n",
        "print(matches_df[\"match\"].tolist())"
      ],
      "execution_count": 23,
      "outputs": [
        {
          "output_type": "stream",
          "text": [
            "['λυπεῖταί', 'λυπητικός', 'λυπεόντων', 'λυπηρότερά', 'λυπέον', 'λυπέῃ', 'λυπή', 'λύπαςμεσότης', 'λυπέεται', 'λυπέοντα', 'λυπηθῆ', 'λυπέουσα', 'λυπηρός', 'λυπηθήσοιτʼ', 'λυπέω', 'λυπέονταί', 'λυπέοιτο', 'λυπέοντος', 'λυπέουσιν', 'λύπαςοὐ', 'λυπέωσι', 'λυπρᾷ', 'λύπη', 'λυπέουσαν', 'λυποδίαν', 'λυπεῖταἰ', 'λυπούμενός', 'λύπημα', 'ἀλγέοιεν', 'ἀλγεόντων', 'ἀλγέω', 'ἄλγεσκ', 'ἀλγέοντος', 'ἀλγέοντα', 'ἀλγέον', 'ἀλγεινην', 'ἀλγεινός', 'ἀλγέοντες', 'ἀλγέουσι', 'ἄλγημά', 'ἀλγήσῃ', 'ἀλγέοντάς', 'ἀλγέωσι', 'ἀλγεῦντα', 'ἄλγος', 'ἀλγεούσης', 'ἄλγημα', 'ἀλγέῃ', 'ἀλγέουσιν', 'ἀλγέοντι', 'ἄλγησις', 'ἀλγήσαν', 'ἀλγηδὼν', 'ἀλγήμασι', 'ἄλγλος', 'ἀλγέοντας', 'ἀλγήσωσιν', 'ἀλγηδών', 'ἀλγεούσῃσι', 'ἀλγέειν', 'ἀλγέουσαν', 'ὀδύνη', 'ὀδυνης', 'ὀδυνάω', 'ὀδυνῶδες', 'ὀδυνώδης', 'ὀδυνώδεας', 'ὀδυνηθῇ', 'ὀδυνώδεα', 'ὀδυνωμένους', 'ὠδυναμίη', 'ὀδυνηρός', 'ὀδυνέωνται', 'ὀδυνέων', 'ὀδυνώμενα', 'ὀδύνῃσί', 'ὀδυναίτερον', 'ὀδυνήμασι', 'ὀδυνημάτων', 'ὀδυνωμένῳ', 'ὀδυνώδεες', 'ὀδυνήματα', 'ὀδύνατον', 'ὀδυνῶνται', 'ὀδυνῇ', 'πονέεις', 'πονεῖντῆς', 'πονεομένου', 'πονοῦσαι', 'πονοῦσαί', 'πονέω', 'πόνος', 'πονέοντές', 'πονήσειέ', 'πονέον', 'πονησάσης', 'πονοῦντιτοῦτό', 'πονεέτω', 'πονέσῃ', 'πονέειν', 'πονεόμενον', 'πονέωσι', 'πονέοντι', 'πονέοντες', 'πονέοντος', 'πονεῦγται', 'πονῆται', 'πονέοι', 'πονέοντα', 'πονέεται', 'πονέσωσιν', 'πονέουσιν', 'πονέετόν', 'πονοῦσί', 'πόνοισί', 'πονέουσα', 'πονήσεται', 'πονέουσαι', 'πονεύμενα', 'πονητικά', 'πονητέος', 'πονεούσης', 'πόνοισίν', 'πονέῃ', 'πονήματα']\n"
          ],
          "name": "stdout"
        }
      ]
    },
    {
      "cell_type": "code",
      "metadata": {
        "id": "J188PT40plan",
        "colab_type": "code",
        "colab": {}
      },
      "source": [
        "# uncomment the following to export to gsheet: \n",
        "set_with_dataframe(PIA_overview.add_worksheet(\"matches_20200814\", 1, 1), matches_df)"
      ],
      "execution_count": 24,
      "outputs": []
    },
    {
      "cell_type": "code",
      "metadata": {
        "id": "oMML0hINSDA1",
        "colab_type": "code",
        "colab": {}
      },
      "source": [
        "# make \n",
        "def replacer_word_list(pattern, product, word_list):\n",
        "  return [re.sub(pattern, product, word) for word in word_list]\n",
        "\n",
        "def replace_keywords(list_of_words, list_of_tuples):\n",
        "  for pattern in list_of_tuples:\n",
        "    list_of_words = replacer_word_list(pattern[0], pattern[1], list_of_words)\n",
        "  return list_of_words"
      ],
      "execution_count": 25,
      "outputs": []
    },
    {
      "cell_type": "code",
      "metadata": {
        "id": "TPRPyAqtpJ1T",
        "colab_type": "code",
        "colab": {
          "base_uri": "https://localhost:8080/",
          "height": 50
        },
        "outputId": "0a8509a0-db7c-4457-a32c-1290a3b8acb3"
      },
      "source": [
        "# test 1:\n",
        "testlist = [\"μέλυπρᾷ\", \"λυπρᾷ\"] \n",
        "for word in testlist:\n",
        "  print(re.sub(keyterm_patterns[0][0], keyterm_patterns[0][1], word))"
      ],
      "execution_count": 26,
      "outputs": [
        {
          "output_type": "stream",
          "text": [
            "μέλυπρᾷ\n",
            "λύπ*\n"
          ],
          "name": "stdout"
        }
      ]
    },
    {
      "cell_type": "code",
      "metadata": {
        "id": "us9VazWVSC9R",
        "colab_type": "code",
        "colab": {
          "base_uri": "https://localhost:8080/",
          "height": 235
        },
        "outputId": "bccacbbb-6bfa-46c4-bbb3-605d0d63719d"
      },
      "source": [
        "### test 2:\n",
        "word_list_test = ['βοοκ', 'πᾶς', 'μέλυπρᾷ', \"ἄλγτέχνη\",'τέχνη' ,'πᾶς', 'μέθοδος', 'ὅμοιος', \"λύπη\",'πρᾶξίς', 'προαίρεσις', 'ἀγαθός', 'ἐφίημι']\n",
        "replace_keywords(word_list_test, keyterm_patterns)"
      ],
      "execution_count": 27,
      "outputs": [
        {
          "output_type": "execute_result",
          "data": {
            "text/plain": [
              "['βοοκ',\n",
              " 'πᾶς',\n",
              " 'μέλυπρᾷ',\n",
              " 'ἄλγ*',\n",
              " 'τέχνη',\n",
              " 'πᾶς',\n",
              " 'μέθοδος',\n",
              " 'ὅμοιος',\n",
              " 'λύπ*',\n",
              " 'πρᾶξίς',\n",
              " 'προαίρεσις',\n",
              " 'ἀγαθός',\n",
              " 'ἐφίημι']"
            ]
          },
          "metadata": {
            "tags": []
          },
          "execution_count": 27
        }
      ]
    },
    {
      "cell_type": "code",
      "metadata": {
        "id": "Be_ew0-_xjPU",
        "colab_type": "code",
        "colab": {}
      },
      "source": [
        "# apply the replacement on the level of individual words\n",
        "c_aristotelicum[\"lemmata_repl\"] = c_aristotelicum.apply(lambda row: replace_keywords(row[\"lemmata\"], keyterm_patterns), axis=1)\n",
        "c_hippocraticum[\"lemmata_repl\"] = c_hippocraticum.apply(lambda row: replace_keywords(row[\"lemmata\"], keyterm_patterns), axis=1)"
      ],
      "execution_count": 28,
      "outputs": []
    },
    {
      "cell_type": "code",
      "metadata": {
        "id": "2uoGKms35SKS",
        "colab_type": "code",
        "colab": {}
      },
      "source": [
        "# apply the replacement on the sentences\n",
        "def replace_in_sentences(list_of_sentences):\n",
        "  return [replace_keywords(sentence, keyterm_patterns) for sentence in list_of_sentences]\n",
        "c_aristotelicum[\"lemmatized_sentences_repl\"] = c_aristotelicum.apply(lambda row: replace_in_sentences(row[\"lemmatized_sentences\"]), axis=1)\n",
        "c_hippocraticum[\"lemmatized_sentences_repl\"] = c_hippocraticum.apply(lambda row: replace_in_sentences(row[\"lemmatized_sentences\"]), axis=1)"
      ],
      "execution_count": 29,
      "outputs": []
    },
    {
      "cell_type": "code",
      "metadata": {
        "id": "ekR6Y2p5y3Jb",
        "colab_type": "code",
        "colab": {}
      },
      "source": [
        "# make overview columns of individual terms accross documents\n",
        "for pattern_tuple in keyterm_patterns:\n",
        "  term = pattern_tuple[1] # eg. \"λύπ*\"\n",
        "  c_aristotelicum[term] =  c_aristotelicum.apply(lambda row: row[\"lemmata_repl\"].count(term), axis=1)\n",
        "  c_hippocraticum[term] =  c_hippocraticum.apply(lambda row: row[\"lemmata_repl\"].count(term), axis=1)"
      ],
      "execution_count": 30,
      "outputs": []
    },
    {
      "cell_type": "code",
      "metadata": {
        "id": "6aromjeFr2h5",
        "colab_type": "code",
        "colab": {
          "base_uri": "https://localhost:8080/",
          "height": 101
        },
        "outputId": "e3fcf031-1f99-41e6-d26e-ed7505f89be7"
      },
      "source": [
        "c_aristotelicum[[\"λύπ*\", \"ἄλγ*\", \"ὀδύν*\", \"πόνο*\"]].sum()"
      ],
      "execution_count": 32,
      "outputs": [
        {
          "output_type": "execute_result",
          "data": {
            "text/plain": [
              "λύπ*     391\n",
              "ἄλγ*      32\n",
              "ὀδύν*      3\n",
              "πόνο*    100\n",
              "dtype: int64"
            ]
          },
          "metadata": {
            "tags": []
          },
          "execution_count": 32
        }
      ]
    },
    {
      "cell_type": "code",
      "metadata": {
        "id": "g2CXzUpgsCIq",
        "colab_type": "code",
        "colab": {
          "base_uri": "https://localhost:8080/",
          "height": 101
        },
        "outputId": "5df2c7c2-c662-408c-ac58-fd701c6d403d"
      },
      "source": [
        "c_hippocraticum[[\"λύπ*\", \"ἄλγ*\", \"ὀδύν*\", \"πόνο*\"]].sum()"
      ],
      "execution_count": 33,
      "outputs": [
        {
          "output_type": "execute_result",
          "data": {
            "text/plain": [
              "λύπ*      58\n",
              "ἄλγ*     315\n",
              "ὀδύν*    642\n",
              "πόνο*    651\n",
              "dtype: int64"
            ]
          },
          "metadata": {
            "tags": []
          },
          "execution_count": 33
        }
      ]
    },
    {
      "cell_type": "code",
      "metadata": {
        "id": "pLwQiKS-2Osy",
        "colab_type": "code",
        "colab": {
          "base_uri": "https://localhost:8080/",
          "height": 54
        },
        "outputId": "52dbeefd-d125-4319-d4a6-bb2452e4a3aa"
      },
      "source": [
        "# what columns we have\n",
        "# (which columns to drop while exporting to gsheet - \"string\" etc. contain large data)\n",
        "print(list(c_aristotelicum.columns))"
      ],
      "execution_count": null,
      "outputs": [
        {
          "output_type": "stream",
          "text": [
            "['filename', 'author', 'title', 'string', 'author_id', 'doc_id', 'raw_date', 'date_avr', 'date_probs', 'date_manual', 'provenience', 'wordcount', 'lemmata', 'lemmatized_sentences', 'lemmata_wordcount', 'num_of_sents', 'lemmata_repl', 'lemmatized_sentences_repl', 'λύπ*', 'ἄλγ*', 'ὀδύν*', 'πόνο*']\n"
          ],
          "name": "stdout"
        }
      ]
    },
    {
      "cell_type": "code",
      "metadata": {
        "id": "K8hQioFT9wqy",
        "colab_type": "code",
        "colab": {}
      },
      "source": [
        "# uncomment to export overview data to gsheet\n",
        "set_with_dataframe(PIA_overview.add_worksheet(\"c_aristotelicum_20200814\",1,1), c_aristotelicum.drop(['string','lemmata', 'lemmatized_sentences', 'lemmatized_sentences_repl', 'lemmata_repl'], axis=1))\n",
        "set_with_dataframe(PIA_overview.add_worksheet(\"c_hippocraticum_20200814\",1,1), c_hippocraticum.drop(['string','lemmata', 'lemmatized_sentences', 'lemmatized_sentences_repl', 'lemmata_repl'], axis=1))"
      ],
      "execution_count": 34,
      "outputs": []
    },
    {
      "cell_type": "markdown",
      "metadata": {
        "id": "glCryz0uQiBj",
        "colab_type": "text"
      },
      "source": [
        "# Overview graphs"
      ]
    },
    {
      "cell_type": "code",
      "metadata": {
        "id": "qlLN2nDgwNBc",
        "colab_type": "code",
        "colab": {}
      },
      "source": [
        "for term in [\"λύπ*\", \"ἄλγ*\", \"ὀδύν*\",\t\"πόνο*\"]:\n",
        "  c_aristotelicum[term + \"_weighted\"] = c_aristotelicum.apply(lambda row: row[term] / row[\"lemmata_wordcount\"], axis=1)\n",
        "  c_hippocraticum[term + \"_weighted\"] = c_hippocraticum.apply(lambda row: row[term] / row[\"lemmata_wordcount\"], axis=1)\n",
        "c_aristotelicum[\"weighted_sum\"] = c_aristotelicum.apply(lambda row: (row[\"λύπ*\"] + row[\"ἄλγ*\"] + row[\"ὀδύν*\"] + row[\"πόνο*\"]) / row[\"lemmata_wordcount\"], axis=1)\n",
        "c_hippocraticum[\"weighted_sum\"] = c_hippocraticum.apply(lambda row: (row[\"λύπ*\"] + row[\"ἄλγ*\"] + row[\"ὀδύν*\"] + row[\"πόνο*\"]) / row[\"lemmata_wordcount\"], axis=1)"
      ],
      "execution_count": 38,
      "outputs": []
    },
    {
      "cell_type": "code",
      "metadata": {
        "id": "knt_4R4AQhgF",
        "colab_type": "code",
        "colab": {
          "base_uri": "https://localhost:8080/",
          "height": 1000
        },
        "outputId": "d1256d0d-d4ad-4d76-8fa8-36907d0b40a3"
      },
      "source": [
        "c_aristotelicum"
      ],
      "execution_count": 39,
      "outputs": [
        {
          "output_type": "execute_result",
          "data": {
            "text/html": [
              "<div>\n",
              "<style scoped>\n",
              "    .dataframe tbody tr th:only-of-type {\n",
              "        vertical-align: middle;\n",
              "    }\n",
              "\n",
              "    .dataframe tbody tr th {\n",
              "        vertical-align: top;\n",
              "    }\n",
              "\n",
              "    .dataframe thead th {\n",
              "        text-align: right;\n",
              "    }\n",
              "</style>\n",
              "<table border=\"1\" class=\"dataframe\">\n",
              "  <thead>\n",
              "    <tr style=\"text-align: right;\">\n",
              "      <th></th>\n",
              "      <th>filename</th>\n",
              "      <th>author</th>\n",
              "      <th>title</th>\n",
              "      <th>string</th>\n",
              "      <th>author_id</th>\n",
              "      <th>doc_id</th>\n",
              "      <th>raw_date</th>\n",
              "      <th>date_avr</th>\n",
              "      <th>date_probs</th>\n",
              "      <th>date_manual</th>\n",
              "      <th>provenience</th>\n",
              "      <th>wordcount</th>\n",
              "      <th>lemmata</th>\n",
              "      <th>lemmatized_sentences</th>\n",
              "      <th>lemmata_wordcount</th>\n",
              "      <th>num_of_sents</th>\n",
              "      <th>lemmata_repl</th>\n",
              "      <th>lemmatized_sentences_repl</th>\n",
              "      <th>λύπ*</th>\n",
              "      <th>ἄλγ*</th>\n",
              "      <th>ὀδύν*</th>\n",
              "      <th>πόνο*</th>\n",
              "      <th>λύπ*_weighted</th>\n",
              "      <th>ἄλγ*_weighted</th>\n",
              "      <th>ὀδύν*_weighted</th>\n",
              "      <th>πόνο*_weighted</th>\n",
              "      <th>weighted_sum</th>\n",
              "    </tr>\n",
              "  </thead>\n",
              "  <tbody>\n",
              "    <tr>\n",
              "      <th>678</th>\n",
              "      <td>tlg0086.tlg001.1st1K-grc2.xml</td>\n",
              "      <td>Aristotle</td>\n",
              "      <td>Aristotelis Analytica Priora et Posteriora; Ar...</td>\n",
              "      <td>ΑΝΑΛΥΤΙΚΩΝ ΠΡΟΤΕΡΩΝ Α. Πρῶτον εἰπεῖν περὶ τί κ...</td>\n",
              "      <td>tlg0086</td>\n",
              "      <td>tlg0086.tlg001</td>\n",
              "      <td>4 B.C.</td>\n",
              "      <td>-3.5</td>\n",
              "      <td>{'-3.5': 1}</td>\n",
              "      <td>-3.5</td>\n",
              "      <td>pagan</td>\n",
              "      <td>59772</td>\n",
              "      <td>[αναλυτικων, πρότερος, πρότερος, εἶπον, σκέψις...</td>\n",
              "      <td>[[αναλυτικων, πρότερος], [πρότερος, εἶπον, σκέ...</td>\n",
              "      <td>21150</td>\n",
              "      <td>3645</td>\n",
              "      <td>[αναλυτικων, πρότερος, πρότερος, εἶπον, σκέψις...</td>\n",
              "      <td>[[αναλυτικων, πρότερος], [πρότερος, εἶπον, σκέ...</td>\n",
              "      <td>0</td>\n",
              "      <td>1</td>\n",
              "      <td>0</td>\n",
              "      <td>0</td>\n",
              "      <td>0.000000</td>\n",
              "      <td>0.000047</td>\n",
              "      <td>0.000000</td>\n",
              "      <td>0.000000</td>\n",
              "      <td>0.000047</td>\n",
              "    </tr>\n",
              "    <tr>\n",
              "      <th>679</th>\n",
              "      <td>tlg0086.tlg002.1st1K-grc2.xml</td>\n",
              "      <td>Aristotle</td>\n",
              "      <td>De anima; Aritoteles De anima</td>\n",
              "      <td>ΠEP1 ΨΥΧΗΣ Α Τῶν καλῶν καὶ τιμίων τὴν εἴδησιν ...</td>\n",
              "      <td>tlg0086</td>\n",
              "      <td>tlg0086.tlg002</td>\n",
              "      <td>4 B.C.</td>\n",
              "      <td>-3.5</td>\n",
              "      <td>{'-3.5': 1}</td>\n",
              "      <td>-3.5</td>\n",
              "      <td>pagan</td>\n",
              "      <td>20988</td>\n",
              "      <td>[ψυχή, κᾶλον, τίμιος, εἶδος, μαλλός, ἕτερος, ἕ...</td>\n",
              "      <td>[[ψυχή, κᾶλον, τίμιος, εἶδος, μαλλός, ἕτερος, ...</td>\n",
              "      <td>8893</td>\n",
              "      <td>1306</td>\n",
              "      <td>[ψυχή, κᾶλον, τίμιος, εἶδος, μαλλός, ἕτερος, ἕ...</td>\n",
              "      <td>[[ψυχή, κᾶλον, τίμιος, εἶδος, μαλλός, ἕτερος, ...</td>\n",
              "      <td>12</td>\n",
              "      <td>0</td>\n",
              "      <td>0</td>\n",
              "      <td>0</td>\n",
              "      <td>0.001349</td>\n",
              "      <td>0.000000</td>\n",
              "      <td>0.000000</td>\n",
              "      <td>0.000000</td>\n",
              "      <td>0.001349</td>\n",
              "    </tr>\n",
              "    <tr>\n",
              "      <th>681</th>\n",
              "      <td>tlg0086.tlg005.1st1K-grc1.xml</td>\n",
              "      <td>Aristotle</td>\n",
              "      <td>De caelo; Aristoteles De coelo et De generatio...</td>\n",
              "      <td>ΠEPI ΟΥΡΑΝΟΥ A. Ἡ περὶ φύσεως ἐπιστήμη σχεδὸν ...</td>\n",
              "      <td>tlg0086</td>\n",
              "      <td>tlg0086.tlg005</td>\n",
              "      <td>4 B.C.</td>\n",
              "      <td>-3.5</td>\n",
              "      <td>{'-3.5': 1}</td>\n",
              "      <td>-3.5</td>\n",
              "      <td>pagan</td>\n",
              "      <td>31395</td>\n",
              "      <td>[οὐρανός, φύσις, ἐπιστήμη, πλεῖστος, φαίνω, σῶ...</td>\n",
              "      <td>[[οὐρανός], [φύσις, ἐπιστήμη, πλεῖστος, φαίνω,...</td>\n",
              "      <td>12915</td>\n",
              "      <td>1986</td>\n",
              "      <td>[οὐρανός, φύσις, ἐπιστήμη, πλεῖστος, φαίνω, σῶ...</td>\n",
              "      <td>[[οὐρανός], [φύσις, ἐπιστήμη, πλεῖστος, φαίνω,...</td>\n",
              "      <td>0</td>\n",
              "      <td>0</td>\n",
              "      <td>0</td>\n",
              "      <td>1</td>\n",
              "      <td>0.000000</td>\n",
              "      <td>0.000000</td>\n",
              "      <td>0.000000</td>\n",
              "      <td>0.000077</td>\n",
              "      <td>0.000077</td>\n",
              "    </tr>\n",
              "    <tr>\n",
              "      <th>682</th>\n",
              "      <td>tlg0086.tlg006.1st1K-grc1.xml</td>\n",
              "      <td>Aristotle</td>\n",
              "      <td>Categoriae; Aristotelis Opera</td>\n",
              "      <td>ΚΑΤΗΓΟΡΙΑΙ. ὉΜΩΝΥΜΑ λέγεται ὧν ὄνομα μόνον κοι...</td>\n",
              "      <td>tlg0086</td>\n",
              "      <td>tlg0086.tlg006</td>\n",
              "      <td>4 B.C.</td>\n",
              "      <td>-3.5</td>\n",
              "      <td>{'-3.5': 1}</td>\n",
              "      <td>-3.5</td>\n",
              "      <td>pagan</td>\n",
              "      <td>10317</td>\n",
              "      <td>[κατηγορία, ὁμωνυμα, λέγω, ὄνομα, μόνος, κοινό...</td>\n",
              "      <td>[[κατηγορία], [ὁμωνυμα, λέγω, ὄνομα, μόνος, κο...</td>\n",
              "      <td>4372</td>\n",
              "      <td>659</td>\n",
              "      <td>[κατηγορία, ὁμωνυμα, λέγω, ὄνομα, μόνος, κοινό...</td>\n",
              "      <td>[[κατηγορία], [ὁμωνυμα, λέγω, ὄνομα, μόνος, κο...</td>\n",
              "      <td>2</td>\n",
              "      <td>0</td>\n",
              "      <td>0</td>\n",
              "      <td>0</td>\n",
              "      <td>0.000457</td>\n",
              "      <td>0.000000</td>\n",
              "      <td>0.000000</td>\n",
              "      <td>0.000000</td>\n",
              "      <td>0.000457</td>\n",
              "    </tr>\n",
              "    <tr>\n",
              "      <th>683</th>\n",
              "      <td>tlg0086.tlg008.1st1K-grc1.xml</td>\n",
              "      <td>Aristotle</td>\n",
              "      <td>De divinatione per somnum; Aristotelis Opera</td>\n",
              "      <td>ΠΕΡΙ ΕΝΥΠΝΙΩΝ ΚΑΙ ΤΗΣ ΚΑΘ’ ΥΠΝΟΝ ΜΑΝΤΙΚΗΣ. Περ...</td>\n",
              "      <td>tlg0086</td>\n",
              "      <td>tlg0086.tlg008</td>\n",
              "      <td>4 B.C.</td>\n",
              "      <td>-3.5</td>\n",
              "      <td>{'-3.5': 1}</td>\n",
              "      <td>-3.5</td>\n",
              "      <td>pagan</td>\n",
              "      <td>1207</td>\n",
              "      <td>[ἐνύπνιον, ἀκή, ἄατος, ὕπνος, μαντικός, μαντικ...</td>\n",
              "      <td>[[ἐνύπνιον, ἀκή, ἄατος, ὕπνος, μαντικός], [μαν...</td>\n",
              "      <td>533</td>\n",
              "      <td>69</td>\n",
              "      <td>[ἐνύπνιον, ἀκή, ἄατος, ὕπνος, μαντικός, μαντικ...</td>\n",
              "      <td>[[ἐνύπνιον, ἀκή, ἄατος, ὕπνος, μαντικός], [μαν...</td>\n",
              "      <td>0</td>\n",
              "      <td>0</td>\n",
              "      <td>0</td>\n",
              "      <td>0</td>\n",
              "      <td>0.000000</td>\n",
              "      <td>0.000000</td>\n",
              "      <td>0.000000</td>\n",
              "      <td>0.000000</td>\n",
              "      <td>0.000000</td>\n",
              "    </tr>\n",
              "    <tr>\n",
              "      <th>684</th>\n",
              "      <td>tlg0086.tlg009.perseus-grc1.xml</td>\n",
              "      <td>Aristotle</td>\n",
              "      <td>Eudemian Ethics (Greek). Machine readable text...</td>\n",
              "      <td>ὁ μὲν ἐν Δήλῳ παρὰ τῷ θεῷ τὴν αὑτοῦ γνώμην ἀπο...</td>\n",
              "      <td>tlg0086</td>\n",
              "      <td>tlg0086.tlg009</td>\n",
              "      <td>4 B.C.</td>\n",
              "      <td>-3.5</td>\n",
              "      <td>{'-3.5': 1}</td>\n",
              "      <td>-3.5</td>\n",
              "      <td>pagan</td>\n",
              "      <td>26361</td>\n",
              "      <td>[δῆλος, θεός, γνώμη, συγγράφω, προπύλαιος, Λητ...</td>\n",
              "      <td>[[δῆλος, θεός, γνώμη, συγγράφω, προπύλαιος, Λη...</td>\n",
              "      <td>11158</td>\n",
              "      <td>1676</td>\n",
              "      <td>[δῆλος, θεός, γνώμη, συγγράφω, προπύλαιος, Λητ...</td>\n",
              "      <td>[[δῆλος, θεός, γνώμη, συγγράφω, προπύλαιος, Λη...</td>\n",
              "      <td>72</td>\n",
              "      <td>3</td>\n",
              "      <td>1</td>\n",
              "      <td>7</td>\n",
              "      <td>0.006453</td>\n",
              "      <td>0.000269</td>\n",
              "      <td>0.000090</td>\n",
              "      <td>0.000627</td>\n",
              "      <td>0.007439</td>\n",
              "    </tr>\n",
              "    <tr>\n",
              "      <th>685</th>\n",
              "      <td>tlg0086.tlg010.perseus-grc1.xml</td>\n",
              "      <td>Aristotle</td>\n",
              "      <td>Nicomachean Ethics; Machine readable text; ed....</td>\n",
              "      <td>βοοκ 1 πᾶσα τέχνη καὶ πᾶσα μέθοδος, ὁμοίως δὲ ...</td>\n",
              "      <td>tlg0086</td>\n",
              "      <td>tlg0086.tlg010</td>\n",
              "      <td>4 B.C.</td>\n",
              "      <td>-3.5</td>\n",
              "      <td>{'-3.5': 1}</td>\n",
              "      <td>-3.5</td>\n",
              "      <td>pagan</td>\n",
              "      <td>56638</td>\n",
              "      <td>[βοοκ, πᾶς, τέχνη, πᾶς, μέθοδος, ὅμοιος, πρᾶξί...</td>\n",
              "      <td>[[βοοκ, πᾶς, τέχνη, πᾶς, μέθοδος, ὅμοιος, πρᾶξ...</td>\n",
              "      <td>23811</td>\n",
              "      <td>3897</td>\n",
              "      <td>[βοοκ, πᾶς, τέχνη, πᾶς, μέθοδος, ὅμοιος, πρᾶξί...</td>\n",
              "      <td>[[βοοκ, πᾶς, τέχνη, πᾶς, μέθοδος, ὅμοιος, πρᾶξ...</td>\n",
              "      <td>148</td>\n",
              "      <td>6</td>\n",
              "      <td>0</td>\n",
              "      <td>11</td>\n",
              "      <td>0.006216</td>\n",
              "      <td>0.000252</td>\n",
              "      <td>0.000000</td>\n",
              "      <td>0.000462</td>\n",
              "      <td>0.006930</td>\n",
              "    </tr>\n",
              "    <tr>\n",
              "      <th>687</th>\n",
              "      <td>tlg0086.tlg014.1st1K-grc1.xml</td>\n",
              "      <td>Aristotle</td>\n",
              "      <td>Historia animalium; Aristotelis Opera</td>\n",
              "      <td>ΠΕΡΙ ΤΑ ΖΩΙΑ ΙΣΤΟΡΙΩΝ Α. ΤΩΝ ἐν τοῖς ζῴοις μορ...</td>\n",
              "      <td>tlg0086</td>\n",
              "      <td>tlg0086.tlg014</td>\n",
              "      <td>4 B.C.</td>\n",
              "      <td>-3.5</td>\n",
              "      <td>{'-3.5': 1}</td>\n",
              "      <td>-3.5</td>\n",
              "      <td>pagan</td>\n",
              "      <td>94068</td>\n",
              "      <td>[ζωια, ἱστορία, ζῷον, μορία, ἀσύνθετος, ὅσος, ...</td>\n",
              "      <td>[[ζωια, ἱστορία], [ζῷον, μορία, ἀσύνθετος, ὅσο...</td>\n",
              "      <td>43435</td>\n",
              "      <td>6345</td>\n",
              "      <td>[ζωια, ἱστορία, ζῷον, μορία, ἀσύνθετος, ὅσος, ...</td>\n",
              "      <td>[[ζωια, ἱστορία], [ζῷον, μορία, ἀσύνθετος, ὅσο...</td>\n",
              "      <td>5</td>\n",
              "      <td>11</td>\n",
              "      <td>0</td>\n",
              "      <td>39</td>\n",
              "      <td>0.000115</td>\n",
              "      <td>0.000253</td>\n",
              "      <td>0.000000</td>\n",
              "      <td>0.000898</td>\n",
              "      <td>0.001266</td>\n",
              "    </tr>\n",
              "    <tr>\n",
              "      <th>689</th>\n",
              "      <td>tlg0086.tlg016.1st1K-grc1.xml</td>\n",
              "      <td>Aristotle</td>\n",
              "      <td>De insomniis; Aristotelis Opera</td>\n",
              "      <td>Μετὰ δὲ ταῦτα περὶ ἐνυπνίου ζητητέον, καὶ πρῶτ...</td>\n",
              "      <td>tlg0086</td>\n",
              "      <td>tlg0086.tlg016</td>\n",
              "      <td>4 B.C.</td>\n",
              "      <td>-3.5</td>\n",
              "      <td>{'-3.5': 1}</td>\n",
              "      <td>-3.5</td>\n",
              "      <td>pagan</td>\n",
              "      <td>2436</td>\n",
              "      <td>[ἐνύπνιον, ζητητέος, πρότερος, ψυχή, φαίνω, πό...</td>\n",
              "      <td>[[ἐνύπνιον, ζητητέος, πρότερος, ψυχή, φαίνω, π...</td>\n",
              "      <td>1041</td>\n",
              "      <td>129</td>\n",
              "      <td>[ἐνύπνιον, ζητητέος, πρότερος, ψυχή, φαίνω, πό...</td>\n",
              "      <td>[[ἐνύπνιον, ζητητέος, πρότερος, ψυχή, φαίνω, π...</td>\n",
              "      <td>1</td>\n",
              "      <td>0</td>\n",
              "      <td>0</td>\n",
              "      <td>0</td>\n",
              "      <td>0.000961</td>\n",
              "      <td>0.000000</td>\n",
              "      <td>0.000000</td>\n",
              "      <td>0.000000</td>\n",
              "      <td>0.000961</td>\n",
              "    </tr>\n",
              "    <tr>\n",
              "      <th>690</th>\n",
              "      <td>tlg0086.tlg017.1st1K-grc1.xml</td>\n",
              "      <td>Aristotle</td>\n",
              "      <td>De interpretatione; Aristotelis Opera</td>\n",
              "      <td>ΠΕΡΙ ΕΡΜΗΝΕΙΑΣ. ΠΡΩΤΟΝ δεῖ θέσθαι τί ὄνομα καὶ...</td>\n",
              "      <td>tlg0086</td>\n",
              "      <td>tlg0086.tlg017</td>\n",
              "      <td>4 B.C.</td>\n",
              "      <td>-3.5</td>\n",
              "      <td>{'-3.5': 1}</td>\n",
              "      <td>-3.5</td>\n",
              "      <td>pagan</td>\n",
              "      <td>6273</td>\n",
              "      <td>[ἑρμηνεία, πρότερος, δεῖ, τίθημι, ὄνομα, ῥῆμα,...</td>\n",
              "      <td>[[ἑρμηνεία], [πρότερος, δεῖ, τίθημι, ὄνομα, ῥῆ...</td>\n",
              "      <td>2418</td>\n",
              "      <td>394</td>\n",
              "      <td>[ἑρμηνεία, πρότερος, δεῖ, τίθημι, ὄνομα, ῥῆμα,...</td>\n",
              "      <td>[[ἑρμηνεία], [πρότερος, δεῖ, τίθημι, ὄνομα, ῥῆ...</td>\n",
              "      <td>0</td>\n",
              "      <td>0</td>\n",
              "      <td>0</td>\n",
              "      <td>0</td>\n",
              "      <td>0.000000</td>\n",
              "      <td>0.000000</td>\n",
              "      <td>0.000000</td>\n",
              "      <td>0.000000</td>\n",
              "      <td>0.000000</td>\n",
              "    </tr>\n",
              "    <tr>\n",
              "      <th>691</th>\n",
              "      <td>tlg0086.tlg018.1st1K-grc1.xml</td>\n",
              "      <td>Aristotle</td>\n",
              "      <td>De iuventute et senectute, De vita et morte; A...</td>\n",
              "      <td>ΠΕΡΙ ΝΕΟΤΗΤΟΣ ΚΑΙ ΓΗΡΩΣ. ΠΕΡΙ ΖΩΗΣ ΚΑΙ ΘΑΝΑΤΟΥ...</td>\n",
              "      <td>tlg0086</td>\n",
              "      <td>tlg0086.tlg018</td>\n",
              "      <td>4 B.C.</td>\n",
              "      <td>-3.5</td>\n",
              "      <td>{'-3.5': 1}</td>\n",
              "      <td>-3.5</td>\n",
              "      <td>pagan</td>\n",
              "      <td>1853</td>\n",
              "      <td>[νεότης, ἀκή, γῆρας, ζωή, ἀκή, θάνατος, νεότης...</td>\n",
              "      <td>[[νεότης, ἀκή, γῆρας], [ζωή, ἀκή, θάνατος], [ν...</td>\n",
              "      <td>804</td>\n",
              "      <td>97</td>\n",
              "      <td>[νεότης, ἀκή, γῆρας, ζωή, ἀκή, θάνατος, νεότης...</td>\n",
              "      <td>[[νεότης, ἀκή, γῆρας], [ζωή, ἀκή, θάνατος], [ν...</td>\n",
              "      <td>0</td>\n",
              "      <td>0</td>\n",
              "      <td>0</td>\n",
              "      <td>0</td>\n",
              "      <td>0.000000</td>\n",
              "      <td>0.000000</td>\n",
              "      <td>0.000000</td>\n",
              "      <td>0.000000</td>\n",
              "      <td>0.000000</td>\n",
              "    </tr>\n",
              "    <tr>\n",
              "      <th>692</th>\n",
              "      <td>tlg0086.tlg020.1st1K-grc1.xml</td>\n",
              "      <td>Aristotle</td>\n",
              "      <td>De longitudine et brevitate vitae; Aristotelis...</td>\n",
              "      <td>ΠΕΡΙ ΜΑΚΡΟΒΙΟΤΗΤΟΣ ΚΑΙ ΒΡΑΧΥΒΙΟΤΗΤΟΣ. Περὶ δὲ ...</td>\n",
              "      <td>tlg0086</td>\n",
              "      <td>tlg0086.tlg020</td>\n",
              "      <td>4 B.C.</td>\n",
              "      <td>-3.5</td>\n",
              "      <td>{'-3.5': 1}</td>\n",
              "      <td>-3.5</td>\n",
              "      <td>pagan</td>\n",
              "      <td>1793</td>\n",
              "      <td>[μακροβιότης, ἀκή, βραχυβιοτητος, μακρόβια, ζω...</td>\n",
              "      <td>[[μακροβιότης, ἀκή, βραχυβιοτητος], [μακρόβια,...</td>\n",
              "      <td>786</td>\n",
              "      <td>134</td>\n",
              "      <td>[μακροβιότης, ἀκή, βραχυβιοτητος, μακρόβια, ζω...</td>\n",
              "      <td>[[μακροβιότης, ἀκή, βραχυβιοτητος], [μακρόβια,...</td>\n",
              "      <td>0</td>\n",
              "      <td>0</td>\n",
              "      <td>0</td>\n",
              "      <td>3</td>\n",
              "      <td>0.000000</td>\n",
              "      <td>0.000000</td>\n",
              "      <td>0.000000</td>\n",
              "      <td>0.003817</td>\n",
              "      <td>0.003817</td>\n",
              "    </tr>\n",
              "    <tr>\n",
              "      <th>693</th>\n",
              "      <td>tlg0086.tlg021.1st1K-grc1.xml</td>\n",
              "      <td>Aristoteles</td>\n",
              "      <td>De animalium incessu; Aristotelis De animalium...</td>\n",
              "      <td>ΠΕΡΙ ΠΟΡΕΙΑΣ ΖΩΙΩΝ p. 704a Περὶ δὲ τῶν χρησίμω...</td>\n",
              "      <td>tlg0086</td>\n",
              "      <td>tlg0086.tlg021</td>\n",
              "      <td>4 B.C.</td>\n",
              "      <td>-3.5</td>\n",
              "      <td>{'-3.5': 1}</td>\n",
              "      <td>-3.5</td>\n",
              "      <td>pagan</td>\n",
              "      <td>9233</td>\n",
              "      <td>[πορεία, ζωιων, χρήσιμος, μορία, ζῷον, κίνησις...</td>\n",
              "      <td>[[πορεία, ζωιων], [χρήσιμος, μορία, ζῷον, κίνη...</td>\n",
              "      <td>3041</td>\n",
              "      <td>456</td>\n",
              "      <td>[πορεία, ζωιων, χρήσιμος, μορία, ζῷον, κίνησις...</td>\n",
              "      <td>[[πορεία, ζωιων], [χρήσιμος, μορία, ζῷον, κίνη...</td>\n",
              "      <td>0</td>\n",
              "      <td>0</td>\n",
              "      <td>0</td>\n",
              "      <td>2</td>\n",
              "      <td>0.000000</td>\n",
              "      <td>0.000000</td>\n",
              "      <td>0.000000</td>\n",
              "      <td>0.000658</td>\n",
              "      <td>0.000658</td>\n",
              "    </tr>\n",
              "    <tr>\n",
              "      <th>694</th>\n",
              "      <td>tlg0086.tlg022.1st1K-grc1.xml</td>\n",
              "      <td>Aristotle</td>\n",
              "      <td>Magna Moralia; Aristotelis Quae Feruntur Magna...</td>\n",
              "      <td>ΗΟΙΚΩΝ ΜΕΓΑΛΩΝ Α. Ἐπειδὴ προαιρούμεθα λέγειν ὑ...</td>\n",
              "      <td>tlg0086</td>\n",
              "      <td>tlg0086.tlg022</td>\n",
              "      <td>4 B.C.</td>\n",
              "      <td>-3.5</td>\n",
              "      <td>{'-3.5': 1}</td>\n",
              "      <td>-3.5</td>\n",
              "      <td>pagan</td>\n",
              "      <td>35300</td>\n",
              "      <td>[ηοικων, μέγας, ἐπειδη, προαιρέω, λέγω, ἠθικός...</td>\n",
              "      <td>[[ηοικων, μέγας], [ἐπειδη, προαιρέω, λέγω, ἠθι...</td>\n",
              "      <td>11449</td>\n",
              "      <td>2520</td>\n",
              "      <td>[ηοικων, μέγας, ἐπειδη, προαιρέω, λέγω, ἠθικός...</td>\n",
              "      <td>[[ηοικων, μέγας], [ἐπειδη, προαιρέω, λέγω, ἠθι...</td>\n",
              "      <td>39</td>\n",
              "      <td>0</td>\n",
              "      <td>0</td>\n",
              "      <td>1</td>\n",
              "      <td>0.003406</td>\n",
              "      <td>0.000000</td>\n",
              "      <td>0.000000</td>\n",
              "      <td>0.000087</td>\n",
              "      <td>0.003494</td>\n",
              "    </tr>\n",
              "    <tr>\n",
              "      <th>695</th>\n",
              "      <td>tlg0086.tlg024.1st1K-grc1.xml</td>\n",
              "      <td>Aristotle</td>\n",
              "      <td>De memoria et reminiscentia; Aristotelis Opera</td>\n",
              "      <td>ΠΕΡΙ ΜΝΗΜΗΣ ΚΑΙ ΑΝΑΜΝΗΣΕΩΣ. Περὶ μὲν οῦν τῶν α...</td>\n",
              "      <td>tlg0086</td>\n",
              "      <td>tlg0086.tlg024</td>\n",
              "      <td>4 B.C.</td>\n",
              "      <td>-3.5</td>\n",
              "      <td>{'-3.5': 1}</td>\n",
              "      <td>-3.5</td>\n",
              "      <td>pagan</td>\n",
              "      <td>2519</td>\n",
              "      <td>[μνήμη, ἀκή, ἀνάμνησις, οῦν, αἰσθητήριον, αἰσθ...</td>\n",
              "      <td>[[μνήμη, ἀκή, ἀνάμνησις], [οῦν, αἰσθητήριον, α...</td>\n",
              "      <td>1022</td>\n",
              "      <td>170</td>\n",
              "      <td>[μνήμη, ἀκή, ἀνάμνησις, οῦν, αἰσθητήριον, αἰσθ...</td>\n",
              "      <td>[[μνήμη, ἀκή, ἀνάμνησις], [οῦν, αἰσθητήριον, α...</td>\n",
              "      <td>0</td>\n",
              "      <td>0</td>\n",
              "      <td>0</td>\n",
              "      <td>0</td>\n",
              "      <td>0.000000</td>\n",
              "      <td>0.000000</td>\n",
              "      <td>0.000000</td>\n",
              "      <td>0.000000</td>\n",
              "      <td>0.000000</td>\n",
              "    </tr>\n",
              "    <tr>\n",
              "      <th>696</th>\n",
              "      <td>tlg0086.tlg025.perseus-grc1.xml</td>\n",
              "      <td>Aristotle</td>\n",
              "      <td>Metaphysics (Greek). Machine readable text; Ar...</td>\n",
              "      <td>πάντες ἄνθρωποι τοῦ εἰδέναι ὀρέγονται φύσει. σ...</td>\n",
              "      <td>tlg0086</td>\n",
              "      <td>tlg0086.tlg025</td>\n",
              "      <td>4 B.C.</td>\n",
              "      <td>-3.5</td>\n",
              "      <td>{'-3.5': 1}</td>\n",
              "      <td>-3.5</td>\n",
              "      <td>pagan</td>\n",
              "      <td>77373</td>\n",
              "      <td>[πᾶς, ἄνθρωπος, οἶδα, ὀρέγω, φύσις, σημεῖον, α...</td>\n",
              "      <td>[[πᾶς, ἄνθρωπος, οἶδα, ὀρέγω, φύσις], [σημεῖον...</td>\n",
              "      <td>31201</td>\n",
              "      <td>4219</td>\n",
              "      <td>[πᾶς, ἄνθρωπος, οἶδα, ὀρέγω, φύσις, σημεῖον, α...</td>\n",
              "      <td>[[πᾶς, ἄνθρωπος, οἶδα, ὀρέγω, φύσις], [σημεῖον...</td>\n",
              "      <td>5</td>\n",
              "      <td>0</td>\n",
              "      <td>0</td>\n",
              "      <td>2</td>\n",
              "      <td>0.000160</td>\n",
              "      <td>0.000000</td>\n",
              "      <td>0.000000</td>\n",
              "      <td>0.000064</td>\n",
              "      <td>0.000224</td>\n",
              "    </tr>\n",
              "    <tr>\n",
              "      <th>697</th>\n",
              "      <td>tlg0086.tlg026.1st1K-grc2.xml</td>\n",
              "      <td>Aristotle</td>\n",
              "      <td>Meteorologica; Aristotelis Meteorologicorum Li...</td>\n",
              "      <td>ΜΕΤΕΩΡΟΛΟΓΙΚΩΝ Α 1 Περὶ μὲν οὖν τῶν πρώτων αἰτ...</td>\n",
              "      <td>tlg0086</td>\n",
              "      <td>tlg0086.tlg026</td>\n",
              "      <td>4 B.C.</td>\n",
              "      <td>-3.5</td>\n",
              "      <td>{'-3.5': 1}</td>\n",
              "      <td>-3.5</td>\n",
              "      <td>pagan</td>\n",
              "      <td>74190</td>\n",
              "      <td>[μετεωρολογικων, πρότερος, αἰτία, φύσις, πᾶς, ...</td>\n",
              "      <td>[[μετεωρολογικων, πρότερος, αἰτία, φύσις, πᾶς,...</td>\n",
              "      <td>22277</td>\n",
              "      <td>5796</td>\n",
              "      <td>[μετεωρολογικων, πρότερος, αἰτία, φύσις, πᾶς, ...</td>\n",
              "      <td>[[μετεωρολογικων, πρότερος, αἰτία, φύσις, πᾶς,...</td>\n",
              "      <td>0</td>\n",
              "      <td>0</td>\n",
              "      <td>0</td>\n",
              "      <td>0</td>\n",
              "      <td>0.000000</td>\n",
              "      <td>0.000000</td>\n",
              "      <td>0.000000</td>\n",
              "      <td>0.000000</td>\n",
              "      <td>0.000000</td>\n",
              "    </tr>\n",
              "    <tr>\n",
              "      <th>698</th>\n",
              "      <td>tlg0086.tlg029.perseus-grc1.xml</td>\n",
              "      <td>Aristotle</td>\n",
              "      <td>Economics (Greek). Machine readable text; Aris...</td>\n",
              "      <td>ἡ οἰκονομικὴ καὶ πολιτικὴ διαφέρει οὐ μόνον το...</td>\n",
              "      <td>tlg0086</td>\n",
              "      <td>tlg0086.tlg029</td>\n",
              "      <td>4 B.C.</td>\n",
              "      <td>-3.5</td>\n",
              "      <td>{'-3.5': 1}</td>\n",
              "      <td>-3.5</td>\n",
              "      <td>pagan</td>\n",
              "      <td>6228</td>\n",
              "      <td>[οἰκονομικη, πολιτικός, διαφέρω, μόνος, τοσοῦτ...</td>\n",
              "      <td>[[οἰκονομικη, πολιτικός, διαφέρω, μόνος, τοσοῦ...</td>\n",
              "      <td>2970</td>\n",
              "      <td>369</td>\n",
              "      <td>[οἰκονομικη, πολιτικός, διαφέρω, μόνος, τοσοῦτ...</td>\n",
              "      <td>[[οἰκονομικη, πολιτικός, διαφέρω, μόνος, τοσοῦ...</td>\n",
              "      <td>0</td>\n",
              "      <td>0</td>\n",
              "      <td>0</td>\n",
              "      <td>3</td>\n",
              "      <td>0.000000</td>\n",
              "      <td>0.000000</td>\n",
              "      <td>0.000000</td>\n",
              "      <td>0.001010</td>\n",
              "      <td>0.001010</td>\n",
              "    </tr>\n",
              "    <tr>\n",
              "      <th>699</th>\n",
              "      <td>tlg0086.tlg030.1st1K-grc1.xml</td>\n",
              "      <td>Aristotle</td>\n",
              "      <td>De partibus animalium; Aristotelis De Partibus...</td>\n",
              "      <td>ΠΕΡΙ ΖΩΙΩΝ ΜΟΡΙΩΝ Α. 369, a Περὶ πᾶσαν θεωρίαν...</td>\n",
              "      <td>tlg0086</td>\n",
              "      <td>tlg0086.tlg030</td>\n",
              "      <td>4 B.C.</td>\n",
              "      <td>-3.5</td>\n",
              "      <td>{'-3.5': 1}</td>\n",
              "      <td>-3.5</td>\n",
              "      <td>pagan</td>\n",
              "      <td>41267</td>\n",
              "      <td>[ζωιων, μορία, πᾶς, θεωρία, μέθοδος, ὅμοιος, τ...</td>\n",
              "      <td>[[ζωιων, μορία], [πᾶς, θεωρία, μέθοδος, ὅμοιος...</td>\n",
              "      <td>18150</td>\n",
              "      <td>2303</td>\n",
              "      <td>[ζωιων, μορία, πᾶς, θεωρία, μέθοδος, ὅμοιος, τ...</td>\n",
              "      <td>[[ζωιων, μορία], [πᾶς, θεωρία, μέθοδος, ὅμοιος...</td>\n",
              "      <td>4</td>\n",
              "      <td>1</td>\n",
              "      <td>1</td>\n",
              "      <td>5</td>\n",
              "      <td>0.000220</td>\n",
              "      <td>0.000055</td>\n",
              "      <td>0.000055</td>\n",
              "      <td>0.000275</td>\n",
              "      <td>0.000606</td>\n",
              "    </tr>\n",
              "    <tr>\n",
              "      <th>700</th>\n",
              "      <td>tlg0086.tlg031.1st1K-grc1.xml</td>\n",
              "      <td>Aristotle</td>\n",
              "      <td>Physica; Aristotelis Physica</td>\n",
              "      <td>ΦΥΣΙΚΗΣ ΑΚΡΟΑΣΕΩΣ Α Ἐπειθὴ τὸ εἰδέναι καὶ τὸ ἐ...</td>\n",
              "      <td>tlg0086</td>\n",
              "      <td>tlg0086.tlg031</td>\n",
              "      <td>4 B.C.</td>\n",
              "      <td>-3.5</td>\n",
              "      <td>{'-3.5': 1}</td>\n",
              "      <td>-3.5</td>\n",
              "      <td>pagan</td>\n",
              "      <td>55568</td>\n",
              "      <td>[φυσικός, ἀκρόασις, ἐπειθη, οἶδα, ἐπίσταμαι, σ...</td>\n",
              "      <td>[[φυσικός, ἀκρόασις, ἐπειθη, οἶδα, ἐπίσταμαι, ...</td>\n",
              "      <td>21330</td>\n",
              "      <td>3325</td>\n",
              "      <td>[φυσικός, ἀκρόασις, ἐπειθη, οἶδα, ἐπίσταμαι, σ...</td>\n",
              "      <td>[[φυσικός, ἀκρόασις, ἐπειθη, οἶδα, ἐπίσταμαι, ...</td>\n",
              "      <td>4</td>\n",
              "      <td>0</td>\n",
              "      <td>0</td>\n",
              "      <td>2</td>\n",
              "      <td>0.000188</td>\n",
              "      <td>0.000000</td>\n",
              "      <td>0.000000</td>\n",
              "      <td>0.000094</td>\n",
              "      <td>0.000281</td>\n",
              "    </tr>\n",
              "    <tr>\n",
              "      <th>701</th>\n",
              "      <td>tlg0086.tlg034.1st1K-grc1.xml</td>\n",
              "      <td>Aristotle</td>\n",
              "      <td>Ars Poetica; Aristotelis Opera</td>\n",
              "      <td>ΠΕΡΙ ΠΟΙΗΤΙΚΗΣ. Περι ποιητικῆς αὐτῆς τε καὶ τῶ...</td>\n",
              "      <td>tlg0086</td>\n",
              "      <td>tlg0086.tlg034</td>\n",
              "      <td>4 B.C.</td>\n",
              "      <td>-3.5</td>\n",
              "      <td>{'-3.5': 1}</td>\n",
              "      <td>-3.5</td>\n",
              "      <td>pagan</td>\n",
              "      <td>10228</td>\n",
              "      <td>[ποιητικός, ποιητικός, εἰδοί, δύναμις, ἕκαστος...</td>\n",
              "      <td>[[ποιητικός], [ποιητικός, εἰδοί, δύναμις, ἕκασ...</td>\n",
              "      <td>4515</td>\n",
              "      <td>615</td>\n",
              "      <td>[ποιητικός, ποιητικός, εἰδοί, δύναμις, ἕκαστος...</td>\n",
              "      <td>[[ποιητικός], [ποιητικός, εἰδοί, δύναμις, ἕκασ...</td>\n",
              "      <td>1</td>\n",
              "      <td>0</td>\n",
              "      <td>1</td>\n",
              "      <td>0</td>\n",
              "      <td>0.000221</td>\n",
              "      <td>0.000000</td>\n",
              "      <td>0.000221</td>\n",
              "      <td>0.000000</td>\n",
              "      <td>0.000443</td>\n",
              "    </tr>\n",
              "    <tr>\n",
              "      <th>702</th>\n",
              "      <td>tlg0086.tlg035.perseus-grc1.xml</td>\n",
              "      <td>Aristotle</td>\n",
              "      <td>Politics (Greek). Machine readable text; ed. W...</td>\n",
              "      <td>ἐπειδὴ πᾶσαν πόλιν ὁρῶμεν κοινωνίαν τινὰ οὖσαν...</td>\n",
              "      <td>tlg0086</td>\n",
              "      <td>tlg0086.tlg035</td>\n",
              "      <td>4 B.C.</td>\n",
              "      <td>-3.5</td>\n",
              "      <td>{'-3.5': 1}</td>\n",
              "      <td>-3.5</td>\n",
              "      <td>pagan</td>\n",
              "      <td>65555</td>\n",
              "      <td>[ἐπειδη, πᾶς, πόλις, ὁράω, κοινωνία, πᾶς, κοιν...</td>\n",
              "      <td>[[ἐπειδη, πᾶς, πόλις, ὁράω, κοινωνία, πᾶς, κοι...</td>\n",
              "      <td>29034</td>\n",
              "      <td>3174</td>\n",
              "      <td>[ἐπειδη, πᾶς, πόλις, ὁράω, κοινωνία, πᾶς, κοιν...</td>\n",
              "      <td>[[ἐπειδη, πᾶς, πόλις, ὁράω, κοινωνία, πᾶς, κοι...</td>\n",
              "      <td>11</td>\n",
              "      <td>0</td>\n",
              "      <td>0</td>\n",
              "      <td>17</td>\n",
              "      <td>0.000379</td>\n",
              "      <td>0.000000</td>\n",
              "      <td>0.000000</td>\n",
              "      <td>0.000586</td>\n",
              "      <td>0.000964</td>\n",
              "    </tr>\n",
              "    <tr>\n",
              "      <th>704</th>\n",
              "      <td>tlg0086.tlg038.perseus-grc1.xml</td>\n",
              "      <td>Aristotle</td>\n",
              "      <td>Rhetoric; Ars Rhetorica</td>\n",
              "      <td>ἡ ῥητορική ἐστιν ἀντίστροφος τῇ διαλεκτικῇ· ἀμ...</td>\n",
              "      <td>tlg0086</td>\n",
              "      <td>tlg0086.tlg038</td>\n",
              "      <td>4 B.C.</td>\n",
              "      <td>-3.5</td>\n",
              "      <td>{'-3.5': 1}</td>\n",
              "      <td>-3.5</td>\n",
              "      <td>pagan</td>\n",
              "      <td>43419</td>\n",
              "      <td>[ῥητορικός, ἀντίστροφος, διαλεκτικός, ἀμφότερο...</td>\n",
              "      <td>[[ῥητορικός, ἀντίστροφος, διαλεκτικός], [ἀμφότ...</td>\n",
              "      <td>18253</td>\n",
              "      <td>2855</td>\n",
              "      <td>[ῥητορικός, ἀντίστροφος, διαλεκτικός, ἀμφότερο...</td>\n",
              "      <td>[[ῥητορικός, ἀντίστροφος, διαλεκτικός], [ἀμφότ...</td>\n",
              "      <td>61</td>\n",
              "      <td>4</td>\n",
              "      <td>0</td>\n",
              "      <td>6</td>\n",
              "      <td>0.003342</td>\n",
              "      <td>0.000219</td>\n",
              "      <td>0.000000</td>\n",
              "      <td>0.000329</td>\n",
              "      <td>0.003890</td>\n",
              "    </tr>\n",
              "    <tr>\n",
              "      <th>705</th>\n",
              "      <td>tlg0086.tlg040.1st1K-grc1.xml</td>\n",
              "      <td>Aristotle</td>\n",
              "      <td>De sophisticis elenchis; Aristotelis Opera</td>\n",
              "      <td>ΠΕΡΙ ΣΟΦΙΣΤΙΚΩΝ ΕΛΕΓΧΩΝ. ΠΕΡΙ δὲ τῶν σοφιστικῶ...</td>\n",
              "      <td>tlg0086</td>\n",
              "      <td>tlg0086.tlg040</td>\n",
              "      <td>4 B.C.</td>\n",
              "      <td>-3.5</td>\n",
              "      <td>{'-3.5': 1}</td>\n",
              "      <td>-3.5</td>\n",
              "      <td>pagan</td>\n",
              "      <td>14114</td>\n",
              "      <td>[σοφιστικός, ἐλεγχής, σοφιστικός, ἐλεγχής, ἐλε...</td>\n",
              "      <td>[[σοφιστικός, ἐλεγχής], [σοφιστικός, ἐλεγχής, ...</td>\n",
              "      <td>5787</td>\n",
              "      <td>983</td>\n",
              "      <td>[σοφιστικός, ἐλεγχής, σοφιστικός, ἐλεγχής, ἐλε...</td>\n",
              "      <td>[[σοφιστικός, ἐλεγχής], [σοφιστικός, ἐλεγχής, ...</td>\n",
              "      <td>1</td>\n",
              "      <td>0</td>\n",
              "      <td>0</td>\n",
              "      <td>1</td>\n",
              "      <td>0.000173</td>\n",
              "      <td>0.000000</td>\n",
              "      <td>0.000000</td>\n",
              "      <td>0.000173</td>\n",
              "      <td>0.000346</td>\n",
              "    </tr>\n",
              "    <tr>\n",
              "      <th>706</th>\n",
              "      <td>tlg0086.tlg041.1st1K-grc1.xml</td>\n",
              "      <td>Aristotle</td>\n",
              "      <td>De sensu et sensibilibus; Aristotelis Opera</td>\n",
              "      <td>ΠΕΡΙ ΑΙΣΘΗΣΕΩΣ ΚΑΙ ΑΙΣΘΗΤΩΝ. ἘΠΕΙ δὲ περὶ ψυχῆ...</td>\n",
              "      <td>tlg0086</td>\n",
              "      <td>tlg0086.tlg041</td>\n",
              "      <td>4 B.C.</td>\n",
              "      <td>-3.5</td>\n",
              "      <td>{'-3.5': 1}</td>\n",
              "      <td>-3.5</td>\n",
              "      <td>pagan</td>\n",
              "      <td>7872</td>\n",
              "      <td>[αἴσθησις, ἀκή, αἰσθητός, ἐπει, ψυχή, ἄατος, α...</td>\n",
              "      <td>[[αἴσθησις, ἀκή, αἰσθητός], [ἐπει, ψυχή, ἄατος...</td>\n",
              "      <td>3445</td>\n",
              "      <td>500</td>\n",
              "      <td>[αἴσθησις, ἀκή, αἰσθητός, ἐπει, ψυχή, ἄατος, α...</td>\n",
              "      <td>[[αἴσθησις, ἀκή, αἰσθητός], [ἐπει, ψυχή, ἄατος...</td>\n",
              "      <td>5</td>\n",
              "      <td>0</td>\n",
              "      <td>0</td>\n",
              "      <td>0</td>\n",
              "      <td>0.001451</td>\n",
              "      <td>0.000000</td>\n",
              "      <td>0.000000</td>\n",
              "      <td>0.000000</td>\n",
              "      <td>0.001451</td>\n",
              "    </tr>\n",
              "    <tr>\n",
              "      <th>707</th>\n",
              "      <td>tlg0086.tlg042.1st1K-grc1.xml</td>\n",
              "      <td>Aristotle</td>\n",
              "      <td>De somno et vigilia; Aristotelis Opera</td>\n",
              "      <td>ΠΕΡΙ ΥΠΝΟΥ ΚΑΙ ΕΓΡΗΓΟΡΣΕΩΣ. Περὶ δὲ ὕπνου καὶ ...</td>\n",
              "      <td>tlg0086</td>\n",
              "      <td>tlg0086.tlg042</td>\n",
              "      <td>4 B.C.</td>\n",
              "      <td>-3.5</td>\n",
              "      <td>{'-3.5': 1}</td>\n",
              "      <td>-3.5</td>\n",
              "      <td>pagan</td>\n",
              "      <td>2993</td>\n",
              "      <td>[ὕπνος, ἀκή, εγρηγορσεως, ὕπνος, ἐγρηγόρσεως, ...</td>\n",
              "      <td>[[ὕπνος, ἀκή, εγρηγορσεως], [ὕπνος, ἐγρηγόρσεω...</td>\n",
              "      <td>1350</td>\n",
              "      <td>184</td>\n",
              "      <td>[ὕπνος, ἀκή, εγρηγορσεως, ὕπνος, ἐγρηγόρσεως, ...</td>\n",
              "      <td>[[ὕπνος, ἀκή, εγρηγορσεως], [ὕπνος, ἐγρηγόρσεω...</td>\n",
              "      <td>1</td>\n",
              "      <td>0</td>\n",
              "      <td>0</td>\n",
              "      <td>0</td>\n",
              "      <td>0.000741</td>\n",
              "      <td>0.000000</td>\n",
              "      <td>0.000000</td>\n",
              "      <td>0.000000</td>\n",
              "      <td>0.000741</td>\n",
              "    </tr>\n",
              "    <tr>\n",
              "      <th>709</th>\n",
              "      <td>tlg0086.tlg044.1st1K-grc1.xml</td>\n",
              "      <td>Aristotle</td>\n",
              "      <td>Topica; Aristotelis Opera</td>\n",
              "      <td>ΤΟΠΙΚΩΝ Α. Ἡ ΜΕΝ πρόθεσις τῆς πραγματείας μέθο...</td>\n",
              "      <td>tlg0086</td>\n",
              "      <td>tlg0086.tlg044</td>\n",
              "      <td>4 B.C.</td>\n",
              "      <td>-3.5</td>\n",
              "      <td>{'-3.5': 1}</td>\n",
              "      <td>-3.5</td>\n",
              "      <td>pagan</td>\n",
              "      <td>44125</td>\n",
              "      <td>[τοπικός, μένω, πρόθεσις, πραγματεία, μέθοδος,...</td>\n",
              "      <td>[[τοπικός], [μένω, πρόθεσις, πραγματεία, μέθοδ...</td>\n",
              "      <td>19094</td>\n",
              "      <td>2783</td>\n",
              "      <td>[τοπικός, μένω, πρόθεσις, πραγματεία, μέθοδος,...</td>\n",
              "      <td>[[τοπικός], [μένω, πρόθεσις, πραγματεία, μέθοδ...</td>\n",
              "      <td>19</td>\n",
              "      <td>6</td>\n",
              "      <td>0</td>\n",
              "      <td>0</td>\n",
              "      <td>0.000995</td>\n",
              "      <td>0.000314</td>\n",
              "      <td>0.000000</td>\n",
              "      <td>0.000000</td>\n",
              "      <td>0.001309</td>\n",
              "    </tr>\n",
              "  </tbody>\n",
              "</table>\n",
              "</div>"
            ],
            "text/plain": [
              "                            filename       author  ... πόνο*_weighted weighted_sum\n",
              "678    tlg0086.tlg001.1st1K-grc2.xml    Aristotle  ...       0.000000     0.000047\n",
              "679    tlg0086.tlg002.1st1K-grc2.xml    Aristotle  ...       0.000000     0.001349\n",
              "681    tlg0086.tlg005.1st1K-grc1.xml    Aristotle  ...       0.000077     0.000077\n",
              "682    tlg0086.tlg006.1st1K-grc1.xml    Aristotle  ...       0.000000     0.000457\n",
              "683    tlg0086.tlg008.1st1K-grc1.xml    Aristotle  ...       0.000000     0.000000\n",
              "684  tlg0086.tlg009.perseus-grc1.xml    Aristotle  ...       0.000627     0.007439\n",
              "685  tlg0086.tlg010.perseus-grc1.xml    Aristotle  ...       0.000462     0.006930\n",
              "687    tlg0086.tlg014.1st1K-grc1.xml    Aristotle  ...       0.000898     0.001266\n",
              "689    tlg0086.tlg016.1st1K-grc1.xml    Aristotle  ...       0.000000     0.000961\n",
              "690    tlg0086.tlg017.1st1K-grc1.xml    Aristotle  ...       0.000000     0.000000\n",
              "691    tlg0086.tlg018.1st1K-grc1.xml    Aristotle  ...       0.000000     0.000000\n",
              "692    tlg0086.tlg020.1st1K-grc1.xml    Aristotle  ...       0.003817     0.003817\n",
              "693    tlg0086.tlg021.1st1K-grc1.xml  Aristoteles  ...       0.000658     0.000658\n",
              "694    tlg0086.tlg022.1st1K-grc1.xml    Aristotle  ...       0.000087     0.003494\n",
              "695    tlg0086.tlg024.1st1K-grc1.xml    Aristotle  ...       0.000000     0.000000\n",
              "696  tlg0086.tlg025.perseus-grc1.xml    Aristotle  ...       0.000064     0.000224\n",
              "697    tlg0086.tlg026.1st1K-grc2.xml    Aristotle  ...       0.000000     0.000000\n",
              "698  tlg0086.tlg029.perseus-grc1.xml    Aristotle  ...       0.001010     0.001010\n",
              "699    tlg0086.tlg030.1st1K-grc1.xml    Aristotle  ...       0.000275     0.000606\n",
              "700    tlg0086.tlg031.1st1K-grc1.xml    Aristotle  ...       0.000094     0.000281\n",
              "701    tlg0086.tlg034.1st1K-grc1.xml    Aristotle  ...       0.000000     0.000443\n",
              "702  tlg0086.tlg035.perseus-grc1.xml    Aristotle  ...       0.000586     0.000964\n",
              "704  tlg0086.tlg038.perseus-grc1.xml    Aristotle  ...       0.000329     0.003890\n",
              "705    tlg0086.tlg040.1st1K-grc1.xml    Aristotle  ...       0.000173     0.000346\n",
              "706    tlg0086.tlg041.1st1K-grc1.xml    Aristotle  ...       0.000000     0.001451\n",
              "707    tlg0086.tlg042.1st1K-grc1.xml    Aristotle  ...       0.000000     0.000741\n",
              "709    tlg0086.tlg044.1st1K-grc1.xml    Aristotle  ...       0.000000     0.001309\n",
              "\n",
              "[27 rows x 27 columns]"
            ]
          },
          "metadata": {
            "tags": []
          },
          "execution_count": 39
        }
      ]
    },
    {
      "cell_type": "code",
      "metadata": {
        "id": "XwuGW3S7XkCd",
        "colab_type": "code",
        "colab": {
          "base_uri": "https://localhost:8080/",
          "height": 297
        },
        "outputId": "1eab28bd-6c90-4c54-baf4-c8abab153231"
      },
      "source": [
        "import matplotlib\n",
        "import matplotlib.pyplot as plt\n",
        "import numpy as np\n",
        "\n",
        "\n",
        "labels = c_aristotelicum[\"title\"].tolist()\n",
        "lemmata_wordcounts_1 = c_aristotelicum[\"wordcount\"]\n",
        "lemmata_wordcounts_2 = c_aristotelicum[\"wordcount\"]\n",
        "\n",
        "\n",
        "x = np.arange(len(labels))  # the label locations\n",
        "width = 0.35  # the width of the bars\n",
        "\n",
        "fig, ax = plt.subplots()\n",
        "rects1 = ax.bar(x - width/2, lemmata_wordcounts_1, width, label='Men')\n",
        "rects2 = ax.bar(x + width/2, lemmata_wordcounts_1, width, label='Women')\n",
        "\n",
        "# Add some text for labels, title and custom x-axis tick labels, etc.\n",
        "ax.set_ylabel(\"wordcount\")\n",
        "ax.set_title(\"Documents by wordcount\")\n",
        "ax.set_xticks(x)\n",
        "ax.set_xticklabels(labels)\n",
        "ax.legend()\n",
        "\n",
        "\n",
        "def autolabel(rects):\n",
        "    \"\"\"Attach a text label above each bar in *rects*, displaying its height.\"\"\"\n",
        "    for rect in rects:\n",
        "        height = rect.get_height()\n",
        "        ax.annotate('{}'.format(height),\n",
        "                    xy=(rect.get_x() + rect.get_width() / 2, height),\n",
        "                    xytext=(0, 3),  # 3 points vertical offset\n",
        "                    textcoords=\"offset points\",\n",
        "                    ha='center', va='bottom')\n",
        "\n",
        "\n",
        "#autolabel(rects1)\n",
        "#autolabel(rects2)\n",
        "\n",
        "fig.tight_layout()\n",
        "\n",
        "plt.show()"
      ],
      "execution_count": 40,
      "outputs": [
        {
          "output_type": "display_data",
          "data": {
            "image/png": "[encoded data removed]",
            "text/plain": [
              "<Figure size 432x288 with 1 Axes>"
            ]
          },
          "metadata": {
            "tags": [],
            "needs_background": "light"
          }
        }
      ]
    },
    {
      "cell_type": "code",
      "metadata": {
        "id": "G1Xfswrz2s7y",
        "colab_type": "code",
        "colab": {
          "base_uri": "https://localhost:8080/",
          "height": 51
        },
        "outputId": "1ce7f0f0-b4e0-4048-965f-90107f07b039"
      },
      "source": [
        "# export to sciencedata.dk\n",
        "# currently Vojtěch Kaše's personal folder, but publicly shared\n",
        "sddk.write_file(\"public_data/PIA/c_aristotelicum_cleaned.json\", c_aristotelicum, conf)\n",
        "sddk.write_file(\"public_data/PIA/c_hippocraticum_cleaned.json\", c_hippocraticum, conf)"
      ],
      "execution_count": null,
      "outputs": [
        {
          "output_type": "stream",
          "text": [
            "Your <class 'pandas.core.frame.DataFrame'> object has been succefully written as \"https://sciencedata.dk/files/public_data/PIA/c_aristotelicum_cleaned.json\"\n",
            "Your <class 'pandas.core.frame.DataFrame'> object has been succefully written as \"https://sciencedata.dk/files/public_data/PIA/c_hippocraticum_cleaned.json\"\n"
          ],
          "name": "stdout"
        }
      ]
    },
    {
      "cell_type": "code",
      "metadata": {
        "id": "lPzyKdn68v4a",
        "colab_type": "code",
        "colab": {}
      },
      "source": [
        ""
      ],
      "execution_count": null,
      "outputs": []
    }
  ]
}