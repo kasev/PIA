{
 "cells": [
  {
   "cell_type": "markdown",
   "metadata": {
    "colab_type": "text",
    "id": "9ShoA6zIJR5I"
   },
   "source": [
    "# Setup"
   ]
  },
  {
   "cell_type": "code",
   "execution_count": 1,
   "metadata": {
    "colab": {
     "base_uri": "https://localhost:8080/",
     "height": 34
    },
    "colab_type": "code",
    "executionInfo": {
     "elapsed": 3796,
     "status": "ok",
     "timestamp": 1588848697972,
     "user": {
      "displayName": "Vojtěch Kaše",
      "photoUrl": "https://lh3.googleusercontent.com/a-/AOh14Ggz3jS9e7I3GdIEbyBKFtqr9tPdNCwyLBEJwbK8cw=s64",
      "userId": "01399835024022498543"
     },
     "user_tz": -120
    },
    "id": "YLcAu3mXJOpL",
    "outputId": "a850286d-e8d4-4a0f-e188-ea986a15716a"
   },
   "outputs": [],
   "source": [
    "### PREREQUISTIES\n",
    "### (many used only in one notebook...)\n",
    "\n",
    "import os\n",
    "import pandas as pd\n",
    "import numpy as np\n",
    "import logging ### to monitor the code\n",
    "from bs4 import BeautifulSoup\n",
    "import pickle\n",
    "import math\n",
    "import random\n",
    "import sys\n",
    "import csv\n",
    "import unicodedata\n",
    "\n",
    "import nltk\n",
    "from nltk.collocations import *\n",
    "\n",
    "import networkx as nx\n",
    "\n",
    "import matplotlib.pyplot as plt\n",
    "import seaborn as sns\n",
    "\n",
    "from scipy import stats\n",
    "\n",
    "import xml.etree.cElementTree as ET\n",
    "from urllib.request import urlopen\n",
    "\n",
    "import gspread\n",
    "from gspread_dataframe import get_as_dataframe, set_with_dataframe\n",
    "#from google.colab import auth\n",
    "#from oauth2client.client import GoogleCredentials\n",
    "from google.oauth2 import service_account # based on google-auth library\n",
    "import sddk"
   ]
  },
  {
   "cell_type": "code",
   "execution_count": 2,
   "metadata": {
    "colab": {
     "base_uri": "https://localhost:8080/",
     "height": 85
    },
    "colab_type": "code",
    "executionInfo": {
     "elapsed": 12266,
     "status": "ok",
     "timestamp": 1588848769220,
     "user": {
      "displayName": "Vojtěch Kaše",
      "photoUrl": "https://lh3.googleusercontent.com/a-/AOh14Ggz3jS9e7I3GdIEbyBKFtqr9tPdNCwyLBEJwbK8cw=s64",
      "userId": "01399835024022498543"
     },
     "user_tz": -120
    },
    "id": "Vk65k519TvBW",
    "outputId": "8dfbc211-e65b-4655-fb4e-e96b557a50a1"
   },
   "outputs": [
    {
     "name": "stdout",
     "output_type": "stream",
     "text": [
      "sciencedata.dk username (format '123456@au.dk'): 648597@au.dk\n",
      "sciencedata.dk password: ········\n",
      "endpoint variable has been configured to: https://sciencedata.dk/files/\n"
     ]
    }
   ],
   "source": [
    "conf = sddk.configure()"
   ]
  },
  {
   "cell_type": "code",
   "execution_count": 3,
   "metadata": {
    "colab": {},
    "colab_type": "code",
    "id": "R52NxzfHf8kS"
   },
   "outputs": [],
   "source": [
    "# to access gsheet, you need Google Service Account key json file\n",
    "# I have mine located in my personal space on sciencedata.dk, so I read it from there:\n",
    "\n",
    "# (1) read the file and parse its content\n",
    "file_data = conf[0].get(conf[1] + \"ServiceAccountsKey.json\").json()\n",
    "# (2) transform the content into crendentials object\n",
    "credentials = service_account.Credentials.from_service_account_info(file_data)\n",
    "# (3) specify your usage of the credentials\n",
    "scoped_credentials = credentials.with_scopes(['https://spreadsheets.google.com/feeds', 'https://www.googleapis.com/auth/drive'])\n",
    "# (4) use the constrained credentials for authentication of gspread package\n",
    "gc = gspread.Client(auth=scoped_credentials)\n",
    "# (5) establish connection with spreadsheets specified by their url\n",
    "PIA_data = gc.open_by_url(\"https://docs.google.com/spreadsheets/d/1KxOx7Be9fj3lDcEPgQhQ-Iqcn9p367-MMD6RMXe8rks/edit?usp=sharing\")\n",
    "PIA_overview = gc.open_by_url(\"https://docs.google.com/spreadsheets/d/1e94wyelg6dftQ4zxbq1xvwxWAI-BhcYXtclDW-YTnrw/edit?usp=sharing\")"
   ]
  },
  {
   "cell_type": "code",
   "execution_count": 4,
   "metadata": {
    "colab": {
     "base_uri": "https://localhost:8080/",
     "height": 221
    },
    "colab_type": "code",
    "executionInfo": {
     "elapsed": 520,
     "status": "ok",
     "timestamp": 1588853978650,
     "user": {
      "displayName": "Vojtěch Kaše",
      "photoUrl": "https://lh3.googleusercontent.com/a-/AOh14Ggz3jS9e7I3GdIEbyBKFtqr9tPdNCwyLBEJwbK8cw=s64",
      "userId": "01399835024022498543"
     },
     "user_tz": -120
    },
    "id": "h-BZNs5kEiua",
    "outputId": "29af51ba-9f52-4fab-c4de-8bf60deed294"
   },
   "outputs": [
    {
     "data": {
      "text/plain": [
       "[<Worksheet 'Sheet1' id:0>,\n",
       " <Worksheet 'Aristotle_λύπη' id:1718022011>,\n",
       " <Worksheet 'Hippocrates_λύπη' id:309444251>,\n",
       " <Worksheet 'Hippocrates_ἀλγηδών' id:844140843>,\n",
       " <Worksheet 'Hippocrates_πόνος' id:1101646330>,\n",
       " <Worksheet 'Hippocrates_ὀδύνη' id:287961093>,\n",
       " <Worksheet 'Aristotle_ἀλγηδών' id:1146799700>,\n",
       " <Worksheet 'Aristotle_πόνος' id:1073775859>,\n",
       " <Worksheet 'Aristotle_ὀδύνη' id:438127122>,\n",
       " <Worksheet 'keyterms_overview' id:1994560877>,\n",
       " <Worksheet 'c_aristotelicum_OVERVIEW_NEW' id:984710941>,\n",
       " <Worksheet 'c_hippocraticum_OVERVIEW_NEW' id:1964402831>]"
      ]
     },
     "execution_count": 4,
     "metadata": {},
     "output_type": "execute_result"
    }
   ],
   "source": [
    "PIA_data.worksheets()"
   ]
  },
  {
   "cell_type": "markdown",
   "metadata": {
    "colab_type": "text",
    "id": "CMR9KfVlwJbR"
   },
   "source": [
    "# Load the main dataset of ancient Greek texts"
   ]
  },
  {
   "cell_type": "code",
   "execution_count": 5,
   "metadata": {
    "colab": {},
    "colab_type": "code",
    "id": "Vd0hNJUIYUD2"
   },
   "outputs": [],
   "source": [
    "AGT = sddk.read_file(\"SDAM_root/SDAM_data/AGT/AGT_lemmatized_20201205.json\", \"df\", conf)"
   ]
  },
  {
   "cell_type": "code",
   "execution_count": 6,
   "metadata": {
    "colab": {
     "base_uri": "https://localhost:8080/",
     "height": 547
    },
    "colab_type": "code",
    "executionInfo": {
     "elapsed": 570,
     "status": "ok",
     "timestamp": 1588854060391,
     "user": {
      "displayName": "Vojtěch Kaše",
      "photoUrl": "https://lh3.googleusercontent.com/a-/AOh14Ggz3jS9e7I3GdIEbyBKFtqr9tPdNCwyLBEJwbK8cw=s64",
      "userId": "01399835024022498543"
     },
     "user_tz": -120
    },
    "id": "4E38A84hUqqU",
    "outputId": "b67a6b21-c1ef-4c18-db4a-78c0e2a4153c"
   },
   "outputs": [
    {
     "data": {
      "text/html": [
       "<div>\n",
       "<style scoped>\n",
       "    .dataframe tbody tr th:only-of-type {\n",
       "        vertical-align: middle;\n",
       "    }\n",
       "\n",
       "    .dataframe tbody tr th {\n",
       "        vertical-align: top;\n",
       "    }\n",
       "\n",
       "    .dataframe thead th {\n",
       "        text-align: right;\n",
       "    }\n",
       "</style>\n",
       "<table border=\"1\" class=\"dataframe\">\n",
       "  <thead>\n",
       "    <tr style=\"text-align: right;\">\n",
       "      <th></th>\n",
       "      <th>filename</th>\n",
       "      <th>author</th>\n",
       "      <th>title</th>\n",
       "      <th>wordcount</th>\n",
       "      <th>author_id</th>\n",
       "      <th>doc_id</th>\n",
       "      <th>raw_date</th>\n",
       "      <th>date_avr</th>\n",
       "      <th>date_probs</th>\n",
       "      <th>date_manual</th>\n",
       "      <th>provenience</th>\n",
       "      <th>tlg_epithet</th>\n",
       "      <th>clean_string</th>\n",
       "      <th>sentences</th>\n",
       "      <th>n_sentences</th>\n",
       "      <th>lemmatized_sentences</th>\n",
       "    </tr>\n",
       "  </thead>\n",
       "  <tbody>\n",
       "    <tr>\n",
       "      <th>0</th>\n",
       "      <td>tlg0001.tlg001.perseus-grc2.xml</td>\n",
       "      <td>Apollonius Rhodius</td>\n",
       "      <td>Argonautica</td>\n",
       "      <td>38822</td>\n",
       "      <td>tlg0001</td>\n",
       "      <td>tlg0001.tlg001</td>\n",
       "      <td>3 B.C.</td>\n",
       "      <td>-2.5</td>\n",
       "      <td>{'-2.5': 1}</td>\n",
       "      <td>-2.5</td>\n",
       "      <td>pagan</td>\n",
       "      <td>Epici/-ae</td>\n",
       "      <td>ἀρχόμενος σέο, Φοῖβε, παλαιγενέων κλέα φωτῶν μ...</td>\n",
       "      <td>[ἀρχόμενος σέο, Φοῖβε, παλαιγενέων κλέα φωτῶν ...</td>\n",
       "      <td>3252</td>\n",
       "      <td>[[ἄρχω, Φοῖβος, παλαιγενής, κλέος, φώς, μιμνήσ...</td>\n",
       "    </tr>\n",
       "    <tr>\n",
       "      <th>1</th>\n",
       "      <td>tlg0003.tlg001.perseus-grc2.xml</td>\n",
       "      <td>Thucydides</td>\n",
       "      <td>The Peloponnesian War</td>\n",
       "      <td>150118</td>\n",
       "      <td>tlg0003</td>\n",
       "      <td>tlg0003.tlg001</td>\n",
       "      <td>5 B.C.</td>\n",
       "      <td>-4.5</td>\n",
       "      <td>{'-4.5': 1}</td>\n",
       "      <td>-4.5</td>\n",
       "      <td>pagan</td>\n",
       "      <td>Historici/-ae</td>\n",
       "      <td>Θουκυδίδης Ἀθηναῖος ξυνέγραψε τὸν πόλεμον τῶν...</td>\n",
       "      <td>[Θουκυδίδης Ἀθηναῖος ξυνέγραψε τὸν πόλεμον τῶν...</td>\n",
       "      <td>6068</td>\n",
       "      <td>[[θουκυδίδης, Ἀθηναῖος, συγγράφω, πόλεμος, Πελ...</td>\n",
       "    </tr>\n",
       "    <tr>\n",
       "      <th>2</th>\n",
       "      <td>tlg0004.tlg001.perseus-grc1.xml</td>\n",
       "      <td>Diogenes Laertius</td>\n",
       "      <td>Lives of Eminent Philosophers</td>\n",
       "      <td>110763</td>\n",
       "      <td>tlg0004</td>\n",
       "      <td>tlg0004.tlg001</td>\n",
       "      <td>A.D. 3</td>\n",
       "      <td>2.5</td>\n",
       "      <td>{'2.5': 1}</td>\n",
       "      <td>NaN</td>\n",
       "      <td></td>\n",
       "      <td>Biographi</td>\n",
       "      <td>Τὸ τῆς φιλοσοφίας ἔργον ἔνιοί φασιν ἀπὸ βαρβάρ...</td>\n",
       "      <td>[Τὸ τῆς φιλοσοφίας ἔργον ἔνιοί φασιν ἀπὸ βαρβά...</td>\n",
       "      <td>10245</td>\n",
       "      <td>[[φιλοσοφία, ἔργον, ἔνιοι, φημί, βάρβαρος, ἄρχ...</td>\n",
       "    </tr>\n",
       "    <tr>\n",
       "      <th>3</th>\n",
       "      <td>tlg0005.tlg001.perseus-grc1.xml</td>\n",
       "      <td>Theocritus</td>\n",
       "      <td>Idylls</td>\n",
       "      <td>19200</td>\n",
       "      <td>tlg0005</td>\n",
       "      <td>tlg0005.tlg001</td>\n",
       "      <td>4-3 B.C.</td>\n",
       "      <td>-3.0</td>\n",
       "      <td>{'-3.5': 0.5, '-2.5': 0.5}</td>\n",
       "      <td>NaN</td>\n",
       "      <td></td>\n",
       "      <td>Bucolici</td>\n",
       "      <td>̔Αδύ τι τὸ ψιθύρισμα καὶ ἁ πίτυς αἰπόλε τήνα,...</td>\n",
       "      <td>[Αδύ τι τὸ ψιθύρισμα καὶ ἁ πίτυς αἰπόλε τήνα, ...</td>\n",
       "      <td>1982</td>\n",
       "      <td>[[ψιθύρισμα, πίτυς, αἰπόλος, τῆνος, πηγή, μελί...</td>\n",
       "    </tr>\n",
       "    <tr>\n",
       "      <th>4</th>\n",
       "      <td>tlg0005.tlg002.perseus-grc1.xml</td>\n",
       "      <td>Theocritus</td>\n",
       "      <td>Epigrams</td>\n",
       "      <td>1734</td>\n",
       "      <td>tlg0005</td>\n",
       "      <td>tlg0005.tlg002</td>\n",
       "      <td>4-3 B.C.</td>\n",
       "      <td>-3.0</td>\n",
       "      <td>{'-3.5': 0.5, '-2.5': 0.5}</td>\n",
       "      <td>NaN</td>\n",
       "      <td></td>\n",
       "      <td>Bucolici</td>\n",
       "      <td>τὰ ῥόδα τὰ δροσόεντα καὶ ἁ κατάπυκνος ἐκείνα ἕ...</td>\n",
       "      <td>[τὰ ῥόδα τὰ δροσόεντα καὶ ἁ κατάπυκνος ἐκείνα ...</td>\n",
       "      <td>152</td>\n",
       "      <td>[[ῥόδον, δροσόεντα, κατάπυκνος, ἐκεῖνος, ἕρπυλ...</td>\n",
       "    </tr>\n",
       "  </tbody>\n",
       "</table>\n",
       "</div>"
      ],
      "text/plain": [
       "                          filename              author  \\\n",
       "0  tlg0001.tlg001.perseus-grc2.xml  Apollonius Rhodius   \n",
       "1  tlg0003.tlg001.perseus-grc2.xml          Thucydides   \n",
       "2  tlg0004.tlg001.perseus-grc1.xml   Diogenes Laertius   \n",
       "3  tlg0005.tlg001.perseus-grc1.xml          Theocritus   \n",
       "4  tlg0005.tlg002.perseus-grc1.xml          Theocritus   \n",
       "\n",
       "                           title  wordcount author_id          doc_id  \\\n",
       "0                    Argonautica      38822   tlg0001  tlg0001.tlg001   \n",
       "1          The Peloponnesian War     150118   tlg0003  tlg0003.tlg001   \n",
       "2  Lives of Eminent Philosophers     110763   tlg0004  tlg0004.tlg001   \n",
       "3                        Idylls       19200   tlg0005  tlg0005.tlg001   \n",
       "4                      Epigrams        1734   tlg0005  tlg0005.tlg002   \n",
       "\n",
       "   raw_date  date_avr                  date_probs  date_manual provenience  \\\n",
       "0    3 B.C.      -2.5                 {'-2.5': 1}         -2.5       pagan   \n",
       "1    5 B.C.      -4.5                 {'-4.5': 1}         -4.5       pagan   \n",
       "2    A.D. 3       2.5                  {'2.5': 1}          NaN               \n",
       "3  4-3 B.C.      -3.0  {'-3.5': 0.5, '-2.5': 0.5}          NaN               \n",
       "4  4-3 B.C.      -3.0  {'-3.5': 0.5, '-2.5': 0.5}          NaN               \n",
       "\n",
       "     tlg_epithet                                       clean_string  \\\n",
       "0      Epici/-ae  ἀρχόμενος σέο, Φοῖβε, παλαιγενέων κλέα φωτῶν μ...   \n",
       "1  Historici/-ae   Θουκυδίδης Ἀθηναῖος ξυνέγραψε τὸν πόλεμον τῶν...   \n",
       "2      Biographi  Τὸ τῆς φιλοσοφίας ἔργον ἔνιοί φασιν ἀπὸ βαρβάρ...   \n",
       "3       Bucolici   ̔Αδύ τι τὸ ψιθύρισμα καὶ ἁ πίτυς αἰπόλε τήνα,...   \n",
       "4       Bucolici  τὰ ῥόδα τὰ δροσόεντα καὶ ἁ κατάπυκνος ἐκείνα ἕ...   \n",
       "\n",
       "                                           sentences  n_sentences  \\\n",
       "0  [ἀρχόμενος σέο, Φοῖβε, παλαιγενέων κλέα φωτῶν ...         3252   \n",
       "1  [Θουκυδίδης Ἀθηναῖος ξυνέγραψε τὸν πόλεμον τῶν...         6068   \n",
       "2  [Τὸ τῆς φιλοσοφίας ἔργον ἔνιοί φασιν ἀπὸ βαρβά...        10245   \n",
       "3  [Αδύ τι τὸ ψιθύρισμα καὶ ἁ πίτυς αἰπόλε τήνα, ...         1982   \n",
       "4  [τὰ ῥόδα τὰ δροσόεντα καὶ ἁ κατάπυκνος ἐκείνα ...          152   \n",
       "\n",
       "                                lemmatized_sentences  \n",
       "0  [[ἄρχω, Φοῖβος, παλαιγενής, κλέος, φώς, μιμνήσ...  \n",
       "1  [[θουκυδίδης, Ἀθηναῖος, συγγράφω, πόλεμος, Πελ...  \n",
       "2  [[φιλοσοφία, ἔργον, ἔνιοι, φημί, βάρβαρος, ἄρχ...  \n",
       "3  [[ψιθύρισμα, πίτυς, αἰπόλος, τῆνος, πηγή, μελί...  \n",
       "4  [[ῥόδον, δροσόεντα, κατάπυκνος, ἐκεῖνος, ἕρπυλ...  "
      ]
     },
     "execution_count": 6,
     "metadata": {},
     "output_type": "execute_result"
    }
   ],
   "source": [
    "AGT.head(5)"
   ]
  },
  {
   "cell_type": "code",
   "execution_count": 18,
   "metadata": {},
   "outputs": [
    {
     "data": {
      "text/plain": [
       "14373580"
      ]
     },
     "execution_count": 18,
     "metadata": {},
     "output_type": "execute_result"
    }
   ],
   "source": [
    "def flat_lemmata(sentences):\n",
    "    lemmata = [word for sent in sentences for word in sent]\n",
    "    return lemmata\n",
    "AGT[\"lemmata\"] = AGT[\"lemmatized_sentences\"].apply(flat_lemmata)\n",
    "\n",
    "AGT[\"lemmata_wordcount\"] = AGT.apply(lambda row: len(row[\"lemmata\"]), axis=1)\n",
    "AGT[\"lemmata_wordcount\"].sum() # previously we had 13925726, then 13713183, finally 14756899"
   ]
  },
  {
   "cell_type": "markdown",
   "metadata": {
    "colab_type": "text",
    "id": "KsuVLaw4gzvC"
   },
   "source": [
    "# Data Extraction and Overview\n",
    "\n"
   ]
  },
  {
   "cell_type": "code",
   "execution_count": 21,
   "metadata": {
    "colab": {
     "base_uri": "https://localhost:8080/",
     "height": 34
    },
    "colab_type": "code",
    "executionInfo": {
     "elapsed": 528,
     "status": "ok",
     "timestamp": 1588854160205,
     "user": {
      "displayName": "Vojtěch Kaše",
      "photoUrl": "https://lh3.googleusercontent.com/a-/AOh14Ggz3jS9e7I3GdIEbyBKFtqr9tPdNCwyLBEJwbK8cw=s64",
      "userId": "01399835024022498543"
     },
     "user_tz": -120
    },
    "id": "RS_FkWQCiMiw",
    "outputId": "246b1e31-bd07-42c5-8ba2-491e32774357"
   },
   "outputs": [
    {
     "data": {
      "text/plain": [
       "1457"
      ]
     },
     "execution_count": 21,
     "metadata": {},
     "output_type": "execute_result"
    }
   ],
   "source": [
    "### how many documents we have\n",
    "len(AGT)"
   ]
  },
  {
   "cell_type": "code",
   "execution_count": 22,
   "metadata": {
    "colab": {
     "base_uri": "https://localhost:8080/",
     "height": 34
    },
    "colab_type": "code",
    "executionInfo": {
     "elapsed": 518,
     "status": "ok",
     "timestamp": 1588854164279,
     "user": {
      "displayName": "Vojtěch Kaše",
      "photoUrl": "https://lh3.googleusercontent.com/a-/AOh14Ggz3jS9e7I3GdIEbyBKFtqr9tPdNCwyLBEJwbK8cw=s64",
      "userId": "01399835024022498543"
     },
     "user_tz": -120
    },
    "id": "2GTH2VNZkJCL",
    "outputId": "65b16116-d14b-42bd-c126-8de77b7b7bd2"
   },
   "outputs": [
    {
     "data": {
      "text/plain": [
       "52"
      ]
     },
     "execution_count": 22,
     "metadata": {},
     "output_type": "execute_result"
    }
   ],
   "source": [
    "### let's identify our main author of interest\n",
    "\n",
    "c_hippocraticum = AGT[AGT[\"author_id\"].str.startswith(\"tlg0627\")]\n",
    "len(c_hippocraticum) ### old value: 53"
   ]
  },
  {
   "cell_type": "code",
   "execution_count": 23,
   "metadata": {
    "colab": {
     "base_uri": "https://localhost:8080/",
     "height": 34
    },
    "colab_type": "code",
    "executionInfo": {
     "elapsed": 511,
     "status": "ok",
     "timestamp": 1588849168616,
     "user": {
      "displayName": "Vojtěch Kaše",
      "photoUrl": "https://lh3.googleusercontent.com/a-/AOh14Ggz3jS9e7I3GdIEbyBKFtqr9tPdNCwyLBEJwbK8cw=s64",
      "userId": "01399835024022498543"
     },
     "user_tz": -120
    },
    "id": "e1xmLHHOVXyQ",
    "outputId": "8cea5958-208e-4ca8-fb6c-ddc2a1e075a4"
   },
   "outputs": [
    {
     "data": {
      "text/plain": [
       "333443"
      ]
     },
     "execution_count": 23,
     "metadata": {},
     "output_type": "execute_result"
    }
   ],
   "source": [
    "c_hippocraticum[\"wordcount\"].sum() # old value: 443514, then 333446, 333443"
   ]
  },
  {
   "cell_type": "code",
   "execution_count": 24,
   "metadata": {
    "colab": {
     "base_uri": "https://localhost:8080/",
     "height": 34
    },
    "colab_type": "code",
    "executionInfo": {
     "elapsed": 515,
     "status": "ok",
     "timestamp": 1588849494893,
     "user": {
      "displayName": "Vojtěch Kaše",
      "photoUrl": "https://lh3.googleusercontent.com/a-/AOh14Ggz3jS9e7I3GdIEbyBKFtqr9tPdNCwyLBEJwbK8cw=s64",
      "userId": "01399835024022498543"
     },
     "user_tz": -120
    },
    "id": "n8_0xHwVaTaS",
    "outputId": "a05231a3-e746-411b-89db-cae8e94bb396"
   },
   "outputs": [
    {
     "data": {
      "text/plain": [
       "35"
      ]
     },
     "execution_count": 24,
     "metadata": {},
     "output_type": "execute_result"
    }
   ],
   "source": [
    "c_aristotelicum = AGT[AGT[\"author_id\"].str.startswith(\"tlg0086\")]\n",
    "len(c_aristotelicum) ### originally we had 27"
   ]
  },
  {
   "cell_type": "code",
   "execution_count": 25,
   "metadata": {
    "colab": {
     "base_uri": "https://localhost:8080/",
     "height": 34
    },
    "colab_type": "code",
    "executionInfo": {
     "elapsed": 468,
     "status": "ok",
     "timestamp": 1588849505452,
     "user": {
      "displayName": "Vojtěch Kaše",
      "photoUrl": "https://lh3.googleusercontent.com/a-/AOh14Ggz3jS9e7I3GdIEbyBKFtqr9tPdNCwyLBEJwbK8cw=s64",
      "userId": "01399835024022498543"
     },
     "user_tz": -120
    },
    "id": "9x1sp_MrpruQ",
    "outputId": "5fe67177-0f64-49c4-98b8-c85de84f7784"
   },
   "outputs": [
    {
     "data": {
      "text/plain": [
       "840271"
      ]
     },
     "execution_count": 25,
     "metadata": {},
     "output_type": "execute_result"
    }
   ],
   "source": [
    "c_aristotelicum[\"wordcount\"].sum() # 857024"
   ]
  },
  {
   "cell_type": "markdown",
   "metadata": {
    "colab_type": "text",
    "id": "yMa9UFba0A6B"
   },
   "source": [
    "However in the case of Aristotle, we are interested only in a subselection of works associated with his name\n",
    "\n",
    "\n"
   ]
  },
  {
   "cell_type": "code",
   "execution_count": 26,
   "metadata": {
    "colab": {
     "base_uri": "https://localhost:8080/",
     "height": 289
    },
    "colab_type": "code",
    "executionInfo": {
     "elapsed": 1223,
     "status": "ok",
     "timestamp": 1588849702685,
     "user": {
      "displayName": "Vojtěch Kaše",
      "photoUrl": "https://lh3.googleusercontent.com/a-/AOh14Ggz3jS9e7I3GdIEbyBKFtqr9tPdNCwyLBEJwbK8cw=s64",
      "userId": "01399835024022498543"
     },
     "user_tz": -120
    },
    "id": "VUqE6eUW0Qam",
    "outputId": "ec9aea00-d9fb-4784-892f-64e059a0d102"
   },
   "outputs": [
    {
     "data": {
      "text/html": [
       "<div>\n",
       "<style scoped>\n",
       "    .dataframe tbody tr th:only-of-type {\n",
       "        vertical-align: middle;\n",
       "    }\n",
       "\n",
       "    .dataframe tbody tr th {\n",
       "        vertical-align: top;\n",
       "    }\n",
       "\n",
       "    .dataframe thead th {\n",
       "        text-align: right;\n",
       "    }\n",
       "</style>\n",
       "<table border=\"1\" class=\"dataframe\">\n",
       "  <thead>\n",
       "    <tr style=\"text-align: right;\">\n",
       "      <th></th>\n",
       "      <th>filename</th>\n",
       "      <th>include?</th>\n",
       "      <th>author</th>\n",
       "      <th>title</th>\n",
       "      <th>author_id</th>\n",
       "      <th>doc_id</th>\n",
       "      <th>wordcount</th>\n",
       "      <th>lemmata_wordcount</th>\n",
       "      <th>num_of_sents</th>\n",
       "    </tr>\n",
       "  </thead>\n",
       "  <tbody>\n",
       "    <tr>\n",
       "      <th>0</th>\n",
       "      <td>tlg0086.tlg001.1st1K-grc2.xml</td>\n",
       "      <td>y</td>\n",
       "      <td>Aristotle</td>\n",
       "      <td>Aristotelis Analytica Priora et Posteriora; Ar...</td>\n",
       "      <td>tlg0086</td>\n",
       "      <td>tlg0086.tlg001</td>\n",
       "      <td>59772</td>\n",
       "      <td>12287</td>\n",
       "      <td>3384</td>\n",
       "    </tr>\n",
       "    <tr>\n",
       "      <th>1</th>\n",
       "      <td>tlg0086.tlg002.1st1K-grc2.xml</td>\n",
       "      <td>y</td>\n",
       "      <td>Aristotle</td>\n",
       "      <td>De anima; Aritoteles De anima</td>\n",
       "      <td>tlg0086</td>\n",
       "      <td>tlg0086.tlg002</td>\n",
       "      <td>20988</td>\n",
       "      <td>5579</td>\n",
       "      <td>1250</td>\n",
       "    </tr>\n",
       "    <tr>\n",
       "      <th>2</th>\n",
       "      <td>tlg0086.tlg003.perseus-grc1.xml</td>\n",
       "      <td>NaN</td>\n",
       "      <td>Aristotle</td>\n",
       "      <td>Athenian Constitution; Machine readable text; ...</td>\n",
       "      <td>tlg0086</td>\n",
       "      <td>tlg0086.tlg003</td>\n",
       "      <td>16536</td>\n",
       "      <td>4243</td>\n",
       "      <td>817</td>\n",
       "    </tr>\n",
       "    <tr>\n",
       "      <th>3</th>\n",
       "      <td>tlg0086.tlg005.1st1K-grc1.xml</td>\n",
       "      <td>y</td>\n",
       "      <td>Aristotle</td>\n",
       "      <td>De caelo; Aristoteles De coelo et De generatio...</td>\n",
       "      <td>tlg0086</td>\n",
       "      <td>tlg0086.tlg005</td>\n",
       "      <td>31395</td>\n",
       "      <td>8370</td>\n",
       "      <td>1856</td>\n",
       "    </tr>\n",
       "    <tr>\n",
       "      <th>4</th>\n",
       "      <td>tlg0086.tlg006.1st1K-grc1.xml</td>\n",
       "      <td>y</td>\n",
       "      <td>Aristotle</td>\n",
       "      <td>Categoriae; Aristotelis Opera</td>\n",
       "      <td>tlg0086</td>\n",
       "      <td>tlg0086.tlg006</td>\n",
       "      <td>10317</td>\n",
       "      <td>2865</td>\n",
       "      <td>646</td>\n",
       "    </tr>\n",
       "  </tbody>\n",
       "</table>\n",
       "</div>"
      ],
      "text/plain": [
       "                          filename include?     author  \\\n",
       "0    tlg0086.tlg001.1st1K-grc2.xml        y  Aristotle   \n",
       "1    tlg0086.tlg002.1st1K-grc2.xml        y  Aristotle   \n",
       "2  tlg0086.tlg003.perseus-grc1.xml      NaN  Aristotle   \n",
       "3    tlg0086.tlg005.1st1K-grc1.xml        y  Aristotle   \n",
       "4    tlg0086.tlg006.1st1K-grc1.xml        y  Aristotle   \n",
       "\n",
       "                                               title author_id  \\\n",
       "0  Aristotelis Analytica Priora et Posteriora; Ar...   tlg0086   \n",
       "1                      De anima; Aritoteles De anima   tlg0086   \n",
       "2  Athenian Constitution; Machine readable text; ...   tlg0086   \n",
       "3  De caelo; Aristoteles De coelo et De generatio...   tlg0086   \n",
       "4                      Categoriae; Aristotelis Opera   tlg0086   \n",
       "\n",
       "           doc_id  wordcount  lemmata_wordcount  num_of_sents  \n",
       "0  tlg0086.tlg001      59772              12287          3384  \n",
       "1  tlg0086.tlg002      20988               5579          1250  \n",
       "2  tlg0086.tlg003      16536               4243           817  \n",
       "3  tlg0086.tlg005      31395               8370          1856  \n",
       "4  tlg0086.tlg006      10317               2865           646  "
      ]
     },
     "execution_count": 26,
     "metadata": {},
     "output_type": "execute_result"
    }
   ],
   "source": [
    "# read back the manually coded data\n",
    "c_aristotelicum_coded = get_as_dataframe(PIA_data.worksheet(\"c_aristotelicum_OVERVIEW_NEW\"))\n",
    "c_aristotelicum_coded.head()"
   ]
  },
  {
   "cell_type": "code",
   "execution_count": 27,
   "metadata": {
    "colab": {
     "base_uri": "https://localhost:8080/",
     "height": 71
    },
    "colab_type": "code",
    "executionInfo": {
     "elapsed": 531,
     "status": "ok",
     "timestamp": 1588849803436,
     "user": {
      "displayName": "Vojtěch Kaše",
      "photoUrl": "https://lh3.googleusercontent.com/a-/AOh14Ggz3jS9e7I3GdIEbyBKFtqr9tPdNCwyLBEJwbK8cw=s64",
      "userId": "01399835024022498543"
     },
     "user_tz": -120
    },
    "id": "b9ViSAfz00gi",
    "outputId": "5f017a5e-5f54-43ba-9131-969c3bfc5e6f"
   },
   "outputs": [
    {
     "name": "stdout",
     "output_type": "stream",
     "text": [
      "['tlg0086.tlg001', 'tlg0086.tlg002', 'tlg0086.tlg003', 'tlg0086.tlg005', 'tlg0086.tlg006', 'tlg0086.tlg008', 'tlg0086.tlg009', 'tlg0086.tlg010', 'tlg0086.tlg013', 'tlg0086.tlg014', 'tlg0086.tlg015', 'tlg0086.tlg016', 'tlg0086.tlg017', 'tlg0086.tlg018', 'tlg0086.tlg020', 'tlg0086.tlg021', 'tlg0086.tlg022', 'tlg0086.tlg024', 'tlg0086.tlg025', 'tlg0086.tlg026', 'tlg0086.tlg029', 'tlg0086.tlg030', 'tlg0086.tlg031', 'tlg0086.tlg034', 'tlg0086.tlg035', 'tlg0086.tlg037', 'tlg0086.tlg038', 'tlg0086.tlg040', 'tlg0086.tlg041', 'tlg0086.tlg042', 'tlg0086.tlg043', 'tlg0086.tlg044', 'tlg0086.tlg045', 'tlg0086.tlg052', 'tlg0086.tlg054']\n",
      "['tlg0086.tlg001', 'tlg0086.tlg002', 'tlg0086.tlg003', 'tlg0086.tlg005', 'tlg0086.tlg006', 'tlg0086.tlg008', 'tlg0086.tlg009', 'tlg0086.tlg010', 'tlg0086.tlg013', 'tlg0086.tlg014', 'tlg0086.tlg015', 'tlg0086.tlg016', 'tlg0086.tlg017', 'tlg0086.tlg018', 'tlg0086.tlg020', 'tlg0086.tlg021', 'tlg0086.tlg022', 'tlg0086.tlg024', 'tlg0086.tlg025', 'tlg0086.tlg026', 'tlg0086.tlg029', 'tlg0086.tlg030', 'tlg0086.tlg031', 'tlg0086.tlg034', 'tlg0086.tlg035', 'tlg0086.tlg037', 'tlg0086.tlg038', 'tlg0086.tlg040', 'tlg0086.tlg041', 'tlg0086.tlg042', 'tlg0086.tlg043', 'tlg0086.tlg044', 'tlg0086.tlg045', 'tlg0086.tlg052', 'tlg0086.tlg054']\n"
     ]
    }
   ],
   "source": [
    "### we can check whether the new and old version have the same name\n",
    "print(c_aristotelicum_coded[\"doc_id\"].tolist())\n",
    "print(c_aristotelicum[\"doc_id\"].tolist())"
   ]
  },
  {
   "cell_type": "code",
   "execution_count": 28,
   "metadata": {
    "colab": {
     "base_uri": "https://localhost:8080/",
     "height": 717
    },
    "colab_type": "code",
    "executionInfo": {
     "elapsed": 558,
     "status": "ok",
     "timestamp": 1588850187622,
     "user": {
      "displayName": "Vojtěch Kaše",
      "photoUrl": "https://lh3.googleusercontent.com/a-/AOh14Ggz3jS9e7I3GdIEbyBKFtqr9tPdNCwyLBEJwbK8cw=s64",
      "userId": "01399835024022498543"
     },
     "user_tz": -120
    },
    "id": "MVis_x8X1dfu",
    "outputId": "78c6543d-a253-4627-d7cd-d0b3e5ea5e94"
   },
   "outputs": [
    {
     "name": "stderr",
     "output_type": "stream",
     "text": [
      "/home/kasev/.local/lib/python3.6/site-packages/ipykernel_launcher.py:2: SettingWithCopyWarning: \n",
      "A value is trying to be set on a copy of a slice from a DataFrame.\n",
      "Try using .loc[row_indexer,col_indexer] = value instead\n",
      "\n",
      "See the caveats in the documentation: https://pandas.pydata.org/pandas-docs/stable/user_guide/indexing.html#returning-a-view-versus-a-copy\n",
      "  \n"
     ]
    },
    {
     "data": {
      "text/html": [
       "<div>\n",
       "<style scoped>\n",
       "    .dataframe tbody tr th:only-of-type {\n",
       "        vertical-align: middle;\n",
       "    }\n",
       "\n",
       "    .dataframe tbody tr th {\n",
       "        vertical-align: top;\n",
       "    }\n",
       "\n",
       "    .dataframe thead th {\n",
       "        text-align: right;\n",
       "    }\n",
       "</style>\n",
       "<table border=\"1\" class=\"dataframe\">\n",
       "  <thead>\n",
       "    <tr style=\"text-align: right;\">\n",
       "      <th></th>\n",
       "      <th>filename</th>\n",
       "      <th>author</th>\n",
       "      <th>title</th>\n",
       "      <th>wordcount</th>\n",
       "      <th>author_id</th>\n",
       "      <th>doc_id</th>\n",
       "      <th>raw_date</th>\n",
       "      <th>date_avr</th>\n",
       "      <th>date_probs</th>\n",
       "      <th>date_manual</th>\n",
       "      <th>provenience</th>\n",
       "      <th>tlg_epithet</th>\n",
       "      <th>clean_string</th>\n",
       "      <th>sentences</th>\n",
       "      <th>n_sentences</th>\n",
       "      <th>lemmatized_sentences</th>\n",
       "      <th>lemmata</th>\n",
       "      <th>lemmata_wordcount</th>\n",
       "    </tr>\n",
       "  </thead>\n",
       "  <tbody>\n",
       "    <tr>\n",
       "      <th>685</th>\n",
       "      <td>tlg0086.tlg001.1st1K-grc2.xml</td>\n",
       "      <td>Aristotle</td>\n",
       "      <td>Aristotelis Analytica Priora et Posteriora</td>\n",
       "      <td>59614</td>\n",
       "      <td>tlg0086</td>\n",
       "      <td>tlg0086.tlg001</td>\n",
       "      <td>4 B.C.</td>\n",
       "      <td>-3.5</td>\n",
       "      <td>{'-3.5': 1}</td>\n",
       "      <td>-3.5</td>\n",
       "      <td>pagan</td>\n",
       "      <td>Philosophici/-ae</td>\n",
       "      <td>Πρῶτον εἰπεῖν περὶ τί καὶ τίνος ἐστὶν ἡ σκέψις...</td>\n",
       "      <td>[Πρῶτον εἰπεῖν περὶ τί καὶ τίνος ἐστὶν ἡ σκέψι...</td>\n",
       "      <td>3710</td>\n",
       "      <td>[[λέγω, εἰμί, σκέψις, ἀπόδειξις, ἐπιστήμη, ἀπο...</td>\n",
       "      <td>[λέγω, εἰμί, σκέψις, ἀπόδειξις, ἐπιστήμη, ἀποδ...</td>\n",
       "      <td>24826</td>\n",
       "    </tr>\n",
       "    <tr>\n",
       "      <th>686</th>\n",
       "      <td>tlg0086.tlg002.1st1K-grc2.xml</td>\n",
       "      <td>Aristotle</td>\n",
       "      <td>De anima</td>\n",
       "      <td>20912</td>\n",
       "      <td>tlg0086</td>\n",
       "      <td>tlg0086.tlg002</td>\n",
       "      <td>4 B.C.</td>\n",
       "      <td>-3.5</td>\n",
       "      <td>{'-3.5': 1}</td>\n",
       "      <td>-3.5</td>\n",
       "      <td>pagan</td>\n",
       "      <td>Philosophici/-ae</td>\n",
       "      <td>Τῶν καλῶν καὶ τιμίων τὴν εἴδησιν ὑπολαμβάνοντε...</td>\n",
       "      <td>[Τῶν καλῶν καὶ τιμίων τὴν εἴδησιν ὑπολαμβάνοντ...</td>\n",
       "      <td>1317</td>\n",
       "      <td>[[καλός, τίμιος, εἶδος, ὑπολαμβάνω, ἕτερος, ἕτ...</td>\n",
       "      <td>[καλός, τίμιος, εἶδος, ὑπολαμβάνω, ἕτερος, ἕτε...</td>\n",
       "      <td>9358</td>\n",
       "    </tr>\n",
       "    <tr>\n",
       "      <th>688</th>\n",
       "      <td>tlg0086.tlg005.1st1K-grc1.xml</td>\n",
       "      <td>Aristotle</td>\n",
       "      <td>De caelo</td>\n",
       "      <td>30794</td>\n",
       "      <td>tlg0086</td>\n",
       "      <td>tlg0086.tlg005</td>\n",
       "      <td>4 B.C.</td>\n",
       "      <td>-3.5</td>\n",
       "      <td>{'-3.5': 1}</td>\n",
       "      <td>-3.5</td>\n",
       "      <td>pagan</td>\n",
       "      <td>Philosophici/-ae</td>\n",
       "      <td>Ἡ περὶ φύσεως ἐπιστήμη σχεδὸν ἡ πλείστη φαίνετ...</td>\n",
       "      <td>[Ἡ περὶ φύσεως ἐπιστήμη σχεδὸν ἡ πλείστη φαίνε...</td>\n",
       "      <td>2276</td>\n",
       "      <td>[[φύσις, ἐπιστήμη, πλεῖστος, φαίνω, σῶμα, μέγε...</td>\n",
       "      <td>[φύσις, ἐπιστήμη, πλεῖστος, φαίνω, σῶμα, μέγεθ...</td>\n",
       "      <td>13320</td>\n",
       "    </tr>\n",
       "    <tr>\n",
       "      <th>689</th>\n",
       "      <td>tlg0086.tlg006.1st1K-grc1.xml</td>\n",
       "      <td>Aristotle</td>\n",
       "      <td>Categoriae</td>\n",
       "      <td>10316</td>\n",
       "      <td>tlg0086</td>\n",
       "      <td>tlg0086.tlg006</td>\n",
       "      <td>4 B.C.</td>\n",
       "      <td>-3.5</td>\n",
       "      <td>{'-3.5': 1}</td>\n",
       "      <td>-3.5</td>\n",
       "      <td>pagan</td>\n",
       "      <td>Philosophici/-ae</td>\n",
       "      <td>ὉΜΩΝΥΜΑ λέγεται ὧν ὄνομα μόνον κοινόν, ὁ δὲ κα...</td>\n",
       "      <td>[ὉΜΩΝΥΜΑ λέγεται ὧν ὄνομα μόνον κοινόν, ὁ δὲ κ...</td>\n",
       "      <td>660</td>\n",
       "      <td>[[ὁμώνυμος, λέγω, ὄνομα, μόνος, κοινός, ὄνομα,...</td>\n",
       "      <td>[ὁμώνυμος, λέγω, ὄνομα, μόνος, κοινός, ὄνομα, ...</td>\n",
       "      <td>4568</td>\n",
       "    </tr>\n",
       "    <tr>\n",
       "      <th>690</th>\n",
       "      <td>tlg0086.tlg008.1st1K-grc1.xml</td>\n",
       "      <td>Aristotle</td>\n",
       "      <td>De divinatione per somnum</td>\n",
       "      <td>1194</td>\n",
       "      <td>tlg0086</td>\n",
       "      <td>tlg0086.tlg008</td>\n",
       "      <td>4 B.C.</td>\n",
       "      <td>-3.5</td>\n",
       "      <td>{'-3.5': 1}</td>\n",
       "      <td>-3.5</td>\n",
       "      <td>pagan</td>\n",
       "      <td>Philosophici/-ae</td>\n",
       "      <td>Περὶ δὲ τῆς μαντικῆς τῆς ἐν τοῖς ὕπνοις γινομέ...</td>\n",
       "      <td>[Περὶ δὲ τῆς μαντικῆς τῆς ἐν τοῖς ὕπνοις γινομ...</td>\n",
       "      <td>68</td>\n",
       "      <td>[[μαντικός, ὕπνος, γίγνομαι, λέγω, συμβαίνω, ἐ...</td>\n",
       "      <td>[μαντικός, ὕπνος, γίγνομαι, λέγω, συμβαίνω, ἐν...</td>\n",
       "      <td>544</td>\n",
       "    </tr>\n",
       "  </tbody>\n",
       "</table>\n",
       "</div>"
      ],
      "text/plain": [
       "                          filename     author  \\\n",
       "685  tlg0086.tlg001.1st1K-grc2.xml  Aristotle   \n",
       "686  tlg0086.tlg002.1st1K-grc2.xml  Aristotle   \n",
       "688  tlg0086.tlg005.1st1K-grc1.xml  Aristotle   \n",
       "689  tlg0086.tlg006.1st1K-grc1.xml  Aristotle   \n",
       "690  tlg0086.tlg008.1st1K-grc1.xml  Aristotle   \n",
       "\n",
       "                                          title  wordcount author_id  \\\n",
       "685  Aristotelis Analytica Priora et Posteriora      59614   tlg0086   \n",
       "686                                    De anima      20912   tlg0086   \n",
       "688                                    De caelo      30794   tlg0086   \n",
       "689                                  Categoriae      10316   tlg0086   \n",
       "690                   De divinatione per somnum       1194   tlg0086   \n",
       "\n",
       "             doc_id raw_date  date_avr   date_probs  date_manual provenience  \\\n",
       "685  tlg0086.tlg001   4 B.C.      -3.5  {'-3.5': 1}         -3.5       pagan   \n",
       "686  tlg0086.tlg002   4 B.C.      -3.5  {'-3.5': 1}         -3.5       pagan   \n",
       "688  tlg0086.tlg005   4 B.C.      -3.5  {'-3.5': 1}         -3.5       pagan   \n",
       "689  tlg0086.tlg006   4 B.C.      -3.5  {'-3.5': 1}         -3.5       pagan   \n",
       "690  tlg0086.tlg008   4 B.C.      -3.5  {'-3.5': 1}         -3.5       pagan   \n",
       "\n",
       "          tlg_epithet                                       clean_string  \\\n",
       "685  Philosophici/-ae  Πρῶτον εἰπεῖν περὶ τί καὶ τίνος ἐστὶν ἡ σκέψις...   \n",
       "686  Philosophici/-ae  Τῶν καλῶν καὶ τιμίων τὴν εἴδησιν ὑπολαμβάνοντε...   \n",
       "688  Philosophici/-ae  Ἡ περὶ φύσεως ἐπιστήμη σχεδὸν ἡ πλείστη φαίνετ...   \n",
       "689  Philosophici/-ae  ὉΜΩΝΥΜΑ λέγεται ὧν ὄνομα μόνον κοινόν, ὁ δὲ κα...   \n",
       "690  Philosophici/-ae  Περὶ δὲ τῆς μαντικῆς τῆς ἐν τοῖς ὕπνοις γινομέ...   \n",
       "\n",
       "                                             sentences  n_sentences  \\\n",
       "685  [Πρῶτον εἰπεῖν περὶ τί καὶ τίνος ἐστὶν ἡ σκέψι...         3710   \n",
       "686  [Τῶν καλῶν καὶ τιμίων τὴν εἴδησιν ὑπολαμβάνοντ...         1317   \n",
       "688  [Ἡ περὶ φύσεως ἐπιστήμη σχεδὸν ἡ πλείστη φαίνε...         2276   \n",
       "689  [ὉΜΩΝΥΜΑ λέγεται ὧν ὄνομα μόνον κοινόν, ὁ δὲ κ...          660   \n",
       "690  [Περὶ δὲ τῆς μαντικῆς τῆς ἐν τοῖς ὕπνοις γινομ...           68   \n",
       "\n",
       "                                  lemmatized_sentences  \\\n",
       "685  [[λέγω, εἰμί, σκέψις, ἀπόδειξις, ἐπιστήμη, ἀπο...   \n",
       "686  [[καλός, τίμιος, εἶδος, ὑπολαμβάνω, ἕτερος, ἕτ...   \n",
       "688  [[φύσις, ἐπιστήμη, πλεῖστος, φαίνω, σῶμα, μέγε...   \n",
       "689  [[ὁμώνυμος, λέγω, ὄνομα, μόνος, κοινός, ὄνομα,...   \n",
       "690  [[μαντικός, ὕπνος, γίγνομαι, λέγω, συμβαίνω, ἐ...   \n",
       "\n",
       "                                               lemmata  lemmata_wordcount  \n",
       "685  [λέγω, εἰμί, σκέψις, ἀπόδειξις, ἐπιστήμη, ἀποδ...              24826  \n",
       "686  [καλός, τίμιος, εἶδος, ὑπολαμβάνω, ἕτερος, ἕτε...               9358  \n",
       "688  [φύσις, ἐπιστήμη, πλεῖστος, φαίνω, σῶμα, μέγεθ...              13320  \n",
       "689  [ὁμώνυμος, λέγω, ὄνομα, μόνος, κοινός, ὄνομα, ...               4568  \n",
       "690  [μαντικός, ὕπνος, γίγνομαι, λέγω, συμβαίνω, ἐν...                544  "
      ]
     },
     "execution_count": 28,
     "metadata": {},
     "output_type": "execute_result"
    }
   ],
   "source": [
    "# 1) add the \"include?\" column from the old overview to our new dataset \n",
    "c_aristotelicum[\"include?\"] = c_aristotelicum_coded[\"include?\"].tolist()\n",
    "# 2) use the \"include?\" column for filtering the new dataset\n",
    "# 3) drop \"include?\" column \n",
    "c_aristotelicum = c_aristotelicum[c_aristotelicum[\"include?\"]==\"y\"].drop(\"include?\", axis=1)\n",
    "c_aristotelicum.head()"
   ]
  },
  {
   "cell_type": "code",
   "execution_count": 29,
   "metadata": {
    "colab": {
     "base_uri": "https://localhost:8080/",
     "height": 34
    },
    "colab_type": "code",
    "executionInfo": {
     "elapsed": 11500,
     "status": "ok",
     "timestamp": 1588854352428,
     "user": {
      "displayName": "Vojtěch Kaše",
      "photoUrl": "https://lh3.googleusercontent.com/a-/AOh14Ggz3jS9e7I3GdIEbyBKFtqr9tPdNCwyLBEJwbK8cw=s64",
      "userId": "01399835024022498543"
     },
     "user_tz": -120
    },
    "id": "xQgpw0lxGRas",
    "outputId": "c3d1684c-1bff-40a5-a2d3-e6b20547f5c1"
   },
   "outputs": [
    {
     "data": {
      "text/plain": [
       "27"
      ]
     },
     "execution_count": 29,
     "metadata": {},
     "output_type": "execute_result"
    }
   ],
   "source": [
    "len(c_aristotelicum)"
   ]
  },
  {
   "cell_type": "code",
   "execution_count": 30,
   "metadata": {
    "colab": {
     "base_uri": "https://localhost:8080/",
     "height": 34
    },
    "colab_type": "code",
    "executionInfo": {
     "elapsed": 547,
     "status": "ok",
     "timestamp": 1588850871338,
     "user": {
      "displayName": "Vojtěch Kaše",
      "photoUrl": "https://lh3.googleusercontent.com/a-/AOh14Ggz3jS9e7I3GdIEbyBKFtqr9tPdNCwyLBEJwbK8cw=s64",
      "userId": "01399835024022498543"
     },
     "user_tz": -120
    },
    "id": "6ecvbP3J5D9I",
    "outputId": "67ad2c28-7dec-433d-be35-3c09a3475d5c"
   },
   "outputs": [
    {
     "data": {
      "text/plain": [
       "785703"
      ]
     },
     "execution_count": 30,
     "metadata": {},
     "output_type": "execute_result"
    }
   ],
   "source": [
    "c_aristotelicum[\"wordcount\"].sum()"
   ]
  },
  {
   "cell_type": "code",
   "execution_count": 31,
   "metadata": {
    "colab": {},
    "colab_type": "code",
    "id": "C-S7Zm352x1O"
   },
   "outputs": [],
   "source": [
    "#set_with_dataframe(PIA_overview.add_worksheet(\"c_aristotelicum_OVERVIEW_NEW\", rows=1, cols=1), c_aristotelicum.drop([\"lemmata\", \"string\", \"lemmatized_sentences\"], axis=1))"
   ]
  },
  {
   "cell_type": "markdown",
   "metadata": {
    "colab_type": "text",
    "id": "pcN5UAlv20oP"
   },
   "source": [
    "# Export the subcorpora into sciencedata\n",
    "\n",
    "We will export the files into Vojtěch's directory on sciencedata.dk, which will be later on made public."
   ]
  },
  {
   "cell_type": "code",
   "execution_count": 32,
   "metadata": {
    "colab": {
     "base_uri": "https://localhost:8080/",
     "height": 68
    },
    "colab_type": "code",
    "executionInfo": {
     "elapsed": 18398,
     "status": "ok",
     "timestamp": 1588850396056,
     "user": {
      "displayName": "Vojtěch Kaše",
      "photoUrl": "https://lh3.googleusercontent.com/a-/AOh14Ggz3jS9e7I3GdIEbyBKFtqr9tPdNCwyLBEJwbK8cw=s64",
      "userId": "01399835024022498543"
     },
     "user_tz": -120
    },
    "id": "DivA7VWu29kS",
    "outputId": "2716b1df-26a0-43f7-f63f-9fad5ec35b8e"
   },
   "outputs": [
    {
     "name": "stdout",
     "output_type": "stream",
     "text": [
      "sciencedata.dk username (format '123456@au.dk'): 648597@au.dk\n",
      "sciencedata.dk password: ········\n",
      "endpoint variable has been configured to: https://sciencedata.dk/files/\n"
     ]
    }
   ],
   "source": [
    "conf = sddk.configure()"
   ]
  },
  {
   "cell_type": "code",
   "execution_count": 33,
   "metadata": {
    "colab": {
     "base_uri": "https://localhost:8080/",
     "height": 173
    },
    "colab_type": "code",
    "executionInfo": {
     "elapsed": 88737,
     "status": "ok",
     "timestamp": 1588850805355,
     "user": {
      "displayName": "Vojtěch Kaše",
      "photoUrl": "https://lh3.googleusercontent.com/a-/AOh14Ggz3jS9e7I3GdIEbyBKFtqr9tPdNCwyLBEJwbK8cw=s64",
      "userId": "01399835024022498543"
     },
     "user_tz": -120
    },
    "id": "WgcTdGdG3sdE",
    "outputId": "941cb596-832f-4943-a8a1-1be36e138224"
   },
   "outputs": [],
   "source": [
    "###publicfolder = \"31b393e2afe1ee96ce81869c7efe18cb\"\n",
    "### sddk.write_file(\"https://sciencedata.dk/public\" + publicfolder + \"/c_hippocraticum.json\", c_hippocraticum)\n"
   ]
  },
  {
   "cell_type": "code",
   "execution_count": 34,
   "metadata": {
    "colab": {
     "base_uri": "https://localhost:8080/",
     "height": 88
    },
    "colab_type": "code",
    "executionInfo": {
     "elapsed": 15299,
     "status": "ok",
     "timestamp": 1588850946071,
     "user": {
      "displayName": "Vojtěch Kaše",
      "photoUrl": "https://lh3.googleusercontent.com/a-/AOh14Ggz3jS9e7I3GdIEbyBKFtqr9tPdNCwyLBEJwbK8cw=s64",
      "userId": "01399835024022498543"
     },
     "user_tz": -120
    },
    "id": "oOZjSlCX5KX0",
    "outputId": "dce616f1-04a5-47ca-c43a-43556b68216e"
   },
   "outputs": [
    {
     "name": "stdout",
     "output_type": "stream",
     "text": [
      "A file with the same name (\"c_hippocraticum.json\") already exists in this location.\n",
      "Press Enter to overwrite it or choose different path and filename: \n",
      "Your <class 'pandas.core.frame.DataFrame'> object has been succefully written as \"https://sciencedata.dk/files/public_data/PIA/c_hippocraticum.json\"\n"
     ]
    }
   ],
   "source": [
    "sddk.write_file(\"public_data/PIA/c_hippocraticum.json\", c_hippocraticum, conf)"
   ]
  },
  {
   "cell_type": "code",
   "execution_count": 35,
   "metadata": {
    "colab": {
     "base_uri": "https://localhost:8080/",
     "height": 54
    },
    "colab_type": "code",
    "executionInfo": {
     "elapsed": 6197,
     "status": "ok",
     "timestamp": 1588850971095,
     "user": {
      "displayName": "Vojtěch Kaše",
      "photoUrl": "https://lh3.googleusercontent.com/a-/AOh14Ggz3jS9e7I3GdIEbyBKFtqr9tPdNCwyLBEJwbK8cw=s64",
      "userId": "01399835024022498543"
     },
     "user_tz": -120
    },
    "id": "CRZqXSOM3SQL",
    "outputId": "6edb5a03-0ff1-4b86-d482-ce6ac7aec8bb"
   },
   "outputs": [
    {
     "name": "stdout",
     "output_type": "stream",
     "text": [
      "A file with the same name (\"c_aristotelicum.json\") already exists in this location.\n",
      "Press Enter to overwrite it or choose different path and filename: \n",
      "Your <class 'pandas.core.frame.DataFrame'> object has been succefully written as \"https://sciencedata.dk/files/public_data/PIA/c_aristotelicum.json\"\n"
     ]
    }
   ],
   "source": [
    "sddk.write_file(\"public_data/PIA/c_aristotelicum.json\", c_aristotelicum, conf)"
   ]
  },
  {
   "cell_type": "code",
   "execution_count": null,
   "metadata": {},
   "outputs": [],
   "source": []
  }
 ],
 "metadata": {
  "colab": {
   "collapsed_sections": [],
   "name": "0_EXTRACTING-CORPORA.ipynb",
   "provenance": []
  },
  "kernelspec": {
   "display_name": "Python 3",
   "language": "python",
   "name": "python3"
  },
  "language_info": {
   "codemirror_mode": {
    "name": "ipython",
    "version": 3
   },
   "file_extension": ".py",
   "mimetype": "text/x-python",
   "name": "python",
   "nbconvert_exporter": "python",
   "pygments_lexer": "ipython3",
   "version": "3.6.9"
  }
 },
 "nbformat": 4,
 "nbformat_minor": 1
}
