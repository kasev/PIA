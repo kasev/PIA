{
 "cells": [
  {
   "cell_type": "code",
   "execution_count": 1,
   "metadata": {
    "colab": {
     "base_uri": "https://localhost:8080/",
     "height": 415
    },
    "colab_type": "code",
    "id": "YLcAu3mXJOpL",
    "outputId": "93fa27bc-c5fe-433c-cc4c-109fdd97380e"
   },
   "outputs": [],
   "source": [
    "### PREREQUISTIES\n",
    "### (many used only in one notebook...)\n",
    "\n",
    "import os\n",
    "import pandas as pd\n",
    "import numpy as np\n",
    "import logging ### to monitor the code\n",
    "from bs4 import BeautifulSoup\n",
    "import pickle\n",
    "import math\n",
    "import random\n",
    "import sys\n",
    "import csv\n",
    "import unicodedata\n",
    "import requests\n",
    "import re\n",
    "\n",
    "import nltk\n",
    "from nltk.collocations import *\n",
    "\n",
    "import networkx as nx\n",
    "\n",
    "import matplotlib.pyplot as plt\n",
    "import seaborn as sns\n",
    "\n",
    "from scipy import stats\n",
    "\n",
    "import xml.etree.cElementTree as ET\n",
    "from urllib.request import urlopen\n",
    "\n",
    "import gspread\n",
    "from gspread_dataframe import get_as_dataframe, set_with_dataframe\n",
    "#from google.colab import auth\n",
    "#from oauth2client.client import GoogleCredentials\n",
    "from google.oauth2 import service_account # based on google-auth library\n",
    "import sddk"
   ]
  },
  {
   "cell_type": "code",
   "execution_count": 3,
   "metadata": {
    "colab": {
     "base_uri": "https://localhost:8080/",
     "height": 127
    },
    "colab_type": "code",
    "id": "W2TxLXhwp_zD",
    "outputId": "a39f89e7-c18c-4fc1-aae8-6cf288fef849"
   },
   "outputs": [],
   "source": [
    "#from anda import gr\n",
    "# OR uncomment the following:\n",
    "script_url = \"https://raw.githubusercontent.com/sdam-au/anda_py/master/anda/gr.py\"\n",
    "exec(requests.get(script_url).content)"
   ]
  },
  {
   "cell_type": "code",
   "execution_count": 3,
   "metadata": {},
   "outputs": [
    {
     "ename": "NameError",
     "evalue": "name 'morpheus_dict' is not defined",
     "output_type": "error",
     "traceback": [
      "\u001b[0;31m---------------------------------------------------------------------------\u001b[0m",
      "\u001b[0;31mNameError\u001b[0m                                 Traceback (most recent call last)",
      "\u001b[0;32m<ipython-input-3-c9a72c0deed5>\u001b[0m in \u001b[0;36m<module>\u001b[0;34m\u001b[0m\n\u001b[0;32m----> 1\u001b[0;31m \u001b[0mmorpheus_dict\u001b[0m\u001b[0;34m[\u001b[0m\u001b[0;34m\"πυρετός\"\u001b[0m\u001b[0;34m]\u001b[0m\u001b[0;34m\u001b[0m\u001b[0;34m\u001b[0m\u001b[0m\n\u001b[0m",
      "\u001b[0;31mNameError\u001b[0m: name 'morpheus_dict' is not defined"
     ]
    }
   ],
   "source": [
    "morpheus_dict[\"πυρετός\"]"
   ]
  },
  {
   "cell_type": "code",
   "execution_count": 4,
   "metadata": {
    "colab": {
     "base_uri": "https://localhost:8080/",
     "height": 71
    },
    "colab_type": "code",
    "id": "Vk65k519TvBW",
    "outputId": "7c100dcf-1b99-4459-aa4e-a992cd5c1738"
   },
   "outputs": [
    {
     "name": "stdout",
     "output_type": "stream",
     "text": [
      "sciencedata.dk username (format '123456@au.dk'): 648597@au.dk\n",
      "sciencedata.dk password: ········\n",
      "endpoint variable has been configured to: https://sciencedata.dk/files/\n"
     ]
    }
   ],
   "source": [
    "### not neccessary for reading the data, just for exporting them to sciencedata.dk\n",
    "conf = sddk.configure()"
   ]
  },
  {
   "cell_type": "code",
   "execution_count": 5,
   "metadata": {
    "colab": {},
    "colab_type": "code",
    "id": "R52NxzfHf8kS"
   },
   "outputs": [],
   "source": [
    "# to access gsheet, you need Google Service Account key json file\n",
    "# I have mine located in my personal space on sciencedata.dk, so I read it from there:\n",
    "\n",
    "# (1) read the file and parse its content\n",
    "file_data = conf[0].get(conf[1] + \"ServiceAccountsKey.json\").json()\n",
    "# (2) transform the content into crendentials object\n",
    "credentials = service_account.Credentials.from_service_account_info(file_data)\n",
    "# (3) specify your usage of the credentials\n",
    "scoped_credentials = credentials.with_scopes(['https://spreadsheets.google.com/feeds', 'https://www.googleapis.com/auth/drive'])\n",
    "# (4) use the constrained credentials for authentication of gspread package\n",
    "gc = gspread.Client(auth=scoped_credentials)\n",
    "# (5) establish connection with spreadsheets specified by their url\n",
    "PIA_data = gc.open_by_url(\"https://docs.google.com/spreadsheets/d/1KxOx7Be9fj3lDcEPgQhQ-Iqcn9p367-MMD6RMXe8rks/edit?usp=sharing\")\n",
    "PIA_overview = gc.open_by_url(\"https://docs.google.com/spreadsheets/d/1e94wyelg6dftQ4zxbq1xvwxWAI-BhcYXtclDW-YTnrw/edit?usp=sharing\")"
   ]
  },
  {
   "cell_type": "code",
   "execution_count": 6,
   "metadata": {
    "colab": {
     "base_uri": "https://localhost:8080/",
     "height": 53
    },
    "colab_type": "code",
    "id": "WgcTdGdG3sdE",
    "outputId": "94afe964-e7bc-4bf0-f3cb-f49edcde58c6"
   },
   "outputs": [
    {
     "name": "stdout",
     "output_type": "stream",
     "text": [
      "reading file located in a public folder\n",
      "reading file located in a public folder\n"
     ]
    }
   ],
   "source": [
    "### our data are located within a publicly available folder on sciencedata.dk\n",
    "publicfolder = \"31b393e2afe1ee96ce81869c7efe18cb\"\n",
    "c_aristotelicum = sddk.read_file(\"c_aristotelicum.json\", \"df\", publicfolder)\n",
    "c_hippocraticum = sddk.read_file(\"c_hippocraticum.json\", \"df\", publicfolder)"
   ]
  },
  {
   "cell_type": "code",
   "execution_count": 7,
   "metadata": {
    "colab": {
     "base_uri": "https://localhost:8080/",
     "height": 632
    },
    "colab_type": "code",
    "id": "O24rUTeB7q8M",
    "outputId": "31ca2fd3-619f-4b2e-9853-c59c79c25ea7"
   },
   "outputs": [
    {
     "data": {
      "text/html": [
       "<div>\n",
       "<style scoped>\n",
       "    .dataframe tbody tr th:only-of-type {\n",
       "        vertical-align: middle;\n",
       "    }\n",
       "\n",
       "    .dataframe tbody tr th {\n",
       "        vertical-align: top;\n",
       "    }\n",
       "\n",
       "    .dataframe thead th {\n",
       "        text-align: right;\n",
       "    }\n",
       "</style>\n",
       "<table border=\"1\" class=\"dataframe\">\n",
       "  <thead>\n",
       "    <tr style=\"text-align: right;\">\n",
       "      <th></th>\n",
       "      <th>filename</th>\n",
       "      <th>author</th>\n",
       "      <th>title</th>\n",
       "      <th>wordcount</th>\n",
       "      <th>author_id</th>\n",
       "      <th>doc_id</th>\n",
       "      <th>raw_date</th>\n",
       "      <th>date_avr</th>\n",
       "      <th>date_probs</th>\n",
       "      <th>date_manual</th>\n",
       "      <th>provenience</th>\n",
       "      <th>tlg_epithet</th>\n",
       "      <th>clean_string</th>\n",
       "      <th>sentences</th>\n",
       "      <th>n_sentences</th>\n",
       "      <th>lemmatized_sentences</th>\n",
       "      <th>lemmata</th>\n",
       "      <th>lemmata_wordcount</th>\n",
       "    </tr>\n",
       "  </thead>\n",
       "  <tbody>\n",
       "    <tr>\n",
       "      <th>685</th>\n",
       "      <td>tlg0086.tlg001.1st1K-grc2.xml</td>\n",
       "      <td>Aristotle</td>\n",
       "      <td>Aristotelis Analytica Priora et Posteriora</td>\n",
       "      <td>59614</td>\n",
       "      <td>tlg0086</td>\n",
       "      <td>tlg0086.tlg001</td>\n",
       "      <td>4 B.C.</td>\n",
       "      <td>-3.5</td>\n",
       "      <td>{'-3.5': 1}</td>\n",
       "      <td>-3.5</td>\n",
       "      <td>pagan</td>\n",
       "      <td>Philosophici/-ae</td>\n",
       "      <td>Πρῶτον εἰπεῖν περὶ τί καὶ τίνος ἐστὶν ἡ σκέψις...</td>\n",
       "      <td>[Πρῶτον εἰπεῖν περὶ τί καὶ τίνος ἐστὶν ἡ σκέψι...</td>\n",
       "      <td>3710</td>\n",
       "      <td>[[λέγω, εἰμί, σκέψις, ἀπόδειξις, ἐπιστήμη, ἀπο...</td>\n",
       "      <td>[λέγω, εἰμί, σκέψις, ἀπόδειξις, ἐπιστήμη, ἀποδ...</td>\n",
       "      <td>24826</td>\n",
       "    </tr>\n",
       "    <tr>\n",
       "      <th>686</th>\n",
       "      <td>tlg0086.tlg002.1st1K-grc2.xml</td>\n",
       "      <td>Aristotle</td>\n",
       "      <td>De anima</td>\n",
       "      <td>20912</td>\n",
       "      <td>tlg0086</td>\n",
       "      <td>tlg0086.tlg002</td>\n",
       "      <td>4 B.C.</td>\n",
       "      <td>-3.5</td>\n",
       "      <td>{'-3.5': 1}</td>\n",
       "      <td>-3.5</td>\n",
       "      <td>pagan</td>\n",
       "      <td>Philosophici/-ae</td>\n",
       "      <td>Τῶν καλῶν καὶ τιμίων τὴν εἴδησιν ὑπολαμβάνοντε...</td>\n",
       "      <td>[Τῶν καλῶν καὶ τιμίων τὴν εἴδησιν ὑπολαμβάνοντ...</td>\n",
       "      <td>1317</td>\n",
       "      <td>[[καλός, τίμιος, εἶδος, ὑπολαμβάνω, ἕτερος, ἕτ...</td>\n",
       "      <td>[καλός, τίμιος, εἶδος, ὑπολαμβάνω, ἕτερος, ἕτε...</td>\n",
       "      <td>9358</td>\n",
       "    </tr>\n",
       "    <tr>\n",
       "      <th>688</th>\n",
       "      <td>tlg0086.tlg005.1st1K-grc1.xml</td>\n",
       "      <td>Aristotle</td>\n",
       "      <td>De caelo</td>\n",
       "      <td>30794</td>\n",
       "      <td>tlg0086</td>\n",
       "      <td>tlg0086.tlg005</td>\n",
       "      <td>4 B.C.</td>\n",
       "      <td>-3.5</td>\n",
       "      <td>{'-3.5': 1}</td>\n",
       "      <td>-3.5</td>\n",
       "      <td>pagan</td>\n",
       "      <td>Philosophici/-ae</td>\n",
       "      <td>Ἡ περὶ φύσεως ἐπιστήμη σχεδὸν ἡ πλείστη φαίνετ...</td>\n",
       "      <td>[Ἡ περὶ φύσεως ἐπιστήμη σχεδὸν ἡ πλείστη φαίνε...</td>\n",
       "      <td>2276</td>\n",
       "      <td>[[φύσις, ἐπιστήμη, πλεῖστος, φαίνω, σῶμα, μέγε...</td>\n",
       "      <td>[φύσις, ἐπιστήμη, πλεῖστος, φαίνω, σῶμα, μέγεθ...</td>\n",
       "      <td>13320</td>\n",
       "    </tr>\n",
       "    <tr>\n",
       "      <th>689</th>\n",
       "      <td>tlg0086.tlg006.1st1K-grc1.xml</td>\n",
       "      <td>Aristotle</td>\n",
       "      <td>Categoriae</td>\n",
       "      <td>10316</td>\n",
       "      <td>tlg0086</td>\n",
       "      <td>tlg0086.tlg006</td>\n",
       "      <td>4 B.C.</td>\n",
       "      <td>-3.5</td>\n",
       "      <td>{'-3.5': 1}</td>\n",
       "      <td>-3.5</td>\n",
       "      <td>pagan</td>\n",
       "      <td>Philosophici/-ae</td>\n",
       "      <td>ὉΜΩΝΥΜΑ λέγεται ὧν ὄνομα μόνον κοινόν, ὁ δὲ κα...</td>\n",
       "      <td>[ὉΜΩΝΥΜΑ λέγεται ὧν ὄνομα μόνον κοινόν, ὁ δὲ κ...</td>\n",
       "      <td>660</td>\n",
       "      <td>[[ὁμώνυμος, λέγω, ὄνομα, μόνος, κοινός, ὄνομα,...</td>\n",
       "      <td>[ὁμώνυμος, λέγω, ὄνομα, μόνος, κοινός, ὄνομα, ...</td>\n",
       "      <td>4568</td>\n",
       "    </tr>\n",
       "    <tr>\n",
       "      <th>690</th>\n",
       "      <td>tlg0086.tlg008.1st1K-grc1.xml</td>\n",
       "      <td>Aristotle</td>\n",
       "      <td>De divinatione per somnum</td>\n",
       "      <td>1194</td>\n",
       "      <td>tlg0086</td>\n",
       "      <td>tlg0086.tlg008</td>\n",
       "      <td>4 B.C.</td>\n",
       "      <td>-3.5</td>\n",
       "      <td>{'-3.5': 1}</td>\n",
       "      <td>-3.5</td>\n",
       "      <td>pagan</td>\n",
       "      <td>Philosophici/-ae</td>\n",
       "      <td>Περὶ δὲ τῆς μαντικῆς τῆς ἐν τοῖς ὕπνοις γινομέ...</td>\n",
       "      <td>[Περὶ δὲ τῆς μαντικῆς τῆς ἐν τοῖς ὕπνοις γινομ...</td>\n",
       "      <td>68</td>\n",
       "      <td>[[μαντικός, ὕπνος, γίγνομαι, λέγω, συμβαίνω, ἐ...</td>\n",
       "      <td>[μαντικός, ὕπνος, γίγνομαι, λέγω, συμβαίνω, ἐν...</td>\n",
       "      <td>544</td>\n",
       "    </tr>\n",
       "  </tbody>\n",
       "</table>\n",
       "</div>"
      ],
      "text/plain": [
       "                          filename     author  \\\n",
       "685  tlg0086.tlg001.1st1K-grc2.xml  Aristotle   \n",
       "686  tlg0086.tlg002.1st1K-grc2.xml  Aristotle   \n",
       "688  tlg0086.tlg005.1st1K-grc1.xml  Aristotle   \n",
       "689  tlg0086.tlg006.1st1K-grc1.xml  Aristotle   \n",
       "690  tlg0086.tlg008.1st1K-grc1.xml  Aristotle   \n",
       "\n",
       "                                          title  wordcount author_id  \\\n",
       "685  Aristotelis Analytica Priora et Posteriora      59614   tlg0086   \n",
       "686                                    De anima      20912   tlg0086   \n",
       "688                                    De caelo      30794   tlg0086   \n",
       "689                                  Categoriae      10316   tlg0086   \n",
       "690                   De divinatione per somnum       1194   tlg0086   \n",
       "\n",
       "             doc_id raw_date  date_avr   date_probs  date_manual provenience  \\\n",
       "685  tlg0086.tlg001   4 B.C.      -3.5  {'-3.5': 1}         -3.5       pagan   \n",
       "686  tlg0086.tlg002   4 B.C.      -3.5  {'-3.5': 1}         -3.5       pagan   \n",
       "688  tlg0086.tlg005   4 B.C.      -3.5  {'-3.5': 1}         -3.5       pagan   \n",
       "689  tlg0086.tlg006   4 B.C.      -3.5  {'-3.5': 1}         -3.5       pagan   \n",
       "690  tlg0086.tlg008   4 B.C.      -3.5  {'-3.5': 1}         -3.5       pagan   \n",
       "\n",
       "          tlg_epithet                                       clean_string  \\\n",
       "685  Philosophici/-ae  Πρῶτον εἰπεῖν περὶ τί καὶ τίνος ἐστὶν ἡ σκέψις...   \n",
       "686  Philosophici/-ae  Τῶν καλῶν καὶ τιμίων τὴν εἴδησιν ὑπολαμβάνοντε...   \n",
       "688  Philosophici/-ae  Ἡ περὶ φύσεως ἐπιστήμη σχεδὸν ἡ πλείστη φαίνετ...   \n",
       "689  Philosophici/-ae  ὉΜΩΝΥΜΑ λέγεται ὧν ὄνομα μόνον κοινόν, ὁ δὲ κα...   \n",
       "690  Philosophici/-ae  Περὶ δὲ τῆς μαντικῆς τῆς ἐν τοῖς ὕπνοις γινομέ...   \n",
       "\n",
       "                                             sentences  n_sentences  \\\n",
       "685  [Πρῶτον εἰπεῖν περὶ τί καὶ τίνος ἐστὶν ἡ σκέψι...         3710   \n",
       "686  [Τῶν καλῶν καὶ τιμίων τὴν εἴδησιν ὑπολαμβάνοντ...         1317   \n",
       "688  [Ἡ περὶ φύσεως ἐπιστήμη σχεδὸν ἡ πλείστη φαίνε...         2276   \n",
       "689  [ὉΜΩΝΥΜΑ λέγεται ὧν ὄνομα μόνον κοινόν, ὁ δὲ κ...          660   \n",
       "690  [Περὶ δὲ τῆς μαντικῆς τῆς ἐν τοῖς ὕπνοις γινομ...           68   \n",
       "\n",
       "                                  lemmatized_sentences  \\\n",
       "685  [[λέγω, εἰμί, σκέψις, ἀπόδειξις, ἐπιστήμη, ἀπο...   \n",
       "686  [[καλός, τίμιος, εἶδος, ὑπολαμβάνω, ἕτερος, ἕτ...   \n",
       "688  [[φύσις, ἐπιστήμη, πλεῖστος, φαίνω, σῶμα, μέγε...   \n",
       "689  [[ὁμώνυμος, λέγω, ὄνομα, μόνος, κοινός, ὄνομα,...   \n",
       "690  [[μαντικός, ὕπνος, γίγνομαι, λέγω, συμβαίνω, ἐ...   \n",
       "\n",
       "                                               lemmata  lemmata_wordcount  \n",
       "685  [λέγω, εἰμί, σκέψις, ἀπόδειξις, ἐπιστήμη, ἀποδ...              24826  \n",
       "686  [καλός, τίμιος, εἶδος, ὑπολαμβάνω, ἕτερος, ἕτε...               9358  \n",
       "688  [φύσις, ἐπιστήμη, πλεῖστος, φαίνω, σῶμα, μέγεθ...              13320  \n",
       "689  [ὁμώνυμος, λέγω, ὄνομα, μόνος, κοινός, ὄνομα, ...               4568  \n",
       "690  [μαντικός, ὕπνος, γίγνομαι, λέγω, συμβαίνω, ἐν...                544  "
      ]
     },
     "execution_count": 7,
     "metadata": {},
     "output_type": "execute_result"
    }
   ],
   "source": [
    "# look at first 5 rows\n",
    "c_aristotelicum.head(5)"
   ]
  },
  {
   "cell_type": "markdown",
   "metadata": {
    "colab_type": "text",
    "id": "75BYeQ0g8sac"
   },
   "source": [
    "# Exploring Nicomachean Ethics\n",
    "feel free to skip this section"
   ]
  },
  {
   "cell_type": "code",
   "execution_count": 8,
   "metadata": {
    "colab": {
     "base_uri": "https://localhost:8080/",
     "height": 198
    },
    "colab_type": "code",
    "id": "ooP_2VzEoOdB",
    "outputId": "be8781d8-20ea-4be2-fd93-c846a9667172"
   },
   "outputs": [
    {
     "data": {
      "text/html": [
       "<div>\n",
       "<style scoped>\n",
       "    .dataframe tbody tr th:only-of-type {\n",
       "        vertical-align: middle;\n",
       "    }\n",
       "\n",
       "    .dataframe tbody tr th {\n",
       "        vertical-align: top;\n",
       "    }\n",
       "\n",
       "    .dataframe thead th {\n",
       "        text-align: right;\n",
       "    }\n",
       "</style>\n",
       "<table border=\"1\" class=\"dataframe\">\n",
       "  <thead>\n",
       "    <tr style=\"text-align: right;\">\n",
       "      <th></th>\n",
       "      <th>filename</th>\n",
       "      <th>author</th>\n",
       "      <th>title</th>\n",
       "      <th>wordcount</th>\n",
       "      <th>author_id</th>\n",
       "      <th>doc_id</th>\n",
       "      <th>raw_date</th>\n",
       "      <th>date_avr</th>\n",
       "      <th>date_probs</th>\n",
       "      <th>date_manual</th>\n",
       "      <th>provenience</th>\n",
       "      <th>tlg_epithet</th>\n",
       "      <th>clean_string</th>\n",
       "      <th>sentences</th>\n",
       "      <th>n_sentences</th>\n",
       "      <th>lemmatized_sentences</th>\n",
       "      <th>lemmata</th>\n",
       "      <th>lemmata_wordcount</th>\n",
       "    </tr>\n",
       "  </thead>\n",
       "  <tbody>\n",
       "    <tr>\n",
       "      <th>692</th>\n",
       "      <td>tlg0086.tlg010.perseus-grc1.xml</td>\n",
       "      <td>Aristotle</td>\n",
       "      <td>Nicomachean Ethics</td>\n",
       "      <td>56620</td>\n",
       "      <td>tlg0086</td>\n",
       "      <td>tlg0086.tlg010</td>\n",
       "      <td>4 B.C.</td>\n",
       "      <td>-3.5</td>\n",
       "      <td>{'-3.5': 1}</td>\n",
       "      <td>-3.5</td>\n",
       "      <td>pagan</td>\n",
       "      <td>Philosophici/-ae</td>\n",
       "      <td>πᾶσα τέχνη καὶ πᾶσα μέθοδος, ὁμοίως δὲ πρᾶξίς ...</td>\n",
       "      <td>[πᾶσα τέχνη καὶ πᾶσα μέθοδος, ὁμοίως δὲ πρᾶξίς...</td>\n",
       "      <td>3920</td>\n",
       "      <td>[[τέχνη, μέθοδος, πρᾶξις, προαίρεσις, ἀγαθός, ...</td>\n",
       "      <td>[τέχνη, μέθοδος, πρᾶξις, προαίρεσις, ἀγαθός, ἐ...</td>\n",
       "      <td>24876</td>\n",
       "    </tr>\n",
       "  </tbody>\n",
       "</table>\n",
       "</div>"
      ],
      "text/plain": [
       "                            filename     author               title  \\\n",
       "692  tlg0086.tlg010.perseus-grc1.xml  Aristotle  Nicomachean Ethics   \n",
       "\n",
       "     wordcount author_id          doc_id raw_date  date_avr   date_probs  \\\n",
       "692      56620   tlg0086  tlg0086.tlg010   4 B.C.      -3.5  {'-3.5': 1}   \n",
       "\n",
       "     date_manual provenience       tlg_epithet  \\\n",
       "692         -3.5       pagan  Philosophici/-ae   \n",
       "\n",
       "                                          clean_string  \\\n",
       "692  πᾶσα τέχνη καὶ πᾶσα μέθοδος, ὁμοίως δὲ πρᾶξίς ...   \n",
       "\n",
       "                                             sentences  n_sentences  \\\n",
       "692  [πᾶσα τέχνη καὶ πᾶσα μέθοδος, ὁμοίως δὲ πρᾶξίς...         3920   \n",
       "\n",
       "                                  lemmatized_sentences  \\\n",
       "692  [[τέχνη, μέθοδος, πρᾶξις, προαίρεσις, ἀγαθός, ...   \n",
       "\n",
       "                                               lemmata  lemmata_wordcount  \n",
       "692  [τέχνη, μέθοδος, πρᾶξις, προαίρεσις, ἀγαθός, ἐ...              24876  "
      ]
     },
     "execution_count": 8,
     "metadata": {},
     "output_type": "execute_result"
    }
   ],
   "source": [
    "EN_df = c_aristotelicum[c_aristotelicum[\"doc_id\"]==\"tlg0086.tlg010\"]\n",
    "EN_df"
   ]
  },
  {
   "cell_type": "code",
   "execution_count": 9,
   "metadata": {
    "colab": {
     "base_uri": "https://localhost:8080/",
     "height": 54
    },
    "colab_type": "code",
    "id": "k4kJcoTvoO-F",
    "outputId": "c0e72f07-ab39-4de8-f911-5f8663a33b11"
   },
   "outputs": [
    {
     "name": "stdout",
     "output_type": "stream",
     "text": [
      "[['τέχνη', 'μέθοδος', 'πρᾶξις', 'προαίρεσις', 'ἀγαθός', 'ἐφίημι', 'δοκέω'], ['ἀποφαίνω', 'ἀγαθός', 'πᾶς', 'ἐφίημι'], ['διαφορά', 'φαίνω', 'τελέω'], ['εἰμί', 'ἐνέργεια', 'αὐτός', 'ἔργον'], ['τέλος', 'πρᾶξις', 'βελτίων', 'φύω', 'ἐνέργεια', 'ἔργον'], ['πολύς', 'πρᾶξις', 'τέχνη', 'ἐπιστήμη', 'πολύς', 'γίγνομαι', 'τέλος'], ['ἰατρικός', 'ὑγίεια', 'ναυπηγικός', 'πλοῖον', 'στρατηγικός', 'νίκη', 'οἰκονομικός', 'πλοῦτος'], ['τοιοῦτος', 'εἷς', 'δύναμις', 'ἱππικός', 'χαλινοποιική', 'ἱππικός', 'ὄργανον', 'εἰμί', 'πολεμικός', 'πρᾶξις', 'στρατηγικός', 'αὐτός', 'τρόπος', 'ἄλλος', 'ἕτερος'], ['ἅπας', 'ἀρχιτεκτονικῶν', 'τέλος', 'αἱρετός'], ['οὗτος', 'χάρις', 'ἐκεῖνος', 'διώκω']]\n"
     ]
    }
   ],
   "source": [
    "print(EN_df[\"lemmatized_sentences\"].tolist()[0][:10])"
   ]
  },
  {
   "cell_type": "code",
   "execution_count": 11,
   "metadata": {
    "colab": {
     "base_uri": "https://localhost:8080/",
     "height": 269
    },
    "colab_type": "code",
    "id": "RjW2CTnpRH8D",
    "outputId": "0f734a32-06b9-4c69-c228-85890138d841"
   },
   "outputs": [
    {
     "data": {
      "text/plain": [
       "[['τέχνη', 'μέθοδος', 'πρᾶξις', 'προαίρεσις', 'ἀγαθός', 'ἐφίημι', 'δοκέω'],\n",
       " ['ἀποφαίνω', 'ἀγαθός', 'πᾶς', 'ἐφίημι'],\n",
       " ['διαφορά', 'φαίνω', 'τελέω'],\n",
       " ['εἰμί', 'ἐνέργεια', 'αὐτός', 'ἔργον'],\n",
       " ['τέλος', 'πρᾶξις', 'βελτίων', 'φύω', 'ἐνέργεια', 'ἔργον']]"
      ]
     },
     "execution_count": 11,
     "metadata": {},
     "output_type": "execute_result"
    }
   ],
   "source": [
    "EN_df[\"lemmatized_sentences\"].tolist()[0][:5]"
   ]
  },
  {
   "cell_type": "code",
   "execution_count": 12,
   "metadata": {
    "colab": {
     "base_uri": "https://localhost:8080/",
     "height": 35
    },
    "colab_type": "code",
    "id": "JM6yDODbRWrg",
    "outputId": "0f60aab0-d4be-4c3f-9ca0-5bec5b1a4f08"
   },
   "outputs": [
    {
     "data": {
      "text/plain": [
       "'τέχνη μέθοδος πρᾶξις προαίρεσις ἀγαθός ἐφίημι δοκέω'"
      ]
     },
     "execution_count": 12,
     "metadata": {},
     "output_type": "execute_result"
    }
   ],
   "source": [
    "\" \".join(EN_df[\"lemmatized_sentences\"].tolist()[0][0])"
   ]
  },
  {
   "cell_type": "code",
   "execution_count": 13,
   "metadata": {
    "colab": {},
    "colab_type": "code",
    "id": "HjZiVw_4P6Vr"
   },
   "outputs": [],
   "source": [
    "EN_sentences = \"\"\n",
    "for sentence in EN_df[\"lemmatized_sentences\"].tolist()[0]:\n",
    "  EN_sentences = EN_sentences + \" \".join(sentence) + \". \""
   ]
  },
  {
   "cell_type": "code",
   "execution_count": 14,
   "metadata": {
    "colab": {
     "base_uri": "https://localhost:8080/",
     "height": 153
    },
    "colab_type": "code",
    "id": "mRKTLDfXRDDh",
    "outputId": "fefe726c-8354-40c7-ec42-740ecb92a38f"
   },
   "outputs": [
    {
     "data": {
      "text/plain": [
       "'τέχνη μέθοδος πρᾶξις προαίρεσις ἀγαθός ἐφίημι δοκέω. ἀποφαίνω ἀγαθός πᾶς ἐφίημι. διαφορά φαίνω τελέω. εἰμί ἐνέργεια αὐτός ἔργον. τέλος πρᾶξις βελτίων φύω ἐνέργεια ἔργον. πολύς πρᾶξις τέχνη ἐπιστήμη πολύς γίγνομαι τέλος. ἰατρικός ὑγίεια ναυπηγικός πλοῖον στρατηγικός νίκη οἰκονομικός πλοῦτος. τοιοῦτος εἷς δύναμις ἱππικός χαλινοποιική ἱππικός ὄργανον εἰμί πολεμικός πρᾶξις στρατηγικός αὐτός τρόπος ἄλλος ἕτερος. ἅπας ἀρχιτεκτονικῶν τέλος αἱρετός. οὗτος χάρις ἐκεῖνος διώκω. διαφέρω ἐνέργεια τέλος πρᾶξις οὗτος ἄλλος λεχθεισῶν ἐπιστήμη. τὶς τέλος πρακτός ἑαυτοῦ βούλομαι ἄλλος πᾶς ἕτερος αἱρέω ʽπρόεισι ἀπείρων εἰμί κενός μάταιος ὄρεξις δῆλος οὗτος ἀγαθός ἄριστον. βίος γνῶσις μέγας ἔχω ῥοπή τοξότης σκοπός ἔχω τυγχάνω δέον. πειρατέος τύπος περιλαμβάνω ποτός ἐπιστήμη δύναμις. δοκέω κύριος ἀρχιτεκτονικῆς. τοιοῦτος πολιτικός φαίνω. χρῆ ἐπιστήμη πόλις ποῖος ἕκαστος μανθάνω οὗτος διατάσσω. ὁράω ἔντιμος δύναμις εἰμί οἷος στρατηγικός οἰκονομικός ῥητορικός. χρωμένης λοιπός πρακτικός ἐπιστήμη νομοθετούσης'"
      ]
     },
     "execution_count": 14,
     "metadata": {},
     "output_type": "execute_result"
    }
   ],
   "source": [
    "EN_sentences[:1000]"
   ]
  },
  {
   "cell_type": "code",
   "execution_count": 15,
   "metadata": {
    "colab": {
     "base_uri": "https://localhost:8080/",
     "height": 34
    },
    "colab_type": "code",
    "id": "RSFKvJAaRjZd",
    "outputId": "4963a887-977b-46b5-a179-ef02edbc016f"
   },
   "outputs": [
    {
     "data": {
      "text/plain": [
       "183891"
      ]
     },
     "execution_count": 15,
     "metadata": {},
     "output_type": "execute_result"
    }
   ],
   "source": [
    "file_object = open(\"EN_sentences.txt\",\"w\") \n",
    "file_object.write(EN_sentences)"
   ]
  },
  {
   "cell_type": "code",
   "execution_count": 16,
   "metadata": {
    "colab": {
     "base_uri": "https://localhost:8080/",
     "height": 54
    },
    "colab_type": "code",
    "id": "AiSioSHNaRni",
    "outputId": "35b12ce2-00c0-443e-db6f-f5c30bd6f416"
   },
   "outputs": [
    {
     "name": "stdout",
     "output_type": "stream",
     "text": [
      "['τέχνη', 'μέθοδος', 'πρᾶξις', 'προαίρεσις', 'ἀγαθός', 'ἐφίημι', 'δοκέω', 'ἀποφαίνω', 'ἀγαθός', 'πᾶς', 'ἐφίημι', 'διαφορά', 'φαίνω', 'τελέω', 'εἰμί', 'ἐνέργεια', 'αὐτός', 'ἔργον', 'τέλος', 'πρᾶξις', 'βελτίων', 'φύω', 'ἐνέργεια', 'ἔργον', 'πολύς', 'πρᾶξις', 'τέχνη', 'ἐπιστήμη', 'πολύς', 'γίγνομαι', 'τέλος', 'ἰατρικός', 'ὑγίεια', 'ναυπηγικός', 'πλοῖον', 'στρατηγικός', 'νίκη', 'οἰκονομικός', 'πλοῦτος', 'τοιοῦτος', 'εἷς', 'δύναμις', 'ἱππικός', 'χαλινοποιική', 'ἱππικός', 'ὄργανον', 'εἰμί', 'πολεμικός', 'πρᾶξις', 'στρατηγικός', 'αὐτός', 'τρόπος', 'ἄλλος', 'ἕτερος', 'ἅπας', 'ἀρχιτεκτονικῶν', 'τέλος', 'αἱρετός', 'οὗτος', 'χάρις', 'ἐκεῖνος', 'διώκω', 'διαφέρω', 'ἐνέργεια', 'τέλος', 'πρᾶξις', 'οὗτος', 'ἄλλος', 'λεχθεισῶν', 'ἐπιστήμη', 'τὶς', 'τέλος', 'πρακτός', 'ἑαυτοῦ', 'βούλομαι', 'ἄλλος', 'πᾶς', 'ἕτερος', 'αἱρέω', 'ʽπρόεισι', 'ἀπείρων', 'εἰμί', 'κενός', 'μάταιος', 'ὄρεξις', 'δῆλος', 'οὗτος', 'ἀγαθός', 'ἄριστον', 'βίος', 'γνῶσις', 'μέγας', 'ἔχω', 'ῥοπή', 'τοξότης', 'σκοπός', 'ἔχω', 'τυγχάνω', 'δέον', 'πειρατέος']\n"
     ]
    }
   ],
   "source": [
    "print(EN_df[\"lemmata\"].tolist()[0][:100])"
   ]
  },
  {
   "cell_type": "markdown",
   "metadata": {
    "colab_type": "text",
    "id": "oLFpALzA9DJ-"
   },
   "source": [
    "# Key term replacement"
   ]
  },
  {
   "cell_type": "code",
   "execution_count": 17,
   "metadata": {
    "colab": {},
    "colab_type": "code",
    "id": "E9p7LC0vn0Hx"
   },
   "outputs": [],
   "source": [
    "# manually define key terms we are interested in:\n",
    "keyterm_patterns = [(\"^λ[υ|ύ]π.+\", \"λύπ*\"), (\"^[ἀ|ἄ]λγ.+\", \"ἄλγ*\"), (\"^[ὀ|ὠ]δ[ύ|υ]ν.\", \"ὀδύν*\"), (\"^π[ό|ο]ν[ο|ό|έ|ε|η|ή|ῆ](?!ρ).+\", \"πόνο*\")]"
   ]
  },
  {
   "cell_type": "code",
   "execution_count": 18,
   "metadata": {
    "colab": {},
    "colab_type": "code",
    "id": "RncGvPoshJT1"
   },
   "outputs": [],
   "source": [
    "### produce a list of all words from the authors\n",
    "### (useful for a preliminary exploration)\n",
    "aristotle_list = []\n",
    "for list_element in c_aristotelicum[\"lemmata\"].tolist():\n",
    "  aristotle_list.extend(list_element)\n",
    "hippocrates_list = []\n",
    "for list_element in c_hippocraticum[\"lemmata\"].tolist():\n",
    "  hippocrates_list.extend(list_element)\n",
    "one_merged_list = aristotle_list + hippocrates_list"
   ]
  },
  {
   "cell_type": "code",
   "execution_count": 21,
   "metadata": {
    "colab": {
     "base_uri": "https://localhost:8080/",
     "height": 504
    },
    "colab_type": "code",
    "id": "cgQlB5X09qC1",
    "outputId": "2f98274c-bb4e-4e32-b3b5-4681331bdfb5"
   },
   "outputs": [
    {
     "data": {
      "text/html": [
       "<div>\n",
       "<style scoped>\n",
       "    .dataframe tbody tr th:only-of-type {\n",
       "        vertical-align: middle;\n",
       "    }\n",
       "\n",
       "    .dataframe tbody tr th {\n",
       "        vertical-align: top;\n",
       "    }\n",
       "\n",
       "    .dataframe thead th {\n",
       "        text-align: right;\n",
       "    }\n",
       "</style>\n",
       "<table border=\"1\" class=\"dataframe\">\n",
       "  <thead>\n",
       "    <tr style=\"text-align: right;\">\n",
       "      <th></th>\n",
       "      <th>pattern</th>\n",
       "      <th>replacement</th>\n",
       "      <th>match</th>\n",
       "      <th>c_aristotelicum</th>\n",
       "      <th>c_hippocraticum</th>\n",
       "    </tr>\n",
       "  </thead>\n",
       "  <tbody>\n",
       "    <tr>\n",
       "      <th>0</th>\n",
       "      <td>^λ[υ|ύ]π.+</td>\n",
       "      <td>λύπ*</td>\n",
       "      <td>λυπητικός</td>\n",
       "      <td>1</td>\n",
       "      <td>0</td>\n",
       "    </tr>\n",
       "    <tr>\n",
       "      <th>1</th>\n",
       "      <td>^λ[υ|ύ]π.+</td>\n",
       "      <td>λύπ*</td>\n",
       "      <td>λυπέονταί</td>\n",
       "      <td>0</td>\n",
       "      <td>1</td>\n",
       "    </tr>\n",
       "    <tr>\n",
       "      <th>2</th>\n",
       "      <td>^λ[υ|ύ]π.+</td>\n",
       "      <td>λύπ*</td>\n",
       "      <td>λύπαςοὐ</td>\n",
       "      <td>1</td>\n",
       "      <td>0</td>\n",
       "    </tr>\n",
       "    <tr>\n",
       "      <th>3</th>\n",
       "      <td>^λ[υ|ύ]π.+</td>\n",
       "      <td>λύπ*</td>\n",
       "      <td>λυπούμενα</td>\n",
       "      <td>1</td>\n",
       "      <td>0</td>\n",
       "    </tr>\n",
       "    <tr>\n",
       "      <th>4</th>\n",
       "      <td>^λ[υ|ύ]π.+</td>\n",
       "      <td>λύπ*</td>\n",
       "      <td>λυπούμενον</td>\n",
       "      <td>4</td>\n",
       "      <td>0</td>\n",
       "    </tr>\n",
       "    <tr>\n",
       "      <th>...</th>\n",
       "      <td>...</td>\n",
       "      <td>...</td>\n",
       "      <td>...</td>\n",
       "      <td>...</td>\n",
       "      <td>...</td>\n",
       "    </tr>\n",
       "    <tr>\n",
       "      <th>114</th>\n",
       "      <td>^π[ό|ο]ν[ο|ό|έ|ε|η|ή|ῆ](?!ρ).+</td>\n",
       "      <td>πόνο*</td>\n",
       "      <td>πονοῦσαί</td>\n",
       "      <td>1</td>\n",
       "      <td>0</td>\n",
       "    </tr>\n",
       "    <tr>\n",
       "      <th>115</th>\n",
       "      <td>^π[ό|ο]ν[ο|ό|έ|ε|η|ή|ῆ](?!ρ).+</td>\n",
       "      <td>πόνο*</td>\n",
       "      <td>πονοῦντα</td>\n",
       "      <td>0</td>\n",
       "      <td>1</td>\n",
       "    </tr>\n",
       "    <tr>\n",
       "      <th>116</th>\n",
       "      <td>^π[ό|ο]ν[ο|ό|έ|ε|η|ή|ῆ](?!ρ).+</td>\n",
       "      <td>πόνο*</td>\n",
       "      <td>πονέοντος</td>\n",
       "      <td>0</td>\n",
       "      <td>3</td>\n",
       "    </tr>\n",
       "    <tr>\n",
       "      <th>117</th>\n",
       "      <td>^π[ό|ο]ν[ο|ό|έ|ε|η|ή|ῆ](?!ρ).+</td>\n",
       "      <td>πόνο*</td>\n",
       "      <td>πονησάσης</td>\n",
       "      <td>0</td>\n",
       "      <td>1</td>\n",
       "    </tr>\n",
       "    <tr>\n",
       "      <th>118</th>\n",
       "      <td>^π[ό|ο]ν[ο|ό|έ|ε|η|ή|ῆ](?!ρ).+</td>\n",
       "      <td>πόνο*</td>\n",
       "      <td>πονήσαντες</td>\n",
       "      <td>1</td>\n",
       "      <td>1</td>\n",
       "    </tr>\n",
       "  </tbody>\n",
       "</table>\n",
       "<p>119 rows × 5 columns</p>\n",
       "</div>"
      ],
      "text/plain": [
       "                            pattern replacement       match  c_aristotelicum  \\\n",
       "0                        ^λ[υ|ύ]π.+        λύπ*   λυπητικός                1   \n",
       "1                        ^λ[υ|ύ]π.+        λύπ*   λυπέονταί                0   \n",
       "2                        ^λ[υ|ύ]π.+        λύπ*     λύπαςοὐ                1   \n",
       "3                        ^λ[υ|ύ]π.+        λύπ*   λυπούμενα                1   \n",
       "4                        ^λ[υ|ύ]π.+        λύπ*  λυπούμενον                4   \n",
       "..                              ...         ...         ...              ...   \n",
       "114  ^π[ό|ο]ν[ο|ό|έ|ε|η|ή|ῆ](?!ρ).+       πόνο*    πονοῦσαί                1   \n",
       "115  ^π[ό|ο]ν[ο|ό|έ|ε|η|ή|ῆ](?!ρ).+       πόνο*    πονοῦντα                0   \n",
       "116  ^π[ό|ο]ν[ο|ό|έ|ε|η|ή|ῆ](?!ρ).+       πόνο*   πονέοντος                0   \n",
       "117  ^π[ό|ο]ν[ο|ό|έ|ε|η|ή|ῆ](?!ρ).+       πόνο*   πονησάσης                0   \n",
       "118  ^π[ό|ο]ν[ο|ό|έ|ε|η|ή|ῆ](?!ρ).+       πόνο*  πονήσαντες                1   \n",
       "\n",
       "     c_hippocraticum  \n",
       "0                  0  \n",
       "1                  1  \n",
       "2                  0  \n",
       "3                  0  \n",
       "4                  0  \n",
       "..               ...  \n",
       "114                0  \n",
       "115                1  \n",
       "116                3  \n",
       "117                1  \n",
       "118                1  \n",
       "\n",
       "[119 rows x 5 columns]"
      ]
     },
     "execution_count": 21,
     "metadata": {},
     "output_type": "execute_result"
    }
   ],
   "source": [
    "# unique word forms\n",
    "matches = []\n",
    "for pattern_tuple in keyterm_patterns:\n",
    "  r = re.compile(pattern_tuple[0])\n",
    "  matches.extend([(pattern_tuple[0], pattern_tuple[1], match, aristotle_list.count(match), hippocrates_list.count(match)) for match in list(filter(r.match, list(set(aristotle_list + hippocrates_list))))])\n",
    "matches_df = pd.DataFrame(matches, columns=[\"pattern\", \"replacement\", \"match\", \"c_aristotelicum\", \"c_hippocraticum\"]) #, \"translation\"])\n",
    "matches_df"
   ]
  },
  {
   "cell_type": "code",
   "execution_count": 23,
   "metadata": {
    "colab": {
     "base_uri": "https://localhost:8080/",
     "height": 55
    },
    "colab_type": "code",
    "id": "_1mOLs0xstyM",
    "outputId": "129de730-5f37-4ae8-f51d-e40c8315a91f"
   },
   "outputs": [
    {
     "name": "stdout",
     "output_type": "stream",
     "text": [
      "['λυπητικός', 'λυπέονταί', 'λύπαςοὐ', 'λυπούμενα', 'λυπούμενον', 'λύπαςμεσότης', 'λυπέουσιν', 'λύπη', 'λυπέον', 'λυπεῖταἰ', 'λυπέω', 'λυπέωσι', 'λυπουμένου', 'λυπέοντα', 'λυπέοιτο', 'λυπρᾷ', 'λυπέεται', 'λυπεόντων', 'λύπημα', 'λυπέῃ', 'λυπέουσα', 'λυπηθῆ', 'λυποδίαν', 'λυπέοντος', 'λυπηρός', 'λυπέουσαν', 'ἀλγέωσι', 'ἄλγημα', 'ἀλγέοντα', 'ἀλγέοντάς', 'ἀλγήμασι', 'ἀλγέῃ', 'ἄλγεσκ', 'ἀλγήσῃ', 'ἄλγος', 'ἀλγεῦντα', 'ἀλγέω', 'ἀλγήσωσιν', 'ἀλγεούσῃσι', 'ἀλγεόντων', 'ἀλγέοντας', 'ἀλγέειν', 'ἀλγήσαν', 'ἀλγηδών', 'ἀλγοῦντες', 'ἀλγεινός', 'ἀλγέον', 'ἀλγέοιεν', 'ἀλγεούσης', 'ἀλγέουσαν', 'ἀλγέουσιν', 'ἄλγλος', 'ἀλγούμενον', 'ἀλγέοντι', 'ἀλγέοντες', 'ἀλγέοντος', 'ἀλγέουσι', 'ὀδυνῶδες', 'ὀδυνέων', 'ὀδυνωμένους', 'ὀδυναίτερον', 'ὀδύνη', 'ὀδυνηθῇ', 'ὀδύνατον', 'ὀδυνῶνται', 'ὀδυνάω', 'ὠδυναμίη', 'ὀδυνήματα', 'ὀδυνωμένῳ', 'ὀδυνώμενα', 'ὀδυνώδεας', 'ὀδυνημάτων', 'ὀδυνώδεα', 'ὀδυνώδης', 'ὀδυνήμασι', 'ὀδυνώδεες', 'ὀδυνέωνται', 'ὀδυνηρός', 'πονεόμενον', 'πονέεις', 'πονήσαντος', 'πονήσειέ', 'πονητέος', 'πονέεται', 'πόνος', 'πονέοντες', 'πονέοντές', 'πονέω', 'πονήματα', 'πονεούσης', 'πονέειν', 'πονήσασιν', 'πονέσῃ', 'πονοῦντας', 'πονήσεται', 'πονέσωσιν', 'πονῆται', 'πονέῃ', 'πονήσαντα', 'πονεῦγται', 'πονέοντι', 'πονέοι', 'πονέοντα', 'πονέουσα', 'πονεομένου', 'πονέωσι', 'πονοῦσαι', 'πονέον', 'πονεέτω', 'πονέουσιν', 'πονητικὰ', 'πονέουσαι', 'πονοῦντιτοῦτό', 'πονεύμενα', 'πονοῦσαί', 'πονοῦντα', 'πονέοντος', 'πονησάσης', 'πονήσαντες']\n"
     ]
    }
   ],
   "source": [
    "### look at all unique matched words\n",
    "print(matches_df[\"match\"].tolist())"
   ]
  },
  {
   "cell_type": "code",
   "execution_count": 24,
   "metadata": {
    "colab": {},
    "colab_type": "code",
    "id": "J188PT40plan"
   },
   "outputs": [],
   "source": [
    "# uncomment the following to export to gsheet: \n",
    "set_with_dataframe(PIA_overview.add_worksheet(\"matches_20201207\", 1, 1), matches_df)"
   ]
  },
  {
   "cell_type": "code",
   "execution_count": 25,
   "metadata": {
    "colab": {},
    "colab_type": "code",
    "id": "oMML0hINSDA1"
   },
   "outputs": [],
   "source": [
    "# make \n",
    "def replacer_word_list(pattern, product, word_list):\n",
    "  return [re.sub(pattern, product, word) for word in word_list]\n",
    "\n",
    "def replace_keywords(list_of_words, list_of_tuples):\n",
    "  for pattern in list_of_tuples:\n",
    "    list_of_words = replacer_word_list(pattern[0], pattern[1], list_of_words)\n",
    "  return list_of_words"
   ]
  },
  {
   "cell_type": "code",
   "execution_count": 26,
   "metadata": {
    "colab": {
     "base_uri": "https://localhost:8080/",
     "height": 53
    },
    "colab_type": "code",
    "id": "TPRPyAqtpJ1T",
    "outputId": "97394f26-1a08-46e3-f654-fa9b67f86194"
   },
   "outputs": [
    {
     "name": "stdout",
     "output_type": "stream",
     "text": [
      "μέλυπρᾷ\n",
      "λύπ*\n"
     ]
    }
   ],
   "source": [
    "# test 1:\n",
    "testlist = [\"μέλυπρᾷ\", \"λυπρᾷ\"] \n",
    "for word in testlist:\n",
    "  print(re.sub(keyterm_patterns[0][0], keyterm_patterns[0][1], word))"
   ]
  },
  {
   "cell_type": "code",
   "execution_count": 27,
   "metadata": {
    "colab": {
     "base_uri": "https://localhost:8080/",
     "height": 251
    },
    "colab_type": "code",
    "id": "us9VazWVSC9R",
    "outputId": "690badbf-96f2-40ee-a22f-fa2bf7c2642a"
   },
   "outputs": [
    {
     "data": {
      "text/plain": [
       "['βοοκ',\n",
       " 'πᾶς',\n",
       " 'μέλυπρᾷ',\n",
       " 'ἄλγ*',\n",
       " 'τέχνη',\n",
       " 'πᾶς',\n",
       " 'μέθοδος',\n",
       " 'ὅμοιος',\n",
       " 'λύπ*',\n",
       " 'πρᾶξίς',\n",
       " 'προαίρεσις',\n",
       " 'ἀγαθός',\n",
       " 'ἐφίημι']"
      ]
     },
     "execution_count": 27,
     "metadata": {},
     "output_type": "execute_result"
    }
   ],
   "source": [
    "### test 2:\n",
    "word_list_test = ['βοοκ', 'πᾶς', 'μέλυπρᾷ', \"ἄλγτέχνη\",'τέχνη' ,'πᾶς', 'μέθοδος', 'ὅμοιος', \"λύπη\",'πρᾶξίς', 'προαίρεσις', 'ἀγαθός', 'ἐφίημι']\n",
    "replace_keywords(word_list_test, keyterm_patterns)"
   ]
  },
  {
   "cell_type": "code",
   "execution_count": 28,
   "metadata": {
    "colab": {},
    "colab_type": "code",
    "id": "Be_ew0-_xjPU"
   },
   "outputs": [],
   "source": [
    "# apply the replacement on the level of individual words\n",
    "c_aristotelicum[\"lemmata_repl\"] = c_aristotelicum[\"lemmata\"].apply(lambda x: replace_keywords(x, keyterm_patterns))\n",
    "c_hippocraticum[\"lemmata_repl\"] = c_hippocraticum[\"lemmata\"].apply(lambda x: replace_keywords(x, keyterm_patterns))"
   ]
  },
  {
   "cell_type": "code",
   "execution_count": 29,
   "metadata": {
    "colab": {},
    "colab_type": "code",
    "id": "2uoGKms35SKS"
   },
   "outputs": [],
   "source": [
    "# apply the replacement on the sentences\n",
    "def replace_in_sentences(list_of_sentences):\n",
    "    return [replace_keywords(sentence, keyterm_patterns) for sentence in list_of_sentences]\n",
    "\n",
    "c_aristotelicum[\"lemmatized_sentences_repl\"] = c_aristotelicum[\"lemmatized_sentences\"].apply(replace_in_sentences)\n",
    "c_hippocraticum[\"lemmatized_sentences_repl\"] = c_hippocraticum[\"lemmatized_sentences\"].apply(replace_in_sentences)"
   ]
  },
  {
   "cell_type": "code",
   "execution_count": 30,
   "metadata": {},
   "outputs": [
    {
     "data": {
      "text/html": [
       "<div>\n",
       "<style scoped>\n",
       "    .dataframe tbody tr th:only-of-type {\n",
       "        vertical-align: middle;\n",
       "    }\n",
       "\n",
       "    .dataframe tbody tr th {\n",
       "        vertical-align: top;\n",
       "    }\n",
       "\n",
       "    .dataframe thead th {\n",
       "        text-align: right;\n",
       "    }\n",
       "</style>\n",
       "<table border=\"1\" class=\"dataframe\">\n",
       "  <thead>\n",
       "    <tr style=\"text-align: right;\">\n",
       "      <th></th>\n",
       "      <th>filename</th>\n",
       "      <th>author</th>\n",
       "      <th>title</th>\n",
       "      <th>wordcount</th>\n",
       "      <th>author_id</th>\n",
       "      <th>doc_id</th>\n",
       "      <th>raw_date</th>\n",
       "      <th>date_avr</th>\n",
       "      <th>date_probs</th>\n",
       "      <th>date_manual</th>\n",
       "      <th>provenience</th>\n",
       "      <th>tlg_epithet</th>\n",
       "      <th>clean_string</th>\n",
       "      <th>sentences</th>\n",
       "      <th>n_sentences</th>\n",
       "      <th>lemmatized_sentences</th>\n",
       "      <th>lemmata</th>\n",
       "      <th>lemmata_wordcount</th>\n",
       "      <th>lemmata_repl</th>\n",
       "      <th>lemmatized_sentences_repl</th>\n",
       "    </tr>\n",
       "  </thead>\n",
       "  <tbody>\n",
       "    <tr>\n",
       "      <th>685</th>\n",
       "      <td>tlg0086.tlg001.1st1K-grc2.xml</td>\n",
       "      <td>Aristotle</td>\n",
       "      <td>Aristotelis Analytica Priora et Posteriora</td>\n",
       "      <td>59614</td>\n",
       "      <td>tlg0086</td>\n",
       "      <td>tlg0086.tlg001</td>\n",
       "      <td>4 B.C.</td>\n",
       "      <td>-3.5</td>\n",
       "      <td>{'-3.5': 1}</td>\n",
       "      <td>-3.5</td>\n",
       "      <td>pagan</td>\n",
       "      <td>Philosophici/-ae</td>\n",
       "      <td>Πρῶτον εἰπεῖν περὶ τί καὶ τίνος ἐστὶν ἡ σκέψις...</td>\n",
       "      <td>[Πρῶτον εἰπεῖν περὶ τί καὶ τίνος ἐστὶν ἡ σκέψι...</td>\n",
       "      <td>3710</td>\n",
       "      <td>[[λέγω, εἰμί, σκέψις, ἀπόδειξις, ἐπιστήμη, ἀπο...</td>\n",
       "      <td>[λέγω, εἰμί, σκέψις, ἀπόδειξις, ἐπιστήμη, ἀποδ...</td>\n",
       "      <td>24826</td>\n",
       "      <td>[λέγω, εἰμί, σκέψις, ἀπόδειξις, ἐπιστήμη, ἀποδ...</td>\n",
       "      <td>[[λέγω, εἰμί, σκέψις, ἀπόδειξις, ἐπιστήμη, ἀπο...</td>\n",
       "    </tr>\n",
       "    <tr>\n",
       "      <th>686</th>\n",
       "      <td>tlg0086.tlg002.1st1K-grc2.xml</td>\n",
       "      <td>Aristotle</td>\n",
       "      <td>De anima</td>\n",
       "      <td>20912</td>\n",
       "      <td>tlg0086</td>\n",
       "      <td>tlg0086.tlg002</td>\n",
       "      <td>4 B.C.</td>\n",
       "      <td>-3.5</td>\n",
       "      <td>{'-3.5': 1}</td>\n",
       "      <td>-3.5</td>\n",
       "      <td>pagan</td>\n",
       "      <td>Philosophici/-ae</td>\n",
       "      <td>Τῶν καλῶν καὶ τιμίων τὴν εἴδησιν ὑπολαμβάνοντε...</td>\n",
       "      <td>[Τῶν καλῶν καὶ τιμίων τὴν εἴδησιν ὑπολαμβάνοντ...</td>\n",
       "      <td>1317</td>\n",
       "      <td>[[καλός, τίμιος, εἶδος, ὑπολαμβάνω, ἕτερος, ἕτ...</td>\n",
       "      <td>[καλός, τίμιος, εἶδος, ὑπολαμβάνω, ἕτερος, ἕτε...</td>\n",
       "      <td>9358</td>\n",
       "      <td>[καλός, τίμιος, εἶδος, ὑπολαμβάνω, ἕτερος, ἕτε...</td>\n",
       "      <td>[[καλός, τίμιος, εἶδος, ὑπολαμβάνω, ἕτερος, ἕτ...</td>\n",
       "    </tr>\n",
       "    <tr>\n",
       "      <th>688</th>\n",
       "      <td>tlg0086.tlg005.1st1K-grc1.xml</td>\n",
       "      <td>Aristotle</td>\n",
       "      <td>De caelo</td>\n",
       "      <td>30794</td>\n",
       "      <td>tlg0086</td>\n",
       "      <td>tlg0086.tlg005</td>\n",
       "      <td>4 B.C.</td>\n",
       "      <td>-3.5</td>\n",
       "      <td>{'-3.5': 1}</td>\n",
       "      <td>-3.5</td>\n",
       "      <td>pagan</td>\n",
       "      <td>Philosophici/-ae</td>\n",
       "      <td>Ἡ περὶ φύσεως ἐπιστήμη σχεδὸν ἡ πλείστη φαίνετ...</td>\n",
       "      <td>[Ἡ περὶ φύσεως ἐπιστήμη σχεδὸν ἡ πλείστη φαίνε...</td>\n",
       "      <td>2276</td>\n",
       "      <td>[[φύσις, ἐπιστήμη, πλεῖστος, φαίνω, σῶμα, μέγε...</td>\n",
       "      <td>[φύσις, ἐπιστήμη, πλεῖστος, φαίνω, σῶμα, μέγεθ...</td>\n",
       "      <td>13320</td>\n",
       "      <td>[φύσις, ἐπιστήμη, πλεῖστος, φαίνω, σῶμα, μέγεθ...</td>\n",
       "      <td>[[φύσις, ἐπιστήμη, πλεῖστος, φαίνω, σῶμα, μέγε...</td>\n",
       "    </tr>\n",
       "    <tr>\n",
       "      <th>689</th>\n",
       "      <td>tlg0086.tlg006.1st1K-grc1.xml</td>\n",
       "      <td>Aristotle</td>\n",
       "      <td>Categoriae</td>\n",
       "      <td>10316</td>\n",
       "      <td>tlg0086</td>\n",
       "      <td>tlg0086.tlg006</td>\n",
       "      <td>4 B.C.</td>\n",
       "      <td>-3.5</td>\n",
       "      <td>{'-3.5': 1}</td>\n",
       "      <td>-3.5</td>\n",
       "      <td>pagan</td>\n",
       "      <td>Philosophici/-ae</td>\n",
       "      <td>ὉΜΩΝΥΜΑ λέγεται ὧν ὄνομα μόνον κοινόν, ὁ δὲ κα...</td>\n",
       "      <td>[ὉΜΩΝΥΜΑ λέγεται ὧν ὄνομα μόνον κοινόν, ὁ δὲ κ...</td>\n",
       "      <td>660</td>\n",
       "      <td>[[ὁμώνυμος, λέγω, ὄνομα, μόνος, κοινός, ὄνομα,...</td>\n",
       "      <td>[ὁμώνυμος, λέγω, ὄνομα, μόνος, κοινός, ὄνομα, ...</td>\n",
       "      <td>4568</td>\n",
       "      <td>[ὁμώνυμος, λέγω, ὄνομα, μόνος, κοινός, ὄνομα, ...</td>\n",
       "      <td>[[ὁμώνυμος, λέγω, ὄνομα, μόνος, κοινός, ὄνομα,...</td>\n",
       "    </tr>\n",
       "    <tr>\n",
       "      <th>690</th>\n",
       "      <td>tlg0086.tlg008.1st1K-grc1.xml</td>\n",
       "      <td>Aristotle</td>\n",
       "      <td>De divinatione per somnum</td>\n",
       "      <td>1194</td>\n",
       "      <td>tlg0086</td>\n",
       "      <td>tlg0086.tlg008</td>\n",
       "      <td>4 B.C.</td>\n",
       "      <td>-3.5</td>\n",
       "      <td>{'-3.5': 1}</td>\n",
       "      <td>-3.5</td>\n",
       "      <td>pagan</td>\n",
       "      <td>Philosophici/-ae</td>\n",
       "      <td>Περὶ δὲ τῆς μαντικῆς τῆς ἐν τοῖς ὕπνοις γινομέ...</td>\n",
       "      <td>[Περὶ δὲ τῆς μαντικῆς τῆς ἐν τοῖς ὕπνοις γινομ...</td>\n",
       "      <td>68</td>\n",
       "      <td>[[μαντικός, ὕπνος, γίγνομαι, λέγω, συμβαίνω, ἐ...</td>\n",
       "      <td>[μαντικός, ὕπνος, γίγνομαι, λέγω, συμβαίνω, ἐν...</td>\n",
       "      <td>544</td>\n",
       "      <td>[μαντικός, ὕπνος, γίγνομαι, λέγω, συμβαίνω, ἐν...</td>\n",
       "      <td>[[μαντικός, ὕπνος, γίγνομαι, λέγω, συμβαίνω, ἐ...</td>\n",
       "    </tr>\n",
       "  </tbody>\n",
       "</table>\n",
       "</div>"
      ],
      "text/plain": [
       "                          filename     author  \\\n",
       "685  tlg0086.tlg001.1st1K-grc2.xml  Aristotle   \n",
       "686  tlg0086.tlg002.1st1K-grc2.xml  Aristotle   \n",
       "688  tlg0086.tlg005.1st1K-grc1.xml  Aristotle   \n",
       "689  tlg0086.tlg006.1st1K-grc1.xml  Aristotle   \n",
       "690  tlg0086.tlg008.1st1K-grc1.xml  Aristotle   \n",
       "\n",
       "                                          title  wordcount author_id  \\\n",
       "685  Aristotelis Analytica Priora et Posteriora      59614   tlg0086   \n",
       "686                                    De anima      20912   tlg0086   \n",
       "688                                    De caelo      30794   tlg0086   \n",
       "689                                  Categoriae      10316   tlg0086   \n",
       "690                   De divinatione per somnum       1194   tlg0086   \n",
       "\n",
       "             doc_id raw_date  date_avr   date_probs  date_manual provenience  \\\n",
       "685  tlg0086.tlg001   4 B.C.      -3.5  {'-3.5': 1}         -3.5       pagan   \n",
       "686  tlg0086.tlg002   4 B.C.      -3.5  {'-3.5': 1}         -3.5       pagan   \n",
       "688  tlg0086.tlg005   4 B.C.      -3.5  {'-3.5': 1}         -3.5       pagan   \n",
       "689  tlg0086.tlg006   4 B.C.      -3.5  {'-3.5': 1}         -3.5       pagan   \n",
       "690  tlg0086.tlg008   4 B.C.      -3.5  {'-3.5': 1}         -3.5       pagan   \n",
       "\n",
       "          tlg_epithet                                       clean_string  \\\n",
       "685  Philosophici/-ae  Πρῶτον εἰπεῖν περὶ τί καὶ τίνος ἐστὶν ἡ σκέψις...   \n",
       "686  Philosophici/-ae  Τῶν καλῶν καὶ τιμίων τὴν εἴδησιν ὑπολαμβάνοντε...   \n",
       "688  Philosophici/-ae  Ἡ περὶ φύσεως ἐπιστήμη σχεδὸν ἡ πλείστη φαίνετ...   \n",
       "689  Philosophici/-ae  ὉΜΩΝΥΜΑ λέγεται ὧν ὄνομα μόνον κοινόν, ὁ δὲ κα...   \n",
       "690  Philosophici/-ae  Περὶ δὲ τῆς μαντικῆς τῆς ἐν τοῖς ὕπνοις γινομέ...   \n",
       "\n",
       "                                             sentences  n_sentences  \\\n",
       "685  [Πρῶτον εἰπεῖν περὶ τί καὶ τίνος ἐστὶν ἡ σκέψι...         3710   \n",
       "686  [Τῶν καλῶν καὶ τιμίων τὴν εἴδησιν ὑπολαμβάνοντ...         1317   \n",
       "688  [Ἡ περὶ φύσεως ἐπιστήμη σχεδὸν ἡ πλείστη φαίνε...         2276   \n",
       "689  [ὉΜΩΝΥΜΑ λέγεται ὧν ὄνομα μόνον κοινόν, ὁ δὲ κ...          660   \n",
       "690  [Περὶ δὲ τῆς μαντικῆς τῆς ἐν τοῖς ὕπνοις γινομ...           68   \n",
       "\n",
       "                                  lemmatized_sentences  \\\n",
       "685  [[λέγω, εἰμί, σκέψις, ἀπόδειξις, ἐπιστήμη, ἀπο...   \n",
       "686  [[καλός, τίμιος, εἶδος, ὑπολαμβάνω, ἕτερος, ἕτ...   \n",
       "688  [[φύσις, ἐπιστήμη, πλεῖστος, φαίνω, σῶμα, μέγε...   \n",
       "689  [[ὁμώνυμος, λέγω, ὄνομα, μόνος, κοινός, ὄνομα,...   \n",
       "690  [[μαντικός, ὕπνος, γίγνομαι, λέγω, συμβαίνω, ἐ...   \n",
       "\n",
       "                                               lemmata  lemmata_wordcount  \\\n",
       "685  [λέγω, εἰμί, σκέψις, ἀπόδειξις, ἐπιστήμη, ἀποδ...              24826   \n",
       "686  [καλός, τίμιος, εἶδος, ὑπολαμβάνω, ἕτερος, ἕτε...               9358   \n",
       "688  [φύσις, ἐπιστήμη, πλεῖστος, φαίνω, σῶμα, μέγεθ...              13320   \n",
       "689  [ὁμώνυμος, λέγω, ὄνομα, μόνος, κοινός, ὄνομα, ...               4568   \n",
       "690  [μαντικός, ὕπνος, γίγνομαι, λέγω, συμβαίνω, ἐν...                544   \n",
       "\n",
       "                                          lemmata_repl  \\\n",
       "685  [λέγω, εἰμί, σκέψις, ἀπόδειξις, ἐπιστήμη, ἀποδ...   \n",
       "686  [καλός, τίμιος, εἶδος, ὑπολαμβάνω, ἕτερος, ἕτε...   \n",
       "688  [φύσις, ἐπιστήμη, πλεῖστος, φαίνω, σῶμα, μέγεθ...   \n",
       "689  [ὁμώνυμος, λέγω, ὄνομα, μόνος, κοινός, ὄνομα, ...   \n",
       "690  [μαντικός, ὕπνος, γίγνομαι, λέγω, συμβαίνω, ἐν...   \n",
       "\n",
       "                             lemmatized_sentences_repl  \n",
       "685  [[λέγω, εἰμί, σκέψις, ἀπόδειξις, ἐπιστήμη, ἀπο...  \n",
       "686  [[καλός, τίμιος, εἶδος, ὑπολαμβάνω, ἕτερος, ἕτ...  \n",
       "688  [[φύσις, ἐπιστήμη, πλεῖστος, φαίνω, σῶμα, μέγε...  \n",
       "689  [[ὁμώνυμος, λέγω, ὄνομα, μόνος, κοινός, ὄνομα,...  \n",
       "690  [[μαντικός, ὕπνος, γίγνομαι, λέγω, συμβαίνω, ἐ...  "
      ]
     },
     "execution_count": 30,
     "metadata": {},
     "output_type": "execute_result"
    }
   ],
   "source": [
    "c_aristotelicum.head(5)"
   ]
  },
  {
   "cell_type": "code",
   "execution_count": 31,
   "metadata": {
    "colab": {
     "base_uri": "https://localhost:8080/",
     "height": 73
    },
    "colab_type": "code",
    "id": "8sM9hZk9yvtn",
    "outputId": "359d9a6f-44d0-4c8d-964a-0ab742cf08bf"
   },
   "outputs": [
    {
     "name": "stdout",
     "output_type": "stream",
     "text": [
      "A file with the same name (\"c_aristotelicum_repl.json\") already exists in this location.\n",
      "Press Enter to overwrite it or choose different path and filename: \n",
      "Your <class 'pandas.core.frame.DataFrame'> object has been succefully written as \"https://sciencedata.dk/files/public_data/PIA/c_aristotelicum_repl.json\"\n",
      "A file with the same name (\"c_hippocraticum_repl.json\") already exists in this location.\n",
      "Press Enter to overwrite it or choose different path and filename: \n",
      "Your <class 'pandas.core.frame.DataFrame'> object has been succefully written as \"https://sciencedata.dk/files/public_data/PIA/c_hippocraticum_repl.json\"\n"
     ]
    }
   ],
   "source": [
    "sddk.write_file(\"public_data/PIA/c_aristotelicum_repl.json\", c_aristotelicum, conf)\n",
    "sddk.write_file(\"public_data/PIA/c_hippocraticum_repl.json\", c_hippocraticum, conf)"
   ]
  },
  {
   "cell_type": "code",
   "execution_count": null,
   "metadata": {
    "colab": {},
    "colab_type": "code",
    "id": "uDEG0kdp6s79"
   },
   "outputs": [],
   "source": []
  }
 ],
 "metadata": {
  "colab": {
   "collapsed_sections": [],
   "include_colab_link": true,
   "name": "2_EXPLORATIONS+REPLACEMENTS.ipynb",
   "provenance": []
  },
  "kernelspec": {
   "display_name": "Python 3",
   "language": "python",
   "name": "python3"
  },
  "language_info": {
   "codemirror_mode": {
    "name": "ipython",
    "version": 3
   },
   "file_extension": ".py",
   "mimetype": "text/x-python",
   "name": "python",
   "nbconvert_exporter": "python",
   "pygments_lexer": "ipython3",
   "version": "3.6.9"
  }
 },
 "nbformat": 4,
 "nbformat_minor": 1
}
