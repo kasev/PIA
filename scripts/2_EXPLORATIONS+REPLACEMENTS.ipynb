{
  "nbformat": 4,
  "nbformat_minor": 0,
  "metadata": {
    "colab": {
      "name": "2_EXPLORATIONS+REPLACEMENTS.ipynb",
      "provenance": [],
      "collapsed_sections": [],
      "include_colab_link": true
    },
    "kernelspec": {
      "name": "python3",
      "display_name": "Python 3"
    }
  },
  "cells": [
    {
      "cell_type": "markdown",
      "metadata": {
        "id": "view-in-github",
        "colab_type": "text"
      },
      "source": [
        "<a href=\"https://colab.research.google.com/github/kasev/PIA/blob/master/scripts/2_EXPLORATIONS%2BREPLACEMENTS.ipynb\" target=\"_parent\"><img src=\"https://colab.research.google.com/assets/colab-badge.svg\" alt=\"Open In Colab\"/></a>"
      ]
    },
    {
      "cell_type": "code",
      "metadata": {
        "id": "YLcAu3mXJOpL",
        "colab_type": "code",
        "colab": {
          "base_uri": "https://localhost:8080/",
          "height": 415
        },
        "outputId": "93fa27bc-c5fe-433c-cc4c-109fdd97380e"
      },
      "source": [
        "### PREREQUISTIES\n",
        "### (many used only in one notebook...)\n",
        "\n",
        "import os\n",
        "import pandas as pd\n",
        "import numpy as np\n",
        "import logging ### to monitor the code\n",
        "from bs4 import BeautifulSoup\n",
        "import pickle\n",
        "import math\n",
        "import random\n",
        "import sys\n",
        "import csv\n",
        "import unicodedata\n",
        "import requests\n",
        "import re\n",
        "\n",
        "import nltk\n",
        "from nltk.collocations import *\n",
        "\n",
        "import networkx as nx\n",
        "\n",
        "import matplotlib.pyplot as plt\n",
        "import seaborn as sns\n",
        "\n",
        "from scipy import stats\n",
        "\n",
        "import xml.etree.cElementTree as ET\n",
        "from urllib.request import urlopen\n",
        "\n",
        "import gspread\n",
        "from gspread_dataframe import get_as_dataframe, set_with_dataframe\n",
        "from google.colab import auth\n",
        "from oauth2client.client import GoogleCredentials\n",
        "\n",
        "!pip install sddk\n",
        "import sddk"
      ],
      "execution_count": null,
      "outputs": [
        {
          "output_type": "stream",
          "text": [
            "/usr/local/lib/python3.6/dist-packages/statsmodels/tools/_testing.py:19: FutureWarning: pandas.util.testing is deprecated. Use the functions in the public API at pandas.testing instead.\n",
            "  import pandas.util.testing as tm\n"
          ],
          "name": "stderr"
        },
        {
          "output_type": "stream",
          "text": [
            "Collecting sddk\n",
            "  Downloading https://files.pythonhosted.org/packages/bf/96/3ae43f2d8ac06fc16ba111916970e5a1f3b96a3e41732fa3f099e2e5cd1c/sddk-2.6-py3-none-any.whl\n",
            "Requirement already satisfied: pyarrow in /usr/local/lib/python3.6/dist-packages (from sddk) (0.14.1)\n",
            "Requirement already satisfied: numpy in /usr/local/lib/python3.6/dist-packages (from sddk) (1.18.5)\n",
            "Requirement already satisfied: matplotlib in /usr/local/lib/python3.6/dist-packages (from sddk) (3.2.2)\n",
            "Requirement already satisfied: requests in /usr/local/lib/python3.6/dist-packages (from sddk) (2.23.0)\n",
            "Requirement already satisfied: pandas in /usr/local/lib/python3.6/dist-packages (from sddk) (1.0.5)\n",
            "Requirement already satisfied: six>=1.0.0 in /usr/local/lib/python3.6/dist-packages (from pyarrow->sddk) (1.15.0)\n",
            "Requirement already satisfied: pyparsing!=2.0.4,!=2.1.2,!=2.1.6,>=2.0.1 in /usr/local/lib/python3.6/dist-packages (from matplotlib->sddk) (2.4.7)\n",
            "Requirement already satisfied: kiwisolver>=1.0.1 in /usr/local/lib/python3.6/dist-packages (from matplotlib->sddk) (1.2.0)\n",
            "Requirement already satisfied: cycler>=0.10 in /usr/local/lib/python3.6/dist-packages (from matplotlib->sddk) (0.10.0)\n",
            "Requirement already satisfied: python-dateutil>=2.1 in /usr/local/lib/python3.6/dist-packages (from matplotlib->sddk) (2.8.1)\n",
            "Requirement already satisfied: urllib3!=1.25.0,!=1.25.1,<1.26,>=1.21.1 in /usr/local/lib/python3.6/dist-packages (from requests->sddk) (1.24.3)\n",
            "Requirement already satisfied: idna<3,>=2.5 in /usr/local/lib/python3.6/dist-packages (from requests->sddk) (2.10)\n",
            "Requirement already satisfied: chardet<4,>=3.0.2 in /usr/local/lib/python3.6/dist-packages (from requests->sddk) (3.0.4)\n",
            "Requirement already satisfied: certifi>=2017.4.17 in /usr/local/lib/python3.6/dist-packages (from requests->sddk) (2020.6.20)\n",
            "Requirement already satisfied: pytz>=2017.2 in /usr/local/lib/python3.6/dist-packages (from pandas->sddk) (2018.9)\n",
            "Installing collected packages: sddk\n",
            "Successfully installed sddk-2.6\n"
          ],
          "name": "stdout"
        }
      ]
    },
    {
      "cell_type": "code",
      "metadata": {
        "id": "W2TxLXhwp_zD",
        "colab_type": "code",
        "colab": {
          "base_uri": "https://localhost:8080/",
          "height": 127
        },
        "outputId": "a39f89e7-c18c-4fc1-aae8-6cf288fef849"
      },
      "source": [
        "!pip install anda\n",
        "from anda import gr ### the import takes substantial time, since it import a +600MB file containing ancient Greek dictionary"
      ],
      "execution_count": null,
      "outputs": [
        {
          "output_type": "stream",
          "text": [
            "Collecting anda\n",
            "\u001b[?25l  Downloading https://files.pythonhosted.org/packages/a4/52/a0bf69e5d1f865b505ac42a4701ea0fbdf2c7f97b0c11acf60d40f286760/anda-0.0.8-py3-none-any.whl (21.3MB)\n",
            "\u001b[K     |████████████████████████████████| 21.3MB 1.4MB/s \n",
            "\u001b[?25hInstalling collected packages: anda\n",
            "Successfully installed anda-0.0.8\n"
          ],
          "name": "stdout"
        }
      ]
    },
    {
      "cell_type": "code",
      "metadata": {
        "id": "Vk65k519TvBW",
        "colab_type": "code",
        "colab": {
          "base_uri": "https://localhost:8080/",
          "height": 71
        },
        "outputId": "7c100dcf-1b99-4459-aa4e-a992cd5c1738"
      },
      "source": [
        "### not neccessary for reading the data, just for exporting them to sciencedata.dk\n",
        "conf = sddk.configure()"
      ],
      "execution_count": null,
      "outputs": [
        {
          "output_type": "stream",
          "text": [
            "sciencedata.dk username (format '123456@au.dk'): 648597@au.dk\n",
            "sciencedata.dk password: ··········\n",
            "endpoint variable has been configured to: https://sciencedata.dk/files/\n"
          ],
          "name": "stdout"
        }
      ]
    },
    {
      "cell_type": "code",
      "metadata": {
        "id": "R52NxzfHf8kS",
        "colab_type": "code",
        "colab": {}
      },
      "source": [
        "### authorize google sheets\n",
        "auth.authenticate_user()\n",
        "gc = gspread.authorize(GoogleCredentials.get_application_default())\n",
        "# establish connection with particular sheet by its url:\n",
        "\n",
        "PIA_data = gc.open_by_url(\"https://docs.google.com/spreadsheets/d/1KxOx7Be9fj3lDcEPgQhQ-Iqcn9p367-MMD6RMXe8rks/edit?usp=sharing\")\n",
        "PIA_overview = gc.open_by_url(\"https://docs.google.com/spreadsheets/d/1e94wyelg6dftQ4zxbq1xvwxWAI-BhcYXtclDW-YTnrw/edit?usp=sharing\")"
      ],
      "execution_count": null,
      "outputs": []
    },
    {
      "cell_type": "code",
      "metadata": {
        "id": "WgcTdGdG3sdE",
        "colab_type": "code",
        "colab": {
          "base_uri": "https://localhost:8080/",
          "height": 53
        },
        "outputId": "94afe964-e7bc-4bf0-f3cb-f49edcde58c6"
      },
      "source": [
        "### our data are located within a publicly available folder on sciencedata.dk\n",
        "publicfolder = \"31b393e2afe1ee96ce81869c7efe18cb\"\n",
        "c_aristotelicum = sddk.read_file(\"c_aristotelicum.json\", \"df\", publicfolder)\n",
        "c_hippocraticum = sddk.read_file(\"c_hippocraticum.json\", \"df\", publicfolder)"
      ],
      "execution_count": null,
      "outputs": [
        {
          "output_type": "stream",
          "text": [
            "this file is located in a public folder\n",
            "this file is located in a public folder\n"
          ],
          "name": "stdout"
        }
      ]
    },
    {
      "cell_type": "code",
      "metadata": {
        "id": "O24rUTeB7q8M",
        "colab_type": "code",
        "colab": {
          "base_uri": "https://localhost:8080/",
          "height": 632
        },
        "outputId": "31ca2fd3-619f-4b2e-9853-c59c79c25ea7"
      },
      "source": [
        "# look at first 5 rows\n",
        "c_aristotelicum.head(5)"
      ],
      "execution_count": null,
      "outputs": [
        {
          "output_type": "execute_result",
          "data": {
            "text/html": [
              "<div>\n",
              "<style scoped>\n",
              "    .dataframe tbody tr th:only-of-type {\n",
              "        vertical-align: middle;\n",
              "    }\n",
              "\n",
              "    .dataframe tbody tr th {\n",
              "        vertical-align: top;\n",
              "    }\n",
              "\n",
              "    .dataframe thead th {\n",
              "        text-align: right;\n",
              "    }\n",
              "</style>\n",
              "<table border=\"1\" class=\"dataframe\">\n",
              "  <thead>\n",
              "    <tr style=\"text-align: right;\">\n",
              "      <th></th>\n",
              "      <th>filename</th>\n",
              "      <th>author</th>\n",
              "      <th>title</th>\n",
              "      <th>string</th>\n",
              "      <th>author_id</th>\n",
              "      <th>doc_id</th>\n",
              "      <th>raw_date</th>\n",
              "      <th>date_avr</th>\n",
              "      <th>date_probs</th>\n",
              "      <th>date_manual</th>\n",
              "      <th>provenience</th>\n",
              "      <th>wordcount</th>\n",
              "      <th>lemmata</th>\n",
              "      <th>lemmatized_sentences</th>\n",
              "      <th>lemmata_wordcount</th>\n",
              "      <th>num_of_sents</th>\n",
              "    </tr>\n",
              "  </thead>\n",
              "  <tbody>\n",
              "    <tr>\n",
              "      <th>678</th>\n",
              "      <td>tlg0086.tlg001.1st1K-grc2.xml</td>\n",
              "      <td>Aristotle</td>\n",
              "      <td>Aristotelis Analytica Priora et Posteriora; Ar...</td>\n",
              "      <td>ΑΝΑΛΥΤΙΚΩΝ ΠΡΟΤΕΡΩΝ Α. Πρῶτον εἰπεῖν περὶ τί κ...</td>\n",
              "      <td>tlg0086</td>\n",
              "      <td>tlg0086.tlg001</td>\n",
              "      <td>4 B.C.</td>\n",
              "      <td>-3.5</td>\n",
              "      <td>{'-3.5': 1}</td>\n",
              "      <td>-3.5</td>\n",
              "      <td>pagan</td>\n",
              "      <td>59772</td>\n",
              "      <td>[αναλυτικων, πρότερος, πρότερος, εἶπον, σκέψις...</td>\n",
              "      <td>[[αναλυτικων, πρότερος], [πρότερος, εἶπον, σκέ...</td>\n",
              "      <td>21150</td>\n",
              "      <td>3645</td>\n",
              "    </tr>\n",
              "    <tr>\n",
              "      <th>679</th>\n",
              "      <td>tlg0086.tlg002.1st1K-grc2.xml</td>\n",
              "      <td>Aristotle</td>\n",
              "      <td>De anima; Aritoteles De anima</td>\n",
              "      <td>ΠEP1 ΨΥΧΗΣ Α Τῶν καλῶν καὶ τιμίων τὴν εἴδησιν ...</td>\n",
              "      <td>tlg0086</td>\n",
              "      <td>tlg0086.tlg002</td>\n",
              "      <td>4 B.C.</td>\n",
              "      <td>-3.5</td>\n",
              "      <td>{'-3.5': 1}</td>\n",
              "      <td>-3.5</td>\n",
              "      <td>pagan</td>\n",
              "      <td>20988</td>\n",
              "      <td>[ψυχή, κᾶλον, τίμιος, εἶδος, μαλλός, ἕτερος, ἕ...</td>\n",
              "      <td>[[ψυχή, κᾶλον, τίμιος, εἶδος, μαλλός, ἕτερος, ...</td>\n",
              "      <td>8893</td>\n",
              "      <td>1306</td>\n",
              "    </tr>\n",
              "    <tr>\n",
              "      <th>681</th>\n",
              "      <td>tlg0086.tlg005.1st1K-grc1.xml</td>\n",
              "      <td>Aristotle</td>\n",
              "      <td>De caelo; Aristoteles De coelo et De generatio...</td>\n",
              "      <td>ΠEPI ΟΥΡΑΝΟΥ A. Ἡ περὶ φύσεως ἐπιστήμη σχεδὸν ...</td>\n",
              "      <td>tlg0086</td>\n",
              "      <td>tlg0086.tlg005</td>\n",
              "      <td>4 B.C.</td>\n",
              "      <td>-3.5</td>\n",
              "      <td>{'-3.5': 1}</td>\n",
              "      <td>-3.5</td>\n",
              "      <td>pagan</td>\n",
              "      <td>31395</td>\n",
              "      <td>[οὐρανός, φύσις, ἐπιστήμη, πλεῖστος, φαίνω, σῶ...</td>\n",
              "      <td>[[οὐρανός], [φύσις, ἐπιστήμη, πλεῖστος, φαίνω,...</td>\n",
              "      <td>12915</td>\n",
              "      <td>1986</td>\n",
              "    </tr>\n",
              "    <tr>\n",
              "      <th>682</th>\n",
              "      <td>tlg0086.tlg006.1st1K-grc1.xml</td>\n",
              "      <td>Aristotle</td>\n",
              "      <td>Categoriae; Aristotelis Opera</td>\n",
              "      <td>ΚΑΤΗΓΟΡΙΑΙ. ὉΜΩΝΥΜΑ λέγεται ὧν ὄνομα μόνον κοι...</td>\n",
              "      <td>tlg0086</td>\n",
              "      <td>tlg0086.tlg006</td>\n",
              "      <td>4 B.C.</td>\n",
              "      <td>-3.5</td>\n",
              "      <td>{'-3.5': 1}</td>\n",
              "      <td>-3.5</td>\n",
              "      <td>pagan</td>\n",
              "      <td>10317</td>\n",
              "      <td>[κατηγορία, ὁμωνυμα, λέγω, ὄνομα, μόνος, κοινό...</td>\n",
              "      <td>[[κατηγορία], [ὁμωνυμα, λέγω, ὄνομα, μόνος, κο...</td>\n",
              "      <td>4372</td>\n",
              "      <td>659</td>\n",
              "    </tr>\n",
              "    <tr>\n",
              "      <th>683</th>\n",
              "      <td>tlg0086.tlg008.1st1K-grc1.xml</td>\n",
              "      <td>Aristotle</td>\n",
              "      <td>De divinatione per somnum; Aristotelis Opera</td>\n",
              "      <td>ΠΕΡΙ ΕΝΥΠΝΙΩΝ ΚΑΙ ΤΗΣ ΚΑΘ’ ΥΠΝΟΝ ΜΑΝΤΙΚΗΣ. Περ...</td>\n",
              "      <td>tlg0086</td>\n",
              "      <td>tlg0086.tlg008</td>\n",
              "      <td>4 B.C.</td>\n",
              "      <td>-3.5</td>\n",
              "      <td>{'-3.5': 1}</td>\n",
              "      <td>-3.5</td>\n",
              "      <td>pagan</td>\n",
              "      <td>1207</td>\n",
              "      <td>[ἐνύπνιον, ἀκή, ἄατος, ὕπνος, μαντικός, μαντικ...</td>\n",
              "      <td>[[ἐνύπνιον, ἀκή, ἄατος, ὕπνος, μαντικός], [μαν...</td>\n",
              "      <td>533</td>\n",
              "      <td>69</td>\n",
              "    </tr>\n",
              "  </tbody>\n",
              "</table>\n",
              "</div>"
            ],
            "text/plain": [
              "                          filename     author  ... lemmata_wordcount num_of_sents\n",
              "678  tlg0086.tlg001.1st1K-grc2.xml  Aristotle  ...             21150         3645\n",
              "679  tlg0086.tlg002.1st1K-grc2.xml  Aristotle  ...              8893         1306\n",
              "681  tlg0086.tlg005.1st1K-grc1.xml  Aristotle  ...             12915         1986\n",
              "682  tlg0086.tlg006.1st1K-grc1.xml  Aristotle  ...              4372          659\n",
              "683  tlg0086.tlg008.1st1K-grc1.xml  Aristotle  ...               533           69\n",
              "\n",
              "[5 rows x 16 columns]"
            ]
          },
          "metadata": {
            "tags": []
          },
          "execution_count": 7
        }
      ]
    },
    {
      "cell_type": "markdown",
      "metadata": {
        "id": "75BYeQ0g8sac",
        "colab_type": "text"
      },
      "source": [
        "# Exploring Nicomachean Ethics\n",
        "feel free to skip this section"
      ]
    },
    {
      "cell_type": "code",
      "metadata": {
        "id": "ooP_2VzEoOdB",
        "colab_type": "code",
        "colab": {
          "base_uri": "https://localhost:8080/",
          "height": 198
        },
        "outputId": "be8781d8-20ea-4be2-fd93-c846a9667172"
      },
      "source": [
        "EN_df = c_aristotelicum[c_aristotelicum[\"doc_id\"]==\"tlg0086.tlg010\"]\n",
        "EN_df"
      ],
      "execution_count": null,
      "outputs": [
        {
          "output_type": "execute_result",
          "data": {
            "text/html": [
              "<div>\n",
              "<style scoped>\n",
              "    .dataframe tbody tr th:only-of-type {\n",
              "        vertical-align: middle;\n",
              "    }\n",
              "\n",
              "    .dataframe tbody tr th {\n",
              "        vertical-align: top;\n",
              "    }\n",
              "\n",
              "    .dataframe thead th {\n",
              "        text-align: right;\n",
              "    }\n",
              "</style>\n",
              "<table border=\"1\" class=\"dataframe\">\n",
              "  <thead>\n",
              "    <tr style=\"text-align: right;\">\n",
              "      <th></th>\n",
              "      <th>filename</th>\n",
              "      <th>author</th>\n",
              "      <th>title</th>\n",
              "      <th>string</th>\n",
              "      <th>author_id</th>\n",
              "      <th>doc_id</th>\n",
              "      <th>raw_date</th>\n",
              "      <th>date_avr</th>\n",
              "      <th>date_probs</th>\n",
              "      <th>date_manual</th>\n",
              "      <th>provenience</th>\n",
              "      <th>wordcount</th>\n",
              "      <th>lemmata</th>\n",
              "      <th>lemmatized_sentences</th>\n",
              "      <th>lemmata_wordcount</th>\n",
              "      <th>num_of_sents</th>\n",
              "    </tr>\n",
              "  </thead>\n",
              "  <tbody>\n",
              "    <tr>\n",
              "      <th>685</th>\n",
              "      <td>tlg0086.tlg010.perseus-grc1.xml</td>\n",
              "      <td>Aristotle</td>\n",
              "      <td>Nicomachean Ethics; Machine readable text; ed....</td>\n",
              "      <td>βοοκ 1 πᾶσα τέχνη καὶ πᾶσα μέθοδος, ὁμοίως δὲ ...</td>\n",
              "      <td>tlg0086</td>\n",
              "      <td>tlg0086.tlg010</td>\n",
              "      <td>4 B.C.</td>\n",
              "      <td>-3.5</td>\n",
              "      <td>{'-3.5': 1}</td>\n",
              "      <td>-3.5</td>\n",
              "      <td>pagan</td>\n",
              "      <td>56638</td>\n",
              "      <td>[βοοκ, πᾶς, τέχνη, πᾶς, μέθοδος, ὅμοιος, πρᾶξί...</td>\n",
              "      <td>[[βοοκ, πᾶς, τέχνη, πᾶς, μέθοδος, ὅμοιος, πρᾶξ...</td>\n",
              "      <td>23811</td>\n",
              "      <td>3897</td>\n",
              "    </tr>\n",
              "  </tbody>\n",
              "</table>\n",
              "</div>"
            ],
            "text/plain": [
              "                            filename  ... num_of_sents\n",
              "685  tlg0086.tlg010.perseus-grc1.xml  ...         3897\n",
              "\n",
              "[1 rows x 16 columns]"
            ]
          },
          "metadata": {
            "tags": []
          },
          "execution_count": 12
        }
      ]
    },
    {
      "cell_type": "code",
      "metadata": {
        "id": "fWm9Jl4OoPBB",
        "colab_type": "code",
        "colab": {
          "base_uri": "https://localhost:8080/",
          "height": 153
        },
        "outputId": "ac93f2e2-ba09-4d53-818f-d020d3813bee"
      },
      "source": [
        "EN_df[\"string\"].tolist()[0][:100]"
      ],
      "execution_count": null,
      "outputs": [
        {
          "output_type": "execute_result",
          "data": {
            "application/vnd.google.colaboratory.intrinsic+json": {
              "type": "string"
            },
            "text/plain": [
              "'βοοκ 1 πᾶσα τέχνη καὶ πᾶσα μέθοδος, ὁμοίως δὲ πρᾶξίς τε καὶ προαίρεσις, ἀγαθοῦ τινὸς ἐφίεσθαι δοκεῖ· διὸ καλῶς ἀπεφήναντο τἀγαθόν, οὗ πάντʼ ἐφίεται. διαφορὰ δέ τις φαίνεται τῶν τελῶν· τὰ μὲν γάρ εἰσιν ἐνέργειαι, τὰ δὲ παρʼ αὐτὰς ἔργα τινά. ὧν δʼ εἰσὶ τέλη τινὰ παρὰ τὰς πράξεις, ἐν τούτοις βελτίω πέφυκε τῶν ἐνεργειῶν τὰ ἔργα. πολλῶν δὲ πράξεων οὐσῶν καὶ τεχνῶν καὶ ἐπιστημῶν πολλὰ γίνεται καὶ τὰ τέλη· ἰατρικῆς μὲν γὰρ ὑγίεια, ναυπηγικῆς δὲ πλοῖον, στρατηγικῆς δὲ νίκη, οἰκονομικῆς δὲ πλοῦτος. ὅσαι δʼ εἰσὶ τῶν τοιούτων ὑπὸ μίαν τινὰ δύναμιν, καθάπερ ὑπὸ τὴν ἱππικὴν χαλινοποιικὴ καὶ ὅσαι ἄλλαι τῶν ἱππικῶν ὀργάνων εἰσίν, αὕτη δὲ καὶ πᾶσα πολεμικὴ πρᾶξις ὑπὸ τὴν στρατηγικήν, κατὰ τὸν αὐτὸν δὴ τρόπον ἄλλαι ὑφʼ ἑτέρας· ἐν ἁπάσαις δὲ τὰ τῶν ἀρχιτεκτονικῶν τέλη πάντων ἐστὶν αἱρετώτερα τῶν ὑπʼ αὐτά· τούτων γὰρ χάριν κἀκεῖνα διώκεται. διαφέρει δʼ οὐδὲν τὰς ἐνεργείας αὐτὰς εἶναι τὰ τέλη τῶν πράξεων ἢ παρὰ ταύτας ἄλλο τι, καθάπερ ἐπὶ τῶν λεχθεισῶν ἐπιστημῶν. εἰ δή τι τέλος ἐστὶ τῶν πρακτῶν ὃ διʼ αὑτὸ'"
            ]
          },
          "metadata": {
            "tags": []
          },
          "execution_count": 13
        }
      ]
    },
    {
      "cell_type": "code",
      "metadata": {
        "id": "k4kJcoTvoO-F",
        "colab_type": "code",
        "colab": {
          "base_uri": "https://localhost:8080/",
          "height": 54
        },
        "outputId": "c0e72f07-ab39-4de8-f911-5f8663a33b11"
      },
      "source": [
        "print(EN_df[\"lemmatized_sentences\"].tolist()[0][:10])"
      ],
      "execution_count": null,
      "outputs": [
        {
          "output_type": "stream",
          "text": [
            "[['βοοκ', 'πᾶς', 'τέχνη', 'πᾶς', 'μέθοδος', 'ὅμοιος', 'πρᾶξίς', 'προαίρεσις', 'ἀγαθός', 'ἐφίημι', 'δοκέω'], ['καλός', 'ἀποφαίνω', 'ἀγαθός', 'ἵημι', 'πάντʼ', 'ἐφίημι'], ['διαφορά', 'φαίνω', 'τέλος'], ['εἶμι', 'ἐνέργεια', 'παρʼ', 'ἔργον'], ['εἶμι', 'τέλος', 'πρᾶξις', 'βελτίων', 'φύω', 'ἐνέργεια', 'ἔργον'], ['πολύς', 'πρᾶξις', 'τέχνη', 'ἐπιστήμη', 'πολύς', 'γίγνομαι', 'τέλος'], ['ἰατρικός', 'ὑγίεια', 'ναυπηγικός', 'πλοῖον', 'στρατηγικός', 'νίκη', 'οἰκονομικός', 'πλοῦτος'], ['ὅσος', 'εἶμι', 'μίαν', 'δύναμις', 'ἱππικην', 'χαλινοποιική', 'ὅσος', 'ἱππικός', 'ὄργανον', 'εἶμι', 'πᾶς', 'πολεμικός', 'πρᾶξις', 'στρατηγικός', 'τρόπος', 'ὑφʼ', 'ἕτερος'], ['ἅπας', 'ἀρχιτεκτονικῶν', 'τέλος', 'πᾶς', 'αἱρετός', 'ὑπʼ'], ['χάρις', 'ἐκεῖνος', 'διώκω']]\n"
          ],
          "name": "stdout"
        }
      ]
    },
    {
      "cell_type": "code",
      "metadata": {
        "id": "RjW2CTnpRH8D",
        "colab_type": "code",
        "colab": {
          "base_uri": "https://localhost:8080/",
          "height": 269
        },
        "outputId": "0f734a32-06b9-4c69-c228-85890138d841"
      },
      "source": [
        "EN_df[\"lemmatized_sentences\"].tolist()[0][:5]"
      ],
      "execution_count": null,
      "outputs": [
        {
          "output_type": "execute_result",
          "data": {
            "text/plain": [
              "[['βοοκ',\n",
              "  'πᾶς',\n",
              "  'τέχνη',\n",
              "  'πᾶς',\n",
              "  'μέθοδος',\n",
              "  'ὅμοιος',\n",
              "  'πρᾶξίς',\n",
              "  'προαίρεσις',\n",
              "  'ἀγαθός',\n",
              "  'ἐφίημι',\n",
              "  'δοκέω'],\n",
              " ['καλός', 'ἀποφαίνω', 'ἀγαθός', 'ἵημι', 'πάντʼ', 'ἐφίημι'],\n",
              " ['διαφορά', 'φαίνω', 'τέλος'],\n",
              " ['εἶμι', 'ἐνέργεια', 'παρʼ', 'ἔργον'],\n",
              " ['εἶμι', 'τέλος', 'πρᾶξις', 'βελτίων', 'φύω', 'ἐνέργεια', 'ἔργον']]"
            ]
          },
          "metadata": {
            "tags": []
          },
          "execution_count": 16
        }
      ]
    },
    {
      "cell_type": "code",
      "metadata": {
        "id": "JM6yDODbRWrg",
        "colab_type": "code",
        "colab": {
          "base_uri": "https://localhost:8080/",
          "height": 35
        },
        "outputId": "0f60aab0-d4be-4c3f-9ca0-5bec5b1a4f08"
      },
      "source": [
        "\" \".join(EN_df[\"lemmatized_sentences\"].tolist()[0][0])"
      ],
      "execution_count": null,
      "outputs": [
        {
          "output_type": "execute_result",
          "data": {
            "application/vnd.google.colaboratory.intrinsic+json": {
              "type": "string"
            },
            "text/plain": [
              "'βοοκ πᾶς τέχνη πᾶς μέθοδος ὅμοιος πρᾶξίς προαίρεσις ἀγαθός ἐφίημι δοκέω'"
            ]
          },
          "metadata": {
            "tags": []
          },
          "execution_count": 17
        }
      ]
    },
    {
      "cell_type": "code",
      "metadata": {
        "id": "HjZiVw_4P6Vr",
        "colab_type": "code",
        "colab": {}
      },
      "source": [
        "EN_sentences = \"\"\n",
        "for sentence in EN_df[\"lemmatized_sentences\"].tolist()[0]:\n",
        "  EN_sentences = EN_sentences + \" \".join(sentence) + \". \""
      ],
      "execution_count": null,
      "outputs": []
    },
    {
      "cell_type": "code",
      "metadata": {
        "id": "mRKTLDfXRDDh",
        "colab_type": "code",
        "colab": {
          "base_uri": "https://localhost:8080/",
          "height": 153
        },
        "outputId": "fefe726c-8354-40c7-ec42-740ecb92a38f"
      },
      "source": [
        "EN_sentences[:1000]"
      ],
      "execution_count": null,
      "outputs": [
        {
          "output_type": "execute_result",
          "data": {
            "application/vnd.google.colaboratory.intrinsic+json": {
              "type": "string"
            },
            "text/plain": [
              "'βοοκ πᾶς τέχνη πᾶς μέθοδος ὅμοιος πρᾶξίς προαίρεσις ἀγαθός ἐφίημι δοκέω. καλός ἀποφαίνω ἀγαθός ἵημι πάντʼ ἐφίημι. διαφορά φαίνω τέλος. εἶμι ἐνέργεια παρʼ ἔργον. εἶμι τέλος πρᾶξις βελτίων φύω ἐνέργεια ἔργον. πολύς πρᾶξις τέχνη ἐπιστήμη πολύς γίγνομαι τέλος. ἰατρικός ὑγίεια ναυπηγικός πλοῖον στρατηγικός νίκη οἰκονομικός πλοῦτος. ὅσος εἶμι μίαν δύναμις ἱππικην χαλινοποιική ὅσος ἱππικός ὄργανον εἶμι πᾶς πολεμικός πρᾶξις στρατηγικός τρόπος ὑφʼ ἕτερος. ἅπας ἀρχιτεκτονικῶν τέλος πᾶς αἱρετός ὑπʼ. χάρις ἐκεῖνος διώκω. διαφέρω ἐνέργεια τέλος πρᾶξις ἐπιστήμη. τέλος πρακτός διʼ βούλομαι πᾶς διʼ ἕτερος αἱρέω ʽπρόεισι γʼ ἄπειρος ὥστʼ κενός μάταιος ὄρεξις δῆλος τοῦτʼ ἐάω ἀγαθός ἄριστον. ἆρʼ βιός γνῶσις μέγας ἔχις ῥοπή τοξότης σκοπός μαλλός τυγχάνω δέον. πειρατέος τύπος περιλαμβάνω ποτʼ ἐπιστήμη δύναμις. δοκέω κύριος ἀρχιτεκτονικῆς. πολιτικός φαίνω. χρεὼν ἐπιστήμη πόλις πόα ἕκαστος μανθάνω διατάσσω. ὁράω ἔντιμος δύναμις οἷος στρατηγικός οἰκονομικην ῥητορικός. λοιπός πρακτικός ἐπιστήμη δεῖ πράσσω ἀπέχω'"
            ]
          },
          "metadata": {
            "tags": []
          },
          "execution_count": 20
        }
      ]
    },
    {
      "cell_type": "code",
      "metadata": {
        "id": "RSFKvJAaRjZd",
        "colab_type": "code",
        "colab": {
          "base_uri": "https://localhost:8080/",
          "height": 34
        },
        "outputId": "4963a887-977b-46b5-a179-ef02edbc016f"
      },
      "source": [
        "file_object = open(\"EN_sentences.txt\",\"w\") \n",
        "file_object.write(EN_sentences)"
      ],
      "execution_count": null,
      "outputs": [
        {
          "output_type": "execute_result",
          "data": {
            "text/plain": [
              "172302"
            ]
          },
          "metadata": {
            "tags": []
          },
          "execution_count": 12
        }
      ]
    },
    {
      "cell_type": "code",
      "metadata": {
        "id": "9vdLFwR7QbsV",
        "colab_type": "code",
        "colab": {}
      },
      "source": [
        "# uncomment the rows below to be ready for file download\n",
        "# from google.colab import files\n",
        "#files.download(\"EN_sentences.txt\")"
      ],
      "execution_count": null,
      "outputs": []
    },
    {
      "cell_type": "code",
      "metadata": {
        "id": "AiSioSHNaRni",
        "colab_type": "code",
        "colab": {
          "base_uri": "https://localhost:8080/",
          "height": 54
        },
        "outputId": "35b12ce2-00c0-443e-db6f-f5c30bd6f416"
      },
      "source": [
        "print(EN_df[\"lemmata\"].tolist()[0][:100])"
      ],
      "execution_count": null,
      "outputs": [
        {
          "output_type": "stream",
          "text": [
            "['βοοκ', 'πᾶς', 'τέχνη', 'πᾶς', 'μέθοδος', 'ὅμοιος', 'πρᾶξίς', 'προαίρεσις', 'ἀγαθός', 'ἐφίημι', 'δοκέω', 'καλός', 'ἀποφαίνω', 'ἀγαθός', 'ἵημι', 'πάντʼ', 'ἐφίημι', 'διαφορά', 'φαίνω', 'τέλος', 'εἶμι', 'ἐνέργεια', 'παρʼ', 'ἔργον', 'εἶμι', 'τέλος', 'πρᾶξις', 'βελτίων', 'φύω', 'ἐνέργεια', 'ἔργον', 'πολύς', 'πρᾶξις', 'τέχνη', 'ἐπιστήμη', 'πολύς', 'γίγνομαι', 'τέλος', 'ἰατρικός', 'ὑγίεια', 'ναυπηγικός', 'πλοῖον', 'στρατηγικός', 'νίκη', 'οἰκονομικός', 'πλοῦτος', 'ὅσος', 'εἶμι', 'μίαν', 'δύναμις', 'ἱππικην', 'χαλινοποιική', 'ὅσος', 'ἱππικός', 'ὄργανον', 'εἶμι', 'πᾶς', 'πολεμικός', 'πρᾶξις', 'στρατηγικός', 'τρόπος', 'ὑφʼ', 'ἕτερος', 'ἅπας', 'ἀρχιτεκτονικῶν', 'τέλος', 'πᾶς', 'αἱρετός', 'ὑπʼ', 'χάρις', 'ἐκεῖνος', 'διώκω', 'διαφέρω', 'ἐνέργεια', 'τέλος', 'πρᾶξις', 'ἐπιστήμη', 'τέλος', 'πρακτός', 'διʼ', 'βούλομαι', 'πᾶς', 'διʼ', 'ἕτερος', 'αἱρέω', 'ʽπρόεισι', 'γʼ', 'ἄπειρος', 'ὥστʼ', 'κενός', 'μάταιος', 'ὄρεξις', 'δῆλος', 'τοῦτʼ', 'ἐάω', 'ἀγαθός', 'ἄριστον', 'ἆρʼ', 'βιός', 'γνῶσις']\n"
          ],
          "name": "stdout"
        }
      ]
    },
    {
      "cell_type": "code",
      "metadata": {
        "id": "UO28XhXpqW7l",
        "colab_type": "code",
        "colab": {}
      },
      "source": [
        "# gr.return_all_unique_lemmata(\"πρᾶξίς\")"
      ],
      "execution_count": null,
      "outputs": []
    },
    {
      "cell_type": "markdown",
      "metadata": {
        "id": "oLFpALzA9DJ-",
        "colab_type": "text"
      },
      "source": [
        "# Key term replacement"
      ]
    },
    {
      "cell_type": "code",
      "metadata": {
        "id": "E9p7LC0vn0Hx",
        "colab_type": "code",
        "colab": {}
      },
      "source": [
        "# manually define key terms we are interested in:\n",
        "keyterm_patterns = [(\"^λ[υ|ύ]π.+\", \"λύπ*\"), (\"^[ἀ|ἄ]λγ.+\", \"ἄλγ*\"), (\"^[ὀ|ὠ]δ[ύ|υ]ν.\", \"ὀδύν*\"), (\"^π[ό|ο]ν[ο|ό|έ|ε|η|ή|ῆ](?!ρ).+\", \"πόνο*\")]"
      ],
      "execution_count": null,
      "outputs": []
    },
    {
      "cell_type": "code",
      "metadata": {
        "id": "RncGvPoshJT1",
        "colab_type": "code",
        "colab": {}
      },
      "source": [
        "### produce a list of all words from the authors\n",
        "### (useful for a preliminary exploration)\n",
        "aristotle_list = []\n",
        "for list_element in c_aristotelicum[\"lemmata\"].tolist():\n",
        "  aristotle_list.extend(list_element)\n",
        "hippocrates_list = []\n",
        "for list_element in c_hippocraticum[\"lemmata\"].tolist():\n",
        "  hippocrates_list.extend(list_element)\n",
        "one_merged_list = aristotle_list + hippocrates_list"
      ],
      "execution_count": null,
      "outputs": []
    },
    {
      "cell_type": "code",
      "metadata": {
        "id": "cgQlB5X09qC1",
        "colab_type": "code",
        "colab": {
          "base_uri": "https://localhost:8080/",
          "height": 504
        },
        "outputId": "2f98274c-bb4e-4e32-b3b5-4681331bdfb5"
      },
      "source": [
        "# unique word forms\n",
        "matches = []\n",
        "for pattern_tuple in keyterm_patterns:\n",
        "  r = re.compile(pattern_tuple[0])\n",
        "  matches.extend([(pattern_tuple[0], pattern_tuple[1], match, aristotle_list.count(match), hippocrates_list.count(match), gr.lemma_translator(match)) for match in list(filter(r.match, list(set(aristotle_list + hippocrates_list))))])\n",
        "matches_df = pd.DataFrame(matches, columns=[\"pattern\", \"replacement\", \"match\", \"c_aristotelicum\", \"c_hippocraticum\", \"translation\"])\n",
        "matches_df"
      ],
      "execution_count": null,
      "outputs": [
        {
          "output_type": "execute_result",
          "data": {
            "text/html": [
              "<div>\n",
              "<style scoped>\n",
              "    .dataframe tbody tr th:only-of-type {\n",
              "        vertical-align: middle;\n",
              "    }\n",
              "\n",
              "    .dataframe tbody tr th {\n",
              "        vertical-align: top;\n",
              "    }\n",
              "\n",
              "    .dataframe thead th {\n",
              "        text-align: right;\n",
              "    }\n",
              "</style>\n",
              "<table border=\"1\" class=\"dataframe\">\n",
              "  <thead>\n",
              "    <tr style=\"text-align: right;\">\n",
              "      <th></th>\n",
              "      <th>pattern</th>\n",
              "      <th>replacement</th>\n",
              "      <th>match</th>\n",
              "      <th>c_aristotelicum</th>\n",
              "      <th>c_hippocraticum</th>\n",
              "      <th>translation</th>\n",
              "    </tr>\n",
              "  </thead>\n",
              "  <tbody>\n",
              "    <tr>\n",
              "      <th>0</th>\n",
              "      <td>^λ[υ|ύ]π.+</td>\n",
              "      <td>λύπ*</td>\n",
              "      <td>λυπρᾷ</td>\n",
              "      <td>1</td>\n",
              "      <td>0</td>\n",
              "      <td></td>\n",
              "    </tr>\n",
              "    <tr>\n",
              "      <th>1</th>\n",
              "      <td>^λ[υ|ύ]π.+</td>\n",
              "      <td>λύπ*</td>\n",
              "      <td>λυπέωσι</td>\n",
              "      <td>0</td>\n",
              "      <td>1</td>\n",
              "      <td></td>\n",
              "    </tr>\n",
              "    <tr>\n",
              "      <th>2</th>\n",
              "      <td>^λ[υ|ύ]π.+</td>\n",
              "      <td>λύπ*</td>\n",
              "      <td>λυπεόντων</td>\n",
              "      <td>0</td>\n",
              "      <td>1</td>\n",
              "      <td></td>\n",
              "    </tr>\n",
              "    <tr>\n",
              "      <th>3</th>\n",
              "      <td>^λ[υ|ύ]π.+</td>\n",
              "      <td>λύπ*</td>\n",
              "      <td>λυπέοντος</td>\n",
              "      <td>0</td>\n",
              "      <td>1</td>\n",
              "      <td></td>\n",
              "    </tr>\n",
              "    <tr>\n",
              "      <th>4</th>\n",
              "      <td>^λ[υ|ύ]π.+</td>\n",
              "      <td>λύπ*</td>\n",
              "      <td>λυπέεται</td>\n",
              "      <td>0</td>\n",
              "      <td>3</td>\n",
              "      <td></td>\n",
              "    </tr>\n",
              "    <tr>\n",
              "      <th>...</th>\n",
              "      <td>...</td>\n",
              "      <td>...</td>\n",
              "      <td>...</td>\n",
              "      <td>...</td>\n",
              "      <td>...</td>\n",
              "      <td>...</td>\n",
              "    </tr>\n",
              "    <tr>\n",
              "      <th>120</th>\n",
              "      <td>^π[ό|ο]ν[ο|ό|έ|ε|η|ή|ῆ](?!ρ).+</td>\n",
              "      <td>πόνο*</td>\n",
              "      <td>πονέουσα</td>\n",
              "      <td>0</td>\n",
              "      <td>2</td>\n",
              "      <td></td>\n",
              "    </tr>\n",
              "    <tr>\n",
              "      <th>121</th>\n",
              "      <td>^π[ό|ο]ν[ο|ό|έ|ε|η|ή|ῆ](?!ρ).+</td>\n",
              "      <td>πόνο*</td>\n",
              "      <td>πονοῦσαι</td>\n",
              "      <td>1</td>\n",
              "      <td>0</td>\n",
              "      <td></td>\n",
              "    </tr>\n",
              "    <tr>\n",
              "      <th>122</th>\n",
              "      <td>^π[ό|ο]ν[ο|ό|έ|ε|η|ή|ῆ](?!ρ).+</td>\n",
              "      <td>πόνο*</td>\n",
              "      <td>πονοῦσί</td>\n",
              "      <td>1</td>\n",
              "      <td>0</td>\n",
              "      <td></td>\n",
              "    </tr>\n",
              "    <tr>\n",
              "      <th>123</th>\n",
              "      <td>^π[ό|ο]ν[ο|ό|έ|ε|η|ή|ῆ](?!ρ).+</td>\n",
              "      <td>πόνο*</td>\n",
              "      <td>πονοῦντιτοῦτό</td>\n",
              "      <td>1</td>\n",
              "      <td>0</td>\n",
              "      <td></td>\n",
              "    </tr>\n",
              "    <tr>\n",
              "      <th>124</th>\n",
              "      <td>^π[ό|ο]ν[ο|ό|έ|ε|η|ή|ῆ](?!ρ).+</td>\n",
              "      <td>πόνο*</td>\n",
              "      <td>πονεόμενον</td>\n",
              "      <td>0</td>\n",
              "      <td>1</td>\n",
              "      <td></td>\n",
              "    </tr>\n",
              "  </tbody>\n",
              "</table>\n",
              "<p>125 rows × 6 columns</p>\n",
              "</div>"
            ],
            "text/plain": [
              "                            pattern replacement  ... c_hippocraticum  translation\n",
              "0                        ^λ[υ|ύ]π.+        λύπ*  ...               0             \n",
              "1                        ^λ[υ|ύ]π.+        λύπ*  ...               1             \n",
              "2                        ^λ[υ|ύ]π.+        λύπ*  ...               1             \n",
              "3                        ^λ[υ|ύ]π.+        λύπ*  ...               1             \n",
              "4                        ^λ[υ|ύ]π.+        λύπ*  ...               3             \n",
              "..                              ...         ...  ...             ...          ...\n",
              "120  ^π[ό|ο]ν[ο|ό|έ|ε|η|ή|ῆ](?!ρ).+       πόνο*  ...               2             \n",
              "121  ^π[ό|ο]ν[ο|ό|έ|ε|η|ή|ῆ](?!ρ).+       πόνο*  ...               0             \n",
              "122  ^π[ό|ο]ν[ο|ό|έ|ε|η|ή|ῆ](?!ρ).+       πόνο*  ...               0             \n",
              "123  ^π[ό|ο]ν[ο|ό|έ|ε|η|ή|ῆ](?!ρ).+       πόνο*  ...               0             \n",
              "124  ^π[ό|ο]ν[ο|ό|έ|ε|η|ή|ῆ](?!ρ).+       πόνο*  ...               1             \n",
              "\n",
              "[125 rows x 6 columns]"
            ]
          },
          "metadata": {
            "tags": []
          },
          "execution_count": 10
        }
      ]
    },
    {
      "cell_type": "code",
      "metadata": {
        "id": "_1mOLs0xstyM",
        "colab_type": "code",
        "colab": {
          "base_uri": "https://localhost:8080/",
          "height": 55
        },
        "outputId": "129de730-5f37-4ae8-f51d-e40c8315a91f"
      },
      "source": [
        "### look at all unique matched words\n",
        "print(matches_df[\"match\"].tolist())"
      ],
      "execution_count": null,
      "outputs": [
        {
          "output_type": "stream",
          "text": [
            "['λυπρᾷ', 'λυπέωσι', 'λυπεόντων', 'λυπέοντος', 'λυπέεται', 'λύπη', 'λυπεῖταί', 'λυπέω', 'λυπηθῆ', 'λυπή', 'λύπαςμεσότης', 'λυπέουσιν', 'λυπεῖταἰ', 'λυπητικός', 'λυπηρός', 'λυποδίαν', 'λυπέουσα', 'λυπέοιτο', 'λύπαςοὐ', 'λυπούμενός', 'λυπέον', 'λυπέονταί', 'λύπημα', 'λυπέῃ', 'λυπέουσαν', 'λυπέοντα', 'λυπηρότερά', 'λυπηθήσοιτʼ', 'ἀλγέῃ', 'ἀλγέωσι', 'ἀλγήσῃ', 'ἀλγέουσιν', 'ἄλγημά', 'ἀλγέοντος', 'ἀλγέουσαν', 'ἀλγέοντα', 'ἀλγεούσῃσι', 'ἀλγέοντι', 'ἀλγηδών', 'ἀλγέειν', 'ἀλγήσωσιν', 'ἀλγέοντάς', 'ἀλγέοιεν', 'ἄλγεσκ', 'ἀλγεινός', 'ἄλγησις', 'ἀλγεῦντα', 'ἀλγεόντων', 'ἀλγεούσης', 'ἀλγέοντας', 'ἀλγέουσι', 'ἀλγεινην', 'ἄλγημα', 'ἄλγος', 'ἄλγλος', 'ἀλγήσαν', 'ἀλγέοντες', 'ἀλγήμασι', 'ἀλγέω', 'ἀλγηδὼν', 'ἀλγέον', 'ὀδύνῃσί', 'ὀδυνῇ', 'ὀδυνώδης', 'ὀδυνέωνται', 'ὀδυνώδεας', 'ὀδυνήματα', 'ὀδυνης', 'ὀδυνώδεα', 'ὀδύνη', 'ὀδυνέων', 'ὀδυνάω', 'ὀδυνημάτων', 'ὀδυνωμένῳ', 'ὀδυνώμενα', 'ὀδυνηθῇ', 'ὀδυνήμασι', 'ὀδυνωμένους', 'ὠδυναμίη', 'ὀδυνῶδες', 'ὀδυνώδεες', 'ὀδυνηρός', 'ὀδύνατον', 'ὀδυνῶνται', 'ὀδυναίτερον', 'πονέοντα', 'πονήματα', 'πονητικά', 'πονοῦσαί', 'πονέεται', 'πονέον', 'πονητέος', 'πόνος', 'πονέσωσιν', 'πονέοντος', 'πονέοντες', 'πονεῖντῆς', 'πονήσειέ', 'πονεομένου', 'πόνοισίν', 'πονήσεται', 'πονεούσης', 'πονέειν', 'πονέωσι', 'πονέω', 'πονεέτω', 'πονέουσαι', 'πονῆται', 'πονέσῃ', 'πονέετόν', 'πονέοντές', 'πονησάσης', 'πονεύμενα', 'πόνοισί', 'πονέῃ', 'πονεῦγται', 'πονέοι', 'πονέεις', 'πονέοντι', 'πονέουσιν', 'πονέουσα', 'πονοῦσαι', 'πονοῦσί', 'πονοῦντιτοῦτό', 'πονεόμενον']\n"
          ],
          "name": "stdout"
        }
      ]
    },
    {
      "cell_type": "code",
      "metadata": {
        "id": "J188PT40plan",
        "colab_type": "code",
        "colab": {}
      },
      "source": [
        "# uncomment the following to export to gsheet: \n",
        "set_with_dataframe(PIA_overview.add_worksheet(\"matches_20200814\", 1, 1), matches_df)"
      ],
      "execution_count": null,
      "outputs": []
    },
    {
      "cell_type": "code",
      "metadata": {
        "id": "oMML0hINSDA1",
        "colab_type": "code",
        "colab": {}
      },
      "source": [
        "# make \n",
        "def replacer_word_list(pattern, product, word_list):\n",
        "  return [re.sub(pattern, product, word) for word in word_list]\n",
        "\n",
        "def replace_keywords(list_of_words, list_of_tuples):\n",
        "  for pattern in list_of_tuples:\n",
        "    list_of_words = replacer_word_list(pattern[0], pattern[1], list_of_words)\n",
        "  return list_of_words"
      ],
      "execution_count": null,
      "outputs": []
    },
    {
      "cell_type": "code",
      "metadata": {
        "id": "TPRPyAqtpJ1T",
        "colab_type": "code",
        "colab": {
          "base_uri": "https://localhost:8080/",
          "height": 53
        },
        "outputId": "97394f26-1a08-46e3-f654-fa9b67f86194"
      },
      "source": [
        "# test 1:\n",
        "testlist = [\"μέλυπρᾷ\", \"λυπρᾷ\"] \n",
        "for word in testlist:\n",
        "  print(re.sub(keyterm_patterns[0][0], keyterm_patterns[0][1], word))"
      ],
      "execution_count": null,
      "outputs": [
        {
          "output_type": "stream",
          "text": [
            "μέλυπρᾷ\n",
            "λύπ*\n"
          ],
          "name": "stdout"
        }
      ]
    },
    {
      "cell_type": "code",
      "metadata": {
        "id": "us9VazWVSC9R",
        "colab_type": "code",
        "colab": {
          "base_uri": "https://localhost:8080/",
          "height": 251
        },
        "outputId": "690badbf-96f2-40ee-a22f-fa2bf7c2642a"
      },
      "source": [
        "### test 2:\n",
        "word_list_test = ['βοοκ', 'πᾶς', 'μέλυπρᾷ', \"ἄλγτέχνη\",'τέχνη' ,'πᾶς', 'μέθοδος', 'ὅμοιος', \"λύπη\",'πρᾶξίς', 'προαίρεσις', 'ἀγαθός', 'ἐφίημι']\n",
        "replace_keywords(word_list_test, keyterm_patterns)"
      ],
      "execution_count": null,
      "outputs": [
        {
          "output_type": "execute_result",
          "data": {
            "text/plain": [
              "['βοοκ',\n",
              " 'πᾶς',\n",
              " 'μέλυπρᾷ',\n",
              " 'ἄλγ*',\n",
              " 'τέχνη',\n",
              " 'πᾶς',\n",
              " 'μέθοδος',\n",
              " 'ὅμοιος',\n",
              " 'λύπ*',\n",
              " 'πρᾶξίς',\n",
              " 'προαίρεσις',\n",
              " 'ἀγαθός',\n",
              " 'ἐφίημι']"
            ]
          },
          "metadata": {
            "tags": []
          },
          "execution_count": 16
        }
      ]
    },
    {
      "cell_type": "code",
      "metadata": {
        "id": "Be_ew0-_xjPU",
        "colab_type": "code",
        "colab": {}
      },
      "source": [
        "# apply the replacement on the level of individual words\n",
        "c_aristotelicum[\"lemmata_repl\"] = c_aristotelicum.apply(lambda row: replace_keywords(row[\"lemmata\"], keyterm_patterns), axis=1)\n",
        "c_hippocraticum[\"lemmata_repl\"] = c_hippocraticum.apply(lambda row: replace_keywords(row[\"lemmata\"], keyterm_patterns), axis=1)"
      ],
      "execution_count": null,
      "outputs": []
    },
    {
      "cell_type": "code",
      "metadata": {
        "id": "2uoGKms35SKS",
        "colab_type": "code",
        "colab": {}
      },
      "source": [
        "# apply the replacement on the sentences\n",
        "def replace_in_sentences(list_of_sentences):\n",
        "  return [replace_keywords(sentence, keyterm_patterns) for sentence in list_of_sentences]\n",
        "c_aristotelicum[\"lemmatized_sentences_repl\"] = c_aristotelicum.apply(lambda row: replace_in_sentences(row[\"lemmatized_sentences\"]), axis=1)\n",
        "c_hippocraticum[\"lemmatized_sentences_repl\"] = c_hippocraticum.apply(lambda row: replace_in_sentences(row[\"lemmatized_sentences\"]), axis=1)"
      ],
      "execution_count": null,
      "outputs": []
    },
    {
      "cell_type": "code",
      "metadata": {
        "id": "8sM9hZk9yvtn",
        "colab_type": "code",
        "colab": {
          "base_uri": "https://localhost:8080/",
          "height": 73
        },
        "outputId": "359d9a6f-44d0-4c8d-964a-0ab742cf08bf"
      },
      "source": [
        "sddk.write_file(\"public_data/PIA/c_aristotelicum_repl.json\", c_aristotelicum, conf)\n",
        "sddk.write_file(\"public_data/PIA/c_hippocraticum_repl.json\", c_hippocraticum, conf)\n"
      ],
      "execution_count": null,
      "outputs": [
        {
          "output_type": "stream",
          "text": [
            "Your <class 'pandas.core.frame.DataFrame'> object has been succefully written as \"https://sciencedata.dk/files/public_data/PIA/c_aristotelicum_repl.json\"\n",
            "Your <class 'pandas.core.frame.DataFrame'> object has been succefully written as \"https://sciencedata.dk/files/public_data/PIA/c_hippocraticum_repl.json\"\n"
          ],
          "name": "stdout"
        }
      ]
    },
    {
      "cell_type": "code",
      "metadata": {
        "id": "uDEG0kdp6s79",
        "colab_type": "code",
        "colab": {}
      },
      "source": [
        ""
      ],
      "execution_count": null,
      "outputs": []
    }
  ]
}