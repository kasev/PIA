{
 "cells": [
  {
   "cell_type": "code",
   "execution_count": 3,
   "metadata": {
    "colab": {
     "base_uri": "https://localhost:8080/",
     "height": 415
    },
    "colab_type": "code",
    "id": "YLcAu3mXJOpL",
    "outputId": "93fa27bc-c5fe-433c-cc4c-109fdd97380e"
   },
   "outputs": [
    {
     "ename": "ModuleNotFoundError",
     "evalue": "No module named 'nltk'",
     "output_type": "error",
     "traceback": [
      "\u001b[0;31m---------------------------------------------------------------------------\u001b[0m",
      "\u001b[0;31mModuleNotFoundError\u001b[0m                       Traceback (most recent call last)",
      "\u001b[0;32m<ipython-input-3-31f1943b17c1>\u001b[0m in \u001b[0;36m<module>\u001b[0;34m\u001b[0m\n\u001b[1;32m     16\u001b[0m \u001b[0;32mimport\u001b[0m \u001b[0mre\u001b[0m\u001b[0;34m\u001b[0m\u001b[0;34m\u001b[0m\u001b[0m\n\u001b[1;32m     17\u001b[0m \u001b[0;34m\u001b[0m\u001b[0m\n\u001b[0;32m---> 18\u001b[0;31m \u001b[0;32mimport\u001b[0m \u001b[0mnltk\u001b[0m\u001b[0;34m\u001b[0m\u001b[0;34m\u001b[0m\u001b[0m\n\u001b[0m\u001b[1;32m     19\u001b[0m \u001b[0;32mfrom\u001b[0m \u001b[0mnltk\u001b[0m\u001b[0;34m.\u001b[0m\u001b[0mcollocations\u001b[0m \u001b[0;32mimport\u001b[0m \u001b[0;34m*\u001b[0m\u001b[0;34m\u001b[0m\u001b[0;34m\u001b[0m\u001b[0m\n\u001b[1;32m     20\u001b[0m \u001b[0;34m\u001b[0m\u001b[0m\n",
      "\u001b[0;31mModuleNotFoundError\u001b[0m: No module named 'nltk'"
     ]
    }
   ],
   "source": [
    "### PREREQUISTIES\n",
    "### (many used only in one notebook...)\n",
    "\n",
    "import os\n",
    "import pandas as pd\n",
    "import numpy as np\n",
    "import logging ### to monitor the code\n",
    "from bs4 import BeautifulSoup\n",
    "import pickle\n",
    "import math\n",
    "import random\n",
    "import sys\n",
    "import csv\n",
    "import unicodedata\n",
    "import requests\n",
    "import re\n",
    "\n",
    "import nltk\n",
    "from nltk.collocations import *\n",
    "\n",
    "import networkx as nx\n",
    "\n",
    "import matplotlib.pyplot as plt\n",
    "import seaborn as sns\n",
    "\n",
    "from scipy import stats\n",
    "\n",
    "import xml.etree.cElementTree as ET\n",
    "from urllib.request import urlopen\n",
    "\n",
    "import gspread\n",
    "from gspread_dataframe import get_as_dataframe, set_with_dataframe\n",
    "from google.colab import auth\n",
    "from oauth2client.client import GoogleCredentials\n",
    "\n",
    "!pip install sddk\n",
    "import sddk"
   ]
  },
  {
   "cell_type": "code",
   "execution_count": null,
   "metadata": {
    "colab": {
     "base_uri": "https://localhost:8080/",
     "height": 127
    },
    "colab_type": "code",
    "id": "W2TxLXhwp_zD",
    "outputId": "a39f89e7-c18c-4fc1-aae8-6cf288fef849"
   },
   "outputs": [
    {
     "name": "stdout",
     "output_type": "stream",
     "text": [
      "Collecting anda\n",
      "\u001b[?25l  Downloading https://files.pythonhosted.org/packages/a4/52/a0bf69e5d1f865b505ac42a4701ea0fbdf2c7f97b0c11acf60d40f286760/anda-0.0.8-py3-none-any.whl (21.3MB)\n",
      "\u001b[K     |████████████████████████████████| 21.3MB 1.4MB/s \n",
      "\u001b[?25hInstalling collected packages: anda\n",
      "Successfully installed anda-0.0.8\n"
     ]
    }
   ],
   "source": [
    "!pip install anda\n",
    "from anda import gr ### the import takes substantial time, since it import a +600MB file containing ancient Greek dictionary"
   ]
  },
  {
   "cell_type": "code",
   "execution_count": null,
   "metadata": {
    "colab": {
     "base_uri": "https://localhost:8080/",
     "height": 71
    },
    "colab_type": "code",
    "id": "Vk65k519TvBW",
    "outputId": "7c100dcf-1b99-4459-aa4e-a992cd5c1738"
   },
   "outputs": [
    {
     "name": "stdout",
     "output_type": "stream",
     "text": [
      "sciencedata.dk username (format '123456@au.dk'): 648597@au.dk\n",
      "sciencedata.dk password: ··········\n",
      "endpoint variable has been configured to: https://sciencedata.dk/files/\n"
     ]
    }
   ],
   "source": [
    "### not neccessary for reading the data, just for exporting them to sciencedata.dk\n",
    "conf = sddk.configure()"
   ]
  },
  {
   "cell_type": "code",
   "execution_count": null,
   "metadata": {
    "colab": {},
    "colab_type": "code",
    "id": "R52NxzfHf8kS"
   },
   "outputs": [],
   "source": [
    "### authorize google sheets\n",
    "auth.authenticate_user()\n",
    "gc = gspread.authorize(GoogleCredentials.get_application_default())\n",
    "# establish connection with particular sheet by its url:\n",
    "\n",
    "PIA_data = gc.open_by_url(\"https://docs.google.com/spreadsheets/d/1KxOx7Be9fj3lDcEPgQhQ-Iqcn9p367-MMD6RMXe8rks/edit?usp=sharing\")\n",
    "PIA_overview = gc.open_by_url(\"https://docs.google.com/spreadsheets/d/1e94wyelg6dftQ4zxbq1xvwxWAI-BhcYXtclDW-YTnrw/edit?usp=sharing\")"
   ]
  },
  {
   "cell_type": "code",
   "execution_count": null,
   "metadata": {
    "colab": {
     "base_uri": "https://localhost:8080/",
     "height": 53
    },
    "colab_type": "code",
    "id": "WgcTdGdG3sdE",
    "outputId": "94afe964-e7bc-4bf0-f3cb-f49edcde58c6"
   },
   "outputs": [
    {
     "name": "stdout",
     "output_type": "stream",
     "text": [
      "this file is located in a public folder\n",
      "this file is located in a public folder\n"
     ]
    }
   ],
   "source": [
    "### our data are located within a publicly available folder on sciencedata.dk\n",
    "publicfolder = \"31b393e2afe1ee96ce81869c7efe18cb\"\n",
    "c_aristotelicum = sddk.read_file(\"c_aristotelicum.json\", \"df\", publicfolder)\n",
    "c_hippocraticum = sddk.read_file(\"c_hippocraticum.json\", \"df\", publicfolder)"
   ]
  },
  {
   "cell_type": "code",
   "execution_count": null,
   "metadata": {
    "colab": {
     "base_uri": "https://localhost:8080/",
     "height": 632
    },
    "colab_type": "code",
    "id": "O24rUTeB7q8M",
    "outputId": "31ca2fd3-619f-4b2e-9853-c59c79c25ea7"
   },
   "outputs": [
    {
     "data": {
      "text/html": [
       "<div>\n",
       "<style scoped>\n",
       "    .dataframe tbody tr th:only-of-type {\n",
       "        vertical-align: middle;\n",
       "    }\n",
       "\n",
       "    .dataframe tbody tr th {\n",
       "        vertical-align: top;\n",
       "    }\n",
       "\n",
       "    .dataframe thead th {\n",
       "        text-align: right;\n",
       "    }\n",
       "</style>\n",
       "<table border=\"1\" class=\"dataframe\">\n",
       "  <thead>\n",
       "    <tr style=\"text-align: right;\">\n",
       "      <th></th>\n",
       "      <th>filename</th>\n",
       "      <th>author</th>\n",
       "      <th>title</th>\n",
       "      <th>string</th>\n",
       "      <th>author_id</th>\n",
       "      <th>doc_id</th>\n",
       "      <th>raw_date</th>\n",
       "      <th>date_avr</th>\n",
       "      <th>date_probs</th>\n",
       "      <th>date_manual</th>\n",
       "      <th>provenience</th>\n",
       "      <th>wordcount</th>\n",
       "      <th>lemmata</th>\n",
       "      <th>lemmatized_sentences</th>\n",
       "      <th>lemmata_wordcount</th>\n",
       "      <th>num_of_sents</th>\n",
       "    </tr>\n",
       "  </thead>\n",
       "  <tbody>\n",
       "    <tr>\n",
       "      <th>678</th>\n",
       "      <td>tlg0086.tlg001.1st1K-grc2.xml</td>\n",
       "      <td>Aristotle</td>\n",
       "      <td>Aristotelis Analytica Priora et Posteriora; Ar...</td>\n",
       "      <td>ΑΝΑΛΥΤΙΚΩΝ ΠΡΟΤΕΡΩΝ Α. Πρῶτον εἰπεῖν περὶ τί κ...</td>\n",
       "      <td>tlg0086</td>\n",
       "      <td>tlg0086.tlg001</td>\n",
       "      <td>4 B.C.</td>\n",
       "      <td>-3.5</td>\n",
       "      <td>{'-3.5': 1}</td>\n",
       "      <td>-3.5</td>\n",
       "      <td>pagan</td>\n",
       "      <td>59772</td>\n",
       "      <td>[αναλυτικων, πρότερος, πρότερος, εἶπον, σκέψις...</td>\n",
       "      <td>[[αναλυτικων, πρότερος], [πρότερος, εἶπον, σκέ...</td>\n",
       "      <td>21150</td>\n",
       "      <td>3645</td>\n",
       "    </tr>\n",
       "    <tr>\n",
       "      <th>679</th>\n",
       "      <td>tlg0086.tlg002.1st1K-grc2.xml</td>\n",
       "      <td>Aristotle</td>\n",
       "      <td>De anima; Aritoteles De anima</td>\n",
       "      <td>ΠEP1 ΨΥΧΗΣ Α Τῶν καλῶν καὶ τιμίων τὴν εἴδησιν ...</td>\n",
       "      <td>tlg0086</td>\n",
       "      <td>tlg0086.tlg002</td>\n",
       "      <td>4 B.C.</td>\n",
       "      <td>-3.5</td>\n",
       "      <td>{'-3.5': 1}</td>\n",
       "      <td>-3.5</td>\n",
       "      <td>pagan</td>\n",
       "      <td>20988</td>\n",
       "      <td>[ψυχή, κᾶλον, τίμιος, εἶδος, μαλλός, ἕτερος, ἕ...</td>\n",
       "      <td>[[ψυχή, κᾶλον, τίμιος, εἶδος, μαλλός, ἕτερος, ...</td>\n",
       "      <td>8893</td>\n",
       "      <td>1306</td>\n",
       "    </tr>\n",
       "    <tr>\n",
       "      <th>681</th>\n",
       "      <td>tlg0086.tlg005.1st1K-grc1.xml</td>\n",
       "      <td>Aristotle</td>\n",
       "      <td>De caelo; Aristoteles De coelo et De generatio...</td>\n",
       "      <td>ΠEPI ΟΥΡΑΝΟΥ A. Ἡ περὶ φύσεως ἐπιστήμη σχεδὸν ...</td>\n",
       "      <td>tlg0086</td>\n",
       "      <td>tlg0086.tlg005</td>\n",
       "      <td>4 B.C.</td>\n",
       "      <td>-3.5</td>\n",
       "      <td>{'-3.5': 1}</td>\n",
       "      <td>-3.5</td>\n",
       "      <td>pagan</td>\n",
       "      <td>31395</td>\n",
       "      <td>[οὐρανός, φύσις, ἐπιστήμη, πλεῖστος, φαίνω, σῶ...</td>\n",
       "      <td>[[οὐρανός], [φύσις, ἐπιστήμη, πλεῖστος, φαίνω,...</td>\n",
       "      <td>12915</td>\n",
       "      <td>1986</td>\n",
       "    </tr>\n",
       "    <tr>\n",
       "      <th>682</th>\n",
       "      <td>tlg0086.tlg006.1st1K-grc1.xml</td>\n",
       "      <td>Aristotle</td>\n",
       "      <td>Categoriae; Aristotelis Opera</td>\n",
       "      <td>ΚΑΤΗΓΟΡΙΑΙ. ὉΜΩΝΥΜΑ λέγεται ὧν ὄνομα μόνον κοι...</td>\n",
       "      <td>tlg0086</td>\n",
       "      <td>tlg0086.tlg006</td>\n",
       "      <td>4 B.C.</td>\n",
       "      <td>-3.5</td>\n",
       "      <td>{'-3.5': 1}</td>\n",
       "      <td>-3.5</td>\n",
       "      <td>pagan</td>\n",
       "      <td>10317</td>\n",
       "      <td>[κατηγορία, ὁμωνυμα, λέγω, ὄνομα, μόνος, κοινό...</td>\n",
       "      <td>[[κατηγορία], [ὁμωνυμα, λέγω, ὄνομα, μόνος, κο...</td>\n",
       "      <td>4372</td>\n",
       "      <td>659</td>\n",
       "    </tr>\n",
       "    <tr>\n",
       "      <th>683</th>\n",
       "      <td>tlg0086.tlg008.1st1K-grc1.xml</td>\n",
       "      <td>Aristotle</td>\n",
       "      <td>De divinatione per somnum; Aristotelis Opera</td>\n",
       "      <td>ΠΕΡΙ ΕΝΥΠΝΙΩΝ ΚΑΙ ΤΗΣ ΚΑΘ’ ΥΠΝΟΝ ΜΑΝΤΙΚΗΣ. Περ...</td>\n",
       "      <td>tlg0086</td>\n",
       "      <td>tlg0086.tlg008</td>\n",
       "      <td>4 B.C.</td>\n",
       "      <td>-3.5</td>\n",
       "      <td>{'-3.5': 1}</td>\n",
       "      <td>-3.5</td>\n",
       "      <td>pagan</td>\n",
       "      <td>1207</td>\n",
       "      <td>[ἐνύπνιον, ἀκή, ἄατος, ὕπνος, μαντικός, μαντικ...</td>\n",
       "      <td>[[ἐνύπνιον, ἀκή, ἄατος, ὕπνος, μαντικός], [μαν...</td>\n",
       "      <td>533</td>\n",
       "      <td>69</td>\n",
       "    </tr>\n",
       "  </tbody>\n",
       "</table>\n",
       "</div>"
      ],
      "text/plain": [
       "                          filename     author  ... lemmata_wordcount num_of_sents\n",
       "678  tlg0086.tlg001.1st1K-grc2.xml  Aristotle  ...             21150         3645\n",
       "679  tlg0086.tlg002.1st1K-grc2.xml  Aristotle  ...              8893         1306\n",
       "681  tlg0086.tlg005.1st1K-grc1.xml  Aristotle  ...             12915         1986\n",
       "682  tlg0086.tlg006.1st1K-grc1.xml  Aristotle  ...              4372          659\n",
       "683  tlg0086.tlg008.1st1K-grc1.xml  Aristotle  ...               533           69\n",
       "\n",
       "[5 rows x 16 columns]"
      ]
     },
     "execution_count": 7,
     "metadata": {
      "tags": []
     },
     "output_type": "execute_result"
    }
   ],
   "source": [
    "# look at first 5 rows\n",
    "c_aristotelicum.head(5)"
   ]
  },
  {
   "cell_type": "markdown",
   "metadata": {
    "colab_type": "text",
    "id": "75BYeQ0g8sac"
   },
   "source": [
    "# Exploring Nicomachean Ethics\n",
    "feel free to skip this section"
   ]
  },
  {
   "cell_type": "code",
   "execution_count": null,
   "metadata": {
    "colab": {
     "base_uri": "https://localhost:8080/",
     "height": 198
    },
    "colab_type": "code",
    "id": "ooP_2VzEoOdB",
    "outputId": "be8781d8-20ea-4be2-fd93-c846a9667172"
   },
   "outputs": [
    {
     "data": {
      "text/html": [
       "<div>\n",
       "<style scoped>\n",
       "    .dataframe tbody tr th:only-of-type {\n",
       "        vertical-align: middle;\n",
       "    }\n",
       "\n",
       "    .dataframe tbody tr th {\n",
       "        vertical-align: top;\n",
       "    }\n",
       "\n",
       "    .dataframe thead th {\n",
       "        text-align: right;\n",
       "    }\n",
       "</style>\n",
       "<table border=\"1\" class=\"dataframe\">\n",
       "  <thead>\n",
       "    <tr style=\"text-align: right;\">\n",
       "      <th></th>\n",
       "      <th>filename</th>\n",
       "      <th>author</th>\n",
       "      <th>title</th>\n",
       "      <th>string</th>\n",
       "      <th>author_id</th>\n",
       "      <th>doc_id</th>\n",
       "      <th>raw_date</th>\n",
       "      <th>date_avr</th>\n",
       "      <th>date_probs</th>\n",
       "      <th>date_manual</th>\n",
       "      <th>provenience</th>\n",
       "      <th>wordcount</th>\n",
       "      <th>lemmata</th>\n",
       "      <th>lemmatized_sentences</th>\n",
       "      <th>lemmata_wordcount</th>\n",
       "      <th>num_of_sents</th>\n",
       "    </tr>\n",
       "  </thead>\n",
       "  <tbody>\n",
       "    <tr>\n",
       "      <th>685</th>\n",
       "      <td>tlg0086.tlg010.perseus-grc1.xml</td>\n",
       "      <td>Aristotle</td>\n",
       "      <td>Nicomachean Ethics; Machine readable text; ed....</td>\n",
       "      <td>βοοκ 1 πᾶσα τέχνη καὶ πᾶσα μέθοδος, ὁμοίως δὲ ...</td>\n",
       "      <td>tlg0086</td>\n",
       "      <td>tlg0086.tlg010</td>\n",
       "      <td>4 B.C.</td>\n",
       "      <td>-3.5</td>\n",
       "      <td>{'-3.5': 1}</td>\n",
       "      <td>-3.5</td>\n",
       "      <td>pagan</td>\n",
       "      <td>56638</td>\n",
       "      <td>[βοοκ, πᾶς, τέχνη, πᾶς, μέθοδος, ὅμοιος, πρᾶξί...</td>\n",
       "      <td>[[βοοκ, πᾶς, τέχνη, πᾶς, μέθοδος, ὅμοιος, πρᾶξ...</td>\n",
       "      <td>23811</td>\n",
       "      <td>3897</td>\n",
       "    </tr>\n",
       "  </tbody>\n",
       "</table>\n",
       "</div>"
      ],
      "text/plain": [
       "                            filename  ... num_of_sents\n",
       "685  tlg0086.tlg010.perseus-grc1.xml  ...         3897\n",
       "\n",
       "[1 rows x 16 columns]"
      ]
     },
     "execution_count": 12,
     "metadata": {
      "tags": []
     },
     "output_type": "execute_result"
    }
   ],
   "source": [
    "EN_df = c_aristotelicum[c_aristotelicum[\"doc_id\"]==\"tlg0086.tlg010\"]\n",
    "EN_df"
   ]
  },
  {
   "cell_type": "code",
   "execution_count": null,
   "metadata": {
    "colab": {
     "base_uri": "https://localhost:8080/",
     "height": 153
    },
    "colab_type": "code",
    "id": "fWm9Jl4OoPBB",
    "outputId": "ac93f2e2-ba09-4d53-818f-d020d3813bee"
   },
   "outputs": [
    {
     "data": {
      "application/vnd.google.colaboratory.intrinsic+json": {
       "type": "string"
      },
      "text/plain": [
       "'βοοκ 1 πᾶσα τέχνη καὶ πᾶσα μέθοδος, ὁμοίως δὲ πρᾶξίς τε καὶ προαίρεσις, ἀγαθοῦ τινὸς ἐφίεσθαι δοκεῖ· διὸ καλῶς ἀπεφήναντο τἀγαθόν, οὗ πάντʼ ἐφίεται. διαφορὰ δέ τις φαίνεται τῶν τελῶν· τὰ μὲν γάρ εἰσιν ἐνέργειαι, τὰ δὲ παρʼ αὐτὰς ἔργα τινά. ὧν δʼ εἰσὶ τέλη τινὰ παρὰ τὰς πράξεις, ἐν τούτοις βελτίω πέφυκε τῶν ἐνεργειῶν τὰ ἔργα. πολλῶν δὲ πράξεων οὐσῶν καὶ τεχνῶν καὶ ἐπιστημῶν πολλὰ γίνεται καὶ τὰ τέλη· ἰατρικῆς μὲν γὰρ ὑγίεια, ναυπηγικῆς δὲ πλοῖον, στρατηγικῆς δὲ νίκη, οἰκονομικῆς δὲ πλοῦτος. ὅσαι δʼ εἰσὶ τῶν τοιούτων ὑπὸ μίαν τινὰ δύναμιν, καθάπερ ὑπὸ τὴν ἱππικὴν χαλινοποιικὴ καὶ ὅσαι ἄλλαι τῶν ἱππικῶν ὀργάνων εἰσίν, αὕτη δὲ καὶ πᾶσα πολεμικὴ πρᾶξις ὑπὸ τὴν στρατηγικήν, κατὰ τὸν αὐτὸν δὴ τρόπον ἄλλαι ὑφʼ ἑτέρας· ἐν ἁπάσαις δὲ τὰ τῶν ἀρχιτεκτονικῶν τέλη πάντων ἐστὶν αἱρετώτερα τῶν ὑπʼ αὐτά· τούτων γὰρ χάριν κἀκεῖνα διώκεται. διαφέρει δʼ οὐδὲν τὰς ἐνεργείας αὐτὰς εἶναι τὰ τέλη τῶν πράξεων ἢ παρὰ ταύτας ἄλλο τι, καθάπερ ἐπὶ τῶν λεχθεισῶν ἐπιστημῶν. εἰ δή τι τέλος ἐστὶ τῶν πρακτῶν ὃ διʼ αὑτὸ'"
      ]
     },
     "execution_count": 13,
     "metadata": {
      "tags": []
     },
     "output_type": "execute_result"
    }
   ],
   "source": [
    "EN_df[\"string\"].tolist()[0][:100]"
   ]
  },
  {
   "cell_type": "code",
   "execution_count": null,
   "metadata": {
    "colab": {
     "base_uri": "https://localhost:8080/",
     "height": 54
    },
    "colab_type": "code",
    "id": "k4kJcoTvoO-F",
    "outputId": "c0e72f07-ab39-4de8-f911-5f8663a33b11"
   },
   "outputs": [
    {
     "name": "stdout",
     "output_type": "stream",
     "text": [
      "[['βοοκ', 'πᾶς', 'τέχνη', 'πᾶς', 'μέθοδος', 'ὅμοιος', 'πρᾶξίς', 'προαίρεσις', 'ἀγαθός', 'ἐφίημι', 'δοκέω'], ['καλός', 'ἀποφαίνω', 'ἀγαθός', 'ἵημι', 'πάντʼ', 'ἐφίημι'], ['διαφορά', 'φαίνω', 'τέλος'], ['εἶμι', 'ἐνέργεια', 'παρʼ', 'ἔργον'], ['εἶμι', 'τέλος', 'πρᾶξις', 'βελτίων', 'φύω', 'ἐνέργεια', 'ἔργον'], ['πολύς', 'πρᾶξις', 'τέχνη', 'ἐπιστήμη', 'πολύς', 'γίγνομαι', 'τέλος'], ['ἰατρικός', 'ὑγίεια', 'ναυπηγικός', 'πλοῖον', 'στρατηγικός', 'νίκη', 'οἰκονομικός', 'πλοῦτος'], ['ὅσος', 'εἶμι', 'μίαν', 'δύναμις', 'ἱππικην', 'χαλινοποιική', 'ὅσος', 'ἱππικός', 'ὄργανον', 'εἶμι', 'πᾶς', 'πολεμικός', 'πρᾶξις', 'στρατηγικός', 'τρόπος', 'ὑφʼ', 'ἕτερος'], ['ἅπας', 'ἀρχιτεκτονικῶν', 'τέλος', 'πᾶς', 'αἱρετός', 'ὑπʼ'], ['χάρις', 'ἐκεῖνος', 'διώκω']]\n"
     ]
    }
   ],
   "source": [
    "print(EN_df[\"lemmatized_sentences\"].tolist()[0][:10])"
   ]
  },
  {
   "cell_type": "code",
   "execution_count": null,
   "metadata": {
    "colab": {
     "base_uri": "https://localhost:8080/",
     "height": 269
    },
    "colab_type": "code",
    "id": "RjW2CTnpRH8D",
    "outputId": "0f734a32-06b9-4c69-c228-85890138d841"
   },
   "outputs": [
    {
     "data": {
      "text/plain": [
       "[['βοοκ',\n",
       "  'πᾶς',\n",
       "  'τέχνη',\n",
       "  'πᾶς',\n",
       "  'μέθοδος',\n",
       "  'ὅμοιος',\n",
       "  'πρᾶξίς',\n",
       "  'προαίρεσις',\n",
       "  'ἀγαθός',\n",
       "  'ἐφίημι',\n",
       "  'δοκέω'],\n",
       " ['καλός', 'ἀποφαίνω', 'ἀγαθός', 'ἵημι', 'πάντʼ', 'ἐφίημι'],\n",
       " ['διαφορά', 'φαίνω', 'τέλος'],\n",
       " ['εἶμι', 'ἐνέργεια', 'παρʼ', 'ἔργον'],\n",
       " ['εἶμι', 'τέλος', 'πρᾶξις', 'βελτίων', 'φύω', 'ἐνέργεια', 'ἔργον']]"
      ]
     },
     "execution_count": 16,
     "metadata": {
      "tags": []
     },
     "output_type": "execute_result"
    }
   ],
   "source": [
    "EN_df[\"lemmatized_sentences\"].tolist()[0][:5]"
   ]
  },
  {
   "cell_type": "code",
   "execution_count": null,
   "metadata": {
    "colab": {
     "base_uri": "https://localhost:8080/",
     "height": 35
    },
    "colab_type": "code",
    "id": "JM6yDODbRWrg",
    "outputId": "0f60aab0-d4be-4c3f-9ca0-5bec5b1a4f08"
   },
   "outputs": [
    {
     "data": {
      "application/vnd.google.colaboratory.intrinsic+json": {
       "type": "string"
      },
      "text/plain": [
       "'βοοκ πᾶς τέχνη πᾶς μέθοδος ὅμοιος πρᾶξίς προαίρεσις ἀγαθός ἐφίημι δοκέω'"
      ]
     },
     "execution_count": 17,
     "metadata": {
      "tags": []
     },
     "output_type": "execute_result"
    }
   ],
   "source": [
    "\" \".join(EN_df[\"lemmatized_sentences\"].tolist()[0][0])"
   ]
  },
  {
   "cell_type": "code",
   "execution_count": null,
   "metadata": {
    "colab": {},
    "colab_type": "code",
    "id": "HjZiVw_4P6Vr"
   },
   "outputs": [],
   "source": [
    "EN_sentences = \"\"\n",
    "for sentence in EN_df[\"lemmatized_sentences\"].tolist()[0]:\n",
    "  EN_sentences = EN_sentences + \" \".join(sentence) + \". \""
   ]
  },
  {
   "cell_type": "code",
   "execution_count": null,
   "metadata": {
    "colab": {
     "base_uri": "https://localhost:8080/",
     "height": 153
    },
    "colab_type": "code",
    "id": "mRKTLDfXRDDh",
    "outputId": "fefe726c-8354-40c7-ec42-740ecb92a38f"
   },
   "outputs": [
    {
     "data": {
      "application/vnd.google.colaboratory.intrinsic+json": {
       "type": "string"
      },
      "text/plain": [
       "'βοοκ πᾶς τέχνη πᾶς μέθοδος ὅμοιος πρᾶξίς προαίρεσις ἀγαθός ἐφίημι δοκέω. καλός ἀποφαίνω ἀγαθός ἵημι πάντʼ ἐφίημι. διαφορά φαίνω τέλος. εἶμι ἐνέργεια παρʼ ἔργον. εἶμι τέλος πρᾶξις βελτίων φύω ἐνέργεια ἔργον. πολύς πρᾶξις τέχνη ἐπιστήμη πολύς γίγνομαι τέλος. ἰατρικός ὑγίεια ναυπηγικός πλοῖον στρατηγικός νίκη οἰκονομικός πλοῦτος. ὅσος εἶμι μίαν δύναμις ἱππικην χαλινοποιική ὅσος ἱππικός ὄργανον εἶμι πᾶς πολεμικός πρᾶξις στρατηγικός τρόπος ὑφʼ ἕτερος. ἅπας ἀρχιτεκτονικῶν τέλος πᾶς αἱρετός ὑπʼ. χάρις ἐκεῖνος διώκω. διαφέρω ἐνέργεια τέλος πρᾶξις ἐπιστήμη. τέλος πρακτός διʼ βούλομαι πᾶς διʼ ἕτερος αἱρέω ʽπρόεισι γʼ ἄπειρος ὥστʼ κενός μάταιος ὄρεξις δῆλος τοῦτʼ ἐάω ἀγαθός ἄριστον. ἆρʼ βιός γνῶσις μέγας ἔχις ῥοπή τοξότης σκοπός μαλλός τυγχάνω δέον. πειρατέος τύπος περιλαμβάνω ποτʼ ἐπιστήμη δύναμις. δοκέω κύριος ἀρχιτεκτονικῆς. πολιτικός φαίνω. χρεὼν ἐπιστήμη πόλις πόα ἕκαστος μανθάνω διατάσσω. ὁράω ἔντιμος δύναμις οἷος στρατηγικός οἰκονομικην ῥητορικός. λοιπός πρακτικός ἐπιστήμη δεῖ πράσσω ἀπέχω'"
      ]
     },
     "execution_count": 20,
     "metadata": {
      "tags": []
     },
     "output_type": "execute_result"
    }
   ],
   "source": [
    "EN_sentences[:1000]"
   ]
  },
  {
   "cell_type": "code",
   "execution_count": null,
   "metadata": {
    "colab": {
     "base_uri": "https://localhost:8080/",
     "height": 34
    },
    "colab_type": "code",
    "id": "RSFKvJAaRjZd",
    "outputId": "4963a887-977b-46b5-a179-ef02edbc016f"
   },
   "outputs": [
    {
     "data": {
      "text/plain": [
       "172302"
      ]
     },
     "execution_count": 12,
     "metadata": {
      "tags": []
     },
     "output_type": "execute_result"
    }
   ],
   "source": [
    "file_object = open(\"EN_sentences.txt\",\"w\") \n",
    "file_object.write(EN_sentences)"
   ]
  },
  {
   "cell_type": "code",
   "execution_count": null,
   "metadata": {
    "colab": {},
    "colab_type": "code",
    "id": "9vdLFwR7QbsV"
   },
   "outputs": [],
   "source": [
    "# uncomment the rows below to be ready for file download\n",
    "# from google.colab import files\n",
    "#files.download(\"EN_sentences.txt\")"
   ]
  },
  {
   "cell_type": "code",
   "execution_count": null,
   "metadata": {
    "colab": {
     "base_uri": "https://localhost:8080/",
     "height": 54
    },
    "colab_type": "code",
    "id": "AiSioSHNaRni",
    "outputId": "35b12ce2-00c0-443e-db6f-f5c30bd6f416"
   },
   "outputs": [
    {
     "name": "stdout",
     "output_type": "stream",
     "text": [
      "['βοοκ', 'πᾶς', 'τέχνη', 'πᾶς', 'μέθοδος', 'ὅμοιος', 'πρᾶξίς', 'προαίρεσις', 'ἀγαθός', 'ἐφίημι', 'δοκέω', 'καλός', 'ἀποφαίνω', 'ἀγαθός', 'ἵημι', 'πάντʼ', 'ἐφίημι', 'διαφορά', 'φαίνω', 'τέλος', 'εἶμι', 'ἐνέργεια', 'παρʼ', 'ἔργον', 'εἶμι', 'τέλος', 'πρᾶξις', 'βελτίων', 'φύω', 'ἐνέργεια', 'ἔργον', 'πολύς', 'πρᾶξις', 'τέχνη', 'ἐπιστήμη', 'πολύς', 'γίγνομαι', 'τέλος', 'ἰατρικός', 'ὑγίεια', 'ναυπηγικός', 'πλοῖον', 'στρατηγικός', 'νίκη', 'οἰκονομικός', 'πλοῦτος', 'ὅσος', 'εἶμι', 'μίαν', 'δύναμις', 'ἱππικην', 'χαλινοποιική', 'ὅσος', 'ἱππικός', 'ὄργανον', 'εἶμι', 'πᾶς', 'πολεμικός', 'πρᾶξις', 'στρατηγικός', 'τρόπος', 'ὑφʼ', 'ἕτερος', 'ἅπας', 'ἀρχιτεκτονικῶν', 'τέλος', 'πᾶς', 'αἱρετός', 'ὑπʼ', 'χάρις', 'ἐκεῖνος', 'διώκω', 'διαφέρω', 'ἐνέργεια', 'τέλος', 'πρᾶξις', 'ἐπιστήμη', 'τέλος', 'πρακτός', 'διʼ', 'βούλομαι', 'πᾶς', 'διʼ', 'ἕτερος', 'αἱρέω', 'ʽπρόεισι', 'γʼ', 'ἄπειρος', 'ὥστʼ', 'κενός', 'μάταιος', 'ὄρεξις', 'δῆλος', 'τοῦτʼ', 'ἐάω', 'ἀγαθός', 'ἄριστον', 'ἆρʼ', 'βιός', 'γνῶσις']\n"
     ]
    }
   ],
   "source": [
    "print(EN_df[\"lemmata\"].tolist()[0][:100])"
   ]
  },
  {
   "cell_type": "code",
   "execution_count": null,
   "metadata": {
    "colab": {},
    "colab_type": "code",
    "id": "UO28XhXpqW7l"
   },
   "outputs": [],
   "source": [
    "# gr.return_all_unique_lemmata(\"πρᾶξίς\")"
   ]
  },
  {
   "cell_type": "markdown",
   "metadata": {
    "colab_type": "text",
    "id": "oLFpALzA9DJ-"
   },
   "source": [
    "# Key term replacement"
   ]
  },
  {
   "cell_type": "code",
   "execution_count": null,
   "metadata": {
    "colab": {},
    "colab_type": "code",
    "id": "E9p7LC0vn0Hx"
   },
   "outputs": [],
   "source": [
    "# manually define key terms we are interested in:\n",
    "keyterm_patterns = [(\"^λ[υ|ύ]π.+\", \"λύπ*\"), (\"^[ἀ|ἄ]λγ.+\", \"ἄλγ*\"), (\"^[ὀ|ὠ]δ[ύ|υ]ν.\", \"ὀδύν*\"), (\"^π[ό|ο]ν[ο|ό|έ|ε|η|ή|ῆ](?!ρ).+\", \"πόνο*\")]"
   ]
  },
  {
   "cell_type": "code",
   "execution_count": null,
   "metadata": {
    "colab": {},
    "colab_type": "code",
    "id": "RncGvPoshJT1"
   },
   "outputs": [],
   "source": [
    "### produce a list of all words from the authors\n",
    "### (useful for a preliminary exploration)\n",
    "aristotle_list = []\n",
    "for list_element in c_aristotelicum[\"lemmata\"].tolist():\n",
    "  aristotle_list.extend(list_element)\n",
    "hippocrates_list = []\n",
    "for list_element in c_hippocraticum[\"lemmata\"].tolist():\n",
    "  hippocrates_list.extend(list_element)\n",
    "one_merged_list = aristotle_list + hippocrates_list"
   ]
  },
  {
   "cell_type": "code",
   "execution_count": null,
   "metadata": {
    "colab": {
     "base_uri": "https://localhost:8080/",
     "height": 504
    },
    "colab_type": "code",
    "id": "cgQlB5X09qC1",
    "outputId": "2f98274c-bb4e-4e32-b3b5-4681331bdfb5"
   },
   "outputs": [
    {
     "data": {
      "text/html": [
       "<div>\n",
       "<style scoped>\n",
       "    .dataframe tbody tr th:only-of-type {\n",
       "        vertical-align: middle;\n",
       "    }\n",
       "\n",
       "    .dataframe tbody tr th {\n",
       "        vertical-align: top;\n",
       "    }\n",
       "\n",
       "    .dataframe thead th {\n",
       "        text-align: right;\n",
       "    }\n",
       "</style>\n",
       "<table border=\"1\" class=\"dataframe\">\n",
       "  <thead>\n",
       "    <tr style=\"text-align: right;\">\n",
       "      <th></th>\n",
       "      <th>pattern</th>\n",
       "      <th>replacement</th>\n",
       "      <th>match</th>\n",
       "      <th>c_aristotelicum</th>\n",
       "      <th>c_hippocraticum</th>\n",
       "      <th>translation</th>\n",
       "    </tr>\n",
       "  </thead>\n",
       "  <tbody>\n",
       "    <tr>\n",
       "      <th>0</th>\n",
       "      <td>^λ[υ|ύ]π.+</td>\n",
       "      <td>λύπ*</td>\n",
       "      <td>λυπρᾷ</td>\n",
       "      <td>1</td>\n",
       "      <td>0</td>\n",
       "      <td></td>\n",
       "    </tr>\n",
       "    <tr>\n",
       "      <th>1</th>\n",
       "      <td>^λ[υ|ύ]π.+</td>\n",
       "      <td>λύπ*</td>\n",
       "      <td>λυπέωσι</td>\n",
       "      <td>0</td>\n",
       "      <td>1</td>\n",
       "      <td></td>\n",
       "    </tr>\n",
       "    <tr>\n",
       "      <th>2</th>\n",
       "      <td>^λ[υ|ύ]π.+</td>\n",
       "      <td>λύπ*</td>\n",
       "      <td>λυπεόντων</td>\n",
       "      <td>0</td>\n",
       "      <td>1</td>\n",
       "      <td></td>\n",
       "    </tr>\n",
       "    <tr>\n",
       "      <th>3</th>\n",
       "      <td>^λ[υ|ύ]π.+</td>\n",
       "      <td>λύπ*</td>\n",
       "      <td>λυπέοντος</td>\n",
       "      <td>0</td>\n",
       "      <td>1</td>\n",
       "      <td></td>\n",
       "    </tr>\n",
       "    <tr>\n",
       "      <th>4</th>\n",
       "      <td>^λ[υ|ύ]π.+</td>\n",
       "      <td>λύπ*</td>\n",
       "      <td>λυπέεται</td>\n",
       "      <td>0</td>\n",
       "      <td>3</td>\n",
       "      <td></td>\n",
       "    </tr>\n",
       "    <tr>\n",
       "      <th>...</th>\n",
       "      <td>...</td>\n",
       "      <td>...</td>\n",
       "      <td>...</td>\n",
       "      <td>...</td>\n",
       "      <td>...</td>\n",
       "      <td>...</td>\n",
       "    </tr>\n",
       "    <tr>\n",
       "      <th>120</th>\n",
       "      <td>^π[ό|ο]ν[ο|ό|έ|ε|η|ή|ῆ](?!ρ).+</td>\n",
       "      <td>πόνο*</td>\n",
       "      <td>πονέουσα</td>\n",
       "      <td>0</td>\n",
       "      <td>2</td>\n",
       "      <td></td>\n",
       "    </tr>\n",
       "    <tr>\n",
       "      <th>121</th>\n",
       "      <td>^π[ό|ο]ν[ο|ό|έ|ε|η|ή|ῆ](?!ρ).+</td>\n",
       "      <td>πόνο*</td>\n",
       "      <td>πονοῦσαι</td>\n",
       "      <td>1</td>\n",
       "      <td>0</td>\n",
       "      <td></td>\n",
       "    </tr>\n",
       "    <tr>\n",
       "      <th>122</th>\n",
       "      <td>^π[ό|ο]ν[ο|ό|έ|ε|η|ή|ῆ](?!ρ).+</td>\n",
       "      <td>πόνο*</td>\n",
       "      <td>πονοῦσί</td>\n",
       "      <td>1</td>\n",
       "      <td>0</td>\n",
       "      <td></td>\n",
       "    </tr>\n",
       "    <tr>\n",
       "      <th>123</th>\n",
       "      <td>^π[ό|ο]ν[ο|ό|έ|ε|η|ή|ῆ](?!ρ).+</td>\n",
       "      <td>πόνο*</td>\n",
       "      <td>πονοῦντιτοῦτό</td>\n",
       "      <td>1</td>\n",
       "      <td>0</td>\n",
       "      <td></td>\n",
       "    </tr>\n",
       "    <tr>\n",
       "      <th>124</th>\n",
       "      <td>^π[ό|ο]ν[ο|ό|έ|ε|η|ή|ῆ](?!ρ).+</td>\n",
       "      <td>πόνο*</td>\n",
       "      <td>πονεόμενον</td>\n",
       "      <td>0</td>\n",
       "      <td>1</td>\n",
       "      <td></td>\n",
       "    </tr>\n",
       "  </tbody>\n",
       "</table>\n",
       "<p>125 rows × 6 columns</p>\n",
       "</div>"
      ],
      "text/plain": [
       "                            pattern replacement  ... c_hippocraticum  translation\n",
       "0                        ^λ[υ|ύ]π.+        λύπ*  ...               0             \n",
       "1                        ^λ[υ|ύ]π.+        λύπ*  ...               1             \n",
       "2                        ^λ[υ|ύ]π.+        λύπ*  ...               1             \n",
       "3                        ^λ[υ|ύ]π.+        λύπ*  ...               1             \n",
       "4                        ^λ[υ|ύ]π.+        λύπ*  ...               3             \n",
       "..                              ...         ...  ...             ...          ...\n",
       "120  ^π[ό|ο]ν[ο|ό|έ|ε|η|ή|ῆ](?!ρ).+       πόνο*  ...               2             \n",
       "121  ^π[ό|ο]ν[ο|ό|έ|ε|η|ή|ῆ](?!ρ).+       πόνο*  ...               0             \n",
       "122  ^π[ό|ο]ν[ο|ό|έ|ε|η|ή|ῆ](?!ρ).+       πόνο*  ...               0             \n",
       "123  ^π[ό|ο]ν[ο|ό|έ|ε|η|ή|ῆ](?!ρ).+       πόνο*  ...               0             \n",
       "124  ^π[ό|ο]ν[ο|ό|έ|ε|η|ή|ῆ](?!ρ).+       πόνο*  ...               1             \n",
       "\n",
       "[125 rows x 6 columns]"
      ]
     },
     "execution_count": 10,
     "metadata": {
      "tags": []
     },
     "output_type": "execute_result"
    }
   ],
   "source": [
    "# unique word forms\n",
    "matches = []\n",
    "for pattern_tuple in keyterm_patterns:\n",
    "  r = re.compile(pattern_tuple[0])\n",
    "  matches.extend([(pattern_tuple[0], pattern_tuple[1], match, aristotle_list.count(match), hippocrates_list.count(match), gr.lemma_translator(match)) for match in list(filter(r.match, list(set(aristotle_list + hippocrates_list))))])\n",
    "matches_df = pd.DataFrame(matches, columns=[\"pattern\", \"replacement\", \"match\", \"c_aristotelicum\", \"c_hippocraticum\", \"translation\"])\n",
    "matches_df"
   ]
  },
  {
   "cell_type": "code",
   "execution_count": null,
   "metadata": {
    "colab": {
     "base_uri": "https://localhost:8080/",
     "height": 55
    },
    "colab_type": "code",
    "id": "_1mOLs0xstyM",
    "outputId": "129de730-5f37-4ae8-f51d-e40c8315a91f"
   },
   "outputs": [
    {
     "name": "stdout",
     "output_type": "stream",
     "text": [
      "['λυπρᾷ', 'λυπέωσι', 'λυπεόντων', 'λυπέοντος', 'λυπέεται', 'λύπη', 'λυπεῖταί', 'λυπέω', 'λυπηθῆ', 'λυπή', 'λύπαςμεσότης', 'λυπέουσιν', 'λυπεῖταἰ', 'λυπητικός', 'λυπηρός', 'λυποδίαν', 'λυπέουσα', 'λυπέοιτο', 'λύπαςοὐ', 'λυπούμενός', 'λυπέον', 'λυπέονταί', 'λύπημα', 'λυπέῃ', 'λυπέουσαν', 'λυπέοντα', 'λυπηρότερά', 'λυπηθήσοιτʼ', 'ἀλγέῃ', 'ἀλγέωσι', 'ἀλγήσῃ', 'ἀλγέουσιν', 'ἄλγημά', 'ἀλγέοντος', 'ἀλγέουσαν', 'ἀλγέοντα', 'ἀλγεούσῃσι', 'ἀλγέοντι', 'ἀλγηδών', 'ἀλγέειν', 'ἀλγήσωσιν', 'ἀλγέοντάς', 'ἀλγέοιεν', 'ἄλγεσκ', 'ἀλγεινός', 'ἄλγησις', 'ἀλγεῦντα', 'ἀλγεόντων', 'ἀλγεούσης', 'ἀλγέοντας', 'ἀλγέουσι', 'ἀλγεινην', 'ἄλγημα', 'ἄλγος', 'ἄλγλος', 'ἀλγήσαν', 'ἀλγέοντες', 'ἀλγήμασι', 'ἀλγέω', 'ἀλγηδὼν', 'ἀλγέον', 'ὀδύνῃσί', 'ὀδυνῇ', 'ὀδυνώδης', 'ὀδυνέωνται', 'ὀδυνώδεας', 'ὀδυνήματα', 'ὀδυνης', 'ὀδυνώδεα', 'ὀδύνη', 'ὀδυνέων', 'ὀδυνάω', 'ὀδυνημάτων', 'ὀδυνωμένῳ', 'ὀδυνώμενα', 'ὀδυνηθῇ', 'ὀδυνήμασι', 'ὀδυνωμένους', 'ὠδυναμίη', 'ὀδυνῶδες', 'ὀδυνώδεες', 'ὀδυνηρός', 'ὀδύνατον', 'ὀδυνῶνται', 'ὀδυναίτερον', 'πονέοντα', 'πονήματα', 'πονητικά', 'πονοῦσαί', 'πονέεται', 'πονέον', 'πονητέος', 'πόνος', 'πονέσωσιν', 'πονέοντος', 'πονέοντες', 'πονεῖντῆς', 'πονήσειέ', 'πονεομένου', 'πόνοισίν', 'πονήσεται', 'πονεούσης', 'πονέειν', 'πονέωσι', 'πονέω', 'πονεέτω', 'πονέουσαι', 'πονῆται', 'πονέσῃ', 'πονέετόν', 'πονέοντές', 'πονησάσης', 'πονεύμενα', 'πόνοισί', 'πονέῃ', 'πονεῦγται', 'πονέοι', 'πονέεις', 'πονέοντι', 'πονέουσιν', 'πονέουσα', 'πονοῦσαι', 'πονοῦσί', 'πονοῦντιτοῦτό', 'πονεόμενον']\n"
     ]
    }
   ],
   "source": [
    "### look at all unique matched words\n",
    "print(matches_df[\"match\"].tolist())"
   ]
  },
  {
   "cell_type": "code",
   "execution_count": null,
   "metadata": {
    "colab": {},
    "colab_type": "code",
    "id": "J188PT40plan"
   },
   "outputs": [],
   "source": [
    "# uncomment the following to export to gsheet: \n",
    "set_with_dataframe(PIA_overview.add_worksheet(\"matches_20200814\", 1, 1), matches_df)"
   ]
  },
  {
   "cell_type": "code",
   "execution_count": null,
   "metadata": {
    "colab": {},
    "colab_type": "code",
    "id": "oMML0hINSDA1"
   },
   "outputs": [],
   "source": [
    "# make \n",
    "def replacer_word_list(pattern, product, word_list):\n",
    "  return [re.sub(pattern, product, word) for word in word_list]\n",
    "\n",
    "def replace_keywords(list_of_words, list_of_tuples):\n",
    "  for pattern in list_of_tuples:\n",
    "    list_of_words = replacer_word_list(pattern[0], pattern[1], list_of_words)\n",
    "  return list_of_words"
   ]
  },
  {
   "cell_type": "code",
   "execution_count": null,
   "metadata": {
    "colab": {
     "base_uri": "https://localhost:8080/",
     "height": 53
    },
    "colab_type": "code",
    "id": "TPRPyAqtpJ1T",
    "outputId": "97394f26-1a08-46e3-f654-fa9b67f86194"
   },
   "outputs": [
    {
     "name": "stdout",
     "output_type": "stream",
     "text": [
      "μέλυπρᾷ\n",
      "λύπ*\n"
     ]
    }
   ],
   "source": [
    "# test 1:\n",
    "testlist = [\"μέλυπρᾷ\", \"λυπρᾷ\"] \n",
    "for word in testlist:\n",
    "  print(re.sub(keyterm_patterns[0][0], keyterm_patterns[0][1], word))"
   ]
  },
  {
   "cell_type": "code",
   "execution_count": null,
   "metadata": {
    "colab": {
     "base_uri": "https://localhost:8080/",
     "height": 251
    },
    "colab_type": "code",
    "id": "us9VazWVSC9R",
    "outputId": "690badbf-96f2-40ee-a22f-fa2bf7c2642a"
   },
   "outputs": [
    {
     "data": {
      "text/plain": [
       "['βοοκ',\n",
       " 'πᾶς',\n",
       " 'μέλυπρᾷ',\n",
       " 'ἄλγ*',\n",
       " 'τέχνη',\n",
       " 'πᾶς',\n",
       " 'μέθοδος',\n",
       " 'ὅμοιος',\n",
       " 'λύπ*',\n",
       " 'πρᾶξίς',\n",
       " 'προαίρεσις',\n",
       " 'ἀγαθός',\n",
       " 'ἐφίημι']"
      ]
     },
     "execution_count": 16,
     "metadata": {
      "tags": []
     },
     "output_type": "execute_result"
    }
   ],
   "source": [
    "### test 2:\n",
    "word_list_test = ['βοοκ', 'πᾶς', 'μέλυπρᾷ', \"ἄλγτέχνη\",'τέχνη' ,'πᾶς', 'μέθοδος', 'ὅμοιος', \"λύπη\",'πρᾶξίς', 'προαίρεσις', 'ἀγαθός', 'ἐφίημι']\n",
    "replace_keywords(word_list_test, keyterm_patterns)"
   ]
  },
  {
   "cell_type": "code",
   "execution_count": null,
   "metadata": {
    "colab": {},
    "colab_type": "code",
    "id": "Be_ew0-_xjPU"
   },
   "outputs": [],
   "source": [
    "# apply the replacement on the level of individual words\n",
    "c_aristotelicum[\"lemmata_repl\"] = c_aristotelicum.apply(lambda row: replace_keywords(row[\"lemmata\"], keyterm_patterns), axis=1)\n",
    "c_hippocraticum[\"lemmata_repl\"] = c_hippocraticum.apply(lambda row: replace_keywords(row[\"lemmata\"], keyterm_patterns), axis=1)"
   ]
  },
  {
   "cell_type": "code",
   "execution_count": null,
   "metadata": {
    "colab": {},
    "colab_type": "code",
    "id": "2uoGKms35SKS"
   },
   "outputs": [],
   "source": [
    "# apply the replacement on the sentences\n",
    "def replace_in_sentences(list_of_sentences):\n",
    "  return [replace_keywords(sentence, keyterm_patterns) for sentence in list_of_sentences]\n",
    "c_aristotelicum[\"lemmatized_sentences_repl\"] = c_aristotelicum.apply(lambda row: replace_in_sentences(row[\"lemmatized_sentences\"]), axis=1)\n",
    "c_hippocraticum[\"lemmatized_sentences_repl\"] = c_hippocraticum.apply(lambda row: replace_in_sentences(row[\"lemmatized_sentences\"]), axis=1)"
   ]
  },
  {
   "cell_type": "code",
   "execution_count": null,
   "metadata": {
    "colab": {
     "base_uri": "https://localhost:8080/",
     "height": 73
    },
    "colab_type": "code",
    "id": "8sM9hZk9yvtn",
    "outputId": "359d9a6f-44d0-4c8d-964a-0ab742cf08bf"
   },
   "outputs": [
    {
     "name": "stdout",
     "output_type": "stream",
     "text": [
      "Your <class 'pandas.core.frame.DataFrame'> object has been succefully written as \"https://sciencedata.dk/files/public_data/PIA/c_aristotelicum_repl.json\"\n",
      "Your <class 'pandas.core.frame.DataFrame'> object has been succefully written as \"https://sciencedata.dk/files/public_data/PIA/c_hippocraticum_repl.json\"\n"
     ]
    }
   ],
   "source": [
    "sddk.write_file(\"public_data/PIA/c_aristotelicum_repl.json\", c_aristotelicum, conf)\n",
    "sddk.write_file(\"public_data/PIA/c_hippocraticum_repl.json\", c_hippocraticum, conf)\n"
   ]
  },
  {
   "cell_type": "code",
   "execution_count": null,
   "metadata": {
    "colab": {},
    "colab_type": "code",
    "id": "uDEG0kdp6s79"
   },
   "outputs": [],
   "source": []
  }
 ],
 "metadata": {
  "colab": {
   "collapsed_sections": [],
   "include_colab_link": true,
   "name": "2_EXPLORATIONS+REPLACEMENTS.ipynb",
   "provenance": []
  },
  "kernelspec": {
   "display_name": "Python 3",
   "language": "python",
   "name": "python3"
  },
  "language_info": {
   "codemirror_mode": {
    "name": "ipython",
    "version": 3
   },
   "file_extension": ".py",
   "mimetype": "text/x-python",
   "name": "python",
   "nbconvert_exporter": "python",
   "pygments_lexer": "ipython3",
   "version": "3.7.8"
  }
 },
 "nbformat": 4,
 "nbformat_minor": 1
}
